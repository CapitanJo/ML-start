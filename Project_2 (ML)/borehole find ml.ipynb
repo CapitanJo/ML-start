{
 "cells": [
  {
   "cell_type": "markdown",
   "metadata": {},
   "source": [
    "# Выбор локации для скважины"
   ]
  },
  {
   "cell_type": "markdown",
   "metadata": {},
   "source": [
    "Допустим, вы работаете в добывающей компании «ГлавРосГосНефть». Нужно решить, где бурить новую скважину.\n",
    "\n",
    "Вам предоставлены пробы нефти в трёх регионах: в каждом 10 000 месторождений, где измерили качество нефти и объём её запасов. Постройте модель машинного обучения, которая поможет определить регион, где добыча принесёт наибольшую прибыль. Проанализируйте возможную прибыль и риски техникой *Bootstrap.*\n",
    "\n",
    "Шаги для выбора локации:\n",
    "\n",
    "- В избранном регионе ищут месторождения, для каждого определяют значения признаков;\n",
    "- Строят модель и оценивают объём запасов;\n",
    "- Выбирают месторождения с самым высокими оценками значений. Количество месторождений зависит от бюджета компании и стоимости разработки одной скважины;\n",
    "- Прибыль равна суммарной прибыли отобранных месторождений."
   ]
  },
  {
   "cell_type": "markdown",
   "metadata": {},
   "source": [
    "## Загрузка и подготовка данных"
   ]
  },
  {
   "cell_type": "code",
   "execution_count": 1,
   "metadata": {},
   "outputs": [],
   "source": [
    "import pandas as pd\n",
    "import matplotlib.pyplot as plt\n",
    "import numpy as np\n",
    "import scipy.stats as st\n",
    "\n",
    "from sklearn.linear_model import LinearRegression\n",
    "from sklearn.model_selection import train_test_split\n",
    "from sklearn.metrics import mean_squared_error\n"
   ]
  },
  {
   "cell_type": "markdown",
   "metadata": {},
   "source": [
    "### Загрузка данных"
   ]
  },
  {
   "cell_type": "code",
   "execution_count": 2,
   "metadata": {},
   "outputs": [
    {
     "name": "stdout",
     "output_type": "stream",
     "text": [
      "      id        f0        f1        f2     product\n",
      "0  txEyH  0.705745 -0.497823  1.221170  105.280062\n",
      "1  2acmU  1.334711 -0.340164  4.365080   73.037750\n",
      "2  409Wp  1.022732  0.151990  1.419926   85.265647\n",
      "3  iJLyR -0.032172  0.139033  2.978566  168.620776\n",
      "4  Xdl7t  1.988431  0.155413  4.751769  154.036647\n",
      "\n",
      "      id         f0         f1        f2     product\n",
      "0  kBEdx -15.001348  -8.276000 -0.005876    3.179103\n",
      "1  62mP7  14.272088  -3.475083  0.999183   26.953261\n",
      "2  vyE1P   6.263187  -5.948386  5.001160  134.766305\n",
      "3  KcrkZ -13.081196 -11.506057  4.999415  137.945408\n",
      "4  AHL4O  12.702195  -8.147433  5.004363  134.766305\n",
      "\n",
      "      id        f0        f1        f2     product\n",
      "0  fwXo0 -1.146987  0.963328 -0.828965   27.758673\n",
      "1  WJtFt  0.262778  0.269839 -2.530187   56.069697\n",
      "2  ovLUW  0.194587  0.289035 -5.586433   62.871910\n",
      "3  q6cA6  2.236060 -0.553760  0.930038  114.572842\n",
      "4  WPMUX -0.515993  1.716266  5.899011  149.600746\n"
     ]
    }
   ],
   "source": [
    "data_0 = pd.read_csv(\"/datasets/geo_data_0.csv\")\n",
    "data_1 = pd.read_csv(\"/datasets/geo_data_1.csv\")\n",
    "data_2 = pd.read_csv(\"/datasets/geo_data_2.csv\")\n",
    "\n",
    "print(data_0.head())\n",
    "print()\n",
    "print(data_1.head())\n",
    "print()\n",
    "print(data_2.head())"
   ]
  },
  {
   "cell_type": "markdown",
   "metadata": {},
   "source": [
    "### Подготовка данных"
   ]
  },
  {
   "cell_type": "code",
   "execution_count": 3,
   "metadata": {},
   "outputs": [
    {
     "name": "stdout",
     "output_type": "stream",
     "text": [
      "<class 'pandas.core.frame.DataFrame'>\n",
      "RangeIndex: 100000 entries, 0 to 99999\n",
      "Data columns (total 5 columns):\n",
      " #   Column   Non-Null Count   Dtype  \n",
      "---  ------   --------------   -----  \n",
      " 0   id       100000 non-null  object \n",
      " 1   f0       100000 non-null  float64\n",
      " 2   f1       100000 non-null  float64\n",
      " 3   f2       100000 non-null  float64\n",
      " 4   product  100000 non-null  float64\n",
      "dtypes: float64(4), object(1)\n",
      "memory usage: 3.8+ MB\n",
      "None\n",
      "\n",
      "<class 'pandas.core.frame.DataFrame'>\n",
      "RangeIndex: 100000 entries, 0 to 99999\n",
      "Data columns (total 5 columns):\n",
      " #   Column   Non-Null Count   Dtype  \n",
      "---  ------   --------------   -----  \n",
      " 0   id       100000 non-null  object \n",
      " 1   f0       100000 non-null  float64\n",
      " 2   f1       100000 non-null  float64\n",
      " 3   f2       100000 non-null  float64\n",
      " 4   product  100000 non-null  float64\n",
      "dtypes: float64(4), object(1)\n",
      "memory usage: 3.8+ MB\n",
      "None\n",
      "\n",
      "<class 'pandas.core.frame.DataFrame'>\n",
      "RangeIndex: 100000 entries, 0 to 99999\n",
      "Data columns (total 5 columns):\n",
      " #   Column   Non-Null Count   Dtype  \n",
      "---  ------   --------------   -----  \n",
      " 0   id       100000 non-null  object \n",
      " 1   f0       100000 non-null  float64\n",
      " 2   f1       100000 non-null  float64\n",
      " 3   f2       100000 non-null  float64\n",
      " 4   product  100000 non-null  float64\n",
      "dtypes: float64(4), object(1)\n",
      "memory usage: 3.8+ MB\n",
      "None\n"
     ]
    }
   ],
   "source": [
    "print(data_0.info())\n",
    "print(  )    \n",
    "print(data_1.info())\n",
    "print( )     \n",
    "print(data_2.info())"
   ]
  },
  {
   "cell_type": "markdown",
   "metadata": {},
   "source": [
    "*На первый взгляд дубликатов и пропусков нет, но лучше проверить себя*"
   ]
  },
  {
   "cell_type": "code",
   "execution_count": 4,
   "metadata": {},
   "outputs": [],
   "source": [
    "#dup check\n",
    "#data_0.duplicated().sum()\n",
    "#data_1.duplicated().sum()\n",
    "#data_2.duplicated().sum()"
   ]
  },
  {
   "cell_type": "code",
   "execution_count": 5,
   "metadata": {},
   "outputs": [],
   "source": [
    "#nul_check\n",
    "#data_0.isnull().sum()\n",
    "#data_1.isnull().sum()\n",
    "#data_2.isnull().sum()\n"
   ]
  },
  {
   "cell_type": "markdown",
   "metadata": {},
   "source": [
    "Перед нами 3 датасета с уникальными значениям. \n",
    "\n",
    "- id — уникальный идентификатор скважины;\n",
    "- f0, f1, f2 — три признака точек (неважно, что они означают, но сами признаки значимы);\n",
    "- product — объём запасов в скважине (тыс. баррелей).\n",
    "\n",
    "Пропусков и явных дубликатов нет,  датасеты предподготовлены к моделированию."
   ]
  },
  {
   "cell_type": "markdown",
   "metadata": {},
   "source": [
    "### Распрределение признаков"
   ]
  },
  {
   "cell_type": "code",
   "execution_count": 6,
   "metadata": {
    "scrolled": false
   },
   "outputs": [
    {
     "data": {
      "image/png": "[encoded data removed]",
      "text/plain": [
       "<Figure size 432x288 with 4 Axes>"
      ]
     },
     "metadata": {
      "needs_background": "light"
     },
     "output_type": "display_data"
    },
    {
     "data": {
      "image/png": "[encoded data removed]",
      "text/plain": [
       "<Figure size 432x288 with 4 Axes>"
      ]
     },
     "metadata": {
      "needs_background": "light"
     },
     "output_type": "display_data"
    },
    {
     "data": {
      "image/png": "[encoded data removed]",
      "text/plain": [
       "<Figure size 432x288 with 4 Axes>"
      ]
     },
     "metadata": {
      "needs_background": "light"
     },
     "output_type": "display_data"
    }
   ],
   "source": [
    "data_0[[\"f0\",\"f1\",\"f2\"]].hist(bins=(100));\n",
    "data_1[[\"f0\",\"f1\",\"f2\"]].hist(bins=(100));\n",
    "data_2[[\"f0\",\"f1\",\"f2\"]].hist(bins=(100));"
   ]
  },
  {
   "cell_type": "markdown",
   "metadata": {},
   "source": [
    "Признаки в 3х датасетах имеют нормальное или близкое к нему распределение, исключением является только f2 в data_1"
   ]
  },
  {
   "cell_type": "markdown",
   "metadata": {},
   "source": [
    "## Обучение и проверка модели"
   ]
  },
  {
   "cell_type": "markdown",
   "metadata": {},
   "source": [
    "Для начала разобьем данные на обучающую ит валидационные выборки \n",
    "\n",
    "Затем построим модель для каждого датасета \n",
    "\n",
    "Получим метрики модели: \n",
    "- Корень из среднеквадратичной ошибки (RMSE)\n",
    "- Среднее значение ископаемого в скважине"
   ]
  },
  {
   "cell_type": "markdown",
   "metadata": {},
   "source": [
    "### data_0 \n"
   ]
  },
  {
   "cell_type": "code",
   "execution_count": 7,
   "metadata": {},
   "outputs": [],
   "source": [
    "features_0 = data_0.drop([\"product\",\"id\"], axis=1)\n",
    "target_0 = data_0[\"product\"]\n",
    "features_train_0, features_valid_0, target_train_0, target_valid_0 = train_test_split(features_0, \n",
    "                                                                                  target_0, \n",
    "                                                                                  test_size=0.25, \n",
    "                                                                                  random_state=1)"
   ]
  },
  {
   "cell_type": "code",
   "execution_count": 8,
   "metadata": {},
   "outputs": [
    {
     "data": {
      "text/plain": [
       "LinearRegression()"
      ]
     },
     "execution_count": 8,
     "metadata": {},
     "output_type": "execute_result"
    }
   ],
   "source": [
    "model_0 = LinearRegression()\n",
    "model_0.fit(features_train_0, target_train_0)"
   ]
  },
  {
   "cell_type": "code",
   "execution_count": 9,
   "metadata": {},
   "outputs": [],
   "source": [
    "predictions_0 = model_0.predict(features_valid_0)\n",
    "predictions_0 = pd.Series(predictions_0)\n",
    "rmse_0 = (mean_squared_error(predictions_0, target_valid_0))**(0.5)\n",
    "mean_0 = sum(predictions_0) / len(predictions_0)"
   ]
  },
  {
   "cell_type": "code",
   "execution_count": 10,
   "metadata": {},
   "outputs": [
    {
     "name": "stdout",
     "output_type": "stream",
     "text": [
      "RMSE для data_0: 37.74\n",
      "Среднее значение ископаемого для data_0: 92.49\n"
     ]
    }
   ],
   "source": [
    "print(\"RMSE для data_0: {0:.2f}\".format(rmse_0))\n",
    "print(\"Среднее значение ископаемого для data_0: {0:.2f}\".format(mean_0))"
   ]
  },
  {
   "cell_type": "markdown",
   "metadata": {},
   "source": [
    "### data_1 "
   ]
  },
  {
   "cell_type": "code",
   "execution_count": 11,
   "metadata": {},
   "outputs": [],
   "source": [
    "features_1 = data_1.drop([\"product\",\"id\"], axis=1)\n",
    "target_1 = data_1[\"product\"]\n",
    "features_train_1, features_valid_1, target_train_1, target_valid_1 = train_test_split(features_1, \n",
    "                                                                                  target_1, \n",
    "                                                                                  test_size=0.25, \n",
    "                                                                                  random_state=1)"
   ]
  },
  {
   "cell_type": "code",
   "execution_count": 12,
   "metadata": {},
   "outputs": [
    {
     "data": {
      "text/plain": [
       "LinearRegression()"
      ]
     },
     "execution_count": 12,
     "metadata": {},
     "output_type": "execute_result"
    }
   ],
   "source": [
    "model_1 = LinearRegression()\n",
    "model_1.fit(features_train_1, target_train_1)"
   ]
  },
  {
   "cell_type": "code",
   "execution_count": 13,
   "metadata": {},
   "outputs": [],
   "source": [
    "predictions_1 = model_1.predict(features_valid_1)\n",
    "predictions_1 = pd.Series(predictions_1)\n",
    "rmse_1 = (mean_squared_error(predictions_1, target_valid_1))**(0.5)\n",
    "mean_1 = sum(predictions_1) / len(predictions_1)"
   ]
  },
  {
   "cell_type": "code",
   "execution_count": 14,
   "metadata": {},
   "outputs": [
    {
     "name": "stdout",
     "output_type": "stream",
     "text": [
      "RMSE для data_1: 0.89\n",
      "Среднее значение ископаемого для data_1: 69.12\n"
     ]
    }
   ],
   "source": [
    "print(\"RMSE для data_1: {0:.2f}\".format(rmse_1))\n",
    "print(\"Среднее значение ископаемого для data_1: {0:.2f}\".format(mean_1))"
   ]
  },
  {
   "cell_type": "markdown",
   "metadata": {},
   "source": [
    "### data_2"
   ]
  },
  {
   "cell_type": "code",
   "execution_count": 15,
   "metadata": {},
   "outputs": [],
   "source": [
    "features_2 = data_2.drop([\"product\",\"id\"], axis=1)\n",
    "target_2 = data_2[\"product\"]\n",
    "features_train_2, features_valid_2, target_train_2, target_valid_2 = train_test_split(features_2, \n",
    "                                                                                  target_2, \n",
    "                                                                                  test_size=0.25, \n",
    "                                                                                  random_state=1)"
   ]
  },
  {
   "cell_type": "code",
   "execution_count": 16,
   "metadata": {},
   "outputs": [
    {
     "data": {
      "text/plain": [
       "LinearRegression()"
      ]
     },
     "execution_count": 16,
     "metadata": {},
     "output_type": "execute_result"
    }
   ],
   "source": [
    "model_2 = LinearRegression()\n",
    "model_2.fit(features_train_2, target_train_2)"
   ]
  },
  {
   "cell_type": "code",
   "execution_count": 17,
   "metadata": {},
   "outputs": [],
   "source": [
    "predictions_2 = model_2.predict(features_valid_2)\n",
    "predictions_2 = pd.Series(predictions_2)\n",
    "rmse_2 = (mean_squared_error(predictions_2, target_valid_2))**(0.5)\n",
    "mean_2 = sum(predictions_2) / len(predictions_2)"
   ]
  },
  {
   "cell_type": "code",
   "execution_count": 18,
   "metadata": {},
   "outputs": [
    {
     "name": "stdout",
     "output_type": "stream",
     "text": [
      "RMSE для data_2: 39.87\n",
      "Среднее значение ископаемого  для data_2: 94.96\n"
     ]
    }
   ],
   "source": [
    "print(\"RMSE для data_2: {0:.2f}\".format(rmse_2))\n",
    "print(\"Среднее значение ископаемого  для data_2: {0:.2f}\".format(mean_2))"
   ]
  },
  {
   "cell_type": "markdown",
   "metadata": {},
   "source": [
    "Сравним значения : "
   ]
  },
  {
   "cell_type": "code",
   "execution_count": 19,
   "metadata": {},
   "outputs": [
    {
     "name": "stdout",
     "output_type": "stream",
     "text": [
      "RMSE для data_0: 37.74\n",
      "RMSE для data_1: 0.89\n",
      "RMSE для data_2: 39.87\n",
      "----------------------------------------------------------\n",
      "Среднее значение ископаемого  для data_0: 92.49\n",
      "Среднее значение ископаемого  для data_1: 69.12\n",
      "Среднее значение ископаемого  для data_2: 94.96\n"
     ]
    }
   ],
   "source": [
    "print(\"RMSE для data_0: {0:.2f}\".format(rmse_0))\n",
    "print(\"RMSE для data_1: {0:.2f}\".format(rmse_1))\n",
    "print(\"RMSE для data_2: {0:.2f}\".format(rmse_2))\n",
    "\n",
    "print(\"----------------------------------------------------------\")\n",
    "print(\"Среднее значение ископаемого  для data_0: {0:.2f}\".format(mean_0))\n",
    "print(\"Среднее значение ископаемого  для data_1: {0:.2f}\".format(mean_1))\n",
    "print(\"Среднее значение ископаемого  для data_2: {0:.2f}\".format(mean_2))"
   ]
  },
  {
   "cell_type": "markdown",
   "metadata": {},
   "source": [
    "Разьяснение показателей: \n",
    "RMSE - Корень из среднеквадратической ошибки, соответственно нас интересует модель с его наименьшим значением \n",
    "\n",
    "data_1 имеет самый низкий RMSE, что говорит нам о том, что она способна лучше всего соответствовать набору данных, однако стоит понимать что распределение всех признаков в data_1 нельзя назвать нормальным, что сказывается на результате.\n",
    "\n",
    "Однако data_1 имеет наихудший показатель предсказанного серднего значения сырья"
   ]
  },
  {
   "cell_type": "markdown",
   "metadata": {},
   "source": [
    "## Подготовка к расчёту прибыли"
   ]
  },
  {
   "cell_type": "markdown",
   "metadata": {},
   "source": [
    "Из тз имеем:\n",
    "\n",
    "Бюджет на разработку скважин в регионе — 10 млрд рублей.\n",
    "\n",
    "При нынешних ценах один баррель сырья приносит 450 рублей дохода. Доход с каждой единицы продукта составляет 450 тыс. рублей, поскольку объём указан в тысячах баррелей.\n",
    "\n",
    "Вносим данные в проект:"
   ]
  },
  {
   "cell_type": "code",
   "execution_count": 20,
   "metadata": {},
   "outputs": [],
   "source": [
    "total_budget = 10**10 \n",
    "barrel_income = 450 * 10**3  "
   ]
  },
  {
   "cell_type": "markdown",
   "metadata": {},
   "source": [
    "Исходя из этих данных можем расчитать точку безубыточности для разработки"
   ]
  },
  {
   "cell_type": "code",
   "execution_count": 21,
   "metadata": {},
   "outputs": [
    {
     "name": "stdout",
     "output_type": "stream",
     "text": [
      "Точка безубыточности: 22222 баррелей\n"
     ]
    }
   ],
   "source": [
    "n = total_budget / barrel_income\n",
    "print(\"Точка безубыточности: {0:.0f} баррелей\".format(n))\n"
   ]
  },
  {
   "cell_type": "code",
   "execution_count": 22,
   "metadata": {},
   "outputs": [
    {
     "name": "stdout",
     "output_type": "stream",
     "text": [
      "Точко безубыточности в обьеме нефти для скажины: 111.11111111111111\n"
     ]
    }
   ],
   "source": [
    "t = n / 200\n",
    "print(\"Точко безубыточности в обьеме нефти для скажины:\",t )"
   ]
  },
  {
   "cell_type": "markdown",
   "metadata": {},
   "source": [
    "- Запас нефти в скважинах ниже точки безубыточности"
   ]
  },
  {
   "cell_type": "markdown",
   "metadata": {},
   "source": [
    "## Расчёт прибыли и рисков "
   ]
  },
  {
   "cell_type": "markdown",
   "metadata": {},
   "source": [
    "Из тз имеем: \n",
    "    \n",
    "При разведке региона исследуют 500 точек, из которых с помощью машинного обучения выбирают 200 лучших для разработки.\n",
    "\n",
    "Соттветственно нам нужно отобрать 200 лучших точек согласно предсказанию для всех датасетов, умножить на доход от каждой единицы соответственно и вычесть из полученного вложенные средства"
   ]
  },
  {
   "cell_type": "code",
   "execution_count": 23,
   "metadata": {},
   "outputs": [],
   "source": [
    "#main_prediction_0 = predictions_0.sort_values(ascending=False)\n",
    "#main_target_0 = target_0[main_prediction_0.index][:200]\n",
    "#revenue_0 = main_target_0.sum() * barrel_income\n",
    "#income_0 = revenue_0 - total_budget"
   ]
  },
  {
   "cell_type": "code",
   "execution_count": 24,
   "metadata": {},
   "outputs": [],
   "source": [
    "#main_prediction_1 = predictions_1.sort_values(ascending=False)\n",
    "#main_target_1 = target_1[main_prediction_1.index][:200]\n",
    "#revenue_1 = main_target_1.sum() * barrel_income\n",
    "#income_1 = revenue_1 - total_budget"
   ]
  },
  {
   "cell_type": "code",
   "execution_count": 25,
   "metadata": {},
   "outputs": [],
   "source": [
    "#main_prediction_2 = predictions_2.sort_values(ascending=False)\n",
    "#main_target_2 = target_2[main_prediction_2.index][:200]\n",
    "#revenue_2 = main_target_2.sum() * barrel_income\n",
    "#income_2 = revenue_2 - total_budget"
   ]
  },
  {
   "cell_type": "code",
   "execution_count": 26,
   "metadata": {},
   "outputs": [],
   "source": [
    "#print(\"Потенциальная прибыль для data_0: {0:.1f}\".format(income_0))\n",
    "#print(\"Потенциальная прибыль для data_1: {0:.1f}\".format(income_1))\n",
    "#print(\"Потенциальная прибыль для data_2: {0:.1f}\".format(income_2))"
   ]
  },
  {
   "cell_type": "code",
   "execution_count": 27,
   "metadata": {},
   "outputs": [],
   "source": [
    "def income(predictions, target):\n",
    "    main_prediction = predictions.sort_values(ascending=False)\n",
    "    main_target = target[main_prediction.index][:200]\n",
    "    revenue = main_target.sum() * barrel_income\n",
    "    return revenue - total_budget"
   ]
  },
  {
   "cell_type": "markdown",
   "metadata": {},
   "source": [
    "\n",
    "Вычислить сложные величины, не прибегая к формулам, поможет техника Bootstrap (англ. «самовытягивание»)"
   ]
  },
  {
   "cell_type": "code",
   "execution_count": 28,
   "metadata": {},
   "outputs": [],
   "source": [
    "state = np.random.RandomState(12345)"
   ]
  },
  {
   "cell_type": "code",
   "execution_count": 33,
   "metadata": {},
   "outputs": [],
   "source": [
    "def risk_find(predictions, target):\n",
    "    revenue = []\n",
    "    \n",
    "    for _ in range(1000):\n",
    "        target_sample = target.sample(n=500, replace=True, random_state=state)\n",
    "        predictions_sample = predictions[target_sample.index]\n",
    "\n",
    "        revenue.append(income(predictions_sample, target_sample))  \n",
    "        \n",
    "    lower = int(np.percentile(revenue, 2.5))\n",
    "    higher = int(np.percentile(revenue, 97.5))\n",
    "    mean_revenue = int(sum(revenue) / len(revenue))\n",
    "    risk = st.percentileofscore(revenue, 0)\n",
    "\n",
    "    return ((lower, higher), mean_revenue, risk)\n"
   ]
  },
  {
   "cell_type": "code",
   "execution_count": 34,
   "metadata": {
    "scrolled": true
   },
   "outputs": [],
   "source": [
    "target_valid_0 = target_valid_0.reset_index(drop=True)\n",
    "target_valid_1 = target_valid_1.reset_index(drop=True)\n",
    "target_valid_2 = target_valid_2.reset_index(drop=True)\n"
   ]
  },
  {
   "cell_type": "code",
   "execution_count": 44,
   "metadata": {},
   "outputs": [
    {
     "name": "stdout",
     "output_type": "stream",
     "text": [
      "Регион 1(data_0) доверительный интервал, средняя прибыль,риск убытков: ((-75287193, 1000212982), 468985838, 4.6000000000000005)\n",
      "Регион 2(data_0) доверительный интервал, средняя прибыль, риск убытков: ((113061541, 961467265), 531439824, 0.2)\n",
      "Регион 3(data_0) доверительный интервал, средняя прибыль, риск убытков: ((-159616325, 950564306), 398206851, 9.200000000000001)\n"
     ]
    }
   ],
   "source": [
    "print('Регион 1(data_0) доверительный интервал, средняя прибыль,риск убытков:', \n",
    "      risk_find(predictions_0, target_valid_0))\n",
    "print('Регион 2(data_0) доверительный интервал, средняя прибыль, риск убытков:', \n",
    "      risk_find(predictions_1, target_valid_1))\n",
    "print('Регион 3(data_0) доверительный интервал, средняя прибыль, риск убытков:', \n",
    "      risk_find(predictions_2, target_valid_2))"
   ]
  },
  {
   "cell_type": "markdown",
   "metadata": {},
   "source": [
    "## Вывод\n",
    "\n",
    "- Ход исследования:\n",
    "\n",
    "1.  В первой части работы я изучил предоставленные данные, провел исследовательский анализ данных, проверил датасеты на наличие пропусков, дупликатов, а также посмотрел на распределения признаков по каждому региону, которые, в большинстве своем, оказались распределены не нормально.\n",
    "2. Построил линейную модель, изучил ее предсказания и показатели \n",
    "3. Далее я выявил ключевые параметры для выявления экономической эффективности региона\n",
    "4. Затем  выполнил процедуру бутстрэпа и поиск 95% доверительный интервала для среднего объема нефти в скважинах. \n",
    "5. Составил рейтинг регионов основываясь на полученных показателях и привел заключение по исследованию\n",
    "\n",
    "- Рейтинг представленных регионов:\n",
    "\n",
    "1. Регион 2 \n",
    "2. Регион 1\n",
    "3. Регион 3\n",
    "\n",
    "\n",
    "\n",
    "- Аналитическое заключение по исследованию:\n",
    "\n",
    "**Наиболее перспективным для разработки представляется регион № 2, поскольку риски убытков наименьшие(более чем в 20 раз от ближайшего показателя в рейтинге - регион №1), а средняя прибыль наибольшая(более 13%  от ближайшего показателя в рейтинге - регион №1).**"
   ]
  },
  {
   "cell_type": "code",
   "execution_count": null,
   "metadata": {},
   "outputs": [],
   "source": []
  }
 ],
 "metadata": {
  "ExecuteTimeLog": [
   {
    "duration": 415,
    "start_time": "2023-03-24T07:39:37.250Z"
   },
   {
    "duration": 1625,
    "start_time": "2023-03-24T07:42:25.895Z"
   },
   {
    "duration": 40,
    "start_time": "2023-03-24T07:44:00.283Z"
   },
   {
    "duration": 421,
    "start_time": "2023-03-24T07:44:01.563Z"
   },
   {
    "duration": 60,
    "start_time": "2023-03-24T07:44:42.114Z"
   },
   {
    "duration": 46,
    "start_time": "2023-03-24T07:44:46.849Z"
   },
   {
    "duration": 123,
    "start_time": "2023-03-24T07:44:53.601Z"
   },
   {
    "duration": 3,
    "start_time": "2023-03-24T07:45:11.769Z"
   },
   {
    "duration": 2,
    "start_time": "2023-03-24T07:45:18.456Z"
   },
   {
    "duration": 75,
    "start_time": "2023-03-24T07:47:12.820Z"
   },
   {
    "duration": 13,
    "start_time": "2023-03-24T07:47:18.307Z"
   },
   {
    "duration": 11,
    "start_time": "2023-03-24T07:47:24.163Z"
   },
   {
    "duration": 10,
    "start_time": "2023-03-24T07:47:34.739Z"
   },
   {
    "duration": 2,
    "start_time": "2023-03-24T07:47:39.395Z"
   },
   {
    "duration": 11,
    "start_time": "2023-03-24T07:47:42.489Z"
   },
   {
    "duration": 2,
    "start_time": "2023-03-24T07:47:45.819Z"
   },
   {
    "duration": 85,
    "start_time": "2023-03-24T07:51:26.731Z"
   },
   {
    "duration": 9,
    "start_time": "2023-03-24T07:51:52.558Z"
   },
   {
    "duration": 10,
    "start_time": "2023-03-24T07:52:01.154Z"
   },
   {
    "duration": 10,
    "start_time": "2023-03-24T07:52:03.768Z"
   },
   {
    "duration": 13,
    "start_time": "2023-03-24T07:52:14.207Z"
   },
   {
    "duration": 17,
    "start_time": "2023-03-24T07:52:19.583Z"
   },
   {
    "duration": 25,
    "start_time": "2023-03-24T07:53:48.783Z"
   },
   {
    "duration": 24,
    "start_time": "2023-03-24T07:53:51.708Z"
   },
   {
    "duration": 22,
    "start_time": "2023-03-24T07:53:58.620Z"
   },
   {
    "duration": 9,
    "start_time": "2023-03-24T07:55:45.448Z"
   },
   {
    "duration": 1420,
    "start_time": "2023-03-24T07:59:06.672Z"
   },
   {
    "duration": 992,
    "start_time": "2023-03-24T07:59:15.087Z"
   },
   {
    "duration": 902,
    "start_time": "2023-03-24T07:59:37.615Z"
   },
   {
    "duration": 97,
    "start_time": "2023-03-24T08:00:14.620Z"
   },
   {
    "duration": 105,
    "start_time": "2023-03-24T08:00:18.890Z"
   },
   {
    "duration": 1132,
    "start_time": "2023-03-24T08:02:31.072Z"
   },
   {
    "duration": 1223,
    "start_time": "2023-03-24T08:02:43.319Z"
   },
   {
    "duration": 1196,
    "start_time": "2023-03-24T08:03:19.949Z"
   },
   {
    "duration": 1462,
    "start_time": "2023-03-24T08:03:24.900Z"
   },
   {
    "duration": 1355,
    "start_time": "2023-03-24T08:03:31.485Z"
   },
   {
    "duration": 1694,
    "start_time": "2023-03-24T08:03:34.597Z"
   },
   {
    "duration": 1976,
    "start_time": "2023-03-24T08:03:43.164Z"
   },
   {
    "duration": 405,
    "start_time": "2023-03-24T08:07:46.579Z"
   },
   {
    "duration": 405,
    "start_time": "2023-03-24T08:07:55.362Z"
   },
   {
    "duration": 17,
    "start_time": "2023-03-24T08:17:08.893Z"
   },
   {
    "duration": 988,
    "start_time": "2023-03-24T08:17:19.557Z"
   },
   {
    "duration": 16,
    "start_time": "2023-03-24T08:17:24.069Z"
   },
   {
    "duration": 77,
    "start_time": "2023-03-24T08:18:53.137Z"
   },
   {
    "duration": 75,
    "start_time": "2023-03-24T08:19:17.135Z"
   },
   {
    "duration": 12,
    "start_time": "2023-03-24T08:19:31.039Z"
   },
   {
    "duration": 13,
    "start_time": "2023-03-24T08:19:45.879Z"
   },
   {
    "duration": 12,
    "start_time": "2023-03-24T08:19:59.318Z"
   },
   {
    "duration": 6,
    "start_time": "2023-03-24T08:20:39.102Z"
   },
   {
    "duration": 6,
    "start_time": "2023-03-24T08:20:45.433Z"
   },
   {
    "duration": 14,
    "start_time": "2023-03-24T08:20:49.860Z"
   },
   {
    "duration": 14,
    "start_time": "2023-03-24T08:20:52.236Z"
   },
   {
    "duration": 12,
    "start_time": "2023-03-24T08:21:56.833Z"
   },
   {
    "duration": 13,
    "start_time": "2023-03-24T08:22:52.128Z"
   },
   {
    "duration": 160,
    "start_time": "2023-03-24T08:23:00.383Z"
   },
   {
    "duration": 15,
    "start_time": "2023-03-24T08:23:01.550Z"
   },
   {
    "duration": 6,
    "start_time": "2023-03-24T08:23:31.366Z"
   },
   {
    "duration": 12,
    "start_time": "2023-03-24T08:23:37.333Z"
   },
   {
    "duration": 22,
    "start_time": "2023-03-24T08:23:37.805Z"
   },
   {
    "duration": 14,
    "start_time": "2023-03-24T08:23:38.446Z"
   },
   {
    "duration": 18,
    "start_time": "2023-03-24T08:23:41.013Z"
   },
   {
    "duration": 14,
    "start_time": "2023-03-24T08:23:41.389Z"
   },
   {
    "duration": 5,
    "start_time": "2023-03-24T08:24:00.965Z"
   },
   {
    "duration": 3,
    "start_time": "2023-03-24T08:24:20.636Z"
   },
   {
    "duration": 13,
    "start_time": "2023-03-24T08:29:42.184Z"
   },
   {
    "duration": 13,
    "start_time": "2023-03-24T08:29:45.330Z"
   },
   {
    "duration": 4,
    "start_time": "2023-03-24T08:29:45.655Z"
   },
   {
    "duration": 18,
    "start_time": "2023-03-24T08:30:50.741Z"
   },
   {
    "duration": 18,
    "start_time": "2023-03-24T08:30:50.916Z"
   },
   {
    "duration": 17,
    "start_time": "2023-03-24T08:30:51.069Z"
   },
   {
    "duration": 4,
    "start_time": "2023-03-24T08:30:51.241Z"
   },
   {
    "duration": 13,
    "start_time": "2023-03-24T08:30:51.484Z"
   },
   {
    "duration": 12,
    "start_time": "2023-03-24T08:30:51.612Z"
   },
   {
    "duration": 21,
    "start_time": "2023-03-24T08:30:51.732Z"
   },
   {
    "duration": 4,
    "start_time": "2023-03-24T08:30:52.740Z"
   },
   {
    "duration": 20,
    "start_time": "2023-03-24T08:32:02.986Z"
   },
   {
    "duration": 18,
    "start_time": "2023-03-24T08:32:03.185Z"
   },
   {
    "duration": 96,
    "start_time": "2023-03-24T08:32:03.352Z"
   },
   {
    "duration": 7,
    "start_time": "2023-03-24T08:32:03.542Z"
   },
   {
    "duration": 14,
    "start_time": "2023-03-24T08:33:03.217Z"
   },
   {
    "duration": 18,
    "start_time": "2023-03-24T08:33:03.407Z"
   },
   {
    "duration": 87,
    "start_time": "2023-03-24T08:33:03.559Z"
   },
   {
    "duration": 7,
    "start_time": "2023-03-24T08:33:03.742Z"
   },
   {
    "duration": 18,
    "start_time": "2023-03-24T08:33:05.353Z"
   },
   {
    "duration": 13,
    "start_time": "2023-03-24T08:33:06.135Z"
   },
   {
    "duration": 14,
    "start_time": "2023-03-24T08:33:06.422Z"
   },
   {
    "duration": 19,
    "start_time": "2023-03-24T08:33:22.183Z"
   },
   {
    "duration": 20,
    "start_time": "2023-03-24T08:33:22.694Z"
   },
   {
    "duration": 21,
    "start_time": "2023-03-24T08:33:22.925Z"
   },
   {
    "duration": 5,
    "start_time": "2023-03-24T08:33:23.422Z"
   },
   {
    "duration": 20,
    "start_time": "2023-03-24T08:34:55.055Z"
   },
   {
    "duration": 6,
    "start_time": "2023-03-24T08:35:04.211Z"
   },
   {
    "duration": 10,
    "start_time": "2023-03-24T08:35:16.642Z"
   },
   {
    "duration": 7,
    "start_time": "2023-03-24T08:36:36.886Z"
   },
   {
    "duration": 5,
    "start_time": "2023-03-24T08:47:33.566Z"
   },
   {
    "duration": 3,
    "start_time": "2023-03-24T08:47:38.605Z"
   },
   {
    "duration": 4,
    "start_time": "2023-03-24T08:47:51.588Z"
   },
   {
    "duration": 4,
    "start_time": "2023-03-24T08:56:19.991Z"
   },
   {
    "duration": 21,
    "start_time": "2023-03-24T08:57:14.534Z"
   },
   {
    "duration": 4,
    "start_time": "2023-03-24T08:57:21.061Z"
   },
   {
    "duration": 12,
    "start_time": "2023-03-24T08:57:36.405Z"
   },
   {
    "duration": 3,
    "start_time": "2023-03-24T08:57:38.604Z"
   },
   {
    "duration": 4,
    "start_time": "2023-03-24T08:57:39.558Z"
   },
   {
    "duration": 3,
    "start_time": "2023-03-24T09:00:18.174Z"
   },
   {
    "duration": 4,
    "start_time": "2023-03-24T09:00:19.102Z"
   },
   {
    "duration": 4,
    "start_time": "2023-03-24T09:01:29.358Z"
   },
   {
    "duration": 3,
    "start_time": "2023-03-24T09:01:32.179Z"
   },
   {
    "duration": 4,
    "start_time": "2023-03-24T09:01:54.754Z"
   },
   {
    "duration": 4,
    "start_time": "2023-03-24T09:02:08.353Z"
   },
   {
    "duration": 6,
    "start_time": "2023-03-24T09:02:26.356Z"
   },
   {
    "duration": 2171,
    "start_time": "2023-03-24T09:02:35.738Z"
   },
   {
    "duration": 12,
    "start_time": "2023-03-24T09:02:37.911Z"
   },
   {
    "duration": 37,
    "start_time": "2023-03-24T09:02:37.925Z"
   },
   {
    "duration": 11,
    "start_time": "2023-03-24T09:02:37.964Z"
   },
   {
    "duration": 73,
    "start_time": "2023-03-24T09:02:37.978Z"
   },
   {
    "duration": 21,
    "start_time": "2023-03-24T09:02:38.140Z"
   },
   {
    "duration": 15,
    "start_time": "2023-03-24T09:02:38.200Z"
   },
   {
    "duration": 22,
    "start_time": "2023-03-24T09:02:38.336Z"
   },
   {
    "duration": 139,
    "start_time": "2023-03-24T09:02:38.452Z"
   },
   {
    "duration": 13,
    "start_time": "2023-03-24T09:02:38.679Z"
   },
   {
    "duration": 14,
    "start_time": "2023-03-24T09:02:38.800Z"
   },
   {
    "duration": 15,
    "start_time": "2023-03-24T09:02:38.919Z"
   },
   {
    "duration": 7,
    "start_time": "2023-03-24T09:02:39.042Z"
   },
   {
    "duration": 6,
    "start_time": "2023-03-24T09:02:39.258Z"
   },
   {
    "duration": 2,
    "start_time": "2023-03-24T09:02:39.711Z"
   },
   {
    "duration": 4,
    "start_time": "2023-03-24T09:02:39.948Z"
   },
   {
    "duration": 5,
    "start_time": "2023-03-24T09:07:57.052Z"
   },
   {
    "duration": 5,
    "start_time": "2023-03-24T09:07:59.354Z"
   },
   {
    "duration": 6,
    "start_time": "2023-03-24T09:08:17.341Z"
   },
   {
    "duration": 4,
    "start_time": "2023-03-24T09:08:17.818Z"
   },
   {
    "duration": 3,
    "start_time": "2023-03-24T09:08:19.355Z"
   },
   {
    "duration": 3,
    "start_time": "2023-03-24T09:08:19.770Z"
   },
   {
    "duration": 3,
    "start_time": "2023-03-24T09:08:21.171Z"
   },
   {
    "duration": 4,
    "start_time": "2023-03-24T09:08:21.603Z"
   },
   {
    "duration": 4,
    "start_time": "2023-03-24T09:08:22.692Z"
   },
   {
    "duration": 4,
    "start_time": "2023-03-24T09:08:23.051Z"
   },
   {
    "duration": 3,
    "start_time": "2023-03-24T09:08:27.052Z"
   },
   {
    "duration": 3,
    "start_time": "2023-03-24T09:08:27.454Z"
   },
   {
    "duration": 4,
    "start_time": "2023-03-24T09:08:28.490Z"
   },
   {
    "duration": 4,
    "start_time": "2023-03-24T09:08:28.874Z"
   },
   {
    "duration": 3,
    "start_time": "2023-03-24T09:08:30.259Z"
   },
   {
    "duration": 4,
    "start_time": "2023-03-24T09:08:31.377Z"
   },
   {
    "duration": 4,
    "start_time": "2023-03-24T09:08:32.754Z"
   },
   {
    "duration": 3,
    "start_time": "2023-03-24T09:08:33.658Z"
   },
   {
    "duration": 3,
    "start_time": "2023-03-24T09:08:34.194Z"
   },
   {
    "duration": 4,
    "start_time": "2023-03-24T09:08:34.425Z"
   },
   {
    "duration": 3,
    "start_time": "2023-03-24T09:08:34.626Z"
   },
   {
    "duration": 4,
    "start_time": "2023-03-24T09:08:34.836Z"
   },
   {
    "duration": 3,
    "start_time": "2023-03-24T09:08:35.610Z"
   },
   {
    "duration": 7,
    "start_time": "2023-03-24T09:08:36.041Z"
   },
   {
    "duration": 3,
    "start_time": "2023-03-24T09:08:37.033Z"
   },
   {
    "duration": 3,
    "start_time": "2023-03-24T09:08:37.690Z"
   },
   {
    "duration": 4,
    "start_time": "2023-03-24T09:08:38.489Z"
   },
   {
    "duration": 3,
    "start_time": "2023-03-24T09:08:38.794Z"
   },
   {
    "duration": 7,
    "start_time": "2023-03-24T09:08:39.051Z"
   },
   {
    "duration": 3,
    "start_time": "2023-03-24T09:08:39.290Z"
   },
   {
    "duration": 3,
    "start_time": "2023-03-24T09:08:39.554Z"
   },
   {
    "duration": 3,
    "start_time": "2023-03-24T09:08:39.793Z"
   },
   {
    "duration": 4,
    "start_time": "2023-03-24T09:08:40.054Z"
   },
   {
    "duration": 3,
    "start_time": "2023-03-24T09:08:40.290Z"
   },
   {
    "duration": 3,
    "start_time": "2023-03-24T09:08:40.554Z"
   },
   {
    "duration": 4,
    "start_time": "2023-03-24T09:08:40.794Z"
   },
   {
    "duration": 4,
    "start_time": "2023-03-24T09:08:41.050Z"
   },
   {
    "duration": 4,
    "start_time": "2023-03-24T09:08:42.030Z"
   },
   {
    "duration": 3,
    "start_time": "2023-03-24T09:08:44.562Z"
   },
   {
    "duration": 3,
    "start_time": "2023-03-24T09:08:45.473Z"
   },
   {
    "duration": 3,
    "start_time": "2023-03-24T09:08:46.161Z"
   },
   {
    "duration": 4,
    "start_time": "2023-03-24T09:08:47.488Z"
   },
   {
    "duration": 4,
    "start_time": "2023-03-24T09:08:47.754Z"
   },
   {
    "duration": 4,
    "start_time": "2023-03-24T09:08:47.961Z"
   },
   {
    "duration": 4,
    "start_time": "2023-03-24T09:08:48.136Z"
   },
   {
    "duration": 3,
    "start_time": "2023-03-24T09:08:48.312Z"
   },
   {
    "duration": 3,
    "start_time": "2023-03-24T09:08:48.497Z"
   },
   {
    "duration": 4,
    "start_time": "2023-03-24T09:08:48.881Z"
   },
   {
    "duration": 4,
    "start_time": "2023-03-24T09:08:49.081Z"
   },
   {
    "duration": 3,
    "start_time": "2023-03-24T09:08:49.256Z"
   },
   {
    "duration": 3,
    "start_time": "2023-03-24T09:08:49.777Z"
   },
   {
    "duration": 3,
    "start_time": "2023-03-24T09:08:52.201Z"
   },
   {
    "duration": 3,
    "start_time": "2023-03-24T09:08:55.634Z"
   },
   {
    "duration": 4,
    "start_time": "2023-03-24T09:08:56.361Z"
   },
   {
    "duration": 3,
    "start_time": "2023-03-24T09:08:56.914Z"
   },
   {
    "duration": 4,
    "start_time": "2023-03-24T09:08:57.369Z"
   },
   {
    "duration": 5,
    "start_time": "2023-03-24T09:08:57.680Z"
   },
   {
    "duration": 3,
    "start_time": "2023-03-24T09:08:58.185Z"
   },
   {
    "duration": 6,
    "start_time": "2023-03-24T09:08:58.905Z"
   },
   {
    "duration": 4,
    "start_time": "2023-03-24T09:08:59.312Z"
   },
   {
    "duration": 4,
    "start_time": "2023-03-24T09:08:59.609Z"
   },
   {
    "duration": 3,
    "start_time": "2023-03-24T09:08:59.920Z"
   },
   {
    "duration": 5,
    "start_time": "2023-03-24T09:09:00.216Z"
   },
   {
    "duration": 4,
    "start_time": "2023-03-24T09:09:00.488Z"
   },
   {
    "duration": 5,
    "start_time": "2023-03-24T09:09:01.241Z"
   },
   {
    "duration": 5,
    "start_time": "2023-03-24T09:09:01.632Z"
   },
   {
    "duration": 4,
    "start_time": "2023-03-24T09:09:01.977Z"
   },
   {
    "duration": 4,
    "start_time": "2023-03-24T09:09:02.321Z"
   },
   {
    "duration": 4,
    "start_time": "2023-03-24T09:09:02.944Z"
   },
   {
    "duration": 3,
    "start_time": "2023-03-24T09:09:07.770Z"
   },
   {
    "duration": 5,
    "start_time": "2023-03-24T09:09:08.441Z"
   },
   {
    "duration": 6,
    "start_time": "2023-03-24T09:09:08.954Z"
   },
   {
    "duration": 4,
    "start_time": "2023-03-24T09:09:09.480Z"
   },
   {
    "duration": 3,
    "start_time": "2023-03-24T09:09:09.953Z"
   },
   {
    "duration": 5,
    "start_time": "2023-03-24T09:09:10.336Z"
   },
   {
    "duration": 4,
    "start_time": "2023-03-24T09:09:10.592Z"
   },
   {
    "duration": 4,
    "start_time": "2023-03-24T09:09:10.832Z"
   },
   {
    "duration": 3,
    "start_time": "2023-03-24T09:09:11.512Z"
   },
   {
    "duration": 3,
    "start_time": "2023-03-24T09:09:11.768Z"
   },
   {
    "duration": 4,
    "start_time": "2023-03-24T09:09:12.049Z"
   },
   {
    "duration": 4,
    "start_time": "2023-03-24T09:11:30.892Z"
   },
   {
    "duration": 13,
    "start_time": "2023-03-24T09:12:58.032Z"
   },
   {
    "duration": 13,
    "start_time": "2023-03-24T09:13:06.232Z"
   },
   {
    "duration": 77,
    "start_time": "2023-03-24T09:13:50.942Z"
   },
   {
    "duration": 11,
    "start_time": "2023-03-24T09:13:51.822Z"
   },
   {
    "duration": 16,
    "start_time": "2023-03-24T09:16:24.295Z"
   },
   {
    "duration": 10,
    "start_time": "2023-03-24T09:16:30.719Z"
   },
   {
    "duration": 8,
    "start_time": "2023-03-24T09:17:20.966Z"
   },
   {
    "duration": 10,
    "start_time": "2023-03-24T09:18:52.162Z"
   },
   {
    "duration": 10,
    "start_time": "2023-03-24T09:18:59.818Z"
   },
   {
    "duration": 10,
    "start_time": "2023-03-24T09:19:05.930Z"
   },
   {
    "duration": 10,
    "start_time": "2023-03-24T09:19:11.233Z"
   },
   {
    "duration": 19,
    "start_time": "2023-03-24T09:19:21.393Z"
   },
   {
    "duration": 9,
    "start_time": "2023-03-24T09:19:23.905Z"
   },
   {
    "duration": 10,
    "start_time": "2023-03-24T09:19:27.832Z"
   },
   {
    "duration": 17,
    "start_time": "2023-03-24T09:19:35.185Z"
   },
   {
    "duration": 15,
    "start_time": "2023-03-24T09:19:37.257Z"
   },
   {
    "duration": 11,
    "start_time": "2023-03-24T09:19:38.936Z"
   },
   {
    "duration": 9,
    "start_time": "2023-03-24T09:19:48.335Z"
   },
   {
    "duration": 10,
    "start_time": "2023-03-24T09:20:22.471Z"
   },
   {
    "duration": 8,
    "start_time": "2023-03-24T09:21:02.894Z"
   },
   {
    "duration": 9,
    "start_time": "2023-03-24T09:21:03.228Z"
   },
   {
    "duration": 9,
    "start_time": "2023-03-24T09:21:03.613Z"
   },
   {
    "duration": 4,
    "start_time": "2023-03-24T09:21:04.189Z"
   },
   {
    "duration": 3,
    "start_time": "2023-03-24T09:26:15.474Z"
   },
   {
    "duration": 1372,
    "start_time": "2023-03-24T09:26:22.501Z"
   },
   {
    "duration": 426,
    "start_time": "2023-03-24T09:26:23.875Z"
   },
   {
    "duration": 49,
    "start_time": "2023-03-24T09:26:24.303Z"
   },
   {
    "duration": 2,
    "start_time": "2023-03-24T09:26:24.354Z"
   },
   {
    "duration": 5,
    "start_time": "2023-03-24T09:26:24.357Z"
   },
   {
    "duration": 2019,
    "start_time": "2023-03-24T09:26:24.364Z"
   },
   {
    "duration": 15,
    "start_time": "2023-03-24T09:26:26.384Z"
   },
   {
    "duration": 14,
    "start_time": "2023-03-24T09:26:26.401Z"
   },
   {
    "duration": 125,
    "start_time": "2023-03-24T09:26:26.416Z"
   },
   {
    "duration": 94,
    "start_time": "2023-03-24T09:26:26.546Z"
   },
   {
    "duration": 15,
    "start_time": "2023-03-24T09:26:26.643Z"
   },
   {
    "duration": 13,
    "start_time": "2023-03-24T09:26:26.660Z"
   },
   {
    "duration": 68,
    "start_time": "2023-03-24T09:26:26.674Z"
   },
   {
    "duration": 100,
    "start_time": "2023-03-24T09:26:26.744Z"
   },
   {
    "duration": 0,
    "start_time": "2023-03-24T09:26:26.845Z"
   },
   {
    "duration": 0,
    "start_time": "2023-03-24T09:26:26.847Z"
   },
   {
    "duration": 0,
    "start_time": "2023-03-24T09:26:26.848Z"
   },
   {
    "duration": 0,
    "start_time": "2023-03-24T09:26:26.849Z"
   },
   {
    "duration": 0,
    "start_time": "2023-03-24T09:26:26.850Z"
   },
   {
    "duration": 0,
    "start_time": "2023-03-24T09:26:26.851Z"
   },
   {
    "duration": 0,
    "start_time": "2023-03-24T09:26:26.852Z"
   },
   {
    "duration": 0,
    "start_time": "2023-03-24T09:26:26.853Z"
   },
   {
    "duration": 0,
    "start_time": "2023-03-24T09:26:26.854Z"
   },
   {
    "duration": 0,
    "start_time": "2023-03-24T09:26:26.856Z"
   },
   {
    "duration": 0,
    "start_time": "2023-03-24T09:26:26.856Z"
   },
   {
    "duration": 1434,
    "start_time": "2023-03-24T09:26:45.446Z"
   },
   {
    "duration": 426,
    "start_time": "2023-03-24T09:26:46.882Z"
   },
   {
    "duration": 51,
    "start_time": "2023-03-24T09:26:47.310Z"
   },
   {
    "duration": 2,
    "start_time": "2023-03-24T09:26:47.364Z"
   },
   {
    "duration": 14,
    "start_time": "2023-03-24T09:26:47.368Z"
   },
   {
    "duration": 2065,
    "start_time": "2023-03-24T09:26:47.384Z"
   },
   {
    "duration": 15,
    "start_time": "2023-03-24T09:26:49.450Z"
   },
   {
    "duration": 15,
    "start_time": "2023-03-24T09:26:49.467Z"
   },
   {
    "duration": 63,
    "start_time": "2023-03-24T09:26:49.484Z"
   },
   {
    "duration": 93,
    "start_time": "2023-03-24T09:26:49.551Z"
   },
   {
    "duration": 28,
    "start_time": "2023-03-24T09:26:49.645Z"
   },
   {
    "duration": 13,
    "start_time": "2023-03-24T09:26:49.675Z"
   },
   {
    "duration": 56,
    "start_time": "2023-03-24T09:26:49.690Z"
   },
   {
    "duration": 95,
    "start_time": "2023-03-24T09:26:49.748Z"
   },
   {
    "duration": 14,
    "start_time": "2023-03-24T09:26:49.845Z"
   },
   {
    "duration": 15,
    "start_time": "2023-03-24T09:26:49.861Z"
   },
   {
    "duration": 63,
    "start_time": "2023-03-24T09:26:49.878Z"
   },
   {
    "duration": 5,
    "start_time": "2023-03-24T09:26:49.944Z"
   },
   {
    "duration": 96,
    "start_time": "2023-03-24T09:26:49.952Z"
   },
   {
    "duration": 32,
    "start_time": "2023-03-24T09:26:50.049Z"
   },
   {
    "duration": 10,
    "start_time": "2023-03-24T09:26:50.083Z"
   },
   {
    "duration": 14,
    "start_time": "2023-03-24T09:26:50.094Z"
   },
   {
    "duration": 15,
    "start_time": "2023-03-24T09:26:50.110Z"
   },
   {
    "duration": 22,
    "start_time": "2023-03-24T09:26:50.126Z"
   },
   {
    "duration": 4,
    "start_time": "2023-03-24T09:26:50.149Z"
   },
   {
    "duration": 184,
    "start_time": "2023-03-24T09:28:00.078Z"
   },
   {
    "duration": 8,
    "start_time": "2023-03-24T09:28:05.503Z"
   },
   {
    "duration": 11,
    "start_time": "2023-03-24T09:35:36.045Z"
   },
   {
    "duration": 11,
    "start_time": "2023-03-24T09:35:42.707Z"
   },
   {
    "duration": 3,
    "start_time": "2023-03-24T09:35:47.115Z"
   },
   {
    "duration": 870,
    "start_time": "2023-03-24T09:35:47.546Z"
   },
   {
    "duration": 982,
    "start_time": "2023-03-24T09:36:10.438Z"
   },
   {
    "duration": 21519,
    "start_time": "2023-03-24T09:36:43.130Z"
   },
   {
    "duration": 0,
    "start_time": "2023-03-24T09:38:32.513Z"
   },
   {
    "duration": 21066,
    "start_time": "2023-03-24T09:38:37.556Z"
   },
   {
    "duration": 21013,
    "start_time": "2023-03-24T09:40:04.881Z"
   },
   {
    "duration": 21482,
    "start_time": "2023-03-24T09:42:19.004Z"
   },
   {
    "duration": 13,
    "start_time": "2023-03-24T09:44:29.424Z"
   },
   {
    "duration": 18,
    "start_time": "2023-03-24T09:45:10.878Z"
   },
   {
    "duration": 17,
    "start_time": "2023-03-24T09:46:22.084Z"
   },
   {
    "duration": 12,
    "start_time": "2023-03-24T09:47:13.584Z"
   },
   {
    "duration": 17,
    "start_time": "2023-03-24T09:47:25.199Z"
   },
   {
    "duration": 14,
    "start_time": "2023-03-24T09:47:41.687Z"
   },
   {
    "duration": 17,
    "start_time": "2023-03-24T09:47:59.471Z"
   },
   {
    "duration": 15,
    "start_time": "2023-03-24T09:48:24.023Z"
   },
   {
    "duration": 15,
    "start_time": "2023-03-24T09:49:19.628Z"
   },
   {
    "duration": 4188,
    "start_time": "2023-03-25T04:45:14.960Z"
   },
   {
    "duration": 411,
    "start_time": "2023-03-25T04:45:19.150Z"
   },
   {
    "duration": 41,
    "start_time": "2023-03-25T04:45:19.565Z"
   },
   {
    "duration": 3,
    "start_time": "2023-03-25T04:45:19.608Z"
   },
   {
    "duration": 10,
    "start_time": "2023-03-25T04:45:19.613Z"
   },
   {
    "duration": 2182,
    "start_time": "2023-03-25T04:45:19.625Z"
   },
   {
    "duration": 19,
    "start_time": "2023-03-25T04:45:21.809Z"
   },
   {
    "duration": 22,
    "start_time": "2023-03-25T04:45:21.841Z"
   },
   {
    "duration": 14,
    "start_time": "2023-03-25T04:45:21.865Z"
   },
   {
    "duration": 180,
    "start_time": "2023-03-25T04:45:21.881Z"
   },
   {
    "duration": 17,
    "start_time": "2023-03-25T04:45:22.063Z"
   },
   {
    "duration": 15,
    "start_time": "2023-03-25T04:45:22.081Z"
   },
   {
    "duration": 8,
    "start_time": "2023-03-25T04:45:22.098Z"
   },
   {
    "duration": 113,
    "start_time": "2023-03-25T04:45:22.153Z"
   },
   {
    "duration": 48,
    "start_time": "2023-03-25T04:45:22.268Z"
   },
   {
    "duration": 22,
    "start_time": "2023-03-25T04:45:22.318Z"
   },
   {
    "duration": 26,
    "start_time": "2023-03-25T04:45:22.341Z"
   },
   {
    "duration": 201,
    "start_time": "2023-03-25T04:45:22.369Z"
   },
   {
    "duration": 15,
    "start_time": "2023-03-25T04:45:22.572Z"
   },
   {
    "duration": 6,
    "start_time": "2023-03-25T04:45:22.589Z"
   },
   {
    "duration": 6,
    "start_time": "2023-03-25T04:45:22.597Z"
   },
   {
    "duration": 11,
    "start_time": "2023-03-25T04:45:22.605Z"
   },
   {
    "duration": 7,
    "start_time": "2023-03-25T04:45:22.618Z"
   },
   {
    "duration": 28,
    "start_time": "2023-03-25T04:45:22.627Z"
   },
   {
    "duration": 17,
    "start_time": "2023-03-25T04:45:22.660Z"
   },
   {
    "duration": 7,
    "start_time": "2023-03-25T04:45:22.679Z"
   },
   {
    "duration": 125,
    "start_time": "2023-03-25T04:45:22.688Z"
   },
   {
    "duration": 8,
    "start_time": "2023-03-25T04:47:14.076Z"
   },
   {
    "duration": 6,
    "start_time": "2023-03-25T04:47:18.797Z"
   },
   {
    "duration": 7,
    "start_time": "2023-03-25T04:47:22.864Z"
   },
   {
    "duration": 6,
    "start_time": "2023-03-25T04:47:27.988Z"
   },
   {
    "duration": 5,
    "start_time": "2023-03-25T04:49:40.079Z"
   },
   {
    "duration": 7,
    "start_time": "2023-03-25T04:50:22.039Z"
   },
   {
    "duration": 6,
    "start_time": "2023-03-25T04:50:35.659Z"
   },
   {
    "duration": 6,
    "start_time": "2023-03-25T04:50:40.909Z"
   },
   {
    "duration": 18,
    "start_time": "2023-03-25T04:53:23.232Z"
   },
   {
    "duration": 67,
    "start_time": "2023-03-25T09:11:52.162Z"
   },
   {
    "duration": 84,
    "start_time": "2023-03-26T08:34:12.962Z"
   },
   {
    "duration": 1727,
    "start_time": "2023-03-26T08:36:02.039Z"
   },
   {
    "duration": 1847,
    "start_time": "2023-03-26T08:36:03.768Z"
   },
   {
    "duration": 43,
    "start_time": "2023-03-26T08:36:05.616Z"
   },
   {
    "duration": 3,
    "start_time": "2023-03-26T08:36:05.661Z"
   },
   {
    "duration": 10,
    "start_time": "2023-03-26T08:36:05.666Z"
   },
   {
    "duration": 2072,
    "start_time": "2023-03-26T08:36:05.677Z"
   },
   {
    "duration": 17,
    "start_time": "2023-03-26T08:36:07.751Z"
   },
   {
    "duration": 14,
    "start_time": "2023-03-26T08:36:07.770Z"
   },
   {
    "duration": 56,
    "start_time": "2023-03-26T08:36:07.786Z"
   },
   {
    "duration": 87,
    "start_time": "2023-03-26T08:36:07.847Z"
   },
   {
    "duration": 89,
    "start_time": "2023-03-26T08:36:07.935Z"
   },
   {
    "duration": 14,
    "start_time": "2023-03-26T08:36:08.036Z"
   },
   {
    "duration": 77,
    "start_time": "2023-03-26T08:36:08.052Z"
   },
   {
    "duration": 7,
    "start_time": "2023-03-26T08:36:08.136Z"
   },
   {
    "duration": 92,
    "start_time": "2023-03-26T08:36:08.146Z"
   },
   {
    "duration": 17,
    "start_time": "2023-03-26T08:36:08.239Z"
   },
   {
    "duration": 72,
    "start_time": "2023-03-26T08:36:08.258Z"
   },
   {
    "duration": 4,
    "start_time": "2023-03-26T08:36:08.333Z"
   },
   {
    "duration": 104,
    "start_time": "2023-03-26T08:36:08.339Z"
   },
   {
    "duration": 4,
    "start_time": "2023-03-26T08:36:08.445Z"
   },
   {
    "duration": 5,
    "start_time": "2023-03-26T08:36:08.451Z"
   },
   {
    "duration": 9,
    "start_time": "2023-03-26T08:36:08.458Z"
   },
   {
    "duration": 10,
    "start_time": "2023-03-26T08:36:08.469Z"
   },
   {
    "duration": 15,
    "start_time": "2023-03-26T08:36:08.481Z"
   },
   {
    "duration": 19,
    "start_time": "2023-03-26T08:36:08.498Z"
   },
   {
    "duration": 19,
    "start_time": "2023-03-26T08:36:08.522Z"
   },
   {
    "duration": 172,
    "start_time": "2023-03-26T08:36:08.543Z"
   },
   {
    "duration": 10,
    "start_time": "2023-03-26T08:37:42.592Z"
   },
   {
    "duration": 109,
    "start_time": "2023-03-26T08:38:09.183Z"
   },
   {
    "duration": 79,
    "start_time": "2023-03-26T08:38:56.694Z"
   },
   {
    "duration": 117,
    "start_time": "2023-03-26T08:39:01.156Z"
   },
   {
    "duration": 9,
    "start_time": "2023-03-26T08:39:17.725Z"
   },
   {
    "duration": 4,
    "start_time": "2023-03-26T08:39:23.315Z"
   },
   {
    "duration": 11,
    "start_time": "2023-03-26T08:39:24.290Z"
   },
   {
    "duration": 80,
    "start_time": "2023-03-26T08:39:33.619Z"
   },
   {
    "duration": 3,
    "start_time": "2023-03-26T08:39:35.635Z"
   },
   {
    "duration": 78,
    "start_time": "2023-03-26T08:40:01.380Z"
   },
   {
    "duration": 3,
    "start_time": "2023-03-26T08:40:08.418Z"
   },
   {
    "duration": 4,
    "start_time": "2023-03-26T08:41:38.222Z"
   },
   {
    "duration": 17,
    "start_time": "2023-03-26T08:43:05.388Z"
   },
   {
    "duration": 10,
    "start_time": "2023-03-26T08:43:44.641Z"
   },
   {
    "duration": 3,
    "start_time": "2023-03-26T08:43:46.057Z"
   },
   {
    "duration": 5,
    "start_time": "2023-03-26T08:43:46.353Z"
   },
   {
    "duration": 12,
    "start_time": "2023-03-26T08:43:46.705Z"
   },
   {
    "duration": 4,
    "start_time": "2023-03-26T08:43:49.761Z"
   },
   {
    "duration": 5,
    "start_time": "2023-03-26T08:43:50.144Z"
   },
   {
    "duration": 11,
    "start_time": "2023-03-26T08:43:50.545Z"
   },
   {
    "duration": 4,
    "start_time": "2023-03-26T08:48:01.743Z"
   },
   {
    "duration": 3,
    "start_time": "2023-03-26T08:48:54.302Z"
   },
   {
    "duration": 4,
    "start_time": "2023-03-26T08:49:02.313Z"
   },
   {
    "duration": 17,
    "start_time": "2023-03-26T08:49:52.336Z"
   },
   {
    "duration": 22,
    "start_time": "2023-03-26T08:50:41.064Z"
   },
   {
    "duration": 4,
    "start_time": "2023-03-26T08:51:41.055Z"
   },
   {
    "duration": 10,
    "start_time": "2023-03-26T08:52:35.061Z"
   },
   {
    "duration": 4,
    "start_time": "2023-03-26T08:52:37.005Z"
   },
   {
    "duration": 3,
    "start_time": "2023-03-26T08:52:51.604Z"
   },
   {
    "duration": 2,
    "start_time": "2023-03-26T08:52:51.771Z"
   },
   {
    "duration": 3,
    "start_time": "2023-03-26T08:52:51.915Z"
   },
   {
    "duration": 3,
    "start_time": "2023-03-26T08:52:53.868Z"
   },
   {
    "duration": 4,
    "start_time": "2023-03-26T08:54:52.730Z"
   },
   {
    "duration": 5,
    "start_time": "2023-03-26T08:54:55.336Z"
   },
   {
    "duration": 2,
    "start_time": "2023-03-26T08:56:25.612Z"
   },
   {
    "duration": 6,
    "start_time": "2023-03-26T08:56:29.563Z"
   },
   {
    "duration": 3,
    "start_time": "2023-03-26T08:56:39.635Z"
   },
   {
    "duration": 4,
    "start_time": "2023-03-26T08:56:40.162Z"
   },
   {
    "duration": 9,
    "start_time": "2023-03-26T08:56:54.170Z"
   },
   {
    "duration": 9,
    "start_time": "2023-03-26T08:57:49.905Z"
   },
   {
    "duration": 12,
    "start_time": "2023-03-26T08:57:54.376Z"
   },
   {
    "duration": 75,
    "start_time": "2023-03-26T08:58:57.765Z"
   },
   {
    "duration": 3,
    "start_time": "2023-03-26T08:59:00.662Z"
   },
   {
    "duration": 10,
    "start_time": "2023-03-26T08:59:03.237Z"
   },
   {
    "duration": 19,
    "start_time": "2023-03-26T09:08:20.960Z"
   },
   {
    "duration": 18,
    "start_time": "2023-03-26T09:09:52.765Z"
   },
   {
    "duration": 3,
    "start_time": "2023-03-26T09:11:08.194Z"
   },
   {
    "duration": 3,
    "start_time": "2023-03-26T09:11:12.249Z"
   },
   {
    "duration": 5,
    "start_time": "2023-03-26T09:11:12.629Z"
   },
   {
    "duration": 3,
    "start_time": "2023-03-26T09:12:00.568Z"
   },
   {
    "duration": 3,
    "start_time": "2023-03-26T09:12:33.999Z"
   },
   {
    "duration": 16,
    "start_time": "2023-03-26T09:13:16.580Z"
   },
   {
    "duration": 85,
    "start_time": "2023-03-26T09:14:30.441Z"
   },
   {
    "duration": 15,
    "start_time": "2023-03-26T09:17:10.755Z"
   },
   {
    "duration": 4,
    "start_time": "2023-03-26T09:18:48.871Z"
   },
   {
    "duration": 4,
    "start_time": "2023-03-26T09:19:11.206Z"
   },
   {
    "duration": 14,
    "start_time": "2023-03-26T09:19:24.337Z"
   },
   {
    "duration": 8,
    "start_time": "2023-03-26T09:22:05.536Z"
   },
   {
    "duration": 9,
    "start_time": "2023-03-26T09:22:23.382Z"
   },
   {
    "duration": 19,
    "start_time": "2023-03-26T09:23:01.885Z"
   },
   {
    "duration": 30,
    "start_time": "2023-03-26T09:23:59.115Z"
   },
   {
    "duration": 4,
    "start_time": "2023-03-26T09:26:08.525Z"
   },
   {
    "duration": 19,
    "start_time": "2023-03-26T09:27:54.578Z"
   },
   {
    "duration": 1424,
    "start_time": "2023-03-26T09:28:34.907Z"
   },
   {
    "duration": 379,
    "start_time": "2023-03-26T09:28:36.333Z"
   },
   {
    "duration": 45,
    "start_time": "2023-03-26T09:28:36.714Z"
   },
   {
    "duration": 4,
    "start_time": "2023-03-26T09:28:36.762Z"
   },
   {
    "duration": 7,
    "start_time": "2023-03-26T09:28:36.768Z"
   },
   {
    "duration": 2018,
    "start_time": "2023-03-26T09:28:36.776Z"
   },
   {
    "duration": 16,
    "start_time": "2023-03-26T09:28:38.796Z"
   },
   {
    "duration": 24,
    "start_time": "2023-03-26T09:28:38.813Z"
   },
   {
    "duration": 8,
    "start_time": "2023-03-26T09:28:38.839Z"
   },
   {
    "duration": 76,
    "start_time": "2023-03-26T09:28:38.849Z"
   },
   {
    "duration": 97,
    "start_time": "2023-03-26T09:28:38.927Z"
   },
   {
    "duration": 14,
    "start_time": "2023-03-26T09:28:39.026Z"
   },
   {
    "duration": 9,
    "start_time": "2023-03-26T09:28:39.042Z"
   },
   {
    "duration": 75,
    "start_time": "2023-03-26T09:28:39.053Z"
   },
   {
    "duration": 108,
    "start_time": "2023-03-26T09:28:39.130Z"
   },
   {
    "duration": 12,
    "start_time": "2023-03-26T09:28:39.240Z"
   },
   {
    "duration": 70,
    "start_time": "2023-03-26T09:28:39.254Z"
   },
   {
    "duration": 95,
    "start_time": "2023-03-26T09:28:39.329Z"
   },
   {
    "duration": 5,
    "start_time": "2023-03-26T09:28:39.427Z"
   },
   {
    "duration": 10,
    "start_time": "2023-03-26T09:28:39.434Z"
   },
   {
    "duration": 6,
    "start_time": "2023-03-26T09:28:39.446Z"
   },
   {
    "duration": 11,
    "start_time": "2023-03-26T09:28:39.454Z"
   },
   {
    "duration": 12,
    "start_time": "2023-03-26T09:28:39.467Z"
   },
   {
    "duration": 10,
    "start_time": "2023-03-26T09:28:39.480Z"
   },
   {
    "duration": 9,
    "start_time": "2023-03-26T09:28:39.491Z"
   },
   {
    "duration": 13,
    "start_time": "2023-03-26T09:28:39.502Z"
   },
   {
    "duration": 11,
    "start_time": "2023-03-26T09:28:39.517Z"
   },
   {
    "duration": 10,
    "start_time": "2023-03-26T09:28:39.532Z"
   },
   {
    "duration": 6,
    "start_time": "2023-03-26T09:28:39.544Z"
   },
   {
    "duration": 126,
    "start_time": "2023-03-26T09:28:39.552Z"
   },
   {
    "duration": 0,
    "start_time": "2023-03-26T09:28:39.680Z"
   },
   {
    "duration": 5,
    "start_time": "2023-03-26T09:29:40.334Z"
   },
   {
    "duration": 20,
    "start_time": "2023-03-26T09:29:42.382Z"
   },
   {
    "duration": 20,
    "start_time": "2023-03-26T09:30:27.411Z"
   },
   {
    "duration": 92,
    "start_time": "2023-03-26T09:32:15.868Z"
   },
   {
    "duration": 3,
    "start_time": "2023-03-26T09:32:40.877Z"
   },
   {
    "duration": 21,
    "start_time": "2023-03-26T09:33:20.893Z"
   },
   {
    "duration": 5,
    "start_time": "2023-03-26T09:34:05.300Z"
   },
   {
    "duration": 21,
    "start_time": "2023-03-26T09:34:05.443Z"
   },
   {
    "duration": 11,
    "start_time": "2023-03-26T09:36:28.468Z"
   },
   {
    "duration": 21,
    "start_time": "2023-03-26T09:37:05.939Z"
   },
   {
    "duration": 1480,
    "start_time": "2023-03-26T18:04:14.024Z"
   },
   {
    "duration": 2091,
    "start_time": "2023-03-26T18:04:15.507Z"
   },
   {
    "duration": 36,
    "start_time": "2023-03-26T18:04:17.602Z"
   },
   {
    "duration": 2,
    "start_time": "2023-03-26T18:04:17.640Z"
   },
   {
    "duration": 4,
    "start_time": "2023-03-26T18:04:17.645Z"
   },
   {
    "duration": 3237,
    "start_time": "2023-03-26T18:04:17.650Z"
   },
   {
    "duration": 16,
    "start_time": "2023-03-26T18:04:20.892Z"
   },
   {
    "duration": 27,
    "start_time": "2023-03-26T18:04:20.909Z"
   },
   {
    "duration": 51,
    "start_time": "2023-03-26T18:04:20.937Z"
   },
   {
    "duration": 4,
    "start_time": "2023-03-26T18:04:20.996Z"
   },
   {
    "duration": 26,
    "start_time": "2023-03-26T18:04:21.063Z"
   },
   {
    "duration": 23,
    "start_time": "2023-03-26T18:04:21.090Z"
   },
   {
    "duration": 66,
    "start_time": "2023-03-26T18:04:21.116Z"
   },
   {
    "duration": 6,
    "start_time": "2023-03-26T18:04:21.187Z"
   },
   {
    "duration": 99,
    "start_time": "2023-03-26T18:04:21.196Z"
   },
   {
    "duration": 22,
    "start_time": "2023-03-26T18:04:21.297Z"
   },
   {
    "duration": 70,
    "start_time": "2023-03-26T18:04:21.321Z"
   },
   {
    "duration": 71,
    "start_time": "2023-03-26T18:04:21.394Z"
   },
   {
    "duration": 102,
    "start_time": "2023-03-26T18:04:21.467Z"
   },
   {
    "duration": 4,
    "start_time": "2023-03-26T18:04:21.571Z"
   },
   {
    "duration": 6,
    "start_time": "2023-03-26T18:04:21.578Z"
   },
   {
    "duration": 12,
    "start_time": "2023-03-26T18:04:21.585Z"
   },
   {
    "duration": 5,
    "start_time": "2023-03-26T18:04:21.599Z"
   },
   {
    "duration": 4,
    "start_time": "2023-03-26T18:04:21.605Z"
   },
   {
    "duration": 3,
    "start_time": "2023-03-26T18:04:21.610Z"
   },
   {
    "duration": 3,
    "start_time": "2023-03-26T18:04:21.615Z"
   },
   {
    "duration": 7,
    "start_time": "2023-03-26T18:04:21.619Z"
   },
   {
    "duration": 39,
    "start_time": "2023-03-26T18:04:21.628Z"
   },
   {
    "duration": 16,
    "start_time": "2023-03-26T18:04:21.672Z"
   },
   {
    "duration": 136,
    "start_time": "2023-03-26T18:04:21.689Z"
   },
   {
    "duration": 0,
    "start_time": "2023-03-26T18:04:21.827Z"
   },
   {
    "duration": 6,
    "start_time": "2023-03-26T18:05:24.406Z"
   },
   {
    "duration": 5,
    "start_time": "2023-03-26T18:05:27.148Z"
   },
   {
    "duration": 6,
    "start_time": "2023-03-26T18:05:32.037Z"
   },
   {
    "duration": 3,
    "start_time": "2023-03-26T18:05:46.432Z"
   },
   {
    "duration": 36,
    "start_time": "2023-03-26T18:05:47.143Z"
   },
   {
    "duration": 4,
    "start_time": "2023-03-26T18:06:10.712Z"
   },
   {
    "duration": 4771,
    "start_time": "2023-03-26T18:06:14.134Z"
   },
   {
    "duration": 3,
    "start_time": "2023-03-26T18:09:57.232Z"
   },
   {
    "duration": 4613,
    "start_time": "2023-03-26T18:09:59.843Z"
   },
   {
    "duration": 1434,
    "start_time": "2023-03-26T18:17:35.103Z"
   },
   {
    "duration": 476,
    "start_time": "2023-03-26T18:17:36.539Z"
   },
   {
    "duration": 38,
    "start_time": "2023-03-26T18:17:37.016Z"
   },
   {
    "duration": 9,
    "start_time": "2023-03-26T18:17:37.068Z"
   },
   {
    "duration": 4,
    "start_time": "2023-03-26T18:17:37.080Z"
   },
   {
    "duration": 3227,
    "start_time": "2023-03-26T18:17:37.085Z"
   },
   {
    "duration": 15,
    "start_time": "2023-03-26T18:17:40.314Z"
   },
   {
    "duration": 43,
    "start_time": "2023-03-26T18:17:40.330Z"
   },
   {
    "duration": 24,
    "start_time": "2023-03-26T18:17:40.374Z"
   },
   {
    "duration": 5,
    "start_time": "2023-03-26T18:17:40.400Z"
   },
   {
    "duration": 157,
    "start_time": "2023-03-26T18:17:40.407Z"
   },
   {
    "duration": 34,
    "start_time": "2023-03-26T18:17:40.572Z"
   },
   {
    "duration": 70,
    "start_time": "2023-03-26T18:17:40.607Z"
   },
   {
    "duration": 74,
    "start_time": "2023-03-26T18:17:40.693Z"
   },
   {
    "duration": 21,
    "start_time": "2023-03-26T18:17:40.769Z"
   },
   {
    "duration": 25,
    "start_time": "2023-03-26T18:17:40.792Z"
   },
   {
    "duration": 50,
    "start_time": "2023-03-26T18:17:40.819Z"
   },
   {
    "duration": 5,
    "start_time": "2023-03-26T18:17:40.873Z"
   },
   {
    "duration": 92,
    "start_time": "2023-03-26T18:17:40.881Z"
   },
   {
    "duration": 3,
    "start_time": "2023-03-26T18:17:40.975Z"
   },
   {
    "duration": 6,
    "start_time": "2023-03-26T18:17:40.981Z"
   },
   {
    "duration": 15,
    "start_time": "2023-03-26T18:17:40.988Z"
   },
   {
    "duration": 24,
    "start_time": "2023-03-26T18:17:41.005Z"
   },
   {
    "duration": 7,
    "start_time": "2023-03-26T18:17:41.031Z"
   },
   {
    "duration": 12,
    "start_time": "2023-03-26T18:17:41.039Z"
   },
   {
    "duration": 6,
    "start_time": "2023-03-26T18:17:41.053Z"
   },
   {
    "duration": 20,
    "start_time": "2023-03-26T18:17:41.063Z"
   },
   {
    "duration": 9,
    "start_time": "2023-03-26T18:17:41.085Z"
   },
   {
    "duration": 8,
    "start_time": "2023-03-26T18:17:41.097Z"
   },
   {
    "duration": 134,
    "start_time": "2023-03-26T18:17:41.107Z"
   },
   {
    "duration": 0,
    "start_time": "2023-03-26T18:17:41.242Z"
   },
   {
    "duration": 69,
    "start_time": "2023-03-26T18:35:15.850Z"
   },
   {
    "duration": 6,
    "start_time": "2023-03-26T18:35:35.744Z"
   },
   {
    "duration": 1809,
    "start_time": "2023-03-26T18:35:42.536Z"
   },
   {
    "duration": 2304,
    "start_time": "2023-03-26T18:35:44.347Z"
   },
   {
    "duration": 66,
    "start_time": "2023-03-26T18:35:46.653Z"
   },
   {
    "duration": 3,
    "start_time": "2023-03-26T18:35:46.723Z"
   },
   {
    "duration": 4,
    "start_time": "2023-03-26T18:35:46.727Z"
   },
   {
    "duration": 2348,
    "start_time": "2023-03-26T18:35:46.732Z"
   },
   {
    "duration": 28,
    "start_time": "2023-03-26T18:35:49.082Z"
   },
   {
    "duration": 15,
    "start_time": "2023-03-26T18:35:49.114Z"
   },
   {
    "duration": 77,
    "start_time": "2023-03-26T18:35:49.131Z"
   },
   {
    "duration": 56,
    "start_time": "2023-03-26T18:35:49.211Z"
   },
   {
    "duration": 28,
    "start_time": "2023-03-26T18:35:49.273Z"
   },
   {
    "duration": 15,
    "start_time": "2023-03-26T18:35:49.309Z"
   },
   {
    "duration": 59,
    "start_time": "2023-03-26T18:35:49.326Z"
   },
   {
    "duration": 7,
    "start_time": "2023-03-26T18:35:49.387Z"
   },
   {
    "duration": 109,
    "start_time": "2023-03-26T18:35:49.400Z"
   },
   {
    "duration": 16,
    "start_time": "2023-03-26T18:35:49.513Z"
   },
   {
    "duration": 40,
    "start_time": "2023-03-26T18:35:49.530Z"
   },
   {
    "duration": 6,
    "start_time": "2023-03-26T18:35:49.575Z"
   },
   {
    "duration": 16,
    "start_time": "2023-03-26T18:35:49.582Z"
   },
   {
    "duration": 65,
    "start_time": "2023-03-26T18:35:49.600Z"
   },
   {
    "duration": 5,
    "start_time": "2023-03-26T18:35:49.668Z"
   },
   {
    "duration": 10,
    "start_time": "2023-03-26T18:35:49.677Z"
   },
   {
    "duration": 4,
    "start_time": "2023-03-26T18:35:49.692Z"
   },
   {
    "duration": 5,
    "start_time": "2023-03-26T18:35:49.699Z"
   },
   {
    "duration": 9,
    "start_time": "2023-03-26T18:35:49.706Z"
   },
   {
    "duration": 3,
    "start_time": "2023-03-26T18:35:49.717Z"
   },
   {
    "duration": 13,
    "start_time": "2023-03-26T18:35:49.721Z"
   },
   {
    "duration": 4,
    "start_time": "2023-03-26T18:35:49.737Z"
   },
   {
    "duration": 29,
    "start_time": "2023-03-26T18:35:49.743Z"
   },
   {
    "duration": 13,
    "start_time": "2023-03-26T18:35:49.774Z"
   },
   {
    "duration": 144,
    "start_time": "2023-03-26T18:35:49.789Z"
   },
   {
    "duration": 0,
    "start_time": "2023-03-26T18:35:49.935Z"
   },
   {
    "duration": 0,
    "start_time": "2023-03-26T18:35:49.936Z"
   },
   {
    "duration": 19,
    "start_time": "2023-03-26T18:36:01.303Z"
   },
   {
    "duration": 32,
    "start_time": "2023-03-26T18:36:05.518Z"
   },
   {
    "duration": 5,
    "start_time": "2023-03-26T18:36:07.038Z"
   },
   {
    "duration": 21,
    "start_time": "2023-03-26T18:36:07.599Z"
   },
   {
    "duration": 7,
    "start_time": "2023-03-26T18:36:59.516Z"
   },
   {
    "duration": 5,
    "start_time": "2023-03-26T18:37:08.814Z"
   },
   {
    "duration": 13,
    "start_time": "2023-03-26T18:38:08.322Z"
   },
   {
    "duration": 37,
    "start_time": "2023-03-26T18:38:10.188Z"
   },
   {
    "duration": 19,
    "start_time": "2023-03-26T18:38:48.628Z"
   },
   {
    "duration": 32,
    "start_time": "2023-03-26T18:39:12.558Z"
   },
   {
    "duration": 34,
    "start_time": "2023-03-26T18:39:14.930Z"
   },
   {
    "duration": 10,
    "start_time": "2023-03-26T18:44:55.881Z"
   },
   {
    "duration": 6,
    "start_time": "2023-03-26T18:45:01.698Z"
   },
   {
    "duration": 18,
    "start_time": "2023-03-26T18:45:03.906Z"
   },
   {
    "duration": 20,
    "start_time": "2023-03-26T18:45:04.632Z"
   },
   {
    "duration": 6,
    "start_time": "2023-03-26T18:45:58.343Z"
   },
   {
    "duration": 7,
    "start_time": "2023-03-26T18:46:09.009Z"
   },
   {
    "duration": 14,
    "start_time": "2023-03-26T18:46:12.007Z"
   },
   {
    "duration": 39,
    "start_time": "2023-03-26T18:47:48.078Z"
   },
   {
    "duration": 11,
    "start_time": "2023-03-26T18:48:33.818Z"
   },
   {
    "duration": 4,
    "start_time": "2023-03-26T18:48:35.297Z"
   },
   {
    "duration": 7,
    "start_time": "2023-03-26T18:49:01.837Z"
   },
   {
    "duration": 8,
    "start_time": "2023-03-26T18:49:04.532Z"
   },
   {
    "duration": 33,
    "start_time": "2023-03-26T18:49:05.193Z"
   },
   {
    "duration": 54,
    "start_time": "2023-03-26T18:49:06.656Z"
   },
   {
    "duration": 20,
    "start_time": "2023-03-26T18:50:48.791Z"
   },
   {
    "duration": 11,
    "start_time": "2023-03-26T18:51:07.042Z"
   },
   {
    "duration": 19,
    "start_time": "2023-03-26T18:51:17.814Z"
   },
   {
    "duration": 20,
    "start_time": "2023-03-26T18:51:20.890Z"
   },
   {
    "duration": 13,
    "start_time": "2023-03-26T18:51:40.518Z"
   },
   {
    "duration": 17,
    "start_time": "2023-03-26T18:53:58.335Z"
   },
   {
    "duration": 9,
    "start_time": "2023-03-26T18:54:28.923Z"
   },
   {
    "duration": 9,
    "start_time": "2023-03-26T18:54:35.380Z"
   },
   {
    "duration": 9,
    "start_time": "2023-03-26T18:54:35.806Z"
   },
   {
    "duration": 5,
    "start_time": "2023-03-26T18:54:38.399Z"
   },
   {
    "duration": 5,
    "start_time": "2023-03-26T18:54:40.128Z"
   },
   {
    "duration": 18,
    "start_time": "2023-03-26T18:54:40.722Z"
   },
   {
    "duration": 27,
    "start_time": "2023-03-26T18:54:46.494Z"
   },
   {
    "duration": 14,
    "start_time": "2023-03-26T18:55:49.958Z"
   },
   {
    "duration": 15,
    "start_time": "2023-03-26T18:56:29.590Z"
   },
   {
    "duration": 9,
    "start_time": "2023-03-26T18:56:46.637Z"
   },
   {
    "duration": 6,
    "start_time": "2023-03-26T18:56:57.659Z"
   },
   {
    "duration": 1844,
    "start_time": "2023-03-26T18:57:06.082Z"
   },
   {
    "duration": 599,
    "start_time": "2023-03-26T18:57:07.929Z"
   },
   {
    "duration": 85,
    "start_time": "2023-03-26T18:57:08.530Z"
   },
   {
    "duration": 5,
    "start_time": "2023-03-26T18:57:08.618Z"
   },
   {
    "duration": 13,
    "start_time": "2023-03-26T18:57:08.625Z"
   },
   {
    "duration": 2967,
    "start_time": "2023-03-26T18:57:08.640Z"
   },
   {
    "duration": 23,
    "start_time": "2023-03-26T18:57:11.614Z"
   },
   {
    "duration": 30,
    "start_time": "2023-03-26T18:57:11.640Z"
   },
   {
    "duration": 196,
    "start_time": "2023-03-26T18:57:11.672Z"
   },
   {
    "duration": 29,
    "start_time": "2023-03-26T18:57:11.871Z"
   },
   {
    "duration": 30,
    "start_time": "2023-03-26T18:57:11.911Z"
   },
   {
    "duration": 31,
    "start_time": "2023-03-26T18:57:11.943Z"
   },
   {
    "duration": 97,
    "start_time": "2023-03-26T18:57:11.981Z"
   },
   {
    "duration": 10,
    "start_time": "2023-03-26T18:57:12.081Z"
   },
   {
    "duration": 89,
    "start_time": "2023-03-26T18:57:12.094Z"
   },
   {
    "duration": 23,
    "start_time": "2023-03-26T18:57:12.185Z"
   },
   {
    "duration": 13,
    "start_time": "2023-03-26T18:57:12.214Z"
   },
   {
    "duration": 67,
    "start_time": "2023-03-26T18:57:12.229Z"
   },
   {
    "duration": 63,
    "start_time": "2023-03-26T18:57:12.300Z"
   },
   {
    "duration": 6,
    "start_time": "2023-03-26T18:57:12.370Z"
   },
   {
    "duration": 6,
    "start_time": "2023-03-26T18:57:12.378Z"
   },
   {
    "duration": 12,
    "start_time": "2023-03-26T18:57:12.391Z"
   },
   {
    "duration": 8,
    "start_time": "2023-03-26T18:57:12.405Z"
   },
   {
    "duration": 6,
    "start_time": "2023-03-26T18:57:12.416Z"
   },
   {
    "duration": 3,
    "start_time": "2023-03-26T18:57:12.425Z"
   },
   {
    "duration": 4,
    "start_time": "2023-03-26T18:57:12.430Z"
   },
   {
    "duration": 5,
    "start_time": "2023-03-26T18:57:12.436Z"
   },
   {
    "duration": 43,
    "start_time": "2023-03-26T18:57:12.445Z"
   },
   {
    "duration": 10,
    "start_time": "2023-03-26T18:57:12.493Z"
   },
   {
    "duration": 24,
    "start_time": "2023-03-26T18:57:12.509Z"
   },
   {
    "duration": 172,
    "start_time": "2023-03-26T18:57:12.541Z"
   },
   {
    "duration": 0,
    "start_time": "2023-03-26T18:57:12.717Z"
   },
   {
    "duration": 18,
    "start_time": "2023-03-26T18:57:43.459Z"
   },
   {
    "duration": 13,
    "start_time": "2023-03-26T18:58:12.433Z"
   },
   {
    "duration": 17,
    "start_time": "2023-03-26T18:58:21.999Z"
   },
   {
    "duration": 21,
    "start_time": "2023-03-26T18:58:26.307Z"
   },
   {
    "duration": 20,
    "start_time": "2023-03-26T18:58:31.872Z"
   },
   {
    "duration": 22,
    "start_time": "2023-03-26T18:59:31.701Z"
   },
   {
    "duration": 19,
    "start_time": "2023-03-26T18:59:32.926Z"
   },
   {
    "duration": 31,
    "start_time": "2023-03-26T18:59:53.946Z"
   },
   {
    "duration": 43,
    "start_time": "2023-03-26T18:59:56.462Z"
   },
   {
    "duration": 28,
    "start_time": "2023-03-26T19:00:16.307Z"
   },
   {
    "duration": 16,
    "start_time": "2023-03-26T19:00:25.918Z"
   },
   {
    "duration": 12,
    "start_time": "2023-03-26T19:00:49.809Z"
   },
   {
    "duration": 9,
    "start_time": "2023-03-26T19:00:50.233Z"
   },
   {
    "duration": 8,
    "start_time": "2023-03-26T19:01:09.602Z"
   },
   {
    "duration": 53,
    "start_time": "2023-03-26T19:01:17.358Z"
   },
   {
    "duration": 10,
    "start_time": "2023-03-26T19:02:18.458Z"
   },
   {
    "duration": 106,
    "start_time": "2023-03-26T19:02:55.214Z"
   },
   {
    "duration": 112,
    "start_time": "2023-03-26T19:03:48.461Z"
   },
   {
    "duration": 4,
    "start_time": "2023-03-26T19:04:00.930Z"
   },
   {
    "duration": 4,
    "start_time": "2023-03-26T19:04:40.241Z"
   },
   {
    "duration": 4,
    "start_time": "2023-03-26T19:04:42.307Z"
   },
   {
    "duration": 25,
    "start_time": "2023-03-26T19:04:44.011Z"
   },
   {
    "duration": 4,
    "start_time": "2023-03-26T19:05:07.056Z"
   },
   {
    "duration": 5,
    "start_time": "2023-03-26T19:05:41.231Z"
   },
   {
    "duration": 25,
    "start_time": "2023-03-26T19:05:41.786Z"
   },
   {
    "duration": 4,
    "start_time": "2023-03-26T19:05:51.031Z"
   },
   {
    "duration": 40,
    "start_time": "2023-03-26T19:05:51.727Z"
   },
   {
    "duration": 11,
    "start_time": "2023-03-26T19:06:45.393Z"
   },
   {
    "duration": 44,
    "start_time": "2023-03-26T19:06:45.969Z"
   },
   {
    "duration": 17,
    "start_time": "2023-03-26T19:07:22.584Z"
   },
   {
    "duration": 30,
    "start_time": "2023-03-26T19:07:23.506Z"
   },
   {
    "duration": 5,
    "start_time": "2023-03-26T19:07:37.722Z"
   },
   {
    "duration": 20,
    "start_time": "2023-03-26T19:07:38.338Z"
   },
   {
    "duration": 7,
    "start_time": "2023-03-26T19:07:55.330Z"
   },
   {
    "duration": 8,
    "start_time": "2023-03-26T19:08:06.441Z"
   },
   {
    "duration": 19,
    "start_time": "2023-03-26T19:08:37.005Z"
   },
   {
    "duration": 18,
    "start_time": "2023-03-26T19:08:45.425Z"
   },
   {
    "duration": 40,
    "start_time": "2023-03-26T19:08:47.285Z"
   },
   {
    "duration": 13,
    "start_time": "2023-03-26T19:09:14.431Z"
   },
   {
    "duration": 11,
    "start_time": "2023-03-26T19:09:23.142Z"
   },
   {
    "duration": 15,
    "start_time": "2023-03-26T19:09:29.941Z"
   },
   {
    "duration": 35,
    "start_time": "2023-03-26T19:09:30.190Z"
   },
   {
    "duration": 8,
    "start_time": "2023-03-26T19:10:05.861Z"
   },
   {
    "duration": 26,
    "start_time": "2023-03-26T19:10:06.589Z"
   },
   {
    "duration": 29,
    "start_time": "2023-03-26T19:10:07.342Z"
   },
   {
    "duration": 18,
    "start_time": "2023-03-26T19:10:35.176Z"
   },
   {
    "duration": 12,
    "start_time": "2023-03-26T19:10:35.907Z"
   },
   {
    "duration": 26,
    "start_time": "2023-03-26T19:10:37.089Z"
   },
   {
    "duration": 12,
    "start_time": "2023-03-26T19:10:59.580Z"
   },
   {
    "duration": 20,
    "start_time": "2023-03-26T19:11:00.026Z"
   },
   {
    "duration": 24,
    "start_time": "2023-03-26T19:11:00.634Z"
   },
   {
    "duration": 18,
    "start_time": "2023-03-26T19:11:07.518Z"
   },
   {
    "duration": 9,
    "start_time": "2023-03-26T19:11:31.330Z"
   },
   {
    "duration": 16,
    "start_time": "2023-03-26T19:11:33.358Z"
   },
   {
    "duration": 37,
    "start_time": "2023-03-26T19:11:33.886Z"
   },
   {
    "duration": 12,
    "start_time": "2023-03-26T19:12:11.991Z"
   },
   {
    "duration": 22,
    "start_time": "2023-03-26T19:12:12.312Z"
   },
   {
    "duration": 26,
    "start_time": "2023-03-26T19:15:29.188Z"
   },
   {
    "duration": 23,
    "start_time": "2023-03-26T19:15:36.266Z"
   },
   {
    "duration": 44,
    "start_time": "2023-03-26T19:15:58.558Z"
   },
   {
    "duration": 11,
    "start_time": "2023-03-26T19:16:06.430Z"
   },
   {
    "duration": 22,
    "start_time": "2023-03-26T19:16:08.882Z"
   },
   {
    "duration": 1448,
    "start_time": "2023-03-26T19:16:27.487Z"
   },
   {
    "duration": 476,
    "start_time": "2023-03-26T19:16:28.937Z"
   },
   {
    "duration": 62,
    "start_time": "2023-03-26T19:16:29.415Z"
   },
   {
    "duration": 6,
    "start_time": "2023-03-26T19:16:29.479Z"
   },
   {
    "duration": 8,
    "start_time": "2023-03-26T19:16:29.487Z"
   },
   {
    "duration": 2229,
    "start_time": "2023-03-26T19:16:29.502Z"
   },
   {
    "duration": 15,
    "start_time": "2023-03-26T19:16:31.734Z"
   },
   {
    "duration": 36,
    "start_time": "2023-03-26T19:16:31.751Z"
   },
   {
    "duration": 16,
    "start_time": "2023-03-26T19:16:31.795Z"
   },
   {
    "duration": 4,
    "start_time": "2023-03-26T19:16:31.865Z"
   },
   {
    "duration": 102,
    "start_time": "2023-03-26T19:16:31.870Z"
   },
   {
    "duration": 28,
    "start_time": "2023-03-26T19:16:31.978Z"
   },
   {
    "duration": 11,
    "start_time": "2023-03-26T19:16:32.008Z"
   },
   {
    "duration": 11,
    "start_time": "2023-03-26T19:16:32.087Z"
   },
   {
    "duration": 81,
    "start_time": "2023-03-26T19:16:32.101Z"
   },
   {
    "duration": 21,
    "start_time": "2023-03-26T19:16:32.184Z"
   },
   {
    "duration": 75,
    "start_time": "2023-03-26T19:16:32.209Z"
   },
   {
    "duration": 15,
    "start_time": "2023-03-26T19:16:32.288Z"
   },
   {
    "duration": 62,
    "start_time": "2023-03-26T19:16:32.305Z"
   },
   {
    "duration": 7,
    "start_time": "2023-03-26T19:16:32.371Z"
   },
   {
    "duration": 9,
    "start_time": "2023-03-26T19:16:32.380Z"
   },
   {
    "duration": 6,
    "start_time": "2023-03-26T19:16:32.391Z"
   },
   {
    "duration": 10,
    "start_time": "2023-03-26T19:16:32.398Z"
   },
   {
    "duration": 25,
    "start_time": "2023-03-26T19:16:32.411Z"
   },
   {
    "duration": 4,
    "start_time": "2023-03-26T19:16:32.438Z"
   },
   {
    "duration": 4,
    "start_time": "2023-03-26T19:16:32.445Z"
   },
   {
    "duration": 8,
    "start_time": "2023-03-26T19:16:32.451Z"
   },
   {
    "duration": 26,
    "start_time": "2023-03-26T19:16:32.462Z"
   },
   {
    "duration": 13,
    "start_time": "2023-03-26T19:16:32.491Z"
   },
   {
    "duration": 7,
    "start_time": "2023-03-26T19:16:32.507Z"
   },
   {
    "duration": 131,
    "start_time": "2023-03-26T19:16:32.516Z"
   },
   {
    "duration": 0,
    "start_time": "2023-03-26T19:16:32.648Z"
   },
   {
    "duration": 10,
    "start_time": "2023-03-26T19:17:56.841Z"
   },
   {
    "duration": 3,
    "start_time": "2023-03-26T19:19:43.542Z"
   },
   {
    "duration": 3,
    "start_time": "2023-03-26T19:19:45.525Z"
   },
   {
    "duration": 4,
    "start_time": "2023-03-26T19:19:46.556Z"
   },
   {
    "duration": 12,
    "start_time": "2023-03-26T19:19:47.292Z"
   },
   {
    "duration": 21,
    "start_time": "2023-03-26T19:19:47.837Z"
   },
   {
    "duration": 13,
    "start_time": "2023-03-26T19:23:07.527Z"
   },
   {
    "duration": 32,
    "start_time": "2023-03-26T19:23:08.142Z"
   },
   {
    "duration": 13,
    "start_time": "2023-03-26T19:23:11.002Z"
   },
   {
    "duration": 1552,
    "start_time": "2023-03-26T19:24:50.688Z"
   },
   {
    "duration": 533,
    "start_time": "2023-03-26T19:24:52.242Z"
   },
   {
    "duration": 51,
    "start_time": "2023-03-26T19:24:52.785Z"
   },
   {
    "duration": 2,
    "start_time": "2023-03-26T19:24:52.838Z"
   },
   {
    "duration": 25,
    "start_time": "2023-03-26T19:24:52.842Z"
   },
   {
    "duration": 2404,
    "start_time": "2023-03-26T19:24:52.869Z"
   },
   {
    "duration": 20,
    "start_time": "2023-03-26T19:24:55.275Z"
   },
   {
    "duration": 17,
    "start_time": "2023-03-26T19:24:55.299Z"
   },
   {
    "duration": 52,
    "start_time": "2023-03-26T19:24:55.318Z"
   },
   {
    "duration": 9,
    "start_time": "2023-03-26T19:24:55.374Z"
   },
   {
    "duration": 99,
    "start_time": "2023-03-26T19:24:55.389Z"
   },
   {
    "duration": 18,
    "start_time": "2023-03-26T19:24:55.490Z"
   },
   {
    "duration": 56,
    "start_time": "2023-03-26T19:24:55.510Z"
   },
   {
    "duration": 20,
    "start_time": "2023-03-26T19:24:55.573Z"
   },
   {
    "duration": 41,
    "start_time": "2023-03-26T19:24:55.664Z"
   },
   {
    "duration": 14,
    "start_time": "2023-03-26T19:24:55.706Z"
   },
   {
    "duration": 46,
    "start_time": "2023-03-26T19:24:55.722Z"
   },
   {
    "duration": 7,
    "start_time": "2023-03-26T19:24:55.770Z"
   },
   {
    "duration": 84,
    "start_time": "2023-03-26T19:24:55.780Z"
   },
   {
    "duration": 3,
    "start_time": "2023-03-26T19:24:55.866Z"
   },
   {
    "duration": 28,
    "start_time": "2023-03-26T19:24:55.871Z"
   },
   {
    "duration": 25,
    "start_time": "2023-03-26T19:24:55.902Z"
   },
   {
    "duration": 6,
    "start_time": "2023-03-26T19:24:55.929Z"
   },
   {
    "duration": 12,
    "start_time": "2023-03-26T19:24:55.936Z"
   },
   {
    "duration": 6,
    "start_time": "2023-03-26T19:24:55.949Z"
   },
   {
    "duration": 11,
    "start_time": "2023-03-26T19:24:55.957Z"
   },
   {
    "duration": 14,
    "start_time": "2023-03-26T19:24:55.970Z"
   },
   {
    "duration": 4,
    "start_time": "2023-03-26T19:24:55.986Z"
   },
   {
    "duration": 13,
    "start_time": "2023-03-26T19:24:55.992Z"
   },
   {
    "duration": 99,
    "start_time": "2023-03-26T19:24:56.007Z"
   },
   {
    "duration": 0,
    "start_time": "2023-03-26T19:24:56.108Z"
   },
   {
    "duration": 0,
    "start_time": "2023-03-26T19:24:56.109Z"
   },
   {
    "duration": 0,
    "start_time": "2023-03-26T19:24:56.111Z"
   },
   {
    "duration": 7,
    "start_time": "2023-03-26T19:25:02.042Z"
   },
   {
    "duration": 159,
    "start_time": "2023-03-26T19:25:04.842Z"
   },
   {
    "duration": 12,
    "start_time": "2023-03-26T19:25:27.453Z"
   },
   {
    "duration": 1440,
    "start_time": "2023-03-26T19:25:46.352Z"
   },
   {
    "duration": 0,
    "start_time": "2023-03-26T19:25:47.794Z"
   },
   {
    "duration": 12,
    "start_time": "2023-03-26T19:25:54.793Z"
   },
   {
    "duration": 15,
    "start_time": "2023-03-26T19:26:00.996Z"
   },
   {
    "duration": 6,
    "start_time": "2023-03-26T19:26:06.920Z"
   },
   {
    "duration": 28,
    "start_time": "2023-03-26T19:26:07.792Z"
   },
   {
    "duration": 4,
    "start_time": "2023-03-26T19:27:28.204Z"
   },
   {
    "duration": 45,
    "start_time": "2023-03-26T19:27:31.053Z"
   },
   {
    "duration": 3,
    "start_time": "2023-03-26T19:27:45.636Z"
   },
   {
    "duration": 6,
    "start_time": "2023-03-26T19:29:07.658Z"
   },
   {
    "duration": 97,
    "start_time": "2023-03-26T19:31:21.924Z"
   },
   {
    "duration": 97,
    "start_time": "2023-03-26T19:31:58.858Z"
   },
   {
    "duration": 109,
    "start_time": "2023-03-26T19:32:02.795Z"
   },
   {
    "duration": 21,
    "start_time": "2023-03-26T19:32:07.458Z"
   },
   {
    "duration": 23,
    "start_time": "2023-03-26T19:32:09.409Z"
   },
   {
    "duration": 6,
    "start_time": "2023-03-26T19:32:50.736Z"
   },
   {
    "duration": 13,
    "start_time": "2023-03-26T19:32:51.432Z"
   },
   {
    "duration": 32,
    "start_time": "2023-03-26T19:32:52.248Z"
   },
   {
    "duration": 16,
    "start_time": "2023-03-26T19:38:28.548Z"
   },
   {
    "duration": 3,
    "start_time": "2023-03-26T19:39:12.434Z"
   },
   {
    "duration": 9,
    "start_time": "2023-03-26T19:39:13.483Z"
   },
   {
    "duration": 11,
    "start_time": "2023-03-26T19:39:14.689Z"
   },
   {
    "duration": 30,
    "start_time": "2023-03-26T19:39:15.249Z"
   },
   {
    "duration": 22,
    "start_time": "2023-03-26T19:39:16.103Z"
   },
   {
    "duration": 22,
    "start_time": "2023-03-26T19:39:18.015Z"
   },
   {
    "duration": 4,
    "start_time": "2023-03-26T19:39:30.814Z"
   },
   {
    "duration": 18,
    "start_time": "2023-03-26T19:41:50.181Z"
   },
   {
    "duration": 12,
    "start_time": "2023-03-26T19:42:59.746Z"
   },
   {
    "duration": 21,
    "start_time": "2023-03-26T19:43:02.609Z"
   },
   {
    "duration": 13,
    "start_time": "2023-03-26T19:45:13.908Z"
   },
   {
    "duration": 85,
    "start_time": "2023-03-26T19:47:24.638Z"
   },
   {
    "duration": 3564,
    "start_time": "2023-03-27T06:13:08.114Z"
   },
   {
    "duration": 1638,
    "start_time": "2023-03-27T06:13:11.680Z"
   },
   {
    "duration": 41,
    "start_time": "2023-03-27T06:13:13.320Z"
   },
   {
    "duration": 3,
    "start_time": "2023-03-27T06:13:13.363Z"
   },
   {
    "duration": 3,
    "start_time": "2023-03-27T06:13:13.374Z"
   },
   {
    "duration": 2132,
    "start_time": "2023-03-27T06:13:13.378Z"
   },
   {
    "duration": 14,
    "start_time": "2023-03-27T06:13:15.511Z"
   },
   {
    "duration": 14,
    "start_time": "2023-03-27T06:13:15.526Z"
   },
   {
    "duration": 38,
    "start_time": "2023-03-27T06:13:15.542Z"
   },
   {
    "duration": 92,
    "start_time": "2023-03-27T06:13:15.583Z"
   },
   {
    "duration": 14,
    "start_time": "2023-03-27T06:13:15.677Z"
   },
   {
    "duration": 14,
    "start_time": "2023-03-27T06:13:15.693Z"
   },
   {
    "duration": 166,
    "start_time": "2023-03-27T06:13:15.708Z"
   },
   {
    "duration": 3,
    "start_time": "2023-03-27T06:13:15.879Z"
   },
   {
    "duration": 101,
    "start_time": "2023-03-27T06:13:15.884Z"
   },
   {
    "duration": 13,
    "start_time": "2023-03-27T06:13:15.987Z"
   },
   {
    "duration": 73,
    "start_time": "2023-03-27T06:13:16.002Z"
   },
   {
    "duration": 5,
    "start_time": "2023-03-27T06:13:16.077Z"
   },
   {
    "duration": 92,
    "start_time": "2023-03-27T06:13:16.084Z"
   },
   {
    "duration": 13,
    "start_time": "2023-03-27T06:13:16.178Z"
   },
   {
    "duration": 10,
    "start_time": "2023-03-27T06:13:16.193Z"
   },
   {
    "duration": 16,
    "start_time": "2023-03-27T06:13:16.205Z"
   },
   {
    "duration": 9,
    "start_time": "2023-03-27T06:13:16.223Z"
   },
   {
    "duration": 7,
    "start_time": "2023-03-27T06:13:16.234Z"
   },
   {
    "duration": 13,
    "start_time": "2023-03-27T06:13:16.243Z"
   },
   {
    "duration": 14,
    "start_time": "2023-03-27T06:13:16.258Z"
   },
   {
    "duration": 8,
    "start_time": "2023-03-27T06:13:16.273Z"
   },
   {
    "duration": 5,
    "start_time": "2023-03-27T06:13:16.282Z"
   },
   {
    "duration": 5,
    "start_time": "2023-03-27T06:13:16.288Z"
   },
   {
    "duration": 10,
    "start_time": "2023-03-27T06:13:16.294Z"
   },
   {
    "duration": 146,
    "start_time": "2023-03-27T06:13:16.306Z"
   },
   {
    "duration": 0,
    "start_time": "2023-03-27T06:13:16.454Z"
   },
   {
    "duration": 3,
    "start_time": "2023-03-27T06:13:24.775Z"
   },
   {
    "duration": 3,
    "start_time": "2023-03-27T06:13:25.683Z"
   },
   {
    "duration": 6,
    "start_time": "2023-03-27T06:13:26.720Z"
   },
   {
    "duration": 7,
    "start_time": "2023-03-27T06:13:27.052Z"
   },
   {
    "duration": 2671,
    "start_time": "2023-03-27T06:13:27.381Z"
   },
   {
    "duration": 6,
    "start_time": "2023-03-27T06:13:35.449Z"
   },
   {
    "duration": 11,
    "start_time": "2023-03-27T06:13:38.317Z"
   },
   {
    "duration": 3,
    "start_time": "2023-03-27T06:13:50.756Z"
   },
   {
    "duration": 396,
    "start_time": "2023-03-27T06:13:50.761Z"
   },
   {
    "duration": 51,
    "start_time": "2023-03-27T06:13:51.158Z"
   },
   {
    "duration": 3,
    "start_time": "2023-03-27T06:13:51.211Z"
   },
   {
    "duration": 12,
    "start_time": "2023-03-27T06:13:51.216Z"
   },
   {
    "duration": 1997,
    "start_time": "2023-03-27T06:13:51.229Z"
   },
   {
    "duration": 12,
    "start_time": "2023-03-27T06:13:53.228Z"
   },
   {
    "duration": 11,
    "start_time": "2023-03-27T06:13:53.242Z"
   },
   {
    "duration": 26,
    "start_time": "2023-03-27T06:13:53.254Z"
   },
   {
    "duration": 3,
    "start_time": "2023-03-27T06:13:53.282Z"
   },
   {
    "duration": 186,
    "start_time": "2023-03-27T06:13:53.289Z"
   },
   {
    "duration": 11,
    "start_time": "2023-03-27T06:13:53.477Z"
   },
   {
    "duration": 14,
    "start_time": "2023-03-27T06:13:53.490Z"
   },
   {
    "duration": 4,
    "start_time": "2023-03-27T06:13:53.577Z"
   },
   {
    "duration": 99,
    "start_time": "2023-03-27T06:13:53.582Z"
   },
   {
    "duration": 12,
    "start_time": "2023-03-27T06:13:53.683Z"
   },
   {
    "duration": 78,
    "start_time": "2023-03-27T06:13:53.697Z"
   },
   {
    "duration": 5,
    "start_time": "2023-03-27T06:13:53.778Z"
   },
   {
    "duration": 91,
    "start_time": "2023-03-27T06:13:53.786Z"
   },
   {
    "duration": 5,
    "start_time": "2023-03-27T06:13:53.879Z"
   },
   {
    "duration": 8,
    "start_time": "2023-03-27T06:13:53.886Z"
   },
   {
    "duration": 9,
    "start_time": "2023-03-27T06:13:53.895Z"
   },
   {
    "duration": 19,
    "start_time": "2023-03-27T06:13:53.905Z"
   },
   {
    "duration": 11,
    "start_time": "2023-03-27T06:13:53.926Z"
   },
   {
    "duration": 4,
    "start_time": "2023-03-27T06:13:53.939Z"
   },
   {
    "duration": 6,
    "start_time": "2023-03-27T06:13:53.945Z"
   },
   {
    "duration": 6,
    "start_time": "2023-03-27T06:13:53.953Z"
   },
   {
    "duration": 7,
    "start_time": "2023-03-27T06:13:53.960Z"
   },
   {
    "duration": 11,
    "start_time": "2023-03-27T06:13:53.968Z"
   },
   {
    "duration": 9,
    "start_time": "2023-03-27T06:13:53.981Z"
   },
   {
    "duration": 4200,
    "start_time": "2023-03-27T06:13:53.992Z"
   },
   {
    "duration": 3,
    "start_time": "2023-03-27T06:13:58.193Z"
   },
   {
    "duration": 4,
    "start_time": "2023-03-27T06:14:04.531Z"
   },
   {
    "duration": 4165,
    "start_time": "2023-03-27T06:14:09.213Z"
   },
   {
    "duration": 4,
    "start_time": "2023-03-27T06:14:17.876Z"
   },
   {
    "duration": 365,
    "start_time": "2023-03-27T06:14:17.882Z"
   },
   {
    "duration": 55,
    "start_time": "2023-03-27T06:14:18.249Z"
   },
   {
    "duration": 2,
    "start_time": "2023-03-27T06:14:18.306Z"
   },
   {
    "duration": 5,
    "start_time": "2023-03-27T06:14:18.310Z"
   },
   {
    "duration": 2014,
    "start_time": "2023-03-27T06:14:18.316Z"
   },
   {
    "duration": 14,
    "start_time": "2023-03-27T06:14:20.332Z"
   },
   {
    "duration": 28,
    "start_time": "2023-03-27T06:14:20.348Z"
   },
   {
    "duration": 11,
    "start_time": "2023-03-27T06:14:20.378Z"
   },
   {
    "duration": 85,
    "start_time": "2023-03-27T06:14:20.390Z"
   },
   {
    "duration": 15,
    "start_time": "2023-03-27T06:14:20.477Z"
   },
   {
    "duration": 12,
    "start_time": "2023-03-27T06:14:20.575Z"
   },
   {
    "duration": 15,
    "start_time": "2023-03-27T06:14:20.589Z"
   },
   {
    "duration": 4,
    "start_time": "2023-03-27T06:14:20.675Z"
   },
   {
    "duration": 117,
    "start_time": "2023-03-27T06:14:20.680Z"
   },
   {
    "duration": 12,
    "start_time": "2023-03-27T06:14:20.799Z"
   },
   {
    "duration": 8,
    "start_time": "2023-03-27T06:14:20.813Z"
   },
   {
    "duration": 56,
    "start_time": "2023-03-27T06:14:20.823Z"
   },
   {
    "duration": 97,
    "start_time": "2023-03-27T06:14:20.881Z"
   },
   {
    "duration": 11,
    "start_time": "2023-03-27T06:14:20.980Z"
   },
   {
    "duration": 8,
    "start_time": "2023-03-27T06:14:20.993Z"
   },
   {
    "duration": 9,
    "start_time": "2023-03-27T06:14:21.003Z"
   },
   {
    "duration": 9,
    "start_time": "2023-03-27T06:14:21.013Z"
   },
   {
    "duration": 7,
    "start_time": "2023-03-27T06:14:21.024Z"
   },
   {
    "duration": 15,
    "start_time": "2023-03-27T06:14:21.032Z"
   },
   {
    "duration": 5,
    "start_time": "2023-03-27T06:14:21.048Z"
   },
   {
    "duration": 6,
    "start_time": "2023-03-27T06:14:21.054Z"
   },
   {
    "duration": 5,
    "start_time": "2023-03-27T06:14:21.061Z"
   },
   {
    "duration": 7,
    "start_time": "2023-03-27T06:14:21.067Z"
   },
   {
    "duration": 13,
    "start_time": "2023-03-27T06:14:21.076Z"
   },
   {
    "duration": 4181,
    "start_time": "2023-03-27T06:14:21.090Z"
   },
   {
    "duration": 3,
    "start_time": "2023-03-27T06:14:25.274Z"
   },
   {
    "duration": 2905,
    "start_time": "2023-03-27T06:15:07.596Z"
   },
   {
    "duration": 395,
    "start_time": "2023-03-27T06:15:10.503Z"
   },
   {
    "duration": 41,
    "start_time": "2023-03-27T06:15:10.900Z"
   },
   {
    "duration": 2,
    "start_time": "2023-03-27T06:15:10.943Z"
   },
   {
    "duration": 14,
    "start_time": "2023-03-27T06:15:10.947Z"
   },
   {
    "duration": 2002,
    "start_time": "2023-03-27T06:15:10.975Z"
   },
   {
    "duration": 14,
    "start_time": "2023-03-27T06:15:12.979Z"
   },
   {
    "duration": 17,
    "start_time": "2023-03-27T06:15:12.995Z"
   },
   {
    "duration": 66,
    "start_time": "2023-03-27T06:15:13.014Z"
   },
   {
    "duration": 4,
    "start_time": "2023-03-27T06:15:13.083Z"
   },
   {
    "duration": 122,
    "start_time": "2023-03-27T06:15:13.088Z"
   },
   {
    "duration": 14,
    "start_time": "2023-03-27T06:15:13.212Z"
   },
   {
    "duration": 48,
    "start_time": "2023-03-27T06:15:13.228Z"
   },
   {
    "duration": 5,
    "start_time": "2023-03-27T06:15:13.279Z"
   },
   {
    "duration": 99,
    "start_time": "2023-03-27T06:15:13.288Z"
   },
   {
    "duration": 13,
    "start_time": "2023-03-27T06:15:13.389Z"
   },
   {
    "duration": 72,
    "start_time": "2023-03-27T06:15:13.403Z"
   },
   {
    "duration": 4,
    "start_time": "2023-03-27T06:15:13.477Z"
   },
   {
    "duration": 95,
    "start_time": "2023-03-27T06:15:13.483Z"
   },
   {
    "duration": 4,
    "start_time": "2023-03-27T06:15:13.579Z"
   },
   {
    "duration": 6,
    "start_time": "2023-03-27T06:15:13.584Z"
   },
   {
    "duration": 4,
    "start_time": "2023-03-27T06:15:13.592Z"
   },
   {
    "duration": 6,
    "start_time": "2023-03-27T06:15:13.598Z"
   },
   {
    "duration": 9,
    "start_time": "2023-03-27T06:15:13.605Z"
   },
   {
    "duration": 8,
    "start_time": "2023-03-27T06:15:13.616Z"
   },
   {
    "duration": 6,
    "start_time": "2023-03-27T06:15:13.625Z"
   },
   {
    "duration": 6,
    "start_time": "2023-03-27T06:15:13.634Z"
   },
   {
    "duration": 32,
    "start_time": "2023-03-27T06:15:13.645Z"
   },
   {
    "duration": 8,
    "start_time": "2023-03-27T06:15:13.680Z"
   },
   {
    "duration": 10,
    "start_time": "2023-03-27T06:15:13.690Z"
   },
   {
    "duration": 135,
    "start_time": "2023-03-27T06:15:13.702Z"
   },
   {
    "duration": 0,
    "start_time": "2023-03-27T06:15:13.839Z"
   },
   {
    "duration": 12,
    "start_time": "2023-03-27T06:15:36.067Z"
   },
   {
    "duration": 47,
    "start_time": "2023-03-27T07:01:02.619Z"
   },
   {
    "duration": 1518,
    "start_time": "2023-03-27T07:01:07.893Z"
   },
   {
    "duration": 644,
    "start_time": "2023-03-27T07:01:09.413Z"
   },
   {
    "duration": 39,
    "start_time": "2023-03-27T07:01:10.058Z"
   },
   {
    "duration": 2,
    "start_time": "2023-03-27T07:01:10.099Z"
   },
   {
    "duration": 7,
    "start_time": "2023-03-27T07:01:10.102Z"
   },
   {
    "duration": 1794,
    "start_time": "2023-03-27T07:01:10.111Z"
   },
   {
    "duration": 14,
    "start_time": "2023-03-27T07:01:11.906Z"
   },
   {
    "duration": 16,
    "start_time": "2023-03-27T07:01:11.921Z"
   },
   {
    "duration": 44,
    "start_time": "2023-03-27T07:01:11.939Z"
   },
   {
    "duration": 105,
    "start_time": "2023-03-27T07:01:11.987Z"
   },
   {
    "duration": 40,
    "start_time": "2023-03-27T07:01:12.094Z"
   },
   {
    "duration": 18,
    "start_time": "2023-03-27T07:01:12.135Z"
   },
   {
    "duration": 34,
    "start_time": "2023-03-27T07:01:12.155Z"
   },
   {
    "duration": 94,
    "start_time": "2023-03-27T07:01:12.192Z"
   },
   {
    "duration": 33,
    "start_time": "2023-03-27T07:01:12.289Z"
   },
   {
    "duration": 61,
    "start_time": "2023-03-27T07:01:12.323Z"
   },
   {
    "duration": 10,
    "start_time": "2023-03-27T07:01:12.386Z"
   },
   {
    "duration": 190,
    "start_time": "2023-03-27T07:01:12.398Z"
   },
   {
    "duration": 11,
    "start_time": "2023-03-27T07:01:12.589Z"
   },
   {
    "duration": 12,
    "start_time": "2023-03-27T07:01:12.601Z"
   },
   {
    "duration": 11,
    "start_time": "2023-03-27T07:01:12.615Z"
   },
   {
    "duration": 11,
    "start_time": "2023-03-27T07:01:12.628Z"
   },
   {
    "duration": 14,
    "start_time": "2023-03-27T07:01:12.640Z"
   },
   {
    "duration": 7,
    "start_time": "2023-03-27T07:01:12.656Z"
   },
   {
    "duration": 13,
    "start_time": "2023-03-27T07:01:12.665Z"
   },
   {
    "duration": 8,
    "start_time": "2023-03-27T07:01:12.679Z"
   },
   {
    "duration": 27,
    "start_time": "2023-03-27T07:01:12.688Z"
   },
   {
    "duration": 9,
    "start_time": "2023-03-27T07:01:12.717Z"
   },
   {
    "duration": 14,
    "start_time": "2023-03-27T07:01:12.727Z"
   },
   {
    "duration": 8,
    "start_time": "2023-03-27T07:01:12.742Z"
   },
   {
    "duration": 3883,
    "start_time": "2023-03-27T07:01:12.751Z"
   },
   {
    "duration": 3,
    "start_time": "2023-03-27T07:01:16.635Z"
   },
   {
    "duration": 4,
    "start_time": "2023-03-27T07:05:16.570Z"
   },
   {
    "duration": 5,
    "start_time": "2023-03-27T07:05:17.864Z"
   },
   {
    "duration": 3967,
    "start_time": "2023-03-27T07:05:18.249Z"
   },
   {
    "duration": 1464,
    "start_time": "2023-03-27T07:07:50.875Z"
   },
   {
    "duration": 4,
    "start_time": "2023-03-27T07:12:18.392Z"
   },
   {
    "duration": 4188,
    "start_time": "2023-03-27T07:13:34.438Z"
   },
   {
    "duration": 4,
    "start_time": "2023-03-27T07:13:38.629Z"
   },
   {
    "duration": 4102,
    "start_time": "2023-03-27T07:13:41.956Z"
   },
   {
    "duration": 3921,
    "start_time": "2023-03-27T07:20:29.708Z"
   },
   {
    "duration": 58,
    "start_time": "2023-03-27T07:20:52.556Z"
   },
   {
    "duration": 3832,
    "start_time": "2023-03-27T07:21:17.411Z"
   },
   {
    "duration": 4213,
    "start_time": "2023-03-27T07:21:50.171Z"
   }
  ],
  "kernelspec": {
   "display_name": "Python 3 (ipykernel)",
   "language": "python",
   "name": "python3"
  },
  "language_info": {
   "codemirror_mode": {
    "name": "ipython",
    "version": 3
   },
   "file_extension": ".py",
   "mimetype": "text/x-python",
   "name": "python",
   "nbconvert_exporter": "python",
   "pygments_lexer": "ipython3",
   "version": "3.9.5"
  },
  "toc": {
   "base_numbering": 1,
   "nav_menu": {},
   "number_sections": true,
   "sideBar": true,
   "skip_h1_title": true,
   "title_cell": "Table of Contents",
   "title_sidebar": "Contents",
   "toc_cell": false,
   "toc_position": {},
   "toc_section_display": true,
   "toc_window_display": false
  }
 },
 "nbformat": 4,
 "nbformat_minor": 2
}
