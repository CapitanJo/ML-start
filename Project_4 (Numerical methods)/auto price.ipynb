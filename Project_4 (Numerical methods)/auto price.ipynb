{
 "cells": [
  {
   "cell_type": "markdown",
   "metadata": {},
   "source": [
    "# Определение стоимости автомобилей"
   ]
  },
  {
   "cell_type": "markdown",
   "metadata": {},
   "source": [
    "Сервис по продаже автомобилей с пробегом «Не бит, не крашен» разрабатывает приложение для привлечения новых клиентов. В нём можно быстро узнать рыночную стоимость своего автомобиля. В вашем распоряжении исторические данные: технические характеристики, комплектации и цены автомобилей. Вам нужно построить модель для определения стоимости. \n",
    "\n",
    "Заказчику важны:\n",
    "\n",
    "- качество предсказания;\n",
    "- скорость предсказания;\n",
    "- время обучения."
   ]
  },
  {
   "cell_type": "markdown",
   "metadata": {},
   "source": [
    "## Подготовка данных"
   ]
  },
  {
   "cell_type": "code",
   "execution_count": 1,
   "metadata": {},
   "outputs": [],
   "source": [
    "\n",
    "import pandas as pd\n",
    "import numpy as np\n",
    "import matplotlib.pyplot as plt\n",
    "import math\n",
    "import lightgbm as lgb\n",
    "import xgboost\n",
    "\n",
    "from catboost import CatBoostRegressor, Pool\n",
    "from sklearn.model_selection import train_test_split\n",
    "from sklearn.metrics import mean_squared_error\n",
    "from sklearn.ensemble import RandomForestRegressor\n",
    "from sklearn.model_selection import GridSearchCV\n",
    "from sklearn.preprocessing import ( OneHotEncoder)\n",
    "from sklearn.preprocessing import OrdinalEncoder\n",
    "from sklearn.linear_model import LinearRegression\n",
    "from sklearn.ensemble import RandomForestClassifier\n",
    "from sklearn.preprocessing import StandardScaler\n",
    "from sklearn.metrics import mean_squared_error as mse\n",
    "from sklearn.metrics import mean_absolute_error\n",
    "from sklearn.metrics import make_scorer\n",
    "from sklearn.linear_model import SGDRegressor\n",
    "from sklearn.model_selection import cross_val_score\n",
    "pd.options.mode.chained_assignment = None"
   ]
  },
  {
   "cell_type": "code",
   "execution_count": 2,
   "metadata": {
    "scrolled": true
   },
   "outputs": [
    {
     "name": "stdout",
     "output_type": "stream",
     "text": [
      "<class 'pandas.core.frame.DataFrame'>\n",
      "RangeIndex: 354369 entries, 0 to 354368\n",
      "Data columns (total 16 columns):\n",
      " #   Column             Non-Null Count   Dtype \n",
      "---  ------             --------------   ----- \n",
      " 0   DateCrawled        354369 non-null  object\n",
      " 1   Price              354369 non-null  int64 \n",
      " 2   VehicleType        316879 non-null  object\n",
      " 3   RegistrationYear   354369 non-null  int64 \n",
      " 4   Gearbox            334536 non-null  object\n",
      " 5   Power              354369 non-null  int64 \n",
      " 6   Model              334664 non-null  object\n",
      " 7   Kilometer          354369 non-null  int64 \n",
      " 8   RegistrationMonth  354369 non-null  int64 \n",
      " 9   FuelType           321474 non-null  object\n",
      " 10  Brand              354369 non-null  object\n",
      " 11  Repaired           283215 non-null  object\n",
      " 12  DateCreated        354369 non-null  object\n",
      " 13  NumberOfPictures   354369 non-null  int64 \n",
      " 14  PostalCode         354369 non-null  int64 \n",
      " 15  LastSeen           354369 non-null  object\n",
      "dtypes: int64(7), object(9)\n",
      "memory usage: 43.3+ MB\n"
     ]
    },
    {
     "data": {
      "text/html": [
       "<div>\n",
       "<style scoped>\n",
       "    .dataframe tbody tr th:only-of-type {\n",
       "        vertical-align: middle;\n",
       "    }\n",
       "\n",
       "    .dataframe tbody tr th {\n",
       "        vertical-align: top;\n",
       "    }\n",
       "\n",
       "    .dataframe thead th {\n",
       "        text-align: right;\n",
       "    }\n",
       "</style>\n",
       "<table border=\"1\" class=\"dataframe\">\n",
       "  <thead>\n",
       "    <tr style=\"text-align: right;\">\n",
       "      <th></th>\n",
       "      <th>DateCrawled</th>\n",
       "      <th>Price</th>\n",
       "      <th>VehicleType</th>\n",
       "      <th>RegistrationYear</th>\n",
       "      <th>Gearbox</th>\n",
       "      <th>Power</th>\n",
       "      <th>Model</th>\n",
       "      <th>Kilometer</th>\n",
       "      <th>RegistrationMonth</th>\n",
       "      <th>FuelType</th>\n",
       "      <th>Brand</th>\n",
       "      <th>Repaired</th>\n",
       "      <th>DateCreated</th>\n",
       "      <th>NumberOfPictures</th>\n",
       "      <th>PostalCode</th>\n",
       "      <th>LastSeen</th>\n",
       "    </tr>\n",
       "  </thead>\n",
       "  <tbody>\n",
       "    <tr>\n",
       "      <th>0</th>\n",
       "      <td>2016-03-24 11:52:17</td>\n",
       "      <td>480</td>\n",
       "      <td>NaN</td>\n",
       "      <td>1993</td>\n",
       "      <td>manual</td>\n",
       "      <td>0</td>\n",
       "      <td>golf</td>\n",
       "      <td>150000</td>\n",
       "      <td>0</td>\n",
       "      <td>petrol</td>\n",
       "      <td>volkswagen</td>\n",
       "      <td>NaN</td>\n",
       "      <td>2016-03-24 00:00:00</td>\n",
       "      <td>0</td>\n",
       "      <td>70435</td>\n",
       "      <td>2016-04-07 03:16:57</td>\n",
       "    </tr>\n",
       "    <tr>\n",
       "      <th>1</th>\n",
       "      <td>2016-03-24 10:58:45</td>\n",
       "      <td>18300</td>\n",
       "      <td>coupe</td>\n",
       "      <td>2011</td>\n",
       "      <td>manual</td>\n",
       "      <td>190</td>\n",
       "      <td>NaN</td>\n",
       "      <td>125000</td>\n",
       "      <td>5</td>\n",
       "      <td>gasoline</td>\n",
       "      <td>audi</td>\n",
       "      <td>yes</td>\n",
       "      <td>2016-03-24 00:00:00</td>\n",
       "      <td>0</td>\n",
       "      <td>66954</td>\n",
       "      <td>2016-04-07 01:46:50</td>\n",
       "    </tr>\n",
       "    <tr>\n",
       "      <th>2</th>\n",
       "      <td>2016-03-14 12:52:21</td>\n",
       "      <td>9800</td>\n",
       "      <td>suv</td>\n",
       "      <td>2004</td>\n",
       "      <td>auto</td>\n",
       "      <td>163</td>\n",
       "      <td>grand</td>\n",
       "      <td>125000</td>\n",
       "      <td>8</td>\n",
       "      <td>gasoline</td>\n",
       "      <td>jeep</td>\n",
       "      <td>NaN</td>\n",
       "      <td>2016-03-14 00:00:00</td>\n",
       "      <td>0</td>\n",
       "      <td>90480</td>\n",
       "      <td>2016-04-05 12:47:46</td>\n",
       "    </tr>\n",
       "    <tr>\n",
       "      <th>3</th>\n",
       "      <td>2016-03-17 16:54:04</td>\n",
       "      <td>1500</td>\n",
       "      <td>small</td>\n",
       "      <td>2001</td>\n",
       "      <td>manual</td>\n",
       "      <td>75</td>\n",
       "      <td>golf</td>\n",
       "      <td>150000</td>\n",
       "      <td>6</td>\n",
       "      <td>petrol</td>\n",
       "      <td>volkswagen</td>\n",
       "      <td>no</td>\n",
       "      <td>2016-03-17 00:00:00</td>\n",
       "      <td>0</td>\n",
       "      <td>91074</td>\n",
       "      <td>2016-03-17 17:40:17</td>\n",
       "    </tr>\n",
       "    <tr>\n",
       "      <th>4</th>\n",
       "      <td>2016-03-31 17:25:20</td>\n",
       "      <td>3600</td>\n",
       "      <td>small</td>\n",
       "      <td>2008</td>\n",
       "      <td>manual</td>\n",
       "      <td>69</td>\n",
       "      <td>fabia</td>\n",
       "      <td>90000</td>\n",
       "      <td>7</td>\n",
       "      <td>gasoline</td>\n",
       "      <td>skoda</td>\n",
       "      <td>no</td>\n",
       "      <td>2016-03-31 00:00:00</td>\n",
       "      <td>0</td>\n",
       "      <td>60437</td>\n",
       "      <td>2016-04-06 10:17:21</td>\n",
       "    </tr>\n",
       "    <tr>\n",
       "      <th>5</th>\n",
       "      <td>2016-04-04 17:36:23</td>\n",
       "      <td>650</td>\n",
       "      <td>sedan</td>\n",
       "      <td>1995</td>\n",
       "      <td>manual</td>\n",
       "      <td>102</td>\n",
       "      <td>3er</td>\n",
       "      <td>150000</td>\n",
       "      <td>10</td>\n",
       "      <td>petrol</td>\n",
       "      <td>bmw</td>\n",
       "      <td>yes</td>\n",
       "      <td>2016-04-04 00:00:00</td>\n",
       "      <td>0</td>\n",
       "      <td>33775</td>\n",
       "      <td>2016-04-06 19:17:07</td>\n",
       "    </tr>\n",
       "    <tr>\n",
       "      <th>6</th>\n",
       "      <td>2016-04-01 20:48:51</td>\n",
       "      <td>2200</td>\n",
       "      <td>convertible</td>\n",
       "      <td>2004</td>\n",
       "      <td>manual</td>\n",
       "      <td>109</td>\n",
       "      <td>2_reihe</td>\n",
       "      <td>150000</td>\n",
       "      <td>8</td>\n",
       "      <td>petrol</td>\n",
       "      <td>peugeot</td>\n",
       "      <td>no</td>\n",
       "      <td>2016-04-01 00:00:00</td>\n",
       "      <td>0</td>\n",
       "      <td>67112</td>\n",
       "      <td>2016-04-05 18:18:39</td>\n",
       "    </tr>\n",
       "    <tr>\n",
       "      <th>7</th>\n",
       "      <td>2016-03-21 18:54:38</td>\n",
       "      <td>0</td>\n",
       "      <td>sedan</td>\n",
       "      <td>1980</td>\n",
       "      <td>manual</td>\n",
       "      <td>50</td>\n",
       "      <td>other</td>\n",
       "      <td>40000</td>\n",
       "      <td>7</td>\n",
       "      <td>petrol</td>\n",
       "      <td>volkswagen</td>\n",
       "      <td>no</td>\n",
       "      <td>2016-03-21 00:00:00</td>\n",
       "      <td>0</td>\n",
       "      <td>19348</td>\n",
       "      <td>2016-03-25 16:47:58</td>\n",
       "    </tr>\n",
       "    <tr>\n",
       "      <th>8</th>\n",
       "      <td>2016-04-04 23:42:13</td>\n",
       "      <td>14500</td>\n",
       "      <td>bus</td>\n",
       "      <td>2014</td>\n",
       "      <td>manual</td>\n",
       "      <td>125</td>\n",
       "      <td>c_max</td>\n",
       "      <td>30000</td>\n",
       "      <td>8</td>\n",
       "      <td>petrol</td>\n",
       "      <td>ford</td>\n",
       "      <td>NaN</td>\n",
       "      <td>2016-04-04 00:00:00</td>\n",
       "      <td>0</td>\n",
       "      <td>94505</td>\n",
       "      <td>2016-04-04 23:42:13</td>\n",
       "    </tr>\n",
       "    <tr>\n",
       "      <th>9</th>\n",
       "      <td>2016-03-17 10:53:50</td>\n",
       "      <td>999</td>\n",
       "      <td>small</td>\n",
       "      <td>1998</td>\n",
       "      <td>manual</td>\n",
       "      <td>101</td>\n",
       "      <td>golf</td>\n",
       "      <td>150000</td>\n",
       "      <td>0</td>\n",
       "      <td>NaN</td>\n",
       "      <td>volkswagen</td>\n",
       "      <td>NaN</td>\n",
       "      <td>2016-03-17 00:00:00</td>\n",
       "      <td>0</td>\n",
       "      <td>27472</td>\n",
       "      <td>2016-03-31 17:17:06</td>\n",
       "    </tr>\n",
       "  </tbody>\n",
       "</table>\n",
       "</div>"
      ],
      "text/plain": [
       "           DateCrawled  Price  VehicleType  RegistrationYear Gearbox  Power  \\\n",
       "0  2016-03-24 11:52:17    480          NaN              1993  manual      0   \n",
       "1  2016-03-24 10:58:45  18300        coupe              2011  manual    190   \n",
       "2  2016-03-14 12:52:21   9800          suv              2004    auto    163   \n",
       "3  2016-03-17 16:54:04   1500        small              2001  manual     75   \n",
       "4  2016-03-31 17:25:20   3600        small              2008  manual     69   \n",
       "5  2016-04-04 17:36:23    650        sedan              1995  manual    102   \n",
       "6  2016-04-01 20:48:51   2200  convertible              2004  manual    109   \n",
       "7  2016-03-21 18:54:38      0        sedan              1980  manual     50   \n",
       "8  2016-04-04 23:42:13  14500          bus              2014  manual    125   \n",
       "9  2016-03-17 10:53:50    999        small              1998  manual    101   \n",
       "\n",
       "     Model  Kilometer  RegistrationMonth  FuelType       Brand Repaired  \\\n",
       "0     golf     150000                  0    petrol  volkswagen      NaN   \n",
       "1      NaN     125000                  5  gasoline        audi      yes   \n",
       "2    grand     125000                  8  gasoline        jeep      NaN   \n",
       "3     golf     150000                  6    petrol  volkswagen       no   \n",
       "4    fabia      90000                  7  gasoline       skoda       no   \n",
       "5      3er     150000                 10    petrol         bmw      yes   \n",
       "6  2_reihe     150000                  8    petrol     peugeot       no   \n",
       "7    other      40000                  7    petrol  volkswagen       no   \n",
       "8    c_max      30000                  8    petrol        ford      NaN   \n",
       "9     golf     150000                  0       NaN  volkswagen      NaN   \n",
       "\n",
       "           DateCreated  NumberOfPictures  PostalCode             LastSeen  \n",
       "0  2016-03-24 00:00:00                 0       70435  2016-04-07 03:16:57  \n",
       "1  2016-03-24 00:00:00                 0       66954  2016-04-07 01:46:50  \n",
       "2  2016-03-14 00:00:00                 0       90480  2016-04-05 12:47:46  \n",
       "3  2016-03-17 00:00:00                 0       91074  2016-03-17 17:40:17  \n",
       "4  2016-03-31 00:00:00                 0       60437  2016-04-06 10:17:21  \n",
       "5  2016-04-04 00:00:00                 0       33775  2016-04-06 19:17:07  \n",
       "6  2016-04-01 00:00:00                 0       67112  2016-04-05 18:18:39  \n",
       "7  2016-03-21 00:00:00                 0       19348  2016-03-25 16:47:58  \n",
       "8  2016-04-04 00:00:00                 0       94505  2016-04-04 23:42:13  \n",
       "9  2016-03-17 00:00:00                 0       27472  2016-03-31 17:17:06  "
      ]
     },
     "execution_count": 2,
     "metadata": {},
     "output_type": "execute_result"
    }
   ],
   "source": [
    "frame = pd.read_csv('/datasets/autos.csv')\n",
    "frame.info()\n",
    "frame.head(10)"
   ]
  },
  {
   "cell_type": "code",
   "execution_count": 3,
   "metadata": {},
   "outputs": [
    {
     "data": {
      "text/html": [
       "<div>\n",
       "<style scoped>\n",
       "    .dataframe tbody tr th:only-of-type {\n",
       "        vertical-align: middle;\n",
       "    }\n",
       "\n",
       "    .dataframe tbody tr th {\n",
       "        vertical-align: top;\n",
       "    }\n",
       "\n",
       "    .dataframe thead th {\n",
       "        text-align: right;\n",
       "    }\n",
       "</style>\n",
       "<table border=\"1\" class=\"dataframe\">\n",
       "  <thead>\n",
       "    <tr style=\"text-align: right;\">\n",
       "      <th></th>\n",
       "      <th>Price</th>\n",
       "      <th>RegistrationYear</th>\n",
       "      <th>Power</th>\n",
       "      <th>Kilometer</th>\n",
       "      <th>RegistrationMonth</th>\n",
       "      <th>NumberOfPictures</th>\n",
       "      <th>PostalCode</th>\n",
       "    </tr>\n",
       "  </thead>\n",
       "  <tbody>\n",
       "    <tr>\n",
       "      <th>count</th>\n",
       "      <td>354369.000000</td>\n",
       "      <td>354369.000000</td>\n",
       "      <td>354369.000000</td>\n",
       "      <td>354369.000000</td>\n",
       "      <td>354369.000000</td>\n",
       "      <td>354369.0</td>\n",
       "      <td>354369.000000</td>\n",
       "    </tr>\n",
       "    <tr>\n",
       "      <th>mean</th>\n",
       "      <td>4416.656776</td>\n",
       "      <td>2004.234448</td>\n",
       "      <td>110.094337</td>\n",
       "      <td>128211.172535</td>\n",
       "      <td>5.714645</td>\n",
       "      <td>0.0</td>\n",
       "      <td>50508.689087</td>\n",
       "    </tr>\n",
       "    <tr>\n",
       "      <th>std</th>\n",
       "      <td>4514.158514</td>\n",
       "      <td>90.227958</td>\n",
       "      <td>189.850405</td>\n",
       "      <td>37905.341530</td>\n",
       "      <td>3.726421</td>\n",
       "      <td>0.0</td>\n",
       "      <td>25783.096248</td>\n",
       "    </tr>\n",
       "    <tr>\n",
       "      <th>min</th>\n",
       "      <td>0.000000</td>\n",
       "      <td>1000.000000</td>\n",
       "      <td>0.000000</td>\n",
       "      <td>5000.000000</td>\n",
       "      <td>0.000000</td>\n",
       "      <td>0.0</td>\n",
       "      <td>1067.000000</td>\n",
       "    </tr>\n",
       "    <tr>\n",
       "      <th>25%</th>\n",
       "      <td>1050.000000</td>\n",
       "      <td>1999.000000</td>\n",
       "      <td>69.000000</td>\n",
       "      <td>125000.000000</td>\n",
       "      <td>3.000000</td>\n",
       "      <td>0.0</td>\n",
       "      <td>30165.000000</td>\n",
       "    </tr>\n",
       "    <tr>\n",
       "      <th>50%</th>\n",
       "      <td>2700.000000</td>\n",
       "      <td>2003.000000</td>\n",
       "      <td>105.000000</td>\n",
       "      <td>150000.000000</td>\n",
       "      <td>6.000000</td>\n",
       "      <td>0.0</td>\n",
       "      <td>49413.000000</td>\n",
       "    </tr>\n",
       "    <tr>\n",
       "      <th>75%</th>\n",
       "      <td>6400.000000</td>\n",
       "      <td>2008.000000</td>\n",
       "      <td>143.000000</td>\n",
       "      <td>150000.000000</td>\n",
       "      <td>9.000000</td>\n",
       "      <td>0.0</td>\n",
       "      <td>71083.000000</td>\n",
       "    </tr>\n",
       "    <tr>\n",
       "      <th>max</th>\n",
       "      <td>20000.000000</td>\n",
       "      <td>9999.000000</td>\n",
       "      <td>20000.000000</td>\n",
       "      <td>150000.000000</td>\n",
       "      <td>12.000000</td>\n",
       "      <td>0.0</td>\n",
       "      <td>99998.000000</td>\n",
       "    </tr>\n",
       "  </tbody>\n",
       "</table>\n",
       "</div>"
      ],
      "text/plain": [
       "               Price  RegistrationYear          Power      Kilometer  \\\n",
       "count  354369.000000     354369.000000  354369.000000  354369.000000   \n",
       "mean     4416.656776       2004.234448     110.094337  128211.172535   \n",
       "std      4514.158514         90.227958     189.850405   37905.341530   \n",
       "min         0.000000       1000.000000       0.000000    5000.000000   \n",
       "25%      1050.000000       1999.000000      69.000000  125000.000000   \n",
       "50%      2700.000000       2003.000000     105.000000  150000.000000   \n",
       "75%      6400.000000       2008.000000     143.000000  150000.000000   \n",
       "max     20000.000000       9999.000000   20000.000000  150000.000000   \n",
       "\n",
       "       RegistrationMonth  NumberOfPictures     PostalCode  \n",
       "count      354369.000000          354369.0  354369.000000  \n",
       "mean            5.714645               0.0   50508.689087  \n",
       "std             3.726421               0.0   25783.096248  \n",
       "min             0.000000               0.0    1067.000000  \n",
       "25%             3.000000               0.0   30165.000000  \n",
       "50%             6.000000               0.0   49413.000000  \n",
       "75%             9.000000               0.0   71083.000000  \n",
       "max            12.000000               0.0   99998.000000  "
      ]
     },
     "execution_count": 3,
     "metadata": {},
     "output_type": "execute_result"
    }
   ],
   "source": [
    "frame.describe()"
   ]
  },
  {
   "cell_type": "code",
   "execution_count": 4,
   "metadata": {},
   "outputs": [
    {
     "data": {
      "text/plain": [
       "DateCrawled              0\n",
       "Price                    0\n",
       "VehicleType          37490\n",
       "RegistrationYear         0\n",
       "Gearbox              19833\n",
       "Power                    0\n",
       "Model                19705\n",
       "Kilometer                0\n",
       "RegistrationMonth        0\n",
       "FuelType             32895\n",
       "Brand                    0\n",
       "Repaired             71154\n",
       "DateCreated              0\n",
       "NumberOfPictures         0\n",
       "PostalCode               0\n",
       "LastSeen                 0\n",
       "dtype: int64"
      ]
     },
     "execution_count": 4,
     "metadata": {},
     "output_type": "execute_result"
    }
   ],
   "source": [
    "frame.isnull().sum()"
   ]
  },
  {
   "cell_type": "code",
   "execution_count": 5,
   "metadata": {},
   "outputs": [
    {
     "data": {
      "text/plain": [
       "(10772, 16)"
      ]
     },
     "execution_count": 5,
     "metadata": {},
     "output_type": "execute_result"
    }
   ],
   "source": [
    "drop_price = frame[frame['Price'] == 0]\n",
    "\n",
    "drop_price.shape"
   ]
  },
  {
   "cell_type": "code",
   "execution_count": 6,
   "metadata": {},
   "outputs": [],
   "source": [
    "frame = frame[frame['Price'] != 0]"
   ]
  },
  {
   "cell_type": "code",
   "execution_count": 7,
   "metadata": {},
   "outputs": [
    {
     "data": {
      "text/plain": [
       "(343597,)"
      ]
     },
     "execution_count": 7,
     "metadata": {},
     "output_type": "execute_result"
    }
   ],
   "source": [
    "drop_date = frame.loc[frame['RegistrationYear']>=2020 | (frame['RegistrationYear'] <= 1930), 'RegistrationYear']\n",
    "drop_date.shape"
   ]
  },
  {
   "cell_type": "code",
   "execution_count": 8,
   "metadata": {},
   "outputs": [],
   "source": [
    "frame = frame[frame['RegistrationYear']<=2023]"
   ]
  },
  {
   "cell_type": "markdown",
   "metadata": {},
   "source": [
    "Цена = 0 в признаках, нас не интересует по определнию поставленной задачи (~3% данных)\n",
    "\n",
    "Дата регистрации выше текущей - определенно ошибка в данных"
   ]
  },
  {
   "cell_type": "code",
   "execution_count": 9,
   "metadata": {},
   "outputs": [],
   "source": [
    "frame['Gearbox'] = frame['Gearbox'].replace('manual',0)\n",
    "frame['Gearbox'] = frame['Gearbox'].replace('auto',1)"
   ]
  },
  {
   "cell_type": "code",
   "execution_count": 10,
   "metadata": {},
   "outputs": [
    {
     "data": {
      "text/plain": [
       "17289"
      ]
     },
     "execution_count": 10,
     "metadata": {},
     "output_type": "execute_result"
    }
   ],
   "source": [
    "frame['Gearbox'].isnull().sum()"
   ]
  },
  {
   "cell_type": "code",
   "execution_count": 11,
   "metadata": {},
   "outputs": [],
   "source": [
    "frame.loc[(frame['Power'] > 1000) | (frame['Power'] <= 0), 'Power'] = None\n",
    "frame['Power'] = frame['Power'].fillna(frame.groupby('Model')['Power'].transform('median'))\n",
    "frame = frame.loc[~frame['Power'].isna()]\n",
    "frame['Power'] = frame['Power'].astype('int64')"
   ]
  },
  {
   "cell_type": "code",
   "execution_count": 12,
   "metadata": {},
   "outputs": [],
   "source": [
    "df_with_date = frame.copy()\n",
    "frame = frame.drop([\"DateCrawled\",\"DateCreated\",\"LastSeen\",\"NumberOfPictures\",\"PostalCode\"],axis = 1)"
   ]
  },
  {
   "cell_type": "code",
   "execution_count": 13,
   "metadata": {},
   "outputs": [],
   "source": [
    "frame[\"VehicleType\"] = frame[\"VehicleType\"].fillna(frame[\"VehicleType\"].mode().values[0])\n",
    "frame[\"Gearbox\"] = frame[\"Gearbox\"].fillna(frame[\"Gearbox\"].mode().values[0])\n",
    "frame[\"Model\"] = frame[\"Model\"].fillna(frame[\"Model\"].mode().values[0])\n",
    "frame[\"FuelType\"] = frame[\"FuelType\"].fillna(frame[\"FuelType\"].mode().values[0])\n",
    "frame[\"Repaired\"] = frame[\"Repaired\"].fillna(\"no\")"
   ]
  },
  {
   "cell_type": "markdown",
   "metadata": {},
   "source": [
    "Вывод\n",
    "\n",
    "Проанализируем значения числовых признаков перед применения к ним алгоритма очитки выбросов\n",
    "\n",
    "Можно заметить, что в столбце RegistrationYear присутствуют аномальные значения, предлагаю установить границы, в котором может находится значение этого столбца. А именно, год регистрации не может быть больше 2020, и не может быть меньше 1930. Все показания выше или ниже этих значений приведем к максимальной или минимальной границе (признак не нуждается в поиске выбросов)\n",
    "\n",
    "Можно заметить, что в столбце RegistrationMonth, встречается значение 0, которое корректнее было бы изменить на 1 (признак не нуждается в поиске выбросов)\n",
    "\n",
    "Так же в Power присутствуют аномальные значения (20 000 лошадиных сил), ограничим их мощностью БелАЗ(а), т.е. 3500 (признак нуждается в поиске выбросов)\n",
    "\n",
    "Столбец Kilometer имеет достаточно реальные значения, поэтому смысла искать там выбросы нет (признак не нуждается в поиске выбросов)\n",
    "\n",
    "Значения из столбца Price обладают высоким стандартным отклонениям, что пагубно будет влиять на работу алгоритма (признак нуждается в поиске выбросов)\n",
    "\n",
    "Такие признаки как NumberOfPictures и PostalCode (признаки не нуждается в поиске выбросов) , так как не влияют на реальную стоимость автомобиля (их мы просто удалим)"
   ]
  },
  {
   "cell_type": "code",
   "execution_count": 14,
   "metadata": {},
   "outputs": [],
   "source": [
    "# RegistrationYear \n",
    "def Balance_RegistrationYear(value):\n",
    "    if value > 2020:\n",
    "        return 2020\n",
    "    elif value < 1930:\n",
    "        return 1930\n",
    "    else:\n",
    "        return value\n",
    "frame[\"RegistrationYear\"] = frame[\"RegistrationYear\"].apply(Balance_RegistrationYear)\n",
    "# RegistrationMonth\n",
    "frame.loc[frame['RegistrationMonth'] == 0, 'RegistrationMonth'] = 1\n",
    "# Power\n",
    "frame.loc[frame['Power'] > 3500, 'Power'] = 3500"
   ]
  },
  {
   "cell_type": "code",
   "execution_count": 15,
   "metadata": {},
   "outputs": [],
   "source": [
    "def remove_ouliers(frame,column):\n",
    "    q25=np.array(frame[column].quantile(0.25))\n",
    "    \n",
    "    q75=np.array(frame[column].quantile(0.75))\n",
    "    first_part=q25-1.5*(q75-q25)\n",
    "    second_part=q75+1.5*(q75-q25)\n",
    "    del_index = []\n",
    "    for index_value, value in zip(frame[column].index,frame[column]):\n",
    "        if second_part <= value or value <= first_part:\n",
    "            del_index.append(index_value)\n",
    "    \n",
    "    print('Количество строк, выбранных для удаления ' + str(column)+\":\",len(del_index))\n",
    "    return del_index"
   ]
  },
  {
   "cell_type": "code",
   "execution_count": 16,
   "metadata": {},
   "outputs": [
    {
     "name": "stdout",
     "output_type": "stream",
     "text": [
      "Количество строк, выбранных для удаления Price: 18867\n",
      "Количество строк, выбранных для удаления Power: 6007\n",
      "Было удалено: 24874\n"
     ]
    }
   ],
   "source": [
    "array_num_col = [\"Price\",\"Power\"]\n",
    "count = 0 \n",
    "for column in array_num_col:\n",
    "    index_del = remove_ouliers(frame,column)\n",
    "    count += len(index_del)\n",
    "    frame = frame.drop(index_del,axis = 0)\n",
    "print(\"Было удалено:\", count)"
   ]
  },
  {
   "cell_type": "code",
   "execution_count": 17,
   "metadata": {},
   "outputs": [
    {
     "data": {
      "text/html": [
       "<div>\n",
       "<style scoped>\n",
       "    .dataframe tbody tr th:only-of-type {\n",
       "        vertical-align: middle;\n",
       "    }\n",
       "\n",
       "    .dataframe tbody tr th {\n",
       "        vertical-align: top;\n",
       "    }\n",
       "\n",
       "    .dataframe thead th {\n",
       "        text-align: right;\n",
       "    }\n",
       "</style>\n",
       "<table border=\"1\" class=\"dataframe\">\n",
       "  <thead>\n",
       "    <tr style=\"text-align: right;\">\n",
       "      <th></th>\n",
       "      <th>Price</th>\n",
       "      <th>RegistrationYear</th>\n",
       "      <th>Gearbox</th>\n",
       "      <th>Power</th>\n",
       "      <th>Kilometer</th>\n",
       "      <th>RegistrationMonth</th>\n",
       "    </tr>\n",
       "  </thead>\n",
       "  <tbody>\n",
       "    <tr>\n",
       "      <th>Price</th>\n",
       "      <td>1.000000</td>\n",
       "      <td>0.387145</td>\n",
       "      <td>0.195630</td>\n",
       "      <td>0.441707</td>\n",
       "      <td>-0.313266</td>\n",
       "      <td>0.089682</td>\n",
       "    </tr>\n",
       "    <tr>\n",
       "      <th>RegistrationYear</th>\n",
       "      <td>0.387145</td>\n",
       "      <td>1.000000</td>\n",
       "      <td>0.009337</td>\n",
       "      <td>0.082341</td>\n",
       "      <td>-0.168279</td>\n",
       "      <td>0.030813</td>\n",
       "    </tr>\n",
       "    <tr>\n",
       "      <th>Gearbox</th>\n",
       "      <td>0.195630</td>\n",
       "      <td>0.009337</td>\n",
       "      <td>1.000000</td>\n",
       "      <td>0.357443</td>\n",
       "      <td>0.019841</td>\n",
       "      <td>0.036360</td>\n",
       "    </tr>\n",
       "    <tr>\n",
       "      <th>Power</th>\n",
       "      <td>0.441707</td>\n",
       "      <td>0.082341</td>\n",
       "      <td>0.357443</td>\n",
       "      <td>1.000000</td>\n",
       "      <td>0.161163</td>\n",
       "      <td>0.046100</td>\n",
       "    </tr>\n",
       "    <tr>\n",
       "      <th>Kilometer</th>\n",
       "      <td>-0.313266</td>\n",
       "      <td>-0.168279</td>\n",
       "      <td>0.019841</td>\n",
       "      <td>0.161163</td>\n",
       "      <td>1.000000</td>\n",
       "      <td>0.000594</td>\n",
       "    </tr>\n",
       "    <tr>\n",
       "      <th>RegistrationMonth</th>\n",
       "      <td>0.089682</td>\n",
       "      <td>0.030813</td>\n",
       "      <td>0.036360</td>\n",
       "      <td>0.046100</td>\n",
       "      <td>0.000594</td>\n",
       "      <td>1.000000</td>\n",
       "    </tr>\n",
       "  </tbody>\n",
       "</table>\n",
       "</div>"
      ],
      "text/plain": [
       "                      Price  RegistrationYear   Gearbox     Power  Kilometer  \\\n",
       "Price              1.000000          0.387145  0.195630  0.441707  -0.313266   \n",
       "RegistrationYear   0.387145          1.000000  0.009337  0.082341  -0.168279   \n",
       "Gearbox            0.195630          0.009337  1.000000  0.357443   0.019841   \n",
       "Power              0.441707          0.082341  0.357443  1.000000   0.161163   \n",
       "Kilometer         -0.313266         -0.168279  0.019841  0.161163   1.000000   \n",
       "RegistrationMonth  0.089682          0.030813  0.036360  0.046100   0.000594   \n",
       "\n",
       "                   RegistrationMonth  \n",
       "Price                       0.089682  \n",
       "RegistrationYear            0.030813  \n",
       "Gearbox                     0.036360  \n",
       "Power                       0.046100  \n",
       "Kilometer                   0.000594  \n",
       "RegistrationMonth           1.000000  "
      ]
     },
     "execution_count": 17,
     "metadata": {},
     "output_type": "execute_result"
    }
   ],
   "source": [
    "frame.corr()"
   ]
  },
  {
   "cell_type": "markdown",
   "metadata": {},
   "source": [
    "Выводы\n",
    "\n",
    "Пропуски были только в категорийных признаках, поэтому заполнения выполнял модой\n",
    "\n",
    "Дубликатов внутри признаков найдено не было\n",
    "\n",
    "Дубликаты объектов: было найдено 5 штук - удалены\n",
    "\n",
    "Проверена корреляция: все в рамках разумных пределов, наиболее коррелирующим с целевим признаком является признак отвечающий за мощность\n",
    "\n",
    "Данные были очищены от выбросов, суммарно было удалено 73 145 объектов, что составляет около 20%. Это достаточно большой процент, поэтому в случае низких результатов модели имеет смысл изменить(увеличить) коэффициент при межквартильном размахе, что уменьшит общий объем объектов идентифицирующих как выбросы (при коэффициенте равном 2 сумма количества удаленных объектов уменьшится ~20 000 (приблизительно 5% от изначальной выборки))"
   ]
  },
  {
   "cell_type": "code",
   "execution_count": 18,
   "metadata": {},
   "outputs": [
    {
     "data": {
      "text/plain": [
       "30213"
      ]
     },
     "execution_count": 18,
     "metadata": {},
     "output_type": "execute_result"
    }
   ],
   "source": [
    "frame.duplicated().sum()"
   ]
  },
  {
   "cell_type": "code",
   "execution_count": 19,
   "metadata": {},
   "outputs": [
    {
     "data": {
      "text/plain": [
       "0"
      ]
     },
     "execution_count": 19,
     "metadata": {},
     "output_type": "execute_result"
    }
   ],
   "source": [
    "frame = frame.drop_duplicates()\n",
    "frame.duplicated().sum()"
   ]
  },
  {
   "cell_type": "markdown",
   "metadata": {},
   "source": [
    "Разделим и закодируем выборки"
   ]
  },
  {
   "cell_type": "code",
   "execution_count": 20,
   "metadata": {},
   "outputs": [],
   "source": [
    "frame_ohe = frame.copy()\n",
    "frame_ohe = pd.get_dummies(frame_ohe)\n",
    "\n",
    "\n",
    "\n",
    "frame_light = frame.copy()\n",
    "frame_light = frame_light.astype({\"VehicleType\":'category',\n",
    "                                  \"Gearbox\":'category',\n",
    "                                  \"Model\":'category',\n",
    "                                  \"FuelType\":'category',\n",
    "                                  \"Brand\":'category',\n",
    "                                  \"Repaired\":'category'})\n",
    "\n"
   ]
  },
  {
   "cell_type": "code",
   "execution_count": 21,
   "metadata": {},
   "outputs": [
    {
     "data": {
      "text/html": [
       "<div>\n",
       "<style scoped>\n",
       "    .dataframe tbody tr th:only-of-type {\n",
       "        vertical-align: middle;\n",
       "    }\n",
       "\n",
       "    .dataframe tbody tr th {\n",
       "        vertical-align: top;\n",
       "    }\n",
       "\n",
       "    .dataframe thead th {\n",
       "        text-align: right;\n",
       "    }\n",
       "</style>\n",
       "<table border=\"1\" class=\"dataframe\">\n",
       "  <thead>\n",
       "    <tr style=\"text-align: right;\">\n",
       "      <th></th>\n",
       "      <th>Price</th>\n",
       "      <th>RegistrationYear</th>\n",
       "      <th>Gearbox</th>\n",
       "      <th>Power</th>\n",
       "      <th>Kilometer</th>\n",
       "      <th>RegistrationMonth</th>\n",
       "      <th>VehicleType_bus</th>\n",
       "      <th>VehicleType_convertible</th>\n",
       "      <th>VehicleType_coupe</th>\n",
       "      <th>VehicleType_other</th>\n",
       "      <th>...</th>\n",
       "      <th>Brand_smart</th>\n",
       "      <th>Brand_sonstige_autos</th>\n",
       "      <th>Brand_subaru</th>\n",
       "      <th>Brand_suzuki</th>\n",
       "      <th>Brand_toyota</th>\n",
       "      <th>Brand_trabant</th>\n",
       "      <th>Brand_volkswagen</th>\n",
       "      <th>Brand_volvo</th>\n",
       "      <th>Repaired_no</th>\n",
       "      <th>Repaired_yes</th>\n",
       "    </tr>\n",
       "  </thead>\n",
       "  <tbody>\n",
       "    <tr>\n",
       "      <th>0</th>\n",
       "      <td>480</td>\n",
       "      <td>1993</td>\n",
       "      <td>0.0</td>\n",
       "      <td>101</td>\n",
       "      <td>150000</td>\n",
       "      <td>1</td>\n",
       "      <td>0</td>\n",
       "      <td>0</td>\n",
       "      <td>0</td>\n",
       "      <td>0</td>\n",
       "      <td>...</td>\n",
       "      <td>0</td>\n",
       "      <td>0</td>\n",
       "      <td>0</td>\n",
       "      <td>0</td>\n",
       "      <td>0</td>\n",
       "      <td>0</td>\n",
       "      <td>1</td>\n",
       "      <td>0</td>\n",
       "      <td>1</td>\n",
       "      <td>0</td>\n",
       "    </tr>\n",
       "    <tr>\n",
       "      <th>2</th>\n",
       "      <td>9800</td>\n",
       "      <td>2004</td>\n",
       "      <td>1.0</td>\n",
       "      <td>163</td>\n",
       "      <td>125000</td>\n",
       "      <td>8</td>\n",
       "      <td>0</td>\n",
       "      <td>0</td>\n",
       "      <td>0</td>\n",
       "      <td>0</td>\n",
       "      <td>...</td>\n",
       "      <td>0</td>\n",
       "      <td>0</td>\n",
       "      <td>0</td>\n",
       "      <td>0</td>\n",
       "      <td>0</td>\n",
       "      <td>0</td>\n",
       "      <td>0</td>\n",
       "      <td>0</td>\n",
       "      <td>1</td>\n",
       "      <td>0</td>\n",
       "    </tr>\n",
       "    <tr>\n",
       "      <th>3</th>\n",
       "      <td>1500</td>\n",
       "      <td>2001</td>\n",
       "      <td>0.0</td>\n",
       "      <td>75</td>\n",
       "      <td>150000</td>\n",
       "      <td>6</td>\n",
       "      <td>0</td>\n",
       "      <td>0</td>\n",
       "      <td>0</td>\n",
       "      <td>0</td>\n",
       "      <td>...</td>\n",
       "      <td>0</td>\n",
       "      <td>0</td>\n",
       "      <td>0</td>\n",
       "      <td>0</td>\n",
       "      <td>0</td>\n",
       "      <td>0</td>\n",
       "      <td>1</td>\n",
       "      <td>0</td>\n",
       "      <td>1</td>\n",
       "      <td>0</td>\n",
       "    </tr>\n",
       "    <tr>\n",
       "      <th>4</th>\n",
       "      <td>3600</td>\n",
       "      <td>2008</td>\n",
       "      <td>0.0</td>\n",
       "      <td>69</td>\n",
       "      <td>90000</td>\n",
       "      <td>7</td>\n",
       "      <td>0</td>\n",
       "      <td>0</td>\n",
       "      <td>0</td>\n",
       "      <td>0</td>\n",
       "      <td>...</td>\n",
       "      <td>0</td>\n",
       "      <td>0</td>\n",
       "      <td>0</td>\n",
       "      <td>0</td>\n",
       "      <td>0</td>\n",
       "      <td>0</td>\n",
       "      <td>0</td>\n",
       "      <td>0</td>\n",
       "      <td>1</td>\n",
       "      <td>0</td>\n",
       "    </tr>\n",
       "    <tr>\n",
       "      <th>5</th>\n",
       "      <td>650</td>\n",
       "      <td>1995</td>\n",
       "      <td>0.0</td>\n",
       "      <td>102</td>\n",
       "      <td>150000</td>\n",
       "      <td>10</td>\n",
       "      <td>0</td>\n",
       "      <td>0</td>\n",
       "      <td>0</td>\n",
       "      <td>0</td>\n",
       "      <td>...</td>\n",
       "      <td>0</td>\n",
       "      <td>0</td>\n",
       "      <td>0</td>\n",
       "      <td>0</td>\n",
       "      <td>0</td>\n",
       "      <td>0</td>\n",
       "      <td>0</td>\n",
       "      <td>0</td>\n",
       "      <td>0</td>\n",
       "      <td>1</td>\n",
       "    </tr>\n",
       "    <tr>\n",
       "      <th>...</th>\n",
       "      <td>...</td>\n",
       "      <td>...</td>\n",
       "      <td>...</td>\n",
       "      <td>...</td>\n",
       "      <td>...</td>\n",
       "      <td>...</td>\n",
       "      <td>...</td>\n",
       "      <td>...</td>\n",
       "      <td>...</td>\n",
       "      <td>...</td>\n",
       "      <td>...</td>\n",
       "      <td>...</td>\n",
       "      <td>...</td>\n",
       "      <td>...</td>\n",
       "      <td>...</td>\n",
       "      <td>...</td>\n",
       "      <td>...</td>\n",
       "      <td>...</td>\n",
       "      <td>...</td>\n",
       "      <td>...</td>\n",
       "      <td>...</td>\n",
       "    </tr>\n",
       "    <tr>\n",
       "      <th>354361</th>\n",
       "      <td>5250</td>\n",
       "      <td>2016</td>\n",
       "      <td>1.0</td>\n",
       "      <td>150</td>\n",
       "      <td>150000</td>\n",
       "      <td>12</td>\n",
       "      <td>0</td>\n",
       "      <td>0</td>\n",
       "      <td>0</td>\n",
       "      <td>0</td>\n",
       "      <td>...</td>\n",
       "      <td>0</td>\n",
       "      <td>0</td>\n",
       "      <td>0</td>\n",
       "      <td>0</td>\n",
       "      <td>0</td>\n",
       "      <td>0</td>\n",
       "      <td>0</td>\n",
       "      <td>0</td>\n",
       "      <td>1</td>\n",
       "      <td>0</td>\n",
       "    </tr>\n",
       "    <tr>\n",
       "      <th>354362</th>\n",
       "      <td>3200</td>\n",
       "      <td>2004</td>\n",
       "      <td>0.0</td>\n",
       "      <td>225</td>\n",
       "      <td>150000</td>\n",
       "      <td>5</td>\n",
       "      <td>0</td>\n",
       "      <td>0</td>\n",
       "      <td>0</td>\n",
       "      <td>0</td>\n",
       "      <td>...</td>\n",
       "      <td>0</td>\n",
       "      <td>0</td>\n",
       "      <td>0</td>\n",
       "      <td>0</td>\n",
       "      <td>0</td>\n",
       "      <td>0</td>\n",
       "      <td>0</td>\n",
       "      <td>0</td>\n",
       "      <td>0</td>\n",
       "      <td>1</td>\n",
       "    </tr>\n",
       "    <tr>\n",
       "      <th>354366</th>\n",
       "      <td>1199</td>\n",
       "      <td>2000</td>\n",
       "      <td>1.0</td>\n",
       "      <td>101</td>\n",
       "      <td>125000</td>\n",
       "      <td>3</td>\n",
       "      <td>0</td>\n",
       "      <td>1</td>\n",
       "      <td>0</td>\n",
       "      <td>0</td>\n",
       "      <td>...</td>\n",
       "      <td>1</td>\n",
       "      <td>0</td>\n",
       "      <td>0</td>\n",
       "      <td>0</td>\n",
       "      <td>0</td>\n",
       "      <td>0</td>\n",
       "      <td>0</td>\n",
       "      <td>0</td>\n",
       "      <td>1</td>\n",
       "      <td>0</td>\n",
       "    </tr>\n",
       "    <tr>\n",
       "      <th>354367</th>\n",
       "      <td>9200</td>\n",
       "      <td>1996</td>\n",
       "      <td>0.0</td>\n",
       "      <td>102</td>\n",
       "      <td>150000</td>\n",
       "      <td>3</td>\n",
       "      <td>1</td>\n",
       "      <td>0</td>\n",
       "      <td>0</td>\n",
       "      <td>0</td>\n",
       "      <td>...</td>\n",
       "      <td>0</td>\n",
       "      <td>0</td>\n",
       "      <td>0</td>\n",
       "      <td>0</td>\n",
       "      <td>0</td>\n",
       "      <td>0</td>\n",
       "      <td>1</td>\n",
       "      <td>0</td>\n",
       "      <td>1</td>\n",
       "      <td>0</td>\n",
       "    </tr>\n",
       "    <tr>\n",
       "      <th>354368</th>\n",
       "      <td>3400</td>\n",
       "      <td>2002</td>\n",
       "      <td>0.0</td>\n",
       "      <td>100</td>\n",
       "      <td>150000</td>\n",
       "      <td>6</td>\n",
       "      <td>0</td>\n",
       "      <td>0</td>\n",
       "      <td>0</td>\n",
       "      <td>0</td>\n",
       "      <td>...</td>\n",
       "      <td>0</td>\n",
       "      <td>0</td>\n",
       "      <td>0</td>\n",
       "      <td>0</td>\n",
       "      <td>0</td>\n",
       "      <td>0</td>\n",
       "      <td>1</td>\n",
       "      <td>0</td>\n",
       "      <td>1</td>\n",
       "      <td>0</td>\n",
       "    </tr>\n",
       "  </tbody>\n",
       "</table>\n",
       "<p>283381 rows × 310 columns</p>\n",
       "</div>"
      ],
      "text/plain": [
       "        Price  RegistrationYear  Gearbox  Power  Kilometer  RegistrationMonth  \\\n",
       "0         480              1993      0.0    101     150000                  1   \n",
       "2        9800              2004      1.0    163     125000                  8   \n",
       "3        1500              2001      0.0     75     150000                  6   \n",
       "4        3600              2008      0.0     69      90000                  7   \n",
       "5         650              1995      0.0    102     150000                 10   \n",
       "...       ...               ...      ...    ...        ...                ...   \n",
       "354361   5250              2016      1.0    150     150000                 12   \n",
       "354362   3200              2004      0.0    225     150000                  5   \n",
       "354366   1199              2000      1.0    101     125000                  3   \n",
       "354367   9200              1996      0.0    102     150000                  3   \n",
       "354368   3400              2002      0.0    100     150000                  6   \n",
       "\n",
       "        VehicleType_bus  VehicleType_convertible  VehicleType_coupe  \\\n",
       "0                     0                        0                  0   \n",
       "2                     0                        0                  0   \n",
       "3                     0                        0                  0   \n",
       "4                     0                        0                  0   \n",
       "5                     0                        0                  0   \n",
       "...                 ...                      ...                ...   \n",
       "354361                0                        0                  0   \n",
       "354362                0                        0                  0   \n",
       "354366                0                        1                  0   \n",
       "354367                1                        0                  0   \n",
       "354368                0                        0                  0   \n",
       "\n",
       "        VehicleType_other  ...  Brand_smart  Brand_sonstige_autos  \\\n",
       "0                       0  ...            0                     0   \n",
       "2                       0  ...            0                     0   \n",
       "3                       0  ...            0                     0   \n",
       "4                       0  ...            0                     0   \n",
       "5                       0  ...            0                     0   \n",
       "...                   ...  ...          ...                   ...   \n",
       "354361                  0  ...            0                     0   \n",
       "354362                  0  ...            0                     0   \n",
       "354366                  0  ...            1                     0   \n",
       "354367                  0  ...            0                     0   \n",
       "354368                  0  ...            0                     0   \n",
       "\n",
       "        Brand_subaru  Brand_suzuki  Brand_toyota  Brand_trabant  \\\n",
       "0                  0             0             0              0   \n",
       "2                  0             0             0              0   \n",
       "3                  0             0             0              0   \n",
       "4                  0             0             0              0   \n",
       "5                  0             0             0              0   \n",
       "...              ...           ...           ...            ...   \n",
       "354361             0             0             0              0   \n",
       "354362             0             0             0              0   \n",
       "354366             0             0             0              0   \n",
       "354367             0             0             0              0   \n",
       "354368             0             0             0              0   \n",
       "\n",
       "        Brand_volkswagen  Brand_volvo  Repaired_no  Repaired_yes  \n",
       "0                      1            0            1             0  \n",
       "2                      0            0            1             0  \n",
       "3                      1            0            1             0  \n",
       "4                      0            0            1             0  \n",
       "5                      0            0            0             1  \n",
       "...                  ...          ...          ...           ...  \n",
       "354361                 0            0            1             0  \n",
       "354362                 0            0            0             1  \n",
       "354366                 0            0            1             0  \n",
       "354367                 1            0            1             0  \n",
       "354368                 1            0            1             0  \n",
       "\n",
       "[283381 rows x 310 columns]"
      ]
     },
     "execution_count": 21,
     "metadata": {},
     "output_type": "execute_result"
    }
   ],
   "source": [
    "frame_ohe"
   ]
  },
  {
   "cell_type": "code",
   "execution_count": 22,
   "metadata": {},
   "outputs": [
    {
     "data": {
      "text/plain": [
       "Price                   int64\n",
       "VehicleType          category\n",
       "RegistrationYear        int64\n",
       "Gearbox              category\n",
       "Power                   int64\n",
       "Model                category\n",
       "Kilometer               int64\n",
       "RegistrationMonth       int64\n",
       "FuelType             category\n",
       "Brand                category\n",
       "Repaired             category\n",
       "dtype: object"
      ]
     },
     "execution_count": 22,
     "metadata": {},
     "output_type": "execute_result"
    }
   ],
   "source": [
    "frame_light.dtypes\n"
   ]
  },
  {
   "cell_type": "markdown",
   "metadata": {},
   "source": [
    "Разделим данные на выборки"
   ]
  },
  {
   "cell_type": "code",
   "execution_count": 23,
   "metadata": {},
   "outputs": [
    {
     "data": {
      "text/plain": [
       "Index(['Price', 'VehicleType', 'RegistrationYear', 'Gearbox', 'Power', 'Model',\n",
       "       'Kilometer', 'RegistrationMonth', 'FuelType', 'Brand', 'Repaired'],\n",
       "      dtype='object')"
      ]
     },
     "execution_count": 23,
     "metadata": {},
     "output_type": "execute_result"
    }
   ],
   "source": [
    "frame.columns"
   ]
  },
  {
   "cell_type": "code",
   "execution_count": 24,
   "metadata": {},
   "outputs": [],
   "source": [
    "#frame.dtypes\n",
    "frame['Gearbox'] = frame['Gearbox'].astype(object)"
   ]
  },
  {
   "cell_type": "markdown",
   "metadata": {},
   "source": [
    "## Обучение моделей"
   ]
  },
  {
   "cell_type": "markdown",
   "metadata": {},
   "source": [
    "OHE - Необходимо для линейной регресии и случайного леса"
   ]
  },
  {
   "cell_type": "code",
   "execution_count": 25,
   "metadata": {},
   "outputs": [],
   "source": [
    "\n",
    "df_temp3 = frame.copy() # сет данных до OneHotEncoder(OHE/ohe) -кодирования\n",
    "data_ohe = pd.get_dummies(frame, drop_first = True)\n",
    "#data_ohe.head()\n",
    "\n",
    "features_ohe = data_ohe.drop('Price',axis=1)\n",
    "target_ohe = data_ohe['Price']\n",
    "\n",
    "x_train_ohe, x_temp, y_train_ohe, y_temp = train_test_split(\\\n",
    "                                                    features_ohe, target_ohe,\\\n",
    "                                                    test_size=.3, random_state=12345)\n",
    "x_test_ohe, x_valid_ohe, y_test_ohe, y_valid_ohe = train_test_split(\\\n",
    "                                                    x_temp, y_temp,\\\n",
    "                                                    test_size=.5, random_state=12345)"
   ]
  },
  {
   "cell_type": "code",
   "execution_count": 26,
   "metadata": {},
   "outputs": [],
   "source": [
    "#Названия признаков\n",
    "categorical_features = ['VehicleType', 'Gearbox', 'Model', 'FuelType', 'Brand', 'Repaired']\n",
    "kol = list((set(frame.columns)-set(['Price']))-set(categorical_features))"
   ]
  },
  {
   "cell_type": "markdown",
   "metadata": {},
   "source": [
    "OE - Кодирование категориальных признаков для бустинговых моделей"
   ]
  },
  {
   "cell_type": "code",
   "execution_count": 27,
   "metadata": {},
   "outputs": [],
   "source": [
    "\n",
    "from sklearn.preprocessing import OrdinalEncoder as enc\n",
    "\n",
    "frame = frame.reset_index(drop=True)\n",
    "features = frame.drop('Price',axis=1)\n",
    "target = frame['Price']\n",
    "\n",
    "# temp_0 = features[categorical_features]\n",
    "# enc = OrdinalEncoder(categories = 'auto')\n",
    "# temp = enc.fit_transform(temp_0)\n",
    "# enc.categories_\n",
    "# features = pd.concat([pd.DataFrame(data = temp, columns = temp_0.columns), features[kol]],axis=1)\n",
    "# pd.DataFrame(data = temp, columns = temp_0.columns)"
   ]
  },
  {
   "cell_type": "code",
   "execution_count": 28,
   "metadata": {},
   "outputs": [],
   "source": [
    "x_train_oe, x_temp, y_train_oe, y_temp = train_test_split(\\\n",
    "                                                    features, target,\\\n",
    "                                                   test_size=.3, random_state=12345)\n",
    "x_test_oe, x_valid_oe, y_test_oe, y_valid_oe = train_test_split(\\\n",
    "                                                    x_temp, y_temp,\\\n",
    "                                                    test_size=.5, random_state=12345)"
   ]
  },
  {
   "cell_type": "code",
   "execution_count": 29,
   "metadata": {},
   "outputs": [],
   "source": [
    "\n",
    "enc = OrdinalEncoder(handle_unknown = \"ignore\")\n",
    "\n",
    "enc.fit(x_train_oe[categorical_features])\n",
    "\n",
    "x_train_oe[categorical_features] = enc.transform(x_train_oe[categorical_features])\n",
    "x_test_oe[categorical_features] = enc.transform(x_test_oe[categorical_features])\n",
    "x_valid_oe[categorical_features] = enc.transform(x_valid_oe[categorical_features])\n",
    "\n",
    "#temp = enc.fit_transform(temp_0)\n",
    "#enc.categories_\n",
    "#features = pd.concat([pd.DataFrame(data = temp, columns = temp_0.columns), features[kol]],axis=1)\n",
    "#pd.DataFrame(data = temp, columns = temp_0.columns)"
   ]
  },
  {
   "cell_type": "code",
   "execution_count": 30,
   "metadata": {},
   "outputs": [
    {
     "data": {
      "text/html": [
       "<div>\n",
       "<style scoped>\n",
       "    .dataframe tbody tr th:only-of-type {\n",
       "        vertical-align: middle;\n",
       "    }\n",
       "\n",
       "    .dataframe tbody tr th {\n",
       "        vertical-align: top;\n",
       "    }\n",
       "\n",
       "    .dataframe thead th {\n",
       "        text-align: right;\n",
       "    }\n",
       "</style>\n",
       "<table border=\"1\" class=\"dataframe\">\n",
       "  <thead>\n",
       "    <tr style=\"text-align: right;\">\n",
       "      <th></th>\n",
       "      <th>VehicleType</th>\n",
       "      <th>RegistrationYear</th>\n",
       "      <th>Gearbox</th>\n",
       "      <th>Power</th>\n",
       "      <th>Model</th>\n",
       "      <th>Kilometer</th>\n",
       "      <th>RegistrationMonth</th>\n",
       "      <th>FuelType</th>\n",
       "      <th>Brand</th>\n",
       "      <th>Repaired</th>\n",
       "    </tr>\n",
       "  </thead>\n",
       "  <tbody>\n",
       "    <tr>\n",
       "      <th>214074</th>\n",
       "      <td>4.0</td>\n",
       "      <td>2017</td>\n",
       "      <td>0.0</td>\n",
       "      <td>130</td>\n",
       "      <td>165.0</td>\n",
       "      <td>150000</td>\n",
       "      <td>12</td>\n",
       "      <td>6.0</td>\n",
       "      <td>25.0</td>\n",
       "      <td>0.0</td>\n",
       "    </tr>\n",
       "    <tr>\n",
       "      <th>90394</th>\n",
       "      <td>4.0</td>\n",
       "      <td>1997</td>\n",
       "      <td>0.0</td>\n",
       "      <td>101</td>\n",
       "      <td>115.0</td>\n",
       "      <td>150000</td>\n",
       "      <td>1</td>\n",
       "      <td>6.0</td>\n",
       "      <td>38.0</td>\n",
       "      <td>0.0</td>\n",
       "    </tr>\n",
       "    <tr>\n",
       "      <th>557</th>\n",
       "      <td>1.0</td>\n",
       "      <td>2003</td>\n",
       "      <td>1.0</td>\n",
       "      <td>192</td>\n",
       "      <td>115.0</td>\n",
       "      <td>150000</td>\n",
       "      <td>8</td>\n",
       "      <td>6.0</td>\n",
       "      <td>2.0</td>\n",
       "      <td>0.0</td>\n",
       "    </tr>\n",
       "    <tr>\n",
       "      <th>115418</th>\n",
       "      <td>4.0</td>\n",
       "      <td>2002</td>\n",
       "      <td>0.0</td>\n",
       "      <td>170</td>\n",
       "      <td>115.0</td>\n",
       "      <td>150000</td>\n",
       "      <td>2</td>\n",
       "      <td>6.0</td>\n",
       "      <td>2.0</td>\n",
       "      <td>0.0</td>\n",
       "    </tr>\n",
       "    <tr>\n",
       "      <th>53089</th>\n",
       "      <td>4.0</td>\n",
       "      <td>2001</td>\n",
       "      <td>1.0</td>\n",
       "      <td>198</td>\n",
       "      <td>240.0</td>\n",
       "      <td>150000</td>\n",
       "      <td>1</td>\n",
       "      <td>6.0</td>\n",
       "      <td>13.0</td>\n",
       "      <td>0.0</td>\n",
       "    </tr>\n",
       "  </tbody>\n",
       "</table>\n",
       "</div>"
      ],
      "text/plain": [
       "        VehicleType  RegistrationYear  Gearbox  Power  Model  Kilometer  \\\n",
       "214074          4.0              2017      0.0    130  165.0     150000   \n",
       "90394           4.0              1997      0.0    101  115.0     150000   \n",
       "557             1.0              2003      1.0    192  115.0     150000   \n",
       "115418          4.0              2002      0.0    170  115.0     150000   \n",
       "53089           4.0              2001      1.0    198  240.0     150000   \n",
       "\n",
       "        RegistrationMonth  FuelType  Brand  Repaired  \n",
       "214074                 12       6.0   25.0       0.0  \n",
       "90394                   1       6.0   38.0       0.0  \n",
       "557                     8       6.0    2.0       0.0  \n",
       "115418                  2       6.0    2.0       0.0  \n",
       "53089                   1       6.0   13.0       0.0  "
      ]
     },
     "execution_count": 30,
     "metadata": {},
     "output_type": "execute_result"
    }
   ],
   "source": [
    "pd.DataFrame(x_train_oe, columns = features.columns).head()"
   ]
  },
  {
   "cell_type": "code",
   "execution_count": 31,
   "metadata": {},
   "outputs": [
    {
     "name": "stdout",
     "output_type": "stream",
     "text": [
      "(198366, 10)\n",
      "(42507, 10)\n",
      "(198366,)\n",
      "(42507,)\n",
      "(42508, 10)\n",
      "(42508,)\n"
     ]
    }
   ],
   "source": [
    "#Проверка размеров\n",
    "for i in [x_train_oe, x_test_oe, y_train_oe, y_test_oe, x_valid_oe, y_valid_oe]:\n",
    "    print(i.shape)"
   ]
  },
  {
   "cell_type": "markdown",
   "metadata": {},
   "source": [
    "Подготовка данных для обучения лин.регресии, деревом и случайным лесом"
   ]
  },
  {
   "cell_type": "code",
   "execution_count": 32,
   "metadata": {},
   "outputs": [
    {
     "data": {
      "text/plain": [
       "Index(['RegistrationYear', 'Power', 'Kilometer', 'RegistrationMonth',\n",
       "       'VehicleType_convertible', 'VehicleType_coupe', 'VehicleType_other',\n",
       "       'VehicleType_sedan', 'VehicleType_small', 'VehicleType_suv',\n",
       "       ...\n",
       "       'Brand_skoda', 'Brand_smart', 'Brand_sonstige_autos', 'Brand_subaru',\n",
       "       'Brand_suzuki', 'Brand_toyota', 'Brand_trabant', 'Brand_volkswagen',\n",
       "       'Brand_volvo', 'Repaired_yes'],\n",
       "      dtype='object', length=304)"
      ]
     },
     "execution_count": 32,
     "metadata": {},
     "output_type": "execute_result"
    }
   ],
   "source": [
    "\n",
    "column_all_ohe = features_ohe.columns\n",
    "\n",
    "column_all = features.columns\n",
    "\n",
    "column_all_ohe"
   ]
  },
  {
   "cell_type": "markdown",
   "metadata": {},
   "source": [
    "Масштабирование"
   ]
  },
  {
   "cell_type": "code",
   "execution_count": 33,
   "metadata": {
    "scrolled": true
   },
   "outputs": [
    {
     "data": {
      "text/html": [
       "<div>\n",
       "<style scoped>\n",
       "    .dataframe tbody tr th:only-of-type {\n",
       "        vertical-align: middle;\n",
       "    }\n",
       "\n",
       "    .dataframe tbody tr th {\n",
       "        vertical-align: top;\n",
       "    }\n",
       "\n",
       "    .dataframe thead th {\n",
       "        text-align: right;\n",
       "    }\n",
       "</style>\n",
       "<table border=\"1\" class=\"dataframe\">\n",
       "  <thead>\n",
       "    <tr style=\"text-align: right;\">\n",
       "      <th></th>\n",
       "      <th>RegistrationYear</th>\n",
       "      <th>Power</th>\n",
       "      <th>Kilometer</th>\n",
       "      <th>RegistrationMonth</th>\n",
       "      <th>VehicleType_convertible</th>\n",
       "      <th>VehicleType_coupe</th>\n",
       "      <th>VehicleType_other</th>\n",
       "      <th>VehicleType_sedan</th>\n",
       "      <th>VehicleType_small</th>\n",
       "      <th>VehicleType_suv</th>\n",
       "      <th>...</th>\n",
       "      <th>Brand_skoda</th>\n",
       "      <th>Brand_smart</th>\n",
       "      <th>Brand_sonstige_autos</th>\n",
       "      <th>Brand_subaru</th>\n",
       "      <th>Brand_suzuki</th>\n",
       "      <th>Brand_toyota</th>\n",
       "      <th>Brand_trabant</th>\n",
       "      <th>Brand_volkswagen</th>\n",
       "      <th>Brand_volvo</th>\n",
       "      <th>Repaired_yes</th>\n",
       "    </tr>\n",
       "  </thead>\n",
       "  <tbody>\n",
       "    <tr>\n",
       "      <th>134182</th>\n",
       "      <td>-0.262178</td>\n",
       "      <td>-0.860901</td>\n",
       "      <td>0.552749</td>\n",
       "      <td>-1.090951</td>\n",
       "      <td>0</td>\n",
       "      <td>0</td>\n",
       "      <td>0</td>\n",
       "      <td>1</td>\n",
       "      <td>0</td>\n",
       "      <td>0</td>\n",
       "      <td>...</td>\n",
       "      <td>0</td>\n",
       "      <td>0</td>\n",
       "      <td>0</td>\n",
       "      <td>0</td>\n",
       "      <td>0</td>\n",
       "      <td>0</td>\n",
       "      <td>0</td>\n",
       "      <td>1</td>\n",
       "      <td>0</td>\n",
       "      <td>0</td>\n",
       "    </tr>\n",
       "    <tr>\n",
       "      <th>215109</th>\n",
       "      <td>1.968532</td>\n",
       "      <td>0.885370</td>\n",
       "      <td>0.552749</td>\n",
       "      <td>-1.372799</td>\n",
       "      <td>0</td>\n",
       "      <td>0</td>\n",
       "      <td>0</td>\n",
       "      <td>1</td>\n",
       "      <td>0</td>\n",
       "      <td>0</td>\n",
       "      <td>...</td>\n",
       "      <td>0</td>\n",
       "      <td>0</td>\n",
       "      <td>0</td>\n",
       "      <td>0</td>\n",
       "      <td>0</td>\n",
       "      <td>0</td>\n",
       "      <td>0</td>\n",
       "      <td>0</td>\n",
       "      <td>0</td>\n",
       "      <td>0</td>\n",
       "    </tr>\n",
       "    <tr>\n",
       "      <th>193250</th>\n",
       "      <td>0.295500</td>\n",
       "      <td>-0.744483</td>\n",
       "      <td>0.552749</td>\n",
       "      <td>1.163832</td>\n",
       "      <td>0</td>\n",
       "      <td>0</td>\n",
       "      <td>0</td>\n",
       "      <td>0</td>\n",
       "      <td>1</td>\n",
       "      <td>0</td>\n",
       "      <td>...</td>\n",
       "      <td>0</td>\n",
       "      <td>0</td>\n",
       "      <td>0</td>\n",
       "      <td>0</td>\n",
       "      <td>0</td>\n",
       "      <td>0</td>\n",
       "      <td>0</td>\n",
       "      <td>0</td>\n",
       "      <td>0</td>\n",
       "      <td>0</td>\n",
       "    </tr>\n",
       "    <tr>\n",
       "      <th>264148</th>\n",
       "      <td>0.853177</td>\n",
       "      <td>-0.045975</td>\n",
       "      <td>-1.403596</td>\n",
       "      <td>0.318288</td>\n",
       "      <td>0</td>\n",
       "      <td>0</td>\n",
       "      <td>0</td>\n",
       "      <td>0</td>\n",
       "      <td>0</td>\n",
       "      <td>0</td>\n",
       "      <td>...</td>\n",
       "      <td>0</td>\n",
       "      <td>0</td>\n",
       "      <td>0</td>\n",
       "      <td>0</td>\n",
       "      <td>0</td>\n",
       "      <td>0</td>\n",
       "      <td>0</td>\n",
       "      <td>1</td>\n",
       "      <td>0</td>\n",
       "      <td>0</td>\n",
       "    </tr>\n",
       "    <tr>\n",
       "      <th>145252</th>\n",
       "      <td>0.156080</td>\n",
       "      <td>0.722384</td>\n",
       "      <td>0.552749</td>\n",
       "      <td>-0.245407</td>\n",
       "      <td>0</td>\n",
       "      <td>0</td>\n",
       "      <td>0</td>\n",
       "      <td>0</td>\n",
       "      <td>0</td>\n",
       "      <td>0</td>\n",
       "      <td>...</td>\n",
       "      <td>0</td>\n",
       "      <td>0</td>\n",
       "      <td>0</td>\n",
       "      <td>0</td>\n",
       "      <td>0</td>\n",
       "      <td>0</td>\n",
       "      <td>0</td>\n",
       "      <td>0</td>\n",
       "      <td>0</td>\n",
       "      <td>0</td>\n",
       "    </tr>\n",
       "    <tr>\n",
       "      <th>...</th>\n",
       "      <td>...</td>\n",
       "      <td>...</td>\n",
       "      <td>...</td>\n",
       "      <td>...</td>\n",
       "      <td>...</td>\n",
       "      <td>...</td>\n",
       "      <td>...</td>\n",
       "      <td>...</td>\n",
       "      <td>...</td>\n",
       "      <td>...</td>\n",
       "      <td>...</td>\n",
       "      <td>...</td>\n",
       "      <td>...</td>\n",
       "      <td>...</td>\n",
       "      <td>...</td>\n",
       "      <td>...</td>\n",
       "      <td>...</td>\n",
       "      <td>...</td>\n",
       "      <td>...</td>\n",
       "      <td>...</td>\n",
       "      <td>...</td>\n",
       "    </tr>\n",
       "    <tr>\n",
       "      <th>43415</th>\n",
       "      <td>1.271435</td>\n",
       "      <td>-0.255527</td>\n",
       "      <td>-1.683074</td>\n",
       "      <td>0.881984</td>\n",
       "      <td>0</td>\n",
       "      <td>0</td>\n",
       "      <td>0</td>\n",
       "      <td>1</td>\n",
       "      <td>0</td>\n",
       "      <td>0</td>\n",
       "      <td>...</td>\n",
       "      <td>0</td>\n",
       "      <td>0</td>\n",
       "      <td>0</td>\n",
       "      <td>0</td>\n",
       "      <td>0</td>\n",
       "      <td>0</td>\n",
       "      <td>0</td>\n",
       "      <td>0</td>\n",
       "      <td>0</td>\n",
       "      <td>0</td>\n",
       "    </tr>\n",
       "    <tr>\n",
       "      <th>280169</th>\n",
       "      <td>-3.468823</td>\n",
       "      <td>-1.442991</td>\n",
       "      <td>-0.145946</td>\n",
       "      <td>-0.527255</td>\n",
       "      <td>0</td>\n",
       "      <td>0</td>\n",
       "      <td>0</td>\n",
       "      <td>0</td>\n",
       "      <td>1</td>\n",
       "      <td>0</td>\n",
       "      <td>...</td>\n",
       "      <td>0</td>\n",
       "      <td>0</td>\n",
       "      <td>0</td>\n",
       "      <td>0</td>\n",
       "      <td>0</td>\n",
       "      <td>0</td>\n",
       "      <td>0</td>\n",
       "      <td>1</td>\n",
       "      <td>0</td>\n",
       "      <td>0</td>\n",
       "    </tr>\n",
       "    <tr>\n",
       "      <th>170276</th>\n",
       "      <td>0.295500</td>\n",
       "      <td>-0.860901</td>\n",
       "      <td>0.552749</td>\n",
       "      <td>0.881984</td>\n",
       "      <td>0</td>\n",
       "      <td>0</td>\n",
       "      <td>0</td>\n",
       "      <td>0</td>\n",
       "      <td>1</td>\n",
       "      <td>0</td>\n",
       "      <td>...</td>\n",
       "      <td>0</td>\n",
       "      <td>0</td>\n",
       "      <td>0</td>\n",
       "      <td>0</td>\n",
       "      <td>0</td>\n",
       "      <td>0</td>\n",
       "      <td>0</td>\n",
       "      <td>1</td>\n",
       "      <td>0</td>\n",
       "      <td>0</td>\n",
       "    </tr>\n",
       "    <tr>\n",
       "      <th>26768</th>\n",
       "      <td>-0.401597</td>\n",
       "      <td>-0.069258</td>\n",
       "      <td>0.552749</td>\n",
       "      <td>-1.372799</td>\n",
       "      <td>0</td>\n",
       "      <td>0</td>\n",
       "      <td>0</td>\n",
       "      <td>1</td>\n",
       "      <td>0</td>\n",
       "      <td>0</td>\n",
       "      <td>...</td>\n",
       "      <td>0</td>\n",
       "      <td>0</td>\n",
       "      <td>0</td>\n",
       "      <td>0</td>\n",
       "      <td>0</td>\n",
       "      <td>0</td>\n",
       "      <td>0</td>\n",
       "      <td>0</td>\n",
       "      <td>0</td>\n",
       "      <td>1</td>\n",
       "    </tr>\n",
       "    <tr>\n",
       "      <th>245276</th>\n",
       "      <td>1.550274</td>\n",
       "      <td>-1.186871</td>\n",
       "      <td>-3.080463</td>\n",
       "      <td>-0.809103</td>\n",
       "      <td>0</td>\n",
       "      <td>0</td>\n",
       "      <td>0</td>\n",
       "      <td>0</td>\n",
       "      <td>1</td>\n",
       "      <td>0</td>\n",
       "      <td>...</td>\n",
       "      <td>0</td>\n",
       "      <td>1</td>\n",
       "      <td>0</td>\n",
       "      <td>0</td>\n",
       "      <td>0</td>\n",
       "      <td>0</td>\n",
       "      <td>0</td>\n",
       "      <td>0</td>\n",
       "      <td>0</td>\n",
       "      <td>0</td>\n",
       "    </tr>\n",
       "  </tbody>\n",
       "</table>\n",
       "<p>42508 rows × 304 columns</p>\n",
       "</div>"
      ],
      "text/plain": [
       "        RegistrationYear     Power  Kilometer  RegistrationMonth  \\\n",
       "134182         -0.262178 -0.860901   0.552749          -1.090951   \n",
       "215109          1.968532  0.885370   0.552749          -1.372799   \n",
       "193250          0.295500 -0.744483   0.552749           1.163832   \n",
       "264148          0.853177 -0.045975  -1.403596           0.318288   \n",
       "145252          0.156080  0.722384   0.552749          -0.245407   \n",
       "...                  ...       ...        ...                ...   \n",
       "43415           1.271435 -0.255527  -1.683074           0.881984   \n",
       "280169         -3.468823 -1.442991  -0.145946          -0.527255   \n",
       "170276          0.295500 -0.860901   0.552749           0.881984   \n",
       "26768          -0.401597 -0.069258   0.552749          -1.372799   \n",
       "245276          1.550274 -1.186871  -3.080463          -0.809103   \n",
       "\n",
       "        VehicleType_convertible  VehicleType_coupe  VehicleType_other  \\\n",
       "134182                        0                  0                  0   \n",
       "215109                        0                  0                  0   \n",
       "193250                        0                  0                  0   \n",
       "264148                        0                  0                  0   \n",
       "145252                        0                  0                  0   \n",
       "...                         ...                ...                ...   \n",
       "43415                         0                  0                  0   \n",
       "280169                        0                  0                  0   \n",
       "170276                        0                  0                  0   \n",
       "26768                         0                  0                  0   \n",
       "245276                        0                  0                  0   \n",
       "\n",
       "        VehicleType_sedan  VehicleType_small  VehicleType_suv  ...  \\\n",
       "134182                  1                  0                0  ...   \n",
       "215109                  1                  0                0  ...   \n",
       "193250                  0                  1                0  ...   \n",
       "264148                  0                  0                0  ...   \n",
       "145252                  0                  0                0  ...   \n",
       "...                   ...                ...              ...  ...   \n",
       "43415                   1                  0                0  ...   \n",
       "280169                  0                  1                0  ...   \n",
       "170276                  0                  1                0  ...   \n",
       "26768                   1                  0                0  ...   \n",
       "245276                  0                  1                0  ...   \n",
       "\n",
       "        Brand_skoda  Brand_smart  Brand_sonstige_autos  Brand_subaru  \\\n",
       "134182            0            0                     0             0   \n",
       "215109            0            0                     0             0   \n",
       "193250            0            0                     0             0   \n",
       "264148            0            0                     0             0   \n",
       "145252            0            0                     0             0   \n",
       "...             ...          ...                   ...           ...   \n",
       "43415             0            0                     0             0   \n",
       "280169            0            0                     0             0   \n",
       "170276            0            0                     0             0   \n",
       "26768             0            0                     0             0   \n",
       "245276            0            1                     0             0   \n",
       "\n",
       "        Brand_suzuki  Brand_toyota  Brand_trabant  Brand_volkswagen  \\\n",
       "134182             0             0              0                 1   \n",
       "215109             0             0              0                 0   \n",
       "193250             0             0              0                 0   \n",
       "264148             0             0              0                 1   \n",
       "145252             0             0              0                 0   \n",
       "...              ...           ...            ...               ...   \n",
       "43415              0             0              0                 0   \n",
       "280169             0             0              0                 1   \n",
       "170276             0             0              0                 1   \n",
       "26768              0             0              0                 0   \n",
       "245276             0             0              0                 0   \n",
       "\n",
       "        Brand_volvo  Repaired_yes  \n",
       "134182            0             0  \n",
       "215109            0             0  \n",
       "193250            0             0  \n",
       "264148            0             0  \n",
       "145252            0             0  \n",
       "...             ...           ...  \n",
       "43415             0             0  \n",
       "280169            0             0  \n",
       "170276            0             0  \n",
       "26768             0             1  \n",
       "245276            0             0  \n",
       "\n",
       "[42508 rows x 304 columns]"
      ]
     },
     "execution_count": 33,
     "metadata": {},
     "output_type": "execute_result"
    }
   ],
   "source": [
    "scaler_ohe = StandardScaler()\n",
    "x_train_ohe[kol] = scaler_ohe.fit_transform(x_train_ohe[kol])\n",
    "x_test_ohe[kol] =  scaler_ohe.transform(x_test_ohe[kol][kol])\n",
    "x_valid_ohe[kol] = scaler_ohe.transform(x_valid_ohe[kol])\n",
    "x_valid_ohe"
   ]
  },
  {
   "cell_type": "code",
   "execution_count": 34,
   "metadata": {
    "scrolled": true
   },
   "outputs": [
    {
     "data": {
      "text/html": [
       "<div>\n",
       "<style scoped>\n",
       "    .dataframe tbody tr th:only-of-type {\n",
       "        vertical-align: middle;\n",
       "    }\n",
       "\n",
       "    .dataframe tbody tr th {\n",
       "        vertical-align: top;\n",
       "    }\n",
       "\n",
       "    .dataframe thead th {\n",
       "        text-align: right;\n",
       "    }\n",
       "</style>\n",
       "<table border=\"1\" class=\"dataframe\">\n",
       "  <thead>\n",
       "    <tr style=\"text-align: right;\">\n",
       "      <th></th>\n",
       "      <th>VehicleType</th>\n",
       "      <th>RegistrationYear</th>\n",
       "      <th>Gearbox</th>\n",
       "      <th>Power</th>\n",
       "      <th>Model</th>\n",
       "      <th>Kilometer</th>\n",
       "      <th>RegistrationMonth</th>\n",
       "      <th>FuelType</th>\n",
       "      <th>Brand</th>\n",
       "      <th>Repaired</th>\n",
       "    </tr>\n",
       "  </thead>\n",
       "  <tbody>\n",
       "    <tr>\n",
       "      <th>113473</th>\n",
       "      <td>4.0</td>\n",
       "      <td>-0.262178</td>\n",
       "      <td>0.0</td>\n",
       "      <td>-0.860901</td>\n",
       "      <td>115.0</td>\n",
       "      <td>0.552749</td>\n",
       "      <td>-1.090951</td>\n",
       "      <td>6.0</td>\n",
       "      <td>38.0</td>\n",
       "      <td>0.0</td>\n",
       "    </tr>\n",
       "    <tr>\n",
       "      <th>178025</th>\n",
       "      <td>4.0</td>\n",
       "      <td>1.968532</td>\n",
       "      <td>0.0</td>\n",
       "      <td>0.885370</td>\n",
       "      <td>11.0</td>\n",
       "      <td>0.552749</td>\n",
       "      <td>-1.372799</td>\n",
       "      <td>6.0</td>\n",
       "      <td>2.0</td>\n",
       "      <td>0.0</td>\n",
       "    </tr>\n",
       "    <tr>\n",
       "      <th>160864</th>\n",
       "      <td>5.0</td>\n",
       "      <td>0.295500</td>\n",
       "      <td>0.0</td>\n",
       "      <td>-0.744483</td>\n",
       "      <td>175.0</td>\n",
       "      <td>0.552749</td>\n",
       "      <td>1.163832</td>\n",
       "      <td>6.0</td>\n",
       "      <td>9.0</td>\n",
       "      <td>0.0</td>\n",
       "    </tr>\n",
       "    <tr>\n",
       "      <th>215830</th>\n",
       "      <td>0.0</td>\n",
       "      <td>0.853177</td>\n",
       "      <td>0.0</td>\n",
       "      <td>-0.045975</td>\n",
       "      <td>115.0</td>\n",
       "      <td>-1.403596</td>\n",
       "      <td>0.318288</td>\n",
       "      <td>2.0</td>\n",
       "      <td>38.0</td>\n",
       "      <td>0.0</td>\n",
       "    </tr>\n",
       "    <tr>\n",
       "      <th>122442</th>\n",
       "      <td>0.0</td>\n",
       "      <td>0.156080</td>\n",
       "      <td>0.0</td>\n",
       "      <td>0.722384</td>\n",
       "      <td>236.0</td>\n",
       "      <td>0.552749</td>\n",
       "      <td>-0.245407</td>\n",
       "      <td>2.0</td>\n",
       "      <td>4.0</td>\n",
       "      <td>0.0</td>\n",
       "    </tr>\n",
       "    <tr>\n",
       "      <th>...</th>\n",
       "      <td>...</td>\n",
       "      <td>...</td>\n",
       "      <td>...</td>\n",
       "      <td>...</td>\n",
       "      <td>...</td>\n",
       "      <td>...</td>\n",
       "      <td>...</td>\n",
       "      <td>...</td>\n",
       "      <td>...</td>\n",
       "      <td>...</td>\n",
       "    </tr>\n",
       "    <tr>\n",
       "      <th>37662</th>\n",
       "      <td>4.0</td>\n",
       "      <td>1.271435</td>\n",
       "      <td>0.0</td>\n",
       "      <td>-0.255527</td>\n",
       "      <td>148.0</td>\n",
       "      <td>-1.683074</td>\n",
       "      <td>0.881984</td>\n",
       "      <td>6.0</td>\n",
       "      <td>27.0</td>\n",
       "      <td>0.0</td>\n",
       "    </tr>\n",
       "    <tr>\n",
       "      <th>228003</th>\n",
       "      <td>5.0</td>\n",
       "      <td>-3.468823</td>\n",
       "      <td>0.0</td>\n",
       "      <td>-1.442991</td>\n",
       "      <td>165.0</td>\n",
       "      <td>-0.145946</td>\n",
       "      <td>-0.527255</td>\n",
       "      <td>6.0</td>\n",
       "      <td>38.0</td>\n",
       "      <td>0.0</td>\n",
       "    </tr>\n",
       "    <tr>\n",
       "      <th>142604</th>\n",
       "      <td>5.0</td>\n",
       "      <td>0.295500</td>\n",
       "      <td>0.0</td>\n",
       "      <td>-0.860901</td>\n",
       "      <td>172.0</td>\n",
       "      <td>0.552749</td>\n",
       "      <td>0.881984</td>\n",
       "      <td>2.0</td>\n",
       "      <td>38.0</td>\n",
       "      <td>0.0</td>\n",
       "    </tr>\n",
       "    <tr>\n",
       "      <th>23299</th>\n",
       "      <td>4.0</td>\n",
       "      <td>-0.401597</td>\n",
       "      <td>0.0</td>\n",
       "      <td>-0.069258</td>\n",
       "      <td>148.0</td>\n",
       "      <td>0.552749</td>\n",
       "      <td>-1.372799</td>\n",
       "      <td>6.0</td>\n",
       "      <td>27.0</td>\n",
       "      <td>1.0</td>\n",
       "    </tr>\n",
       "    <tr>\n",
       "      <th>201318</th>\n",
       "      <td>5.0</td>\n",
       "      <td>1.550274</td>\n",
       "      <td>1.0</td>\n",
       "      <td>-1.186871</td>\n",
       "      <td>105.0</td>\n",
       "      <td>-3.080463</td>\n",
       "      <td>-0.809103</td>\n",
       "      <td>6.0</td>\n",
       "      <td>32.0</td>\n",
       "      <td>0.0</td>\n",
       "    </tr>\n",
       "  </tbody>\n",
       "</table>\n",
       "<p>42508 rows × 10 columns</p>\n",
       "</div>"
      ],
      "text/plain": [
       "        VehicleType  RegistrationYear  Gearbox     Power  Model  Kilometer  \\\n",
       "113473          4.0         -0.262178      0.0 -0.860901  115.0   0.552749   \n",
       "178025          4.0          1.968532      0.0  0.885370   11.0   0.552749   \n",
       "160864          5.0          0.295500      0.0 -0.744483  175.0   0.552749   \n",
       "215830          0.0          0.853177      0.0 -0.045975  115.0  -1.403596   \n",
       "122442          0.0          0.156080      0.0  0.722384  236.0   0.552749   \n",
       "...             ...               ...      ...       ...    ...        ...   \n",
       "37662           4.0          1.271435      0.0 -0.255527  148.0  -1.683074   \n",
       "228003          5.0         -3.468823      0.0 -1.442991  165.0  -0.145946   \n",
       "142604          5.0          0.295500      0.0 -0.860901  172.0   0.552749   \n",
       "23299           4.0         -0.401597      0.0 -0.069258  148.0   0.552749   \n",
       "201318          5.0          1.550274      1.0 -1.186871  105.0  -3.080463   \n",
       "\n",
       "        RegistrationMonth  FuelType  Brand  Repaired  \n",
       "113473          -1.090951       6.0   38.0       0.0  \n",
       "178025          -1.372799       6.0    2.0       0.0  \n",
       "160864           1.163832       6.0    9.0       0.0  \n",
       "215830           0.318288       2.0   38.0       0.0  \n",
       "122442          -0.245407       2.0    4.0       0.0  \n",
       "...                   ...       ...    ...       ...  \n",
       "37662            0.881984       6.0   27.0       0.0  \n",
       "228003          -0.527255       6.0   38.0       0.0  \n",
       "142604           0.881984       2.0   38.0       0.0  \n",
       "23299           -1.372799       6.0   27.0       1.0  \n",
       "201318          -0.809103       6.0   32.0       0.0  \n",
       "\n",
       "[42508 rows x 10 columns]"
      ]
     },
     "execution_count": 34,
     "metadata": {},
     "output_type": "execute_result"
    }
   ],
   "source": [
    "\n",
    "scaler = StandardScaler()\n",
    "x_train_oe[kol] = scaler.fit_transform(x_train_oe[kol])\n",
    "x_test_oe[kol] =  scaler.transform(x_test_oe[kol])\n",
    "x_valid_oe[kol] = scaler.transform(x_valid_oe[kol])\n",
    "x_valid_oe"
   ]
  },
  {
   "cell_type": "markdown",
   "metadata": {},
   "source": [
    "### Линейная регрессия"
   ]
  },
  {
   "cell_type": "code",
   "execution_count": 37,
   "metadata": {
    "scrolled": false
   },
   "outputs": [
    {
     "name": "stdout",
     "output_type": "stream",
     "text": [
      "rmse = 2187.29964916146\n",
      "mae = 1573.831044060865\n",
      "CPU times: user 28.7 s, sys: 38.6 s, total: 1min 7s\n",
      "Wall time: 1min 7s\n"
     ]
    }
   ],
   "source": [
    "%%time\n",
    "model_linReg = LinearRegression()\n",
    "model_linReg.fit(x_train_ohe, y_train_ohe)\n",
    "predict_model_linReg = model_linReg.predict(x_test_ohe)\n",
    "rmse_model_linReg = mse(y_valid_ohe, predict_valid_linReg)**(0.5)\n",
    "mae_model_linReg = mean_absolute_error(y_valid_ohe, predict_model_linReg)\n",
    "print('rmse =', rmse_model_linReg)\n",
    "print('mae =', mae_model_linReg)"
   ]
  },
  {
   "cell_type": "code",
   "execution_count": 40,
   "metadata": {
    "scrolled": true
   },
   "outputs": [
    {
     "name": "stdout",
     "output_type": "stream",
     "text": [
      "CV_RMSE -2202.992274241244\n",
      "CPU times: user 1min 42s, sys: 2min 14s, total: 3min 57s\n",
      "Wall time: 3min 58s\n"
     ]
    }
   ],
   "source": [
    "%%time \n",
    "print(\"CV_RMSE\", cross_val_score(model_linReg, x_train_ohe, y_train_ohe, cv=5, verbose=0, scoring = 'neg_root_mean_squared_error').mean())"
   ]
  },
  {
   "cell_type": "markdown",
   "metadata": {},
   "source": [
    " ### RandomForest "
   ]
  },
  {
   "cell_type": "code",
   "execution_count": 41,
   "metadata": {},
   "outputs": [
    {
     "name": "stdout",
     "output_type": "stream",
     "text": [
      "rmse = 1416.8639890690213\n",
      "mae = 918.6496661551722\n",
      "CPU times: user 1min 11s, sys: 1.92 s, total: 1min 13s\n",
      "Wall time: 1min 13s\n"
     ]
    }
   ],
   "source": [
    "%%time\n",
    "model_RandForest_oe = RandomForestRegressor()\n",
    "model_RandForest_oe.fit(x_train_oe, y_train_oe)\n",
    "predict_model_RandForest_oe = model_RandForest_oe.predict(x_valid_oe)\n",
    "rmse_model_RandForest_oe = mse(y_valid_oe, predict_model_RandForest_oe)**(0.5)\n",
    "mae_model_RandForest_oe = mean_absolute_error(y_valid_oe, predict_model_RandForest_oe)\n",
    "print('rmse =', rmse_model_RandForest_oe)\n",
    "print('mae =', mae_model_RandForest_oe)"
   ]
  },
  {
   "cell_type": "code",
   "execution_count": 36,
   "metadata": {},
   "outputs": [
    {
     "name": "stdout",
     "output_type": "stream",
     "text": [
      "-1427.7897620271015\n",
      "CPU times: user 4min 43s, sys: 4.72 s, total: 4min 47s\n",
      "Wall time: 4min 49s\n"
     ]
    }
   ],
   "source": [
    "%%time\n",
    "print(cross_val_score(model_RandForest_oe, x_train_oe, y_train_oe, cv=5, verbose=0, scoring = 'neg_root_mean_squared_error').mean())"
   ]
  },
  {
   "cell_type": "markdown",
   "metadata": {},
   "source": [
    "### SGD regressor"
   ]
  },
  {
   "cell_type": "code",
   "execution_count": 40,
   "metadata": {
    "scrolled": true
   },
   "outputs": [
    {
     "name": "stdout",
     "output_type": "stream",
     "text": [
      "rmse = 2217.1753948778987\n",
      "mae = 1595.2806633421444\n",
      "CPU times: user 29.9 s, sys: 701 ms, total: 30.6 s\n",
      "Wall time: 30.6 s\n"
     ]
    },
    {
     "name": "stderr",
     "output_type": "stream",
     "text": [
      "/opt/conda/lib/python3.9/site-packages/sklearn/linear_model/_stochastic_gradient.py:1220: ConvergenceWarning: Maximum number of iteration reached before convergence. Consider increasing max_iter to improve the fit.\n",
      "  warnings.warn(\"Maximum number of iteration reached before \"\n"
     ]
    }
   ],
   "source": [
    "%%time\n",
    "model_SGD_ohe = SGDRegressor(max_iter=100,)\n",
    "model_SGD_ohe.fit(x_train_ohe, y_train_ohe)\n",
    "predict_model_SGD_ohe = model_SGD_ohe.predict(x_valid_ohe)\n",
    "rmse_model_SGD_ohe = mse(y_valid_ohe, predict_model_SGD_oe)**(0.5)\n",
    "mae_model_SGD_ohe = mean_absolute_error(y_valid_ohe, predict_model_SGD_ohe)\n",
    "print('rmse =', rmse_model_SGD_ohe)\n",
    "print('mae =', mae_model_SGD_ohe)"
   ]
  },
  {
   "cell_type": "code",
   "execution_count": 41,
   "metadata": {
    "scrolled": true
   },
   "outputs": [
    {
     "name": "stderr",
     "output_type": "stream",
     "text": [
      "/opt/conda/lib/python3.9/site-packages/sklearn/linear_model/_stochastic_gradient.py:1220: ConvergenceWarning: Maximum number of iteration reached before convergence. Consider increasing max_iter to improve the fit.\n",
      "  warnings.warn(\"Maximum number of iteration reached before \"\n",
      "/opt/conda/lib/python3.9/site-packages/sklearn/linear_model/_stochastic_gradient.py:1220: ConvergenceWarning: Maximum number of iteration reached before convergence. Consider increasing max_iter to improve the fit.\n",
      "  warnings.warn(\"Maximum number of iteration reached before \"\n",
      "/opt/conda/lib/python3.9/site-packages/sklearn/linear_model/_stochastic_gradient.py:1220: ConvergenceWarning: Maximum number of iteration reached before convergence. Consider increasing max_iter to improve the fit.\n",
      "  warnings.warn(\"Maximum number of iteration reached before \"\n",
      "/opt/conda/lib/python3.9/site-packages/sklearn/linear_model/_stochastic_gradient.py:1220: ConvergenceWarning: Maximum number of iteration reached before convergence. Consider increasing max_iter to improve the fit.\n",
      "  warnings.warn(\"Maximum number of iteration reached before \"\n"
     ]
    },
    {
     "name": "stdout",
     "output_type": "stream",
     "text": [
      "-2208.1327847643847\n",
      "CPU times: user 1min 59s, sys: 2.01 s, total: 2min 1s\n",
      "Wall time: 2min 2s\n"
     ]
    },
    {
     "name": "stderr",
     "output_type": "stream",
     "text": [
      "/opt/conda/lib/python3.9/site-packages/sklearn/linear_model/_stochastic_gradient.py:1220: ConvergenceWarning: Maximum number of iteration reached before convergence. Consider increasing max_iter to improve the fit.\n",
      "  warnings.warn(\"Maximum number of iteration reached before \"\n"
     ]
    }
   ],
   "source": [
    "%%time\n",
    "print(cross_val_score(model_SGD_ohe, x_train_ohe, y_train_ohe, cv=5, verbose=0, scoring = 'neg_root_mean_squared_error').mean())"
   ]
  },
  {
   "cell_type": "markdown",
   "metadata": {},
   "source": [
    "### LightGBM"
   ]
  },
  {
   "cell_type": "code",
   "execution_count": 42,
   "metadata": {},
   "outputs": [],
   "source": [
    "trainX,testX,trainY,testY = train_test_split(frame_ohe.drop(\"Price\",axis = 1),\n",
    "                                             frame_ohe[\"Price\"],\n",
    "                                             test_size = 0.25,\n",
    "                                             random_state = 42)\n",
    "\n",
    "trainX_wo_ohe,testX_wo_ohe,trainY_wo_ohe,testY_wo_ohe = train_test_split(frame.drop(\"Price\",axis = 1),\n",
    "                                             frame[\"Price\"],\n",
    "                                             test_size = 0.25,\n",
    "                                             random_state = 42)\n",
    "(trainX_wo_ohe_light,\n",
    " testX_wo_ohe_light,\n",
    " trainY_wo_ohe_light,\n",
    " testY_wo_ohe_light) = train_test_split(frame_light.drop(\"Price\",axis = 1),\n",
    "                                             frame_light[\"Price\"],\n",
    "                                             test_size = 0.25,\n",
    "                                             random_state = 42)"
   ]
  },
  {
   "cell_type": "code",
   "execution_count": null,
   "metadata": {
    "scrolled": true
   },
   "outputs": [
    {
     "name": "stderr",
     "output_type": "stream",
     "text": [
      "/opt/conda/lib/python3.9/site-packages/lightgbm/engine.py:239: UserWarning: 'verbose_eval' argument is deprecated and will be removed in a future release of LightGBM. Pass 'log_evaluation()' callback via 'callbacks' argument instead.\n",
      "  _log_warning(\"'verbose_eval' argument is deprecated and will be removed in a future release of LightGBM. \"\n"
     ]
    },
    {
     "name": "stdout",
     "output_type": "stream",
     "text": [
      "[LightGBM] [Warning] Auto-choosing col-wise multi-threading, the overhead of testing was 0.494004 seconds.\n",
      "You can set `force_col_wise=true` to remove the overhead.\n",
      "[LightGBM] [Info] Total Bins 648\n",
      "[LightGBM] [Info] Number of data points in the train set: 212535, number of used features: 10\n",
      "[LightGBM] [Info] Start training from score 3782.977872\n",
      "[LightGBM] [Warning] No further splits with positive gain, best gain: -inf\n",
      "[LightGBM] [Warning] No further splits with positive gain, best gain: -inf\n",
      "[LightGBM] [Warning] No further splits with positive gain, best gain: -inf\n",
      "[LightGBM] [Warning] No further splits with positive gain, best gain: -inf\n",
      "[LightGBM] [Warning] No further splits with positive gain, best gain: -inf\n",
      "[LightGBM] [Warning] No further splits with positive gain, best gain: -inf\n",
      "[LightGBM] [Warning] No further splits with positive gain, best gain: -inf\n",
      "[LightGBM] [Warning] No further splits with positive gain, best gain: -inf\n",
      "[100]\ttraining's rmse: 1416.78\n",
      "[LightGBM] [Warning] No further splits with positive gain, best gain: -inf\n",
      "[LightGBM] [Warning] No further splits with positive gain, best gain: -inf\n",
      "[LightGBM] [Warning] No further splits with positive gain, best gain: -inf\n",
      "[LightGBM] [Warning] No further splits with positive gain, best gain: -inf\n",
      "[LightGBM] [Warning] No further splits with positive gain, best gain: -inf\n",
      "[LightGBM] [Warning] No further splits with positive gain, best gain: -inf\n",
      "[LightGBM] [Warning] No further splits with positive gain, best gain: -inf\n",
      "[LightGBM] [Warning] No further splits with positive gain, best gain: -inf\n",
      "[LightGBM] [Warning] No further splits with positive gain, best gain: -inf\n",
      "[LightGBM] [Warning] No further splits with positive gain, best gain: -inf\n",
      "[LightGBM] [Warning] No further splits with positive gain, best gain: -inf\n",
      "[LightGBM] [Warning] No further splits with positive gain, best gain: -inf\n",
      "[LightGBM] [Warning] No further splits with positive gain, best gain: -inf\n",
      "[LightGBM] [Warning] No further splits with positive gain, best gain: -inf\n",
      "[LightGBM] [Warning] No further splits with positive gain, best gain: -inf\n",
      "[LightGBM] [Warning] No further splits with positive gain, best gain: -inf\n",
      "[LightGBM] [Warning] No further splits with positive gain, best gain: -inf\n",
      "[LightGBM] [Warning] No further splits with positive gain, best gain: -inf\n",
      "[LightGBM] [Warning] No further splits with positive gain, best gain: -inf\n",
      "[LightGBM] [Warning] No further splits with positive gain, best gain: -inf\n",
      "[LightGBM] [Warning] No further splits with positive gain, best gain: -inf\n",
      "[LightGBM] [Warning] No further splits with positive gain, best gain: -inf\n",
      "[LightGBM] [Warning] No further splits with positive gain, best gain: -inf\n",
      "[LightGBM] [Warning] No further splits with positive gain, best gain: -inf\n",
      "[LightGBM] [Warning] No further splits with positive gain, best gain: -inf\n",
      "[LightGBM] [Warning] No further splits with positive gain, best gain: -inf\n",
      "[LightGBM] [Warning] No further splits with positive gain, best gain: -inf\n",
      "[LightGBM] [Warning] No further splits with positive gain, best gain: -inf\n",
      "[LightGBM] [Warning] No further splits with positive gain, best gain: -inf\n",
      "[LightGBM] [Warning] No further splits with positive gain, best gain: -inf\n",
      "[LightGBM] [Warning] No further splits with positive gain, best gain: -inf\n",
      "[LightGBM] [Warning] No further splits with positive gain, best gain: -inf\n",
      "[LightGBM] [Warning] No further splits with positive gain, best gain: -inf\n",
      "[LightGBM] [Warning] No further splits with positive gain, best gain: -inf\n",
      "[LightGBM] [Warning] No further splits with positive gain, best gain: -inf\n",
      "[LightGBM] [Warning] No further splits with positive gain, best gain: -inf\n",
      "[LightGBM] [Warning] No further splits with positive gain, best gain: -inf\n",
      "[LightGBM] [Warning] No further splits with positive gain, best gain: -inf\n",
      "[LightGBM] [Warning] No further splits with positive gain, best gain: -inf\n",
      "[LightGBM] [Warning] No further splits with positive gain, best gain: -inf\n",
      "[LightGBM] [Warning] No further splits with positive gain, best gain: -inf\n",
      "[LightGBM] [Warning] No further splits with positive gain, best gain: -inf\n",
      "[200]\ttraining's rmse: 1367.77\n",
      "[LightGBM] [Warning] No further splits with positive gain, best gain: -inf\n",
      "[LightGBM] [Warning] No further splits with positive gain, best gain: -inf\n",
      "[LightGBM] [Warning] No further splits with positive gain, best gain: -inf\n",
      "[LightGBM] [Warning] No further splits with positive gain, best gain: -inf\n",
      "[LightGBM] [Warning] No further splits with positive gain, best gain: -inf\n",
      "[LightGBM] [Warning] No further splits with positive gain, best gain: -inf\n",
      "[LightGBM] [Warning] No further splits with positive gain, best gain: -inf\n",
      "[LightGBM] [Warning] No further splits with positive gain, best gain: -inf\n",
      "[LightGBM] [Warning] No further splits with positive gain, best gain: -inf\n",
      "[LightGBM] [Warning] No further splits with positive gain, best gain: -inf\n",
      "[LightGBM] [Warning] No further splits with positive gain, best gain: -inf\n",
      "[LightGBM] [Warning] No further splits with positive gain, best gain: -inf\n",
      "[LightGBM] [Warning] No further splits with positive gain, best gain: -inf\n",
      "[LightGBM] [Warning] No further splits with positive gain, best gain: -inf\n",
      "[LightGBM] [Warning] No further splits with positive gain, best gain: -inf\n",
      "[LightGBM] [Warning] No further splits with positive gain, best gain: -inf\n",
      "[LightGBM] [Warning] No further splits with positive gain, best gain: -inf\n",
      "[LightGBM] [Warning] No further splits with positive gain, best gain: -inf\n",
      "[LightGBM] [Warning] No further splits with positive gain, best gain: -inf\n",
      "[LightGBM] [Warning] No further splits with positive gain, best gain: -inf\n",
      "[LightGBM] [Warning] No further splits with positive gain, best gain: -inf\n"
     ]
    }
   ],
   "source": [
    "%%time\n",
    "# LightGBM\n",
    "lgb_train = lgb.Dataset(trainX_wo_ohe_light, trainY_wo_ohe_light)\n",
    "# lgb_test = lgb.Dataset(testX_wo_ohe_light, testY_wo_ohe_light, reference=lgb_train)\n",
    "parameters_light = {'metric': 'rmse', 'max_depth': 4,\"random_state\": 42,\"learning_rate\":0.1}\n",
    "light = lgb.train(parameters_light,\n",
    "                lgb_train,\n",
    "                num_boost_round=1000,\n",
    "                valid_sets=[lgb_train], # lgb_test],\n",
    "                verbose_eval=100)\n"
   ]
  },
  {
   "cell_type": "code",
   "execution_count": 42,
   "metadata": {},
   "outputs": [
    {
     "name": "stdout",
     "output_type": "stream",
     "text": [
      "LightGBM: 1314.4109024286072\n",
      "CPU times: user 7.8 s, sys: 0 ns, total: 7.8 s\n",
      "Wall time: 7.82 s\n"
     ]
    }
   ],
   "source": [
    "%%time\n",
    "LightGBM_rmse = mean_squared_error(testY,light.predict(testX_wo_ohe_light),squared=False)\n",
    "print(\"LightGBM:\",LightGBM_rmse )"
   ]
  },
  {
   "cell_type": "markdown",
   "metadata": {},
   "source": [
    "## Анализ моделей"
   ]
  },
  {
   "cell_type": "markdown",
   "metadata": {},
   "source": [
    "Исходя из полученных показателей качества: значения метрики RMSE и времени - следует, что LightGBM выполняется по суммарному значению итераций 1 минуту, против самой быстрой модели SGD, которая выполняется менее чем за 1 секунду. Большее количество гиперпараметров использовать не удается, т.к. слишком много времени уходит."
   ]
  },
  {
   "cell_type": "code",
   "execution_count": 49,
   "metadata": {},
   "outputs": [
    {
     "data": {
      "text/html": [
       "<div>\n",
       "<style scoped>\n",
       "    .dataframe tbody tr th:only-of-type {\n",
       "        vertical-align: middle;\n",
       "    }\n",
       "\n",
       "    .dataframe tbody tr th {\n",
       "        vertical-align: top;\n",
       "    }\n",
       "\n",
       "    .dataframe thead th {\n",
       "        text-align: right;\n",
       "    }\n",
       "</style>\n",
       "<table border=\"1\" class=\"dataframe\">\n",
       "  <thead>\n",
       "    <tr style=\"text-align: right;\">\n",
       "      <th></th>\n",
       "      <th>MODEL</th>\n",
       "      <th>RMSE</th>\n",
       "      <th>CV_SCORE RMSE</th>\n",
       "      <th>ВРЕМЯ ОБУЧЕНИЯ</th>\n",
       "      <th>ВРЕМЯ ПРЕДСКАЗАНИЯ</th>\n",
       "    </tr>\n",
       "  </thead>\n",
       "  <tbody>\n",
       "    <tr>\n",
       "      <th>1</th>\n",
       "      <td>SGD regressor</td>\n",
       "      <td>2441.825182</td>\n",
       "      <td>0.485622</td>\n",
       "      <td>0.728 sec</td>\n",
       "      <td>1.12 sec</td>\n",
       "    </tr>\n",
       "    <tr>\n",
       "      <th>2</th>\n",
       "      <td>LightGBM</td>\n",
       "      <td>1314.410902</td>\n",
       "      <td>N\\A</td>\n",
       "      <td>1 min 3 sec</td>\n",
       "      <td>7.82 sec</td>\n",
       "    </tr>\n",
       "    <tr>\n",
       "      <th>3</th>\n",
       "      <td>Linear Reg.</td>\n",
       "      <td>2187.299649</td>\n",
       "      <td>0.487162</td>\n",
       "      <td>16.5 sec</td>\n",
       "      <td>0.797  sec</td>\n",
       "    </tr>\n",
       "    <tr>\n",
       "      <th>4</th>\n",
       "      <td>RandForest</td>\n",
       "      <td>1430.485876</td>\n",
       "      <td>0.797021</td>\n",
       "      <td>1 min 1 sec</td>\n",
       "      <td>45.6 sec</td>\n",
       "    </tr>\n",
       "  </tbody>\n",
       "</table>\n",
       "</div>"
      ],
      "text/plain": [
       "           MODEL         RMSE CV_SCORE RMSE ВРЕМЯ ОБУЧЕНИЯ ВРЕМЯ ПРЕДСКАЗАНИЯ\n",
       "1  SGD regressor  2441.825182      0.485622     0.728 sec            1.12 sec\n",
       "2       LightGBM  1314.410902           N\\A    1 min 3 sec           7.82 sec\n",
       "3    Linear Reg.  2187.299649      0.487162       16.5 sec         0.797  sec\n",
       "4     RandForest  1430.485876      0.797021    1 min 1 sec           45.6 sec"
      ]
     },
     "execution_count": 49,
     "metadata": {},
     "output_type": "execute_result"
    }
   ],
   "source": [
    "index_table = 0\n",
    "table = pd.DataFrame(columns=['MODEL',\"RMSE\",'CV_SCORE RMSE','ВРЕМЯ ОБУЧЕНИЯ','ВРЕМЯ ПРЕДСКАЗАНИЯ'])\n",
    "\n",
    "\n",
    "index_table +=1\n",
    "table.loc[index_table] = ['SGD regressor', rmse_model_SGD_oe, cross_val_score(\n",
    "    model_SGD_oe, x_test, y_test, cv=5, verbose=0, error_score = \n",
    "                                                           rmse_model_SGD_oe).mean(), ' 0.728 sec ', \"1.12 sec\"]\n",
    "\n",
    "index_table +=1\n",
    "table.loc[index_table] = ['LightGBM', LightGBM_rmse ,\"N\\A\", '1 min 3 sec','7.82 sec']\n",
    "\n",
    "index_table +=1\n",
    "table.loc[index_table] = ['Linear Reg.',rmse_model_linReg, cross_val_score(\n",
    "    model_linReg, x_test, y_test, cv=5, verbose=0, error_score =\n",
    "                                                         rmse_model_linReg).mean(), '16.5 sec',' 0.797  sec']\n",
    "\n",
    "index_table +=1\n",
    "table.loc[index_table] = ['RandForest',rmse_model_RandForest_oe, cross_val_score(\n",
    "    model_RandForest_oe, x_test, y_test, cv=5, verbose=0, error_score =\n",
    "                                                        rmse_model_RandForest_oe).mean(), '1 min 1 sec', \"45.6 sec\"]\n",
    "\n",
    "table"
   ]
  }
 ],
 "metadata": {
  "ExecuteTimeLog": [
   {
    "duration": 75,
    "start_time": "2023-04-21T08:39:44.943Z"
   },
   {
    "duration": 395,
    "start_time": "2023-04-21T08:39:49.191Z"
   },
   {
    "duration": 1205,
    "start_time": "2023-04-21T08:39:49.592Z"
   },
   {
    "duration": 815,
    "start_time": "2023-04-21T08:39:58.309Z"
   },
   {
    "duration": 98,
    "start_time": "2023-04-21T08:40:08.322Z"
   },
   {
    "duration": 27,
    "start_time": "2023-04-21T08:40:29.315Z"
   },
   {
    "duration": 115,
    "start_time": "2023-04-21T08:40:34.303Z"
   },
   {
    "duration": 8,
    "start_time": "2023-04-21T08:42:01.819Z"
   },
   {
    "duration": 18,
    "start_time": "2023-04-21T08:42:23.463Z"
   },
   {
    "duration": 33,
    "start_time": "2023-04-21T08:42:27.664Z"
   },
   {
    "duration": 781,
    "start_time": "2023-04-21T08:42:39.987Z"
   },
   {
    "duration": 875,
    "start_time": "2023-04-21T08:42:53.070Z"
   },
   {
    "duration": 615,
    "start_time": "2023-04-21T08:45:33.600Z"
   },
   {
    "duration": 134,
    "start_time": "2023-04-21T08:46:07.959Z"
   },
   {
    "duration": 126,
    "start_time": "2023-04-21T08:46:32.022Z"
   },
   {
    "duration": 208,
    "start_time": "2023-04-21T08:47:11.509Z"
   },
   {
    "duration": 174,
    "start_time": "2023-04-21T08:47:17.965Z"
   },
   {
    "duration": 1380,
    "start_time": "2023-04-21T08:47:23.106Z"
   },
   {
    "duration": 1352,
    "start_time": "2023-04-21T08:47:38.208Z"
   },
   {
    "duration": 228,
    "start_time": "2023-04-21T08:47:42.653Z"
   },
   {
    "duration": 234,
    "start_time": "2023-04-21T08:50:09.655Z"
   },
   {
    "duration": 251,
    "start_time": "2023-04-21T08:50:15.735Z"
   },
   {
    "duration": 243,
    "start_time": "2023-04-21T08:50:19.518Z"
   },
   {
    "duration": 263,
    "start_time": "2023-04-21T08:50:58.733Z"
   },
   {
    "duration": 301,
    "start_time": "2023-04-21T08:51:05.527Z"
   },
   {
    "duration": 284,
    "start_time": "2023-04-21T08:51:13.721Z"
   },
   {
    "duration": 3,
    "start_time": "2023-04-21T08:55:19.500Z"
   },
   {
    "duration": 252,
    "start_time": "2023-04-21T08:55:39.797Z"
   },
   {
    "duration": 258,
    "start_time": "2023-04-21T08:56:15.297Z"
   },
   {
    "duration": 271,
    "start_time": "2023-04-21T08:56:33.736Z"
   },
   {
    "duration": 283,
    "start_time": "2023-04-21T08:56:37.737Z"
   },
   {
    "duration": 2349,
    "start_time": "2023-04-21T08:56:40.343Z"
   },
   {
    "duration": 12,
    "start_time": "2023-04-21T08:57:01.386Z"
   },
   {
    "duration": 2296,
    "start_time": "2023-04-21T08:57:06.039Z"
   },
   {
    "duration": 32,
    "start_time": "2023-04-21T08:57:34.670Z"
   },
   {
    "duration": 10,
    "start_time": "2023-04-21T08:58:02.630Z"
   },
   {
    "duration": 444,
    "start_time": "2023-04-21T08:58:48.220Z"
   },
   {
    "duration": 405,
    "start_time": "2023-04-21T08:58:58.540Z"
   },
   {
    "duration": 140,
    "start_time": "2023-04-21T08:59:07.666Z"
   },
   {
    "duration": 180,
    "start_time": "2023-04-21T08:59:14.426Z"
   },
   {
    "duration": 514,
    "start_time": "2023-04-21T08:59:25.930Z"
   },
   {
    "duration": 238,
    "start_time": "2023-04-21T08:59:29.209Z"
   },
   {
    "duration": 11,
    "start_time": "2023-04-21T09:00:31.390Z"
   },
   {
    "duration": 12,
    "start_time": "2023-04-21T09:00:34.463Z"
   },
   {
    "duration": 10,
    "start_time": "2023-04-21T09:02:24.363Z"
   },
   {
    "duration": 239,
    "start_time": "2023-04-21T09:02:33.128Z"
   },
   {
    "duration": 14,
    "start_time": "2023-04-21T09:02:36.522Z"
   },
   {
    "duration": 19,
    "start_time": "2023-04-21T09:02:47.293Z"
   },
   {
    "duration": 61,
    "start_time": "2023-04-21T09:03:20.998Z"
   },
   {
    "duration": 74,
    "start_time": "2023-04-21T09:03:31.593Z"
   },
   {
    "duration": 29,
    "start_time": "2023-04-21T09:03:38.694Z"
   },
   {
    "duration": 26,
    "start_time": "2023-04-21T09:03:47.598Z"
   },
   {
    "duration": 4,
    "start_time": "2023-04-21T09:04:07.367Z"
   },
   {
    "duration": 20,
    "start_time": "2023-04-21T09:04:35.584Z"
   },
   {
    "duration": 63,
    "start_time": "2023-04-21T09:09:50.289Z"
   },
   {
    "duration": 8,
    "start_time": "2023-04-21T09:09:53.108Z"
   },
   {
    "duration": 612,
    "start_time": "2023-04-21T09:10:02.289Z"
   },
   {
    "duration": 131,
    "start_time": "2023-04-21T09:10:09.816Z"
   },
   {
    "duration": 1384,
    "start_time": "2023-04-21T09:11:23.309Z"
   },
   {
    "duration": 65,
    "start_time": "2023-04-21T09:11:42.498Z"
   },
   {
    "duration": 1583,
    "start_time": "2023-04-21T09:11:53.499Z"
   },
   {
    "duration": 1633,
    "start_time": "2023-04-21T09:12:03.628Z"
   },
   {
    "duration": 175,
    "start_time": "2023-04-21T09:14:22.453Z"
   },
   {
    "duration": 9,
    "start_time": "2023-04-21T09:14:41.621Z"
   },
   {
    "duration": 5,
    "start_time": "2023-04-21T09:15:21.220Z"
   },
   {
    "duration": 93,
    "start_time": "2023-04-21T09:15:26.435Z"
   },
   {
    "duration": 6,
    "start_time": "2023-04-21T09:15:39.451Z"
   },
   {
    "duration": 8,
    "start_time": "2023-04-21T09:15:43.084Z"
   },
   {
    "duration": 1117,
    "start_time": "2023-04-21T09:15:49.492Z"
   },
   {
    "duration": 1180,
    "start_time": "2023-04-21T09:16:04.242Z"
   },
   {
    "duration": 54,
    "start_time": "2023-04-21T09:16:25.201Z"
   },
   {
    "duration": 145,
    "start_time": "2023-04-21T09:16:33.001Z"
   },
   {
    "duration": 7,
    "start_time": "2023-04-21T09:16:44.112Z"
   },
   {
    "duration": 14,
    "start_time": "2023-04-21T09:16:51.196Z"
   },
   {
    "duration": 9,
    "start_time": "2023-04-21T09:17:07.527Z"
   },
   {
    "duration": 8,
    "start_time": "2023-04-21T09:17:17.671Z"
   },
   {
    "duration": 4,
    "start_time": "2023-04-21T09:18:10.940Z"
   },
   {
    "duration": 13,
    "start_time": "2023-04-21T09:18:15.490Z"
   },
   {
    "duration": 332,
    "start_time": "2023-04-21T09:20:04.511Z"
   },
   {
    "duration": 332,
    "start_time": "2023-04-21T09:20:08.929Z"
   },
   {
    "duration": 39,
    "start_time": "2023-04-21T09:20:57.198Z"
   },
   {
    "duration": 71,
    "start_time": "2023-04-21T09:21:16.150Z"
   },
   {
    "duration": 40,
    "start_time": "2023-04-21T09:21:27.596Z"
   },
   {
    "duration": 7,
    "start_time": "2023-04-21T09:21:39.988Z"
   },
   {
    "duration": 58,
    "start_time": "2023-04-21T09:22:06.332Z"
   },
   {
    "duration": 11,
    "start_time": "2023-04-21T09:22:08.198Z"
   },
   {
    "duration": 689,
    "start_time": "2023-04-21T09:22:24.138Z"
   },
   {
    "duration": 66,
    "start_time": "2023-04-21T13:30:16.651Z"
   },
   {
    "duration": 537,
    "start_time": "2023-04-21T13:30:30.744Z"
   },
   {
    "duration": 65,
    "start_time": "2023-04-21T13:30:34.696Z"
   },
   {
    "duration": 609,
    "start_time": "2023-04-21T13:31:51.591Z"
   },
   {
    "duration": 55,
    "start_time": "2023-04-21T13:33:18.971Z"
   },
   {
    "duration": 7,
    "start_time": "2023-04-21T13:33:25.446Z"
   },
   {
    "duration": 13,
    "start_time": "2023-04-21T13:33:30.738Z"
   },
   {
    "duration": 13,
    "start_time": "2023-04-21T13:33:35.379Z"
   },
   {
    "duration": 659,
    "start_time": "2023-04-21T13:34:04.746Z"
   },
   {
    "duration": 5,
    "start_time": "2023-04-21T13:34:21.225Z"
   },
   {
    "duration": 645,
    "start_time": "2023-04-21T13:34:34.081Z"
   },
   {
    "duration": 606,
    "start_time": "2023-04-21T13:34:50.949Z"
   },
   {
    "duration": 1018,
    "start_time": "2023-04-21T13:34:51.557Z"
   },
   {
    "duration": 82,
    "start_time": "2023-04-21T13:34:52.577Z"
   },
   {
    "duration": 103,
    "start_time": "2023-04-21T13:34:52.671Z"
   },
   {
    "duration": 10,
    "start_time": "2023-04-21T13:34:52.776Z"
   },
   {
    "duration": 53,
    "start_time": "2023-04-21T13:34:52.788Z"
   },
   {
    "duration": 5,
    "start_time": "2023-04-21T13:34:52.842Z"
   },
   {
    "duration": 58,
    "start_time": "2023-04-21T13:34:52.848Z"
   },
   {
    "duration": 20,
    "start_time": "2023-04-21T13:34:52.908Z"
   },
   {
    "duration": 111,
    "start_time": "2023-04-21T13:34:58.224Z"
   },
   {
    "duration": 18,
    "start_time": "2023-04-21T13:35:00.256Z"
   },
   {
    "duration": 4,
    "start_time": "2023-04-21T13:35:13.504Z"
   },
   {
    "duration": 5,
    "start_time": "2023-04-21T13:35:19.159Z"
   },
   {
    "duration": 67,
    "start_time": "2023-04-21T13:35:24.278Z"
   },
   {
    "duration": 6,
    "start_time": "2023-04-21T13:35:30.079Z"
   },
   {
    "duration": 43,
    "start_time": "2023-04-23T06:48:47.621Z"
   },
   {
    "duration": 6,
    "start_time": "2023-04-23T06:49:10.968Z"
   },
   {
    "duration": 714,
    "start_time": "2023-04-23T06:49:19.687Z"
   },
   {
    "duration": 1146,
    "start_time": "2023-04-23T06:49:20.403Z"
   },
   {
    "duration": 119,
    "start_time": "2023-04-23T06:49:21.551Z"
   },
   {
    "duration": 137,
    "start_time": "2023-04-23T06:49:21.673Z"
   },
   {
    "duration": 29,
    "start_time": "2023-04-23T06:49:21.812Z"
   },
   {
    "duration": 48,
    "start_time": "2023-04-23T06:49:21.843Z"
   },
   {
    "duration": 10,
    "start_time": "2023-04-23T06:49:21.894Z"
   },
   {
    "duration": 78,
    "start_time": "2023-04-23T06:49:21.907Z"
   },
   {
    "duration": 153,
    "start_time": "2023-04-23T06:49:21.987Z"
   },
   {
    "duration": 5,
    "start_time": "2023-04-23T06:49:22.143Z"
   },
   {
    "duration": 132,
    "start_time": "2023-04-23T06:49:22.150Z"
   },
   {
    "duration": 0,
    "start_time": "2023-04-23T06:49:22.285Z"
   },
   {
    "duration": 8,
    "start_time": "2023-04-23T06:49:48.927Z"
   },
   {
    "duration": 89,
    "start_time": "2023-04-23T06:50:14.742Z"
   },
   {
    "duration": 56,
    "start_time": "2023-04-23T06:50:16.926Z"
   },
   {
    "duration": 677,
    "start_time": "2023-04-23T07:07:56.728Z"
   },
   {
    "duration": 1097,
    "start_time": "2023-04-23T07:07:57.408Z"
   },
   {
    "duration": 105,
    "start_time": "2023-04-23T07:07:58.507Z"
   },
   {
    "duration": 138,
    "start_time": "2023-04-23T07:07:58.615Z"
   },
   {
    "duration": 17,
    "start_time": "2023-04-23T07:07:58.755Z"
   },
   {
    "duration": 61,
    "start_time": "2023-04-23T07:07:58.773Z"
   },
   {
    "duration": 9,
    "start_time": "2023-04-23T07:07:58.836Z"
   },
   {
    "duration": 57,
    "start_time": "2023-04-23T07:07:58.846Z"
   },
   {
    "duration": 156,
    "start_time": "2023-04-23T07:07:58.904Z"
   },
   {
    "duration": 5,
    "start_time": "2023-04-23T07:07:59.063Z"
   },
   {
    "duration": 125,
    "start_time": "2023-04-23T07:07:59.069Z"
   },
   {
    "duration": 67,
    "start_time": "2023-04-23T07:07:59.196Z"
   },
   {
    "duration": 85,
    "start_time": "2023-04-23T07:07:59.265Z"
   },
   {
    "duration": 0,
    "start_time": "2023-04-23T07:07:59.352Z"
   },
   {
    "duration": 0,
    "start_time": "2023-04-23T07:07:59.354Z"
   },
   {
    "duration": 0,
    "start_time": "2023-04-23T07:07:59.356Z"
   },
   {
    "duration": 0,
    "start_time": "2023-04-23T07:07:59.357Z"
   },
   {
    "duration": 0,
    "start_time": "2023-04-23T07:07:59.358Z"
   },
   {
    "duration": 0,
    "start_time": "2023-04-23T07:07:59.360Z"
   },
   {
    "duration": 0,
    "start_time": "2023-04-23T07:07:59.362Z"
   },
   {
    "duration": 1,
    "start_time": "2023-04-23T07:07:59.363Z"
   },
   {
    "duration": 0,
    "start_time": "2023-04-23T07:07:59.365Z"
   },
   {
    "duration": 0,
    "start_time": "2023-04-23T07:07:59.367Z"
   },
   {
    "duration": 0,
    "start_time": "2023-04-23T07:07:59.368Z"
   },
   {
    "duration": 0,
    "start_time": "2023-04-23T07:07:59.369Z"
   },
   {
    "duration": 0,
    "start_time": "2023-04-23T07:07:59.371Z"
   },
   {
    "duration": 9,
    "start_time": "2023-04-23T07:09:50.242Z"
   },
   {
    "duration": 8,
    "start_time": "2023-04-23T07:09:52.896Z"
   },
   {
    "duration": 636,
    "start_time": "2023-04-23T07:09:58.555Z"
   },
   {
    "duration": 1013,
    "start_time": "2023-04-23T07:09:59.193Z"
   },
   {
    "duration": 106,
    "start_time": "2023-04-23T07:10:00.208Z"
   },
   {
    "duration": 134,
    "start_time": "2023-04-23T07:10:00.316Z"
   },
   {
    "duration": 31,
    "start_time": "2023-04-23T07:10:00.452Z"
   },
   {
    "duration": 90,
    "start_time": "2023-04-23T07:10:00.485Z"
   },
   {
    "duration": 0,
    "start_time": "2023-04-23T07:10:00.577Z"
   },
   {
    "duration": 0,
    "start_time": "2023-04-23T07:10:00.579Z"
   },
   {
    "duration": 0,
    "start_time": "2023-04-23T07:10:00.580Z"
   },
   {
    "duration": 0,
    "start_time": "2023-04-23T07:10:00.582Z"
   },
   {
    "duration": 0,
    "start_time": "2023-04-23T07:10:00.584Z"
   },
   {
    "duration": 0,
    "start_time": "2023-04-23T07:10:00.586Z"
   },
   {
    "duration": 0,
    "start_time": "2023-04-23T07:10:00.587Z"
   },
   {
    "duration": 0,
    "start_time": "2023-04-23T07:10:00.589Z"
   },
   {
    "duration": 0,
    "start_time": "2023-04-23T07:10:00.590Z"
   },
   {
    "duration": 0,
    "start_time": "2023-04-23T07:10:00.591Z"
   },
   {
    "duration": 0,
    "start_time": "2023-04-23T07:10:00.593Z"
   },
   {
    "duration": 0,
    "start_time": "2023-04-23T07:10:00.594Z"
   },
   {
    "duration": 0,
    "start_time": "2023-04-23T07:10:00.596Z"
   },
   {
    "duration": 0,
    "start_time": "2023-04-23T07:10:00.597Z"
   },
   {
    "duration": 0,
    "start_time": "2023-04-23T07:10:00.598Z"
   },
   {
    "duration": 0,
    "start_time": "2023-04-23T07:10:00.599Z"
   },
   {
    "duration": 0,
    "start_time": "2023-04-23T07:10:00.633Z"
   },
   {
    "duration": 0,
    "start_time": "2023-04-23T07:10:00.636Z"
   },
   {
    "duration": 0,
    "start_time": "2023-04-23T07:10:00.638Z"
   },
   {
    "duration": 0,
    "start_time": "2023-04-23T07:10:00.639Z"
   },
   {
    "duration": 623,
    "start_time": "2023-04-23T07:25:33.101Z"
   },
   {
    "duration": 1096,
    "start_time": "2023-04-23T07:25:33.726Z"
   },
   {
    "duration": 112,
    "start_time": "2023-04-23T07:25:34.824Z"
   },
   {
    "duration": 128,
    "start_time": "2023-04-23T07:25:34.939Z"
   },
   {
    "duration": 29,
    "start_time": "2023-04-23T07:25:35.069Z"
   },
   {
    "duration": 89,
    "start_time": "2023-04-23T07:25:35.099Z"
   },
   {
    "duration": 0,
    "start_time": "2023-04-23T07:25:35.190Z"
   },
   {
    "duration": 0,
    "start_time": "2023-04-23T07:25:35.192Z"
   },
   {
    "duration": 0,
    "start_time": "2023-04-23T07:25:35.193Z"
   },
   {
    "duration": 0,
    "start_time": "2023-04-23T07:25:35.194Z"
   },
   {
    "duration": 0,
    "start_time": "2023-04-23T07:25:35.195Z"
   },
   {
    "duration": 0,
    "start_time": "2023-04-23T07:25:35.196Z"
   },
   {
    "duration": 0,
    "start_time": "2023-04-23T07:25:35.197Z"
   },
   {
    "duration": 0,
    "start_time": "2023-04-23T07:25:35.198Z"
   },
   {
    "duration": 0,
    "start_time": "2023-04-23T07:25:35.200Z"
   },
   {
    "duration": 0,
    "start_time": "2023-04-23T07:25:35.201Z"
   },
   {
    "duration": 0,
    "start_time": "2023-04-23T07:25:35.202Z"
   },
   {
    "duration": 0,
    "start_time": "2023-04-23T07:25:35.203Z"
   },
   {
    "duration": 0,
    "start_time": "2023-04-23T07:25:35.205Z"
   },
   {
    "duration": 0,
    "start_time": "2023-04-23T07:25:35.206Z"
   },
   {
    "duration": 0,
    "start_time": "2023-04-23T07:25:35.207Z"
   },
   {
    "duration": 0,
    "start_time": "2023-04-23T07:25:35.233Z"
   },
   {
    "duration": 0,
    "start_time": "2023-04-23T07:25:35.235Z"
   },
   {
    "duration": 0,
    "start_time": "2023-04-23T07:25:35.236Z"
   },
   {
    "duration": 0,
    "start_time": "2023-04-23T07:25:35.238Z"
   },
   {
    "duration": 0,
    "start_time": "2023-04-23T07:25:35.239Z"
   },
   {
    "duration": 1115,
    "start_time": "2023-04-23T07:26:35.640Z"
   },
   {
    "duration": 1062,
    "start_time": "2023-04-23T07:26:36.758Z"
   },
   {
    "duration": 104,
    "start_time": "2023-04-23T07:26:37.821Z"
   },
   {
    "duration": 146,
    "start_time": "2023-04-23T07:26:37.932Z"
   },
   {
    "duration": 14,
    "start_time": "2023-04-23T07:26:38.080Z"
   },
   {
    "duration": 59,
    "start_time": "2023-04-23T07:26:38.096Z"
   },
   {
    "duration": 8,
    "start_time": "2023-04-23T07:26:38.157Z"
   },
   {
    "duration": 75,
    "start_time": "2023-04-23T07:26:38.167Z"
   },
   {
    "duration": 137,
    "start_time": "2023-04-23T07:26:38.244Z"
   },
   {
    "duration": 5,
    "start_time": "2023-04-23T07:26:38.384Z"
   },
   {
    "duration": 88,
    "start_time": "2023-04-23T07:26:38.391Z"
   },
   {
    "duration": 0,
    "start_time": "2023-04-23T07:26:38.480Z"
   },
   {
    "duration": 0,
    "start_time": "2023-04-23T07:26:38.482Z"
   },
   {
    "duration": 0,
    "start_time": "2023-04-23T07:26:38.483Z"
   },
   {
    "duration": 0,
    "start_time": "2023-04-23T07:26:38.485Z"
   },
   {
    "duration": 0,
    "start_time": "2023-04-23T07:26:38.486Z"
   },
   {
    "duration": 0,
    "start_time": "2023-04-23T07:26:38.487Z"
   },
   {
    "duration": 0,
    "start_time": "2023-04-23T07:26:38.488Z"
   },
   {
    "duration": 0,
    "start_time": "2023-04-23T07:26:38.489Z"
   },
   {
    "duration": 0,
    "start_time": "2023-04-23T07:26:38.491Z"
   },
   {
    "duration": 0,
    "start_time": "2023-04-23T07:26:38.492Z"
   },
   {
    "duration": 0,
    "start_time": "2023-04-23T07:26:38.493Z"
   },
   {
    "duration": 0,
    "start_time": "2023-04-23T07:26:38.494Z"
   },
   {
    "duration": 0,
    "start_time": "2023-04-23T07:26:38.496Z"
   },
   {
    "duration": 0,
    "start_time": "2023-04-23T07:26:38.496Z"
   },
   {
    "duration": 0,
    "start_time": "2023-04-23T07:26:38.498Z"
   },
   {
    "duration": 690,
    "start_time": "2023-04-23T07:26:56.368Z"
   },
   {
    "duration": 1062,
    "start_time": "2023-04-23T07:26:57.060Z"
   },
   {
    "duration": 119,
    "start_time": "2023-04-23T07:26:58.124Z"
   },
   {
    "duration": 142,
    "start_time": "2023-04-23T07:26:58.246Z"
   },
   {
    "duration": 15,
    "start_time": "2023-04-23T07:26:58.390Z"
   },
   {
    "duration": 71,
    "start_time": "2023-04-23T07:26:58.407Z"
   },
   {
    "duration": 10,
    "start_time": "2023-04-23T07:26:58.480Z"
   },
   {
    "duration": 77,
    "start_time": "2023-04-23T07:26:58.492Z"
   },
   {
    "duration": 145,
    "start_time": "2023-04-23T07:26:58.571Z"
   },
   {
    "duration": 14,
    "start_time": "2023-04-23T07:26:58.720Z"
   },
   {
    "duration": 131,
    "start_time": "2023-04-23T07:26:58.736Z"
   },
   {
    "duration": 0,
    "start_time": "2023-04-23T07:26:58.870Z"
   },
   {
    "duration": 0,
    "start_time": "2023-04-23T07:26:58.871Z"
   },
   {
    "duration": 0,
    "start_time": "2023-04-23T07:26:58.873Z"
   },
   {
    "duration": 0,
    "start_time": "2023-04-23T07:26:58.874Z"
   },
   {
    "duration": 0,
    "start_time": "2023-04-23T07:26:58.876Z"
   },
   {
    "duration": 0,
    "start_time": "2023-04-23T07:26:58.877Z"
   },
   {
    "duration": 0,
    "start_time": "2023-04-23T07:26:58.879Z"
   },
   {
    "duration": 0,
    "start_time": "2023-04-23T07:26:58.881Z"
   },
   {
    "duration": 0,
    "start_time": "2023-04-23T07:26:58.883Z"
   },
   {
    "duration": 0,
    "start_time": "2023-04-23T07:26:58.884Z"
   },
   {
    "duration": 0,
    "start_time": "2023-04-23T07:26:58.886Z"
   },
   {
    "duration": 0,
    "start_time": "2023-04-23T07:26:58.888Z"
   },
   {
    "duration": 0,
    "start_time": "2023-04-23T07:26:58.890Z"
   },
   {
    "duration": 0,
    "start_time": "2023-04-23T07:26:58.891Z"
   },
   {
    "duration": 0,
    "start_time": "2023-04-23T07:26:58.892Z"
   },
   {
    "duration": 635,
    "start_time": "2023-04-23T07:27:07.559Z"
   },
   {
    "duration": 1020,
    "start_time": "2023-04-23T07:27:08.196Z"
   },
   {
    "duration": 104,
    "start_time": "2023-04-23T07:27:09.218Z"
   },
   {
    "duration": 135,
    "start_time": "2023-04-23T07:27:09.334Z"
   },
   {
    "duration": 101,
    "start_time": "2023-04-23T07:27:09.471Z"
   },
   {
    "duration": 47,
    "start_time": "2023-04-23T07:27:09.574Z"
   },
   {
    "duration": 9,
    "start_time": "2023-04-23T07:27:09.623Z"
   },
   {
    "duration": 60,
    "start_time": "2023-04-23T07:27:09.634Z"
   },
   {
    "duration": 165,
    "start_time": "2023-04-23T07:27:09.696Z"
   },
   {
    "duration": 6,
    "start_time": "2023-04-23T07:27:09.863Z"
   },
   {
    "duration": 123,
    "start_time": "2023-04-23T07:27:09.871Z"
   },
   {
    "duration": 66,
    "start_time": "2023-04-23T07:27:09.996Z"
   },
   {
    "duration": 146,
    "start_time": "2023-04-23T07:27:10.063Z"
   },
   {
    "duration": 5,
    "start_time": "2023-04-23T07:27:10.211Z"
   },
   {
    "duration": 478,
    "start_time": "2023-04-23T07:27:10.218Z"
   },
   {
    "duration": 60,
    "start_time": "2023-04-23T07:27:10.697Z"
   },
   {
    "duration": 872,
    "start_time": "2023-04-23T07:27:10.758Z"
   },
   {
    "duration": 0,
    "start_time": "2023-04-23T07:27:11.631Z"
   },
   {
    "duration": 0,
    "start_time": "2023-04-23T07:27:11.633Z"
   },
   {
    "duration": 0,
    "start_time": "2023-04-23T07:27:11.634Z"
   },
   {
    "duration": 0,
    "start_time": "2023-04-23T07:27:11.635Z"
   },
   {
    "duration": 0,
    "start_time": "2023-04-23T07:27:11.637Z"
   },
   {
    "duration": 0,
    "start_time": "2023-04-23T07:27:11.638Z"
   },
   {
    "duration": 0,
    "start_time": "2023-04-23T07:27:11.639Z"
   },
   {
    "duration": 0,
    "start_time": "2023-04-23T07:27:11.640Z"
   },
   {
    "duration": 0,
    "start_time": "2023-04-23T07:27:11.641Z"
   },
   {
    "duration": 61,
    "start_time": "2023-04-23T07:27:46.886Z"
   },
   {
    "duration": 1044,
    "start_time": "2023-04-23T07:27:55.358Z"
   },
   {
    "duration": 652,
    "start_time": "2023-04-23T07:28:02.628Z"
   },
   {
    "duration": 1011,
    "start_time": "2023-04-23T07:28:03.282Z"
   },
   {
    "duration": 95,
    "start_time": "2023-04-23T07:28:04.294Z"
   },
   {
    "duration": 119,
    "start_time": "2023-04-23T07:28:04.391Z"
   },
   {
    "duration": 26,
    "start_time": "2023-04-23T07:28:04.512Z"
   },
   {
    "duration": 46,
    "start_time": "2023-04-23T07:28:04.540Z"
   },
   {
    "duration": 8,
    "start_time": "2023-04-23T07:28:04.587Z"
   },
   {
    "duration": 76,
    "start_time": "2023-04-23T07:28:04.597Z"
   },
   {
    "duration": 130,
    "start_time": "2023-04-23T07:28:04.675Z"
   },
   {
    "duration": 5,
    "start_time": "2023-04-23T07:28:04.807Z"
   },
   {
    "duration": 105,
    "start_time": "2023-04-23T07:28:04.813Z"
   },
   {
    "duration": 65,
    "start_time": "2023-04-23T07:28:04.919Z"
   },
   {
    "duration": 122,
    "start_time": "2023-04-23T07:28:04.986Z"
   },
   {
    "duration": 4,
    "start_time": "2023-04-23T07:28:05.110Z"
   },
   {
    "duration": 392,
    "start_time": "2023-04-23T07:28:05.115Z"
   },
   {
    "duration": 52,
    "start_time": "2023-04-23T07:28:05.509Z"
   },
   {
    "duration": 694,
    "start_time": "2023-04-23T07:28:05.563Z"
   },
   {
    "duration": 48,
    "start_time": "2023-04-23T07:28:06.259Z"
   },
   {
    "duration": 0,
    "start_time": "2023-04-23T07:28:06.308Z"
   },
   {
    "duration": 0,
    "start_time": "2023-04-23T07:28:06.310Z"
   },
   {
    "duration": 0,
    "start_time": "2023-04-23T07:28:06.312Z"
   },
   {
    "duration": 0,
    "start_time": "2023-04-23T07:28:06.313Z"
   },
   {
    "duration": 0,
    "start_time": "2023-04-23T07:28:06.315Z"
   },
   {
    "duration": 0,
    "start_time": "2023-04-23T07:28:06.317Z"
   },
   {
    "duration": 0,
    "start_time": "2023-04-23T07:28:06.318Z"
   },
   {
    "duration": 0,
    "start_time": "2023-04-23T07:28:06.320Z"
   },
   {
    "duration": 645,
    "start_time": "2023-04-23T07:28:15.216Z"
   },
   {
    "duration": 988,
    "start_time": "2023-04-23T07:28:15.863Z"
   },
   {
    "duration": 113,
    "start_time": "2023-04-23T07:28:16.853Z"
   },
   {
    "duration": 127,
    "start_time": "2023-04-23T07:28:16.968Z"
   },
   {
    "duration": 13,
    "start_time": "2023-04-23T07:28:17.096Z"
   },
   {
    "duration": 70,
    "start_time": "2023-04-23T07:28:17.111Z"
   },
   {
    "duration": 8,
    "start_time": "2023-04-23T07:28:17.182Z"
   },
   {
    "duration": 65,
    "start_time": "2023-04-23T07:28:17.192Z"
   },
   {
    "duration": 132,
    "start_time": "2023-04-23T07:28:17.259Z"
   },
   {
    "duration": 5,
    "start_time": "2023-04-23T07:28:17.394Z"
   },
   {
    "duration": 111,
    "start_time": "2023-04-23T07:28:17.401Z"
   },
   {
    "duration": 66,
    "start_time": "2023-04-23T07:28:17.513Z"
   },
   {
    "duration": 122,
    "start_time": "2023-04-23T07:28:17.581Z"
   },
   {
    "duration": 4,
    "start_time": "2023-04-23T07:28:17.705Z"
   },
   {
    "duration": 433,
    "start_time": "2023-04-23T07:28:17.711Z"
   },
   {
    "duration": 47,
    "start_time": "2023-04-23T07:28:18.146Z"
   },
   {
    "duration": 665,
    "start_time": "2023-04-23T07:28:18.195Z"
   },
   {
    "duration": 52,
    "start_time": "2023-04-23T07:28:18.862Z"
   },
   {
    "duration": 0,
    "start_time": "2023-04-23T07:28:18.917Z"
   },
   {
    "duration": 0,
    "start_time": "2023-04-23T07:28:18.918Z"
   },
   {
    "duration": 0,
    "start_time": "2023-04-23T07:28:18.919Z"
   },
   {
    "duration": 0,
    "start_time": "2023-04-23T07:28:18.920Z"
   },
   {
    "duration": 0,
    "start_time": "2023-04-23T07:28:18.921Z"
   },
   {
    "duration": 0,
    "start_time": "2023-04-23T07:28:18.922Z"
   },
   {
    "duration": 0,
    "start_time": "2023-04-23T07:28:18.923Z"
   },
   {
    "duration": 67,
    "start_time": "2023-04-23T07:29:17.862Z"
   },
   {
    "duration": 816,
    "start_time": "2023-04-23T07:29:45.761Z"
   },
   {
    "duration": 1526,
    "start_time": "2023-04-23T07:29:50.512Z"
   },
   {
    "duration": 992,
    "start_time": "2023-04-23T07:29:52.042Z"
   },
   {
    "duration": 109,
    "start_time": "2023-04-23T07:29:53.036Z"
   },
   {
    "duration": 146,
    "start_time": "2023-04-23T07:29:53.148Z"
   },
   {
    "duration": 17,
    "start_time": "2023-04-23T07:29:53.295Z"
   },
   {
    "duration": 70,
    "start_time": "2023-04-23T07:29:53.314Z"
   },
   {
    "duration": 9,
    "start_time": "2023-04-23T07:29:53.385Z"
   },
   {
    "duration": 74,
    "start_time": "2023-04-23T07:29:53.396Z"
   },
   {
    "duration": 134,
    "start_time": "2023-04-23T07:29:53.472Z"
   },
   {
    "duration": 6,
    "start_time": "2023-04-23T07:29:53.609Z"
   },
   {
    "duration": 106,
    "start_time": "2023-04-23T07:29:53.617Z"
   },
   {
    "duration": 65,
    "start_time": "2023-04-23T07:29:53.725Z"
   },
   {
    "duration": 130,
    "start_time": "2023-04-23T07:29:53.792Z"
   },
   {
    "duration": 5,
    "start_time": "2023-04-23T07:29:53.924Z"
   },
   {
    "duration": 440,
    "start_time": "2023-04-23T07:29:53.934Z"
   },
   {
    "duration": 59,
    "start_time": "2023-04-23T07:29:54.375Z"
   },
   {
    "duration": 720,
    "start_time": "2023-04-23T07:29:54.436Z"
   },
   {
    "duration": 667,
    "start_time": "2023-04-23T07:29:55.158Z"
   },
   {
    "duration": 184,
    "start_time": "2023-04-23T07:29:55.827Z"
   },
   {
    "duration": 59,
    "start_time": "2023-04-23T07:29:56.012Z"
   },
   {
    "duration": 546,
    "start_time": "2023-04-23T07:29:56.073Z"
   },
   {
    "duration": 78,
    "start_time": "2023-04-23T07:29:56.621Z"
   },
   {
    "duration": 81,
    "start_time": "2023-04-23T07:29:56.701Z"
   },
   {
    "duration": 66,
    "start_time": "2023-04-23T07:29:56.784Z"
   },
   {
    "duration": 85,
    "start_time": "2023-04-23T07:29:56.852Z"
   },
   {
    "duration": 13,
    "start_time": "2023-04-23T07:32:27.891Z"
   },
   {
    "duration": 82,
    "start_time": "2023-04-23T07:32:31.181Z"
   },
   {
    "duration": 753,
    "start_time": "2023-04-23T07:32:54.843Z"
   },
   {
    "duration": 1923,
    "start_time": "2023-04-23T07:38:41.437Z"
   },
   {
    "duration": 113,
    "start_time": "2023-04-23T07:40:24.826Z"
   },
   {
    "duration": 729,
    "start_time": "2023-04-23T07:40:32.144Z"
   },
   {
    "duration": 581,
    "start_time": "2023-04-23T07:40:34.031Z"
   },
   {
    "duration": 85,
    "start_time": "2023-04-23T07:40:34.868Z"
   },
   {
    "duration": 8,
    "start_time": "2023-04-23T07:40:34.963Z"
   },
   {
    "duration": 65,
    "start_time": "2023-04-23T07:40:35.071Z"
   },
   {
    "duration": 1574,
    "start_time": "2023-04-23T07:48:29.157Z"
   },
   {
    "duration": 1126,
    "start_time": "2023-04-23T07:48:30.734Z"
   },
   {
    "duration": 111,
    "start_time": "2023-04-23T07:48:31.862Z"
   },
   {
    "duration": 168,
    "start_time": "2023-04-23T07:48:31.976Z"
   },
   {
    "duration": 35,
    "start_time": "2023-04-23T07:48:32.146Z"
   },
   {
    "duration": 54,
    "start_time": "2023-04-23T07:48:32.182Z"
   },
   {
    "duration": 9,
    "start_time": "2023-04-23T07:48:32.238Z"
   },
   {
    "duration": 73,
    "start_time": "2023-04-23T07:48:32.248Z"
   },
   {
    "duration": 141,
    "start_time": "2023-04-23T07:48:32.323Z"
   },
   {
    "duration": 5,
    "start_time": "2023-04-23T07:48:32.467Z"
   },
   {
    "duration": 126,
    "start_time": "2023-04-23T07:48:32.474Z"
   },
   {
    "duration": 61,
    "start_time": "2023-04-23T07:48:32.602Z"
   },
   {
    "duration": 148,
    "start_time": "2023-04-23T07:48:32.664Z"
   },
   {
    "duration": 202,
    "start_time": "2023-04-23T07:48:32.814Z"
   },
   {
    "duration": 5,
    "start_time": "2023-04-23T07:48:33.018Z"
   },
   {
    "duration": 462,
    "start_time": "2023-04-23T07:48:33.025Z"
   },
   {
    "duration": 63,
    "start_time": "2023-04-23T07:48:33.490Z"
   },
   {
    "duration": 795,
    "start_time": "2023-04-23T07:48:33.555Z"
   },
   {
    "duration": 599,
    "start_time": "2023-04-23T07:48:34.352Z"
   },
   {
    "duration": 1836,
    "start_time": "2023-04-23T07:48:34.953Z"
   },
   {
    "duration": 12,
    "start_time": "2023-04-23T07:48:36.791Z"
   },
   {
    "duration": 0,
    "start_time": "2023-04-23T07:48:36.805Z"
   },
   {
    "duration": 0,
    "start_time": "2023-04-23T07:48:36.806Z"
   },
   {
    "duration": 0,
    "start_time": "2023-04-23T07:48:36.807Z"
   },
   {
    "duration": 0,
    "start_time": "2023-04-23T07:48:36.808Z"
   },
   {
    "duration": 0,
    "start_time": "2023-04-23T07:48:36.809Z"
   },
   {
    "duration": 1,
    "start_time": "2023-04-23T07:48:36.810Z"
   },
   {
    "duration": 11213,
    "start_time": "2023-04-23T07:56:01.682Z"
   },
   {
    "duration": 69,
    "start_time": "2023-04-23T07:56:12.896Z"
   },
   {
    "duration": 64,
    "start_time": "2023-04-23T07:56:12.967Z"
   },
   {
    "duration": 46,
    "start_time": "2023-04-23T07:56:13.033Z"
   },
   {
    "duration": 64,
    "start_time": "2023-04-23T07:56:13.081Z"
   },
   {
    "duration": 1349,
    "start_time": "2023-04-23T07:56:23.933Z"
   },
   {
    "duration": 899,
    "start_time": "2023-04-23T07:56:25.284Z"
   },
   {
    "duration": 93,
    "start_time": "2023-04-23T07:56:26.184Z"
   },
   {
    "duration": 124,
    "start_time": "2023-04-23T07:56:26.279Z"
   },
   {
    "duration": 15,
    "start_time": "2023-04-23T07:56:26.405Z"
   },
   {
    "duration": 45,
    "start_time": "2023-04-23T07:56:26.434Z"
   },
   {
    "duration": 8,
    "start_time": "2023-04-23T07:56:26.481Z"
   },
   {
    "duration": 79,
    "start_time": "2023-04-23T07:56:26.490Z"
   },
   {
    "duration": 163,
    "start_time": "2023-04-23T07:56:26.571Z"
   },
   {
    "duration": 6,
    "start_time": "2023-04-23T07:56:26.737Z"
   },
   {
    "duration": 109,
    "start_time": "2023-04-23T07:56:26.745Z"
   },
   {
    "duration": 59,
    "start_time": "2023-04-23T07:56:26.856Z"
   },
   {
    "duration": 124,
    "start_time": "2023-04-23T07:56:26.917Z"
   },
   {
    "duration": 113,
    "start_time": "2023-04-23T07:56:27.043Z"
   },
   {
    "duration": 6,
    "start_time": "2023-04-23T07:56:27.157Z"
   },
   {
    "duration": 388,
    "start_time": "2023-04-23T07:56:27.164Z"
   },
   {
    "duration": 43,
    "start_time": "2023-04-23T07:56:27.553Z"
   },
   {
    "duration": 764,
    "start_time": "2023-04-23T07:56:27.598Z"
   },
   {
    "duration": 607,
    "start_time": "2023-04-23T07:56:28.364Z"
   },
   {
    "duration": 1994,
    "start_time": "2023-04-23T07:56:28.973Z"
   },
   {
    "duration": 10,
    "start_time": "2023-04-23T07:56:30.968Z"
   },
   {
    "duration": 0,
    "start_time": "2023-04-23T07:56:30.980Z"
   },
   {
    "duration": 0,
    "start_time": "2023-04-23T07:56:30.981Z"
   },
   {
    "duration": 0,
    "start_time": "2023-04-23T07:56:30.982Z"
   },
   {
    "duration": 0,
    "start_time": "2023-04-23T07:56:30.983Z"
   },
   {
    "duration": 0,
    "start_time": "2023-04-23T07:56:30.984Z"
   },
   {
    "duration": 0,
    "start_time": "2023-04-23T07:56:30.984Z"
   },
   {
    "duration": 56,
    "start_time": "2023-04-23T07:57:11.252Z"
   },
   {
    "duration": 534005,
    "start_time": "2023-04-23T07:57:15.467Z"
   },
   {
    "duration": 57607,
    "start_time": "2023-04-23T08:07:31.737Z"
   },
   {
    "duration": 5110,
    "start_time": "2023-04-23T08:08:29.347Z"
   },
   {
    "duration": 10176,
    "start_time": "2023-04-23T08:08:34.459Z"
   },
   {
    "duration": 2044,
    "start_time": "2023-04-23T08:12:54.845Z"
   },
   {
    "duration": 9,
    "start_time": "2023-04-23T08:12:56.892Z"
   },
   {
    "duration": 0,
    "start_time": "2023-04-23T08:12:56.902Z"
   },
   {
    "duration": 2630,
    "start_time": "2023-04-24T06:16:22.797Z"
   },
   {
    "duration": 1336,
    "start_time": "2023-04-24T06:16:25.429Z"
   },
   {
    "duration": 103,
    "start_time": "2023-04-24T06:16:26.767Z"
   },
   {
    "duration": 151,
    "start_time": "2023-04-24T06:16:26.872Z"
   },
   {
    "duration": 23,
    "start_time": "2023-04-24T06:16:27.026Z"
   },
   {
    "duration": 60,
    "start_time": "2023-04-24T06:16:27.051Z"
   },
   {
    "duration": 9,
    "start_time": "2023-04-24T06:16:27.112Z"
   },
   {
    "duration": 68,
    "start_time": "2023-04-24T06:16:27.123Z"
   },
   {
    "duration": 139,
    "start_time": "2023-04-24T06:16:27.193Z"
   },
   {
    "duration": 6,
    "start_time": "2023-04-24T06:16:27.333Z"
   },
   {
    "duration": 129,
    "start_time": "2023-04-24T06:16:27.341Z"
   },
   {
    "duration": 65,
    "start_time": "2023-04-24T06:16:27.471Z"
   },
   {
    "duration": 143,
    "start_time": "2023-04-24T06:16:27.538Z"
   },
   {
    "duration": 129,
    "start_time": "2023-04-24T06:16:27.687Z"
   },
   {
    "duration": 4,
    "start_time": "2023-04-24T06:16:27.818Z"
   },
   {
    "duration": 447,
    "start_time": "2023-04-24T06:16:27.824Z"
   },
   {
    "duration": 62,
    "start_time": "2023-04-24T06:16:28.273Z"
   },
   {
    "duration": 1135,
    "start_time": "2023-04-24T06:16:28.337Z"
   },
   {
    "duration": 645,
    "start_time": "2023-04-24T06:16:29.474Z"
   },
   {
    "duration": 18,
    "start_time": "2023-04-24T06:18:49.048Z"
   },
   {
    "duration": 13,
    "start_time": "2023-04-24T06:20:47.166Z"
   },
   {
    "duration": 14,
    "start_time": "2023-04-24T06:21:08.645Z"
   },
   {
    "duration": 66,
    "start_time": "2023-04-24T06:22:39.155Z"
   },
   {
    "duration": 70,
    "start_time": "2023-04-24T06:23:01.136Z"
   },
   {
    "duration": 3287,
    "start_time": "2023-04-24T06:24:08.442Z"
   },
   {
    "duration": 17087,
    "start_time": "2023-04-24T06:24:21.323Z"
   },
   {
    "duration": 3021,
    "start_time": "2023-04-24T06:24:47.562Z"
   },
   {
    "duration": 141,
    "start_time": "2023-04-24T06:27:31.385Z"
   },
   {
    "duration": 24,
    "start_time": "2023-04-24T06:28:15.523Z"
   },
   {
    "duration": 325413,
    "start_time": "2023-04-24T06:29:36.932Z"
   },
   {
    "duration": 14,
    "start_time": "2023-04-24T06:35:31.673Z"
   },
   {
    "duration": 98,
    "start_time": "2023-04-24T06:36:24.299Z"
   },
   {
    "duration": 114,
    "start_time": "2023-04-24T06:37:01.530Z"
   },
   {
    "duration": 101,
    "start_time": "2023-04-24T06:37:12.198Z"
   },
   {
    "duration": 13023,
    "start_time": "2023-04-24T06:37:24.670Z"
   },
   {
    "duration": 73,
    "start_time": "2023-04-24T06:38:53.760Z"
   },
   {
    "duration": 44,
    "start_time": "2023-04-24T08:27:30.332Z"
   },
   {
    "duration": 1558,
    "start_time": "2023-04-24T08:27:35.611Z"
   },
   {
    "duration": 2998,
    "start_time": "2023-04-24T08:27:37.171Z"
   },
   {
    "duration": 94,
    "start_time": "2023-04-24T08:27:40.170Z"
   },
   {
    "duration": 103,
    "start_time": "2023-04-24T08:27:40.266Z"
   },
   {
    "duration": 37,
    "start_time": "2023-04-24T08:27:40.371Z"
   },
   {
    "duration": 43,
    "start_time": "2023-04-24T08:27:40.409Z"
   },
   {
    "duration": 10,
    "start_time": "2023-04-24T08:27:40.454Z"
   },
   {
    "duration": 70,
    "start_time": "2023-04-24T08:27:40.465Z"
   },
   {
    "duration": 125,
    "start_time": "2023-04-24T08:27:40.536Z"
   },
   {
    "duration": 5,
    "start_time": "2023-04-24T08:27:40.664Z"
   },
   {
    "duration": 104,
    "start_time": "2023-04-24T08:27:40.671Z"
   },
   {
    "duration": 61,
    "start_time": "2023-04-24T08:27:40.778Z"
   },
   {
    "duration": 112,
    "start_time": "2023-04-24T08:27:40.841Z"
   },
   {
    "duration": 118,
    "start_time": "2023-04-24T08:27:40.955Z"
   },
   {
    "duration": 4,
    "start_time": "2023-04-24T08:27:41.075Z"
   },
   {
    "duration": 443,
    "start_time": "2023-04-24T08:27:41.081Z"
   },
   {
    "duration": 42,
    "start_time": "2023-04-24T08:27:41.526Z"
   },
   {
    "duration": 747,
    "start_time": "2023-04-24T08:27:41.569Z"
   },
   {
    "duration": 598,
    "start_time": "2023-04-24T08:27:42.318Z"
   },
   {
    "duration": 2447,
    "start_time": "2023-04-24T08:27:42.917Z"
   },
   {
    "duration": 8,
    "start_time": "2023-04-24T08:27:45.366Z"
   },
   {
    "duration": 0,
    "start_time": "2023-04-24T08:27:45.376Z"
   },
   {
    "duration": 0,
    "start_time": "2023-04-24T08:27:45.377Z"
   },
   {
    "duration": 0,
    "start_time": "2023-04-24T08:27:45.378Z"
   },
   {
    "duration": 0,
    "start_time": "2023-04-24T08:27:45.379Z"
   },
   {
    "duration": 0,
    "start_time": "2023-04-24T08:27:45.381Z"
   },
   {
    "duration": 0,
    "start_time": "2023-04-24T08:27:45.382Z"
   },
   {
    "duration": 99,
    "start_time": "2023-04-24T08:32:31.749Z"
   },
   {
    "duration": 1373,
    "start_time": "2023-04-24T08:35:21.035Z"
   },
   {
    "duration": 952,
    "start_time": "2023-04-24T08:35:22.412Z"
   },
   {
    "duration": 109,
    "start_time": "2023-04-24T08:35:23.366Z"
   },
   {
    "duration": 107,
    "start_time": "2023-04-24T08:35:23.477Z"
   },
   {
    "duration": 15,
    "start_time": "2023-04-24T08:35:23.597Z"
   },
   {
    "duration": 54,
    "start_time": "2023-04-24T08:35:23.613Z"
   },
   {
    "duration": 9,
    "start_time": "2023-04-24T08:35:23.668Z"
   },
   {
    "duration": 75,
    "start_time": "2023-04-24T08:35:23.679Z"
   },
   {
    "duration": 121,
    "start_time": "2023-04-24T08:35:23.756Z"
   },
   {
    "duration": 5,
    "start_time": "2023-04-24T08:35:23.881Z"
   },
   {
    "duration": 101,
    "start_time": "2023-04-24T08:35:23.894Z"
   },
   {
    "duration": 65,
    "start_time": "2023-04-24T08:35:24.000Z"
   },
   {
    "duration": 136,
    "start_time": "2023-04-24T08:35:24.069Z"
   },
   {
    "duration": 164,
    "start_time": "2023-04-24T08:35:24.209Z"
   },
   {
    "duration": 4,
    "start_time": "2023-04-24T08:35:24.375Z"
   },
   {
    "duration": 428,
    "start_time": "2023-04-24T08:35:24.380Z"
   },
   {
    "duration": 60,
    "start_time": "2023-04-24T08:35:24.809Z"
   },
   {
    "duration": 773,
    "start_time": "2023-04-24T08:35:24.871Z"
   },
   {
    "duration": 623,
    "start_time": "2023-04-24T08:35:25.645Z"
   },
   {
    "duration": 2534,
    "start_time": "2023-04-24T08:35:26.270Z"
   },
   {
    "duration": 11,
    "start_time": "2023-04-24T08:35:28.807Z"
   },
   {
    "duration": 0,
    "start_time": "2023-04-24T08:35:28.819Z"
   },
   {
    "duration": 0,
    "start_time": "2023-04-24T08:35:28.820Z"
   },
   {
    "duration": 0,
    "start_time": "2023-04-24T08:35:28.822Z"
   },
   {
    "duration": 0,
    "start_time": "2023-04-24T08:35:28.824Z"
   },
   {
    "duration": 0,
    "start_time": "2023-04-24T08:35:28.825Z"
   },
   {
    "duration": 0,
    "start_time": "2023-04-24T08:35:28.826Z"
   },
   {
    "duration": 3,
    "start_time": "2023-04-24T08:39:22.206Z"
   },
   {
    "duration": 2,
    "start_time": "2023-04-24T08:39:25.283Z"
   },
   {
    "duration": 10,
    "start_time": "2023-04-24T08:39:31.691Z"
   },
   {
    "duration": 2,
    "start_time": "2023-04-24T08:39:45.049Z"
   },
   {
    "duration": 2349,
    "start_time": "2023-04-24T08:39:46.710Z"
   },
   {
    "duration": 3,
    "start_time": "2023-04-24T08:39:56.257Z"
   },
   {
    "duration": 44,
    "start_time": "2023-04-24T08:40:08.633Z"
   },
   {
    "duration": 96,
    "start_time": "2023-04-24T08:40:58.831Z"
   },
   {
    "duration": 99,
    "start_time": "2023-04-24T08:41:16.950Z"
   },
   {
    "duration": 9,
    "start_time": "2023-04-24T08:41:20.117Z"
   },
   {
    "duration": 95,
    "start_time": "2023-04-24T08:41:22.204Z"
   },
   {
    "duration": 12,
    "start_time": "2023-04-24T08:41:39.789Z"
   },
   {
    "duration": 4,
    "start_time": "2023-04-24T08:41:47.968Z"
   },
   {
    "duration": 10,
    "start_time": "2023-04-24T08:41:52.873Z"
   },
   {
    "duration": 108,
    "start_time": "2023-04-24T08:42:35.373Z"
   },
   {
    "duration": 9,
    "start_time": "2023-04-24T08:43:01.610Z"
   },
   {
    "duration": 79,
    "start_time": "2023-04-24T08:43:05.701Z"
   },
   {
    "duration": 88,
    "start_time": "2023-04-24T08:43:11.649Z"
   },
   {
    "duration": 5,
    "start_time": "2023-04-24T08:43:18.374Z"
   },
   {
    "duration": 2343,
    "start_time": "2023-04-24T08:43:21.625Z"
   },
   {
    "duration": 973,
    "start_time": "2023-04-24T08:46:52.179Z"
   },
   {
    "duration": 983,
    "start_time": "2023-04-24T08:47:10.136Z"
   },
   {
    "duration": 953,
    "start_time": "2023-04-24T08:47:18.874Z"
   },
   {
    "duration": 537,
    "start_time": "2023-04-24T08:48:01.353Z"
   },
   {
    "duration": 957,
    "start_time": "2023-04-24T08:48:31.477Z"
   },
   {
    "duration": 507,
    "start_time": "2023-04-24T08:48:36.412Z"
   },
   {
    "duration": 39,
    "start_time": "2023-04-24T08:48:55.022Z"
   },
   {
    "duration": 41,
    "start_time": "2023-04-24T08:49:10.715Z"
   },
   {
    "duration": 64,
    "start_time": "2023-04-24T08:49:19.380Z"
   },
   {
    "duration": 38,
    "start_time": "2023-04-24T08:49:22.107Z"
   },
   {
    "duration": 42,
    "start_time": "2023-04-24T08:49:28.836Z"
   },
   {
    "duration": 41,
    "start_time": "2023-04-24T08:49:39.035Z"
   },
   {
    "duration": 46,
    "start_time": "2023-04-24T08:49:44.212Z"
   },
   {
    "duration": 39,
    "start_time": "2023-04-24T08:49:58.954Z"
   },
   {
    "duration": 1361,
    "start_time": "2023-04-24T08:50:58.920Z"
   },
   {
    "duration": 946,
    "start_time": "2023-04-24T08:51:00.283Z"
   },
   {
    "duration": 111,
    "start_time": "2023-04-24T08:51:01.235Z"
   },
   {
    "duration": 119,
    "start_time": "2023-04-24T08:51:01.347Z"
   },
   {
    "duration": 51,
    "start_time": "2023-04-24T08:51:01.468Z"
   },
   {
    "duration": 69,
    "start_time": "2023-04-24T08:51:01.521Z"
   },
   {
    "duration": 23,
    "start_time": "2023-04-24T08:51:01.592Z"
   },
   {
    "duration": 121,
    "start_time": "2023-04-24T08:51:01.617Z"
   },
   {
    "duration": 135,
    "start_time": "2023-04-24T08:51:01.740Z"
   },
   {
    "duration": 5,
    "start_time": "2023-04-24T08:51:01.877Z"
   },
   {
    "duration": 117,
    "start_time": "2023-04-24T08:51:01.883Z"
   },
   {
    "duration": 56,
    "start_time": "2023-04-24T08:51:02.001Z"
   },
   {
    "duration": 105,
    "start_time": "2023-04-24T08:51:02.059Z"
   },
   {
    "duration": 119,
    "start_time": "2023-04-24T08:51:02.166Z"
   },
   {
    "duration": 9,
    "start_time": "2023-04-24T08:51:02.286Z"
   },
   {
    "duration": 390,
    "start_time": "2023-04-24T08:51:02.298Z"
   },
   {
    "duration": 49,
    "start_time": "2023-04-24T08:51:02.690Z"
   },
   {
    "duration": 742,
    "start_time": "2023-04-24T08:51:02.741Z"
   },
   {
    "duration": 1001,
    "start_time": "2023-04-24T08:51:03.485Z"
   },
   {
    "duration": 603,
    "start_time": "2023-04-24T08:51:04.487Z"
   },
   {
    "duration": 46,
    "start_time": "2023-04-24T08:51:05.091Z"
   },
   {
    "duration": 0,
    "start_time": "2023-04-24T08:51:05.138Z"
   },
   {
    "duration": 0,
    "start_time": "2023-04-24T08:51:05.139Z"
   },
   {
    "duration": 0,
    "start_time": "2023-04-24T08:51:05.140Z"
   },
   {
    "duration": 0,
    "start_time": "2023-04-24T08:51:05.141Z"
   },
   {
    "duration": 0,
    "start_time": "2023-04-24T08:51:05.142Z"
   },
   {
    "duration": 0,
    "start_time": "2023-04-24T08:51:05.143Z"
   },
   {
    "duration": 0,
    "start_time": "2023-04-24T08:51:05.144Z"
   },
   {
    "duration": 115,
    "start_time": "2023-04-24T08:51:28.023Z"
   },
   {
    "duration": 90,
    "start_time": "2023-04-24T08:51:29.258Z"
   },
   {
    "duration": 511444,
    "start_time": "2023-04-24T08:51:31.656Z"
   },
   {
    "duration": 1072,
    "start_time": "2023-04-24T09:01:50.412Z"
   },
   {
    "duration": 274,
    "start_time": "2023-04-24T09:02:07.990Z"
   },
   {
    "duration": 6,
    "start_time": "2023-04-24T09:02:51.283Z"
   },
   {
    "duration": 273,
    "start_time": "2023-04-24T09:03:51.705Z"
   },
   {
    "duration": 4,
    "start_time": "2023-04-24T09:03:53.231Z"
   },
   {
    "duration": 286,
    "start_time": "2023-04-24T09:04:04.575Z"
   },
   {
    "duration": 5,
    "start_time": "2023-04-24T09:04:05.771Z"
   },
   {
    "duration": 297,
    "start_time": "2023-04-24T09:04:10.514Z"
   },
   {
    "duration": 7,
    "start_time": "2023-04-24T09:04:11.859Z"
   },
   {
    "duration": 373,
    "start_time": "2023-04-24T09:04:15.347Z"
   },
   {
    "duration": 60,
    "start_time": "2023-04-24T09:04:19.947Z"
   },
   {
    "duration": 249,
    "start_time": "2023-04-24T09:04:37.980Z"
   },
   {
    "duration": 5,
    "start_time": "2023-04-24T09:04:38.659Z"
   },
   {
    "duration": 257,
    "start_time": "2023-04-24T09:04:53.880Z"
   },
   {
    "duration": 6,
    "start_time": "2023-04-24T09:04:54.887Z"
   },
   {
    "duration": 131,
    "start_time": "2023-04-24T09:07:31.032Z"
   },
   {
    "duration": 382,
    "start_time": "2023-04-24T09:08:48.075Z"
   },
   {
    "duration": 108,
    "start_time": "2023-04-24T09:09:01.295Z"
   },
   {
    "duration": 151,
    "start_time": "2023-04-24T09:09:12.274Z"
   },
   {
    "duration": 84,
    "start_time": "2023-04-24T09:09:40.099Z"
   },
   {
    "duration": 5,
    "start_time": "2023-04-24T09:09:41.054Z"
   },
   {
    "duration": 427,
    "start_time": "2023-04-24T09:09:51.283Z"
   },
   {
    "duration": 7,
    "start_time": "2023-04-24T09:09:52.558Z"
   },
   {
    "duration": 182,
    "start_time": "2023-04-24T09:10:15.219Z"
   },
   {
    "duration": 344082,
    "start_time": "2023-04-24T09:10:19.959Z"
   },
   {
    "duration": 55,
    "start_time": "2023-04-24T09:17:36.707Z"
   },
   {
    "duration": 86,
    "start_time": "2023-04-24T09:19:05.983Z"
   },
   {
    "duration": 1492,
    "start_time": "2023-04-24T09:19:31.494Z"
   },
   {
    "duration": 152,
    "start_time": "2023-04-24T09:20:02.941Z"
   },
   {
    "duration": 400,
    "start_time": "2023-04-24T09:20:08.485Z"
   },
   {
    "duration": 106,
    "start_time": "2023-04-24T09:20:15.437Z"
   },
   {
    "duration": 48,
    "start_time": "2023-04-24T09:21:34.985Z"
   },
   {
    "duration": 51,
    "start_time": "2023-04-24T09:21:44.759Z"
   },
   {
    "duration": 96,
    "start_time": "2023-04-24T09:21:52.393Z"
   },
   {
    "duration": 88,
    "start_time": "2023-04-24T09:22:02.319Z"
   },
   {
    "duration": 19231,
    "start_time": "2023-04-24T09:22:43.454Z"
   },
   {
    "duration": 87,
    "start_time": "2023-04-24T09:23:05.813Z"
   },
   {
    "duration": 201,
    "start_time": "2023-04-24T09:23:41.629Z"
   },
   {
    "duration": 87,
    "start_time": "2023-04-24T09:23:46.582Z"
   },
   {
    "duration": 391,
    "start_time": "2023-04-24T09:23:55.188Z"
   },
   {
    "duration": 190,
    "start_time": "2023-04-24T09:23:57.129Z"
   },
   {
    "duration": 49817,
    "start_time": "2023-04-24T09:28:22.394Z"
   },
   {
    "duration": 170,
    "start_time": "2023-04-24T09:29:12.214Z"
   },
   {
    "duration": 527,
    "start_time": "2023-04-24T09:29:49.002Z"
   },
   {
    "duration": 2655,
    "start_time": "2023-04-24T09:30:13.413Z"
   },
   {
    "duration": 625,
    "start_time": "2023-04-24T09:30:51.250Z"
   },
   {
    "duration": 598,
    "start_time": "2023-04-24T09:30:56.437Z"
   },
   {
    "duration": 644,
    "start_time": "2023-04-24T09:31:14.311Z"
   },
   {
    "duration": 578,
    "start_time": "2023-04-24T09:31:50.384Z"
   },
   {
    "duration": 637,
    "start_time": "2023-04-24T09:32:03.249Z"
   },
   {
    "duration": 629,
    "start_time": "2023-04-24T09:32:15.784Z"
   },
   {
    "duration": 622,
    "start_time": "2023-04-24T09:32:35.667Z"
   },
   {
    "duration": 631,
    "start_time": "2023-04-24T09:32:39.646Z"
   },
   {
    "duration": 2423,
    "start_time": "2023-04-24T09:32:42.429Z"
   },
   {
    "duration": 5,
    "start_time": "2023-04-24T09:33:15.709Z"
   },
   {
    "duration": 1470,
    "start_time": "2023-04-24T09:35:47.234Z"
   },
   {
    "duration": 942,
    "start_time": "2023-04-24T09:35:48.708Z"
   },
   {
    "duration": 103,
    "start_time": "2023-04-24T09:35:49.652Z"
   },
   {
    "duration": 119,
    "start_time": "2023-04-24T09:35:49.757Z"
   },
   {
    "duration": 32,
    "start_time": "2023-04-24T09:35:49.878Z"
   },
   {
    "duration": 45,
    "start_time": "2023-04-24T09:35:49.912Z"
   },
   {
    "duration": 8,
    "start_time": "2023-04-24T09:35:49.958Z"
   },
   {
    "duration": 74,
    "start_time": "2023-04-24T09:35:49.967Z"
   },
   {
    "duration": 133,
    "start_time": "2023-04-24T09:35:50.043Z"
   },
   {
    "duration": 5,
    "start_time": "2023-04-24T09:35:50.179Z"
   },
   {
    "duration": 104,
    "start_time": "2023-04-24T09:35:50.199Z"
   },
   {
    "duration": 57,
    "start_time": "2023-04-24T09:35:50.305Z"
   },
   {
    "duration": 103,
    "start_time": "2023-04-24T09:35:50.365Z"
   },
   {
    "duration": 113,
    "start_time": "2023-04-24T09:35:50.470Z"
   },
   {
    "duration": 13,
    "start_time": "2023-04-24T09:35:50.585Z"
   },
   {
    "duration": 385,
    "start_time": "2023-04-24T09:35:50.601Z"
   },
   {
    "duration": 46,
    "start_time": "2023-04-24T09:35:50.994Z"
   },
   {
    "duration": 772,
    "start_time": "2023-04-24T09:35:51.041Z"
   },
   {
    "duration": 0,
    "start_time": "2023-04-24T09:35:51.815Z"
   },
   {
    "duration": 0,
    "start_time": "2023-04-24T09:35:51.816Z"
   },
   {
    "duration": 0,
    "start_time": "2023-04-24T09:35:51.817Z"
   },
   {
    "duration": 0,
    "start_time": "2023-04-24T09:35:51.818Z"
   },
   {
    "duration": 0,
    "start_time": "2023-04-24T09:35:51.819Z"
   },
   {
    "duration": 0,
    "start_time": "2023-04-24T09:35:51.821Z"
   },
   {
    "duration": 0,
    "start_time": "2023-04-24T09:35:51.822Z"
   },
   {
    "duration": 0,
    "start_time": "2023-04-24T09:35:51.823Z"
   },
   {
    "duration": 0,
    "start_time": "2023-04-24T09:35:51.824Z"
   },
   {
    "duration": 0,
    "start_time": "2023-04-24T09:35:51.825Z"
   },
   {
    "duration": 713,
    "start_time": "2023-04-24T09:36:16.974Z"
   },
   {
    "duration": 5,
    "start_time": "2023-04-24T09:36:19.135Z"
   },
   {
    "duration": 647,
    "start_time": "2023-04-24T09:36:32.869Z"
   },
   {
    "duration": 5,
    "start_time": "2023-04-24T09:36:42.749Z"
   },
   {
    "duration": 1387,
    "start_time": "2023-04-24T09:36:58.926Z"
   },
   {
    "duration": 950,
    "start_time": "2023-04-24T09:37:00.315Z"
   },
   {
    "duration": 103,
    "start_time": "2023-04-24T09:37:01.267Z"
   },
   {
    "duration": 139,
    "start_time": "2023-04-24T09:37:01.372Z"
   },
   {
    "duration": 27,
    "start_time": "2023-04-24T09:37:01.513Z"
   },
   {
    "duration": 71,
    "start_time": "2023-04-24T09:37:01.542Z"
   },
   {
    "duration": 10,
    "start_time": "2023-04-24T09:37:01.614Z"
   },
   {
    "duration": 78,
    "start_time": "2023-04-24T09:37:01.625Z"
   },
   {
    "duration": 118,
    "start_time": "2023-04-24T09:37:01.709Z"
   },
   {
    "duration": 5,
    "start_time": "2023-04-24T09:37:01.830Z"
   },
   {
    "duration": 119,
    "start_time": "2023-04-24T09:37:01.836Z"
   },
   {
    "duration": 67,
    "start_time": "2023-04-24T09:37:01.957Z"
   },
   {
    "duration": 114,
    "start_time": "2023-04-24T09:37:02.026Z"
   },
   {
    "duration": 119,
    "start_time": "2023-04-24T09:37:02.142Z"
   },
   {
    "duration": 4,
    "start_time": "2023-04-24T09:37:02.263Z"
   },
   {
    "duration": 436,
    "start_time": "2023-04-24T09:37:02.269Z"
   },
   {
    "duration": 45,
    "start_time": "2023-04-24T09:37:02.711Z"
   },
   {
    "duration": 732,
    "start_time": "2023-04-24T09:37:02.758Z"
   },
   {
    "duration": 0,
    "start_time": "2023-04-24T09:37:03.492Z"
   },
   {
    "duration": 0,
    "start_time": "2023-04-24T09:37:03.494Z"
   },
   {
    "duration": 0,
    "start_time": "2023-04-24T09:37:03.498Z"
   },
   {
    "duration": 0,
    "start_time": "2023-04-24T09:37:03.504Z"
   },
   {
    "duration": 0,
    "start_time": "2023-04-24T09:37:03.505Z"
   },
   {
    "duration": 0,
    "start_time": "2023-04-24T09:37:03.506Z"
   },
   {
    "duration": 0,
    "start_time": "2023-04-24T09:37:03.510Z"
   },
   {
    "duration": 0,
    "start_time": "2023-04-24T09:37:03.511Z"
   },
   {
    "duration": 0,
    "start_time": "2023-04-24T09:37:03.511Z"
   },
   {
    "duration": 0,
    "start_time": "2023-04-24T09:37:03.512Z"
   },
   {
    "duration": 671,
    "start_time": "2023-04-24T09:37:15.315Z"
   },
   {
    "duration": 10,
    "start_time": "2023-04-24T09:37:18.509Z"
   },
   {
    "duration": 27,
    "start_time": "2023-04-24T09:37:29.387Z"
   },
   {
    "duration": 9,
    "start_time": "2023-04-24T09:37:45.364Z"
   },
   {
    "duration": 101,
    "start_time": "2023-04-24T09:37:50.586Z"
   },
   {
    "duration": 662,
    "start_time": "2023-04-24T09:38:02.609Z"
   },
   {
    "duration": 137,
    "start_time": "2023-04-24T09:38:22.354Z"
   },
   {
    "duration": 702,
    "start_time": "2023-04-24T09:38:23.792Z"
   },
   {
    "duration": 2302,
    "start_time": "2023-04-24T09:38:25.920Z"
   },
   {
    "duration": 84,
    "start_time": "2023-04-24T09:38:51.922Z"
   },
   {
    "duration": 68,
    "start_time": "2023-04-24T09:38:55.359Z"
   },
   {
    "duration": 87,
    "start_time": "2023-04-24T09:39:08.487Z"
   },
   {
    "duration": 66,
    "start_time": "2023-04-24T09:39:15.119Z"
   },
   {
    "duration": 70,
    "start_time": "2023-04-24T09:40:11.200Z"
   },
   {
    "duration": 12,
    "start_time": "2023-04-24T09:40:19.060Z"
   },
   {
    "duration": 5,
    "start_time": "2023-04-24T09:40:48.115Z"
   },
   {
    "duration": 575,
    "start_time": "2023-04-24T09:40:57.891Z"
   },
   {
    "duration": 2391,
    "start_time": "2023-04-24T09:41:02.275Z"
   },
   {
    "duration": 14,
    "start_time": "2023-04-24T09:41:49.369Z"
   },
   {
    "duration": 122,
    "start_time": "2023-04-24T09:41:52.760Z"
   },
   {
    "duration": 6,
    "start_time": "2023-04-24T09:41:55.696Z"
   },
   {
    "duration": 13,
    "start_time": "2023-04-24T09:46:45.597Z"
   },
   {
    "duration": 6,
    "start_time": "2023-04-24T09:46:46.220Z"
   },
   {
    "duration": 509,
    "start_time": "2023-04-24T09:46:48.798Z"
   },
   {
    "duration": 78,
    "start_time": "2023-04-24T09:47:30.283Z"
   },
   {
    "duration": 3,
    "start_time": "2023-04-24T09:47:38.355Z"
   },
   {
    "duration": 2372,
    "start_time": "2023-04-24T09:47:42.396Z"
   },
   {
    "duration": 12,
    "start_time": "2023-04-24T09:48:20.562Z"
   },
   {
    "duration": 12,
    "start_time": "2023-04-24T09:48:32.697Z"
   },
   {
    "duration": 12,
    "start_time": "2023-04-24T09:48:52.593Z"
   },
   {
    "duration": 3,
    "start_time": "2023-04-24T09:48:58.144Z"
   },
   {
    "duration": 2638,
    "start_time": "2023-04-24T09:48:58.825Z"
   },
   {
    "duration": 15768,
    "start_time": "2023-04-24T09:49:50.012Z"
   },
   {
    "duration": 79,
    "start_time": "2023-04-24T09:50:05.782Z"
   },
   {
    "duration": 1515,
    "start_time": "2023-04-24T09:51:13.992Z"
   },
   {
    "duration": 961,
    "start_time": "2023-04-24T09:51:15.509Z"
   },
   {
    "duration": 98,
    "start_time": "2023-04-24T09:51:16.472Z"
   },
   {
    "duration": 140,
    "start_time": "2023-04-24T09:51:16.572Z"
   },
   {
    "duration": 16,
    "start_time": "2023-04-24T09:51:16.713Z"
   },
   {
    "duration": 63,
    "start_time": "2023-04-24T09:51:16.731Z"
   },
   {
    "duration": 13,
    "start_time": "2023-04-24T09:51:16.796Z"
   },
   {
    "duration": 58,
    "start_time": "2023-04-24T09:51:16.811Z"
   },
   {
    "duration": 137,
    "start_time": "2023-04-24T09:51:16.870Z"
   },
   {
    "duration": 6,
    "start_time": "2023-04-24T09:51:17.010Z"
   },
   {
    "duration": 116,
    "start_time": "2023-04-24T09:51:17.017Z"
   },
   {
    "duration": 72,
    "start_time": "2023-04-24T09:51:17.135Z"
   },
   {
    "duration": 145,
    "start_time": "2023-04-24T09:51:17.209Z"
   },
   {
    "duration": 159,
    "start_time": "2023-04-24T09:51:17.357Z"
   },
   {
    "duration": 4,
    "start_time": "2023-04-24T09:51:17.518Z"
   },
   {
    "duration": 551,
    "start_time": "2023-04-24T09:51:17.524Z"
   },
   {
    "duration": 75,
    "start_time": "2023-04-24T09:51:18.077Z"
   },
   {
    "duration": 802,
    "start_time": "2023-04-24T09:51:18.155Z"
   },
   {
    "duration": 108,
    "start_time": "2023-04-24T09:51:18.959Z"
   },
   {
    "duration": 6,
    "start_time": "2023-04-24T09:51:19.068Z"
   },
   {
    "duration": 639,
    "start_time": "2023-04-24T09:51:19.076Z"
   },
   {
    "duration": 3,
    "start_time": "2023-04-24T09:51:19.717Z"
   },
   {
    "duration": 2308,
    "start_time": "2023-04-24T09:51:19.722Z"
   },
   {
    "duration": 11,
    "start_time": "2023-04-24T09:51:22.032Z"
   },
   {
    "duration": 0,
    "start_time": "2023-04-24T09:51:22.045Z"
   },
   {
    "duration": 0,
    "start_time": "2023-04-24T09:51:22.046Z"
   },
   {
    "duration": 0,
    "start_time": "2023-04-24T09:51:22.047Z"
   },
   {
    "duration": 0,
    "start_time": "2023-04-24T09:51:22.049Z"
   },
   {
    "duration": 0,
    "start_time": "2023-04-24T09:51:22.050Z"
   },
   {
    "duration": 0,
    "start_time": "2023-04-24T09:51:22.052Z"
   },
   {
    "duration": 96,
    "start_time": "2023-04-24T09:51:28.282Z"
   },
   {
    "duration": 494643,
    "start_time": "2023-04-24T09:51:29.595Z"
   },
   {
    "duration": 940025,
    "start_time": "2023-04-24T09:59:44.240Z"
   },
   {
    "duration": 110,
    "start_time": "2023-04-24T10:15:24.268Z"
   },
   {
    "duration": 6190,
    "start_time": "2023-04-24T10:15:30.749Z"
   },
   {
    "duration": 87,
    "start_time": "2023-04-24T10:15:36.942Z"
   },
   {
    "duration": 11111,
    "start_time": "2023-04-24T10:20:07.472Z"
   },
   {
    "duration": 9,
    "start_time": "2023-04-24T10:21:09.980Z"
   },
   {
    "duration": 20,
    "start_time": "2023-04-24T10:21:10.115Z"
   },
   {
    "duration": 6,
    "start_time": "2023-04-24T10:21:10.804Z"
   },
   {
    "duration": 5,
    "start_time": "2023-04-24T10:21:11.084Z"
   },
   {
    "duration": 59,
    "start_time": "2023-04-24T10:21:12.500Z"
   },
   {
    "duration": 42,
    "start_time": "2023-04-24T10:21:13.051Z"
   },
   {
    "duration": 92,
    "start_time": "2023-04-24T10:21:13.795Z"
   },
   {
    "duration": 160,
    "start_time": "2023-04-24T10:21:15.659Z"
   },
   {
    "duration": 4,
    "start_time": "2023-04-24T10:21:16.380Z"
   },
   {
    "duration": 359,
    "start_time": "2023-04-24T10:21:22.621Z"
   },
   {
    "duration": 50,
    "start_time": "2023-04-24T10:21:25.436Z"
   },
   {
    "duration": 617,
    "start_time": "2023-04-24T10:21:31.852Z"
   },
   {
    "duration": 659,
    "start_time": "2023-04-24T10:21:38.436Z"
   },
   {
    "duration": 5,
    "start_time": "2023-04-24T10:21:40.323Z"
   },
   {
    "duration": 570,
    "start_time": "2023-04-24T10:21:42.979Z"
   },
   {
    "duration": 3,
    "start_time": "2023-04-24T10:21:49.315Z"
   },
   {
    "duration": 2137,
    "start_time": "2023-04-24T10:21:51.835Z"
   },
   {
    "duration": 1399,
    "start_time": "2023-04-24T10:27:09.321Z"
   },
   {
    "duration": 949,
    "start_time": "2023-04-24T10:27:10.721Z"
   },
   {
    "duration": 100,
    "start_time": "2023-04-24T10:27:11.672Z"
   },
   {
    "duration": 107,
    "start_time": "2023-04-24T10:27:11.775Z"
   },
   {
    "duration": 25,
    "start_time": "2023-04-24T10:27:11.884Z"
   },
   {
    "duration": 46,
    "start_time": "2023-04-24T10:27:11.910Z"
   },
   {
    "duration": 11,
    "start_time": "2023-04-24T10:27:11.958Z"
   },
   {
    "duration": 59,
    "start_time": "2023-04-24T10:27:11.995Z"
   },
   {
    "duration": 201,
    "start_time": "2023-04-24T10:27:12.055Z"
   },
   {
    "duration": 6,
    "start_time": "2023-04-24T10:27:12.259Z"
   },
   {
    "duration": 129,
    "start_time": "2023-04-24T10:27:12.267Z"
   },
   {
    "duration": 60,
    "start_time": "2023-04-24T10:27:12.398Z"
   },
   {
    "duration": 115,
    "start_time": "2023-04-24T10:27:12.460Z"
   },
   {
    "duration": 121,
    "start_time": "2023-04-24T10:27:12.577Z"
   },
   {
    "duration": 5,
    "start_time": "2023-04-24T10:27:12.699Z"
   },
   {
    "duration": 402,
    "start_time": "2023-04-24T10:27:12.705Z"
   },
   {
    "duration": 47,
    "start_time": "2023-04-24T10:27:13.108Z"
   },
   {
    "duration": 898,
    "start_time": "2023-04-24T10:27:13.156Z"
   },
   {
    "duration": 5,
    "start_time": "2023-04-24T10:27:14.056Z"
   },
   {
    "duration": 741,
    "start_time": "2023-04-24T10:27:14.063Z"
   },
   {
    "duration": 3,
    "start_time": "2023-04-24T10:27:14.805Z"
   },
   {
    "duration": 2926,
    "start_time": "2023-04-24T10:27:14.809Z"
   },
   {
    "duration": 11,
    "start_time": "2023-04-24T10:27:17.736Z"
   },
   {
    "duration": 0,
    "start_time": "2023-04-24T10:27:17.748Z"
   },
   {
    "duration": 0,
    "start_time": "2023-04-24T10:27:17.750Z"
   },
   {
    "duration": 0,
    "start_time": "2023-04-24T10:27:17.750Z"
   },
   {
    "duration": 0,
    "start_time": "2023-04-24T10:27:17.751Z"
   },
   {
    "duration": 0,
    "start_time": "2023-04-24T10:27:17.752Z"
   },
   {
    "duration": 0,
    "start_time": "2023-04-24T10:27:17.753Z"
   },
   {
    "duration": 272,
    "start_time": "2023-04-24T10:30:01.312Z"
   },
   {
    "duration": 235,
    "start_time": "2023-04-24T10:30:10.880Z"
   },
   {
    "duration": 7,
    "start_time": "2023-04-24T10:30:11.223Z"
   },
   {
    "duration": 202,
    "start_time": "2023-04-24T10:30:13.413Z"
   },
   {
    "duration": 83,
    "start_time": "2023-04-24T10:30:18.871Z"
   },
   {
    "duration": 169,
    "start_time": "2023-04-24T10:30:19.942Z"
   },
   {
    "duration": 162,
    "start_time": "2023-04-24T10:30:26.943Z"
   },
   {
    "duration": 89,
    "start_time": "2023-04-24T10:30:54.622Z"
   },
   {
    "duration": 146,
    "start_time": "2023-04-24T10:30:58.334Z"
   },
   {
    "duration": 3627070,
    "start_time": "2023-04-24T10:31:01.831Z"
   },
   {
    "duration": 82,
    "start_time": "2023-04-24T11:31:28.906Z"
   },
   {
    "duration": 97,
    "start_time": "2023-04-24T11:31:28.990Z"
   },
   {
    "duration": 123,
    "start_time": "2023-04-24T11:31:29.089Z"
   },
   {
    "duration": 1821,
    "start_time": "2023-04-24T11:31:30.068Z"
   },
   {
    "duration": 1860,
    "start_time": "2023-04-24T11:31:34.105Z"
   },
   {
    "duration": 10,
    "start_time": "2023-04-24T11:31:40.247Z"
   },
   {
    "duration": 241,
    "start_time": "2023-04-24T11:32:20.935Z"
   },
   {
    "duration": 6,
    "start_time": "2023-04-24T11:32:22.029Z"
   },
   {
    "duration": 14,
    "start_time": "2023-04-24T11:32:24.342Z"
   },
   {
    "duration": 15,
    "start_time": "2023-04-24T11:32:26.676Z"
   },
   {
    "duration": 725,
    "start_time": "2023-04-24T11:32:44.636Z"
   },
   {
    "duration": 5,
    "start_time": "2023-04-24T11:32:46.260Z"
   },
   {
    "duration": 630,
    "start_time": "2023-04-24T11:32:47.828Z"
   },
   {
    "duration": 1445,
    "start_time": "2023-04-24T11:37:00.170Z"
   },
   {
    "duration": 975,
    "start_time": "2023-04-24T11:37:01.617Z"
   },
   {
    "duration": 115,
    "start_time": "2023-04-24T11:37:02.594Z"
   },
   {
    "duration": 106,
    "start_time": "2023-04-24T11:37:02.715Z"
   },
   {
    "duration": 15,
    "start_time": "2023-04-24T11:37:02.823Z"
   },
   {
    "duration": 85,
    "start_time": "2023-04-24T11:37:02.840Z"
   },
   {
    "duration": 13,
    "start_time": "2023-04-24T11:37:02.927Z"
   },
   {
    "duration": 88,
    "start_time": "2023-04-24T11:37:02.942Z"
   },
   {
    "duration": 196,
    "start_time": "2023-04-24T11:37:03.033Z"
   },
   {
    "duration": 6,
    "start_time": "2023-04-24T11:37:03.233Z"
   },
   {
    "duration": 140,
    "start_time": "2023-04-24T11:37:03.241Z"
   },
   {
    "duration": 72,
    "start_time": "2023-04-24T11:37:03.383Z"
   },
   {
    "duration": 109,
    "start_time": "2023-04-24T11:37:03.457Z"
   },
   {
    "duration": 140,
    "start_time": "2023-04-24T11:37:03.568Z"
   },
   {
    "duration": 4,
    "start_time": "2023-04-24T11:37:03.712Z"
   },
   {
    "duration": 478,
    "start_time": "2023-04-24T11:37:03.718Z"
   },
   {
    "duration": 55,
    "start_time": "2023-04-24T11:37:04.198Z"
   },
   {
    "duration": 828,
    "start_time": "2023-04-24T11:37:04.254Z"
   },
   {
    "duration": 11,
    "start_time": "2023-04-24T11:37:05.085Z"
   },
   {
    "duration": 615,
    "start_time": "2023-04-24T11:37:05.102Z"
   },
   {
    "duration": 2,
    "start_time": "2023-04-24T11:37:05.719Z"
   },
   {
    "duration": 2538,
    "start_time": "2023-04-24T11:37:05.722Z"
   },
   {
    "duration": 10,
    "start_time": "2023-04-24T11:37:08.262Z"
   },
   {
    "duration": 0,
    "start_time": "2023-04-24T11:37:08.274Z"
   },
   {
    "duration": 0,
    "start_time": "2023-04-24T11:37:08.275Z"
   },
   {
    "duration": 0,
    "start_time": "2023-04-24T11:37:08.277Z"
   },
   {
    "duration": 0,
    "start_time": "2023-04-24T11:37:08.278Z"
   },
   {
    "duration": 0,
    "start_time": "2023-04-24T11:37:08.279Z"
   },
   {
    "duration": 0,
    "start_time": "2023-04-24T11:37:08.281Z"
   },
   {
    "duration": 1577,
    "start_time": "2023-04-24T11:41:49.491Z"
   },
   {
    "duration": 1179,
    "start_time": "2023-04-24T11:41:51.070Z"
   },
   {
    "duration": 133,
    "start_time": "2023-04-24T11:41:52.251Z"
   },
   {
    "duration": 140,
    "start_time": "2023-04-24T11:41:52.386Z"
   },
   {
    "duration": 19,
    "start_time": "2023-04-24T11:41:52.528Z"
   },
   {
    "duration": 94,
    "start_time": "2023-04-24T11:41:52.549Z"
   },
   {
    "duration": 13,
    "start_time": "2023-04-24T11:41:52.646Z"
   },
   {
    "duration": 85,
    "start_time": "2023-04-24T11:41:52.661Z"
   },
   {
    "duration": 190,
    "start_time": "2023-04-24T11:41:52.748Z"
   },
   {
    "duration": 6,
    "start_time": "2023-04-24T11:41:52.948Z"
   },
   {
    "duration": 109,
    "start_time": "2023-04-24T11:41:52.957Z"
   },
   {
    "duration": 73,
    "start_time": "2023-04-24T11:41:53.068Z"
   },
   {
    "duration": 141,
    "start_time": "2023-04-24T11:41:53.143Z"
   },
   {
    "duration": 235,
    "start_time": "2023-04-24T11:41:53.286Z"
   },
   {
    "duration": 1,
    "start_time": "2023-04-24T11:41:53.524Z"
   },
   {
    "duration": 0,
    "start_time": "2023-04-24T11:41:53.528Z"
   },
   {
    "duration": 0,
    "start_time": "2023-04-24T11:41:53.535Z"
   },
   {
    "duration": 0,
    "start_time": "2023-04-24T11:41:53.540Z"
   },
   {
    "duration": 0,
    "start_time": "2023-04-24T11:41:53.543Z"
   },
   {
    "duration": 0,
    "start_time": "2023-04-24T11:41:53.545Z"
   },
   {
    "duration": 0,
    "start_time": "2023-04-24T11:41:53.546Z"
   },
   {
    "duration": 0,
    "start_time": "2023-04-24T11:41:53.547Z"
   },
   {
    "duration": 0,
    "start_time": "2023-04-24T11:41:53.549Z"
   },
   {
    "duration": 0,
    "start_time": "2023-04-24T11:41:53.555Z"
   },
   {
    "duration": 0,
    "start_time": "2023-04-24T11:41:53.556Z"
   },
   {
    "duration": 0,
    "start_time": "2023-04-24T11:41:53.558Z"
   },
   {
    "duration": 0,
    "start_time": "2023-04-24T11:41:53.561Z"
   },
   {
    "duration": 0,
    "start_time": "2023-04-24T11:41:53.564Z"
   },
   {
    "duration": 0,
    "start_time": "2023-04-24T11:41:53.567Z"
   },
   {
    "duration": 0,
    "start_time": "2023-04-24T11:41:53.568Z"
   },
   {
    "duration": 222,
    "start_time": "2023-04-24T11:42:52.174Z"
   },
   {
    "duration": 288,
    "start_time": "2023-04-24T11:42:55.426Z"
   },
   {
    "duration": 852,
    "start_time": "2023-04-24T11:43:05.877Z"
   },
   {
    "duration": 611,
    "start_time": "2023-04-24T11:43:08.638Z"
   },
   {
    "duration": 101,
    "start_time": "2023-04-24T11:43:12.188Z"
   },
   {
    "duration": 132,
    "start_time": "2023-04-24T11:43:48.484Z"
   },
   {
    "duration": 4,
    "start_time": "2023-04-24T11:43:49.125Z"
   },
   {
    "duration": 470,
    "start_time": "2023-04-24T11:43:49.691Z"
   },
   {
    "duration": 116,
    "start_time": "2023-04-24T11:43:53.221Z"
   },
   {
    "duration": 252,
    "start_time": "2023-04-24T11:43:54.587Z"
   },
   {
    "duration": 696,
    "start_time": "2023-04-24T11:43:57.276Z"
   },
   {
    "duration": 7,
    "start_time": "2023-04-24T11:44:04.267Z"
   },
   {
    "duration": 554,
    "start_time": "2023-04-24T11:44:27.659Z"
   },
   {
    "duration": 4,
    "start_time": "2023-04-24T11:44:34.689Z"
   },
   {
    "duration": 55,
    "start_time": "2023-04-24T11:45:52.406Z"
   },
   {
    "duration": 44,
    "start_time": "2023-04-24T11:46:13.330Z"
   },
   {
    "duration": 58,
    "start_time": "2023-04-24T11:46:19.966Z"
   },
   {
    "duration": 45,
    "start_time": "2023-04-24T11:46:32.406Z"
   },
   {
    "duration": 84,
    "start_time": "2023-04-24T11:47:34.332Z"
   },
   {
    "duration": 13,
    "start_time": "2023-04-24T11:51:03.539Z"
   },
   {
    "duration": 10,
    "start_time": "2023-04-24T11:51:08.322Z"
   },
   {
    "duration": 5,
    "start_time": "2023-04-24T11:51:20.442Z"
   },
   {
    "duration": 5,
    "start_time": "2023-04-24T11:51:42.865Z"
   },
   {
    "duration": 5,
    "start_time": "2023-04-24T11:51:51.225Z"
   },
   {
    "duration": 6,
    "start_time": "2023-04-24T11:52:00.615Z"
   },
   {
    "duration": 12,
    "start_time": "2023-04-24T11:52:10.042Z"
   },
   {
    "duration": 567,
    "start_time": "2023-04-24T11:53:04.615Z"
   },
   {
    "duration": 550,
    "start_time": "2023-04-24T11:53:16.590Z"
   },
   {
    "duration": 649,
    "start_time": "2023-04-24T11:53:26.311Z"
   },
   {
    "duration": 6,
    "start_time": "2023-04-24T11:53:28.307Z"
   },
   {
    "duration": 6,
    "start_time": "2023-04-24T11:53:37.070Z"
   },
   {
    "duration": 4889,
    "start_time": "2023-04-25T07:34:32.486Z"
   },
   {
    "duration": 990,
    "start_time": "2023-04-25T07:34:37.377Z"
   },
   {
    "duration": 124,
    "start_time": "2023-04-25T07:34:38.369Z"
   },
   {
    "duration": 143,
    "start_time": "2023-04-25T07:34:38.495Z"
   },
   {
    "duration": 12,
    "start_time": "2023-04-25T07:34:38.640Z"
   },
   {
    "duration": 61,
    "start_time": "2023-04-25T07:34:38.654Z"
   },
   {
    "duration": 10,
    "start_time": "2023-04-25T07:34:38.717Z"
   },
   {
    "duration": 72,
    "start_time": "2023-04-25T07:34:38.729Z"
   },
   {
    "duration": 133,
    "start_time": "2023-04-25T07:34:38.802Z"
   },
   {
    "duration": 5,
    "start_time": "2023-04-25T07:34:38.938Z"
   },
   {
    "duration": 106,
    "start_time": "2023-04-25T07:34:38.945Z"
   },
   {
    "duration": 66,
    "start_time": "2023-04-25T07:34:39.053Z"
   },
   {
    "duration": 132,
    "start_time": "2023-04-25T07:34:39.121Z"
   },
   {
    "duration": 134,
    "start_time": "2023-04-25T07:34:39.254Z"
   },
   {
    "duration": 5,
    "start_time": "2023-04-25T07:34:39.389Z"
   },
   {
    "duration": 409,
    "start_time": "2023-04-25T07:34:39.396Z"
   },
   {
    "duration": 47,
    "start_time": "2023-04-25T07:34:39.807Z"
   },
   {
    "duration": 138,
    "start_time": "2023-04-25T07:34:39.856Z"
   },
   {
    "duration": 254,
    "start_time": "2023-04-25T07:34:39.995Z"
   },
   {
    "duration": 678,
    "start_time": "2023-04-25T07:34:40.250Z"
   },
   {
    "duration": 7,
    "start_time": "2023-04-25T07:34:40.929Z"
   },
   {
    "duration": 538,
    "start_time": "2023-04-25T07:34:40.937Z"
   },
   {
    "duration": 11,
    "start_time": "2023-04-25T07:35:48.133Z"
   },
   {
    "duration": 63,
    "start_time": "2023-04-25T07:36:17.278Z"
   },
   {
    "duration": 212,
    "start_time": "2023-04-25T07:36:22.745Z"
   },
   {
    "duration": 3059,
    "start_time": "2023-04-25T07:37:00.449Z"
   },
   {
    "duration": 138111,
    "start_time": "2023-04-25T07:37:39.439Z"
   },
   {
    "duration": 61,
    "start_time": "2023-04-25T07:40:05.221Z"
   },
   {
    "duration": 20,
    "start_time": "2023-04-25T07:41:28.194Z"
   },
   {
    "duration": 15,
    "start_time": "2023-04-25T07:41:37.420Z"
   },
   {
    "duration": 50,
    "start_time": "2023-04-25T08:08:47.785Z"
   },
   {
    "duration": 1602,
    "start_time": "2023-04-25T08:31:49.537Z"
   },
   {
    "duration": 3073,
    "start_time": "2023-04-25T08:31:51.141Z"
   },
   {
    "duration": 109,
    "start_time": "2023-04-25T08:31:54.216Z"
   },
   {
    "duration": 141,
    "start_time": "2023-04-25T08:31:54.328Z"
   },
   {
    "duration": 15,
    "start_time": "2023-04-25T08:31:54.471Z"
   },
   {
    "duration": 66,
    "start_time": "2023-04-25T08:31:54.487Z"
   },
   {
    "duration": 11,
    "start_time": "2023-04-25T08:31:54.555Z"
   },
   {
    "duration": 73,
    "start_time": "2023-04-25T08:31:54.568Z"
   },
   {
    "duration": 142,
    "start_time": "2023-04-25T08:31:54.643Z"
   },
   {
    "duration": 5,
    "start_time": "2023-04-25T08:31:54.788Z"
   },
   {
    "duration": 109,
    "start_time": "2023-04-25T08:31:54.794Z"
   },
   {
    "duration": 62,
    "start_time": "2023-04-25T08:31:54.904Z"
   },
   {
    "duration": 133,
    "start_time": "2023-04-25T08:31:54.968Z"
   },
   {
    "duration": 132,
    "start_time": "2023-04-25T08:31:55.103Z"
   },
   {
    "duration": 4,
    "start_time": "2023-04-25T08:31:55.237Z"
   },
   {
    "duration": 433,
    "start_time": "2023-04-25T08:31:55.243Z"
   },
   {
    "duration": 59,
    "start_time": "2023-04-25T08:31:55.678Z"
   },
   {
    "duration": 135,
    "start_time": "2023-04-25T08:31:55.739Z"
   },
   {
    "duration": 246,
    "start_time": "2023-04-25T08:31:55.876Z"
   },
   {
    "duration": 669,
    "start_time": "2023-04-25T08:31:56.123Z"
   },
   {
    "duration": 6,
    "start_time": "2023-04-25T08:31:56.794Z"
   },
   {
    "duration": 540,
    "start_time": "2023-04-25T08:31:56.812Z"
   },
   {
    "duration": 45,
    "start_time": "2023-04-25T08:31:57.354Z"
   },
   {
    "duration": 0,
    "start_time": "2023-04-25T08:31:57.401Z"
   },
   {
    "duration": 0,
    "start_time": "2023-04-25T08:31:57.403Z"
   },
   {
    "duration": 0,
    "start_time": "2023-04-25T08:31:57.404Z"
   },
   {
    "duration": 0,
    "start_time": "2023-04-25T08:31:57.405Z"
   },
   {
    "duration": 0,
    "start_time": "2023-04-25T08:31:57.406Z"
   },
   {
    "duration": 0,
    "start_time": "2023-04-25T08:31:57.407Z"
   },
   {
    "duration": 0,
    "start_time": "2023-04-25T08:31:57.408Z"
   },
   {
    "duration": 203,
    "start_time": "2023-04-25T08:42:38.289Z"
   },
   {
    "duration": 1512,
    "start_time": "2023-04-25T08:42:43.213Z"
   },
   {
    "duration": 1013,
    "start_time": "2023-04-25T08:42:44.727Z"
   },
   {
    "duration": 107,
    "start_time": "2023-04-25T08:42:45.741Z"
   },
   {
    "duration": 137,
    "start_time": "2023-04-25T08:42:45.849Z"
   },
   {
    "duration": 24,
    "start_time": "2023-04-25T08:42:45.988Z"
   },
   {
    "duration": 48,
    "start_time": "2023-04-25T08:42:46.014Z"
   },
   {
    "duration": 11,
    "start_time": "2023-04-25T08:42:46.063Z"
   },
   {
    "duration": 79,
    "start_time": "2023-04-25T08:42:46.075Z"
   },
   {
    "duration": 133,
    "start_time": "2023-04-25T08:42:46.156Z"
   },
   {
    "duration": 4,
    "start_time": "2023-04-25T08:42:46.292Z"
   },
   {
    "duration": 115,
    "start_time": "2023-04-25T08:42:46.298Z"
   },
   {
    "duration": 60,
    "start_time": "2023-04-25T08:42:46.414Z"
   },
   {
    "duration": 141,
    "start_time": "2023-04-25T08:42:46.476Z"
   },
   {
    "duration": 153,
    "start_time": "2023-04-25T08:42:46.618Z"
   },
   {
    "duration": 5,
    "start_time": "2023-04-25T08:42:46.772Z"
   },
   {
    "duration": 473,
    "start_time": "2023-04-25T08:42:46.778Z"
   },
   {
    "duration": 47,
    "start_time": "2023-04-25T08:42:47.253Z"
   },
   {
    "duration": 134,
    "start_time": "2023-04-25T08:42:47.312Z"
   },
   {
    "duration": 252,
    "start_time": "2023-04-25T08:42:47.448Z"
   },
   {
    "duration": 710,
    "start_time": "2023-04-25T08:42:47.701Z"
   },
   {
    "duration": 7,
    "start_time": "2023-04-25T08:42:48.413Z"
   },
   {
    "duration": 609,
    "start_time": "2023-04-25T08:42:48.421Z"
   },
   {
    "duration": 234,
    "start_time": "2023-04-25T08:42:49.032Z"
   },
   {
    "duration": 10,
    "start_time": "2023-04-25T08:42:49.268Z"
   },
   {
    "duration": 0,
    "start_time": "2023-04-25T08:42:49.280Z"
   },
   {
    "duration": 0,
    "start_time": "2023-04-25T08:42:49.281Z"
   },
   {
    "duration": 0,
    "start_time": "2023-04-25T08:42:49.282Z"
   },
   {
    "duration": 0,
    "start_time": "2023-04-25T08:42:49.284Z"
   },
   {
    "duration": 0,
    "start_time": "2023-04-25T08:42:49.285Z"
   },
   {
    "duration": 0,
    "start_time": "2023-04-25T08:42:49.286Z"
   },
   {
    "duration": 82,
    "start_time": "2023-04-25T08:43:11.217Z"
   },
   {
    "duration": 111,
    "start_time": "2023-04-25T08:43:15.040Z"
   },
   {
    "duration": 2500,
    "start_time": "2023-04-25T08:43:18.233Z"
   },
   {
    "duration": 929,
    "start_time": "2023-04-25T08:45:52.729Z"
   },
   {
    "duration": 10,
    "start_time": "2023-04-25T08:45:56.667Z"
   },
   {
    "duration": 701,
    "start_time": "2023-04-25T08:46:35.737Z"
   },
   {
    "duration": 775,
    "start_time": "2023-04-25T08:47:09.003Z"
   },
   {
    "duration": 743,
    "start_time": "2023-04-25T08:47:31.320Z"
   },
   {
    "duration": 13,
    "start_time": "2023-04-25T08:47:48.958Z"
   },
   {
    "duration": 12,
    "start_time": "2023-04-25T08:47:52.654Z"
   },
   {
    "duration": 10,
    "start_time": "2023-04-25T08:47:55.810Z"
   },
   {
    "duration": 10,
    "start_time": "2023-04-25T08:47:57.887Z"
   },
   {
    "duration": 59,
    "start_time": "2023-04-25T08:48:02.795Z"
   },
   {
    "duration": 820,
    "start_time": "2023-04-25T08:49:23.305Z"
   },
   {
    "duration": 38,
    "start_time": "2023-04-25T08:49:25.835Z"
   },
   {
    "duration": 7,
    "start_time": "2023-04-25T08:49:31.955Z"
   },
   {
    "duration": 508,
    "start_time": "2023-04-25T08:49:38.206Z"
   },
   {
    "duration": 2315,
    "start_time": "2023-04-25T08:49:40.405Z"
   },
   {
    "duration": 6,
    "start_time": "2023-04-25T08:55:08.749Z"
   },
   {
    "duration": 2213,
    "start_time": "2023-04-25T08:57:54.337Z"
   },
   {
    "duration": 666,
    "start_time": "2023-04-25T08:59:47.719Z"
   },
   {
    "duration": 710,
    "start_time": "2023-04-25T09:00:09.081Z"
   },
   {
    "duration": 4,
    "start_time": "2023-04-25T09:00:20.986Z"
   },
   {
    "duration": 1745,
    "start_time": "2023-04-25T09:00:27.801Z"
   },
   {
    "duration": 1756,
    "start_time": "2023-04-25T09:00:35.112Z"
   },
   {
    "duration": 6,
    "start_time": "2023-04-25T09:00:41.057Z"
   },
   {
    "duration": 14,
    "start_time": "2023-04-25T09:00:43.914Z"
   },
   {
    "duration": 762,
    "start_time": "2023-04-25T09:01:08.328Z"
   },
   {
    "duration": 616,
    "start_time": "2023-04-25T09:01:10.503Z"
   },
   {
    "duration": 10,
    "start_time": "2023-04-25T09:01:48.047Z"
   },
   {
    "duration": 78,
    "start_time": "2023-04-25T09:02:05.607Z"
   },
   {
    "duration": 3141,
    "start_time": "2023-04-25T09:02:07.679Z"
   },
   {
    "duration": 80,
    "start_time": "2023-04-25T09:02:34.799Z"
   },
   {
    "duration": 91,
    "start_time": "2023-04-25T09:03:03.330Z"
   },
   {
    "duration": 186,
    "start_time": "2023-04-25T09:04:25.615Z"
   },
   {
    "duration": 14,
    "start_time": "2023-04-25T09:04:59.295Z"
   },
   {
    "duration": 780,
    "start_time": "2023-04-25T09:05:08.333Z"
   },
   {
    "duration": 63,
    "start_time": "2023-04-25T09:05:09.116Z"
   },
   {
    "duration": 6,
    "start_time": "2023-04-25T09:05:09.395Z"
   },
   {
    "duration": 580,
    "start_time": "2023-04-25T09:05:11.501Z"
   },
   {
    "duration": 2599,
    "start_time": "2023-04-25T09:05:14.518Z"
   },
   {
    "duration": 9,
    "start_time": "2023-04-25T09:06:17.597Z"
   },
   {
    "duration": 52,
    "start_time": "2023-04-25T11:24:31.932Z"
   },
   {
    "duration": 1451,
    "start_time": "2023-04-25T11:24:36.856Z"
   },
   {
    "duration": 1036,
    "start_time": "2023-04-25T11:24:38.309Z"
   },
   {
    "duration": 109,
    "start_time": "2023-04-25T11:24:39.347Z"
   },
   {
    "duration": 126,
    "start_time": "2023-04-25T11:24:39.458Z"
   },
   {
    "duration": 12,
    "start_time": "2023-04-25T11:24:39.586Z"
   },
   {
    "duration": 45,
    "start_time": "2023-04-25T11:24:39.612Z"
   },
   {
    "duration": 9,
    "start_time": "2023-04-25T11:24:39.658Z"
   },
   {
    "duration": 70,
    "start_time": "2023-04-25T11:24:39.669Z"
   },
   {
    "duration": 125,
    "start_time": "2023-04-25T11:24:39.741Z"
   },
   {
    "duration": 5,
    "start_time": "2023-04-25T11:24:39.870Z"
   },
   {
    "duration": 109,
    "start_time": "2023-04-25T11:24:39.877Z"
   },
   {
    "duration": 63,
    "start_time": "2023-04-25T11:24:39.988Z"
   },
   {
    "duration": 129,
    "start_time": "2023-04-25T11:24:40.053Z"
   },
   {
    "duration": 125,
    "start_time": "2023-04-25T11:24:40.184Z"
   },
   {
    "duration": 5,
    "start_time": "2023-04-25T11:24:40.310Z"
   },
   {
    "duration": 434,
    "start_time": "2023-04-25T11:24:40.316Z"
   },
   {
    "duration": 46,
    "start_time": "2023-04-25T11:24:40.752Z"
   },
   {
    "duration": 141,
    "start_time": "2023-04-25T11:24:40.799Z"
   },
   {
    "duration": 249,
    "start_time": "2023-04-25T11:24:40.942Z"
   },
   {
    "duration": 757,
    "start_time": "2023-04-25T11:24:41.192Z"
   },
   {
    "duration": 51,
    "start_time": "2023-04-25T11:24:41.950Z"
   },
   {
    "duration": 12,
    "start_time": "2023-04-25T11:24:42.003Z"
   },
   {
    "duration": 564,
    "start_time": "2023-04-25T11:24:42.017Z"
   },
   {
    "duration": 103,
    "start_time": "2023-04-25T11:24:42.583Z"
   },
   {
    "duration": 2303,
    "start_time": "2023-04-25T11:24:42.688Z"
   },
   {
    "duration": 10,
    "start_time": "2023-04-25T11:24:44.992Z"
   },
   {
    "duration": 0,
    "start_time": "2023-04-25T11:24:45.004Z"
   },
   {
    "duration": 0,
    "start_time": "2023-04-25T11:24:45.005Z"
   },
   {
    "duration": 0,
    "start_time": "2023-04-25T11:24:45.006Z"
   },
   {
    "duration": 0,
    "start_time": "2023-04-25T11:24:45.007Z"
   },
   {
    "duration": 0,
    "start_time": "2023-04-25T11:24:45.008Z"
   },
   {
    "duration": 0,
    "start_time": "2023-04-25T11:24:45.010Z"
   },
   {
    "duration": 23,
    "start_time": "2023-04-25T11:25:36.237Z"
   },
   {
    "duration": 16,
    "start_time": "2023-04-25T11:25:41.415Z"
   },
   {
    "duration": 2151,
    "start_time": "2023-04-25T11:25:54.380Z"
   },
   {
    "duration": 11,
    "start_time": "2023-04-25T11:26:08.083Z"
   },
   {
    "duration": 7,
    "start_time": "2023-04-25T11:26:38.914Z"
   },
   {
    "duration": 12,
    "start_time": "2023-04-25T11:27:02.746Z"
   },
   {
    "duration": 10,
    "start_time": "2023-04-25T11:27:08.073Z"
   },
   {
    "duration": 19,
    "start_time": "2023-04-25T11:27:13.441Z"
   },
   {
    "duration": 5,
    "start_time": "2023-04-25T11:27:24.641Z"
   },
   {
    "duration": 505,
    "start_time": "2023-04-25T11:27:29.041Z"
   },
   {
    "duration": 6,
    "start_time": "2023-04-25T11:27:29.548Z"
   },
   {
    "duration": 22,
    "start_time": "2023-04-25T11:27:49.681Z"
   },
   {
    "duration": 2436,
    "start_time": "2023-04-25T11:27:52.125Z"
   },
   {
    "duration": 21,
    "start_time": "2023-04-25T11:28:07.271Z"
   },
   {
    "duration": 2296,
    "start_time": "2023-04-25T11:28:09.047Z"
   },
   {
    "duration": 20,
    "start_time": "2023-04-25T11:28:51.405Z"
   },
   {
    "duration": 86,
    "start_time": "2023-04-25T11:28:55.822Z"
   },
   {
    "duration": 2359,
    "start_time": "2023-04-25T11:29:04.046Z"
   },
   {
    "duration": 20,
    "start_time": "2023-04-25T11:29:50.252Z"
   },
   {
    "duration": 16,
    "start_time": "2023-04-25T11:29:53.652Z"
   },
   {
    "duration": 1551,
    "start_time": "2023-04-25T11:29:59.606Z"
   },
   {
    "duration": 1022,
    "start_time": "2023-04-25T11:30:01.159Z"
   },
   {
    "duration": 109,
    "start_time": "2023-04-25T11:30:02.183Z"
   },
   {
    "duration": 133,
    "start_time": "2023-04-25T11:30:02.294Z"
   },
   {
    "duration": 42,
    "start_time": "2023-04-25T11:30:02.429Z"
   },
   {
    "duration": 113,
    "start_time": "2023-04-25T11:30:02.473Z"
   },
   {
    "duration": 10,
    "start_time": "2023-04-25T11:30:02.587Z"
   },
   {
    "duration": 73,
    "start_time": "2023-04-25T11:30:02.599Z"
   },
   {
    "duration": 141,
    "start_time": "2023-04-25T11:30:02.674Z"
   },
   {
    "duration": 6,
    "start_time": "2023-04-25T11:30:02.819Z"
   },
   {
    "duration": 129,
    "start_time": "2023-04-25T11:30:02.827Z"
   },
   {
    "duration": 57,
    "start_time": "2023-04-25T11:30:02.958Z"
   },
   {
    "duration": 138,
    "start_time": "2023-04-25T11:30:03.016Z"
   },
   {
    "duration": 136,
    "start_time": "2023-04-25T11:30:03.156Z"
   },
   {
    "duration": 6,
    "start_time": "2023-04-25T11:30:03.294Z"
   },
   {
    "duration": 506,
    "start_time": "2023-04-25T11:30:03.302Z"
   },
   {
    "duration": 55,
    "start_time": "2023-04-25T11:30:03.812Z"
   },
   {
    "duration": 157,
    "start_time": "2023-04-25T11:30:03.869Z"
   },
   {
    "duration": 259,
    "start_time": "2023-04-25T11:30:04.028Z"
   },
   {
    "duration": 768,
    "start_time": "2023-04-25T11:30:04.289Z"
   },
   {
    "duration": 60,
    "start_time": "2023-04-25T11:30:05.059Z"
   },
   {
    "duration": 5,
    "start_time": "2023-04-25T11:30:05.120Z"
   },
   {
    "duration": 587,
    "start_time": "2023-04-25T11:30:05.127Z"
   },
   {
    "duration": 35,
    "start_time": "2023-04-25T11:30:05.716Z"
   },
   {
    "duration": 2361,
    "start_time": "2023-04-25T11:30:05.752Z"
   },
   {
    "duration": 10,
    "start_time": "2023-04-25T11:30:08.115Z"
   },
   {
    "duration": 0,
    "start_time": "2023-04-25T11:30:08.127Z"
   },
   {
    "duration": 0,
    "start_time": "2023-04-25T11:30:08.128Z"
   },
   {
    "duration": 0,
    "start_time": "2023-04-25T11:30:08.129Z"
   },
   {
    "duration": 0,
    "start_time": "2023-04-25T11:30:08.130Z"
   },
   {
    "duration": 0,
    "start_time": "2023-04-25T11:30:08.131Z"
   },
   {
    "duration": 0,
    "start_time": "2023-04-25T11:30:08.133Z"
   },
   {
    "duration": 1398,
    "start_time": "2023-04-25T11:30:43.425Z"
   },
   {
    "duration": 2266,
    "start_time": "2023-04-25T11:31:01.511Z"
   },
   {
    "duration": 17,
    "start_time": "2023-04-25T11:31:27.185Z"
   },
   {
    "duration": 13,
    "start_time": "2023-04-25T11:32:22.862Z"
   },
   {
    "duration": 10,
    "start_time": "2023-04-25T11:33:03.284Z"
   },
   {
    "duration": 107099,
    "start_time": "2023-04-25T11:33:07.443Z"
   },
   {
    "duration": 2,
    "start_time": "2023-04-25T11:34:54.544Z"
   },
   {
    "duration": 3330666,
    "start_time": "2023-04-25T11:35:09.948Z"
   },
   {
    "duration": 4,
    "start_time": "2023-04-25T12:30:40.616Z"
   },
   {
    "duration": 354066,
    "start_time": "2023-04-25T12:32:49.928Z"
   },
   {
    "duration": 2168,
    "start_time": "2023-04-25T12:39:45.448Z"
   },
   {
    "duration": 41301,
    "start_time": "2023-04-25T12:40:06.023Z"
   },
   {
    "duration": 140,
    "start_time": "2023-04-25T12:40:56.844Z"
   },
   {
    "duration": 141,
    "start_time": "2023-04-25T12:41:06.622Z"
   },
   {
    "duration": 420822,
    "start_time": "2023-04-25T12:41:15.453Z"
   },
   {
    "duration": 144,
    "start_time": "2023-04-25T12:50:16.039Z"
   },
   {
    "duration": 90,
    "start_time": "2023-04-25T12:50:26.388Z"
   },
   {
    "duration": 69,
    "start_time": "2023-04-25T12:50:38.391Z"
   },
   {
    "duration": 76,
    "start_time": "2023-04-25T12:50:44.691Z"
   },
   {
    "duration": 139,
    "start_time": "2023-04-25T12:50:56.150Z"
   },
   {
    "duration": 67,
    "start_time": "2023-04-25T12:52:46.788Z"
   },
   {
    "duration": 18,
    "start_time": "2023-04-25T12:53:52.107Z"
   },
   {
    "duration": 18,
    "start_time": "2023-04-25T12:53:57.803Z"
   },
   {
    "duration": 5,
    "start_time": "2023-04-25T12:54:01.476Z"
   },
   {
    "duration": 6,
    "start_time": "2023-04-25T12:54:06.191Z"
   },
   {
    "duration": 18,
    "start_time": "2023-04-25T12:54:09.827Z"
   },
   {
    "duration": 120,
    "start_time": "2023-04-25T12:55:51.223Z"
   },
   {
    "duration": 71,
    "start_time": "2023-04-25T12:55:52.217Z"
   },
   {
    "duration": 23,
    "start_time": "2023-04-25T12:55:53.354Z"
   },
   {
    "duration": 3,
    "start_time": "2023-04-25T12:56:07.287Z"
   },
   {
    "duration": 137,
    "start_time": "2023-04-25T12:56:08.842Z"
   },
   {
    "duration": 107,
    "start_time": "2023-04-25T12:56:19.791Z"
   },
   {
    "duration": 112,
    "start_time": "2023-04-25T12:57:20.588Z"
   },
   {
    "duration": 138,
    "start_time": "2023-04-25T12:57:32.511Z"
   },
   {
    "duration": 11,
    "start_time": "2023-04-25T12:58:46.659Z"
   },
   {
    "duration": 65,
    "start_time": "2023-04-25T12:58:47.183Z"
   },
   {
    "duration": 137,
    "start_time": "2023-04-25T12:58:48.827Z"
   },
   {
    "duration": 118,
    "start_time": "2023-04-25T12:58:55.259Z"
   },
   {
    "duration": 68,
    "start_time": "2023-04-25T12:58:56.398Z"
   },
   {
    "duration": 3,
    "start_time": "2023-04-25T12:59:08.123Z"
   },
   {
    "duration": 149,
    "start_time": "2023-04-25T12:59:08.708Z"
   },
   {
    "duration": 143,
    "start_time": "2023-04-25T12:59:54.717Z"
   },
   {
    "duration": 144,
    "start_time": "2023-04-25T13:00:17.721Z"
   },
   {
    "duration": 2235,
    "start_time": "2023-04-25T13:03:04.622Z"
   },
   {
    "duration": 9,
    "start_time": "2023-04-25T13:03:32.049Z"
   },
   {
    "duration": 2222,
    "start_time": "2023-04-25T13:03:47.200Z"
   },
   {
    "duration": 2737,
    "start_time": "2023-04-25T13:03:52.615Z"
   },
   {
    "duration": 2329,
    "start_time": "2023-04-25T13:04:01.318Z"
   },
   {
    "duration": 6,
    "start_time": "2023-04-25T13:04:07.857Z"
   },
   {
    "duration": 7,
    "start_time": "2023-04-25T13:05:41.009Z"
   },
   {
    "duration": 2270,
    "start_time": "2023-04-25T13:05:43.739Z"
   },
   {
    "duration": 4,
    "start_time": "2023-04-25T13:06:23.330Z"
   },
   {
    "duration": 1068,
    "start_time": "2023-04-25T13:06:24.617Z"
   },
   {
    "duration": 4,
    "start_time": "2023-04-25T13:06:45.161Z"
   },
   {
    "duration": 113,
    "start_time": "2023-04-25T13:06:50.487Z"
   },
   {
    "duration": 96,
    "start_time": "2023-04-25T13:07:23.335Z"
   },
   {
    "duration": 85,
    "start_time": "2023-04-25T13:08:13.252Z"
   },
   {
    "duration": 5,
    "start_time": "2023-04-25T13:10:59.159Z"
   },
   {
    "duration": 6,
    "start_time": "2023-04-25T13:11:04.920Z"
   },
   {
    "duration": 10,
    "start_time": "2023-04-25T13:13:27.594Z"
   },
   {
    "duration": 17,
    "start_time": "2023-04-25T13:13:42.011Z"
   },
   {
    "duration": 17,
    "start_time": "2023-04-25T13:13:58.207Z"
   },
   {
    "duration": 16,
    "start_time": "2023-04-25T13:18:09.550Z"
   },
   {
    "duration": 15,
    "start_time": "2023-04-25T13:19:50.026Z"
   },
   {
    "duration": 17,
    "start_time": "2023-04-25T13:20:23.835Z"
   },
   {
    "duration": 77,
    "start_time": "2023-04-25T13:21:50.587Z"
   },
   {
    "duration": 144,
    "start_time": "2023-04-25T13:22:01.533Z"
   },
   {
    "duration": 90,
    "start_time": "2023-04-25T13:22:28.148Z"
   },
   {
    "duration": 116,
    "start_time": "2023-04-25T13:23:03.355Z"
   },
   {
    "duration": 92,
    "start_time": "2023-04-25T13:23:09.937Z"
   },
   {
    "duration": 91,
    "start_time": "2023-04-25T13:24:13.160Z"
   },
   {
    "duration": 5,
    "start_time": "2023-04-25T13:24:38.791Z"
   },
   {
    "duration": 2,
    "start_time": "2023-04-25T13:24:45.215Z"
   },
   {
    "duration": 86,
    "start_time": "2023-04-25T13:24:58.715Z"
   },
   {
    "duration": 139,
    "start_time": "2023-04-25T13:25:06.815Z"
   },
   {
    "duration": 65,
    "start_time": "2023-04-25T13:27:35.411Z"
   },
   {
    "duration": 2,
    "start_time": "2023-04-25T13:27:36.308Z"
   },
   {
    "duration": 144,
    "start_time": "2023-04-25T13:27:37.014Z"
   },
   {
    "duration": 67,
    "start_time": "2023-04-25T13:27:47.735Z"
   },
   {
    "duration": 3,
    "start_time": "2023-04-25T13:27:48.107Z"
   },
   {
    "duration": 160,
    "start_time": "2023-04-25T13:27:48.627Z"
   },
   {
    "duration": 133,
    "start_time": "2023-04-25T13:44:38.492Z"
   },
   {
    "duration": 148,
    "start_time": "2023-04-25T14:01:59.839Z"
   },
   {
    "duration": 9,
    "start_time": "2023-04-25T14:08:13.616Z"
   },
   {
    "duration": 3,
    "start_time": "2023-04-25T14:08:16.736Z"
   },
   {
    "duration": 13,
    "start_time": "2023-04-25T14:08:17.288Z"
   },
   {
    "duration": 14,
    "start_time": "2023-04-25T14:08:19.399Z"
   },
   {
    "duration": 13,
    "start_time": "2023-04-25T14:08:27.896Z"
   },
   {
    "duration": 82,
    "start_time": "2023-04-25T14:08:34.607Z"
   },
   {
    "duration": 8,
    "start_time": "2023-04-25T14:08:41.839Z"
   },
   {
    "duration": 81,
    "start_time": "2023-04-25T14:08:43.013Z"
   },
   {
    "duration": 138,
    "start_time": "2023-04-25T14:08:45.623Z"
   },
   {
    "duration": 187,
    "start_time": "2023-04-25T14:09:57.692Z"
   },
   {
    "duration": 9,
    "start_time": "2023-04-25T14:10:04.516Z"
   },
   {
    "duration": 83,
    "start_time": "2023-04-25T14:10:04.879Z"
   },
   {
    "duration": 132,
    "start_time": "2023-04-25T14:10:05.588Z"
   },
   {
    "duration": 134,
    "start_time": "2023-04-25T14:10:55.901Z"
   },
   {
    "duration": 97,
    "start_time": "2023-04-25T14:14:53.591Z"
   },
   {
    "duration": 5,
    "start_time": "2023-04-25T14:15:23.507Z"
   },
   {
    "duration": 132,
    "start_time": "2023-04-25T14:15:30.521Z"
   },
   {
    "duration": 20,
    "start_time": "2023-04-25T14:16:27.502Z"
   },
   {
    "duration": 16,
    "start_time": "2023-04-25T14:16:36.403Z"
   },
   {
    "duration": 7,
    "start_time": "2023-04-25T14:16:45.812Z"
   },
   {
    "duration": 71,
    "start_time": "2023-04-25T14:20:31.621Z"
   },
   {
    "duration": 135,
    "start_time": "2023-04-25T14:20:52.603Z"
   },
   {
    "duration": 262,
    "start_time": "2023-04-25T14:20:58.043Z"
   },
   {
    "duration": 179,
    "start_time": "2023-04-25T14:21:43.203Z"
   },
   {
    "duration": 155,
    "start_time": "2023-04-25T14:28:04.271Z"
   },
   {
    "duration": 129,
    "start_time": "2023-04-25T14:28:16.501Z"
   },
   {
    "duration": 192,
    "start_time": "2023-04-25T18:19:15.617Z"
   },
   {
    "duration": 196,
    "start_time": "2023-04-25T18:19:33.505Z"
   },
   {
    "duration": 160,
    "start_time": "2023-04-25T18:19:36.097Z"
   },
   {
    "duration": 2836,
    "start_time": "2023-04-26T12:34:46.733Z"
   },
   {
    "duration": 1468,
    "start_time": "2023-04-26T12:34:49.575Z"
   },
   {
    "duration": 136,
    "start_time": "2023-04-26T12:34:51.049Z"
   },
   {
    "duration": 143,
    "start_time": "2023-04-26T12:34:51.186Z"
   },
   {
    "duration": 51,
    "start_time": "2023-04-26T12:34:51.332Z"
   },
   {
    "duration": 52,
    "start_time": "2023-04-26T12:34:51.385Z"
   },
   {
    "duration": 8,
    "start_time": "2023-04-26T12:34:51.439Z"
   },
   {
    "duration": 78,
    "start_time": "2023-04-26T12:34:51.455Z"
   },
   {
    "duration": 135,
    "start_time": "2023-04-26T12:34:51.535Z"
   },
   {
    "duration": 6,
    "start_time": "2023-04-26T12:34:51.680Z"
   },
   {
    "duration": 117,
    "start_time": "2023-04-26T12:34:51.687Z"
   },
   {
    "duration": 54,
    "start_time": "2023-04-26T12:34:51.805Z"
   },
   {
    "duration": 138,
    "start_time": "2023-04-26T12:34:51.860Z"
   },
   {
    "duration": 128,
    "start_time": "2023-04-26T12:34:52.001Z"
   },
   {
    "duration": 4,
    "start_time": "2023-04-26T12:34:52.131Z"
   },
   {
    "duration": 495,
    "start_time": "2023-04-26T12:34:52.137Z"
   },
   {
    "duration": 63,
    "start_time": "2023-04-26T12:34:52.633Z"
   },
   {
    "duration": 136,
    "start_time": "2023-04-26T12:34:52.697Z"
   },
   {
    "duration": 288,
    "start_time": "2023-04-26T12:34:52.835Z"
   },
   {
    "duration": 555,
    "start_time": "2023-04-26T12:34:53.124Z"
   },
   {
    "duration": 43,
    "start_time": "2023-04-26T12:34:53.681Z"
   },
   {
    "duration": 5,
    "start_time": "2023-04-26T12:34:53.725Z"
   },
   {
    "duration": 438,
    "start_time": "2023-04-26T12:34:53.731Z"
   },
   {
    "duration": 5,
    "start_time": "2023-04-26T12:34:54.177Z"
   },
   {
    "duration": 37309,
    "start_time": "2023-04-26T12:34:54.184Z"
   },
   {
    "duration": 32,
    "start_time": "2023-04-26T12:40:37.604Z"
   },
   {
    "duration": 5,
    "start_time": "2023-04-26T12:41:26.776Z"
   },
   {
    "duration": 19,
    "start_time": "2023-04-26T12:41:48.975Z"
   },
   {
    "duration": 2744,
    "start_time": "2023-04-26T12:42:16.627Z"
   },
   {
    "duration": 16,
    "start_time": "2023-04-26T12:43:15.225Z"
   },
   {
    "duration": 53,
    "start_time": "2023-04-26T14:47:19.460Z"
   },
   {
    "duration": 1833,
    "start_time": "2023-04-26T14:47:37.128Z"
   },
   {
    "duration": 3237,
    "start_time": "2023-04-26T14:47:38.963Z"
   },
   {
    "duration": 162,
    "start_time": "2023-04-26T14:47:45.417Z"
   },
   {
    "duration": 117,
    "start_time": "2023-04-26T14:47:46.191Z"
   },
   {
    "duration": 14,
    "start_time": "2023-04-26T14:47:48.470Z"
   },
   {
    "duration": 47,
    "start_time": "2023-04-26T14:47:48.837Z"
   },
   {
    "duration": 9,
    "start_time": "2023-04-26T14:47:49.478Z"
   },
   {
    "duration": 59,
    "start_time": "2023-04-26T14:47:49.799Z"
   },
   {
    "duration": 128,
    "start_time": "2023-04-26T14:47:51.053Z"
   },
   {
    "duration": 6,
    "start_time": "2023-04-26T14:47:52.822Z"
   },
   {
    "duration": 119,
    "start_time": "2023-04-26T14:47:53.223Z"
   },
   {
    "duration": 61,
    "start_time": "2023-04-26T14:47:53.951Z"
   },
   {
    "duration": 127,
    "start_time": "2023-04-26T14:47:54.821Z"
   },
   {
    "duration": 156,
    "start_time": "2023-04-26T14:47:57.534Z"
   },
   {
    "duration": 5,
    "start_time": "2023-04-26T14:47:58.270Z"
   },
   {
    "duration": 461,
    "start_time": "2023-04-26T14:47:59.485Z"
   },
   {
    "duration": 77,
    "start_time": "2023-04-26T14:47:59.954Z"
   },
   {
    "duration": 128,
    "start_time": "2023-04-26T14:48:02.957Z"
   },
   {
    "duration": 261,
    "start_time": "2023-04-26T14:48:03.509Z"
   },
   {
    "duration": 1047,
    "start_time": "2023-04-26T14:48:06.566Z"
   },
   {
    "duration": 68,
    "start_time": "2023-04-26T14:48:07.870Z"
   },
   {
    "duration": 7,
    "start_time": "2023-04-26T14:48:08.645Z"
   },
   {
    "duration": 569,
    "start_time": "2023-04-26T14:48:12.397Z"
   },
   {
    "duration": 6,
    "start_time": "2023-04-26T14:48:13.445Z"
   },
   {
    "duration": 729,
    "start_time": "2023-04-26T14:48:20.289Z"
   },
   {
    "duration": 265,
    "start_time": "2023-04-26T14:48:22.630Z"
   },
   {
    "duration": 83,
    "start_time": "2023-04-26T14:50:53.712Z"
   },
   {
    "duration": 566,
    "start_time": "2023-04-26T14:50:55.134Z"
   },
   {
    "duration": 80,
    "start_time": "2023-04-26T14:51:18.430Z"
   },
   {
    "duration": 105,
    "start_time": "2023-04-26T14:52:50.211Z"
   },
   {
    "duration": 372,
    "start_time": "2023-04-26T14:53:07.402Z"
   },
   {
    "duration": 368,
    "start_time": "2023-04-26T14:53:20.738Z"
   },
   {
    "duration": 144,
    "start_time": "2023-04-26T14:53:23.968Z"
   },
   {
    "duration": 1586,
    "start_time": "2023-04-26T14:53:42.990Z"
   },
   {
    "duration": 1076,
    "start_time": "2023-04-26T14:53:44.579Z"
   },
   {
    "duration": 118,
    "start_time": "2023-04-26T14:53:45.657Z"
   },
   {
    "duration": 119,
    "start_time": "2023-04-26T14:53:45.777Z"
   },
   {
    "duration": 15,
    "start_time": "2023-04-26T14:53:46.231Z"
   },
   {
    "duration": 50,
    "start_time": "2023-04-26T14:53:46.439Z"
   },
   {
    "duration": 11,
    "start_time": "2023-04-26T14:53:46.958Z"
   },
   {
    "duration": 60,
    "start_time": "2023-04-26T14:53:47.047Z"
   },
   {
    "duration": 130,
    "start_time": "2023-04-26T14:53:47.471Z"
   },
   {
    "duration": 7,
    "start_time": "2023-04-26T14:53:47.603Z"
   },
   {
    "duration": 106,
    "start_time": "2023-04-26T14:53:47.687Z"
   },
   {
    "duration": 63,
    "start_time": "2023-04-26T14:53:47.886Z"
   },
   {
    "duration": 125,
    "start_time": "2023-04-26T14:53:48.110Z"
   },
   {
    "duration": 127,
    "start_time": "2023-04-26T14:53:48.798Z"
   },
   {
    "duration": 6,
    "start_time": "2023-04-26T14:53:48.928Z"
   },
   {
    "duration": 444,
    "start_time": "2023-04-26T14:53:49.262Z"
   },
   {
    "duration": 53,
    "start_time": "2023-04-26T14:53:49.708Z"
   },
   {
    "duration": 137,
    "start_time": "2023-04-26T14:53:49.918Z"
   },
   {
    "duration": 279,
    "start_time": "2023-04-26T14:53:50.327Z"
   },
   {
    "duration": 935,
    "start_time": "2023-04-26T14:53:50.951Z"
   },
   {
    "duration": 60,
    "start_time": "2023-04-26T14:53:51.888Z"
   },
   {
    "duration": 6,
    "start_time": "2023-04-26T14:53:52.095Z"
   },
   {
    "duration": 564,
    "start_time": "2023-04-26T14:53:56.022Z"
   },
   {
    "duration": 7,
    "start_time": "2023-04-26T14:53:56.798Z"
   },
   {
    "duration": 111,
    "start_time": "2023-04-26T14:54:10.975Z"
   },
   {
    "duration": 368,
    "start_time": "2023-04-26T14:54:13.094Z"
   },
   {
    "duration": 253,
    "start_time": "2023-04-26T14:54:15.182Z"
   },
   {
    "duration": 488,
    "start_time": "2023-04-26T14:54:26.550Z"
   },
   {
    "duration": 140,
    "start_time": "2023-04-26T14:54:57.325Z"
   },
   {
    "duration": 501042,
    "start_time": "2023-04-26T14:56:47.297Z"
   },
   {
    "duration": 121,
    "start_time": "2023-04-26T15:08:05.414Z"
   },
   {
    "duration": 182,
    "start_time": "2023-04-26T15:08:29.772Z"
   },
   {
    "duration": 502035,
    "start_time": "2023-04-26T15:09:13.770Z"
   },
   {
    "duration": 1509,
    "start_time": "2023-04-26T15:17:35.807Z"
   },
   {
    "duration": 4,
    "start_time": "2023-04-26T15:28:15.249Z"
   },
   {
    "duration": 1424,
    "start_time": "2023-04-26T15:28:19.616Z"
   },
   {
    "duration": 1386,
    "start_time": "2023-04-26T15:28:34.832Z"
   },
   {
    "duration": 5,
    "start_time": "2023-04-26T15:28:59.135Z"
   },
   {
    "duration": 35,
    "start_time": "2023-04-26T15:30:12.179Z"
   },
   {
    "duration": 26,
    "start_time": "2023-04-26T15:30:23.790Z"
   },
   {
    "duration": 6,
    "start_time": "2023-04-26T15:30:33.581Z"
   },
   {
    "duration": 533,
    "start_time": "2023-04-26T15:30:45.370Z"
   },
   {
    "duration": 19,
    "start_time": "2023-04-26T15:30:55.338Z"
   },
   {
    "duration": 157,
    "start_time": "2023-04-26T15:31:01.746Z"
   },
   {
    "duration": 80,
    "start_time": "2023-04-26T15:32:26.782Z"
   },
   {
    "duration": 3,
    "start_time": "2023-04-26T15:33:27.503Z"
   },
   {
    "duration": 158,
    "start_time": "2023-04-26T15:33:28.390Z"
   },
   {
    "duration": 6,
    "start_time": "2023-04-26T15:33:49.357Z"
   },
   {
    "duration": 390,
    "start_time": "2023-04-26T15:34:15.386Z"
   },
   {
    "duration": 176,
    "start_time": "2023-04-26T15:34:21.314Z"
   },
   {
    "duration": 166,
    "start_time": "2023-04-26T15:34:41.662Z"
   },
   {
    "duration": 55,
    "start_time": "2023-04-26T15:46:52.822Z"
   },
   {
    "duration": 1635,
    "start_time": "2023-04-26T15:46:59.615Z"
   },
   {
    "duration": 1189,
    "start_time": "2023-04-26T15:47:01.252Z"
   },
   {
    "duration": 123,
    "start_time": "2023-04-26T15:47:02.444Z"
   },
   {
    "duration": 121,
    "start_time": "2023-04-26T15:47:02.569Z"
   },
   {
    "duration": 15,
    "start_time": "2023-04-26T15:47:02.692Z"
   },
   {
    "duration": 105,
    "start_time": "2023-04-26T15:47:02.709Z"
   },
   {
    "duration": 12,
    "start_time": "2023-04-26T15:47:03.205Z"
   },
   {
    "duration": 59,
    "start_time": "2023-04-26T15:47:03.548Z"
   },
   {
    "duration": 129,
    "start_time": "2023-04-26T15:47:04.564Z"
   },
   {
    "duration": 6,
    "start_time": "2023-04-26T15:47:04.956Z"
   },
   {
    "duration": 99,
    "start_time": "2023-04-26T15:47:05.077Z"
   },
   {
    "duration": 64,
    "start_time": "2023-04-26T15:47:05.613Z"
   },
   {
    "duration": 127,
    "start_time": "2023-04-26T15:47:06.372Z"
   },
   {
    "duration": 135,
    "start_time": "2023-04-26T15:47:07.053Z"
   },
   {
    "duration": 5,
    "start_time": "2023-04-26T15:47:07.428Z"
   },
   {
    "duration": 452,
    "start_time": "2023-04-26T15:47:07.989Z"
   },
   {
    "duration": 64,
    "start_time": "2023-04-26T15:47:08.443Z"
   },
   {
    "duration": 129,
    "start_time": "2023-04-26T15:47:09.595Z"
   },
   {
    "duration": 266,
    "start_time": "2023-04-26T15:47:09.788Z"
   },
   {
    "duration": 922,
    "start_time": "2023-04-26T15:47:10.885Z"
   },
   {
    "duration": 55,
    "start_time": "2023-04-26T15:47:11.809Z"
   },
   {
    "duration": 6,
    "start_time": "2023-04-26T15:47:11.865Z"
   },
   {
    "duration": 83,
    "start_time": "2023-04-26T15:47:22.190Z"
   },
   {
    "duration": 19,
    "start_time": "2023-04-26T15:47:40.821Z"
   },
   {
    "duration": 1401,
    "start_time": "2023-04-26T15:47:50.530Z"
   },
   {
    "duration": 12,
    "start_time": "2023-04-26T15:47:52.939Z"
   },
   {
    "duration": 4,
    "start_time": "2023-04-26T15:47:59.867Z"
   },
   {
    "duration": 15,
    "start_time": "2023-04-26T15:48:11.907Z"
   },
   {
    "duration": 54,
    "start_time": "2023-04-26T15:48:16.683Z"
   },
   {
    "duration": 4,
    "start_time": "2023-04-26T15:48:24.890Z"
   },
   {
    "duration": 425,
    "start_time": "2023-04-26T15:48:26.994Z"
   },
   {
    "duration": 54,
    "start_time": "2023-04-26T15:48:43.633Z"
   },
   {
    "duration": 5,
    "start_time": "2023-04-26T15:48:51.218Z"
   },
   {
    "duration": 4,
    "start_time": "2023-04-26T15:49:13.152Z"
   },
   {
    "duration": 11,
    "start_time": "2023-04-26T15:49:28.929Z"
   },
   {
    "duration": 13,
    "start_time": "2023-04-26T15:49:33.007Z"
   },
   {
    "duration": 75,
    "start_time": "2023-04-26T15:49:55.711Z"
   },
   {
    "duration": 85,
    "start_time": "2023-04-26T15:49:57.655Z"
   },
   {
    "duration": 5,
    "start_time": "2023-04-26T15:50:02.103Z"
   },
   {
    "duration": 2220,
    "start_time": "2023-04-26T15:50:08.527Z"
   },
   {
    "duration": 76,
    "start_time": "2023-04-26T15:50:21.222Z"
   },
   {
    "duration": 17875,
    "start_time": "2023-04-26T15:50:49.117Z"
   },
   {
    "duration": 6,
    "start_time": "2023-04-26T15:52:00.339Z"
   },
   {
    "duration": 16941,
    "start_time": "2023-04-26T15:52:05.252Z"
   },
   {
    "duration": 4,
    "start_time": "2023-04-26T16:09:19.573Z"
   },
   {
    "duration": 33504,
    "start_time": "2023-04-26T16:09:23.987Z"
   },
   {
    "duration": 117,
    "start_time": "2023-04-26T16:12:21.949Z"
   },
   {
    "duration": 114,
    "start_time": "2023-04-26T16:13:12.588Z"
   },
   {
    "duration": 104,
    "start_time": "2023-04-26T19:43:23.943Z"
   },
   {
    "duration": 11,
    "start_time": "2023-04-26T19:43:58.796Z"
   },
   {
    "duration": 4,
    "start_time": "2023-04-26T19:44:24.268Z"
   },
   {
    "duration": 11,
    "start_time": "2023-04-26T19:44:30.203Z"
   },
   {
    "duration": 88,
    "start_time": "2023-04-26T19:45:01.897Z"
   },
   {
    "duration": 384,
    "start_time": "2023-04-26T19:45:02.265Z"
   },
   {
    "duration": 10,
    "start_time": "2023-04-26T19:45:04.712Z"
   },
   {
    "duration": 82,
    "start_time": "2023-04-26T19:45:05.552Z"
   },
   {
    "duration": 3,
    "start_time": "2023-04-26T19:47:26.277Z"
   },
   {
    "duration": 89,
    "start_time": "2023-04-26T19:47:27.643Z"
   },
   {
    "duration": 90,
    "start_time": "2023-04-26T19:47:33.683Z"
   },
   {
    "duration": 10,
    "start_time": "2023-04-26T19:49:12.311Z"
   },
   {
    "duration": 5,
    "start_time": "2023-04-26T19:49:24.719Z"
   },
   {
    "duration": 14,
    "start_time": "2023-04-26T19:49:31.022Z"
   },
   {
    "duration": 12,
    "start_time": "2023-04-26T19:49:38.668Z"
   },
   {
    "duration": 13,
    "start_time": "2023-04-26T19:49:45.438Z"
   },
   {
    "duration": 11,
    "start_time": "2023-04-26T19:49:54.421Z"
   },
   {
    "duration": 83,
    "start_time": "2023-04-26T19:50:47.146Z"
   },
   {
    "duration": 103,
    "start_time": "2023-04-26T19:52:37.334Z"
   },
   {
    "duration": 12,
    "start_time": "2023-04-26T19:53:50.684Z"
   },
   {
    "duration": 114,
    "start_time": "2023-04-26T19:54:15.026Z"
   },
   {
    "duration": 40758,
    "start_time": "2023-04-26T19:54:16.442Z"
   },
   {
    "duration": 84,
    "start_time": "2023-04-26T19:57:04.459Z"
   },
   {
    "duration": 544,
    "start_time": "2023-04-26T19:57:27.049Z"
   },
   {
    "duration": 82,
    "start_time": "2023-04-26T19:57:34.746Z"
   },
   {
    "duration": 101,
    "start_time": "2023-04-26T19:58:33.920Z"
   },
   {
    "duration": 16256,
    "start_time": "2023-04-26T20:34:32.343Z"
   },
   {
    "duration": 488,
    "start_time": "2023-04-26T20:35:33.741Z"
   },
   {
    "duration": 2112,
    "start_time": "2023-04-26T20:35:39.318Z"
   },
   {
    "duration": 12,
    "start_time": "2023-04-26T20:37:43.784Z"
   },
   {
    "duration": 20455,
    "start_time": "2023-04-26T20:37:45.024Z"
   },
   {
    "duration": 10,
    "start_time": "2023-04-26T20:38:05.481Z"
   },
   {
    "duration": 0,
    "start_time": "2023-04-26T20:38:05.493Z"
   },
   {
    "duration": 0,
    "start_time": "2023-04-26T20:38:05.494Z"
   },
   {
    "duration": 0,
    "start_time": "2023-04-26T20:38:05.495Z"
   },
   {
    "duration": 21,
    "start_time": "2023-04-26T20:38:09.207Z"
   },
   {
    "duration": 71,
    "start_time": "2023-04-26T20:38:14.095Z"
   },
   {
    "duration": 68132,
    "start_time": "2023-04-26T20:38:15.372Z"
   },
   {
    "duration": 4,
    "start_time": "2023-04-26T20:41:20.753Z"
   },
   {
    "duration": 21,
    "start_time": "2023-04-26T20:41:27.135Z"
   },
   {
    "duration": 68,
    "start_time": "2023-04-26T20:41:44.120Z"
   },
   {
    "duration": 69283,
    "start_time": "2023-04-26T20:41:45.236Z"
   },
   {
    "duration": 5,
    "start_time": "2023-04-26T20:43:00.787Z"
   },
   {
    "duration": 2112,
    "start_time": "2023-04-26T20:43:01.797Z"
   },
   {
    "duration": 16,
    "start_time": "2023-04-26T20:43:09.532Z"
   },
   {
    "duration": 2137,
    "start_time": "2023-04-26T20:43:29.588Z"
   },
   {
    "duration": 5,
    "start_time": "2023-04-26T20:46:59.019Z"
   },
   {
    "duration": 415,
    "start_time": "2023-04-26T20:48:52.119Z"
   },
   {
    "duration": 10,
    "start_time": "2023-04-26T20:49:23.141Z"
   },
   {
    "duration": 1687,
    "start_time": "2023-04-26T20:49:57.574Z"
   },
   {
    "duration": 77,
    "start_time": "2023-04-26T20:50:00.277Z"
   },
   {
    "duration": 86,
    "start_time": "2023-04-26T20:50:11.515Z"
   },
   {
    "duration": 68973,
    "start_time": "2023-04-26T20:50:11.874Z"
   },
   {
    "duration": 4,
    "start_time": "2023-04-26T20:51:20.849Z"
   },
   {
    "duration": 2330,
    "start_time": "2023-04-26T20:51:20.856Z"
   },
   {
    "duration": 0,
    "start_time": "2023-04-26T20:51:23.188Z"
   },
   {
    "duration": 105,
    "start_time": "2023-04-26T20:51:45.361Z"
   },
   {
    "duration": 16,
    "start_time": "2023-04-26T20:53:14.485Z"
   },
   {
    "duration": 2116,
    "start_time": "2023-04-26T20:53:23.167Z"
   },
   {
    "duration": 0,
    "start_time": "2023-04-26T20:53:25.285Z"
   },
   {
    "duration": 180767,
    "start_time": "2023-04-26T20:54:02.202Z"
   },
   {
    "duration": 18,
    "start_time": "2023-04-26T20:57:02.972Z"
   },
   {
    "duration": 84,
    "start_time": "2023-04-26T20:57:17.697Z"
   },
   {
    "duration": 466,
    "start_time": "2023-04-26T20:57:46.360Z"
   },
   {
    "duration": 490544,
    "start_time": "2023-04-26T20:57:49.559Z"
   },
   {
    "duration": 85,
    "start_time": "2023-04-26T21:06:21.002Z"
   },
   {
    "duration": 5,
    "start_time": "2023-04-26T21:06:44.768Z"
   },
   {
    "duration": 1038,
    "start_time": "2023-04-26T21:06:51.856Z"
   },
   {
    "duration": 62850,
    "start_time": "2023-04-26T21:09:18.395Z"
   },
   {
    "duration": 9,
    "start_time": "2023-04-26T21:11:06.022Z"
   },
   {
    "duration": 9,
    "start_time": "2023-04-26T21:11:09.286Z"
   },
   {
    "duration": 5,
    "start_time": "2023-04-26T21:11:47.133Z"
   },
   {
    "duration": 19,
    "start_time": "2023-04-26T21:12:32.986Z"
   },
   {
    "duration": 1440,
    "start_time": "2023-04-26T21:12:35.890Z"
   },
   {
    "duration": 5,
    "start_time": "2023-04-26T21:12:38.842Z"
   },
   {
    "duration": 476,
    "start_time": "2023-04-26T21:12:40.442Z"
   },
   {
    "duration": 54,
    "start_time": "2023-04-26T21:12:40.922Z"
   },
   {
    "duration": 4,
    "start_time": "2023-04-26T21:12:41.489Z"
   },
   {
    "duration": 4,
    "start_time": "2023-04-26T21:12:43.761Z"
   },
   {
    "duration": 51,
    "start_time": "2023-04-26T21:12:47.654Z"
   },
   {
    "duration": 7,
    "start_time": "2023-04-26T21:12:51.713Z"
   },
   {
    "duration": 1517,
    "start_time": "2023-04-26T21:15:12.337Z"
   },
   {
    "duration": 3167,
    "start_time": "2023-04-26T21:15:13.856Z"
   },
   {
    "duration": 113,
    "start_time": "2023-04-26T21:15:17.024Z"
   },
   {
    "duration": 123,
    "start_time": "2023-04-26T21:15:17.140Z"
   },
   {
    "duration": 25,
    "start_time": "2023-04-26T21:15:17.265Z"
   },
   {
    "duration": 43,
    "start_time": "2023-04-26T21:15:17.291Z"
   },
   {
    "duration": 9,
    "start_time": "2023-04-26T21:15:17.336Z"
   },
   {
    "duration": 80,
    "start_time": "2023-04-26T21:15:17.347Z"
   },
   {
    "duration": 139,
    "start_time": "2023-04-26T21:15:17.429Z"
   },
   {
    "duration": 6,
    "start_time": "2023-04-26T21:15:17.572Z"
   },
   {
    "duration": 129,
    "start_time": "2023-04-26T21:15:17.579Z"
   },
   {
    "duration": 64,
    "start_time": "2023-04-26T21:15:17.710Z"
   },
   {
    "duration": 138,
    "start_time": "2023-04-26T21:15:17.776Z"
   },
   {
    "duration": 139,
    "start_time": "2023-04-26T21:15:17.916Z"
   },
   {
    "duration": 4,
    "start_time": "2023-04-26T21:15:18.057Z"
   },
   {
    "duration": 465,
    "start_time": "2023-04-26T21:15:18.063Z"
   },
   {
    "duration": 59,
    "start_time": "2023-04-26T21:15:18.530Z"
   },
   {
    "duration": 138,
    "start_time": "2023-04-26T21:15:18.591Z"
   },
   {
    "duration": 264,
    "start_time": "2023-04-26T21:15:18.730Z"
   },
   {
    "duration": 849,
    "start_time": "2023-04-26T21:15:18.996Z"
   },
   {
    "duration": 63,
    "start_time": "2023-04-26T21:15:19.846Z"
   },
   {
    "duration": 8,
    "start_time": "2023-04-26T21:15:19.911Z"
   },
   {
    "duration": 7,
    "start_time": "2023-04-26T21:15:19.920Z"
   },
   {
    "duration": 19,
    "start_time": "2023-04-26T21:15:19.935Z"
   },
   {
    "duration": 1334,
    "start_time": "2023-04-26T21:15:19.955Z"
   },
   {
    "duration": 4,
    "start_time": "2023-04-26T21:15:21.292Z"
   },
   {
    "duration": 528,
    "start_time": "2023-04-26T21:15:21.298Z"
   },
   {
    "duration": 63,
    "start_time": "2023-04-26T21:15:21.831Z"
   },
   {
    "duration": 5,
    "start_time": "2023-04-26T21:15:21.896Z"
   },
   {
    "duration": 7,
    "start_time": "2023-04-26T21:15:21.903Z"
   },
   {
    "duration": 2531,
    "start_time": "2023-04-26T21:15:21.912Z"
   },
   {
    "duration": 77,
    "start_time": "2023-04-26T21:15:24.445Z"
   },
   {
    "duration": 24082,
    "start_time": "2023-04-26T21:15:24.524Z"
   },
   {
    "duration": 176,
    "start_time": "2023-04-26T21:15:48.690Z"
   },
   {
    "duration": 67237,
    "start_time": "2023-04-26T21:15:48.868Z"
   },
   {
    "duration": 4,
    "start_time": "2023-04-26T21:16:56.107Z"
   },
   {
    "duration": 2347,
    "start_time": "2023-04-26T21:16:56.112Z"
   },
   {
    "duration": 0,
    "start_time": "2023-04-26T21:16:58.460Z"
   },
   {
    "duration": 0,
    "start_time": "2023-04-26T21:16:58.462Z"
   },
   {
    "duration": 0,
    "start_time": "2023-04-26T21:16:58.463Z"
   },
   {
    "duration": 0,
    "start_time": "2023-04-26T21:16:58.464Z"
   },
   {
    "duration": 0,
    "start_time": "2023-04-26T21:16:58.465Z"
   },
   {
    "duration": 0,
    "start_time": "2023-04-26T21:16:58.466Z"
   },
   {
    "duration": 0,
    "start_time": "2023-04-26T21:16:58.467Z"
   },
   {
    "duration": 0,
    "start_time": "2023-04-26T21:16:58.468Z"
   },
   {
    "duration": 64497,
    "start_time": "2023-04-26T21:17:36.606Z"
   },
   {
    "duration": 687,
    "start_time": "2023-04-26T21:18:41.106Z"
   },
   {
    "duration": 670,
    "start_time": "2023-04-26T21:18:41.796Z"
   },
   {
    "duration": 62634,
    "start_time": "2023-04-26T21:18:42.469Z"
   },
   {
    "duration": 9027,
    "start_time": "2023-04-26T21:19:45.105Z"
   },
   {
    "duration": 17,
    "start_time": "2023-04-26T21:21:23.836Z"
   },
   {
    "duration": 2108,
    "start_time": "2023-04-26T21:21:39.149Z"
   },
   {
    "duration": 75,
    "start_time": "2023-04-26T21:23:13.424Z"
   },
   {
    "duration": 72,
    "start_time": "2023-04-26T21:24:09.854Z"
   },
   {
    "duration": 85,
    "start_time": "2023-04-26T21:28:01.749Z"
   },
   {
    "duration": 70,
    "start_time": "2023-04-26T21:30:19.319Z"
   },
   {
    "duration": 1917,
    "start_time": "2023-04-28T07:38:09.935Z"
   },
   {
    "duration": 1464,
    "start_time": "2023-04-28T07:38:16.618Z"
   },
   {
    "duration": 1266,
    "start_time": "2023-04-28T07:38:18.086Z"
   },
   {
    "duration": 99,
    "start_time": "2023-04-28T07:38:19.353Z"
   },
   {
    "duration": 130,
    "start_time": "2023-04-28T07:38:19.454Z"
   },
   {
    "duration": 15,
    "start_time": "2023-04-28T07:38:19.587Z"
   },
   {
    "duration": 43,
    "start_time": "2023-04-28T07:38:19.604Z"
   },
   {
    "duration": 35,
    "start_time": "2023-04-28T07:38:19.649Z"
   },
   {
    "duration": 69,
    "start_time": "2023-04-28T07:38:19.686Z"
   },
   {
    "duration": 164,
    "start_time": "2023-04-28T07:38:19.757Z"
   },
   {
    "duration": 5,
    "start_time": "2023-04-28T07:38:19.924Z"
   },
   {
    "duration": 121,
    "start_time": "2023-04-28T07:38:19.931Z"
   },
   {
    "duration": 70,
    "start_time": "2023-04-28T07:38:20.054Z"
   },
   {
    "duration": 152,
    "start_time": "2023-04-28T07:38:20.126Z"
   },
   {
    "duration": 143,
    "start_time": "2023-04-28T07:38:20.279Z"
   },
   {
    "duration": 4,
    "start_time": "2023-04-28T07:38:20.424Z"
   },
   {
    "duration": 518,
    "start_time": "2023-04-28T07:38:20.430Z"
   },
   {
    "duration": 78,
    "start_time": "2023-04-28T07:38:20.950Z"
   },
   {
    "duration": 142,
    "start_time": "2023-04-28T07:38:21.030Z"
   },
   {
    "duration": 269,
    "start_time": "2023-04-28T07:38:21.173Z"
   },
   {
    "duration": 686,
    "start_time": "2023-04-28T07:38:21.444Z"
   },
   {
    "duration": 56,
    "start_time": "2023-04-28T07:38:22.131Z"
   },
   {
    "duration": 7,
    "start_time": "2023-04-28T07:38:22.190Z"
   },
   {
    "duration": 47,
    "start_time": "2023-04-28T07:38:22.199Z"
   },
   {
    "duration": 24,
    "start_time": "2023-04-28T07:38:22.248Z"
   },
   {
    "duration": 1084,
    "start_time": "2023-04-28T07:38:22.274Z"
   },
   {
    "duration": 2,
    "start_time": "2023-04-28T07:38:23.360Z"
   },
   {
    "duration": 529,
    "start_time": "2023-04-28T07:38:23.364Z"
   },
   {
    "duration": 49,
    "start_time": "2023-04-28T07:38:23.898Z"
   },
   {
    "duration": 5,
    "start_time": "2023-04-28T07:38:23.948Z"
   },
   {
    "duration": 47,
    "start_time": "2023-04-28T07:38:23.955Z"
   },
   {
    "duration": 2374,
    "start_time": "2023-04-28T07:38:24.004Z"
   },
   {
    "duration": 78,
    "start_time": "2023-04-28T07:38:26.380Z"
   },
   {
    "duration": 18246,
    "start_time": "2023-04-28T07:38:26.460Z"
   },
   {
    "duration": 63327,
    "start_time": "2023-04-28T07:38:44.784Z"
   },
   {
    "duration": 574,
    "start_time": "2023-04-28T07:39:48.113Z"
   },
   {
    "duration": 753,
    "start_time": "2023-04-28T07:39:48.689Z"
   },
   {
    "duration": 485459,
    "start_time": "2023-04-28T07:39:49.444Z"
   },
   {
    "duration": 8991,
    "start_time": "2023-04-28T07:47:54.905Z"
   },
   {
    "duration": 67,
    "start_time": "2023-04-28T08:06:01.881Z"
   },
   {
    "duration": 146,
    "start_time": "2023-04-28T08:06:10.824Z"
   },
   {
    "duration": 22,
    "start_time": "2023-04-28T08:06:31.081Z"
   },
   {
    "duration": 821,
    "start_time": "2023-04-28T08:06:33.572Z"
   },
   {
    "duration": 11,
    "start_time": "2023-04-28T08:06:35.708Z"
   },
   {
    "duration": 902,
    "start_time": "2023-04-28T08:06:51.231Z"
   },
   {
    "duration": 1211,
    "start_time": "2023-04-28T08:07:16.174Z"
   },
   {
    "duration": 1078,
    "start_time": "2023-04-28T08:07:21.621Z"
   },
   {
    "duration": 52635,
    "start_time": "2023-04-28T08:07:55.868Z"
   },
   {
    "duration": 15,
    "start_time": "2023-04-28T08:12:26.677Z"
   },
   {
    "duration": 10,
    "start_time": "2023-04-28T08:13:10.311Z"
   },
   {
    "duration": 27937,
    "start_time": "2023-04-28T08:13:16.681Z"
   },
   {
    "duration": 781,
    "start_time": "2023-04-28T08:13:44.620Z"
   },
   {
    "duration": 17,
    "start_time": "2023-04-28T08:21:50.877Z"
   },
   {
    "duration": 88,
    "start_time": "2023-04-28T09:37:44.913Z"
   },
   {
    "duration": 289,
    "start_time": "2023-04-28T09:38:03.081Z"
   },
   {
    "duration": 76,
    "start_time": "2023-04-28T09:38:32.160Z"
   },
   {
    "duration": 8976,
    "start_time": "2023-04-28T09:39:59.939Z"
   },
   {
    "duration": 8844,
    "start_time": "2023-04-28T09:40:19.346Z"
   },
   {
    "duration": 538,
    "start_time": "2023-04-28T09:42:11.038Z"
   },
   {
    "duration": 110,
    "start_time": "2023-04-28T09:42:16.438Z"
   },
   {
    "duration": 48,
    "start_time": "2023-04-28T09:44:05.610Z"
   },
   {
    "duration": 518,
    "start_time": "2023-04-28T09:44:13.931Z"
   },
   {
    "duration": 1605,
    "start_time": "2023-04-28T09:47:23.821Z"
   },
   {
    "duration": 1195,
    "start_time": "2023-04-28T09:47:25.428Z"
   },
   {
    "duration": 103,
    "start_time": "2023-04-28T09:47:26.624Z"
   },
   {
    "duration": 146,
    "start_time": "2023-04-28T09:47:26.730Z"
   },
   {
    "duration": 61,
    "start_time": "2023-04-28T09:47:26.877Z"
   },
   {
    "duration": 76,
    "start_time": "2023-04-28T09:47:26.940Z"
   },
   {
    "duration": 11,
    "start_time": "2023-04-28T09:47:27.018Z"
   },
   {
    "duration": 93,
    "start_time": "2023-04-28T09:47:27.031Z"
   },
   {
    "duration": 150,
    "start_time": "2023-04-28T09:47:27.126Z"
   },
   {
    "duration": 12,
    "start_time": "2023-04-28T09:47:27.279Z"
   },
   {
    "duration": 171,
    "start_time": "2023-04-28T09:47:27.293Z"
   },
   {
    "duration": 72,
    "start_time": "2023-04-28T09:47:27.465Z"
   },
   {
    "duration": 144,
    "start_time": "2023-04-28T09:47:27.539Z"
   },
   {
    "duration": 144,
    "start_time": "2023-04-28T09:47:27.690Z"
   },
   {
    "duration": 4,
    "start_time": "2023-04-28T09:47:27.836Z"
   },
   {
    "duration": 531,
    "start_time": "2023-04-28T09:47:27.842Z"
   },
   {
    "duration": 65,
    "start_time": "2023-04-28T09:47:28.375Z"
   },
   {
    "duration": 138,
    "start_time": "2023-04-28T09:47:28.442Z"
   },
   {
    "duration": 278,
    "start_time": "2023-04-28T09:47:28.586Z"
   },
   {
    "duration": 755,
    "start_time": "2023-04-28T09:47:28.866Z"
   },
   {
    "duration": 48,
    "start_time": "2023-04-28T09:47:29.623Z"
   },
   {
    "duration": 23,
    "start_time": "2023-04-28T09:47:29.673Z"
   },
   {
    "duration": 38,
    "start_time": "2023-04-28T09:47:29.704Z"
   },
   {
    "duration": 30,
    "start_time": "2023-04-28T09:47:29.744Z"
   },
   {
    "duration": 5,
    "start_time": "2023-04-28T09:47:29.776Z"
   },
   {
    "duration": 51,
    "start_time": "2023-04-28T09:47:29.782Z"
   },
   {
    "duration": 586,
    "start_time": "2023-04-28T09:47:29.835Z"
   },
   {
    "duration": 59,
    "start_time": "2023-04-28T09:47:30.425Z"
   },
   {
    "duration": 112,
    "start_time": "2023-04-28T09:47:30.486Z"
   },
   {
    "duration": 315,
    "start_time": "2023-04-28T09:47:30.600Z"
   },
   {
    "duration": 0,
    "start_time": "2023-04-28T09:47:30.917Z"
   },
   {
    "duration": 0,
    "start_time": "2023-04-28T09:47:30.918Z"
   },
   {
    "duration": 0,
    "start_time": "2023-04-28T09:47:30.919Z"
   },
   {
    "duration": 0,
    "start_time": "2023-04-28T09:47:30.920Z"
   },
   {
    "duration": 0,
    "start_time": "2023-04-28T09:47:30.921Z"
   },
   {
    "duration": 0,
    "start_time": "2023-04-28T09:47:30.922Z"
   },
   {
    "duration": 0,
    "start_time": "2023-04-28T09:47:30.923Z"
   },
   {
    "duration": 0,
    "start_time": "2023-04-28T09:47:30.925Z"
   },
   {
    "duration": 0,
    "start_time": "2023-04-28T09:47:30.926Z"
   },
   {
    "duration": 0,
    "start_time": "2023-04-28T09:47:30.927Z"
   },
   {
    "duration": 0,
    "start_time": "2023-04-28T09:47:30.928Z"
   },
   {
    "duration": 0,
    "start_time": "2023-04-28T09:47:30.929Z"
   },
   {
    "duration": 1275,
    "start_time": "2023-04-28T09:48:01.640Z"
   },
   {
    "duration": 3,
    "start_time": "2023-04-28T09:48:04.536Z"
   },
   {
    "duration": 577,
    "start_time": "2023-04-28T09:48:05.336Z"
   },
   {
    "duration": 52,
    "start_time": "2023-04-28T09:48:12.616Z"
   },
   {
    "duration": 4,
    "start_time": "2023-04-28T09:48:12.823Z"
   },
   {
    "duration": 5,
    "start_time": "2023-04-28T09:48:16.966Z"
   },
   {
    "duration": 2524,
    "start_time": "2023-04-28T09:48:18.206Z"
   },
   {
    "duration": 89,
    "start_time": "2023-04-28T09:48:20.732Z"
   },
   {
    "duration": 10,
    "start_time": "2023-04-28T09:48:29.016Z"
   },
   {
    "duration": 31343,
    "start_time": "2023-04-28T09:48:31.447Z"
   },
   {
    "duration": 107,
    "start_time": "2023-04-28T09:49:02.794Z"
   },
   {
    "duration": 0,
    "start_time": "2023-04-28T09:49:02.908Z"
   },
   {
    "duration": 0,
    "start_time": "2023-04-28T09:49:02.910Z"
   },
   {
    "duration": 807,
    "start_time": "2023-04-28T09:49:18.981Z"
   },
   {
    "duration": 71684,
    "start_time": "2023-04-28T09:49:23.509Z"
   },
   {
    "duration": 51841,
    "start_time": "2023-04-28T09:50:35.198Z"
   },
   {
    "duration": 1595,
    "start_time": "2023-04-28T09:51:27.041Z"
   },
   {
    "duration": 1272,
    "start_time": "2023-04-28T09:51:28.690Z"
   },
   {
    "duration": 66,
    "start_time": "2023-04-28T10:23:17.327Z"
   },
   {
    "duration": 5,
    "start_time": "2023-04-28T10:27:38.803Z"
   },
   {
    "duration": 5,
    "start_time": "2023-04-28T10:27:47.818Z"
   },
   {
    "duration": 5,
    "start_time": "2023-04-28T10:27:50.842Z"
   },
   {
    "duration": 6,
    "start_time": "2023-04-28T10:27:57.258Z"
   },
   {
    "duration": 14,
    "start_time": "2023-04-28T10:29:01.023Z"
   },
   {
    "duration": 14,
    "start_time": "2023-04-28T10:29:48.606Z"
   },
   {
    "duration": 5,
    "start_time": "2023-04-28T10:30:02.767Z"
   },
   {
    "duration": 5,
    "start_time": "2023-04-28T10:30:06.181Z"
   },
   {
    "duration": 5,
    "start_time": "2023-04-28T10:30:09.653Z"
   },
   {
    "duration": 644,
    "start_time": "2023-04-28T10:30:38.940Z"
   },
   {
    "duration": 45769,
    "start_time": "2023-04-28T10:30:57.772Z"
   },
   {
    "duration": 800,
    "start_time": "2023-04-28T10:31:44.387Z"
   },
   {
    "duration": 720,
    "start_time": "2023-04-28T10:31:48.362Z"
   },
   {
    "duration": 527,
    "start_time": "2023-04-28T10:32:24.660Z"
   },
   {
    "duration": 18,
    "start_time": "2023-04-28T10:34:10.788Z"
   },
   {
    "duration": 13,
    "start_time": "2023-04-28T10:34:48.874Z"
   },
   {
    "duration": 8,
    "start_time": "2023-04-28T10:35:06.234Z"
   },
   {
    "duration": 46004,
    "start_time": "2023-04-28T10:37:08.438Z"
   },
   {
    "duration": 532,
    "start_time": "2023-04-28T10:38:24.023Z"
   },
   {
    "duration": 228423,
    "start_time": "2023-04-28T10:38:24.961Z"
   },
   {
    "duration": 8535,
    "start_time": "2023-04-28T10:42:13.386Z"
   },
   {
    "duration": 18,
    "start_time": "2023-04-28T10:42:21.923Z"
   },
   {
    "duration": 25,
    "start_time": "2023-04-28T11:06:00.137Z"
   },
   {
    "duration": 30,
    "start_time": "2023-04-28T11:06:14.056Z"
   },
   {
    "duration": 1013,
    "start_time": "2023-04-28T11:06:50.074Z"
   },
   {
    "duration": 1048,
    "start_time": "2023-04-28T11:06:53.646Z"
   },
   {
    "duration": 887,
    "start_time": "2023-04-28T11:07:05.742Z"
   },
   {
    "duration": 1112,
    "start_time": "2023-04-28T11:07:33.287Z"
   },
   {
    "duration": 969,
    "start_time": "2023-04-28T11:07:47.916Z"
   },
   {
    "duration": 48111,
    "start_time": "2023-04-28T11:08:30.476Z"
   },
   {
    "duration": 70,
    "start_time": "2023-04-28T11:09:44.344Z"
   },
   {
    "duration": 53,
    "start_time": "2023-04-28T11:10:20.343Z"
   },
   {
    "duration": 78,
    "start_time": "2023-04-28T11:10:27.133Z"
   },
   {
    "duration": 90,
    "start_time": "2023-04-28T11:11:37.188Z"
   },
   {
    "duration": 1029,
    "start_time": "2023-04-28T11:15:15.547Z"
   },
   {
    "duration": 254,
    "start_time": "2023-04-28T11:15:39.650Z"
   },
   {
    "duration": 153,
    "start_time": "2023-04-28T11:16:05.003Z"
   },
   {
    "duration": 8553,
    "start_time": "2023-04-28T11:16:29.032Z"
   },
   {
    "duration": 365,
    "start_time": "2023-04-28T11:18:20.596Z"
   },
   {
    "duration": 8692,
    "start_time": "2023-04-28T11:18:28.099Z"
   },
   {
    "duration": 9044,
    "start_time": "2023-04-28T11:19:53.208Z"
   },
   {
    "duration": 3,
    "start_time": "2023-04-28T11:21:48.373Z"
   },
   {
    "duration": 15,
    "start_time": "2023-04-28T11:21:50.547Z"
   },
   {
    "duration": 90,
    "start_time": "2023-04-28T11:22:08.539Z"
   },
   {
    "duration": 57,
    "start_time": "2023-04-28T11:22:34.545Z"
   },
   {
    "duration": 6,
    "start_time": "2023-04-28T11:22:56.697Z"
   },
   {
    "duration": 46534,
    "start_time": "2023-04-28T11:23:11.248Z"
   },
   {
    "duration": 3,
    "start_time": "2023-04-28T11:25:36.365Z"
   },
   {
    "duration": 8480,
    "start_time": "2023-04-28T11:25:43.329Z"
   },
   {
    "duration": 837,
    "start_time": "2023-04-28T11:43:56.597Z"
   },
   {
    "duration": 47732,
    "start_time": "2023-04-28T11:44:54.116Z"
   },
   {
    "duration": 552,
    "start_time": "2023-04-28T11:45:41.850Z"
   },
   {
    "duration": 49091,
    "start_time": "2023-04-28T11:47:55.498Z"
   },
   {
    "duration": 8416,
    "start_time": "2023-04-28T11:51:28.689Z"
   },
   {
    "duration": 3,
    "start_time": "2023-04-28T11:54:05.151Z"
   },
   {
    "duration": 7974,
    "start_time": "2023-04-28T11:54:09.255Z"
   },
   {
    "duration": 17,
    "start_time": "2023-04-28T12:03:39.097Z"
   },
   {
    "duration": 73,
    "start_time": "2023-04-28T12:04:01.093Z"
   },
   {
    "duration": 64,
    "start_time": "2023-04-28T12:04:04.672Z"
   },
   {
    "duration": 31,
    "start_time": "2023-04-28T12:04:38.927Z"
   },
   {
    "duration": 46,
    "start_time": "2023-04-28T12:04:41.497Z"
   },
   {
    "duration": 27,
    "start_time": "2023-04-28T12:04:43.807Z"
   },
   {
    "duration": 28,
    "start_time": "2023-04-28T12:04:57.116Z"
   },
   {
    "duration": 247228,
    "start_time": "2023-04-28T12:05:06.160Z"
   },
   {
    "duration": 60,
    "start_time": "2023-04-28T12:09:13.390Z"
   },
   {
    "duration": 0,
    "start_time": "2023-04-28T12:09:13.452Z"
   },
   {
    "duration": 9,
    "start_time": "2023-04-28T12:10:06.508Z"
   },
   {
    "duration": 9,
    "start_time": "2023-04-28T12:10:21.475Z"
   },
   {
    "duration": 511,
    "start_time": "2023-04-28T12:13:39.019Z"
   },
   {
    "duration": 42056,
    "start_time": "2023-04-28T12:13:41.228Z"
   },
   {
    "duration": 9337,
    "start_time": "2023-04-28T12:14:23.286Z"
   },
   {
    "duration": 90,
    "start_time": "2023-04-28T12:17:29.844Z"
   },
   {
    "duration": 10031,
    "start_time": "2023-04-28T12:17:45.755Z"
   },
   {
    "duration": 10175,
    "start_time": "2023-04-28T12:19:23.808Z"
   },
   {
    "duration": 0,
    "start_time": "2023-04-28T12:21:12.029Z"
   },
   {
    "duration": 48939,
    "start_time": "2023-04-28T12:21:48.145Z"
   },
   {
    "duration": 1721,
    "start_time": "2023-04-28T12:25:00.686Z"
   },
   {
    "duration": 1106,
    "start_time": "2023-04-28T12:25:02.409Z"
   },
   {
    "duration": 171,
    "start_time": "2023-04-28T12:25:03.517Z"
   },
   {
    "duration": 128,
    "start_time": "2023-04-28T12:25:03.690Z"
   },
   {
    "duration": 23,
    "start_time": "2023-04-28T12:25:03.821Z"
   },
   {
    "duration": 69,
    "start_time": "2023-04-28T12:25:03.846Z"
   },
   {
    "duration": 10,
    "start_time": "2023-04-28T12:25:03.917Z"
   },
   {
    "duration": 98,
    "start_time": "2023-04-28T12:25:03.929Z"
   },
   {
    "duration": 136,
    "start_time": "2023-04-28T12:25:04.030Z"
   },
   {
    "duration": 5,
    "start_time": "2023-04-28T12:25:04.169Z"
   },
   {
    "duration": 122,
    "start_time": "2023-04-28T12:25:04.183Z"
   },
   {
    "duration": 59,
    "start_time": "2023-04-28T12:25:04.307Z"
   },
   {
    "duration": 138,
    "start_time": "2023-04-28T12:25:04.369Z"
   },
   {
    "duration": 128,
    "start_time": "2023-04-28T12:25:04.509Z"
   },
   {
    "duration": 5,
    "start_time": "2023-04-28T12:25:04.639Z"
   },
   {
    "duration": 459,
    "start_time": "2023-04-28T12:25:04.646Z"
   },
   {
    "duration": 77,
    "start_time": "2023-04-28T12:25:05.108Z"
   },
   {
    "duration": 177,
    "start_time": "2023-04-28T12:25:05.188Z"
   },
   {
    "duration": 268,
    "start_time": "2023-04-28T12:25:05.367Z"
   },
   {
    "duration": 967,
    "start_time": "2023-04-28T12:25:05.637Z"
   },
   {
    "duration": 61,
    "start_time": "2023-04-28T12:25:06.606Z"
   },
   {
    "duration": 19,
    "start_time": "2023-04-28T12:25:06.669Z"
   },
   {
    "duration": 23,
    "start_time": "2023-04-28T12:25:06.690Z"
   },
   {
    "duration": 37,
    "start_time": "2023-04-28T12:25:06.715Z"
   },
   {
    "duration": 181,
    "start_time": "2023-04-28T12:25:06.754Z"
   },
   {
    "duration": 0,
    "start_time": "2023-04-28T12:25:06.937Z"
   },
   {
    "duration": 0,
    "start_time": "2023-04-28T12:25:06.939Z"
   },
   {
    "duration": 0,
    "start_time": "2023-04-28T12:25:06.940Z"
   },
   {
    "duration": 0,
    "start_time": "2023-04-28T12:25:06.941Z"
   },
   {
    "duration": 0,
    "start_time": "2023-04-28T12:25:06.942Z"
   },
   {
    "duration": 0,
    "start_time": "2023-04-28T12:25:06.943Z"
   },
   {
    "duration": 0,
    "start_time": "2023-04-28T12:25:06.944Z"
   },
   {
    "duration": 0,
    "start_time": "2023-04-28T12:25:06.945Z"
   },
   {
    "duration": 0,
    "start_time": "2023-04-28T12:25:06.946Z"
   },
   {
    "duration": 0,
    "start_time": "2023-04-28T12:25:06.947Z"
   },
   {
    "duration": 0,
    "start_time": "2023-04-28T12:25:06.948Z"
   },
   {
    "duration": 0,
    "start_time": "2023-04-28T12:25:06.949Z"
   },
   {
    "duration": 0,
    "start_time": "2023-04-28T12:25:06.950Z"
   },
   {
    "duration": 0,
    "start_time": "2023-04-28T12:25:06.951Z"
   },
   {
    "duration": 0,
    "start_time": "2023-04-28T12:25:06.952Z"
   },
   {
    "duration": 0,
    "start_time": "2023-04-28T12:25:06.953Z"
   },
   {
    "duration": 0,
    "start_time": "2023-04-28T12:25:06.954Z"
   },
   {
    "duration": 0,
    "start_time": "2023-04-28T12:25:06.955Z"
   },
   {
    "duration": 1396,
    "start_time": "2023-04-28T12:27:03.349Z"
   },
   {
    "duration": 1028,
    "start_time": "2023-04-28T12:27:04.748Z"
   },
   {
    "duration": 135,
    "start_time": "2023-04-28T12:27:05.778Z"
   },
   {
    "duration": 122,
    "start_time": "2023-04-28T12:27:05.915Z"
   },
   {
    "duration": 22,
    "start_time": "2023-04-28T12:27:06.039Z"
   },
   {
    "duration": 58,
    "start_time": "2023-04-28T12:27:06.063Z"
   },
   {
    "duration": 7,
    "start_time": "2023-04-28T12:27:06.123Z"
   },
   {
    "duration": 79,
    "start_time": "2023-04-28T12:27:06.132Z"
   },
   {
    "duration": 127,
    "start_time": "2023-04-28T12:27:06.212Z"
   },
   {
    "duration": 5,
    "start_time": "2023-04-28T12:27:06.342Z"
   },
   {
    "duration": 121,
    "start_time": "2023-04-28T12:27:06.348Z"
   },
   {
    "duration": 62,
    "start_time": "2023-04-28T12:27:06.470Z"
   },
   {
    "duration": 130,
    "start_time": "2023-04-28T12:27:06.534Z"
   },
   {
    "duration": 123,
    "start_time": "2023-04-28T12:27:06.666Z"
   },
   {
    "duration": 4,
    "start_time": "2023-04-28T12:27:06.790Z"
   },
   {
    "duration": 445,
    "start_time": "2023-04-28T12:27:06.796Z"
   },
   {
    "duration": 57,
    "start_time": "2023-04-28T12:27:07.243Z"
   },
   {
    "duration": 151,
    "start_time": "2023-04-28T12:27:07.302Z"
   },
   {
    "duration": 243,
    "start_time": "2023-04-28T12:27:07.455Z"
   },
   {
    "duration": 672,
    "start_time": "2023-04-28T12:27:07.699Z"
   },
   {
    "duration": 59,
    "start_time": "2023-04-28T12:27:08.373Z"
   },
   {
    "duration": 5,
    "start_time": "2023-04-28T12:27:08.433Z"
   },
   {
    "duration": 30,
    "start_time": "2023-04-28T12:27:08.439Z"
   },
   {
    "duration": 28,
    "start_time": "2023-04-28T12:27:08.471Z"
   },
   {
    "duration": 7,
    "start_time": "2023-04-28T12:27:08.501Z"
   },
   {
    "duration": 524,
    "start_time": "2023-04-28T12:27:08.510Z"
   },
   {
    "duration": 60,
    "start_time": "2023-04-28T12:27:09.036Z"
   },
   {
    "duration": 4,
    "start_time": "2023-04-28T12:27:09.100Z"
   },
   {
    "duration": 160,
    "start_time": "2023-04-28T12:27:09.105Z"
   },
   {
    "duration": 0,
    "start_time": "2023-04-28T12:27:09.267Z"
   },
   {
    "duration": 0,
    "start_time": "2023-04-28T12:27:09.269Z"
   },
   {
    "duration": 0,
    "start_time": "2023-04-28T12:27:09.270Z"
   },
   {
    "duration": 1,
    "start_time": "2023-04-28T12:27:09.283Z"
   },
   {
    "duration": 0,
    "start_time": "2023-04-28T12:27:09.285Z"
   },
   {
    "duration": 0,
    "start_time": "2023-04-28T12:27:09.287Z"
   },
   {
    "duration": 0,
    "start_time": "2023-04-28T12:27:09.288Z"
   },
   {
    "duration": 0,
    "start_time": "2023-04-28T12:27:09.290Z"
   },
   {
    "duration": 0,
    "start_time": "2023-04-28T12:27:09.291Z"
   },
   {
    "duration": 0,
    "start_time": "2023-04-28T12:27:09.293Z"
   },
   {
    "duration": 0,
    "start_time": "2023-04-28T12:27:09.294Z"
   },
   {
    "duration": 0,
    "start_time": "2023-04-28T12:27:09.296Z"
   },
   {
    "duration": 0,
    "start_time": "2023-04-28T12:27:09.297Z"
   },
   {
    "duration": 48,
    "start_time": "2023-04-28T12:28:59.360Z"
   },
   {
    "duration": 11,
    "start_time": "2023-04-28T12:29:37.342Z"
   },
   {
    "duration": 11,
    "start_time": "2023-04-28T12:29:51.054Z"
   },
   {
    "duration": 12,
    "start_time": "2023-04-28T12:29:54.786Z"
   },
   {
    "duration": 1116,
    "start_time": "2023-04-28T12:29:58.262Z"
   },
   {
    "duration": 1057,
    "start_time": "2023-04-28T12:30:27.265Z"
   },
   {
    "duration": 3,
    "start_time": "2023-04-28T12:30:28.324Z"
   },
   {
    "duration": 465,
    "start_time": "2023-04-28T12:30:28.756Z"
   },
   {
    "duration": 57,
    "start_time": "2023-04-28T12:30:38.014Z"
   },
   {
    "duration": 5,
    "start_time": "2023-04-28T12:30:38.316Z"
   },
   {
    "duration": 4,
    "start_time": "2023-04-28T12:30:39.419Z"
   },
   {
    "duration": 2344,
    "start_time": "2023-04-28T12:30:41.132Z"
   },
   {
    "duration": 68,
    "start_time": "2023-04-28T12:30:43.484Z"
   },
   {
    "duration": 16931,
    "start_time": "2023-04-28T12:30:43.554Z"
   },
   {
    "duration": 799,
    "start_time": "2023-04-28T12:31:00.489Z"
   },
   {
    "duration": 57183,
    "start_time": "2023-04-28T12:31:01.293Z"
   },
   {
    "duration": 45213,
    "start_time": "2023-04-28T12:31:58.478Z"
   },
   {
    "duration": 989,
    "start_time": "2023-04-28T12:32:43.693Z"
   },
   {
    "duration": 1036,
    "start_time": "2023-04-28T12:32:44.685Z"
   },
   {
    "duration": 626,
    "start_time": "2023-04-28T12:32:45.790Z"
   },
   {
    "duration": 41385,
    "start_time": "2023-04-28T12:32:46.418Z"
   },
   {
    "duration": 8629,
    "start_time": "2023-04-28T12:33:27.805Z"
   },
   {
    "duration": 49,
    "start_time": "2023-04-28T12:33:36.435Z"
   },
   {
    "duration": 49,
    "start_time": "2023-04-28T12:33:36.487Z"
   },
   {
    "duration": 47377,
    "start_time": "2023-04-28T12:34:05.516Z"
   },
   {
    "duration": 45713,
    "start_time": "2023-04-28T12:36:41.144Z"
   },
   {
    "duration": 63,
    "start_time": "2023-04-28T12:59:02.376Z"
   },
   {
    "duration": 496,
    "start_time": "2023-04-28T12:59:13.001Z"
   },
   {
    "duration": 236,
    "start_time": "2023-04-28T13:00:20.506Z"
   },
   {
    "duration": 238,
    "start_time": "2023-04-28T13:00:37.842Z"
   },
   {
    "duration": 2041,
    "start_time": "2023-04-28T13:00:52.576Z"
   },
   {
    "duration": 1632,
    "start_time": "2023-04-28T13:00:54.619Z"
   },
   {
    "duration": 184,
    "start_time": "2023-04-28T13:00:56.253Z"
   },
   {
    "duration": 232,
    "start_time": "2023-04-28T13:00:56.440Z"
   },
   {
    "duration": 73,
    "start_time": "2023-04-28T13:00:56.673Z"
   },
   {
    "duration": 66,
    "start_time": "2023-04-28T13:00:56.748Z"
   },
   {
    "duration": 9,
    "start_time": "2023-04-28T13:00:56.816Z"
   },
   {
    "duration": 93,
    "start_time": "2023-04-28T13:00:56.826Z"
   },
   {
    "duration": 165,
    "start_time": "2023-04-28T13:00:56.921Z"
   },
   {
    "duration": 12,
    "start_time": "2023-04-28T13:00:57.093Z"
   },
   {
    "duration": 130,
    "start_time": "2023-04-28T13:00:57.107Z"
   },
   {
    "duration": 69,
    "start_time": "2023-04-28T13:00:57.239Z"
   },
   {
    "duration": 131,
    "start_time": "2023-04-28T13:00:57.310Z"
   },
   {
    "duration": 131,
    "start_time": "2023-04-28T13:00:57.443Z"
   },
   {
    "duration": 14,
    "start_time": "2023-04-28T13:00:57.575Z"
   },
   {
    "duration": 447,
    "start_time": "2023-04-28T13:00:57.596Z"
   },
   {
    "duration": 64,
    "start_time": "2023-04-28T13:00:58.045Z"
   },
   {
    "duration": 132,
    "start_time": "2023-04-28T13:00:58.111Z"
   },
   {
    "duration": 265,
    "start_time": "2023-04-28T13:00:58.245Z"
   },
   {
    "duration": 699,
    "start_time": "2023-04-28T13:00:58.512Z"
   },
   {
    "duration": 54,
    "start_time": "2023-04-28T13:00:59.213Z"
   },
   {
    "duration": 30,
    "start_time": "2023-04-28T13:00:59.269Z"
   },
   {
    "duration": 46,
    "start_time": "2023-04-28T13:00:59.300Z"
   },
   {
    "duration": 80,
    "start_time": "2023-04-28T13:00:59.348Z"
   },
   {
    "duration": 1271,
    "start_time": "2023-04-28T13:00:59.430Z"
   },
   {
    "duration": 6,
    "start_time": "2023-04-28T13:01:00.703Z"
   },
   {
    "duration": 674,
    "start_time": "2023-04-28T13:01:00.711Z"
   },
   {
    "duration": 57,
    "start_time": "2023-04-28T13:01:01.389Z"
   },
   {
    "duration": 20,
    "start_time": "2023-04-28T13:01:01.448Z"
   },
   {
    "duration": 59,
    "start_time": "2023-04-28T13:01:01.470Z"
   },
   {
    "duration": 2469,
    "start_time": "2023-04-28T13:01:01.531Z"
   },
   {
    "duration": 83,
    "start_time": "2023-04-28T13:01:04.002Z"
   },
   {
    "duration": 44396,
    "start_time": "2023-04-28T13:01:04.090Z"
   },
   {
    "duration": 818,
    "start_time": "2023-04-28T13:01:48.488Z"
   },
   {
    "duration": 66003,
    "start_time": "2023-04-28T13:01:49.389Z"
   },
   {
    "duration": 49030,
    "start_time": "2023-04-28T13:02:55.394Z"
   },
   {
    "duration": 868,
    "start_time": "2023-04-28T13:03:44.426Z"
   },
   {
    "duration": 1098,
    "start_time": "2023-04-28T13:03:45.296Z"
   },
   {
    "duration": 695,
    "start_time": "2023-04-28T13:03:46.396Z"
   },
   {
    "duration": 1998336,
    "start_time": "2023-04-28T13:03:47.097Z"
   },
   {
    "duration": 79,
    "start_time": "2023-04-28T13:37:05.435Z"
   },
   {
    "duration": 3,
    "start_time": "2023-04-28T13:37:05.516Z"
   },
   {
    "duration": 1273,
    "start_time": "2023-04-28T13:37:05.521Z"
   },
   {
    "duration": 91,
    "start_time": "2023-04-28T13:38:46.764Z"
   },
   {
    "duration": 707,
    "start_time": "2023-04-28T13:38:59.986Z"
   },
   {
    "duration": 58203,
    "start_time": "2023-04-28T13:39:15.137Z"
   },
   {
    "duration": 1303,
    "start_time": "2023-04-28T13:41:36.472Z"
   },
   {
    "duration": 123,
    "start_time": "2023-04-28T13:53:05.099Z"
   },
   {
    "duration": 220,
    "start_time": "2023-04-28T13:54:33.300Z"
   },
   {
    "duration": 393,
    "start_time": "2023-04-28T13:55:09.145Z"
   },
   {
    "duration": 68,
    "start_time": "2023-04-28T13:55:31.337Z"
   },
   {
    "duration": 12,
    "start_time": "2023-04-28T13:58:17.722Z"
   },
   {
    "duration": 14135,
    "start_time": "2023-04-28T13:58:18.330Z"
   },
   {
    "duration": 9,
    "start_time": "2023-04-28T13:58:32.467Z"
   },
   {
    "duration": 0,
    "start_time": "2023-04-28T13:58:32.477Z"
   },
   {
    "duration": 27,
    "start_time": "2023-04-28T13:58:36.985Z"
   },
   {
    "duration": 83,
    "start_time": "2023-04-28T13:58:48.129Z"
   },
   {
    "duration": 16114,
    "start_time": "2023-04-28T13:58:49.518Z"
   },
   {
    "duration": 75545,
    "start_time": "2023-04-28T13:59:09.215Z"
   },
   {
    "duration": 5,
    "start_time": "2023-04-28T14:05:17.502Z"
   },
   {
    "duration": 2357,
    "start_time": "2023-04-28T14:05:18.417Z"
   },
   {
    "duration": 524,
    "start_time": "2023-04-28T14:06:06.757Z"
   },
   {
    "duration": 151,
    "start_time": "2023-04-28T14:06:42.917Z"
   },
   {
    "duration": 459,
    "start_time": "2023-04-28T14:06:53.157Z"
   },
   {
    "duration": 7,
    "start_time": "2023-04-28T14:07:04.104Z"
   },
   {
    "duration": 704,
    "start_time": "2023-04-28T14:07:08.705Z"
   },
   {
    "duration": 121,
    "start_time": "2023-04-28T14:31:24.851Z"
   },
   {
    "duration": 38876,
    "start_time": "2023-04-28T14:31:45.782Z"
   },
   {
    "duration": 7895,
    "start_time": "2023-04-28T14:39:54.127Z"
   },
   {
    "duration": 42243,
    "start_time": "2023-04-28T14:40:20.670Z"
   },
   {
    "duration": 281659,
    "start_time": "2023-04-28T14:41:18.540Z"
   },
   {
    "duration": 309,
    "start_time": "2023-04-28T14:49:17.961Z"
   },
   {
    "duration": 1471,
    "start_time": "2023-04-28T14:49:52.624Z"
   },
   {
    "duration": 1116,
    "start_time": "2023-04-28T14:49:54.098Z"
   },
   {
    "duration": 97,
    "start_time": "2023-04-28T14:49:55.216Z"
   },
   {
    "duration": 124,
    "start_time": "2023-04-28T14:49:55.315Z"
   },
   {
    "duration": 13,
    "start_time": "2023-04-28T14:49:55.441Z"
   },
   {
    "duration": 57,
    "start_time": "2023-04-28T14:49:55.456Z"
   },
   {
    "duration": 7,
    "start_time": "2023-04-28T14:49:55.515Z"
   },
   {
    "duration": 83,
    "start_time": "2023-04-28T14:49:55.524Z"
   },
   {
    "duration": 105,
    "start_time": "2023-04-28T14:49:55.608Z"
   },
   {
    "duration": 5,
    "start_time": "2023-04-28T14:49:55.716Z"
   },
   {
    "duration": 126,
    "start_time": "2023-04-28T14:49:55.722Z"
   },
   {
    "duration": 65,
    "start_time": "2023-04-28T14:49:55.850Z"
   },
   {
    "duration": 128,
    "start_time": "2023-04-28T14:49:55.916Z"
   },
   {
    "duration": 119,
    "start_time": "2023-04-28T14:49:56.045Z"
   },
   {
    "duration": 4,
    "start_time": "2023-04-28T14:49:56.166Z"
   },
   {
    "duration": 391,
    "start_time": "2023-04-28T14:49:56.171Z"
   },
   {
    "duration": 51,
    "start_time": "2023-04-28T14:49:56.563Z"
   },
   {
    "duration": 125,
    "start_time": "2023-04-28T14:49:56.616Z"
   },
   {
    "duration": 230,
    "start_time": "2023-04-28T14:49:56.742Z"
   },
   {
    "duration": 616,
    "start_time": "2023-04-28T14:49:56.973Z"
   },
   {
    "duration": 47,
    "start_time": "2023-04-28T14:49:57.590Z"
   },
   {
    "duration": 5,
    "start_time": "2023-04-28T14:49:57.638Z"
   },
   {
    "duration": 10,
    "start_time": "2023-04-28T14:49:57.644Z"
   },
   {
    "duration": 35,
    "start_time": "2023-04-28T14:49:57.655Z"
   },
   {
    "duration": 1043,
    "start_time": "2023-04-28T14:49:57.692Z"
   },
   {
    "duration": 3,
    "start_time": "2023-04-28T14:49:58.736Z"
   },
   {
    "duration": 475,
    "start_time": "2023-04-28T14:49:58.741Z"
   },
   {
    "duration": 66,
    "start_time": "2023-04-28T14:49:59.219Z"
   },
   {
    "duration": 4,
    "start_time": "2023-04-28T14:49:59.287Z"
   },
   {
    "duration": 31,
    "start_time": "2023-04-28T14:49:59.293Z"
   },
   {
    "duration": 2358,
    "start_time": "2023-04-28T14:49:59.325Z"
   },
   {
    "duration": 76,
    "start_time": "2023-04-28T14:50:01.685Z"
   },
   {
    "duration": 23121,
    "start_time": "2023-04-28T14:50:01.763Z"
   },
   {
    "duration": 898,
    "start_time": "2023-04-28T14:50:24.887Z"
   },
   {
    "duration": 59328,
    "start_time": "2023-04-28T14:50:25.788Z"
   },
   {
    "duration": 46567,
    "start_time": "2023-04-28T14:51:25.117Z"
   },
   {
    "duration": 900,
    "start_time": "2023-04-28T14:52:11.686Z"
   },
   {
    "duration": 1056,
    "start_time": "2023-04-28T14:52:12.589Z"
   },
   {
    "duration": 267,
    "start_time": "2023-04-28T14:52:13.685Z"
   },
   {
    "duration": 579,
    "start_time": "2023-04-28T14:52:13.954Z"
   },
   {
    "duration": 1455,
    "start_time": "2023-04-28T14:52:47.280Z"
   },
   {
    "duration": 912,
    "start_time": "2023-04-28T14:52:48.736Z"
   },
   {
    "duration": 148,
    "start_time": "2023-04-28T14:52:49.649Z"
   },
   {
    "duration": 147,
    "start_time": "2023-04-28T14:52:49.799Z"
   },
   {
    "duration": 14,
    "start_time": "2023-04-28T14:52:49.947Z"
   },
   {
    "duration": 57,
    "start_time": "2023-04-28T14:52:49.963Z"
   },
   {
    "duration": 9,
    "start_time": "2023-04-28T14:52:50.021Z"
   },
   {
    "duration": 74,
    "start_time": "2023-04-28T14:52:50.032Z"
   },
   {
    "duration": 133,
    "start_time": "2023-04-28T14:52:50.108Z"
   },
   {
    "duration": 5,
    "start_time": "2023-04-28T14:52:50.244Z"
   },
   {
    "duration": 119,
    "start_time": "2023-04-28T14:52:50.250Z"
   },
   {
    "duration": 60,
    "start_time": "2023-04-28T14:52:50.370Z"
   },
   {
    "duration": 138,
    "start_time": "2023-04-28T14:52:50.431Z"
   },
   {
    "duration": 125,
    "start_time": "2023-04-28T14:52:50.571Z"
   },
   {
    "duration": 4,
    "start_time": "2023-04-28T14:52:50.698Z"
   },
   {
    "duration": 399,
    "start_time": "2023-04-28T14:52:50.704Z"
   },
   {
    "duration": 45,
    "start_time": "2023-04-28T14:52:51.104Z"
   },
   {
    "duration": 140,
    "start_time": "2023-04-28T14:52:51.150Z"
   },
   {
    "duration": 234,
    "start_time": "2023-04-28T14:52:51.292Z"
   },
   {
    "duration": 629,
    "start_time": "2023-04-28T14:52:51.528Z"
   },
   {
    "duration": 54,
    "start_time": "2023-04-28T14:52:52.159Z"
   },
   {
    "duration": 5,
    "start_time": "2023-04-28T14:52:52.215Z"
   },
   {
    "duration": 9,
    "start_time": "2023-04-28T14:52:52.222Z"
   },
   {
    "duration": 22,
    "start_time": "2023-04-28T14:52:52.233Z"
   },
   {
    "duration": 1040,
    "start_time": "2023-04-28T14:52:52.256Z"
   },
   {
    "duration": 3,
    "start_time": "2023-04-28T14:52:53.298Z"
   },
   {
    "duration": 489,
    "start_time": "2023-04-28T14:52:53.303Z"
   },
   {
    "duration": 56,
    "start_time": "2023-04-28T14:52:53.796Z"
   },
   {
    "duration": 5,
    "start_time": "2023-04-28T14:52:53.853Z"
   },
   {
    "duration": 25,
    "start_time": "2023-04-28T14:52:53.859Z"
   },
   {
    "duration": 2329,
    "start_time": "2023-04-28T14:52:53.886Z"
   },
   {
    "duration": 75,
    "start_time": "2023-04-28T14:52:56.217Z"
   },
   {
    "duration": 20894,
    "start_time": "2023-04-28T14:52:56.294Z"
   },
   {
    "duration": 705,
    "start_time": "2023-04-28T14:53:17.191Z"
   },
   {
    "duration": 59012,
    "start_time": "2023-04-28T14:53:17.983Z"
   },
   {
    "duration": 45881,
    "start_time": "2023-04-28T14:54:16.997Z"
   },
   {
    "duration": 1404,
    "start_time": "2023-04-28T14:55:02.879Z"
   },
   {
    "duration": 1043,
    "start_time": "2023-04-28T14:55:04.286Z"
   },
   {
    "duration": 298,
    "start_time": "2023-04-28T14:55:05.332Z"
   },
   {
    "duration": 543,
    "start_time": "2023-04-28T14:55:05.631Z"
   },
   {
    "duration": 420023,
    "start_time": "2023-04-28T14:55:06.176Z"
   },
   {
    "duration": 263224,
    "start_time": "2023-04-28T15:02:06.200Z"
   },
   {
    "duration": 8158,
    "start_time": "2023-04-28T15:06:29.425Z"
   },
   {
    "duration": 2,
    "start_time": "2023-04-28T15:06:37.585Z"
   },
   {
    "duration": 47132,
    "start_time": "2023-04-28T15:06:37.589Z"
   },
   {
    "duration": 180,
    "start_time": "2023-04-28T15:10:30.662Z"
   },
   {
    "duration": 230,
    "start_time": "2023-04-28T15:11:05.261Z"
   },
   {
    "duration": 8128,
    "start_time": "2023-04-28T15:11:32.947Z"
   },
   {
    "duration": 164,
    "start_time": "2023-04-28T15:15:14.756Z"
   },
   {
    "duration": 233,
    "start_time": "2023-04-28T15:16:32.296Z"
   },
   {
    "duration": 185870,
    "start_time": "2023-04-28T15:16:46.121Z"
   },
   {
    "duration": 870839,
    "start_time": "2023-04-28T15:20:00.857Z"
   },
   {
    "duration": 9021,
    "start_time": "2023-04-28T15:42:46.205Z"
   },
   {
    "duration": 43,
    "start_time": "2023-04-28T15:43:12.415Z"
   },
   {
    "duration": 5019,
    "start_time": "2023-04-28T15:43:34.892Z"
   },
   {
    "duration": 60,
    "start_time": "2023-04-28T15:44:05.779Z"
   },
   {
    "duration": 87,
    "start_time": "2023-04-28T15:44:23.947Z"
   },
   {
    "duration": 987372,
    "start_time": "2023-04-28T15:44:48.032Z"
   },
   {
    "duration": 9893,
    "start_time": "2023-04-28T16:01:15.406Z"
   },
   {
    "duration": 3299,
    "start_time": "2023-04-28T16:01:25.301Z"
   },
   {
    "duration": 3397,
    "start_time": "2023-04-28T16:02:17.297Z"
   },
   {
    "duration": 3569,
    "start_time": "2023-04-28T16:03:01.642Z"
   },
   {
    "duration": 6427,
    "start_time": "2023-04-28T16:03:11.166Z"
   },
   {
    "duration": 7601,
    "start_time": "2023-04-28T16:03:51.108Z"
   },
   {
    "duration": 123,
    "start_time": "2023-04-28T16:07:33.076Z"
   },
   {
    "duration": 59,
    "start_time": "2023-04-28T16:08:09.667Z"
   },
   {
    "duration": 46939,
    "start_time": "2023-04-28T16:10:48.996Z"
   },
   {
    "duration": 5470,
    "start_time": "2023-04-28T21:21:03.617Z"
   },
   {
    "duration": 1883,
    "start_time": "2023-04-28T21:21:09.095Z"
   },
   {
    "duration": 161,
    "start_time": "2023-04-28T21:21:10.985Z"
   },
   {
    "duration": 211,
    "start_time": "2023-04-28T21:21:11.148Z"
   },
   {
    "duration": 31,
    "start_time": "2023-04-28T21:21:11.362Z"
   },
   {
    "duration": 79,
    "start_time": "2023-04-28T21:21:11.397Z"
   },
   {
    "duration": 35,
    "start_time": "2023-04-28T21:21:11.478Z"
   },
   {
    "duration": 90,
    "start_time": "2023-04-28T21:21:11.520Z"
   },
   {
    "duration": 161,
    "start_time": "2023-04-28T21:21:11.614Z"
   },
   {
    "duration": 16,
    "start_time": "2023-04-28T21:21:11.777Z"
   },
   {
    "duration": 225,
    "start_time": "2023-04-28T21:21:11.799Z"
   },
   {
    "duration": 67,
    "start_time": "2023-04-28T21:21:12.035Z"
   },
   {
    "duration": 172,
    "start_time": "2023-04-28T21:21:12.103Z"
   },
   {
    "duration": 176,
    "start_time": "2023-04-28T21:21:12.278Z"
   },
   {
    "duration": 5,
    "start_time": "2023-04-28T21:21:12.456Z"
   },
   {
    "duration": 596,
    "start_time": "2023-04-28T21:21:12.464Z"
   },
   {
    "duration": 77,
    "start_time": "2023-04-28T21:21:13.063Z"
   },
   {
    "duration": 158,
    "start_time": "2023-04-28T21:21:13.142Z"
   },
   {
    "duration": 311,
    "start_time": "2023-04-28T21:21:13.301Z"
   },
   {
    "duration": 683,
    "start_time": "2023-04-28T21:21:13.614Z"
   },
   {
    "duration": 52,
    "start_time": "2023-04-28T21:21:14.299Z"
   },
   {
    "duration": 63,
    "start_time": "2023-04-28T21:21:14.353Z"
   },
   {
    "duration": 67,
    "start_time": "2023-04-28T21:21:14.418Z"
   },
   {
    "duration": 91,
    "start_time": "2023-04-28T21:21:14.486Z"
   },
   {
    "duration": 1281,
    "start_time": "2023-04-28T21:21:14.579Z"
   },
   {
    "duration": 3,
    "start_time": "2023-04-28T21:21:15.861Z"
   },
   {
    "duration": 621,
    "start_time": "2023-04-28T21:21:15.865Z"
   },
   {
    "duration": 60,
    "start_time": "2023-04-28T21:21:16.489Z"
   },
   {
    "duration": 4,
    "start_time": "2023-04-28T21:21:16.550Z"
   },
   {
    "duration": 15,
    "start_time": "2023-04-28T21:21:16.556Z"
   },
   {
    "duration": 2358,
    "start_time": "2023-04-28T21:21:16.572Z"
   },
   {
    "duration": 98,
    "start_time": "2023-04-28T21:21:18.932Z"
   },
   {
    "duration": 100483,
    "start_time": "2023-04-28T21:21:19.031Z"
   },
   {
    "duration": 738,
    "start_time": "2023-04-28T21:22:59.584Z"
   },
   {
    "duration": 693,
    "start_time": "2023-04-28T21:23:01.539Z"
   },
   {
    "duration": 54,
    "start_time": "2023-04-29T07:20:21.286Z"
   },
   {
    "duration": 90,
    "start_time": "2023-04-29T09:17:19.360Z"
   },
   {
    "duration": 1848,
    "start_time": "2023-04-29T09:19:15.061Z"
   },
   {
    "duration": 2980,
    "start_time": "2023-04-29T09:19:16.911Z"
   },
   {
    "duration": 118,
    "start_time": "2023-04-29T09:19:19.893Z"
   },
   {
    "duration": 117,
    "start_time": "2023-04-29T09:19:20.013Z"
   },
   {
    "duration": 29,
    "start_time": "2023-04-29T09:19:20.132Z"
   },
   {
    "duration": 51,
    "start_time": "2023-04-29T09:19:20.165Z"
   },
   {
    "duration": 11,
    "start_time": "2023-04-29T09:19:20.218Z"
   },
   {
    "duration": 80,
    "start_time": "2023-04-29T09:19:20.231Z"
   },
   {
    "duration": 139,
    "start_time": "2023-04-29T09:19:20.313Z"
   },
   {
    "duration": 6,
    "start_time": "2023-04-29T09:19:20.457Z"
   },
   {
    "duration": 113,
    "start_time": "2023-04-29T09:19:20.465Z"
   },
   {
    "duration": 60,
    "start_time": "2023-04-29T09:19:20.580Z"
   },
   {
    "duration": 128,
    "start_time": "2023-04-29T09:19:20.642Z"
   },
   {
    "duration": 127,
    "start_time": "2023-04-29T09:19:20.772Z"
   },
   {
    "duration": 4,
    "start_time": "2023-04-29T09:19:20.901Z"
   },
   {
    "duration": 427,
    "start_time": "2023-04-29T09:19:20.907Z"
   },
   {
    "duration": 60,
    "start_time": "2023-04-29T09:19:21.335Z"
   },
   {
    "duration": 130,
    "start_time": "2023-04-29T09:19:21.397Z"
   },
   {
    "duration": 240,
    "start_time": "2023-04-29T09:19:21.529Z"
   },
   {
    "duration": 867,
    "start_time": "2023-04-29T09:19:21.772Z"
   },
   {
    "duration": 54,
    "start_time": "2023-04-29T09:19:22.642Z"
   },
   {
    "duration": 86,
    "start_time": "2023-04-29T09:19:22.698Z"
   },
   {
    "duration": 28,
    "start_time": "2023-04-29T09:19:22.785Z"
   },
   {
    "duration": 19,
    "start_time": "2023-04-29T09:19:22.815Z"
   },
   {
    "duration": 1323,
    "start_time": "2023-04-29T09:19:22.836Z"
   },
   {
    "duration": 3,
    "start_time": "2023-04-29T09:19:24.161Z"
   },
   {
    "duration": 62,
    "start_time": "2023-04-29T09:19:24.166Z"
   },
   {
    "duration": 445,
    "start_time": "2023-04-29T09:19:24.231Z"
   },
   {
    "duration": 52,
    "start_time": "2023-04-29T09:19:24.678Z"
   },
   {
    "duration": 261,
    "start_time": "2023-04-29T09:19:24.732Z"
   },
   {
    "duration": 4,
    "start_time": "2023-04-29T09:19:24.995Z"
   },
   {
    "duration": 5,
    "start_time": "2023-04-29T09:19:25.001Z"
   },
   {
    "duration": 2369,
    "start_time": "2023-04-29T09:19:25.008Z"
   },
   {
    "duration": 85,
    "start_time": "2023-04-29T09:19:27.378Z"
   },
   {
    "duration": 21694,
    "start_time": "2023-04-29T09:19:27.465Z"
   },
   {
    "duration": 597,
    "start_time": "2023-04-29T09:19:49.161Z"
   },
   {
    "duration": 58998,
    "start_time": "2023-04-29T09:19:49.760Z"
   },
   {
    "duration": 43424,
    "start_time": "2023-04-29T09:20:48.759Z"
   },
   {
    "duration": 892,
    "start_time": "2023-04-29T09:21:32.185Z"
   },
   {
    "duration": 1025,
    "start_time": "2023-04-29T09:21:33.079Z"
   },
   {
    "duration": 686,
    "start_time": "2023-04-29T09:21:34.106Z"
   },
   {
    "duration": 1281282,
    "start_time": "2023-04-29T09:21:34.794Z"
   },
   {
    "duration": 7618,
    "start_time": "2023-04-29T09:42:56.077Z"
   },
   {
    "duration": 64,
    "start_time": "2023-04-29T09:43:03.696Z"
   },
   {
    "duration": 45817,
    "start_time": "2023-04-29T09:43:03.763Z"
   },
   {
    "duration": 2869,
    "start_time": "2023-04-30T06:51:00.605Z"
   },
   {
    "duration": 6374,
    "start_time": "2023-04-30T06:51:06.832Z"
   },
   {
    "duration": 157,
    "start_time": "2023-04-30T06:51:13.208Z"
   },
   {
    "duration": 256,
    "start_time": "2023-04-30T06:51:13.367Z"
   },
   {
    "duration": 20,
    "start_time": "2023-04-30T06:51:13.626Z"
   },
   {
    "duration": 59,
    "start_time": "2023-04-30T06:51:13.647Z"
   },
   {
    "duration": 32,
    "start_time": "2023-04-30T06:51:13.709Z"
   },
   {
    "duration": 108,
    "start_time": "2023-04-30T06:51:13.752Z"
   },
   {
    "duration": 192,
    "start_time": "2023-04-30T06:51:13.870Z"
   },
   {
    "duration": 5,
    "start_time": "2023-04-30T06:51:15.770Z"
   },
   {
    "duration": 149,
    "start_time": "2023-04-30T06:51:16.144Z"
   },
   {
    "duration": 77,
    "start_time": "2023-04-30T06:51:16.567Z"
   },
   {
    "duration": 208,
    "start_time": "2023-04-30T06:51:17.210Z"
   },
   {
    "duration": 219,
    "start_time": "2023-04-30T06:51:18.764Z"
   },
   {
    "duration": 4,
    "start_time": "2023-04-30T06:51:20.577Z"
   },
   {
    "duration": 622,
    "start_time": "2023-04-30T06:51:21.433Z"
   },
   {
    "duration": 71,
    "start_time": "2023-04-30T06:51:23.966Z"
   },
   {
    "duration": 172,
    "start_time": "2023-04-30T06:51:27.088Z"
   },
   {
    "duration": 345,
    "start_time": "2023-04-30T06:51:28.348Z"
   },
   {
    "duration": 979,
    "start_time": "2023-04-30T06:51:30.008Z"
   },
   {
    "duration": 60,
    "start_time": "2023-04-30T06:51:32.147Z"
   },
   {
    "duration": 5,
    "start_time": "2023-04-30T06:51:33.777Z"
   },
   {
    "duration": 5,
    "start_time": "2023-04-30T06:51:42.375Z"
   },
   {
    "duration": 18,
    "start_time": "2023-04-30T06:51:44.595Z"
   },
   {
    "duration": 1480,
    "start_time": "2023-04-30T06:51:58.073Z"
   },
   {
    "duration": 13,
    "start_time": "2023-04-30T06:52:02.772Z"
   },
   {
    "duration": 59,
    "start_time": "2023-04-30T06:52:22.584Z"
   },
   {
    "duration": 304,
    "start_time": "2023-04-30T06:52:45.866Z"
   },
   {
    "duration": 136,
    "start_time": "2023-04-30T06:55:53.444Z"
   },
   {
    "duration": 208,
    "start_time": "2023-04-30T06:55:59.033Z"
   },
   {
    "duration": 30,
    "start_time": "2023-04-30T06:56:00.501Z"
   },
   {
    "duration": 45,
    "start_time": "2023-04-30T06:56:13.910Z"
   },
   {
    "duration": 148,
    "start_time": "2023-04-30T06:57:41.372Z"
   },
   {
    "duration": 859,
    "start_time": "2023-04-30T06:57:42.948Z"
   },
   {
    "duration": 14,
    "start_time": "2023-04-30T06:57:46.648Z"
   },
   {
    "duration": 18,
    "start_time": "2023-04-30T06:58:07.137Z"
   },
   {
    "duration": 2619,
    "start_time": "2023-04-30T06:58:08.235Z"
   },
   {
    "duration": 86,
    "start_time": "2023-04-30T06:58:10.856Z"
   },
   {
    "duration": 5,
    "start_time": "2023-04-30T06:58:42.985Z"
   },
   {
    "duration": 79099,
    "start_time": "2023-04-30T06:59:42.136Z"
   },
   {
    "duration": 246,
    "start_time": "2023-04-30T07:01:01.237Z"
   },
   {
    "duration": 245,
    "start_time": "2023-04-30T07:01:01.494Z"
   },
   {
    "duration": 251,
    "start_time": "2023-04-30T07:01:01.745Z"
   },
   {
    "duration": 156,
    "start_time": "2023-04-30T07:01:01.998Z"
   },
   {
    "duration": 650,
    "start_time": "2023-04-30T07:01:02.158Z"
   },
   {
    "duration": 4173022,
    "start_time": "2023-04-30T07:01:02.810Z"
   },
   {
    "duration": 7997,
    "start_time": "2023-04-30T08:10:35.838Z"
   },
   {
    "duration": 18,
    "start_time": "2023-04-30T08:10:43.837Z"
   },
   {
    "duration": 34,
    "start_time": "2023-04-30T08:10:43.861Z"
   },
   {
    "duration": 10,
    "start_time": "2023-04-30T08:35:11.859Z"
   },
   {
    "duration": 102,
    "start_time": "2023-04-30T09:32:09.998Z"
   },
   {
    "duration": 93,
    "start_time": "2023-04-30T09:32:23.402Z"
   },
   {
    "duration": 89,
    "start_time": "2023-04-30T09:32:50.197Z"
   },
   {
    "duration": 1705,
    "start_time": "2023-04-30T09:32:53.264Z"
   },
   {
    "duration": 11,
    "start_time": "2023-04-30T09:33:33.898Z"
   },
   {
    "duration": 168,
    "start_time": "2023-04-30T09:34:05.703Z"
   },
   {
    "duration": 176,
    "start_time": "2023-04-30T09:34:13.000Z"
   },
   {
    "duration": 1940,
    "start_time": "2023-04-30T09:39:41.909Z"
   },
   {
    "duration": 3077,
    "start_time": "2023-04-30T09:39:43.861Z"
   },
   {
    "duration": 112,
    "start_time": "2023-04-30T09:39:46.943Z"
   },
   {
    "duration": 168,
    "start_time": "2023-04-30T09:39:47.061Z"
   },
   {
    "duration": 21,
    "start_time": "2023-04-30T09:39:47.234Z"
   },
   {
    "duration": 44,
    "start_time": "2023-04-30T09:39:47.257Z"
   },
   {
    "duration": 30,
    "start_time": "2023-04-30T09:39:47.303Z"
   },
   {
    "duration": 60,
    "start_time": "2023-04-30T09:39:47.335Z"
   },
   {
    "duration": 166,
    "start_time": "2023-04-30T09:39:47.397Z"
   },
   {
    "duration": 5,
    "start_time": "2023-04-30T09:39:47.566Z"
   },
   {
    "duration": 118,
    "start_time": "2023-04-30T09:39:47.573Z"
   },
   {
    "duration": 69,
    "start_time": "2023-04-30T09:39:47.693Z"
   },
   {
    "duration": 153,
    "start_time": "2023-04-30T09:39:47.768Z"
   },
   {
    "duration": 155,
    "start_time": "2023-04-30T09:39:47.932Z"
   },
   {
    "duration": 5,
    "start_time": "2023-04-30T09:39:48.089Z"
   },
   {
    "duration": 572,
    "start_time": "2023-04-30T09:39:48.096Z"
   },
   {
    "duration": 84,
    "start_time": "2023-04-30T09:39:48.671Z"
   },
   {
    "duration": 200,
    "start_time": "2023-04-30T09:39:48.763Z"
   },
   {
    "duration": 358,
    "start_time": "2023-04-30T09:39:48.965Z"
   },
   {
    "duration": 839,
    "start_time": "2023-04-30T09:39:49.325Z"
   },
   {
    "duration": 84,
    "start_time": "2023-04-30T09:39:50.166Z"
   },
   {
    "duration": 7,
    "start_time": "2023-04-30T09:39:50.255Z"
   },
   {
    "duration": 19,
    "start_time": "2023-04-30T09:39:50.264Z"
   },
   {
    "duration": 19,
    "start_time": "2023-04-30T09:39:50.284Z"
   },
   {
    "duration": 1293,
    "start_time": "2023-04-30T09:39:50.304Z"
   },
   {
    "duration": 3,
    "start_time": "2023-04-30T09:39:51.599Z"
   },
   {
    "duration": 59,
    "start_time": "2023-04-30T09:39:51.604Z"
   },
   {
    "duration": 3,
    "start_time": "2023-04-30T09:39:51.668Z"
   },
   {
    "duration": 147,
    "start_time": "2023-04-30T09:39:51.673Z"
   },
   {
    "duration": 150,
    "start_time": "2023-04-30T09:39:51.827Z"
   },
   {
    "duration": 0,
    "start_time": "2023-04-30T09:39:51.978Z"
   },
   {
    "duration": 0,
    "start_time": "2023-04-30T09:39:51.980Z"
   },
   {
    "duration": 0,
    "start_time": "2023-04-30T09:39:51.981Z"
   },
   {
    "duration": 0,
    "start_time": "2023-04-30T09:39:51.982Z"
   },
   {
    "duration": 0,
    "start_time": "2023-04-30T09:39:51.983Z"
   },
   {
    "duration": 0,
    "start_time": "2023-04-30T09:39:51.985Z"
   },
   {
    "duration": 0,
    "start_time": "2023-04-30T09:39:51.986Z"
   },
   {
    "duration": 0,
    "start_time": "2023-04-30T09:39:51.987Z"
   },
   {
    "duration": 0,
    "start_time": "2023-04-30T09:39:51.988Z"
   },
   {
    "duration": 0,
    "start_time": "2023-04-30T09:39:51.990Z"
   },
   {
    "duration": 0,
    "start_time": "2023-04-30T09:39:51.991Z"
   },
   {
    "duration": 0,
    "start_time": "2023-04-30T09:39:52.013Z"
   },
   {
    "duration": 0,
    "start_time": "2023-04-30T09:39:52.014Z"
   },
   {
    "duration": 0,
    "start_time": "2023-04-30T09:39:52.015Z"
   },
   {
    "duration": 0,
    "start_time": "2023-04-30T09:39:52.016Z"
   },
   {
    "duration": 698,
    "start_time": "2023-04-30T09:40:25.393Z"
   },
   {
    "duration": 3,
    "start_time": "2023-04-30T09:40:26.856Z"
   },
   {
    "duration": 4,
    "start_time": "2023-04-30T09:40:27.806Z"
   },
   {
    "duration": 2489,
    "start_time": "2023-04-30T09:40:29.470Z"
   },
   {
    "duration": 95,
    "start_time": "2023-04-30T09:40:31.963Z"
   },
   {
    "duration": 0,
    "start_time": "2023-04-30T09:40:32.060Z"
   },
   {
    "duration": 0,
    "start_time": "2023-04-30T09:40:32.062Z"
   },
   {
    "duration": 0,
    "start_time": "2023-04-30T09:40:32.063Z"
   },
   {
    "duration": 0,
    "start_time": "2023-04-30T09:40:32.064Z"
   },
   {
    "duration": 0,
    "start_time": "2023-04-30T09:40:32.065Z"
   },
   {
    "duration": 114,
    "start_time": "2023-04-30T09:40:32.143Z"
   },
   {
    "duration": 649,
    "start_time": "2023-04-30T09:40:32.342Z"
   },
   {
    "duration": 2335494,
    "start_time": "2023-04-30T09:40:32.993Z"
   },
   {
    "duration": 156,
    "start_time": "2023-04-30T10:19:28.489Z"
   },
   {
    "duration": 3,
    "start_time": "2023-04-30T10:19:28.648Z"
   },
   {
    "duration": 31,
    "start_time": "2023-04-30T10:19:28.653Z"
   },
   {
    "duration": 0,
    "start_time": "2023-04-30T10:19:28.686Z"
   },
   {
    "duration": 0,
    "start_time": "2023-04-30T10:19:28.687Z"
   },
   {
    "duration": 5,
    "start_time": "2023-04-30T10:19:31.702Z"
   },
   {
    "duration": 58039,
    "start_time": "2023-04-30T10:19:33.675Z"
   },
   {
    "duration": 173,
    "start_time": "2023-04-30T10:20:31.717Z"
   },
   {
    "duration": 170,
    "start_time": "2023-04-30T10:23:17.140Z"
   },
   {
    "duration": 158,
    "start_time": "2023-04-30T10:26:24.239Z"
   },
   {
    "duration": 116,
    "start_time": "2023-04-30T10:26:52.402Z"
   },
   {
    "duration": 699,
    "start_time": "2023-04-30T10:26:53.105Z"
   },
   {
    "duration": 121,
    "start_time": "2023-04-30T10:43:20.806Z"
   },
   {
    "duration": 170,
    "start_time": "2023-04-30T10:43:41.101Z"
   },
   {
    "duration": 2110,
    "start_time": "2023-04-30T10:43:51.449Z"
   },
   {
    "duration": 1516,
    "start_time": "2023-04-30T10:43:53.561Z"
   },
   {
    "duration": 134,
    "start_time": "2023-04-30T10:43:55.079Z"
   },
   {
    "duration": 196,
    "start_time": "2023-04-30T10:43:55.217Z"
   },
   {
    "duration": 29,
    "start_time": "2023-04-30T10:43:55.415Z"
   },
   {
    "duration": 50,
    "start_time": "2023-04-30T10:43:55.446Z"
   },
   {
    "duration": 34,
    "start_time": "2023-04-30T10:43:55.498Z"
   },
   {
    "duration": 75,
    "start_time": "2023-04-30T10:43:55.534Z"
   },
   {
    "duration": 187,
    "start_time": "2023-04-30T10:43:55.615Z"
   },
   {
    "duration": 16,
    "start_time": "2023-04-30T10:43:55.805Z"
   },
   {
    "duration": 167,
    "start_time": "2023-04-30T10:43:55.823Z"
   },
   {
    "duration": 85,
    "start_time": "2023-04-30T10:43:55.992Z"
   },
   {
    "duration": 188,
    "start_time": "2023-04-30T10:43:56.079Z"
   },
   {
    "duration": 195,
    "start_time": "2023-04-30T10:43:56.272Z"
   },
   {
    "duration": 10,
    "start_time": "2023-04-30T10:43:56.468Z"
   },
   {
    "duration": 651,
    "start_time": "2023-04-30T10:43:56.480Z"
   },
   {
    "duration": 60,
    "start_time": "2023-04-30T10:43:57.133Z"
   },
   {
    "duration": 238,
    "start_time": "2023-04-30T10:43:57.195Z"
   },
   {
    "duration": 353,
    "start_time": "2023-04-30T10:43:57.435Z"
   },
   {
    "duration": 963,
    "start_time": "2023-04-30T10:43:57.790Z"
   },
   {
    "duration": 68,
    "start_time": "2023-04-30T10:43:58.755Z"
   },
   {
    "duration": 7,
    "start_time": "2023-04-30T10:43:58.829Z"
   },
   {
    "duration": 20,
    "start_time": "2023-04-30T10:43:58.838Z"
   },
   {
    "duration": 55,
    "start_time": "2023-04-30T10:43:58.860Z"
   },
   {
    "duration": 1643,
    "start_time": "2023-04-30T10:43:58.920Z"
   },
   {
    "duration": 9,
    "start_time": "2023-04-30T10:44:00.565Z"
   },
   {
    "duration": 105,
    "start_time": "2023-04-30T10:44:00.576Z"
   },
   {
    "duration": 360,
    "start_time": "2023-04-30T10:44:00.685Z"
   },
   {
    "duration": 0,
    "start_time": "2023-04-30T10:44:01.048Z"
   },
   {
    "duration": 0,
    "start_time": "2023-04-30T10:44:01.050Z"
   },
   {
    "duration": 0,
    "start_time": "2023-04-30T10:44:01.052Z"
   },
   {
    "duration": 0,
    "start_time": "2023-04-30T10:44:01.054Z"
   },
   {
    "duration": 0,
    "start_time": "2023-04-30T10:44:01.056Z"
   },
   {
    "duration": 0,
    "start_time": "2023-04-30T10:44:01.057Z"
   },
   {
    "duration": 0,
    "start_time": "2023-04-30T10:44:01.061Z"
   },
   {
    "duration": 0,
    "start_time": "2023-04-30T10:44:01.062Z"
   },
   {
    "duration": 0,
    "start_time": "2023-04-30T10:44:01.063Z"
   },
   {
    "duration": 0,
    "start_time": "2023-04-30T10:44:01.064Z"
   },
   {
    "duration": 0,
    "start_time": "2023-04-30T10:44:01.071Z"
   },
   {
    "duration": 0,
    "start_time": "2023-04-30T10:44:01.077Z"
   },
   {
    "duration": 0,
    "start_time": "2023-04-30T10:44:01.079Z"
   },
   {
    "duration": 0,
    "start_time": "2023-04-30T10:44:01.081Z"
   },
   {
    "duration": 0,
    "start_time": "2023-04-30T10:44:01.083Z"
   },
   {
    "duration": 0,
    "start_time": "2023-04-30T10:44:01.084Z"
   },
   {
    "duration": 0,
    "start_time": "2023-04-30T10:44:01.085Z"
   },
   {
    "duration": 24,
    "start_time": "2023-04-30T10:47:38.932Z"
   },
   {
    "duration": 805,
    "start_time": "2023-04-30T10:47:48.156Z"
   },
   {
    "duration": 88,
    "start_time": "2023-04-30T10:48:27.593Z"
   },
   {
    "duration": 735,
    "start_time": "2023-04-30T10:48:31.364Z"
   },
   {
    "duration": 281,
    "start_time": "2023-04-30T10:49:37.678Z"
   },
   {
    "duration": 282,
    "start_time": "2023-04-30T10:49:49.865Z"
   },
   {
    "duration": 534,
    "start_time": "2023-04-30T10:49:58.608Z"
   },
   {
    "duration": 122,
    "start_time": "2023-04-30T10:50:25.715Z"
   },
   {
    "duration": 536,
    "start_time": "2023-04-30T10:50:48.856Z"
   },
   {
    "duration": 474,
    "start_time": "2023-04-30T10:50:55.580Z"
   },
   {
    "duration": 6,
    "start_time": "2023-04-30T10:50:56.056Z"
   },
   {
    "duration": 12,
    "start_time": "2023-04-30T10:50:59.439Z"
   },
   {
    "duration": 2678,
    "start_time": "2023-04-30T10:51:01.451Z"
   },
   {
    "duration": 99,
    "start_time": "2023-04-30T10:51:04.135Z"
   },
   {
    "duration": 53224,
    "start_time": "2023-04-30T10:51:07.909Z"
   },
   {
    "duration": 504,
    "start_time": "2023-04-30T10:52:01.146Z"
   },
   {
    "duration": 65615,
    "start_time": "2023-04-30T11:01:13.892Z"
   },
   {
    "duration": 48772,
    "start_time": "2023-04-30T11:02:19.511Z"
   },
   {
    "duration": 962,
    "start_time": "2023-04-30T11:03:08.285Z"
   },
   {
    "duration": 1081,
    "start_time": "2023-04-30T11:03:09.250Z"
   },
   {
    "duration": 570,
    "start_time": "2023-04-30T11:05:21.808Z"
   },
   {
    "duration": 2692268,
    "start_time": "2023-04-30T11:05:22.381Z"
   },
   {
    "duration": 7895,
    "start_time": "2023-04-30T11:50:14.652Z"
   },
   {
    "duration": 8265,
    "start_time": "2023-04-30T11:55:01.248Z"
   },
   {
    "duration": 4,
    "start_time": "2023-04-30T11:59:00.164Z"
   },
   {
    "duration": 3,
    "start_time": "2023-04-30T11:59:00.737Z"
   },
   {
    "duration": 79928,
    "start_time": "2023-04-30T11:59:03.035Z"
   },
   {
    "duration": 71149,
    "start_time": "2023-04-30T12:02:28.804Z"
   },
   {
    "duration": 54392,
    "start_time": "2023-04-30T12:03:39.955Z"
   },
   {
    "duration": 1117,
    "start_time": "2023-04-30T12:06:52.307Z"
   },
   {
    "duration": 1023,
    "start_time": "2023-04-30T12:06:56.659Z"
   },
   {
    "duration": 22,
    "start_time": "2023-04-30T12:08:28.263Z"
   },
   {
    "duration": 15,
    "start_time": "2023-04-30T12:08:33.968Z"
   },
   {
    "duration": 5,
    "start_time": "2023-04-30T12:09:54.629Z"
   },
   {
    "duration": 1224,
    "start_time": "2023-04-30T12:10:49.036Z"
   },
   {
    "duration": 50,
    "start_time": "2023-04-30T12:37:41.628Z"
   },
   {
    "duration": 115,
    "start_time": "2023-04-30T12:40:25.434Z"
   },
   {
    "duration": 1737,
    "start_time": "2023-04-30T12:43:45.416Z"
   },
   {
    "duration": 1135,
    "start_time": "2023-04-30T12:43:47.156Z"
   },
   {
    "duration": 133,
    "start_time": "2023-04-30T12:43:48.293Z"
   },
   {
    "duration": 154,
    "start_time": "2023-04-30T12:43:48.430Z"
   },
   {
    "duration": 32,
    "start_time": "2023-04-30T12:43:48.585Z"
   },
   {
    "duration": 59,
    "start_time": "2023-04-30T12:43:48.619Z"
   },
   {
    "duration": 12,
    "start_time": "2023-04-30T12:43:48.681Z"
   },
   {
    "duration": 76,
    "start_time": "2023-04-30T12:43:48.712Z"
   },
   {
    "duration": 230,
    "start_time": "2023-04-30T12:43:48.791Z"
   },
   {
    "duration": 14,
    "start_time": "2023-04-30T12:43:49.036Z"
   },
   {
    "duration": 162,
    "start_time": "2023-04-30T12:43:49.055Z"
   },
   {
    "duration": 114,
    "start_time": "2023-04-30T12:43:49.220Z"
   },
   {
    "duration": 190,
    "start_time": "2023-04-30T12:43:49.338Z"
   },
   {
    "duration": 157,
    "start_time": "2023-04-30T12:43:49.533Z"
   },
   {
    "duration": 4,
    "start_time": "2023-04-30T12:43:49.692Z"
   },
   {
    "duration": 544,
    "start_time": "2023-04-30T12:43:49.698Z"
   },
   {
    "duration": 76,
    "start_time": "2023-04-30T12:43:50.244Z"
   },
   {
    "duration": 228,
    "start_time": "2023-04-30T12:43:50.322Z"
   },
   {
    "duration": 305,
    "start_time": "2023-04-30T12:43:50.552Z"
   },
   {
    "duration": 885,
    "start_time": "2023-04-30T12:43:50.859Z"
   },
   {
    "duration": 55,
    "start_time": "2023-04-30T12:43:51.746Z"
   },
   {
    "duration": 11,
    "start_time": "2023-04-30T12:43:51.815Z"
   },
   {
    "duration": 32,
    "start_time": "2023-04-30T12:43:51.828Z"
   },
   {
    "duration": 19,
    "start_time": "2023-04-30T12:43:51.862Z"
   },
   {
    "duration": 1323,
    "start_time": "2023-04-30T12:43:51.884Z"
   },
   {
    "duration": 4,
    "start_time": "2023-04-30T12:43:53.208Z"
   },
   {
    "duration": 44,
    "start_time": "2023-04-30T12:43:53.214Z"
   },
   {
    "duration": 148,
    "start_time": "2023-04-30T12:43:53.262Z"
   },
   {
    "duration": 1304,
    "start_time": "2023-04-30T12:43:53.413Z"
   },
   {
    "duration": 0,
    "start_time": "2023-04-30T12:43:54.718Z"
   },
   {
    "duration": 0,
    "start_time": "2023-04-30T12:43:54.719Z"
   },
   {
    "duration": 0,
    "start_time": "2023-04-30T12:43:54.723Z"
   },
   {
    "duration": 0,
    "start_time": "2023-04-30T12:43:54.726Z"
   },
   {
    "duration": 0,
    "start_time": "2023-04-30T12:43:54.727Z"
   },
   {
    "duration": 0,
    "start_time": "2023-04-30T12:43:54.728Z"
   },
   {
    "duration": 0,
    "start_time": "2023-04-30T12:43:54.729Z"
   },
   {
    "duration": 0,
    "start_time": "2023-04-30T12:43:54.731Z"
   },
   {
    "duration": 0,
    "start_time": "2023-04-30T12:43:54.732Z"
   },
   {
    "duration": 0,
    "start_time": "2023-04-30T12:43:54.735Z"
   },
   {
    "duration": 0,
    "start_time": "2023-04-30T12:43:54.736Z"
   },
   {
    "duration": 0,
    "start_time": "2023-04-30T12:43:54.737Z"
   },
   {
    "duration": 0,
    "start_time": "2023-04-30T12:43:54.738Z"
   },
   {
    "duration": 0,
    "start_time": "2023-04-30T12:43:54.741Z"
   },
   {
    "duration": 0,
    "start_time": "2023-04-30T12:43:54.742Z"
   },
   {
    "duration": 0,
    "start_time": "2023-04-30T12:43:54.744Z"
   },
   {
    "duration": 0,
    "start_time": "2023-04-30T12:43:54.745Z"
   },
   {
    "duration": 0,
    "start_time": "2023-04-30T12:43:54.746Z"
   },
   {
    "duration": 0,
    "start_time": "2023-04-30T12:43:54.747Z"
   },
   {
    "duration": 1060,
    "start_time": "2023-04-30T12:45:37.327Z"
   },
   {
    "duration": 1022,
    "start_time": "2023-04-30T12:47:43.460Z"
   },
   {
    "duration": 4,
    "start_time": "2023-04-30T12:47:45.230Z"
   },
   {
    "duration": 110,
    "start_time": "2023-04-30T12:47:56.929Z"
   },
   {
    "duration": 1027,
    "start_time": "2023-04-30T12:47:57.681Z"
   },
   {
    "duration": 8,
    "start_time": "2023-04-30T12:47:58.712Z"
   },
   {
    "duration": 6,
    "start_time": "2023-04-30T12:48:03.049Z"
   },
   {
    "duration": 2,
    "start_time": "2023-04-30T12:48:05.265Z"
   },
   {
    "duration": 2,
    "start_time": "2023-04-30T12:48:05.532Z"
   },
   {
    "duration": 43191,
    "start_time": "2023-04-30T12:48:07.952Z"
   },
   {
    "duration": 240,
    "start_time": "2023-04-30T12:48:51.145Z"
   },
   {
    "duration": 154,
    "start_time": "2023-04-30T12:49:18.150Z"
   },
   {
    "duration": 88,
    "start_time": "2023-04-30T12:49:19.225Z"
   },
   {
    "duration": 166,
    "start_time": "2023-04-30T12:50:00.542Z"
   },
   {
    "duration": 83,
    "start_time": "2023-04-30T12:50:04.362Z"
   },
   {
    "duration": 611,
    "start_time": "2023-04-30T12:52:08.930Z"
   },
   {
    "duration": 1003,
    "start_time": "2023-04-30T12:53:11.453Z"
   },
   {
    "duration": 70,
    "start_time": "2023-04-30T12:53:16.045Z"
   },
   {
    "duration": 397,
    "start_time": "2023-04-30T12:53:16.678Z"
   },
   {
    "duration": 449,
    "start_time": "2023-04-30T12:55:05.178Z"
   },
   {
    "duration": 5,
    "start_time": "2023-04-30T12:55:08.125Z"
   },
   {
    "duration": 379,
    "start_time": "2023-04-30T12:55:47.325Z"
   },
   {
    "duration": 10,
    "start_time": "2023-04-30T12:56:45.625Z"
   },
   {
    "duration": 97,
    "start_time": "2023-04-30T12:57:28.963Z"
   },
   {
    "duration": 101,
    "start_time": "2023-04-30T12:57:35.125Z"
   },
   {
    "duration": 15,
    "start_time": "2023-04-30T12:57:57.354Z"
   },
   {
    "duration": 15,
    "start_time": "2023-04-30T12:58:26.289Z"
   },
   {
    "duration": 385,
    "start_time": "2023-04-30T12:58:31.600Z"
   },
   {
    "duration": 3,
    "start_time": "2023-04-30T12:58:37.928Z"
   },
   {
    "duration": 38,
    "start_time": "2023-04-30T12:58:39.221Z"
   },
   {
    "duration": 105,
    "start_time": "2023-04-30T12:58:41.151Z"
   },
   {
    "duration": 1017,
    "start_time": "2023-04-30T12:58:42.288Z"
   },
   {
    "duration": 9836,
    "start_time": "2023-04-30T12:59:10.752Z"
   },
   {
    "duration": 1783,
    "start_time": "2023-04-30T12:59:40.068Z"
   },
   {
    "duration": 1190,
    "start_time": "2023-04-30T12:59:41.855Z"
   },
   {
    "duration": 128,
    "start_time": "2023-04-30T12:59:43.047Z"
   },
   {
    "duration": 178,
    "start_time": "2023-04-30T12:59:43.177Z"
   },
   {
    "duration": 17,
    "start_time": "2023-04-30T12:59:43.357Z"
   },
   {
    "duration": 79,
    "start_time": "2023-04-30T12:59:43.375Z"
   },
   {
    "duration": 9,
    "start_time": "2023-04-30T12:59:43.456Z"
   },
   {
    "duration": 78,
    "start_time": "2023-04-30T12:59:43.468Z"
   },
   {
    "duration": 218,
    "start_time": "2023-04-30T12:59:43.548Z"
   },
   {
    "duration": 6,
    "start_time": "2023-04-30T12:59:43.768Z"
   },
   {
    "duration": 139,
    "start_time": "2023-04-30T12:59:43.776Z"
   },
   {
    "duration": 63,
    "start_time": "2023-04-30T12:59:43.920Z"
   },
   {
    "duration": 163,
    "start_time": "2023-04-30T12:59:43.985Z"
   },
   {
    "duration": 151,
    "start_time": "2023-04-30T12:59:44.150Z"
   },
   {
    "duration": 14,
    "start_time": "2023-04-30T12:59:44.303Z"
   },
   {
    "duration": 547,
    "start_time": "2023-04-30T12:59:44.321Z"
   },
   {
    "duration": 79,
    "start_time": "2023-04-30T12:59:44.871Z"
   },
   {
    "duration": 149,
    "start_time": "2023-04-30T12:59:44.952Z"
   },
   {
    "duration": 304,
    "start_time": "2023-04-30T12:59:45.103Z"
   },
   {
    "duration": 975,
    "start_time": "2023-04-30T12:59:45.413Z"
   },
   {
    "duration": 76,
    "start_time": "2023-04-30T12:59:46.390Z"
   },
   {
    "duration": 7,
    "start_time": "2023-04-30T12:59:46.468Z"
   },
   {
    "duration": 7,
    "start_time": "2023-04-30T12:59:46.477Z"
   },
   {
    "duration": 38,
    "start_time": "2023-04-30T12:59:46.486Z"
   },
   {
    "duration": 1453,
    "start_time": "2023-04-30T12:59:46.526Z"
   },
   {
    "duration": 3,
    "start_time": "2023-04-30T12:59:47.981Z"
   },
   {
    "duration": 54,
    "start_time": "2023-04-30T12:59:47.986Z"
   },
   {
    "duration": 127,
    "start_time": "2023-04-30T12:59:48.043Z"
   },
   {
    "duration": 1220,
    "start_time": "2023-04-30T12:59:48.172Z"
   },
   {
    "duration": 0,
    "start_time": "2023-04-30T12:59:49.394Z"
   },
   {
    "duration": 0,
    "start_time": "2023-04-30T12:59:49.395Z"
   },
   {
    "duration": 0,
    "start_time": "2023-04-30T12:59:49.397Z"
   },
   {
    "duration": 0,
    "start_time": "2023-04-30T12:59:49.398Z"
   },
   {
    "duration": 0,
    "start_time": "2023-04-30T12:59:49.412Z"
   },
   {
    "duration": 0,
    "start_time": "2023-04-30T12:59:49.412Z"
   },
   {
    "duration": 0,
    "start_time": "2023-04-30T12:59:49.413Z"
   },
   {
    "duration": 0,
    "start_time": "2023-04-30T12:59:49.414Z"
   },
   {
    "duration": 0,
    "start_time": "2023-04-30T12:59:49.415Z"
   },
   {
    "duration": 0,
    "start_time": "2023-04-30T12:59:49.416Z"
   },
   {
    "duration": 0,
    "start_time": "2023-04-30T12:59:49.417Z"
   },
   {
    "duration": 0,
    "start_time": "2023-04-30T12:59:49.418Z"
   },
   {
    "duration": 0,
    "start_time": "2023-04-30T12:59:49.418Z"
   },
   {
    "duration": 0,
    "start_time": "2023-04-30T12:59:49.419Z"
   },
   {
    "duration": 0,
    "start_time": "2023-04-30T12:59:49.420Z"
   },
   {
    "duration": 0,
    "start_time": "2023-04-30T12:59:49.421Z"
   },
   {
    "duration": 0,
    "start_time": "2023-04-30T12:59:49.422Z"
   },
   {
    "duration": 0,
    "start_time": "2023-04-30T12:59:49.422Z"
   },
   {
    "duration": 0,
    "start_time": "2023-04-30T12:59:49.423Z"
   },
   {
    "duration": 55,
    "start_time": "2023-04-30T13:01:24.232Z"
   },
   {
    "duration": 511,
    "start_time": "2023-04-30T13:02:52.349Z"
   },
   {
    "duration": 4,
    "start_time": "2023-04-30T13:02:54.129Z"
   },
   {
    "duration": 6,
    "start_time": "2023-04-30T13:02:57.268Z"
   },
   {
    "duration": 42363,
    "start_time": "2023-04-30T13:03:01.156Z"
   },
   {
    "duration": 165,
    "start_time": "2023-04-30T13:03:43.522Z"
   },
   {
    "duration": 181,
    "start_time": "2023-04-30T13:04:08.933Z"
   },
   {
    "duration": 2424,
    "start_time": "2023-04-30T13:04:22.729Z"
   },
   {
    "duration": 77,
    "start_time": "2023-04-30T13:04:25.156Z"
   },
   {
    "duration": 68,
    "start_time": "2023-04-30T13:04:34.526Z"
   },
   {
    "duration": 3,
    "start_time": "2023-04-30T13:04:43.228Z"
   },
   {
    "duration": 37591,
    "start_time": "2023-04-30T13:04:48.826Z"
   },
   {
    "duration": 79,
    "start_time": "2023-04-30T13:05:26.419Z"
   },
   {
    "duration": 119,
    "start_time": "2023-04-30T13:07:57.082Z"
   },
   {
    "duration": 1627,
    "start_time": "2023-04-30T13:09:38.928Z"
   },
   {
    "duration": 1115,
    "start_time": "2023-04-30T13:09:40.557Z"
   },
   {
    "duration": 118,
    "start_time": "2023-04-30T13:09:41.673Z"
   },
   {
    "duration": 145,
    "start_time": "2023-04-30T13:09:41.792Z"
   },
   {
    "duration": 17,
    "start_time": "2023-04-30T13:09:41.939Z"
   },
   {
    "duration": 57,
    "start_time": "2023-04-30T13:09:41.958Z"
   },
   {
    "duration": 15,
    "start_time": "2023-04-30T13:09:42.017Z"
   },
   {
    "duration": 84,
    "start_time": "2023-04-30T13:09:42.035Z"
   },
   {
    "duration": 142,
    "start_time": "2023-04-30T13:09:42.124Z"
   },
   {
    "duration": 6,
    "start_time": "2023-04-30T13:09:42.267Z"
   },
   {
    "duration": 127,
    "start_time": "2023-04-30T13:09:42.274Z"
   },
   {
    "duration": 59,
    "start_time": "2023-04-30T13:09:42.403Z"
   },
   {
    "duration": 162,
    "start_time": "2023-04-30T13:09:42.464Z"
   },
   {
    "duration": 144,
    "start_time": "2023-04-30T13:09:42.629Z"
   },
   {
    "duration": 4,
    "start_time": "2023-04-30T13:09:42.775Z"
   },
   {
    "duration": 497,
    "start_time": "2023-04-30T13:09:42.781Z"
   },
   {
    "duration": 65,
    "start_time": "2023-04-30T13:09:43.279Z"
   },
   {
    "duration": 149,
    "start_time": "2023-04-30T13:09:43.346Z"
   },
   {
    "duration": 301,
    "start_time": "2023-04-30T13:09:43.496Z"
   },
   {
    "duration": 816,
    "start_time": "2023-04-30T13:09:43.799Z"
   },
   {
    "duration": 65,
    "start_time": "2023-04-30T13:09:44.616Z"
   },
   {
    "duration": 7,
    "start_time": "2023-04-30T13:09:44.683Z"
   },
   {
    "duration": 35,
    "start_time": "2023-04-30T13:09:44.692Z"
   },
   {
    "duration": 25,
    "start_time": "2023-04-30T13:09:44.729Z"
   },
   {
    "duration": 1174,
    "start_time": "2023-04-30T13:09:44.756Z"
   },
   {
    "duration": 3,
    "start_time": "2023-04-30T13:09:45.932Z"
   },
   {
    "duration": 44,
    "start_time": "2023-04-30T13:09:45.937Z"
   },
   {
    "duration": 134,
    "start_time": "2023-04-30T13:09:45.983Z"
   },
   {
    "duration": 564,
    "start_time": "2023-04-30T13:09:46.120Z"
   },
   {
    "duration": 4,
    "start_time": "2023-04-30T13:09:46.686Z"
   },
   {
    "duration": 17,
    "start_time": "2023-04-30T13:09:46.692Z"
   },
   {
    "duration": 2448,
    "start_time": "2023-04-30T13:09:46.720Z"
   },
   {
    "duration": 3,
    "start_time": "2023-04-30T13:09:49.171Z"
   },
   {
    "duration": 40854,
    "start_time": "2023-04-30T13:09:49.176Z"
   },
   {
    "duration": 89,
    "start_time": "2023-04-30T13:10:30.111Z"
   },
   {
    "duration": 272,
    "start_time": "2023-04-30T13:10:30.211Z"
   },
   {
    "duration": 105,
    "start_time": "2023-04-30T13:10:30.485Z"
   },
   {
    "duration": 160,
    "start_time": "2023-04-30T13:10:30.592Z"
   },
   {
    "duration": 87,
    "start_time": "2023-04-30T13:10:30.754Z"
   },
   {
    "duration": 596,
    "start_time": "2023-04-30T13:10:30.843Z"
   },
   {
    "duration": 521585,
    "start_time": "2023-04-30T13:10:31.443Z"
   },
   {
    "duration": 87,
    "start_time": "2023-04-30T13:19:13.030Z"
   },
   {
    "duration": 7,
    "start_time": "2023-04-30T13:19:13.124Z"
   },
   {
    "duration": 18,
    "start_time": "2023-04-30T13:19:13.132Z"
   },
   {
    "duration": 0,
    "start_time": "2023-04-30T13:19:13.152Z"
   },
   {
    "duration": 0,
    "start_time": "2023-04-30T13:19:13.156Z"
   },
   {
    "duration": 0,
    "start_time": "2023-04-30T13:19:13.157Z"
   },
   {
    "duration": 0,
    "start_time": "2023-04-30T13:19:13.159Z"
   },
   {
    "duration": 0,
    "start_time": "2023-04-30T13:19:13.161Z"
   },
   {
    "duration": 185,
    "start_time": "2023-04-30T13:19:13.460Z"
   },
   {
    "duration": 771,
    "start_time": "2023-04-30T13:19:21.688Z"
   },
   {
    "duration": 714,
    "start_time": "2023-04-30T13:20:09.161Z"
   },
   {
    "duration": 4,
    "start_time": "2023-04-30T13:20:09.957Z"
   },
   {
    "duration": 5,
    "start_time": "2023-04-30T13:20:15.164Z"
   },
   {
    "duration": 1811,
    "start_time": "2023-04-30T13:20:16.532Z"
   },
   {
    "duration": 1257,
    "start_time": "2023-04-30T13:20:24.825Z"
   },
   {
    "duration": 5,
    "start_time": "2023-04-30T13:20:26.085Z"
   },
   {
    "duration": 40,
    "start_time": "2023-04-30T13:20:26.092Z"
   },
   {
    "duration": 41092,
    "start_time": "2023-04-30T13:20:30.933Z"
   },
   {
    "duration": 92,
    "start_time": "2023-04-30T13:21:45.761Z"
   },
   {
    "duration": 131,
    "start_time": "2023-04-30T13:22:06.977Z"
   },
   {
    "duration": 125,
    "start_time": "2023-04-30T13:22:38.499Z"
   },
   {
    "duration": 93,
    "start_time": "2023-04-30T13:22:51.279Z"
   },
   {
    "duration": 159,
    "start_time": "2023-04-30T13:22:58.147Z"
   },
   {
    "duration": 74,
    "start_time": "2023-04-30T13:23:07.662Z"
   },
   {
    "duration": 99,
    "start_time": "2023-04-30T13:23:10.717Z"
   },
   {
    "duration": 89,
    "start_time": "2023-04-30T13:23:59.018Z"
   },
   {
    "duration": 111,
    "start_time": "2023-04-30T13:24:13.645Z"
   },
   {
    "duration": 1014,
    "start_time": "2023-04-30T13:24:18.102Z"
   },
   {
    "duration": 5,
    "start_time": "2023-04-30T13:24:19.851Z"
   },
   {
    "duration": 6,
    "start_time": "2023-04-30T13:24:21.875Z"
   },
   {
    "duration": 2475,
    "start_time": "2023-04-30T13:24:22.717Z"
   },
   {
    "duration": 75,
    "start_time": "2023-04-30T13:24:25.194Z"
   },
   {
    "duration": 19,
    "start_time": "2023-04-30T13:25:13.829Z"
   },
   {
    "duration": 86,
    "start_time": "2023-04-30T13:25:39.152Z"
   },
   {
    "duration": 1160,
    "start_time": "2023-04-30T13:25:51.146Z"
   },
   {
    "duration": 21,
    "start_time": "2023-04-30T13:26:04.810Z"
   },
   {
    "duration": 1685,
    "start_time": "2023-04-30T13:28:19.041Z"
   },
   {
    "duration": 67,
    "start_time": "2023-04-30T13:28:39.742Z"
   },
   {
    "duration": 188,
    "start_time": "2023-04-30T13:29:55.206Z"
   },
   {
    "duration": 154,
    "start_time": "2023-04-30T13:30:09.909Z"
   },
   {
    "duration": 173,
    "start_time": "2023-04-30T13:31:18.053Z"
   },
   {
    "duration": 92,
    "start_time": "2023-04-30T13:31:19.451Z"
   },
   {
    "duration": 15,
    "start_time": "2023-04-30T13:31:26.934Z"
   },
   {
    "duration": 794,
    "start_time": "2023-04-30T13:32:22.379Z"
   },
   {
    "duration": 4,
    "start_time": "2023-04-30T13:32:36.248Z"
   },
   {
    "duration": 77,
    "start_time": "2023-04-30T13:32:48.056Z"
   },
   {
    "duration": 18,
    "start_time": "2023-04-30T13:33:03.551Z"
   },
   {
    "duration": 6,
    "start_time": "2023-04-30T13:33:10.944Z"
   },
   {
    "duration": 11,
    "start_time": "2023-04-30T13:35:33.348Z"
   },
   {
    "duration": 550,
    "start_time": "2023-04-30T13:35:55.807Z"
   },
   {
    "duration": 42213,
    "start_time": "2023-04-30T13:36:00.159Z"
   },
   {
    "duration": 92,
    "start_time": "2023-04-30T13:36:42.374Z"
   },
   {
    "duration": 70,
    "start_time": "2023-04-30T13:37:05.375Z"
   },
   {
    "duration": 10,
    "start_time": "2023-04-30T13:44:57.447Z"
   },
   {
    "duration": 5,
    "start_time": "2023-04-30T13:45:01.987Z"
   },
   {
    "duration": 56,
    "start_time": "2023-04-30T13:46:04.284Z"
   },
   {
    "duration": 23,
    "start_time": "2023-04-30T13:46:05.229Z"
   },
   {
    "duration": 9,
    "start_time": "2023-04-30T13:46:24.063Z"
   },
   {
    "duration": 10,
    "start_time": "2023-04-30T13:46:27.039Z"
   },
   {
    "duration": 6,
    "start_time": "2023-04-30T13:46:29.295Z"
   },
   {
    "duration": 19,
    "start_time": "2023-04-30T13:46:34.127Z"
   },
   {
    "duration": 69,
    "start_time": "2023-04-30T13:46:50.638Z"
   },
   {
    "duration": 5,
    "start_time": "2023-04-30T13:46:59.662Z"
   },
   {
    "duration": 6,
    "start_time": "2023-04-30T13:47:06.826Z"
   },
   {
    "duration": 5,
    "start_time": "2023-04-30T13:47:13.376Z"
   },
   {
    "duration": 1184,
    "start_time": "2023-04-30T13:48:54.131Z"
   },
   {
    "duration": 3,
    "start_time": "2023-04-30T13:48:57.676Z"
   },
   {
    "duration": 504,
    "start_time": "2023-04-30T13:48:59.113Z"
   },
   {
    "duration": 54,
    "start_time": "2023-04-30T13:49:03.026Z"
   },
   {
    "duration": 55,
    "start_time": "2023-04-30T13:49:05.432Z"
   },
   {
    "duration": 24,
    "start_time": "2023-04-30T13:49:06.135Z"
   },
   {
    "duration": 20,
    "start_time": "2023-04-30T13:49:18.754Z"
   },
   {
    "duration": 9,
    "start_time": "2023-04-30T13:49:32.675Z"
   },
   {
    "duration": 20,
    "start_time": "2023-04-30T13:49:44.228Z"
   },
   {
    "duration": 1675,
    "start_time": "2023-04-30T13:50:27.816Z"
   },
   {
    "duration": 1097,
    "start_time": "2023-04-30T13:50:29.493Z"
   },
   {
    "duration": 113,
    "start_time": "2023-04-30T13:50:30.592Z"
   },
   {
    "duration": 171,
    "start_time": "2023-04-30T13:50:30.718Z"
   },
   {
    "duration": 41,
    "start_time": "2023-04-30T13:50:30.891Z"
   },
   {
    "duration": 64,
    "start_time": "2023-04-30T13:50:30.935Z"
   },
   {
    "duration": 25,
    "start_time": "2023-04-30T13:50:31.002Z"
   },
   {
    "duration": 65,
    "start_time": "2023-04-30T13:50:31.029Z"
   },
   {
    "duration": 144,
    "start_time": "2023-04-30T13:50:31.096Z"
   },
   {
    "duration": 5,
    "start_time": "2023-04-30T13:50:31.244Z"
   },
   {
    "duration": 121,
    "start_time": "2023-04-30T13:50:31.251Z"
   },
   {
    "duration": 70,
    "start_time": "2023-04-30T13:50:31.374Z"
   },
   {
    "duration": 145,
    "start_time": "2023-04-30T13:50:31.445Z"
   },
   {
    "duration": 144,
    "start_time": "2023-04-30T13:50:31.592Z"
   },
   {
    "duration": 5,
    "start_time": "2023-04-30T13:50:31.737Z"
   },
   {
    "duration": 500,
    "start_time": "2023-04-30T13:50:31.743Z"
   },
   {
    "duration": 48,
    "start_time": "2023-04-30T13:50:32.244Z"
   },
   {
    "duration": 164,
    "start_time": "2023-04-30T13:50:32.294Z"
   },
   {
    "duration": 294,
    "start_time": "2023-04-30T13:50:32.459Z"
   },
   {
    "duration": 812,
    "start_time": "2023-04-30T13:50:32.755Z"
   },
   {
    "duration": 63,
    "start_time": "2023-04-30T13:50:33.569Z"
   },
   {
    "duration": 5,
    "start_time": "2023-04-30T13:50:33.634Z"
   },
   {
    "duration": 12,
    "start_time": "2023-04-30T13:50:33.641Z"
   },
   {
    "duration": 19,
    "start_time": "2023-04-30T13:50:33.655Z"
   },
   {
    "duration": 1305,
    "start_time": "2023-04-30T13:50:33.676Z"
   },
   {
    "duration": 3,
    "start_time": "2023-04-30T13:50:34.983Z"
   },
   {
    "duration": 586,
    "start_time": "2023-04-30T13:50:34.988Z"
   },
   {
    "duration": 62,
    "start_time": "2023-04-30T13:50:35.578Z"
   },
   {
    "duration": 138,
    "start_time": "2023-04-30T13:50:35.642Z"
   },
   {
    "duration": 0,
    "start_time": "2023-04-30T13:50:35.782Z"
   },
   {
    "duration": 0,
    "start_time": "2023-04-30T13:50:35.783Z"
   },
   {
    "duration": 0,
    "start_time": "2023-04-30T13:50:35.784Z"
   },
   {
    "duration": 0,
    "start_time": "2023-04-30T13:50:35.786Z"
   },
   {
    "duration": 0,
    "start_time": "2023-04-30T13:50:35.787Z"
   },
   {
    "duration": 0,
    "start_time": "2023-04-30T13:50:35.789Z"
   },
   {
    "duration": 0,
    "start_time": "2023-04-30T13:50:35.791Z"
   },
   {
    "duration": 0,
    "start_time": "2023-04-30T13:50:35.792Z"
   },
   {
    "duration": 0,
    "start_time": "2023-04-30T13:50:35.813Z"
   },
   {
    "duration": 0,
    "start_time": "2023-04-30T13:50:35.814Z"
   },
   {
    "duration": 0,
    "start_time": "2023-04-30T13:50:35.815Z"
   },
   {
    "duration": 0,
    "start_time": "2023-04-30T13:50:35.815Z"
   },
   {
    "duration": 0,
    "start_time": "2023-04-30T13:50:35.816Z"
   },
   {
    "duration": 0,
    "start_time": "2023-04-30T13:50:35.817Z"
   },
   {
    "duration": 0,
    "start_time": "2023-04-30T13:50:35.818Z"
   },
   {
    "duration": 60,
    "start_time": "2023-05-01T17:49:47.752Z"
   },
   {
    "duration": 1855,
    "start_time": "2023-05-01T17:49:52.143Z"
   },
   {
    "duration": 1342,
    "start_time": "2023-05-01T17:49:54.000Z"
   },
   {
    "duration": 109,
    "start_time": "2023-05-01T17:49:55.344Z"
   },
   {
    "duration": 144,
    "start_time": "2023-05-01T17:49:55.455Z"
   },
   {
    "duration": 15,
    "start_time": "2023-05-01T17:49:55.601Z"
   },
   {
    "duration": 67,
    "start_time": "2023-05-01T17:49:55.618Z"
   },
   {
    "duration": 11,
    "start_time": "2023-05-01T17:49:55.686Z"
   },
   {
    "duration": 73,
    "start_time": "2023-05-01T17:49:55.699Z"
   },
   {
    "duration": 139,
    "start_time": "2023-05-01T17:49:55.775Z"
   },
   {
    "duration": 5,
    "start_time": "2023-05-01T17:49:55.917Z"
   },
   {
    "duration": 114,
    "start_time": "2023-05-01T17:49:55.923Z"
   },
   {
    "duration": 63,
    "start_time": "2023-05-01T17:49:56.039Z"
   },
   {
    "duration": 143,
    "start_time": "2023-05-01T17:49:56.104Z"
   },
   {
    "duration": 144,
    "start_time": "2023-05-01T17:49:56.249Z"
   },
   {
    "duration": 4,
    "start_time": "2023-05-01T17:49:56.395Z"
   },
   {
    "duration": 478,
    "start_time": "2023-05-01T17:49:56.401Z"
   },
   {
    "duration": 46,
    "start_time": "2023-05-01T17:49:56.881Z"
   },
   {
    "duration": 151,
    "start_time": "2023-05-01T17:49:56.929Z"
   },
   {
    "duration": 269,
    "start_time": "2023-05-01T17:49:57.082Z"
   },
   {
    "duration": 676,
    "start_time": "2023-05-01T17:49:57.352Z"
   },
   {
    "duration": 56,
    "start_time": "2023-05-01T17:49:58.030Z"
   },
   {
    "duration": 5,
    "start_time": "2023-05-01T17:49:58.087Z"
   },
   {
    "duration": 6,
    "start_time": "2023-05-01T17:49:58.093Z"
   },
   {
    "duration": 15,
    "start_time": "2023-05-01T17:49:58.101Z"
   },
   {
    "duration": 1076,
    "start_time": "2023-05-01T17:49:58.118Z"
   },
   {
    "duration": 3,
    "start_time": "2023-05-01T17:49:59.196Z"
   },
   {
    "duration": 566,
    "start_time": "2023-05-01T17:49:59.200Z"
   },
   {
    "duration": 58,
    "start_time": "2023-05-01T17:49:59.771Z"
   },
   {
    "duration": 162,
    "start_time": "2023-05-01T17:49:59.831Z"
   },
   {
    "duration": 0,
    "start_time": "2023-05-01T17:49:59.995Z"
   },
   {
    "duration": 0,
    "start_time": "2023-05-01T17:49:59.996Z"
   },
   {
    "duration": 0,
    "start_time": "2023-05-01T17:49:59.997Z"
   },
   {
    "duration": 0,
    "start_time": "2023-05-01T17:49:59.998Z"
   },
   {
    "duration": 0,
    "start_time": "2023-05-01T17:49:59.999Z"
   },
   {
    "duration": 0,
    "start_time": "2023-05-01T17:50:00.000Z"
   },
   {
    "duration": 0,
    "start_time": "2023-05-01T17:50:00.001Z"
   },
   {
    "duration": 0,
    "start_time": "2023-05-01T17:50:00.002Z"
   },
   {
    "duration": 0,
    "start_time": "2023-05-01T17:50:00.003Z"
   },
   {
    "duration": 0,
    "start_time": "2023-05-01T17:50:00.004Z"
   },
   {
    "duration": 0,
    "start_time": "2023-05-01T17:50:00.005Z"
   },
   {
    "duration": 0,
    "start_time": "2023-05-01T17:50:00.006Z"
   },
   {
    "duration": 0,
    "start_time": "2023-05-01T17:50:00.007Z"
   },
   {
    "duration": 0,
    "start_time": "2023-05-01T17:50:00.008Z"
   },
   {
    "duration": 0,
    "start_time": "2023-05-01T17:50:00.009Z"
   },
   {
    "duration": 25,
    "start_time": "2023-05-01T17:50:23.451Z"
   },
   {
    "duration": 24,
    "start_time": "2023-05-01T17:50:55.630Z"
   },
   {
    "duration": 18,
    "start_time": "2023-05-01T17:50:58.971Z"
   },
   {
    "duration": 5,
    "start_time": "2023-05-01T17:51:05.217Z"
   },
   {
    "duration": 5,
    "start_time": "2023-05-01T17:51:06.296Z"
   },
   {
    "duration": 2387,
    "start_time": "2023-05-01T17:51:08.380Z"
   },
   {
    "duration": 77,
    "start_time": "2023-05-01T17:51:25.454Z"
   },
   {
    "duration": 63225,
    "start_time": "2023-05-01T17:51:53.646Z"
   },
   {
    "duration": 684,
    "start_time": "2023-05-01T17:53:56.796Z"
   },
   {
    "duration": 312,
    "start_time": "2023-05-01T17:54:30.841Z"
   },
   {
    "duration": 49145,
    "start_time": "2023-05-01T17:54:39.017Z"
   },
   {
    "duration": 596,
    "start_time": "2023-05-01T17:55:28.170Z"
   },
   {
    "duration": 62353,
    "start_time": "2023-05-01T17:55:28.768Z"
   },
   {
    "duration": 47665,
    "start_time": "2023-05-01T17:56:31.123Z"
   },
   {
    "duration": 1601,
    "start_time": "2023-05-01T18:00:53.588Z"
   },
   {
    "duration": 1030,
    "start_time": "2023-05-01T18:00:55.191Z"
   },
   {
    "duration": 106,
    "start_time": "2023-05-01T18:00:56.223Z"
   },
   {
    "duration": 142,
    "start_time": "2023-05-01T18:00:56.331Z"
   },
   {
    "duration": 15,
    "start_time": "2023-05-01T18:00:56.474Z"
   },
   {
    "duration": 40,
    "start_time": "2023-05-01T18:00:56.490Z"
   },
   {
    "duration": 8,
    "start_time": "2023-05-01T18:00:56.532Z"
   },
   {
    "duration": 67,
    "start_time": "2023-05-01T18:00:56.559Z"
   },
   {
    "duration": 144,
    "start_time": "2023-05-01T18:00:56.628Z"
   },
   {
    "duration": 5,
    "start_time": "2023-05-01T18:00:56.775Z"
   },
   {
    "duration": 114,
    "start_time": "2023-05-01T18:00:56.782Z"
   },
   {
    "duration": 63,
    "start_time": "2023-05-01T18:00:56.897Z"
   },
   {
    "duration": 135,
    "start_time": "2023-05-01T18:00:56.968Z"
   },
   {
    "duration": 137,
    "start_time": "2023-05-01T18:00:57.104Z"
   },
   {
    "duration": 5,
    "start_time": "2023-05-01T18:00:57.243Z"
   },
   {
    "duration": 470,
    "start_time": "2023-05-01T18:00:57.249Z"
   },
   {
    "duration": 72,
    "start_time": "2023-05-01T18:00:57.721Z"
   },
   {
    "duration": 144,
    "start_time": "2023-05-01T18:00:57.795Z"
   },
   {
    "duration": 283,
    "start_time": "2023-05-01T18:00:57.941Z"
   },
   {
    "duration": 737,
    "start_time": "2023-05-01T18:00:58.226Z"
   },
   {
    "duration": 52,
    "start_time": "2023-05-01T18:00:58.972Z"
   },
   {
    "duration": 6,
    "start_time": "2023-05-01T18:00:59.025Z"
   },
   {
    "duration": 42,
    "start_time": "2023-05-01T18:00:59.032Z"
   },
   {
    "duration": 16,
    "start_time": "2023-05-01T18:00:59.075Z"
   },
   {
    "duration": 1215,
    "start_time": "2023-05-01T18:00:59.093Z"
   },
   {
    "duration": 3,
    "start_time": "2023-05-01T18:01:00.310Z"
   },
   {
    "duration": 57,
    "start_time": "2023-05-01T18:01:00.315Z"
   },
   {
    "duration": 108,
    "start_time": "2023-05-01T18:01:00.376Z"
   },
   {
    "duration": 719,
    "start_time": "2023-05-01T18:01:00.486Z"
   },
   {
    "duration": 4,
    "start_time": "2023-05-01T18:01:01.207Z"
   },
   {
    "duration": 30,
    "start_time": "2023-05-01T18:01:01.213Z"
   },
   {
    "duration": 2396,
    "start_time": "2023-05-01T18:01:01.245Z"
   },
   {
    "duration": 188,
    "start_time": "2023-05-01T18:01:03.643Z"
   },
   {
    "duration": 0,
    "start_time": "2023-05-01T18:01:03.833Z"
   },
   {
    "duration": 0,
    "start_time": "2023-05-01T18:01:03.835Z"
   },
   {
    "duration": 0,
    "start_time": "2023-05-01T18:01:03.835Z"
   },
   {
    "duration": 0,
    "start_time": "2023-05-01T18:01:03.836Z"
   },
   {
    "duration": 0,
    "start_time": "2023-05-01T18:01:03.837Z"
   },
   {
    "duration": 0,
    "start_time": "2023-05-01T18:01:03.838Z"
   },
   {
    "duration": 0,
    "start_time": "2023-05-01T18:01:03.839Z"
   },
   {
    "duration": 0,
    "start_time": "2023-05-01T18:01:03.841Z"
   },
   {
    "duration": 0,
    "start_time": "2023-05-01T18:01:03.861Z"
   },
   {
    "duration": 0,
    "start_time": "2023-05-01T18:01:03.862Z"
   },
   {
    "duration": 0,
    "start_time": "2023-05-01T18:01:03.870Z"
   },
   {
    "duration": 49573,
    "start_time": "2023-05-01T18:01:14.093Z"
   },
   {
    "duration": 163,
    "start_time": "2023-05-01T18:02:03.668Z"
   },
   {
    "duration": 148,
    "start_time": "2023-05-01T18:02:15.661Z"
   },
   {
    "duration": 690,
    "start_time": "2023-05-01T18:02:47.498Z"
   },
   {
    "duration": 513,
    "start_time": "2023-05-01T18:03:13.169Z"
   },
   {
    "duration": 668,
    "start_time": "2023-05-01T18:03:20.855Z"
   },
   {
    "duration": 61,
    "start_time": "2023-05-01T18:03:24.678Z"
   },
   {
    "duration": 1595,
    "start_time": "2023-05-01T18:03:32.492Z"
   },
   {
    "duration": 1025,
    "start_time": "2023-05-01T18:03:34.089Z"
   },
   {
    "duration": 138,
    "start_time": "2023-05-01T18:03:35.115Z"
   },
   {
    "duration": 140,
    "start_time": "2023-05-01T18:03:35.261Z"
   },
   {
    "duration": 13,
    "start_time": "2023-05-01T18:03:35.403Z"
   },
   {
    "duration": 67,
    "start_time": "2023-05-01T18:03:35.418Z"
   },
   {
    "duration": 8,
    "start_time": "2023-05-01T18:03:35.486Z"
   },
   {
    "duration": 65,
    "start_time": "2023-05-01T18:03:35.496Z"
   },
   {
    "duration": 129,
    "start_time": "2023-05-01T18:03:35.563Z"
   },
   {
    "duration": 5,
    "start_time": "2023-05-01T18:03:35.695Z"
   },
   {
    "duration": 116,
    "start_time": "2023-05-01T18:03:35.701Z"
   },
   {
    "duration": 66,
    "start_time": "2023-05-01T18:03:35.819Z"
   },
   {
    "duration": 144,
    "start_time": "2023-05-01T18:03:35.887Z"
   },
   {
    "duration": 121,
    "start_time": "2023-05-01T18:03:36.033Z"
   },
   {
    "duration": 10,
    "start_time": "2023-05-01T18:03:36.155Z"
   },
   {
    "duration": 468,
    "start_time": "2023-05-01T18:03:36.166Z"
   },
   {
    "duration": 61,
    "start_time": "2023-05-01T18:03:36.636Z"
   },
   {
    "duration": 137,
    "start_time": "2023-05-01T18:03:36.699Z"
   },
   {
    "duration": 261,
    "start_time": "2023-05-01T18:03:36.838Z"
   },
   {
    "duration": 727,
    "start_time": "2023-05-01T18:03:37.101Z"
   },
   {
    "duration": 52,
    "start_time": "2023-05-01T18:03:37.830Z"
   },
   {
    "duration": 5,
    "start_time": "2023-05-01T18:03:37.884Z"
   },
   {
    "duration": 5,
    "start_time": "2023-05-01T18:03:37.890Z"
   },
   {
    "duration": 19,
    "start_time": "2023-05-01T18:03:37.897Z"
   },
   {
    "duration": 1158,
    "start_time": "2023-05-01T18:03:37.917Z"
   },
   {
    "duration": 4,
    "start_time": "2023-05-01T18:03:39.077Z"
   },
   {
    "duration": 547,
    "start_time": "2023-05-01T18:03:39.083Z"
   },
   {
    "duration": 75,
    "start_time": "2023-05-01T18:03:39.634Z"
   },
   {
    "duration": 368,
    "start_time": "2023-05-01T18:03:39.711Z"
   },
   {
    "duration": 4,
    "start_time": "2023-05-01T18:03:40.081Z"
   },
   {
    "duration": 12,
    "start_time": "2023-05-01T18:03:40.087Z"
   },
   {
    "duration": 2384,
    "start_time": "2023-05-01T18:03:40.101Z"
   },
   {
    "duration": 84,
    "start_time": "2023-05-01T18:03:42.486Z"
   },
   {
    "duration": 45191,
    "start_time": "2023-05-01T18:03:42.572Z"
   },
   {
    "duration": 811,
    "start_time": "2023-05-01T18:04:27.768Z"
   },
   {
    "duration": 63782,
    "start_time": "2023-05-01T18:04:28.584Z"
   },
   {
    "duration": 695,
    "start_time": "2023-05-01T18:06:21.605Z"
   },
   {
    "duration": 51869,
    "start_time": "2023-05-01T18:06:22.302Z"
   },
   {
    "duration": 8521,
    "start_time": "2023-05-01T18:07:14.173Z"
   },
   {
    "duration": 3,
    "start_time": "2023-05-01T18:07:22.696Z"
   },
   {
    "duration": 1599,
    "start_time": "2023-05-01T18:08:04.862Z"
   },
   {
    "duration": 1004,
    "start_time": "2023-05-01T18:08:06.463Z"
   },
   {
    "duration": 103,
    "start_time": "2023-05-01T18:08:07.473Z"
   },
   {
    "duration": 151,
    "start_time": "2023-05-01T18:08:07.578Z"
   },
   {
    "duration": 40,
    "start_time": "2023-05-01T18:08:07.731Z"
   },
   {
    "duration": 69,
    "start_time": "2023-05-01T18:08:07.773Z"
   },
   {
    "duration": 10,
    "start_time": "2023-05-01T18:08:07.844Z"
   },
   {
    "duration": 111,
    "start_time": "2023-05-01T18:08:07.856Z"
   },
   {
    "duration": 138,
    "start_time": "2023-05-01T18:08:07.971Z"
   },
   {
    "duration": 5,
    "start_time": "2023-05-01T18:08:08.111Z"
   },
   {
    "duration": 115,
    "start_time": "2023-05-01T18:08:08.118Z"
   },
   {
    "duration": 69,
    "start_time": "2023-05-01T18:08:08.234Z"
   },
   {
    "duration": 132,
    "start_time": "2023-05-01T18:08:08.305Z"
   },
   {
    "duration": 131,
    "start_time": "2023-05-01T18:08:08.439Z"
   },
   {
    "duration": 5,
    "start_time": "2023-05-01T18:08:08.572Z"
   },
   {
    "duration": 429,
    "start_time": "2023-05-01T18:08:08.579Z"
   },
   {
    "duration": 64,
    "start_time": "2023-05-01T18:08:09.010Z"
   },
   {
    "duration": 129,
    "start_time": "2023-05-01T18:08:09.076Z"
   },
   {
    "duration": 259,
    "start_time": "2023-05-01T18:08:09.207Z"
   },
   {
    "duration": 840,
    "start_time": "2023-05-01T18:08:09.468Z"
   },
   {
    "duration": 56,
    "start_time": "2023-05-01T18:08:10.310Z"
   },
   {
    "duration": 5,
    "start_time": "2023-05-01T18:08:10.367Z"
   },
   {
    "duration": 6,
    "start_time": "2023-05-01T18:08:10.374Z"
   },
   {
    "duration": 19,
    "start_time": "2023-05-01T18:08:10.382Z"
   },
   {
    "duration": 1157,
    "start_time": "2023-05-01T18:08:10.403Z"
   },
   {
    "duration": 3,
    "start_time": "2023-05-01T18:08:11.562Z"
   },
   {
    "duration": 533,
    "start_time": "2023-05-01T18:08:11.569Z"
   },
   {
    "duration": 57,
    "start_time": "2023-05-01T18:08:12.103Z"
   },
   {
    "duration": 278,
    "start_time": "2023-05-01T18:08:12.162Z"
   },
   {
    "duration": 5,
    "start_time": "2023-05-01T18:08:12.442Z"
   },
   {
    "duration": 8,
    "start_time": "2023-05-01T18:08:12.459Z"
   },
   {
    "duration": 2312,
    "start_time": "2023-05-01T18:08:12.469Z"
   },
   {
    "duration": 83,
    "start_time": "2023-05-01T18:08:14.783Z"
   },
   {
    "duration": 16595,
    "start_time": "2023-05-01T18:08:14.868Z"
   },
   {
    "duration": 801,
    "start_time": "2023-05-01T18:08:31.466Z"
   },
   {
    "duration": 61215,
    "start_time": "2023-05-01T18:08:32.270Z"
   },
   {
    "duration": 45592,
    "start_time": "2023-05-01T18:09:33.487Z"
   },
   {
    "duration": 778,
    "start_time": "2023-05-01T18:10:19.081Z"
   },
   {
    "duration": 1127,
    "start_time": "2023-05-01T18:10:19.862Z"
   },
   {
    "duration": 698,
    "start_time": "2023-05-01T18:10:20.991Z"
   },
   {
    "duration": 63781,
    "start_time": "2023-05-01T18:10:21.691Z"
   },
   {
    "duration": 7824,
    "start_time": "2023-05-01T18:11:25.474Z"
   },
   {
    "duration": 3,
    "start_time": "2023-05-01T18:11:33.300Z"
   },
   {
    "duration": 48049,
    "start_time": "2023-05-01T18:11:33.304Z"
   },
   {
    "duration": 201,
    "start_time": "2023-05-01T18:13:29.806Z"
   },
   {
    "duration": 83,
    "start_time": "2023-05-01T18:13:39.901Z"
   },
   {
    "duration": 91,
    "start_time": "2023-05-01T18:13:57.308Z"
   },
   {
    "duration": 136,
    "start_time": "2023-05-01T18:14:31.874Z"
   },
   {
    "duration": 47971,
    "start_time": "2023-05-01T18:17:18.357Z"
   },
   {
    "duration": 74,
    "start_time": "2023-05-01T18:19:07.205Z"
   },
   {
    "duration": 3352,
    "start_time": "2023-05-02T17:10:13.232Z"
   },
   {
    "duration": 1808,
    "start_time": "2023-05-02T17:10:16.586Z"
   },
   {
    "duration": 163,
    "start_time": "2023-05-02T17:10:18.396Z"
   },
   {
    "duration": 151,
    "start_time": "2023-05-02T17:10:18.564Z"
   },
   {
    "duration": 20,
    "start_time": "2023-05-02T17:10:18.718Z"
   },
   {
    "duration": 58,
    "start_time": "2023-05-02T17:10:18.740Z"
   },
   {
    "duration": 24,
    "start_time": "2023-05-02T17:10:18.800Z"
   },
   {
    "duration": 60,
    "start_time": "2023-05-02T17:10:18.829Z"
   },
   {
    "duration": 183,
    "start_time": "2023-05-02T17:10:18.890Z"
   },
   {
    "duration": 7,
    "start_time": "2023-05-02T17:10:19.075Z"
   },
   {
    "duration": 164,
    "start_time": "2023-05-02T17:10:19.084Z"
   },
   {
    "duration": 69,
    "start_time": "2023-05-02T17:10:19.250Z"
   },
   {
    "duration": 190,
    "start_time": "2023-05-02T17:10:19.322Z"
   },
   {
    "duration": 157,
    "start_time": "2023-05-02T17:10:19.516Z"
   },
   {
    "duration": 5,
    "start_time": "2023-05-02T17:10:19.674Z"
   },
   {
    "duration": 569,
    "start_time": "2023-05-02T17:10:19.680Z"
   },
   {
    "duration": 74,
    "start_time": "2023-05-02T17:10:20.251Z"
   },
   {
    "duration": 196,
    "start_time": "2023-05-02T17:10:20.327Z"
   },
   {
    "duration": 395,
    "start_time": "2023-05-02T17:10:20.525Z"
   },
   {
    "duration": 1134,
    "start_time": "2023-05-02T17:10:20.922Z"
   },
   {
    "duration": 64,
    "start_time": "2023-05-02T17:10:22.058Z"
   },
   {
    "duration": 7,
    "start_time": "2023-05-02T17:10:22.133Z"
   },
   {
    "duration": 8,
    "start_time": "2023-05-02T17:10:22.142Z"
   },
   {
    "duration": 21,
    "start_time": "2023-05-02T17:10:22.155Z"
   },
   {
    "duration": 1340,
    "start_time": "2023-05-02T17:10:22.178Z"
   },
   {
    "duration": 3,
    "start_time": "2023-05-02T17:10:23.520Z"
   },
   {
    "duration": 41,
    "start_time": "2023-05-02T17:10:23.528Z"
   },
   {
    "duration": 130,
    "start_time": "2023-05-02T17:10:23.570Z"
   },
   {
    "duration": 861,
    "start_time": "2023-05-02T17:10:23.702Z"
   },
   {
    "duration": 19,
    "start_time": "2023-05-02T17:10:24.566Z"
   },
   {
    "duration": 184,
    "start_time": "2023-05-02T17:14:32.684Z"
   },
   {
    "duration": 25,
    "start_time": "2023-05-02T17:15:29.540Z"
   },
   {
    "duration": 25,
    "start_time": "2023-05-02T17:15:43.706Z"
   },
   {
    "duration": 4235,
    "start_time": "2023-05-02T17:19:42.610Z"
   },
   {
    "duration": 1451,
    "start_time": "2023-05-02T17:19:46.850Z"
   },
   {
    "duration": 137,
    "start_time": "2023-05-02T17:19:48.303Z"
   },
   {
    "duration": 181,
    "start_time": "2023-05-02T17:19:48.443Z"
   },
   {
    "duration": 25,
    "start_time": "2023-05-02T17:19:48.628Z"
   },
   {
    "duration": 73,
    "start_time": "2023-05-02T17:19:48.656Z"
   },
   {
    "duration": 18,
    "start_time": "2023-05-02T17:19:48.735Z"
   },
   {
    "duration": 77,
    "start_time": "2023-05-02T17:19:48.759Z"
   },
   {
    "duration": 209,
    "start_time": "2023-05-02T17:19:48.838Z"
   },
   {
    "duration": 12,
    "start_time": "2023-05-02T17:19:49.055Z"
   },
   {
    "duration": 173,
    "start_time": "2023-05-02T17:19:49.069Z"
   },
   {
    "duration": 81,
    "start_time": "2023-05-02T17:19:49.244Z"
   },
   {
    "duration": 238,
    "start_time": "2023-05-02T17:19:49.328Z"
   },
   {
    "duration": 204,
    "start_time": "2023-05-02T17:19:49.570Z"
   },
   {
    "duration": 7,
    "start_time": "2023-05-02T17:19:49.776Z"
   },
   {
    "duration": 645,
    "start_time": "2023-05-02T17:19:49.785Z"
   },
   {
    "duration": 62,
    "start_time": "2023-05-02T17:19:50.432Z"
   },
   {
    "duration": 195,
    "start_time": "2023-05-02T17:19:50.496Z"
   },
   {
    "duration": 369,
    "start_time": "2023-05-02T17:19:50.692Z"
   },
   {
    "duration": 1043,
    "start_time": "2023-05-02T17:19:51.063Z"
   },
   {
    "duration": 74,
    "start_time": "2023-05-02T17:19:52.111Z"
   },
   {
    "duration": 9,
    "start_time": "2023-05-02T17:19:52.187Z"
   },
   {
    "duration": 8,
    "start_time": "2023-05-02T17:19:52.197Z"
   },
   {
    "duration": 44,
    "start_time": "2023-05-02T17:19:52.215Z"
   },
   {
    "duration": 1590,
    "start_time": "2023-05-02T17:19:52.261Z"
   },
   {
    "duration": 5,
    "start_time": "2023-05-02T17:19:53.854Z"
   },
   {
    "duration": 59,
    "start_time": "2023-05-02T17:19:53.861Z"
   },
   {
    "duration": 158,
    "start_time": "2023-05-02T17:19:53.930Z"
   },
   {
    "duration": 171,
    "start_time": "2023-05-02T17:19:54.090Z"
   },
   {
    "duration": 0,
    "start_time": "2023-05-02T17:19:54.264Z"
   },
   {
    "duration": 0,
    "start_time": "2023-05-02T17:19:54.265Z"
   },
   {
    "duration": 1508,
    "start_time": "2023-05-02T17:20:14.260Z"
   },
   {
    "duration": 3531,
    "start_time": "2023-05-02T17:22:15.851Z"
   },
   {
    "duration": 1354,
    "start_time": "2023-05-02T17:22:19.385Z"
   },
   {
    "duration": 116,
    "start_time": "2023-05-02T17:22:20.741Z"
   },
   {
    "duration": 163,
    "start_time": "2023-05-02T17:22:20.859Z"
   },
   {
    "duration": 18,
    "start_time": "2023-05-02T17:22:21.025Z"
   },
   {
    "duration": 49,
    "start_time": "2023-05-02T17:22:21.045Z"
   },
   {
    "duration": 11,
    "start_time": "2023-05-02T17:22:21.096Z"
   },
   {
    "duration": 71,
    "start_time": "2023-05-02T17:22:21.112Z"
   },
   {
    "duration": 232,
    "start_time": "2023-05-02T17:22:21.185Z"
   },
   {
    "duration": 6,
    "start_time": "2023-05-02T17:22:21.419Z"
   },
   {
    "duration": 194,
    "start_time": "2023-05-02T17:22:21.427Z"
   },
   {
    "duration": 62,
    "start_time": "2023-05-02T17:22:21.623Z"
   },
   {
    "duration": 293,
    "start_time": "2023-05-02T17:22:21.687Z"
   },
   {
    "duration": 150,
    "start_time": "2023-05-02T17:22:21.983Z"
   },
   {
    "duration": 8,
    "start_time": "2023-05-02T17:22:22.136Z"
   },
   {
    "duration": 555,
    "start_time": "2023-05-02T17:22:22.146Z"
   },
   {
    "duration": 67,
    "start_time": "2023-05-02T17:22:22.703Z"
   },
   {
    "duration": 212,
    "start_time": "2023-05-02T17:22:22.772Z"
   },
   {
    "duration": 354,
    "start_time": "2023-05-02T17:22:22.986Z"
   },
   {
    "duration": 1021,
    "start_time": "2023-05-02T17:22:23.343Z"
   },
   {
    "duration": 60,
    "start_time": "2023-05-02T17:22:24.365Z"
   },
   {
    "duration": 7,
    "start_time": "2023-05-02T17:22:24.427Z"
   },
   {
    "duration": 16,
    "start_time": "2023-05-02T17:22:24.437Z"
   },
   {
    "duration": 22,
    "start_time": "2023-05-02T17:22:24.455Z"
   },
   {
    "duration": 1545,
    "start_time": "2023-05-02T17:22:24.480Z"
   },
   {
    "duration": 3,
    "start_time": "2023-05-02T17:22:26.028Z"
   },
   {
    "duration": 45,
    "start_time": "2023-05-02T17:22:26.033Z"
   },
   {
    "duration": 151,
    "start_time": "2023-05-02T17:22:26.080Z"
   },
   {
    "duration": 1268,
    "start_time": "2023-05-02T17:22:26.234Z"
   },
   {
    "duration": 161,
    "start_time": "2023-05-02T17:22:27.504Z"
   },
   {
    "duration": 15,
    "start_time": "2023-05-02T17:22:56.486Z"
   },
   {
    "duration": 10,
    "start_time": "2023-05-02T17:23:18.587Z"
   },
   {
    "duration": 8,
    "start_time": "2023-05-02T17:24:10.180Z"
   },
   {
    "duration": 7,
    "start_time": "2023-05-02T17:24:17.378Z"
   },
   {
    "duration": 240,
    "start_time": "2023-05-02T17:26:13.723Z"
   },
   {
    "duration": 258,
    "start_time": "2023-05-02T17:28:30.731Z"
   },
   {
    "duration": 67459,
    "start_time": "2023-05-02T17:38:30.082Z"
   },
   {
    "duration": 63,
    "start_time": "2023-05-02T17:40:13.544Z"
   },
   {
    "duration": 66,
    "start_time": "2023-05-02T17:40:46.703Z"
   },
   {
    "duration": 238199,
    "start_time": "2023-05-02T17:41:00.545Z"
   },
   {
    "duration": 73890,
    "start_time": "2023-05-02T17:46:10.187Z"
   },
   {
    "duration": 3688,
    "start_time": "2023-05-02T17:48:45.044Z"
   },
   {
    "duration": 2647,
    "start_time": "2023-05-02T17:48:48.734Z"
   },
   {
    "duration": 150,
    "start_time": "2023-05-02T17:48:51.383Z"
   },
   {
    "duration": 191,
    "start_time": "2023-05-02T17:48:51.535Z"
   },
   {
    "duration": 27,
    "start_time": "2023-05-02T17:48:51.730Z"
   },
   {
    "duration": 82,
    "start_time": "2023-05-02T17:48:51.761Z"
   },
   {
    "duration": 19,
    "start_time": "2023-05-02T17:48:51.845Z"
   },
   {
    "duration": 88,
    "start_time": "2023-05-02T17:48:51.866Z"
   },
   {
    "duration": 225,
    "start_time": "2023-05-02T17:48:51.957Z"
   },
   {
    "duration": 7,
    "start_time": "2023-05-02T17:48:52.184Z"
   },
   {
    "duration": 169,
    "start_time": "2023-05-02T17:48:52.194Z"
   },
   {
    "duration": 96,
    "start_time": "2023-05-02T17:48:52.366Z"
   },
   {
    "duration": 191,
    "start_time": "2023-05-02T17:48:52.466Z"
   },
   {
    "duration": 209,
    "start_time": "2023-05-02T17:48:52.664Z"
   },
   {
    "duration": 4,
    "start_time": "2023-05-02T17:48:52.875Z"
   },
   {
    "duration": 673,
    "start_time": "2023-05-02T17:48:52.881Z"
   },
   {
    "duration": 56,
    "start_time": "2023-05-02T17:48:53.562Z"
   },
   {
    "duration": 185,
    "start_time": "2023-05-02T17:48:53.620Z"
   },
   {
    "duration": 373,
    "start_time": "2023-05-02T17:48:53.820Z"
   },
   {
    "duration": 897,
    "start_time": "2023-05-02T17:48:54.195Z"
   },
   {
    "duration": 75,
    "start_time": "2023-05-02T17:48:55.093Z"
   },
   {
    "duration": 11,
    "start_time": "2023-05-02T17:48:55.171Z"
   },
   {
    "duration": 7,
    "start_time": "2023-05-02T17:48:55.185Z"
   },
   {
    "duration": 30,
    "start_time": "2023-05-02T17:48:55.194Z"
   },
   {
    "duration": 1363,
    "start_time": "2023-05-02T17:48:55.226Z"
   },
   {
    "duration": 4,
    "start_time": "2023-05-02T17:48:56.592Z"
   },
   {
    "duration": 79,
    "start_time": "2023-05-02T17:48:56.600Z"
   },
   {
    "duration": 156,
    "start_time": "2023-05-02T17:48:56.683Z"
   },
   {
    "duration": 1725,
    "start_time": "2023-05-02T17:48:56.841Z"
   },
   {
    "duration": 24,
    "start_time": "2023-05-02T17:48:58.568Z"
   },
   {
    "duration": 7,
    "start_time": "2023-05-02T17:48:58.594Z"
   },
   {
    "duration": 22,
    "start_time": "2023-05-02T17:48:58.603Z"
   },
   {
    "duration": 344,
    "start_time": "2023-05-02T17:48:58.627Z"
   },
   {
    "duration": 351,
    "start_time": "2023-05-02T17:48:58.973Z"
   },
   {
    "duration": 11,
    "start_time": "2023-05-02T17:49:39.108Z"
   },
   {
    "duration": 289639,
    "start_time": "2023-05-02T17:49:41.228Z"
   },
   {
    "duration": 4467,
    "start_time": "2023-05-02T17:55:42.676Z"
   },
   {
    "duration": 16972,
    "start_time": "2023-05-02T17:55:47.148Z"
   },
   {
    "duration": 23984,
    "start_time": "2023-05-02T17:56:37.838Z"
   },
   {
    "duration": 30654,
    "start_time": "2023-05-02T17:57:41.774Z"
   },
   {
    "duration": 122485,
    "start_time": "2023-05-02T17:58:20.262Z"
   },
   {
    "duration": 608,
    "start_time": "2023-05-02T18:00:27.177Z"
   },
   {
    "duration": 84,
    "start_time": "2023-05-02T18:00:29.278Z"
   },
   {
    "duration": 315,
    "start_time": "2023-05-02T18:00:52.013Z"
   }
  ],
  "kernelspec": {
   "display_name": "Python 3 (ipykernel)",
   "language": "python",
   "name": "python3"
  },
  "language_info": {
   "codemirror_mode": {
    "name": "ipython",
    "version": 3
   },
   "file_extension": ".py",
   "mimetype": "text/x-python",
   "name": "python",
   "nbconvert_exporter": "python",
   "pygments_lexer": "ipython3",
   "version": "3.9.5"
  },
  "toc": {
   "base_numbering": 1,
   "nav_menu": {},
   "number_sections": true,
   "sideBar": false,
   "skip_h1_title": true,
   "title_cell": "Table of Contents",
   "title_sidebar": "Contents",
   "toc_cell": false,
   "toc_position": {
    "height": "1470px",
    "left": "118.988px",
    "top": "248.848px",
    "width": "232.969px"
   },
   "toc_section_display": true,
   "toc_window_display": true
  }
 },
 "nbformat": 4,
 "nbformat_minor": 2
}
