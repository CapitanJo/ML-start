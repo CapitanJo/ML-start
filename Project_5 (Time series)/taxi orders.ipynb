{
 "cells": [
  {
   "cell_type": "markdown",
   "metadata": {
    "toc": true
   },
   "source": [
    "<h1>Содержание<span class=\"tocSkip\"></span></h1>\n",
    "<div class=\"toc\"><ul class=\"toc-item\"><li><span><a href=\"#Подготовка\" data-toc-modified-id=\"Подготовка-1\"><span class=\"toc-item-num\">1&nbsp;&nbsp;</span>Подготовка</a></span></li><li><span><a href=\"#Анализ\" data-toc-modified-id=\"Анализ-2\"><span class=\"toc-item-num\">2&nbsp;&nbsp;</span>Анализ</a></span></li><li><span><a href=\"#Обучение\" data-toc-modified-id=\"Обучение-3\"><span class=\"toc-item-num\">3&nbsp;&nbsp;</span>Обучение</a></span></li><li><span><a href=\"#Тестирование\" data-toc-modified-id=\"Тестирование-4\"><span class=\"toc-item-num\">4&nbsp;&nbsp;</span>Тестирование</a></span></li><li><span><a href=\"#Общий-вывод:\" data-toc-modified-id=\"Общий-вывод:-5\"><span class=\"toc-item-num\">5&nbsp;&nbsp;</span>Общий вывод:</a></span></li></ul></div>"
   ]
  },
  {
   "cell_type": "markdown",
   "metadata": {},
   "source": [
    "#  Прогнозирование заказов такси"
   ]
  },
  {
   "cell_type": "markdown",
   "metadata": {},
   "source": [
    "Компания «Чётенькое такси» собрала исторические данные о заказах такси в аэропортах. Чтобы привлекать больше водителей в период пиковой нагрузки, нужно спрогнозировать количество заказов такси на следующий час. Постройте модель для такого предсказания.\n",
    "\n",
    "Значение метрики *RMSE* на тестовой выборке должно быть не больше 48.\n",
    "\n",
    "Вам нужно:\n",
    "\n",
    "1. Загрузить данные и выполнить их ресемплирование по одному часу.\n",
    "2. Проанализировать данные.\n",
    "3. Обучить разные модели с различными гиперпараметрами. Сделать тестовую выборку размером 10% от исходных данных.\n",
    "4. Проверить данные на тестовой выборке и сделать выводы.\n",
    "\n",
    "\n",
    "Данные лежат в файле `taxi.csv`. Количество заказов находится в столбце `num_orders` (от англ. *number of orders*, «число заказов»)."
   ]
  },
  {
   "cell_type": "markdown",
   "metadata": {},
   "source": [
    "## Подготовка"
   ]
  },
  {
   "cell_type": "code",
   "execution_count": 1,
   "metadata": {},
   "outputs": [],
   "source": [
    "\n",
    "import pandas as pd\n",
    "import seaborn as sns\n",
    "import numpy as np\n",
    "import matplotlib.pyplot as plt\n",
    "sns.set()\n",
    "\n",
    "#графики в svg выглядят более четкими\n",
    "#%config InlineBackend.figure_format = 'svg' \n",
    "\n",
    "#увеличим дефолтный размер графиков\n",
    "from pylab import rcParams\n",
    "rcParams['figure.figsize'] = 15, 5"
   ]
  },
  {
   "cell_type": "code",
   "execution_count": 2,
   "metadata": {},
   "outputs": [],
   "source": [
    "from statsmodels.tsa.seasonal import seasonal_decompose"
   ]
  },
  {
   "cell_type": "code",
   "execution_count": 3,
   "metadata": {},
   "outputs": [],
   "source": [
    "\n",
    "#Игнорирование предупреждений\n",
    "import warnings\n",
    "warnings.filterwarnings('ignore')\n",
    "\n",
    "#базовые библиотеки машинного обучения\n",
    "from scipy import stats as st \n",
    "from sklearn import metrics\n",
    "from sklearn.metrics import roc_curve, roc_auc_score, r2_score, mean_absolute_error, make_scorer\n",
    "from sklearn.metrics import mean_squared_error as mse\n",
    "from sklearn.preprocessing import StandardScaler, OrdinalEncoder\n",
    "\n",
    "from sklearn.tree import DecisionTreeRegressor\n",
    "from sklearn.ensemble import RandomForestRegressor\n",
    "from sklearn.linear_model import LogisticRegression, LinearRegression, SGDRegressor\n",
    "from catboost import CatBoostRegressor\n",
    "import xgboost\n",
    "import lightgbm as lgb\n",
    "from sklearn.model_selection import TimeSeriesSplit\n",
    "from sklearn.model_selection import train_test_split, cross_val_score, GridSearchCV, StratifiedShuffleSplit"
   ]
  },
  {
   "cell_type": "code",
   "execution_count": 4,
   "metadata": {},
   "outputs": [],
   "source": [
    "import plotly\n",
    "import plotly.graph_objs as go\n",
    "from plotly.offline import iplot"
   ]
  },
  {
   "cell_type": "code",
   "execution_count": 5,
   "metadata": {},
   "outputs": [
    {
     "name": "stdout",
     "output_type": "stream",
     "text": [
      "<class 'pandas.core.frame.DataFrame'>\n",
      "DatetimeIndex: 26496 entries, 2018-03-01 00:00:00 to 2018-08-31 23:50:00\n",
      "Data columns (total 1 columns):\n",
      " #   Column      Non-Null Count  Dtype\n",
      "---  ------      --------------  -----\n",
      " 0   num_orders  26496 non-null  int64\n",
      "dtypes: int64(1)\n",
      "memory usage: 414.0 KB\n"
     ]
    }
   ],
   "source": [
    "filename = '/datasets/taxi.csv'\n",
    "df = pd.read_csv(filename, index_col=[0], parse_dates=[0])\n",
    "df.sort_index(ascending=True, inplace=True)\n",
    "df.info()"
   ]
  },
  {
   "cell_type": "code",
   "execution_count": 6,
   "metadata": {},
   "outputs": [
    {
     "data": {
      "text/html": [
       "<div>\n",
       "<style scoped>\n",
       "    .dataframe tbody tr th:only-of-type {\n",
       "        vertical-align: middle;\n",
       "    }\n",
       "\n",
       "    .dataframe tbody tr th {\n",
       "        vertical-align: top;\n",
       "    }\n",
       "\n",
       "    .dataframe thead th {\n",
       "        text-align: right;\n",
       "    }\n",
       "</style>\n",
       "<table border=\"1\" class=\"dataframe\">\n",
       "  <thead>\n",
       "    <tr style=\"text-align: right;\">\n",
       "      <th></th>\n",
       "      <th>num_orders</th>\n",
       "    </tr>\n",
       "    <tr>\n",
       "      <th>datetime</th>\n",
       "      <th></th>\n",
       "    </tr>\n",
       "  </thead>\n",
       "  <tbody>\n",
       "    <tr>\n",
       "      <th>2018-03-01 00:00:00</th>\n",
       "      <td>9</td>\n",
       "    </tr>\n",
       "    <tr>\n",
       "      <th>2018-03-01 00:10:00</th>\n",
       "      <td>14</td>\n",
       "    </tr>\n",
       "    <tr>\n",
       "      <th>2018-03-01 00:20:00</th>\n",
       "      <td>28</td>\n",
       "    </tr>\n",
       "    <tr>\n",
       "      <th>2018-03-01 00:30:00</th>\n",
       "      <td>20</td>\n",
       "    </tr>\n",
       "    <tr>\n",
       "      <th>2018-03-01 00:40:00</th>\n",
       "      <td>32</td>\n",
       "    </tr>\n",
       "  </tbody>\n",
       "</table>\n",
       "</div>"
      ],
      "text/plain": [
       "                     num_orders\n",
       "datetime                       \n",
       "2018-03-01 00:00:00           9\n",
       "2018-03-01 00:10:00          14\n",
       "2018-03-01 00:20:00          28\n",
       "2018-03-01 00:30:00          20\n",
       "2018-03-01 00:40:00          32"
      ]
     },
     "execution_count": 6,
     "metadata": {},
     "output_type": "execute_result"
    }
   ],
   "source": [
    "df.head()"
   ]
  },
  {
   "cell_type": "code",
   "execution_count": 7,
   "metadata": {},
   "outputs": [
    {
     "data": {
      "text/html": [
       "<div>\n",
       "<style scoped>\n",
       "    .dataframe tbody tr th:only-of-type {\n",
       "        vertical-align: middle;\n",
       "    }\n",
       "\n",
       "    .dataframe tbody tr th {\n",
       "        vertical-align: top;\n",
       "    }\n",
       "\n",
       "    .dataframe thead th {\n",
       "        text-align: right;\n",
       "    }\n",
       "</style>\n",
       "<table border=\"1\" class=\"dataframe\">\n",
       "  <thead>\n",
       "    <tr style=\"text-align: right;\">\n",
       "      <th></th>\n",
       "      <th>num_orders</th>\n",
       "    </tr>\n",
       "    <tr>\n",
       "      <th>datetime</th>\n",
       "      <th></th>\n",
       "    </tr>\n",
       "  </thead>\n",
       "  <tbody>\n",
       "    <tr>\n",
       "      <th>2018-08-31 23:10:00</th>\n",
       "      <td>32</td>\n",
       "    </tr>\n",
       "    <tr>\n",
       "      <th>2018-08-31 23:20:00</th>\n",
       "      <td>24</td>\n",
       "    </tr>\n",
       "    <tr>\n",
       "      <th>2018-08-31 23:30:00</th>\n",
       "      <td>27</td>\n",
       "    </tr>\n",
       "    <tr>\n",
       "      <th>2018-08-31 23:40:00</th>\n",
       "      <td>39</td>\n",
       "    </tr>\n",
       "    <tr>\n",
       "      <th>2018-08-31 23:50:00</th>\n",
       "      <td>53</td>\n",
       "    </tr>\n",
       "  </tbody>\n",
       "</table>\n",
       "</div>"
      ],
      "text/plain": [
       "                     num_orders\n",
       "datetime                       \n",
       "2018-08-31 23:10:00          32\n",
       "2018-08-31 23:20:00          24\n",
       "2018-08-31 23:30:00          27\n",
       "2018-08-31 23:40:00          39\n",
       "2018-08-31 23:50:00          53"
      ]
     },
     "execution_count": 7,
     "metadata": {},
     "output_type": "execute_result"
    }
   ],
   "source": [
    "df.tail()"
   ]
  },
  {
   "cell_type": "markdown",
   "metadata": {},
   "source": [
    "О наборе данных\n",
    "Первый признак - дата с детальзацией до секунд, второй-количество заказов. Срез представлен за 2018 год в период с марта по август, т.е. у нас имеется сет данных за 5 месяцев. Объем данных = 26 тысяч объектов."
   ]
  },
  {
   "cell_type": "code",
   "execution_count": 8,
   "metadata": {},
   "outputs": [
    {
     "name": "stdout",
     "output_type": "stream",
     "text": [
      "True\n"
     ]
    }
   ],
   "source": [
    "print(df.index.is_monotonic)"
   ]
  },
  {
   "cell_type": "code",
   "execution_count": 9,
   "metadata": {},
   "outputs": [
    {
     "data": {
      "text/html": [
       "<div>\n",
       "<style scoped>\n",
       "    .dataframe tbody tr th:only-of-type {\n",
       "        vertical-align: middle;\n",
       "    }\n",
       "\n",
       "    .dataframe tbody tr th {\n",
       "        vertical-align: top;\n",
       "    }\n",
       "\n",
       "    .dataframe thead th {\n",
       "        text-align: right;\n",
       "    }\n",
       "</style>\n",
       "<table border=\"1\" class=\"dataframe\">\n",
       "  <thead>\n",
       "    <tr style=\"text-align: right;\">\n",
       "      <th></th>\n",
       "      <th>num_orders</th>\n",
       "    </tr>\n",
       "    <tr>\n",
       "      <th>datetime</th>\n",
       "      <th></th>\n",
       "    </tr>\n",
       "  </thead>\n",
       "  <tbody>\n",
       "    <tr>\n",
       "      <th>2018-03-01 00:00:00</th>\n",
       "      <td>124</td>\n",
       "    </tr>\n",
       "    <tr>\n",
       "      <th>2018-03-01 01:00:00</th>\n",
       "      <td>85</td>\n",
       "    </tr>\n",
       "    <tr>\n",
       "      <th>2018-03-01 02:00:00</th>\n",
       "      <td>71</td>\n",
       "    </tr>\n",
       "    <tr>\n",
       "      <th>2018-03-01 03:00:00</th>\n",
       "      <td>66</td>\n",
       "    </tr>\n",
       "    <tr>\n",
       "      <th>2018-03-01 04:00:00</th>\n",
       "      <td>43</td>\n",
       "    </tr>\n",
       "  </tbody>\n",
       "</table>\n",
       "</div>"
      ],
      "text/plain": [
       "                     num_orders\n",
       "datetime                       \n",
       "2018-03-01 00:00:00         124\n",
       "2018-03-01 01:00:00          85\n",
       "2018-03-01 02:00:00          71\n",
       "2018-03-01 03:00:00          66\n",
       "2018-03-01 04:00:00          43"
      ]
     },
     "execution_count": 9,
     "metadata": {},
     "output_type": "execute_result"
    }
   ],
   "source": [
    "df = df.resample('1H').sum()\n",
    "df.head()"
   ]
  },
  {
   "cell_type": "code",
   "execution_count": 10,
   "metadata": {},
   "outputs": [
    {
     "data": {
      "text/plain": [
       "(4416, 1)"
      ]
     },
     "execution_count": 10,
     "metadata": {},
     "output_type": "execute_result"
    }
   ],
   "source": [
    "df.shape"
   ]
  },
  {
   "cell_type": "code",
   "execution_count": 11,
   "metadata": {},
   "outputs": [
    {
     "data": {
      "image/png": "[encoded data removed]",
      "text/plain": [
       "<Figure size 1080x360 with 1 Axes>"
      ]
     },
     "metadata": {},
     "output_type": "display_data"
    }
   ],
   "source": [
    "df.plot()\n",
    "plt.title('Временной ряд заказов');\n",
    "plt.ylabel('Количество заказов')\n",
    "plt.xlabel('Дата заказа')\n",
    "plt.legend(['Количество заказов'], loc = 2);"
   ]
  },
  {
   "cell_type": "code",
   "execution_count": 12,
   "metadata": {},
   "outputs": [],
   "source": [
    "#df['month'] = df.index.month\n",
    "#df['day'] = df.index.day\n",
    "#df['day_of_week'] = df.index.dayofweek\n",
    "#df['hour'] = df.index.hour\n",
    "#df.head()\n",
    "#copy_table = df.copy() # для моделей "
   ]
  },
  {
   "cell_type": "code",
   "execution_count": 13,
   "metadata": {
    "scrolled": true
   },
   "outputs": [],
   "source": [
    "\n",
    "\n",
    "#df['rolling_mean'].plot();\n",
    "#plt.title('rolling_mean');"
   ]
  },
  {
   "cell_type": "code",
   "execution_count": 14,
   "metadata": {},
   "outputs": [],
   "source": [
    "def make_features(df, max_lag, rolling_mean_size):\n",
    "    df['hour'] = df.index.hour\n",
    "    df['day'] = df.index.day\n",
    "    df['day_of_week'] = df.index.dayofweek\n",
    "    \n",
    "    for lag in range(1, max_lag + 1):\n",
    "        df['lag_{}'.format(lag)] = df['num_orders'].shift(lag)\n",
    "\n",
    "    df['rolling_mean'] = df['num_orders'].shift().rolling(rolling_mean_size).mean()\n",
    "    return df"
   ]
  },
  {
   "cell_type": "code",
   "execution_count": 15,
   "metadata": {},
   "outputs": [
    {
     "data": {
      "text/html": [
       "<div>\n",
       "<style scoped>\n",
       "    .dataframe tbody tr th:only-of-type {\n",
       "        vertical-align: middle;\n",
       "    }\n",
       "\n",
       "    .dataframe tbody tr th {\n",
       "        vertical-align: top;\n",
       "    }\n",
       "\n",
       "    .dataframe thead th {\n",
       "        text-align: right;\n",
       "    }\n",
       "</style>\n",
       "<table border=\"1\" class=\"dataframe\">\n",
       "  <thead>\n",
       "    <tr style=\"text-align: right;\">\n",
       "      <th></th>\n",
       "      <th>num_orders</th>\n",
       "      <th>hour</th>\n",
       "      <th>day</th>\n",
       "      <th>day_of_week</th>\n",
       "      <th>lag_1</th>\n",
       "      <th>lag_2</th>\n",
       "      <th>lag_3</th>\n",
       "      <th>lag_4</th>\n",
       "      <th>lag_5</th>\n",
       "      <th>lag_6</th>\n",
       "      <th>lag_7</th>\n",
       "      <th>lag_8</th>\n",
       "      <th>lag_9</th>\n",
       "      <th>lag_10</th>\n",
       "      <th>rolling_mean</th>\n",
       "    </tr>\n",
       "    <tr>\n",
       "      <th>datetime</th>\n",
       "      <th></th>\n",
       "      <th></th>\n",
       "      <th></th>\n",
       "      <th></th>\n",
       "      <th></th>\n",
       "      <th></th>\n",
       "      <th></th>\n",
       "      <th></th>\n",
       "      <th></th>\n",
       "      <th></th>\n",
       "      <th></th>\n",
       "      <th></th>\n",
       "      <th></th>\n",
       "      <th></th>\n",
       "      <th></th>\n",
       "    </tr>\n",
       "  </thead>\n",
       "  <tbody>\n",
       "    <tr>\n",
       "      <th>2018-03-01 00:00:00</th>\n",
       "      <td>124</td>\n",
       "      <td>0</td>\n",
       "      <td>1</td>\n",
       "      <td>3</td>\n",
       "      <td>NaN</td>\n",
       "      <td>NaN</td>\n",
       "      <td>NaN</td>\n",
       "      <td>NaN</td>\n",
       "      <td>NaN</td>\n",
       "      <td>NaN</td>\n",
       "      <td>NaN</td>\n",
       "      <td>NaN</td>\n",
       "      <td>NaN</td>\n",
       "      <td>NaN</td>\n",
       "      <td>NaN</td>\n",
       "    </tr>\n",
       "    <tr>\n",
       "      <th>2018-03-01 01:00:00</th>\n",
       "      <td>85</td>\n",
       "      <td>1</td>\n",
       "      <td>1</td>\n",
       "      <td>3</td>\n",
       "      <td>124.0</td>\n",
       "      <td>NaN</td>\n",
       "      <td>NaN</td>\n",
       "      <td>NaN</td>\n",
       "      <td>NaN</td>\n",
       "      <td>NaN</td>\n",
       "      <td>NaN</td>\n",
       "      <td>NaN</td>\n",
       "      <td>NaN</td>\n",
       "      <td>NaN</td>\n",
       "      <td>NaN</td>\n",
       "    </tr>\n",
       "    <tr>\n",
       "      <th>2018-03-01 02:00:00</th>\n",
       "      <td>71</td>\n",
       "      <td>2</td>\n",
       "      <td>1</td>\n",
       "      <td>3</td>\n",
       "      <td>85.0</td>\n",
       "      <td>124.0</td>\n",
       "      <td>NaN</td>\n",
       "      <td>NaN</td>\n",
       "      <td>NaN</td>\n",
       "      <td>NaN</td>\n",
       "      <td>NaN</td>\n",
       "      <td>NaN</td>\n",
       "      <td>NaN</td>\n",
       "      <td>NaN</td>\n",
       "      <td>NaN</td>\n",
       "    </tr>\n",
       "    <tr>\n",
       "      <th>2018-03-01 03:00:00</th>\n",
       "      <td>66</td>\n",
       "      <td>3</td>\n",
       "      <td>1</td>\n",
       "      <td>3</td>\n",
       "      <td>71.0</td>\n",
       "      <td>85.0</td>\n",
       "      <td>124.0</td>\n",
       "      <td>NaN</td>\n",
       "      <td>NaN</td>\n",
       "      <td>NaN</td>\n",
       "      <td>NaN</td>\n",
       "      <td>NaN</td>\n",
       "      <td>NaN</td>\n",
       "      <td>NaN</td>\n",
       "      <td>NaN</td>\n",
       "    </tr>\n",
       "    <tr>\n",
       "      <th>2018-03-01 04:00:00</th>\n",
       "      <td>43</td>\n",
       "      <td>4</td>\n",
       "      <td>1</td>\n",
       "      <td>3</td>\n",
       "      <td>66.0</td>\n",
       "      <td>71.0</td>\n",
       "      <td>85.0</td>\n",
       "      <td>124.0</td>\n",
       "      <td>NaN</td>\n",
       "      <td>NaN</td>\n",
       "      <td>NaN</td>\n",
       "      <td>NaN</td>\n",
       "      <td>NaN</td>\n",
       "      <td>NaN</td>\n",
       "      <td>NaN</td>\n",
       "    </tr>\n",
       "    <tr>\n",
       "      <th>...</th>\n",
       "      <td>...</td>\n",
       "      <td>...</td>\n",
       "      <td>...</td>\n",
       "      <td>...</td>\n",
       "      <td>...</td>\n",
       "      <td>...</td>\n",
       "      <td>...</td>\n",
       "      <td>...</td>\n",
       "      <td>...</td>\n",
       "      <td>...</td>\n",
       "      <td>...</td>\n",
       "      <td>...</td>\n",
       "      <td>...</td>\n",
       "      <td>...</td>\n",
       "      <td>...</td>\n",
       "    </tr>\n",
       "    <tr>\n",
       "      <th>2018-08-31 19:00:00</th>\n",
       "      <td>136</td>\n",
       "      <td>19</td>\n",
       "      <td>31</td>\n",
       "      <td>4</td>\n",
       "      <td>207.0</td>\n",
       "      <td>217.0</td>\n",
       "      <td>197.0</td>\n",
       "      <td>116.0</td>\n",
       "      <td>133.0</td>\n",
       "      <td>166.0</td>\n",
       "      <td>136.0</td>\n",
       "      <td>167.0</td>\n",
       "      <td>191.0</td>\n",
       "      <td>203.0</td>\n",
       "      <td>154.297619</td>\n",
       "    </tr>\n",
       "    <tr>\n",
       "      <th>2018-08-31 20:00:00</th>\n",
       "      <td>154</td>\n",
       "      <td>20</td>\n",
       "      <td>31</td>\n",
       "      <td>4</td>\n",
       "      <td>136.0</td>\n",
       "      <td>207.0</td>\n",
       "      <td>217.0</td>\n",
       "      <td>197.0</td>\n",
       "      <td>116.0</td>\n",
       "      <td>133.0</td>\n",
       "      <td>166.0</td>\n",
       "      <td>136.0</td>\n",
       "      <td>167.0</td>\n",
       "      <td>191.0</td>\n",
       "      <td>154.434524</td>\n",
       "    </tr>\n",
       "    <tr>\n",
       "      <th>2018-08-31 21:00:00</th>\n",
       "      <td>159</td>\n",
       "      <td>21</td>\n",
       "      <td>31</td>\n",
       "      <td>4</td>\n",
       "      <td>154.0</td>\n",
       "      <td>136.0</td>\n",
       "      <td>207.0</td>\n",
       "      <td>217.0</td>\n",
       "      <td>197.0</td>\n",
       "      <td>116.0</td>\n",
       "      <td>133.0</td>\n",
       "      <td>166.0</td>\n",
       "      <td>136.0</td>\n",
       "      <td>167.0</td>\n",
       "      <td>154.285714</td>\n",
       "    </tr>\n",
       "    <tr>\n",
       "      <th>2018-08-31 22:00:00</th>\n",
       "      <td>223</td>\n",
       "      <td>22</td>\n",
       "      <td>31</td>\n",
       "      <td>4</td>\n",
       "      <td>159.0</td>\n",
       "      <td>154.0</td>\n",
       "      <td>136.0</td>\n",
       "      <td>207.0</td>\n",
       "      <td>217.0</td>\n",
       "      <td>197.0</td>\n",
       "      <td>116.0</td>\n",
       "      <td>133.0</td>\n",
       "      <td>166.0</td>\n",
       "      <td>136.0</td>\n",
       "      <td>154.244048</td>\n",
       "    </tr>\n",
       "    <tr>\n",
       "      <th>2018-08-31 23:00:00</th>\n",
       "      <td>205</td>\n",
       "      <td>23</td>\n",
       "      <td>31</td>\n",
       "      <td>4</td>\n",
       "      <td>223.0</td>\n",
       "      <td>159.0</td>\n",
       "      <td>154.0</td>\n",
       "      <td>136.0</td>\n",
       "      <td>207.0</td>\n",
       "      <td>217.0</td>\n",
       "      <td>197.0</td>\n",
       "      <td>116.0</td>\n",
       "      <td>133.0</td>\n",
       "      <td>166.0</td>\n",
       "      <td>154.130952</td>\n",
       "    </tr>\n",
       "  </tbody>\n",
       "</table>\n",
       "<p>4416 rows × 15 columns</p>\n",
       "</div>"
      ],
      "text/plain": [
       "                     num_orders  hour  day  day_of_week  lag_1  lag_2  lag_3  \\\n",
       "datetime                                                                       \n",
       "2018-03-01 00:00:00         124     0    1            3    NaN    NaN    NaN   \n",
       "2018-03-01 01:00:00          85     1    1            3  124.0    NaN    NaN   \n",
       "2018-03-01 02:00:00          71     2    1            3   85.0  124.0    NaN   \n",
       "2018-03-01 03:00:00          66     3    1            3   71.0   85.0  124.0   \n",
       "2018-03-01 04:00:00          43     4    1            3   66.0   71.0   85.0   \n",
       "...                         ...   ...  ...          ...    ...    ...    ...   \n",
       "2018-08-31 19:00:00         136    19   31            4  207.0  217.0  197.0   \n",
       "2018-08-31 20:00:00         154    20   31            4  136.0  207.0  217.0   \n",
       "2018-08-31 21:00:00         159    21   31            4  154.0  136.0  207.0   \n",
       "2018-08-31 22:00:00         223    22   31            4  159.0  154.0  136.0   \n",
       "2018-08-31 23:00:00         205    23   31            4  223.0  159.0  154.0   \n",
       "\n",
       "                     lag_4  lag_5  lag_6  lag_7  lag_8  lag_9  lag_10  \\\n",
       "datetime                                                                \n",
       "2018-03-01 00:00:00    NaN    NaN    NaN    NaN    NaN    NaN     NaN   \n",
       "2018-03-01 01:00:00    NaN    NaN    NaN    NaN    NaN    NaN     NaN   \n",
       "2018-03-01 02:00:00    NaN    NaN    NaN    NaN    NaN    NaN     NaN   \n",
       "2018-03-01 03:00:00    NaN    NaN    NaN    NaN    NaN    NaN     NaN   \n",
       "2018-03-01 04:00:00  124.0    NaN    NaN    NaN    NaN    NaN     NaN   \n",
       "...                    ...    ...    ...    ...    ...    ...     ...   \n",
       "2018-08-31 19:00:00  116.0  133.0  166.0  136.0  167.0  191.0   203.0   \n",
       "2018-08-31 20:00:00  197.0  116.0  133.0  166.0  136.0  167.0   191.0   \n",
       "2018-08-31 21:00:00  217.0  197.0  116.0  133.0  166.0  136.0   167.0   \n",
       "2018-08-31 22:00:00  207.0  217.0  197.0  116.0  133.0  166.0   136.0   \n",
       "2018-08-31 23:00:00  136.0  207.0  217.0  197.0  116.0  133.0   166.0   \n",
       "\n",
       "                     rolling_mean  \n",
       "datetime                           \n",
       "2018-03-01 00:00:00           NaN  \n",
       "2018-03-01 01:00:00           NaN  \n",
       "2018-03-01 02:00:00           NaN  \n",
       "2018-03-01 03:00:00           NaN  \n",
       "2018-03-01 04:00:00           NaN  \n",
       "...                           ...  \n",
       "2018-08-31 19:00:00    154.297619  \n",
       "2018-08-31 20:00:00    154.434524  \n",
       "2018-08-31 21:00:00    154.285714  \n",
       "2018-08-31 22:00:00    154.244048  \n",
       "2018-08-31 23:00:00    154.130952  \n",
       "\n",
       "[4416 rows x 15 columns]"
      ]
     },
     "execution_count": 15,
     "metadata": {},
     "output_type": "execute_result"
    }
   ],
   "source": [
    "make_features(df, 10, 168)"
   ]
  },
  {
   "cell_type": "code",
   "execution_count": 16,
   "metadata": {},
   "outputs": [],
   "source": [
    "#df_d = df.resample('1D').sum()"
   ]
  },
  {
   "cell_type": "code",
   "execution_count": 17,
   "metadata": {},
   "outputs": [],
   "source": [
    "#df_d.plot();"
   ]
  },
  {
   "cell_type": "code",
   "execution_count": 18,
   "metadata": {},
   "outputs": [],
   "source": [
    "#df_w = df.resample('1W').sum()"
   ]
  },
  {
   "cell_type": "code",
   "execution_count": 19,
   "metadata": {},
   "outputs": [],
   "source": [
    "#df_w.plot();"
   ]
  },
  {
   "cell_type": "markdown",
   "metadata": {},
   "source": [
    "Вывод Сет данных загружен, преобразован в dataframe, проведено ресемплирование с детализацией до часа и агрегацией по средним значениям."
   ]
  },
  {
   "cell_type": "markdown",
   "metadata": {},
   "source": [
    "## Анализ"
   ]
  },
  {
   "cell_type": "code",
   "execution_count": 20,
   "metadata": {},
   "outputs": [],
   "source": [
    "decomposed = seasonal_decompose(df['num_orders'])"
   ]
  },
  {
   "cell_type": "code",
   "execution_count": 21,
   "metadata": {},
   "outputs": [
    {
     "data": {
      "image/png": "[encoded data removed]",
      "text/plain": [
       "<Figure size 720x720 with 3 Axes>"
      ]
     },
     "metadata": {},
     "output_type": "display_data"
    }
   ],
   "source": [
    "plt.figure(figsize=(10,10))\n",
    "\n",
    "plt.subplot(311)\n",
    "decomposed.trend.plot(ax=plt.gca())\n",
    "plt.ylabel('Orders')\n",
    "plt.title('Trend')\n",
    "\n",
    "plt.subplot(312)\n",
    "decomposed.seasonal.plot(ax=plt.gca())\n",
    "plt.ylabel('Variance')\n",
    "plt.title('Seasonality')\n",
    "\n",
    "plt.subplot(313)\n",
    "decomposed.resid.plot(ax=plt.gca())\n",
    "plt.ylabel('Variance')\n",
    "plt.title('Residuals')\n",
    "\n",
    "plt.tight_layout()\n",
    "plt.show()"
   ]
  },
  {
   "cell_type": "code",
   "execution_count": 22,
   "metadata": {},
   "outputs": [
    {
     "data": {
      "image/png": "[encoded data removed]",
      "text/plain": [
       "<Figure size 1080x360 with 1 Axes>"
      ]
     },
     "metadata": {},
     "output_type": "display_data"
    }
   ],
   "source": [
    "decomposed.trend.plot();\n",
    "#decomposed.trend.rolling(30).mean().plot();\n",
    "#decomposed.trend.rolling(60).mean().plot();\n",
    "decomposed.trend.rolling(120).mean().plot();\n",
    "plt.ylabel('Orders')\n",
    "plt.title('Trend');"
   ]
  },
  {
   "cell_type": "code",
   "execution_count": 23,
   "metadata": {
    "scrolled": false
   },
   "outputs": [
    {
     "data": {
      "image/png": "[encoded data removed]",
      "text/plain": [
       "<Figure size 1080x360 with 1 Axes>"
      ]
     },
     "metadata": {},
     "output_type": "display_data"
    }
   ],
   "source": [
    "decomposed.seasonal['2018-03-01 00:00':'2018-03-30 00:00'].plot();\n",
    "plt.ylabel('Variance')\n",
    "plt.title('seasonal 2018-03-01 - 2018-03-30 ');"
   ]
  },
  {
   "cell_type": "code",
   "execution_count": 24,
   "metadata": {},
   "outputs": [
    {
     "data": {
      "image/png": "[encoded data removed]",
      "text/plain": [
       "<Figure size 1080x216 with 1 Axes>"
      ]
     },
     "metadata": {},
     "output_type": "display_data"
    },
    {
     "data": {
      "image/png": "[encoded data removed]",
      "text/plain": [
       "<Figure size 1080x216 with 1 Axes>"
      ]
     },
     "metadata": {},
     "output_type": "display_data"
    }
   ],
   "source": [
    "plt.figure(figsize=(15,3))\n",
    "decomposed.seasonal['2018-03-01 00:00':'2018-03-02 00:00'].plot()\n",
    "plt.ylabel('Variance')\n",
    "plt.title('2018-03-01 - 2018-03-02')\n",
    "plt.show()\n",
    "plt.figure(figsize=(15,3))\n",
    "decomposed.seasonal['2018-08-01 00:00':'2018-08-02 00:00'].plot()\n",
    "plt.ylabel('Variance')\n",
    "plt.title('2018-08-01 - 2018-08-02')\n",
    "plt.show()"
   ]
  },
  {
   "cell_type": "code",
   "execution_count": 25,
   "metadata": {},
   "outputs": [
    {
     "data": {
      "image/png": "[encoded data removed]",
      "text/plain": [
       "<Figure size 1080x216 with 1 Axes>"
      ]
     },
     "metadata": {},
     "output_type": "display_data"
    }
   ],
   "source": [
    "plt.figure(figsize=(15,3))\n",
    "decomposed.resid.plot()\n",
    "plt.title('decomposed full')\n",
    "plt.ylabel('Variance')\n",
    "plt.show()\n"
   ]
  },
  {
   "cell_type": "code",
   "execution_count": 26,
   "metadata": {},
   "outputs": [
    {
     "data": {
      "image/png": "[encoded data removed]",
      "text/plain": [
       "<Figure size 1080x216 with 1 Axes>"
      ]
     },
     "metadata": {},
     "output_type": "display_data"
    }
   ],
   "source": [
    "plt.figure(figsize=(15,3))\n",
    "decomposed.resid['2018-08-01 00:00':'2018-08-02 00:00'].plot()\n",
    "plt.ylabel('Variance')\n",
    "plt.title('decomposed 2018-08-01 - 2018-08-02')\n",
    "plt.show()\n"
   ]
  },
  {
   "cell_type": "markdown",
   "metadata": {},
   "source": [
    "Вывод Тренд восходящий, сезональность присутствует в течении дня. Пики количества заказов приходятся на утро с 9-11, конец рабочего дня 16-18 и максимальне значение в районе полуночи."
   ]
  },
  {
   "cell_type": "code",
   "execution_count": 28,
   "metadata": {},
   "outputs": [
    {
     "data": {
      "text/html": [
       "<div>\n",
       "<style scoped>\n",
       "    .dataframe tbody tr th:only-of-type {\n",
       "        vertical-align: middle;\n",
       "    }\n",
       "\n",
       "    .dataframe tbody tr th {\n",
       "        vertical-align: top;\n",
       "    }\n",
       "\n",
       "    .dataframe thead th {\n",
       "        text-align: right;\n",
       "    }\n",
       "</style>\n",
       "<table border=\"1\" class=\"dataframe\">\n",
       "  <thead>\n",
       "    <tr style=\"text-align: right;\">\n",
       "      <th></th>\n",
       "      <th>num_orders</th>\n",
       "      <th>hour</th>\n",
       "      <th>day</th>\n",
       "      <th>day_of_week</th>\n",
       "      <th>lag_1</th>\n",
       "      <th>lag_2</th>\n",
       "      <th>lag_3</th>\n",
       "      <th>lag_4</th>\n",
       "      <th>lag_5</th>\n",
       "      <th>lag_6</th>\n",
       "      <th>lag_7</th>\n",
       "      <th>lag_8</th>\n",
       "      <th>lag_9</th>\n",
       "      <th>lag_10</th>\n",
       "      <th>rolling_mean</th>\n",
       "    </tr>\n",
       "    <tr>\n",
       "      <th>datetime</th>\n",
       "      <th></th>\n",
       "      <th></th>\n",
       "      <th></th>\n",
       "      <th></th>\n",
       "      <th></th>\n",
       "      <th></th>\n",
       "      <th></th>\n",
       "      <th></th>\n",
       "      <th></th>\n",
       "      <th></th>\n",
       "      <th></th>\n",
       "      <th></th>\n",
       "      <th></th>\n",
       "      <th></th>\n",
       "      <th></th>\n",
       "    </tr>\n",
       "  </thead>\n",
       "  <tbody>\n",
       "    <tr>\n",
       "      <th>2018-03-08 00:00:00</th>\n",
       "      <td>143</td>\n",
       "      <td>0</td>\n",
       "      <td>8</td>\n",
       "      <td>3</td>\n",
       "      <td>94.0</td>\n",
       "      <td>127.0</td>\n",
       "      <td>108.0</td>\n",
       "      <td>76.0</td>\n",
       "      <td>50.0</td>\n",
       "      <td>99.0</td>\n",
       "      <td>48.0</td>\n",
       "      <td>46.0</td>\n",
       "      <td>51.0</td>\n",
       "      <td>43.0</td>\n",
       "      <td>54.226190</td>\n",
       "    </tr>\n",
       "    <tr>\n",
       "      <th>2018-03-08 01:00:00</th>\n",
       "      <td>78</td>\n",
       "      <td>1</td>\n",
       "      <td>8</td>\n",
       "      <td>3</td>\n",
       "      <td>143.0</td>\n",
       "      <td>94.0</td>\n",
       "      <td>127.0</td>\n",
       "      <td>108.0</td>\n",
       "      <td>76.0</td>\n",
       "      <td>50.0</td>\n",
       "      <td>99.0</td>\n",
       "      <td>48.0</td>\n",
       "      <td>46.0</td>\n",
       "      <td>51.0</td>\n",
       "      <td>54.339286</td>\n",
       "    </tr>\n",
       "    <tr>\n",
       "      <th>2018-03-08 02:00:00</th>\n",
       "      <td>65</td>\n",
       "      <td>2</td>\n",
       "      <td>8</td>\n",
       "      <td>3</td>\n",
       "      <td>78.0</td>\n",
       "      <td>143.0</td>\n",
       "      <td>94.0</td>\n",
       "      <td>127.0</td>\n",
       "      <td>108.0</td>\n",
       "      <td>76.0</td>\n",
       "      <td>50.0</td>\n",
       "      <td>99.0</td>\n",
       "      <td>48.0</td>\n",
       "      <td>46.0</td>\n",
       "      <td>54.297619</td>\n",
       "    </tr>\n",
       "    <tr>\n",
       "      <th>2018-03-08 03:00:00</th>\n",
       "      <td>68</td>\n",
       "      <td>3</td>\n",
       "      <td>8</td>\n",
       "      <td>3</td>\n",
       "      <td>65.0</td>\n",
       "      <td>78.0</td>\n",
       "      <td>143.0</td>\n",
       "      <td>94.0</td>\n",
       "      <td>127.0</td>\n",
       "      <td>108.0</td>\n",
       "      <td>76.0</td>\n",
       "      <td>50.0</td>\n",
       "      <td>99.0</td>\n",
       "      <td>48.0</td>\n",
       "      <td>54.261905</td>\n",
       "    </tr>\n",
       "    <tr>\n",
       "      <th>2018-03-08 04:00:00</th>\n",
       "      <td>60</td>\n",
       "      <td>4</td>\n",
       "      <td>8</td>\n",
       "      <td>3</td>\n",
       "      <td>68.0</td>\n",
       "      <td>65.0</td>\n",
       "      <td>78.0</td>\n",
       "      <td>143.0</td>\n",
       "      <td>94.0</td>\n",
       "      <td>127.0</td>\n",
       "      <td>108.0</td>\n",
       "      <td>76.0</td>\n",
       "      <td>50.0</td>\n",
       "      <td>99.0</td>\n",
       "      <td>54.273810</td>\n",
       "    </tr>\n",
       "    <tr>\n",
       "      <th>...</th>\n",
       "      <td>...</td>\n",
       "      <td>...</td>\n",
       "      <td>...</td>\n",
       "      <td>...</td>\n",
       "      <td>...</td>\n",
       "      <td>...</td>\n",
       "      <td>...</td>\n",
       "      <td>...</td>\n",
       "      <td>...</td>\n",
       "      <td>...</td>\n",
       "      <td>...</td>\n",
       "      <td>...</td>\n",
       "      <td>...</td>\n",
       "      <td>...</td>\n",
       "      <td>...</td>\n",
       "    </tr>\n",
       "    <tr>\n",
       "      <th>2018-08-31 19:00:00</th>\n",
       "      <td>136</td>\n",
       "      <td>19</td>\n",
       "      <td>31</td>\n",
       "      <td>4</td>\n",
       "      <td>207.0</td>\n",
       "      <td>217.0</td>\n",
       "      <td>197.0</td>\n",
       "      <td>116.0</td>\n",
       "      <td>133.0</td>\n",
       "      <td>166.0</td>\n",
       "      <td>136.0</td>\n",
       "      <td>167.0</td>\n",
       "      <td>191.0</td>\n",
       "      <td>203.0</td>\n",
       "      <td>154.297619</td>\n",
       "    </tr>\n",
       "    <tr>\n",
       "      <th>2018-08-31 20:00:00</th>\n",
       "      <td>154</td>\n",
       "      <td>20</td>\n",
       "      <td>31</td>\n",
       "      <td>4</td>\n",
       "      <td>136.0</td>\n",
       "      <td>207.0</td>\n",
       "      <td>217.0</td>\n",
       "      <td>197.0</td>\n",
       "      <td>116.0</td>\n",
       "      <td>133.0</td>\n",
       "      <td>166.0</td>\n",
       "      <td>136.0</td>\n",
       "      <td>167.0</td>\n",
       "      <td>191.0</td>\n",
       "      <td>154.434524</td>\n",
       "    </tr>\n",
       "    <tr>\n",
       "      <th>2018-08-31 21:00:00</th>\n",
       "      <td>159</td>\n",
       "      <td>21</td>\n",
       "      <td>31</td>\n",
       "      <td>4</td>\n",
       "      <td>154.0</td>\n",
       "      <td>136.0</td>\n",
       "      <td>207.0</td>\n",
       "      <td>217.0</td>\n",
       "      <td>197.0</td>\n",
       "      <td>116.0</td>\n",
       "      <td>133.0</td>\n",
       "      <td>166.0</td>\n",
       "      <td>136.0</td>\n",
       "      <td>167.0</td>\n",
       "      <td>154.285714</td>\n",
       "    </tr>\n",
       "    <tr>\n",
       "      <th>2018-08-31 22:00:00</th>\n",
       "      <td>223</td>\n",
       "      <td>22</td>\n",
       "      <td>31</td>\n",
       "      <td>4</td>\n",
       "      <td>159.0</td>\n",
       "      <td>154.0</td>\n",
       "      <td>136.0</td>\n",
       "      <td>207.0</td>\n",
       "      <td>217.0</td>\n",
       "      <td>197.0</td>\n",
       "      <td>116.0</td>\n",
       "      <td>133.0</td>\n",
       "      <td>166.0</td>\n",
       "      <td>136.0</td>\n",
       "      <td>154.244048</td>\n",
       "    </tr>\n",
       "    <tr>\n",
       "      <th>2018-08-31 23:00:00</th>\n",
       "      <td>205</td>\n",
       "      <td>23</td>\n",
       "      <td>31</td>\n",
       "      <td>4</td>\n",
       "      <td>223.0</td>\n",
       "      <td>159.0</td>\n",
       "      <td>154.0</td>\n",
       "      <td>136.0</td>\n",
       "      <td>207.0</td>\n",
       "      <td>217.0</td>\n",
       "      <td>197.0</td>\n",
       "      <td>116.0</td>\n",
       "      <td>133.0</td>\n",
       "      <td>166.0</td>\n",
       "      <td>154.130952</td>\n",
       "    </tr>\n",
       "  </tbody>\n",
       "</table>\n",
       "<p>4248 rows × 15 columns</p>\n",
       "</div>"
      ],
      "text/plain": [
       "                     num_orders  hour  day  day_of_week  lag_1  lag_2  lag_3  \\\n",
       "datetime                                                                       \n",
       "2018-03-08 00:00:00         143     0    8            3   94.0  127.0  108.0   \n",
       "2018-03-08 01:00:00          78     1    8            3  143.0   94.0  127.0   \n",
       "2018-03-08 02:00:00          65     2    8            3   78.0  143.0   94.0   \n",
       "2018-03-08 03:00:00          68     3    8            3   65.0   78.0  143.0   \n",
       "2018-03-08 04:00:00          60     4    8            3   68.0   65.0   78.0   \n",
       "...                         ...   ...  ...          ...    ...    ...    ...   \n",
       "2018-08-31 19:00:00         136    19   31            4  207.0  217.0  197.0   \n",
       "2018-08-31 20:00:00         154    20   31            4  136.0  207.0  217.0   \n",
       "2018-08-31 21:00:00         159    21   31            4  154.0  136.0  207.0   \n",
       "2018-08-31 22:00:00         223    22   31            4  159.0  154.0  136.0   \n",
       "2018-08-31 23:00:00         205    23   31            4  223.0  159.0  154.0   \n",
       "\n",
       "                     lag_4  lag_5  lag_6  lag_7  lag_8  lag_9  lag_10  \\\n",
       "datetime                                                                \n",
       "2018-03-08 00:00:00   76.0   50.0   99.0   48.0   46.0   51.0    43.0   \n",
       "2018-03-08 01:00:00  108.0   76.0   50.0   99.0   48.0   46.0    51.0   \n",
       "2018-03-08 02:00:00  127.0  108.0   76.0   50.0   99.0   48.0    46.0   \n",
       "2018-03-08 03:00:00   94.0  127.0  108.0   76.0   50.0   99.0    48.0   \n",
       "2018-03-08 04:00:00  143.0   94.0  127.0  108.0   76.0   50.0    99.0   \n",
       "...                    ...    ...    ...    ...    ...    ...     ...   \n",
       "2018-08-31 19:00:00  116.0  133.0  166.0  136.0  167.0  191.0   203.0   \n",
       "2018-08-31 20:00:00  197.0  116.0  133.0  166.0  136.0  167.0   191.0   \n",
       "2018-08-31 21:00:00  217.0  197.0  116.0  133.0  166.0  136.0   167.0   \n",
       "2018-08-31 22:00:00  207.0  217.0  197.0  116.0  133.0  166.0   136.0   \n",
       "2018-08-31 23:00:00  136.0  207.0  217.0  197.0  116.0  133.0   166.0   \n",
       "\n",
       "                     rolling_mean  \n",
       "datetime                           \n",
       "2018-03-08 00:00:00     54.226190  \n",
       "2018-03-08 01:00:00     54.339286  \n",
       "2018-03-08 02:00:00     54.297619  \n",
       "2018-03-08 03:00:00     54.261905  \n",
       "2018-03-08 04:00:00     54.273810  \n",
       "...                           ...  \n",
       "2018-08-31 19:00:00    154.297619  \n",
       "2018-08-31 20:00:00    154.434524  \n",
       "2018-08-31 21:00:00    154.285714  \n",
       "2018-08-31 22:00:00    154.244048  \n",
       "2018-08-31 23:00:00    154.130952  \n",
       "\n",
       "[4248 rows x 15 columns]"
      ]
     },
     "execution_count": 28,
     "metadata": {},
     "output_type": "execute_result"
    }
   ],
   "source": [
    "df = df.dropna()\n",
    "df"
   ]
  },
  {
   "cell_type": "markdown",
   "metadata": {},
   "source": [
    "## Обучение"
   ]
  },
  {
   "cell_type": "code",
   "execution_count": 29,
   "metadata": {},
   "outputs": [],
   "source": [
    "\n",
    "features = df.drop(['num_orders'], axis=1)\n",
    "target = df['num_orders']\n",
    "\n",
    "x_train, x_test, y_train, y_test = train_test_split(features, target, shuffle=False, test_size=0.1)"
   ]
  },
  {
   "cell_type": "code",
   "execution_count": 30,
   "metadata": {},
   "outputs": [
    {
     "name": "stdout",
     "output_type": "stream",
     "text": [
      "(3823, 14)\n",
      "(425, 14)\n",
      "(3823,)\n",
      "(425,)\n"
     ]
    }
   ],
   "source": [
    "print(x_train.shape)\n",
    "print(x_test.shape)\n",
    "print(y_train.shape)\n",
    "print(y_test.shape)"
   ]
  },
  {
   "cell_type": "markdown",
   "metadata": {},
   "source": [
    "Масштабирование"
   ]
  },
  {
   "cell_type": "code",
   "execution_count": 31,
   "metadata": {},
   "outputs": [],
   "source": [
    "scaler = StandardScaler()\n",
    "x_train = pd.DataFrame(data = scaler.fit_transform(x_train), columns = x_train.columns)\n",
    "x_test =  pd.DataFrame(data = scaler.transform(x_test), columns = x_train.columns)"
   ]
  },
  {
   "cell_type": "code",
   "execution_count": 32,
   "metadata": {},
   "outputs": [],
   "source": [
    "#df.head(4)"
   ]
  },
  {
   "cell_type": "code",
   "execution_count": 33,
   "metadata": {},
   "outputs": [
    {
     "data": {
      "text/html": [
       "<div>\n",
       "<style scoped>\n",
       "    .dataframe tbody tr th:only-of-type {\n",
       "        vertical-align: middle;\n",
       "    }\n",
       "\n",
       "    .dataframe tbody tr th {\n",
       "        vertical-align: top;\n",
       "    }\n",
       "\n",
       "    .dataframe thead th {\n",
       "        text-align: right;\n",
       "    }\n",
       "</style>\n",
       "<table border=\"1\" class=\"dataframe\">\n",
       "  <thead>\n",
       "    <tr style=\"text-align: right;\">\n",
       "      <th></th>\n",
       "      <th>hour</th>\n",
       "      <th>day</th>\n",
       "      <th>day_of_week</th>\n",
       "      <th>lag_1</th>\n",
       "      <th>lag_2</th>\n",
       "      <th>lag_3</th>\n",
       "      <th>lag_4</th>\n",
       "      <th>lag_5</th>\n",
       "      <th>lag_6</th>\n",
       "      <th>lag_7</th>\n",
       "      <th>lag_8</th>\n",
       "      <th>lag_9</th>\n",
       "      <th>lag_10</th>\n",
       "      <th>rolling_mean</th>\n",
       "    </tr>\n",
       "  </thead>\n",
       "  <tbody>\n",
       "    <tr>\n",
       "      <th>0</th>\n",
       "      <td>-1.658183</td>\n",
       "      <td>-0.871206</td>\n",
       "      <td>-0.007568</td>\n",
       "      <td>0.371383</td>\n",
       "      <td>1.220297</td>\n",
       "      <td>0.731578</td>\n",
       "      <td>-0.091694</td>\n",
       "      <td>-0.761460</td>\n",
       "      <td>0.503408</td>\n",
       "      <td>-0.813284</td>\n",
       "      <td>-0.864493</td>\n",
       "      <td>-0.734942</td>\n",
       "      <td>-0.941259</td>\n",
       "      <td>-1.389056</td>\n",
       "    </tr>\n",
       "    <tr>\n",
       "      <th>1</th>\n",
       "      <td>-1.513798</td>\n",
       "      <td>-0.871206</td>\n",
       "      <td>-0.007568</td>\n",
       "      <td>1.632878</td>\n",
       "      <td>0.370807</td>\n",
       "      <td>1.220794</td>\n",
       "      <td>0.733120</td>\n",
       "      <td>-0.091302</td>\n",
       "      <td>-0.762066</td>\n",
       "      <td>0.504134</td>\n",
       "      <td>-0.812821</td>\n",
       "      <td>-0.864119</td>\n",
       "      <td>-0.734482</td>\n",
       "      <td>-1.382467</td>\n",
       "    </tr>\n",
       "    <tr>\n",
       "      <th>2</th>\n",
       "      <td>-1.369413</td>\n",
       "      <td>-0.871206</td>\n",
       "      <td>-0.007568</td>\n",
       "      <td>-0.040533</td>\n",
       "      <td>1.632171</td>\n",
       "      <td>0.371103</td>\n",
       "      <td>1.222854</td>\n",
       "      <td>0.733507</td>\n",
       "      <td>-0.090590</td>\n",
       "      <td>-0.761621</td>\n",
       "      <td>0.504811</td>\n",
       "      <td>-0.812448</td>\n",
       "      <td>-0.863718</td>\n",
       "      <td>-1.384895</td>\n",
       "    </tr>\n",
       "    <tr>\n",
       "      <th>3</th>\n",
       "      <td>-1.225027</td>\n",
       "      <td>-0.871206</td>\n",
       "      <td>-0.007568</td>\n",
       "      <td>-0.375215</td>\n",
       "      <td>-0.041068</td>\n",
       "      <td>1.632765</td>\n",
       "      <td>0.372264</td>\n",
       "      <td>1.223238</td>\n",
       "      <td>0.735842</td>\n",
       "      <td>-0.089996</td>\n",
       "      <td>-0.761149</td>\n",
       "      <td>0.505160</td>\n",
       "      <td>-0.812024</td>\n",
       "      <td>-1.386975</td>\n",
       "    </tr>\n",
       "  </tbody>\n",
       "</table>\n",
       "</div>"
      ],
      "text/plain": [
       "       hour       day  day_of_week     lag_1     lag_2     lag_3     lag_4  \\\n",
       "0 -1.658183 -0.871206    -0.007568  0.371383  1.220297  0.731578 -0.091694   \n",
       "1 -1.513798 -0.871206    -0.007568  1.632878  0.370807  1.220794  0.733120   \n",
       "2 -1.369413 -0.871206    -0.007568 -0.040533  1.632171  0.371103  1.222854   \n",
       "3 -1.225027 -0.871206    -0.007568 -0.375215 -0.041068  1.632765  0.372264   \n",
       "\n",
       "      lag_5     lag_6     lag_7     lag_8     lag_9    lag_10  rolling_mean  \n",
       "0 -0.761460  0.503408 -0.813284 -0.864493 -0.734942 -0.941259     -1.389056  \n",
       "1 -0.091302 -0.762066  0.504134 -0.812821 -0.864119 -0.734482     -1.382467  \n",
       "2  0.733507 -0.090590 -0.761621  0.504811 -0.812448 -0.863718     -1.384895  \n",
       "3  1.223238  0.735842 -0.089996 -0.761149  0.505160 -0.812024     -1.386975  "
      ]
     },
     "execution_count": 33,
     "metadata": {},
     "output_type": "execute_result"
    }
   ],
   "source": [
    "x_train.head(4)"
   ]
  },
  {
   "cell_type": "code",
   "execution_count": 34,
   "metadata": {},
   "outputs": [],
   "source": [
    "x_train, x_valid, y_train, y_valid = train_test_split(x_train, y_train, shuffle=False, test_size=0.1)"
   ]
  },
  {
   "cell_type": "markdown",
   "metadata": {},
   "source": [
    "Линейная регрессия"
   ]
  },
  {
   "cell_type": "code",
   "execution_count": 35,
   "metadata": {
    "scrolled": true
   },
   "outputs": [
    {
     "name": "stdout",
     "output_type": "stream",
     "text": [
      "rmse = 40.31048527654946\n",
      "mae = 29.80553153982162\n",
      "CPU times: user 24.7 ms, sys: 24.1 ms, total: 48.8 ms\n",
      "Wall time: 98.5 ms\n"
     ]
    }
   ],
   "source": [
    "%%time\n",
    "model_linReg = LinearRegression()\n",
    "model_linReg.fit(x_train, y_train)\n",
    "predict_model_linReg = model_linReg.predict(x_valid)\n",
    "rmse_model_linReg = mse(y_valid, predict_model_linReg)**(0.5)\n",
    "mae_model_linReg = mean_absolute_error(y_valid, predict_model_linReg)\n",
    "print('rmse =', rmse_model_linReg)\n",
    "print('mae =', mae_model_linReg)"
   ]
  },
  {
   "cell_type": "code",
   "execution_count": 36,
   "metadata": {},
   "outputs": [
    {
     "data": {
      "text/html": [
       "<div>\n",
       "<style scoped>\n",
       "    .dataframe tbody tr th:only-of-type {\n",
       "        vertical-align: middle;\n",
       "    }\n",
       "\n",
       "    .dataframe tbody tr th {\n",
       "        vertical-align: top;\n",
       "    }\n",
       "\n",
       "    .dataframe thead th {\n",
       "        text-align: right;\n",
       "    }\n",
       "</style>\n",
       "<table border=\"1\" class=\"dataframe\">\n",
       "  <thead>\n",
       "    <tr style=\"text-align: right;\">\n",
       "      <th></th>\n",
       "      <th>name</th>\n",
       "      <th>rmse</th>\n",
       "      <th>mae</th>\n",
       "    </tr>\n",
       "  </thead>\n",
       "  <tbody>\n",
       "    <tr>\n",
       "      <th>1</th>\n",
       "      <td>Linear Regression</td>\n",
       "      <td>40.310485</td>\n",
       "      <td>29.805532</td>\n",
       "    </tr>\n",
       "  </tbody>\n",
       "</table>\n",
       "</div>"
      ],
      "text/plain": [
       "                name       rmse        mae\n",
       "1  Linear Regression  40.310485  29.805532"
      ]
     },
     "execution_count": 36,
     "metadata": {},
     "output_type": "execute_result"
    }
   ],
   "source": [
    "index_table = 0\n",
    "table = pd.DataFrame(columns=['name','rmse','mae'])\n",
    "index_table +=1\n",
    "table.loc[index_table] = ['Linear Regression', rmse_model_linReg, mae_model_linReg]\n",
    "table"
   ]
  },
  {
   "cell_type": "markdown",
   "metadata": {},
   "source": [
    "Случайный лес"
   ]
  },
  {
   "cell_type": "code",
   "execution_count": 37,
   "metadata": {},
   "outputs": [
    {
     "name": "stdout",
     "output_type": "stream",
     "text": [
      "rmse = 31.475456674144585\n",
      "mae = 22.45906005221932\n",
      "CPU times: user 22.8 s, sys: 80.4 ms, total: 22.9 s\n",
      "Wall time: 28.1 s\n"
     ]
    }
   ],
   "source": [
    "%%time\n",
    "\n",
    "model_RandForest_t = RandomForestRegressor(random_state = 12345)\n",
    "\n",
    "#Параметры для GridSearch\n",
    "parametrs_grid = {'n_estimators': range(50, 100, 25),'max_depth' : range(50, 100, 25)}\n",
    "\n",
    "tscv = tscv = TimeSeriesSplit(n_splits=3, test_size=2, gap=2)\n",
    "grid_cv = GridSearchCV(model_RandForest_t, cv=tscv,param_grid=parametrs_grid, scoring = \"neg_root_mean_squared_error\")\n",
    "\n",
    "grid_cv.fit(x_train, y_train)\n",
    "\n",
    "\n",
    "predict_model_RandForest_tuning = grid_cv.predict(x_valid)\n",
    "rmse_model_RandForest_tuning = mse(y_valid, predict_model_RandForest_tuning)**(0.5)\n",
    "mae_model_RandForest_tuning = mean_absolute_error(y_valid, predict_model_RandForest_tuning)\n",
    "\n",
    "print('rmse =', rmse_model_RandForest_tuning)\n",
    "print('mae =', mae_model_RandForest_tuning)"
   ]
  },
  {
   "cell_type": "code",
   "execution_count": 38,
   "metadata": {},
   "outputs": [
    {
     "data": {
      "text/html": [
       "<div>\n",
       "<style scoped>\n",
       "    .dataframe tbody tr th:only-of-type {\n",
       "        vertical-align: middle;\n",
       "    }\n",
       "\n",
       "    .dataframe tbody tr th {\n",
       "        vertical-align: top;\n",
       "    }\n",
       "\n",
       "    .dataframe thead th {\n",
       "        text-align: right;\n",
       "    }\n",
       "</style>\n",
       "<table border=\"1\" class=\"dataframe\">\n",
       "  <thead>\n",
       "    <tr style=\"text-align: right;\">\n",
       "      <th></th>\n",
       "      <th>name</th>\n",
       "      <th>rmse</th>\n",
       "      <th>mae</th>\n",
       "    </tr>\n",
       "  </thead>\n",
       "  <tbody>\n",
       "    <tr>\n",
       "      <th>1</th>\n",
       "      <td>Linear Regression</td>\n",
       "      <td>40.310485</td>\n",
       "      <td>29.805532</td>\n",
       "    </tr>\n",
       "    <tr>\n",
       "      <th>2</th>\n",
       "      <td>Random Forest</td>\n",
       "      <td>31.475457</td>\n",
       "      <td>22.459060</td>\n",
       "    </tr>\n",
       "  </tbody>\n",
       "</table>\n",
       "</div>"
      ],
      "text/plain": [
       "                name       rmse        mae\n",
       "1  Linear Regression  40.310485  29.805532\n",
       "2      Random Forest  31.475457  22.459060"
      ]
     },
     "execution_count": 38,
     "metadata": {},
     "output_type": "execute_result"
    }
   ],
   "source": [
    "index_table +=1\n",
    "table.loc[index_table] = ['Random Forest', rmse_model_RandForest_tuning, mae_model_RandForest_tuning]\n",
    "table"
   ]
  },
  {
   "cell_type": "markdown",
   "metadata": {},
   "source": [
    "\n",
    "SGDRegressor"
   ]
  },
  {
   "cell_type": "code",
   "execution_count": 39,
   "metadata": {},
   "outputs": [
    {
     "name": "stdout",
     "output_type": "stream",
     "text": [
      "rmse = 40.25916958700324\n",
      "mae = 29.70998863426306\n",
      "CPU times: user 15.2 ms, sys: 4 µs, total: 15.2 ms\n",
      "Wall time: 26.9 ms\n"
     ]
    }
   ],
   "source": [
    "%%time\n",
    "model_SGD = SGDRegressor()\n",
    "model_SGD.fit(x_train, y_train)\n",
    "predict_model_SGD = model_SGD.predict(x_valid)\n",
    "rmse_model_SGD = mse(y_valid, predict_model_SGD)**(0.5)\n",
    "mae_model_SGD = mean_absolute_error(y_valid, predict_model_SGD)\n",
    "print('rmse =', rmse_model_SGD)\n",
    "print('mae =', mae_model_SGD)"
   ]
  },
  {
   "cell_type": "code",
   "execution_count": 40,
   "metadata": {},
   "outputs": [
    {
     "data": {
      "text/html": [
       "<div>\n",
       "<style scoped>\n",
       "    .dataframe tbody tr th:only-of-type {\n",
       "        vertical-align: middle;\n",
       "    }\n",
       "\n",
       "    .dataframe tbody tr th {\n",
       "        vertical-align: top;\n",
       "    }\n",
       "\n",
       "    .dataframe thead th {\n",
       "        text-align: right;\n",
       "    }\n",
       "</style>\n",
       "<table border=\"1\" class=\"dataframe\">\n",
       "  <thead>\n",
       "    <tr style=\"text-align: right;\">\n",
       "      <th></th>\n",
       "      <th>name</th>\n",
       "      <th>rmse</th>\n",
       "      <th>mae</th>\n",
       "    </tr>\n",
       "  </thead>\n",
       "  <tbody>\n",
       "    <tr>\n",
       "      <th>1</th>\n",
       "      <td>Linear Regression</td>\n",
       "      <td>40.310485</td>\n",
       "      <td>29.805532</td>\n",
       "    </tr>\n",
       "    <tr>\n",
       "      <th>2</th>\n",
       "      <td>Random Forest</td>\n",
       "      <td>31.475457</td>\n",
       "      <td>22.459060</td>\n",
       "    </tr>\n",
       "    <tr>\n",
       "      <th>3</th>\n",
       "      <td>SGD</td>\n",
       "      <td>40.259170</td>\n",
       "      <td>29.709989</td>\n",
       "    </tr>\n",
       "  </tbody>\n",
       "</table>\n",
       "</div>"
      ],
      "text/plain": [
       "                name       rmse        mae\n",
       "1  Linear Regression  40.310485  29.805532\n",
       "2      Random Forest  31.475457  22.459060\n",
       "3                SGD  40.259170  29.709989"
      ]
     },
     "execution_count": 40,
     "metadata": {},
     "output_type": "execute_result"
    }
   ],
   "source": [
    "index_table +=1\n",
    "table.loc[index_table] = ['SGD', rmse_model_SGD, mae_model_SGD]\n",
    "table"
   ]
  },
  {
   "cell_type": "markdown",
   "metadata": {},
   "source": [
    "CatBoostRegressor"
   ]
  },
  {
   "cell_type": "code",
   "execution_count": 41,
   "metadata": {
    "scrolled": true
   },
   "outputs": [],
   "source": [
    "\n",
    "#%%time\n",
    "#grid = {'learning_rate': [0.03, 0.1],\n",
    "#        'depth': [5, 15],\n",
    "#        'l2_leaf_reg': [1, 30]\\\n",
    "#       }\n",
    "#\n",
    "#model_cat = CatBoostRegressor(loss_function=\"RMSE\")\n",
    "#\n",
    "#grid_search_result = model_cat.grid_search(grid,\n",
    "#                                       X=x_train,\n",
    "#                                       y=y_train,\n",
    "#                                       plot=True)"
   ]
  },
  {
   "cell_type": "code",
   "execution_count": 42,
   "metadata": {},
   "outputs": [],
   "source": [
    "#grid_search_result['params']"
   ]
  },
  {
   "cell_type": "code",
   "execution_count": 43,
   "metadata": {
    "scrolled": true
   },
   "outputs": [
    {
     "name": "stdout",
     "output_type": "stream",
     "text": [
      "0:\tlearn: 35.7126634\ttotal: 67.7ms\tremaining: 11m 16s\n",
      "100:\tlearn: 22.7864904\ttotal: 335ms\tremaining: 32.9s\n",
      "200:\tlearn: 20.8769680\ttotal: 588ms\tremaining: 28.7s\n",
      "300:\tlearn: 19.6927777\ttotal: 834ms\tremaining: 26.9s\n",
      "400:\tlearn: 18.6522790\ttotal: 1.08s\tremaining: 25.8s\n",
      "500:\tlearn: 17.9066915\ttotal: 1.32s\tremaining: 25s\n",
      "600:\tlearn: 17.2279534\ttotal: 1.57s\tremaining: 24.6s\n",
      "700:\tlearn: 16.6404907\ttotal: 1.82s\tremaining: 24.2s\n",
      "800:\tlearn: 16.0540294\ttotal: 2.06s\tremaining: 23.7s\n",
      "900:\tlearn: 15.5562422\ttotal: 2.35s\tremaining: 23.7s\n",
      "1000:\tlearn: 15.0957389\ttotal: 2.63s\tremaining: 23.6s\n",
      "1100:\tlearn: 14.6321355\ttotal: 2.92s\tremaining: 23.6s\n",
      "1200:\tlearn: 14.2413281\ttotal: 3.2s\tremaining: 23.5s\n",
      "1300:\tlearn: 13.8558828\ttotal: 3.48s\tremaining: 23.3s\n",
      "1400:\tlearn: 13.4697973\ttotal: 3.74s\tremaining: 22.9s\n",
      "1500:\tlearn: 13.1253946\ttotal: 3.97s\tremaining: 22.5s\n",
      "1600:\tlearn: 12.8004487\ttotal: 4.22s\tremaining: 22.1s\n",
      "1700:\tlearn: 12.4471406\ttotal: 4.46s\tremaining: 21.8s\n",
      "1800:\tlearn: 12.1416863\ttotal: 4.76s\tremaining: 21.7s\n",
      "1900:\tlearn: 11.8431510\ttotal: 5.03s\tremaining: 21.4s\n",
      "2000:\tlearn: 11.5631057\ttotal: 5.28s\tremaining: 21.1s\n",
      "2100:\tlearn: 11.2825469\ttotal: 5.53s\tremaining: 20.8s\n",
      "2200:\tlearn: 11.0198094\ttotal: 5.78s\tremaining: 20.5s\n",
      "2300:\tlearn: 10.7658655\ttotal: 6.06s\tremaining: 20.3s\n",
      "2400:\tlearn: 10.5425621\ttotal: 6.33s\tremaining: 20s\n",
      "2500:\tlearn: 10.3270450\ttotal: 6.58s\tremaining: 19.7s\n",
      "2600:\tlearn: 10.1013688\ttotal: 6.83s\tremaining: 19.4s\n",
      "2700:\tlearn: 9.8900682\ttotal: 7.07s\tremaining: 19.1s\n",
      "2800:\tlearn: 9.6555051\ttotal: 7.34s\tremaining: 18.9s\n",
      "2900:\tlearn: 9.4560284\ttotal: 7.58s\tremaining: 18.5s\n",
      "3000:\tlearn: 9.2437113\ttotal: 7.84s\tremaining: 18.3s\n",
      "3100:\tlearn: 9.0549072\ttotal: 8.12s\tremaining: 18.1s\n",
      "3200:\tlearn: 8.8547111\ttotal: 8.37s\tremaining: 17.8s\n",
      "3300:\tlearn: 8.6769596\ttotal: 8.63s\tremaining: 17.5s\n",
      "3400:\tlearn: 8.5038903\ttotal: 8.9s\tremaining: 17.3s\n",
      "3500:\tlearn: 8.3241529\ttotal: 9.13s\tremaining: 17s\n",
      "3600:\tlearn: 8.1680906\ttotal: 9.37s\tremaining: 16.7s\n",
      "3700:\tlearn: 8.0031640\ttotal: 9.64s\tremaining: 16.4s\n",
      "3800:\tlearn: 7.8468160\ttotal: 9.9s\tremaining: 16.1s\n",
      "3900:\tlearn: 7.6975166\ttotal: 10.2s\tremaining: 15.9s\n",
      "4000:\tlearn: 7.5586328\ttotal: 10.4s\tremaining: 15.6s\n",
      "4100:\tlearn: 7.4183416\ttotal: 10.7s\tremaining: 15.3s\n",
      "4200:\tlearn: 7.2854825\ttotal: 10.9s\tremaining: 15s\n",
      "4300:\tlearn: 7.1373364\ttotal: 11.2s\tremaining: 14.8s\n",
      "4400:\tlearn: 7.0090119\ttotal: 11.4s\tremaining: 14.5s\n",
      "4500:\tlearn: 6.8814480\ttotal: 11.7s\tremaining: 14.3s\n",
      "4600:\tlearn: 6.7537305\ttotal: 11.9s\tremaining: 14s\n",
      "4700:\tlearn: 6.6237230\ttotal: 12.2s\tremaining: 13.7s\n",
      "4800:\tlearn: 6.4922198\ttotal: 12.4s\tremaining: 13.5s\n",
      "4900:\tlearn: 6.3720910\ttotal: 12.7s\tremaining: 13.2s\n",
      "5000:\tlearn: 6.2434917\ttotal: 13s\tremaining: 13s\n",
      "5100:\tlearn: 6.1318159\ttotal: 13.2s\tremaining: 12.7s\n",
      "5200:\tlearn: 6.0270643\ttotal: 13.5s\tremaining: 12.5s\n",
      "5300:\tlearn: 5.9145737\ttotal: 13.8s\tremaining: 12.2s\n",
      "5400:\tlearn: 5.8126472\ttotal: 14s\tremaining: 12s\n",
      "5500:\tlearn: 5.7066556\ttotal: 14.3s\tremaining: 11.7s\n",
      "5600:\tlearn: 5.6037011\ttotal: 14.6s\tremaining: 11.5s\n",
      "5700:\tlearn: 5.5044513\ttotal: 14.8s\tremaining: 11.2s\n",
      "5800:\tlearn: 5.4047156\ttotal: 15.1s\tremaining: 10.9s\n",
      "5900:\tlearn: 5.3007515\ttotal: 15.3s\tremaining: 10.7s\n",
      "6000:\tlearn: 5.2134855\ttotal: 15.6s\tremaining: 10.4s\n",
      "6100:\tlearn: 5.1193241\ttotal: 15.9s\tremaining: 10.1s\n",
      "6200:\tlearn: 5.0273291\ttotal: 16.2s\tremaining: 9.9s\n",
      "6300:\tlearn: 4.9432983\ttotal: 16.4s\tremaining: 9.63s\n",
      "6400:\tlearn: 4.8591387\ttotal: 16.7s\tremaining: 9.38s\n",
      "6500:\tlearn: 4.7745652\ttotal: 17s\tremaining: 9.14s\n",
      "6600:\tlearn: 4.6938388\ttotal: 17.2s\tremaining: 8.87s\n",
      "6700:\tlearn: 4.6058125\ttotal: 17.5s\tremaining: 8.61s\n",
      "6800:\tlearn: 4.5295571\ttotal: 17.8s\tremaining: 8.36s\n",
      "6900:\tlearn: 4.4511136\ttotal: 18s\tremaining: 8.1s\n",
      "7000:\tlearn: 4.3746233\ttotal: 18.3s\tremaining: 7.85s\n",
      "7100:\tlearn: 4.2999380\ttotal: 18.6s\tremaining: 7.6s\n",
      "7200:\tlearn: 4.2228940\ttotal: 18.9s\tremaining: 7.34s\n",
      "7300:\tlearn: 4.1545594\ttotal: 19.2s\tremaining: 7.09s\n",
      "7400:\tlearn: 4.0840696\ttotal: 19.4s\tremaining: 6.83s\n",
      "7500:\tlearn: 4.0197827\ttotal: 19.7s\tremaining: 6.58s\n",
      "7600:\tlearn: 3.9551822\ttotal: 20s\tremaining: 6.31s\n",
      "7700:\tlearn: 3.8869260\ttotal: 20.3s\tremaining: 6.05s\n",
      "7800:\tlearn: 3.8280429\ttotal: 20.5s\tremaining: 5.78s\n",
      "7900:\tlearn: 3.7615365\ttotal: 20.8s\tremaining: 5.51s\n",
      "8000:\tlearn: 3.6987683\ttotal: 21s\tremaining: 5.25s\n",
      "8100:\tlearn: 3.6387888\ttotal: 21.3s\tremaining: 5s\n",
      "8200:\tlearn: 3.5818567\ttotal: 21.6s\tremaining: 4.74s\n",
      "8300:\tlearn: 3.5168759\ttotal: 21.9s\tremaining: 4.48s\n",
      "8400:\tlearn: 3.4580458\ttotal: 22.1s\tremaining: 4.21s\n",
      "8500:\tlearn: 3.4031919\ttotal: 22.4s\tremaining: 3.94s\n",
      "8600:\tlearn: 3.3490131\ttotal: 22.6s\tremaining: 3.68s\n",
      "8700:\tlearn: 3.2927908\ttotal: 22.9s\tremaining: 3.42s\n",
      "8800:\tlearn: 3.2344432\ttotal: 23.2s\tremaining: 3.17s\n",
      "8900:\tlearn: 3.1810725\ttotal: 23.5s\tremaining: 2.91s\n",
      "9000:\tlearn: 3.1294747\ttotal: 23.9s\tremaining: 2.65s\n",
      "9100:\tlearn: 3.0798191\ttotal: 24.1s\tremaining: 2.38s\n",
      "9200:\tlearn: 3.0273899\ttotal: 24.4s\tremaining: 2.12s\n",
      "9300:\tlearn: 2.9749329\ttotal: 24.6s\tremaining: 1.85s\n",
      "9400:\tlearn: 2.9221417\ttotal: 24.9s\tremaining: 1.59s\n",
      "9500:\tlearn: 2.8717969\ttotal: 25.2s\tremaining: 1.32s\n",
      "9600:\tlearn: 2.8283925\ttotal: 25.4s\tremaining: 1.06s\n",
      "9700:\tlearn: 2.7842985\ttotal: 25.7s\tremaining: 791ms\n",
      "9800:\tlearn: 2.7383497\ttotal: 25.9s\tremaining: 527ms\n",
      "9900:\tlearn: 2.6985766\ttotal: 26.2s\tremaining: 262ms\n",
      "9999:\tlearn: 2.6562008\ttotal: 26.4s\tremaining: 0us\n",
      "CPU times: user 25.8 s, sys: 1.33 s, total: 27.1 s\n",
      "Wall time: 39.4 s\n"
     ]
    },
    {
     "data": {
      "text/plain": [
       "<catboost.core.CatBoostRegressor at 0x7f6284156910>"
      ]
     },
     "execution_count": 43,
     "metadata": {},
     "output_type": "execute_result"
    }
   ],
   "source": [
    "%%time\n",
    "model_cat = CatBoostRegressor(loss_function=\"RMSE\", depth=5,\\\n",
    "                              l2_leaf_reg=1, learning_rate=0.03,\\\n",
    "                              iterations=10000\n",
    "                             )\n",
    "model_cat.fit(x_train, y_train, verbose=100);"
   ]
  },
  {
   "cell_type": "code",
   "execution_count": 44,
   "metadata": {},
   "outputs": [
    {
     "name": "stdout",
     "output_type": "stream",
     "text": [
      "rmse = 32.01359945692668\n",
      "mae = 22.717547665489953\n",
      "CPU times: user 10.2 ms, sys: 100 µs, total: 10.3 ms\n",
      "Wall time: 8.07 ms\n"
     ]
    }
   ],
   "source": [
    "%%time\n",
    "predict_model = model_cat.predict(x_valid, verbose=0)\n",
    "rmse_model_cat = mse(y_valid, predict_model)**(0.5)\n",
    "mae_model_cat = mean_absolute_error(y_valid, predict_model)\n",
    "print('rmse =', rmse_model_cat)\n",
    "print('mae =', mae_model_cat)"
   ]
  },
  {
   "cell_type": "code",
   "execution_count": 45,
   "metadata": {},
   "outputs": [
    {
     "data": {
      "text/html": [
       "<div>\n",
       "<style scoped>\n",
       "    .dataframe tbody tr th:only-of-type {\n",
       "        vertical-align: middle;\n",
       "    }\n",
       "\n",
       "    .dataframe tbody tr th {\n",
       "        vertical-align: top;\n",
       "    }\n",
       "\n",
       "    .dataframe thead th {\n",
       "        text-align: right;\n",
       "    }\n",
       "</style>\n",
       "<table border=\"1\" class=\"dataframe\">\n",
       "  <thead>\n",
       "    <tr style=\"text-align: right;\">\n",
       "      <th></th>\n",
       "      <th>name</th>\n",
       "      <th>rmse</th>\n",
       "      <th>mae</th>\n",
       "    </tr>\n",
       "  </thead>\n",
       "  <tbody>\n",
       "    <tr>\n",
       "      <th>1</th>\n",
       "      <td>Linear Regression</td>\n",
       "      <td>40.310485</td>\n",
       "      <td>29.805532</td>\n",
       "    </tr>\n",
       "    <tr>\n",
       "      <th>2</th>\n",
       "      <td>Random Forest</td>\n",
       "      <td>31.475457</td>\n",
       "      <td>22.459060</td>\n",
       "    </tr>\n",
       "    <tr>\n",
       "      <th>3</th>\n",
       "      <td>SGD</td>\n",
       "      <td>40.259170</td>\n",
       "      <td>29.709989</td>\n",
       "    </tr>\n",
       "    <tr>\n",
       "      <th>4</th>\n",
       "      <td>CatBoost</td>\n",
       "      <td>32.013599</td>\n",
       "      <td>22.717548</td>\n",
       "    </tr>\n",
       "  </tbody>\n",
       "</table>\n",
       "</div>"
      ],
      "text/plain": [
       "                name       rmse        mae\n",
       "1  Linear Regression  40.310485  29.805532\n",
       "2      Random Forest  31.475457  22.459060\n",
       "3                SGD  40.259170  29.709989\n",
       "4           CatBoost  32.013599  22.717548"
      ]
     },
     "execution_count": 45,
     "metadata": {},
     "output_type": "execute_result"
    }
   ],
   "source": [
    "index_table +=1\n",
    "table.loc[index_table] = ['CatBoost', rmse_model_cat, mae_model_cat]\n",
    "table"
   ]
  },
  {
   "cell_type": "markdown",
   "metadata": {},
   "source": [
    "## Тестирование"
   ]
  },
  {
   "cell_type": "code",
   "execution_count": 46,
   "metadata": {},
   "outputs": [
    {
     "data": {
      "text/html": [
       "<div>\n",
       "<style scoped>\n",
       "    .dataframe tbody tr th:only-of-type {\n",
       "        vertical-align: middle;\n",
       "    }\n",
       "\n",
       "    .dataframe tbody tr th {\n",
       "        vertical-align: top;\n",
       "    }\n",
       "\n",
       "    .dataframe thead th {\n",
       "        text-align: right;\n",
       "    }\n",
       "</style>\n",
       "<table border=\"1\" class=\"dataframe\">\n",
       "  <thead>\n",
       "    <tr style=\"text-align: right;\">\n",
       "      <th></th>\n",
       "      <th>name</th>\n",
       "      <th>rmse</th>\n",
       "      <th>mae</th>\n",
       "    </tr>\n",
       "  </thead>\n",
       "  <tbody>\n",
       "    <tr>\n",
       "      <th>1</th>\n",
       "      <td>Linear Regression</td>\n",
       "      <td>40.310485</td>\n",
       "      <td>29.805532</td>\n",
       "    </tr>\n",
       "    <tr>\n",
       "      <th>2</th>\n",
       "      <td>Random Forest</td>\n",
       "      <td>31.475457</td>\n",
       "      <td>22.459060</td>\n",
       "    </tr>\n",
       "    <tr>\n",
       "      <th>3</th>\n",
       "      <td>SGD</td>\n",
       "      <td>40.259170</td>\n",
       "      <td>29.709989</td>\n",
       "    </tr>\n",
       "    <tr>\n",
       "      <th>4</th>\n",
       "      <td>CatBoost</td>\n",
       "      <td>32.013599</td>\n",
       "      <td>22.717548</td>\n",
       "    </tr>\n",
       "  </tbody>\n",
       "</table>\n",
       "</div>"
      ],
      "text/plain": [
       "                name       rmse        mae\n",
       "1  Linear Regression  40.310485  29.805532\n",
       "2      Random Forest  31.475457  22.459060\n",
       "3                SGD  40.259170  29.709989\n",
       "4           CatBoost  32.013599  22.717548"
      ]
     },
     "execution_count": 46,
     "metadata": {},
     "output_type": "execute_result"
    }
   ],
   "source": [
    "table"
   ]
  },
  {
   "cell_type": "code",
   "execution_count": 47,
   "metadata": {},
   "outputs": [
    {
     "data": {
      "text/html": [
       "<div>\n",
       "<style scoped>\n",
       "    .dataframe tbody tr th:only-of-type {\n",
       "        vertical-align: middle;\n",
       "    }\n",
       "\n",
       "    .dataframe tbody tr th {\n",
       "        vertical-align: top;\n",
       "    }\n",
       "\n",
       "    .dataframe thead th {\n",
       "        text-align: right;\n",
       "    }\n",
       "</style>\n",
       "<table border=\"1\" class=\"dataframe\">\n",
       "  <thead>\n",
       "    <tr style=\"text-align: right;\">\n",
       "      <th></th>\n",
       "      <th>name</th>\n",
       "      <th>rmse</th>\n",
       "      <th>mae</th>\n",
       "    </tr>\n",
       "  </thead>\n",
       "  <tbody>\n",
       "    <tr>\n",
       "      <th>2</th>\n",
       "      <td>Random Forest</td>\n",
       "      <td>31.475457</td>\n",
       "      <td>22.45906</td>\n",
       "    </tr>\n",
       "  </tbody>\n",
       "</table>\n",
       "</div>"
      ],
      "text/plain": [
       "            name       rmse       mae\n",
       "2  Random Forest  31.475457  22.45906"
      ]
     },
     "execution_count": 47,
     "metadata": {},
     "output_type": "execute_result"
    }
   ],
   "source": [
    "table[table['rmse'] == table['rmse'].min()]"
   ]
  },
  {
   "cell_type": "code",
   "execution_count": 48,
   "metadata": {
    "scrolled": true
   },
   "outputs": [
    {
     "data": {
      "text/html": [
       "<div>\n",
       "<style scoped>\n",
       "    .dataframe tbody tr th:only-of-type {\n",
       "        vertical-align: middle;\n",
       "    }\n",
       "\n",
       "    .dataframe tbody tr th {\n",
       "        vertical-align: top;\n",
       "    }\n",
       "\n",
       "    .dataframe thead th {\n",
       "        text-align: right;\n",
       "    }\n",
       "</style>\n",
       "<table border=\"1\" class=\"dataframe\">\n",
       "  <thead>\n",
       "    <tr style=\"text-align: right;\">\n",
       "      <th></th>\n",
       "      <th>name</th>\n",
       "      <th>rmse</th>\n",
       "      <th>mae</th>\n",
       "    </tr>\n",
       "  </thead>\n",
       "  <tbody>\n",
       "    <tr>\n",
       "      <th>1</th>\n",
       "      <td>Linear Regression</td>\n",
       "      <td>40.310485</td>\n",
       "      <td>29.805532</td>\n",
       "    </tr>\n",
       "  </tbody>\n",
       "</table>\n",
       "</div>"
      ],
      "text/plain": [
       "                name       rmse        mae\n",
       "1  Linear Regression  40.310485  29.805532"
      ]
     },
     "execution_count": 48,
     "metadata": {},
     "output_type": "execute_result"
    }
   ],
   "source": [
    "table[table['rmse'] == table['rmse'].max()]"
   ]
  },
  {
   "cell_type": "code",
   "execution_count": 49,
   "metadata": {},
   "outputs": [
    {
     "name": "stdout",
     "output_type": "stream",
     "text": [
      "Показатель RMSE для модели RandForest 47.560622803026504\n"
     ]
    }
   ],
   "source": [
    "predict_model_RandForest_test = grid_cv.predict(x_test)\n",
    "rmse_model_RandForest_test = mse(y_test, predict_model_RandForest_test)**(0.5)\n",
    "print('Показатель RMSE для модели RandForest', rmse_model_RandForest_test)"
   ]
  },
  {
   "cell_type": "code",
   "execution_count": 50,
   "metadata": {},
   "outputs": [],
   "source": [
    "#predict_model_test = model_cat.predict(x_test, verbose=0)\n",
    "#rmse_model_cat_test = mse(y_test, predict_model_test)**(0.5)\n",
    "\n",
    "#print('Показатель RMSE для модели CatBoostRegressor', rmse_model_cat_test)"
   ]
  },
  {
   "cell_type": "code",
   "execution_count": 51,
   "metadata": {},
   "outputs": [],
   "source": [
    "#predict_model_SGD = model_SGD.predict(x_test)\n",
    "#rmse_model_SGD = mse(y_test, predict_model_SGD)**(0.5)\n",
    "#print('Показатель RMSE для модели SGD', rmse_model_SGD)"
   ]
  },
  {
   "cell_type": "code",
   "execution_count": 52,
   "metadata": {},
   "outputs": [],
   "source": [
    "#predict_model_linReg = model_linReg.predict(x_test)\n",
    "#rmse_model_linReg = mse(y_test, predict_model_linReg)**(0.5)\n",
    "#print('Показатель RMSE для модели linReg', rmse_model_linReg)"
   ]
  },
  {
   "cell_type": "markdown",
   "metadata": {},
   "source": [
    "## Общий вывод:"
   ]
  },
  {
   "cell_type": "markdown",
   "metadata": {},
   "source": [
    "Результаты получись лучше чем, если бы использовалась рандомное значение,В проекте воспользовался основными моделями, лучшие показатели RMSE получил при использовании Random Forest, CatBoost показал схожий результат, но на предсказании работает чуть быстрее. В зависимости от препочтений заказчика стоит остановиться на этих двух моделях"
   ]
  },
  {
   "cell_type": "markdown",
   "metadata": {},
   "source": [
    "<div class=\"alert\" style=\"background-color:#ead7f7;color:#8737bf\">\n",
    "    <font size=\"3\"><b>образец комментария студента</b></font>\n",
    "   \n",
    "Почему важно использовать в данной задаче именно GridSearchCV?\n",
    "\n",
    "\n",
    "</div>"
   ]
  }
 ],
 "metadata": {
  "ExecuteTimeLog": [
   {
    "duration": 1702,
    "start_time": "2023-05-03T11:19:14.837Z"
   },
   {
    "duration": 143,
    "start_time": "2023-05-03T11:19:16.542Z"
   },
   {
    "duration": 20,
    "start_time": "2023-05-03T11:19:16.686Z"
   },
   {
    "duration": 24,
    "start_time": "2023-05-03T11:19:16.707Z"
   },
   {
    "duration": 27,
    "start_time": "2023-05-03T11:19:16.733Z"
   },
   {
    "duration": 270,
    "start_time": "2023-05-03T11:19:16.761Z"
   },
   {
    "duration": 735,
    "start_time": "2023-05-03T11:19:17.033Z"
   },
   {
    "duration": 162,
    "start_time": "2023-05-03T11:19:17.770Z"
   },
   {
    "duration": 0,
    "start_time": "2023-05-03T11:19:17.935Z"
   },
   {
    "duration": 0,
    "start_time": "2023-05-03T11:19:17.936Z"
   },
   {
    "duration": 0,
    "start_time": "2023-05-03T11:19:17.938Z"
   },
   {
    "duration": 0,
    "start_time": "2023-05-03T11:19:17.940Z"
   },
   {
    "duration": 0,
    "start_time": "2023-05-03T11:19:17.941Z"
   },
   {
    "duration": 0,
    "start_time": "2023-05-03T11:19:17.943Z"
   },
   {
    "duration": 0,
    "start_time": "2023-05-03T11:19:17.945Z"
   },
   {
    "duration": 0,
    "start_time": "2023-05-03T11:19:17.946Z"
   },
   {
    "duration": 0,
    "start_time": "2023-05-03T11:19:17.959Z"
   },
   {
    "duration": 0,
    "start_time": "2023-05-03T11:19:17.961Z"
   },
   {
    "duration": 0,
    "start_time": "2023-05-03T11:19:17.962Z"
   },
   {
    "duration": 0,
    "start_time": "2023-05-03T11:19:17.964Z"
   },
   {
    "duration": 0,
    "start_time": "2023-05-03T11:19:17.966Z"
   },
   {
    "duration": 0,
    "start_time": "2023-05-03T11:19:17.968Z"
   },
   {
    "duration": 0,
    "start_time": "2023-05-03T11:19:17.969Z"
   },
   {
    "duration": 0,
    "start_time": "2023-05-03T11:19:17.971Z"
   },
   {
    "duration": 0,
    "start_time": "2023-05-03T11:19:17.972Z"
   },
   {
    "duration": 0,
    "start_time": "2023-05-03T11:19:17.974Z"
   },
   {
    "duration": 0,
    "start_time": "2023-05-03T11:19:17.976Z"
   },
   {
    "duration": 0,
    "start_time": "2023-05-03T11:19:17.977Z"
   },
   {
    "duration": 0,
    "start_time": "2023-05-03T11:19:17.979Z"
   },
   {
    "duration": 0,
    "start_time": "2023-05-03T11:19:17.981Z"
   },
   {
    "duration": 1,
    "start_time": "2023-05-03T11:19:17.982Z"
   },
   {
    "duration": 0,
    "start_time": "2023-05-03T11:19:17.984Z"
   },
   {
    "duration": 0,
    "start_time": "2023-05-03T11:19:17.985Z"
   },
   {
    "duration": 16,
    "start_time": "2023-05-03T11:19:57.903Z"
   },
   {
    "duration": 1194,
    "start_time": "2023-05-03T11:20:00.003Z"
   },
   {
    "duration": 1341,
    "start_time": "2023-05-03T11:20:01.199Z"
   },
   {
    "duration": 13,
    "start_time": "2023-05-03T11:21:18.113Z"
   },
   {
    "duration": 15,
    "start_time": "2023-05-03T11:21:31.584Z"
   },
   {
    "duration": 12,
    "start_time": "2023-05-03T11:21:53.982Z"
   },
   {
    "duration": 892,
    "start_time": "2023-05-03T11:34:28.679Z"
   },
   {
    "duration": 668,
    "start_time": "2023-05-03T11:34:29.577Z"
   },
   {
    "duration": 11,
    "start_time": "2023-05-03T11:34:30.247Z"
   },
   {
    "duration": 145,
    "start_time": "2023-05-03T11:34:30.261Z"
   },
   {
    "duration": 0,
    "start_time": "2023-05-03T11:34:30.410Z"
   },
   {
    "duration": 0,
    "start_time": "2023-05-03T11:34:30.412Z"
   },
   {
    "duration": 0,
    "start_time": "2023-05-03T11:34:30.413Z"
   },
   {
    "duration": 0,
    "start_time": "2023-05-03T11:34:30.415Z"
   },
   {
    "duration": 0,
    "start_time": "2023-05-03T11:34:30.417Z"
   },
   {
    "duration": 0,
    "start_time": "2023-05-03T11:34:30.419Z"
   },
   {
    "duration": 0,
    "start_time": "2023-05-03T11:34:30.420Z"
   },
   {
    "duration": 0,
    "start_time": "2023-05-03T11:34:30.421Z"
   },
   {
    "duration": 0,
    "start_time": "2023-05-03T11:34:30.423Z"
   },
   {
    "duration": 0,
    "start_time": "2023-05-03T11:34:30.425Z"
   },
   {
    "duration": 0,
    "start_time": "2023-05-03T11:34:30.426Z"
   },
   {
    "duration": 0,
    "start_time": "2023-05-03T11:34:30.427Z"
   },
   {
    "duration": 0,
    "start_time": "2023-05-03T11:34:30.461Z"
   },
   {
    "duration": 0,
    "start_time": "2023-05-03T11:34:30.462Z"
   },
   {
    "duration": 0,
    "start_time": "2023-05-03T11:34:30.462Z"
   },
   {
    "duration": 0,
    "start_time": "2023-05-03T11:34:30.463Z"
   },
   {
    "duration": 0,
    "start_time": "2023-05-03T11:34:30.464Z"
   },
   {
    "duration": 0,
    "start_time": "2023-05-03T11:34:30.465Z"
   },
   {
    "duration": 0,
    "start_time": "2023-05-03T11:34:30.466Z"
   },
   {
    "duration": 0,
    "start_time": "2023-05-03T11:34:30.467Z"
   },
   {
    "duration": 0,
    "start_time": "2023-05-03T11:34:30.468Z"
   },
   {
    "duration": 0,
    "start_time": "2023-05-03T11:34:30.468Z"
   },
   {
    "duration": 0,
    "start_time": "2023-05-03T11:34:30.469Z"
   },
   {
    "duration": 0,
    "start_time": "2023-05-03T11:34:30.470Z"
   },
   {
    "duration": 0,
    "start_time": "2023-05-03T11:34:30.470Z"
   },
   {
    "duration": 0,
    "start_time": "2023-05-03T11:34:30.472Z"
   },
   {
    "duration": 0,
    "start_time": "2023-05-03T11:34:30.472Z"
   },
   {
    "duration": 0,
    "start_time": "2023-05-03T11:34:30.473Z"
   },
   {
    "duration": 0,
    "start_time": "2023-05-03T11:34:30.479Z"
   },
   {
    "duration": 0,
    "start_time": "2023-05-03T11:34:30.480Z"
   },
   {
    "duration": 0,
    "start_time": "2023-05-03T11:34:30.481Z"
   },
   {
    "duration": 0,
    "start_time": "2023-05-03T11:34:30.482Z"
   },
   {
    "duration": 0,
    "start_time": "2023-05-03T11:34:30.483Z"
   },
   {
    "duration": 0,
    "start_time": "2023-05-03T11:34:30.484Z"
   },
   {
    "duration": 0,
    "start_time": "2023-05-03T11:34:30.486Z"
   },
   {
    "duration": 0,
    "start_time": "2023-05-03T11:34:30.487Z"
   },
   {
    "duration": 0,
    "start_time": "2023-05-03T11:34:30.489Z"
   },
   {
    "duration": 0,
    "start_time": "2023-05-03T11:34:30.490Z"
   },
   {
    "duration": 0,
    "start_time": "2023-05-03T11:34:30.491Z"
   },
   {
    "duration": 0,
    "start_time": "2023-05-03T11:34:30.492Z"
   },
   {
    "duration": 0,
    "start_time": "2023-05-03T11:34:30.493Z"
   },
   {
    "duration": 0,
    "start_time": "2023-05-03T11:34:30.494Z"
   },
   {
    "duration": 0,
    "start_time": "2023-05-03T11:34:30.496Z"
   },
   {
    "duration": 0,
    "start_time": "2023-05-03T11:34:30.497Z"
   },
   {
    "duration": 0,
    "start_time": "2023-05-03T11:34:30.498Z"
   },
   {
    "duration": 1299,
    "start_time": "2023-05-03T11:35:00.358Z"
   },
   {
    "duration": 28,
    "start_time": "2023-05-03T11:35:01.659Z"
   },
   {
    "duration": 666,
    "start_time": "2023-05-03T11:35:01.689Z"
   },
   {
    "duration": 13,
    "start_time": "2023-05-03T11:35:02.357Z"
   },
   {
    "duration": 79,
    "start_time": "2023-05-03T11:35:02.372Z"
   },
   {
    "duration": 22,
    "start_time": "2023-05-03T11:35:02.453Z"
   },
   {
    "duration": 27,
    "start_time": "2023-05-03T11:35:02.477Z"
   },
   {
    "duration": 70,
    "start_time": "2023-05-03T11:35:02.505Z"
   },
   {
    "duration": 16,
    "start_time": "2023-05-03T11:35:02.577Z"
   },
   {
    "duration": 21,
    "start_time": "2023-05-03T11:35:02.597Z"
   },
   {
    "duration": 273,
    "start_time": "2023-05-03T11:35:02.620Z"
   },
   {
    "duration": 10,
    "start_time": "2023-05-03T11:35:02.896Z"
   },
   {
    "duration": 334,
    "start_time": "2023-05-03T11:35:02.908Z"
   },
   {
    "duration": 0,
    "start_time": "2023-05-03T11:35:03.244Z"
   },
   {
    "duration": 0,
    "start_time": "2023-05-03T11:35:03.245Z"
   },
   {
    "duration": 0,
    "start_time": "2023-05-03T11:35:03.246Z"
   },
   {
    "duration": 0,
    "start_time": "2023-05-03T11:35:03.259Z"
   },
   {
    "duration": 0,
    "start_time": "2023-05-03T11:35:03.260Z"
   },
   {
    "duration": 0,
    "start_time": "2023-05-03T11:35:03.261Z"
   },
   {
    "duration": 0,
    "start_time": "2023-05-03T11:35:03.262Z"
   },
   {
    "duration": 0,
    "start_time": "2023-05-03T11:35:03.262Z"
   },
   {
    "duration": 0,
    "start_time": "2023-05-03T11:35:03.263Z"
   },
   {
    "duration": 0,
    "start_time": "2023-05-03T11:35:03.264Z"
   },
   {
    "duration": 0,
    "start_time": "2023-05-03T11:35:03.265Z"
   },
   {
    "duration": 0,
    "start_time": "2023-05-03T11:35:03.265Z"
   },
   {
    "duration": 0,
    "start_time": "2023-05-03T11:35:03.266Z"
   },
   {
    "duration": 0,
    "start_time": "2023-05-03T11:35:03.267Z"
   },
   {
    "duration": 0,
    "start_time": "2023-05-03T11:35:03.268Z"
   },
   {
    "duration": 0,
    "start_time": "2023-05-03T11:35:03.270Z"
   },
   {
    "duration": 0,
    "start_time": "2023-05-03T11:35:03.271Z"
   },
   {
    "duration": 0,
    "start_time": "2023-05-03T11:35:03.272Z"
   },
   {
    "duration": 0,
    "start_time": "2023-05-03T11:35:03.273Z"
   },
   {
    "duration": 0,
    "start_time": "2023-05-03T11:35:03.273Z"
   },
   {
    "duration": 0,
    "start_time": "2023-05-03T11:35:03.274Z"
   },
   {
    "duration": 0,
    "start_time": "2023-05-03T11:35:03.275Z"
   },
   {
    "duration": 0,
    "start_time": "2023-05-03T11:35:03.276Z"
   },
   {
    "duration": 0,
    "start_time": "2023-05-03T11:35:03.277Z"
   },
   {
    "duration": 0,
    "start_time": "2023-05-03T11:35:03.278Z"
   },
   {
    "duration": 0,
    "start_time": "2023-05-03T11:35:03.279Z"
   },
   {
    "duration": 0,
    "start_time": "2023-05-03T11:35:03.280Z"
   },
   {
    "duration": 0,
    "start_time": "2023-05-03T11:35:03.281Z"
   },
   {
    "duration": 0,
    "start_time": "2023-05-03T11:35:03.282Z"
   },
   {
    "duration": 0,
    "start_time": "2023-05-03T11:35:03.283Z"
   },
   {
    "duration": 0,
    "start_time": "2023-05-03T11:35:03.284Z"
   },
   {
    "duration": 0,
    "start_time": "2023-05-03T11:35:03.286Z"
   },
   {
    "duration": 0,
    "start_time": "2023-05-03T11:35:03.287Z"
   },
   {
    "duration": 0,
    "start_time": "2023-05-03T11:35:03.288Z"
   },
   {
    "duration": 0,
    "start_time": "2023-05-03T11:35:03.289Z"
   },
   {
    "duration": 0,
    "start_time": "2023-05-03T11:35:03.290Z"
   },
   {
    "duration": 0,
    "start_time": "2023-05-03T11:35:03.291Z"
   },
   {
    "duration": 8,
    "start_time": "2023-05-03T11:36:14.112Z"
   },
   {
    "duration": 6,
    "start_time": "2023-05-03T11:36:17.077Z"
   },
   {
    "duration": 7,
    "start_time": "2023-05-03T11:37:38.721Z"
   },
   {
    "duration": 901,
    "start_time": "2023-05-03T11:37:39.904Z"
   },
   {
    "duration": 1198,
    "start_time": "2023-05-03T11:37:45.630Z"
   },
   {
    "duration": 41,
    "start_time": "2023-05-03T11:37:46.830Z"
   },
   {
    "duration": 459,
    "start_time": "2023-05-03T11:37:46.873Z"
   },
   {
    "duration": 9,
    "start_time": "2023-05-03T11:37:47.335Z"
   },
   {
    "duration": 83,
    "start_time": "2023-05-03T11:37:47.346Z"
   },
   {
    "duration": 11,
    "start_time": "2023-05-03T11:37:47.432Z"
   },
   {
    "duration": 16,
    "start_time": "2023-05-03T11:37:47.445Z"
   },
   {
    "duration": 6,
    "start_time": "2023-05-03T11:37:47.472Z"
   },
   {
    "duration": 33,
    "start_time": "2023-05-03T11:37:47.480Z"
   },
   {
    "duration": 6,
    "start_time": "2023-05-03T11:37:47.517Z"
   },
   {
    "duration": 288,
    "start_time": "2023-05-03T11:37:47.525Z"
   },
   {
    "duration": 10,
    "start_time": "2023-05-03T11:37:47.815Z"
   },
   {
    "duration": 32,
    "start_time": "2023-05-03T11:37:47.827Z"
   },
   {
    "duration": 961,
    "start_time": "2023-05-03T11:37:47.864Z"
   },
   {
    "duration": 279,
    "start_time": "2023-05-03T11:37:48.827Z"
   },
   {
    "duration": 238,
    "start_time": "2023-05-03T11:37:49.109Z"
   },
   {
    "duration": 371,
    "start_time": "2023-05-03T11:37:49.349Z"
   },
   {
    "duration": 220,
    "start_time": "2023-05-03T11:37:49.723Z"
   },
   {
    "duration": 1424,
    "start_time": "2023-05-03T11:37:49.946Z"
   },
   {
    "duration": 0,
    "start_time": "2023-05-03T11:37:51.374Z"
   },
   {
    "duration": 0,
    "start_time": "2023-05-03T11:37:51.377Z"
   },
   {
    "duration": 0,
    "start_time": "2023-05-03T11:37:51.379Z"
   },
   {
    "duration": 0,
    "start_time": "2023-05-03T11:37:51.380Z"
   },
   {
    "duration": 0,
    "start_time": "2023-05-03T11:37:51.382Z"
   },
   {
    "duration": 0,
    "start_time": "2023-05-03T11:37:51.384Z"
   },
   {
    "duration": 0,
    "start_time": "2023-05-03T11:37:51.385Z"
   },
   {
    "duration": 0,
    "start_time": "2023-05-03T11:37:51.387Z"
   },
   {
    "duration": 0,
    "start_time": "2023-05-03T11:37:51.494Z"
   },
   {
    "duration": 0,
    "start_time": "2023-05-03T11:37:51.496Z"
   },
   {
    "duration": 0,
    "start_time": "2023-05-03T11:37:51.497Z"
   },
   {
    "duration": 0,
    "start_time": "2023-05-03T11:37:51.498Z"
   },
   {
    "duration": 0,
    "start_time": "2023-05-03T11:37:51.499Z"
   },
   {
    "duration": 0,
    "start_time": "2023-05-03T11:37:51.500Z"
   },
   {
    "duration": 0,
    "start_time": "2023-05-03T11:37:51.502Z"
   },
   {
    "duration": 0,
    "start_time": "2023-05-03T11:37:51.503Z"
   },
   {
    "duration": 0,
    "start_time": "2023-05-03T11:37:51.504Z"
   },
   {
    "duration": 0,
    "start_time": "2023-05-03T11:37:51.504Z"
   },
   {
    "duration": 0,
    "start_time": "2023-05-03T11:37:51.506Z"
   },
   {
    "duration": 0,
    "start_time": "2023-05-03T11:37:51.507Z"
   },
   {
    "duration": 0,
    "start_time": "2023-05-03T11:37:51.508Z"
   },
   {
    "duration": 0,
    "start_time": "2023-05-03T11:37:51.509Z"
   },
   {
    "duration": 0,
    "start_time": "2023-05-03T11:37:51.510Z"
   },
   {
    "duration": 0,
    "start_time": "2023-05-03T11:37:51.511Z"
   },
   {
    "duration": 0,
    "start_time": "2023-05-03T11:37:51.512Z"
   },
   {
    "duration": 0,
    "start_time": "2023-05-03T11:37:51.514Z"
   },
   {
    "duration": 0,
    "start_time": "2023-05-03T11:37:51.516Z"
   },
   {
    "duration": 0,
    "start_time": "2023-05-03T11:37:51.517Z"
   },
   {
    "duration": 0,
    "start_time": "2023-05-03T11:37:51.518Z"
   },
   {
    "duration": 0,
    "start_time": "2023-05-03T11:37:51.519Z"
   },
   {
    "duration": 0,
    "start_time": "2023-05-03T11:37:51.567Z"
   },
   {
    "duration": 0,
    "start_time": "2023-05-03T11:37:51.568Z"
   },
   {
    "duration": 77,
    "start_time": "2023-05-03T11:38:30.962Z"
   },
   {
    "duration": 1235,
    "start_time": "2023-05-03T11:38:40.615Z"
   },
   {
    "duration": 21,
    "start_time": "2023-05-03T11:38:43.223Z"
   },
   {
    "duration": 12,
    "start_time": "2023-05-03T11:39:02.926Z"
   },
   {
    "duration": 10,
    "start_time": "2023-05-03T11:39:15.982Z"
   },
   {
    "duration": 17,
    "start_time": "2023-05-03T11:39:34.303Z"
   },
   {
    "duration": 7,
    "start_time": "2023-05-03T11:39:38.732Z"
   },
   {
    "duration": 11,
    "start_time": "2023-05-03T11:39:41.064Z"
   },
   {
    "duration": 11,
    "start_time": "2023-05-03T11:39:43.839Z"
   },
   {
    "duration": 10,
    "start_time": "2023-05-03T11:39:44.777Z"
   },
   {
    "duration": 9,
    "start_time": "2023-05-03T11:39:46.243Z"
   },
   {
    "duration": 11,
    "start_time": "2023-05-03T11:40:26.122Z"
   },
   {
    "duration": 19,
    "start_time": "2023-05-03T11:40:26.819Z"
   },
   {
    "duration": 7139,
    "start_time": "2023-05-03T11:40:29.220Z"
   },
   {
    "duration": 18,
    "start_time": "2023-05-03T11:40:36.361Z"
   },
   {
    "duration": 13,
    "start_time": "2023-05-03T11:40:36.381Z"
   },
   {
    "duration": 12,
    "start_time": "2023-05-03T11:40:36.396Z"
   },
   {
    "duration": 10,
    "start_time": "2023-05-03T11:40:36.410Z"
   },
   {
    "duration": 104852,
    "start_time": "2023-05-03T11:40:36.422Z"
   },
   {
    "duration": 5,
    "start_time": "2023-05-03T11:42:21.276Z"
   },
   {
    "duration": 11287,
    "start_time": "2023-05-03T11:42:21.282Z"
   },
   {
    "duration": 10,
    "start_time": "2023-05-03T11:42:32.578Z"
   },
   {
    "duration": 25,
    "start_time": "2023-05-03T11:42:32.590Z"
   },
   {
    "duration": 109,
    "start_time": "2023-05-03T11:42:32.617Z"
   },
   {
    "duration": 10,
    "start_time": "2023-05-03T11:42:32.728Z"
   },
   {
    "duration": 0,
    "start_time": "2023-05-03T11:42:32.739Z"
   },
   {
    "duration": 0,
    "start_time": "2023-05-03T11:42:32.741Z"
   },
   {
    "duration": 0,
    "start_time": "2023-05-03T11:42:32.742Z"
   },
   {
    "duration": 0,
    "start_time": "2023-05-03T11:42:32.743Z"
   },
   {
    "duration": 0,
    "start_time": "2023-05-03T11:42:32.744Z"
   },
   {
    "duration": 0,
    "start_time": "2023-05-03T11:42:32.745Z"
   },
   {
    "duration": 0,
    "start_time": "2023-05-03T11:42:32.747Z"
   },
   {
    "duration": 67651,
    "start_time": "2023-05-03T11:43:00.326Z"
   },
   {
    "duration": 6,
    "start_time": "2023-05-03T11:44:07.979Z"
   },
   {
    "duration": 17,
    "start_time": "2023-05-03T11:44:07.987Z"
   },
   {
    "duration": 13,
    "start_time": "2023-05-03T11:44:08.006Z"
   },
   {
    "duration": 5,
    "start_time": "2023-05-03T11:44:08.021Z"
   },
   {
    "duration": 12,
    "start_time": "2023-05-03T11:44:13.139Z"
   },
   {
    "duration": 89,
    "start_time": "2023-05-03T11:44:18.738Z"
   },
   {
    "duration": 96,
    "start_time": "2023-05-03T11:44:23.642Z"
   },
   {
    "duration": 118,
    "start_time": "2023-05-03T11:44:54.248Z"
   },
   {
    "duration": 13,
    "start_time": "2023-05-03T11:44:56.142Z"
   },
   {
    "duration": 9,
    "start_time": "2023-05-03T11:45:41.913Z"
   },
   {
    "duration": 11,
    "start_time": "2023-05-03T11:45:42.707Z"
   },
   {
    "duration": 11,
    "start_time": "2023-05-03T11:45:44.119Z"
   },
   {
    "duration": 27,
    "start_time": "2023-05-03T11:45:46.437Z"
   },
   {
    "duration": 32,
    "start_time": "2023-05-03T11:45:47.157Z"
   },
   {
    "duration": 14,
    "start_time": "2023-05-03T11:46:01.958Z"
   },
   {
    "duration": 9,
    "start_time": "2023-05-03T11:46:02.519Z"
   },
   {
    "duration": 9,
    "start_time": "2023-05-03T11:46:03.014Z"
   },
   {
    "duration": 23,
    "start_time": "2023-05-03T11:47:43.717Z"
   },
   {
    "duration": 24,
    "start_time": "2023-05-03T11:47:44.425Z"
   },
   {
    "duration": 15,
    "start_time": "2023-05-03T11:49:05.055Z"
   },
   {
    "duration": 9,
    "start_time": "2023-05-03T11:49:06.314Z"
   },
   {
    "duration": 10,
    "start_time": "2023-05-03T11:49:19.325Z"
   },
   {
    "duration": 10,
    "start_time": "2023-05-03T11:49:20.411Z"
   },
   {
    "duration": 9,
    "start_time": "2023-05-03T11:49:42.103Z"
   },
   {
    "duration": 24,
    "start_time": "2023-05-03T11:50:42.110Z"
   },
   {
    "duration": 23,
    "start_time": "2023-05-03T11:52:21.247Z"
   },
   {
    "duration": 7,
    "start_time": "2023-05-03T11:59:32.461Z"
   },
   {
    "duration": 188,
    "start_time": "2023-05-03T11:59:33.606Z"
   },
   {
    "duration": 303,
    "start_time": "2023-05-03T11:59:54.508Z"
   },
   {
    "duration": 27,
    "start_time": "2023-05-03T12:00:34.799Z"
   },
   {
    "duration": 3,
    "start_time": "2023-05-03T12:06:48.113Z"
   },
   {
    "duration": 9,
    "start_time": "2023-05-03T12:09:51.035Z"
   },
   {
    "duration": 8,
    "start_time": "2023-05-03T12:10:15.019Z"
   },
   {
    "duration": 22,
    "start_time": "2023-05-03T12:10:42.357Z"
   },
   {
    "duration": 2,
    "start_time": "2023-05-03T12:10:48.606Z"
   },
   {
    "duration": 11,
    "start_time": "2023-05-03T12:11:44.537Z"
   },
   {
    "duration": 1313,
    "start_time": "2023-05-04T21:11:11.502Z"
   },
   {
    "duration": 25,
    "start_time": "2023-05-04T21:11:12.818Z"
   },
   {
    "duration": 2112,
    "start_time": "2023-05-04T21:11:12.845Z"
   },
   {
    "duration": 8,
    "start_time": "2023-05-04T21:11:14.959Z"
   },
   {
    "duration": 63,
    "start_time": "2023-05-04T21:11:14.969Z"
   },
   {
    "duration": 12,
    "start_time": "2023-05-04T21:11:15.033Z"
   },
   {
    "duration": 16,
    "start_time": "2023-05-04T21:11:15.046Z"
   },
   {
    "duration": 24,
    "start_time": "2023-05-04T21:11:15.064Z"
   },
   {
    "duration": 27,
    "start_time": "2023-05-04T21:11:15.090Z"
   },
   {
    "duration": 4,
    "start_time": "2023-05-04T21:11:15.122Z"
   },
   {
    "duration": 471,
    "start_time": "2023-05-04T21:11:15.128Z"
   },
   {
    "duration": 12,
    "start_time": "2023-05-04T21:11:15.605Z"
   },
   {
    "duration": 32,
    "start_time": "2023-05-04T21:11:15.620Z"
   },
   {
    "duration": 1303,
    "start_time": "2023-05-04T21:11:15.655Z"
   },
   {
    "duration": 394,
    "start_time": "2023-05-04T21:11:16.960Z"
   },
   {
    "duration": 373,
    "start_time": "2023-05-04T21:11:17.356Z"
   },
   {
    "duration": 446,
    "start_time": "2023-05-04T21:11:17.731Z"
   },
   {
    "duration": 336,
    "start_time": "2023-05-04T21:11:18.178Z"
   },
   {
    "duration": 325,
    "start_time": "2023-05-04T21:11:18.517Z"
   },
   {
    "duration": 14,
    "start_time": "2023-05-04T21:11:18.844Z"
   },
   {
    "duration": 9,
    "start_time": "2023-05-04T21:11:18.860Z"
   },
   {
    "duration": 33,
    "start_time": "2023-05-04T21:11:18.870Z"
   },
   {
    "duration": 12,
    "start_time": "2023-05-04T21:11:18.905Z"
   },
   {
    "duration": 8,
    "start_time": "2023-05-04T21:11:18.918Z"
   },
   {
    "duration": 11,
    "start_time": "2023-05-04T21:11:18.928Z"
   },
   {
    "duration": 17,
    "start_time": "2023-05-04T21:11:18.940Z"
   },
   {
    "duration": 26,
    "start_time": "2023-05-04T21:11:18.959Z"
   },
   {
    "duration": 7157,
    "start_time": "2023-05-04T21:11:19.000Z"
   },
   {
    "duration": 13,
    "start_time": "2023-05-04T21:11:26.159Z"
   },
   {
    "duration": 32,
    "start_time": "2023-05-04T21:11:26.173Z"
   },
   {
    "duration": 11,
    "start_time": "2023-05-04T21:11:26.209Z"
   },
   {
    "duration": 114288,
    "start_time": "2023-05-04T21:11:26.222Z"
   },
   {
    "duration": 5,
    "start_time": "2023-05-04T21:13:20.512Z"
   },
   {
    "duration": 10013,
    "start_time": "2023-05-04T21:13:20.519Z"
   },
   {
    "duration": 14,
    "start_time": "2023-05-04T21:13:30.534Z"
   },
   {
    "duration": 34,
    "start_time": "2023-05-04T21:13:30.550Z"
   },
   {
    "duration": 38,
    "start_time": "2023-05-04T21:13:30.587Z"
   },
   {
    "duration": 49,
    "start_time": "2023-05-04T21:13:30.627Z"
   },
   {
    "duration": 37,
    "start_time": "2023-05-04T21:13:30.678Z"
   },
   {
    "duration": 29,
    "start_time": "2023-05-04T21:13:30.717Z"
   },
   {
    "duration": 25,
    "start_time": "2023-05-04T21:13:30.748Z"
   },
   {
    "duration": 43,
    "start_time": "2023-05-05T04:31:01.600Z"
   },
   {
    "duration": 1280,
    "start_time": "2023-05-05T04:40:41.578Z"
   },
   {
    "duration": 22,
    "start_time": "2023-05-05T04:40:42.859Z"
   },
   {
    "duration": 522,
    "start_time": "2023-05-05T04:40:42.884Z"
   },
   {
    "duration": 7,
    "start_time": "2023-05-05T04:40:43.407Z"
   },
   {
    "duration": 167,
    "start_time": "2023-05-05T04:40:43.416Z"
   },
   {
    "duration": 8,
    "start_time": "2023-05-05T04:40:43.585Z"
   },
   {
    "duration": 8,
    "start_time": "2023-05-05T04:40:43.595Z"
   },
   {
    "duration": 7,
    "start_time": "2023-05-05T04:40:43.604Z"
   },
   {
    "duration": 12,
    "start_time": "2023-05-05T04:40:43.614Z"
   },
   {
    "duration": 3,
    "start_time": "2023-05-05T04:40:43.627Z"
   },
   {
    "duration": 352,
    "start_time": "2023-05-05T04:40:43.632Z"
   },
   {
    "duration": 8,
    "start_time": "2023-05-05T04:40:43.985Z"
   },
   {
    "duration": 23,
    "start_time": "2023-05-05T04:40:43.994Z"
   },
   {
    "duration": 1152,
    "start_time": "2023-05-05T04:40:44.018Z"
   },
   {
    "duration": 324,
    "start_time": "2023-05-05T04:40:45.171Z"
   },
   {
    "duration": 287,
    "start_time": "2023-05-05T04:40:45.496Z"
   },
   {
    "duration": 331,
    "start_time": "2023-05-05T04:40:45.784Z"
   },
   {
    "duration": 278,
    "start_time": "2023-05-05T04:40:46.117Z"
   },
   {
    "duration": 260,
    "start_time": "2023-05-05T04:40:46.397Z"
   },
   {
    "duration": 12,
    "start_time": "2023-05-05T04:40:46.658Z"
   },
   {
    "duration": 5,
    "start_time": "2023-05-05T04:40:46.671Z"
   },
   {
    "duration": 18,
    "start_time": "2023-05-05T04:40:46.677Z"
   },
   {
    "duration": 16,
    "start_time": "2023-05-05T04:40:46.696Z"
   },
   {
    "duration": 7,
    "start_time": "2023-05-05T04:40:46.713Z"
   },
   {
    "duration": 14,
    "start_time": "2023-05-05T04:40:46.722Z"
   },
   {
    "duration": 14,
    "start_time": "2023-05-05T04:40:46.737Z"
   },
   {
    "duration": 99,
    "start_time": "2023-05-05T04:40:46.797Z"
   },
   {
    "duration": 5588,
    "start_time": "2023-05-05T04:40:46.897Z"
   },
   {
    "duration": 13,
    "start_time": "2023-05-05T04:40:52.487Z"
   },
   {
    "duration": 13,
    "start_time": "2023-05-05T04:40:52.502Z"
   },
   {
    "duration": 14,
    "start_time": "2023-05-05T04:40:52.516Z"
   },
   {
    "duration": 90430,
    "start_time": "2023-05-05T04:40:52.532Z"
   },
   {
    "duration": 3,
    "start_time": "2023-05-05T04:42:22.964Z"
   },
   {
    "duration": 8610,
    "start_time": "2023-05-05T04:42:22.969Z"
   },
   {
    "duration": 9,
    "start_time": "2023-05-05T04:42:31.581Z"
   },
   {
    "duration": 27,
    "start_time": "2023-05-05T04:42:31.592Z"
   },
   {
    "duration": 21,
    "start_time": "2023-05-05T04:42:31.621Z"
   },
   {
    "duration": 24,
    "start_time": "2023-05-05T04:42:31.644Z"
   },
   {
    "duration": 205,
    "start_time": "2023-05-05T04:42:31.669Z"
   },
   {
    "duration": 13,
    "start_time": "2023-05-05T04:42:31.875Z"
   },
   {
    "duration": 22,
    "start_time": "2023-05-05T04:42:31.889Z"
   },
   {
    "duration": 314,
    "start_time": "2023-05-05T05:13:57.048Z"
   },
   {
    "duration": 339,
    "start_time": "2023-05-05T05:14:02.342Z"
   },
   {
    "duration": 1262,
    "start_time": "2023-05-05T05:35:50.206Z"
   },
   {
    "duration": 32,
    "start_time": "2023-05-05T05:35:51.472Z"
   },
   {
    "duration": 531,
    "start_time": "2023-05-05T05:35:51.506Z"
   },
   {
    "duration": 6,
    "start_time": "2023-05-05T05:35:52.039Z"
   },
   {
    "duration": 60,
    "start_time": "2023-05-05T05:35:52.047Z"
   },
   {
    "duration": 9,
    "start_time": "2023-05-05T05:35:52.109Z"
   },
   {
    "duration": 30,
    "start_time": "2023-05-05T05:35:52.120Z"
   },
   {
    "duration": 22,
    "start_time": "2023-05-05T05:35:52.152Z"
   },
   {
    "duration": 21,
    "start_time": "2023-05-05T05:35:52.176Z"
   },
   {
    "duration": 20,
    "start_time": "2023-05-05T05:35:52.199Z"
   },
   {
    "duration": 463,
    "start_time": "2023-05-05T05:35:52.221Z"
   },
   {
    "duration": 9,
    "start_time": "2023-05-05T05:35:52.686Z"
   },
   {
    "duration": 9,
    "start_time": "2023-05-05T05:35:52.696Z"
   },
   {
    "duration": 6,
    "start_time": "2023-05-05T05:35:52.794Z"
   },
   {
    "duration": 1105,
    "start_time": "2023-05-05T05:35:52.801Z"
   },
   {
    "duration": 590,
    "start_time": "2023-05-05T05:35:53.908Z"
   },
   {
    "duration": 607,
    "start_time": "2023-05-05T05:35:54.500Z"
   },
   {
    "duration": 598,
    "start_time": "2023-05-05T05:35:55.108Z"
   },
   {
    "duration": 480,
    "start_time": "2023-05-05T05:35:55.709Z"
   },
   {
    "duration": 132,
    "start_time": "2023-05-05T05:35:56.190Z"
   },
   {
    "duration": 13,
    "start_time": "2023-05-05T05:35:56.323Z"
   },
   {
    "duration": 10,
    "start_time": "2023-05-05T05:35:56.338Z"
   },
   {
    "duration": 24,
    "start_time": "2023-05-05T05:35:56.349Z"
   },
   {
    "duration": 14,
    "start_time": "2023-05-05T05:35:56.374Z"
   },
   {
    "duration": 13,
    "start_time": "2023-05-05T05:35:56.389Z"
   },
   {
    "duration": 10,
    "start_time": "2023-05-05T05:35:56.404Z"
   },
   {
    "duration": 18,
    "start_time": "2023-05-05T05:35:56.416Z"
   },
   {
    "duration": 17,
    "start_time": "2023-05-05T05:35:56.436Z"
   },
   {
    "duration": 6517,
    "start_time": "2023-05-05T05:35:56.455Z"
   },
   {
    "duration": 11,
    "start_time": "2023-05-05T05:36:02.974Z"
   },
   {
    "duration": 14,
    "start_time": "2023-05-05T05:36:02.994Z"
   },
   {
    "duration": 13,
    "start_time": "2023-05-05T05:36:03.010Z"
   },
   {
    "duration": 98000,
    "start_time": "2023-05-05T05:36:03.025Z"
   },
   {
    "duration": 4,
    "start_time": "2023-05-05T05:37:41.027Z"
   },
   {
    "duration": 8549,
    "start_time": "2023-05-05T05:37:41.032Z"
   },
   {
    "duration": 10,
    "start_time": "2023-05-05T05:37:49.582Z"
   },
   {
    "duration": 11,
    "start_time": "2023-05-05T05:37:49.594Z"
   },
   {
    "duration": 8,
    "start_time": "2023-05-05T05:37:49.607Z"
   },
   {
    "duration": 9,
    "start_time": "2023-05-05T05:37:49.617Z"
   },
   {
    "duration": 12,
    "start_time": "2023-05-05T05:37:49.627Z"
   },
   {
    "duration": 2,
    "start_time": "2023-05-05T05:37:49.642Z"
   },
   {
    "duration": 6,
    "start_time": "2023-05-05T05:37:49.646Z"
   },
   {
    "duration": 7,
    "start_time": "2023-05-05T05:37:49.654Z"
   },
   {
    "duration": 1117,
    "start_time": "2023-05-05T05:38:14.335Z"
   },
   {
    "duration": 23,
    "start_time": "2023-05-05T05:38:15.454Z"
   },
   {
    "duration": 398,
    "start_time": "2023-05-05T05:38:15.478Z"
   },
   {
    "duration": 7,
    "start_time": "2023-05-05T05:38:15.878Z"
   },
   {
    "duration": 62,
    "start_time": "2023-05-05T05:38:15.887Z"
   },
   {
    "duration": 9,
    "start_time": "2023-05-05T05:38:15.951Z"
   },
   {
    "duration": 9,
    "start_time": "2023-05-05T05:38:15.962Z"
   },
   {
    "duration": 4,
    "start_time": "2023-05-05T05:38:15.973Z"
   },
   {
    "duration": 29,
    "start_time": "2023-05-05T05:38:15.978Z"
   },
   {
    "duration": 3,
    "start_time": "2023-05-05T05:38:16.010Z"
   },
   {
    "duration": 393,
    "start_time": "2023-05-05T05:38:16.015Z"
   },
   {
    "duration": 9,
    "start_time": "2023-05-05T05:38:16.410Z"
   },
   {
    "duration": 8,
    "start_time": "2023-05-05T05:38:16.421Z"
   },
   {
    "duration": 21,
    "start_time": "2023-05-05T05:38:16.431Z"
   },
   {
    "duration": 1212,
    "start_time": "2023-05-05T05:38:16.454Z"
   },
   {
    "duration": 359,
    "start_time": "2023-05-05T05:38:17.667Z"
   },
   {
    "duration": 335,
    "start_time": "2023-05-05T05:38:18.028Z"
   },
   {
    "duration": 426,
    "start_time": "2023-05-05T05:38:18.365Z"
   },
   {
    "duration": 305,
    "start_time": "2023-05-05T05:38:18.793Z"
   },
   {
    "duration": 289,
    "start_time": "2023-05-05T05:38:19.100Z"
   },
   {
    "duration": 14,
    "start_time": "2023-05-05T05:38:19.394Z"
   },
   {
    "duration": 21,
    "start_time": "2023-05-05T05:38:19.410Z"
   },
   {
    "duration": 27,
    "start_time": "2023-05-05T05:38:19.433Z"
   },
   {
    "duration": 26,
    "start_time": "2023-05-05T05:38:19.462Z"
   },
   {
    "duration": 22,
    "start_time": "2023-05-05T05:38:19.490Z"
   },
   {
    "duration": 24,
    "start_time": "2023-05-05T05:38:19.513Z"
   },
   {
    "duration": 32,
    "start_time": "2023-05-05T05:38:19.539Z"
   },
   {
    "duration": 20,
    "start_time": "2023-05-05T05:38:19.575Z"
   },
   {
    "duration": 6327,
    "start_time": "2023-05-05T05:38:19.597Z"
   },
   {
    "duration": 10,
    "start_time": "2023-05-05T05:38:25.926Z"
   },
   {
    "duration": 17,
    "start_time": "2023-05-05T05:38:25.939Z"
   },
   {
    "duration": 12,
    "start_time": "2023-05-05T05:38:25.958Z"
   },
   {
    "duration": 97922,
    "start_time": "2023-05-05T05:38:25.995Z"
   },
   {
    "duration": 4,
    "start_time": "2023-05-05T05:40:03.919Z"
   },
   {
    "duration": 8779,
    "start_time": "2023-05-05T05:40:03.925Z"
   },
   {
    "duration": 11,
    "start_time": "2023-05-05T05:40:12.706Z"
   },
   {
    "duration": 13,
    "start_time": "2023-05-05T05:40:12.719Z"
   },
   {
    "duration": 10,
    "start_time": "2023-05-05T05:40:12.734Z"
   },
   {
    "duration": 10,
    "start_time": "2023-05-05T05:40:12.746Z"
   },
   {
    "duration": 43,
    "start_time": "2023-05-05T05:40:12.757Z"
   },
   {
    "duration": 5,
    "start_time": "2023-05-05T05:40:12.802Z"
   },
   {
    "duration": 4,
    "start_time": "2023-05-05T05:40:12.808Z"
   },
   {
    "duration": 74,
    "start_time": "2023-05-05T05:40:23.640Z"
   },
   {
    "duration": 715,
    "start_time": "2023-05-05T05:40:26.099Z"
   },
   {
    "duration": 95,
    "start_time": "2023-05-05T05:40:42.951Z"
   },
   {
    "duration": 83,
    "start_time": "2023-05-05T05:40:46.846Z"
   },
   {
    "duration": 85,
    "start_time": "2023-05-05T05:40:55.991Z"
   },
   {
    "duration": 76,
    "start_time": "2023-05-05T05:41:28.732Z"
   },
   {
    "duration": 30,
    "start_time": "2023-05-05T05:41:45.604Z"
   },
   {
    "duration": 29,
    "start_time": "2023-05-05T05:41:58.668Z"
   },
   {
    "duration": 29,
    "start_time": "2023-05-05T05:42:03.221Z"
   },
   {
    "duration": 709,
    "start_time": "2023-05-05T05:42:10.999Z"
   },
   {
    "duration": 86,
    "start_time": "2023-05-05T05:47:14.894Z"
   },
   {
    "duration": 4,
    "start_time": "2023-05-05T05:49:19.081Z"
   },
   {
    "duration": 375,
    "start_time": "2023-05-05T05:49:28.307Z"
   },
   {
    "duration": 377,
    "start_time": "2023-05-05T05:49:32.833Z"
   },
   {
    "duration": 7,
    "start_time": "2023-05-05T05:50:11.351Z"
   },
   {
    "duration": 402,
    "start_time": "2023-05-05T05:50:11.959Z"
   },
   {
    "duration": 7,
    "start_time": "2023-05-05T05:50:15.952Z"
   },
   {
    "duration": 328,
    "start_time": "2023-05-05T05:50:28.183Z"
   },
   {
    "duration": 133,
    "start_time": "2023-05-05T07:30:02.696Z"
   },
   {
    "duration": 26,
    "start_time": "2023-05-05T07:30:09.104Z"
   },
   {
    "duration": 11,
    "start_time": "2023-05-05T07:30:22.623Z"
   },
   {
    "duration": 5,
    "start_time": "2023-05-05T07:30:57.543Z"
   },
   {
    "duration": 17,
    "start_time": "2023-05-05T07:31:00.838Z"
   },
   {
    "duration": 14,
    "start_time": "2023-05-05T07:31:05.141Z"
   },
   {
    "duration": 10,
    "start_time": "2023-05-05T07:31:10.047Z"
   },
   {
    "duration": 8,
    "start_time": "2023-05-05T07:31:24.252Z"
   },
   {
    "duration": 331,
    "start_time": "2023-05-05T07:31:24.812Z"
   },
   {
    "duration": 7,
    "start_time": "2023-05-05T07:31:27.563Z"
   },
   {
    "duration": 298,
    "start_time": "2023-05-05T07:31:27.765Z"
   },
   {
    "duration": 14,
    "start_time": "2023-05-05T07:32:24.706Z"
   },
   {
    "duration": 1062,
    "start_time": "2023-05-05T07:32:31.851Z"
   },
   {
    "duration": 21,
    "start_time": "2023-05-05T07:32:32.915Z"
   },
   {
    "duration": 380,
    "start_time": "2023-05-05T07:32:32.937Z"
   },
   {
    "duration": 7,
    "start_time": "2023-05-05T07:32:33.320Z"
   },
   {
    "duration": 54,
    "start_time": "2023-05-05T07:32:33.329Z"
   },
   {
    "duration": 10,
    "start_time": "2023-05-05T07:32:33.384Z"
   },
   {
    "duration": 8,
    "start_time": "2023-05-05T07:32:33.395Z"
   },
   {
    "duration": 5,
    "start_time": "2023-05-05T07:32:33.404Z"
   },
   {
    "duration": 15,
    "start_time": "2023-05-05T07:32:33.411Z"
   },
   {
    "duration": 4,
    "start_time": "2023-05-05T07:32:33.429Z"
   },
   {
    "duration": 433,
    "start_time": "2023-05-05T07:32:33.435Z"
   },
   {
    "duration": 9,
    "start_time": "2023-05-05T07:32:33.870Z"
   },
   {
    "duration": 28,
    "start_time": "2023-05-05T07:32:33.880Z"
   },
   {
    "duration": 9,
    "start_time": "2023-05-05T07:32:33.909Z"
   },
   {
    "duration": 497,
    "start_time": "2023-05-05T07:32:33.920Z"
   },
   {
    "duration": 7,
    "start_time": "2023-05-05T07:32:34.420Z"
   },
   {
    "duration": 311,
    "start_time": "2023-05-05T07:32:34.429Z"
   },
   {
    "duration": 6,
    "start_time": "2023-05-05T07:32:34.742Z"
   },
   {
    "duration": 1144,
    "start_time": "2023-05-05T07:32:34.750Z"
   },
   {
    "duration": 369,
    "start_time": "2023-05-05T07:32:35.896Z"
   },
   {
    "duration": 361,
    "start_time": "2023-05-05T07:32:36.267Z"
   },
   {
    "duration": 371,
    "start_time": "2023-05-05T07:32:36.629Z"
   },
   {
    "duration": 381,
    "start_time": "2023-05-05T07:32:37.001Z"
   },
   {
    "duration": 225,
    "start_time": "2023-05-05T07:32:37.384Z"
   },
   {
    "duration": 12,
    "start_time": "2023-05-05T07:32:37.610Z"
   },
   {
    "duration": 5,
    "start_time": "2023-05-05T07:32:37.624Z"
   },
   {
    "duration": 10,
    "start_time": "2023-05-05T07:32:37.630Z"
   },
   {
    "duration": 22,
    "start_time": "2023-05-05T07:32:37.643Z"
   },
   {
    "duration": 7,
    "start_time": "2023-05-05T07:32:37.667Z"
   },
   {
    "duration": 20,
    "start_time": "2023-05-05T07:32:37.676Z"
   },
   {
    "duration": 11,
    "start_time": "2023-05-05T07:32:37.697Z"
   },
   {
    "duration": 12,
    "start_time": "2023-05-05T07:32:37.709Z"
   },
   {
    "duration": 5825,
    "start_time": "2023-05-05T07:32:37.722Z"
   },
   {
    "duration": 11,
    "start_time": "2023-05-05T07:32:43.549Z"
   },
   {
    "duration": 34,
    "start_time": "2023-05-05T07:32:43.562Z"
   },
   {
    "duration": 12,
    "start_time": "2023-05-05T07:32:43.598Z"
   },
   {
    "duration": 32306,
    "start_time": "2023-05-05T07:32:43.612Z"
   },
   {
    "duration": 11,
    "start_time": "2023-05-05T07:33:15.920Z"
   },
   {
    "duration": 0,
    "start_time": "2023-05-05T07:33:15.932Z"
   },
   {
    "duration": 0,
    "start_time": "2023-05-05T07:33:15.934Z"
   },
   {
    "duration": 0,
    "start_time": "2023-05-05T07:33:15.935Z"
   },
   {
    "duration": 0,
    "start_time": "2023-05-05T07:33:15.937Z"
   },
   {
    "duration": 0,
    "start_time": "2023-05-05T07:33:15.937Z"
   },
   {
    "duration": 0,
    "start_time": "2023-05-05T07:33:15.938Z"
   },
   {
    "duration": 0,
    "start_time": "2023-05-05T07:33:15.940Z"
   },
   {
    "duration": 0,
    "start_time": "2023-05-05T07:33:15.941Z"
   },
   {
    "duration": 1150,
    "start_time": "2023-05-05T07:33:20.116Z"
   },
   {
    "duration": 30,
    "start_time": "2023-05-05T07:33:21.268Z"
   },
   {
    "duration": 405,
    "start_time": "2023-05-05T07:33:21.300Z"
   },
   {
    "duration": 7,
    "start_time": "2023-05-05T07:33:21.707Z"
   },
   {
    "duration": 53,
    "start_time": "2023-05-05T07:33:21.715Z"
   },
   {
    "duration": 11,
    "start_time": "2023-05-05T07:33:21.769Z"
   },
   {
    "duration": 19,
    "start_time": "2023-05-05T07:33:21.781Z"
   },
   {
    "duration": 4,
    "start_time": "2023-05-05T07:33:21.802Z"
   },
   {
    "duration": 18,
    "start_time": "2023-05-05T07:33:21.808Z"
   },
   {
    "duration": 4,
    "start_time": "2023-05-05T07:33:21.830Z"
   },
   {
    "duration": 408,
    "start_time": "2023-05-05T07:33:21.836Z"
   },
   {
    "duration": 9,
    "start_time": "2023-05-05T07:33:22.245Z"
   },
   {
    "duration": 23,
    "start_time": "2023-05-05T07:33:22.256Z"
   },
   {
    "duration": 24,
    "start_time": "2023-05-05T07:33:22.281Z"
   },
   {
    "duration": 411,
    "start_time": "2023-05-05T07:33:22.307Z"
   },
   {
    "duration": 7,
    "start_time": "2023-05-05T07:33:22.719Z"
   },
   {
    "duration": 299,
    "start_time": "2023-05-05T07:33:22.728Z"
   },
   {
    "duration": 8,
    "start_time": "2023-05-05T07:33:23.029Z"
   },
   {
    "duration": 1126,
    "start_time": "2023-05-05T07:33:23.039Z"
   },
   {
    "duration": 420,
    "start_time": "2023-05-05T07:33:24.167Z"
   },
   {
    "duration": 310,
    "start_time": "2023-05-05T07:33:24.589Z"
   },
   {
    "duration": 384,
    "start_time": "2023-05-05T07:33:24.901Z"
   },
   {
    "duration": 409,
    "start_time": "2023-05-05T07:33:25.287Z"
   },
   {
    "duration": 186,
    "start_time": "2023-05-05T07:33:25.698Z"
   },
   {
    "duration": 20,
    "start_time": "2023-05-05T07:33:25.886Z"
   },
   {
    "duration": 5,
    "start_time": "2023-05-05T07:33:25.908Z"
   },
   {
    "duration": 4,
    "start_time": "2023-05-05T07:33:25.915Z"
   },
   {
    "duration": 10,
    "start_time": "2023-05-05T07:33:25.922Z"
   },
   {
    "duration": 9,
    "start_time": "2023-05-05T07:33:25.933Z"
   },
   {
    "duration": 11,
    "start_time": "2023-05-05T07:33:25.943Z"
   },
   {
    "duration": 50,
    "start_time": "2023-05-05T07:33:25.955Z"
   },
   {
    "duration": 17,
    "start_time": "2023-05-05T07:33:26.008Z"
   },
   {
    "duration": 6434,
    "start_time": "2023-05-05T07:33:26.026Z"
   },
   {
    "duration": 11,
    "start_time": "2023-05-05T07:33:32.462Z"
   },
   {
    "duration": 29,
    "start_time": "2023-05-05T07:33:32.475Z"
   },
   {
    "duration": 19,
    "start_time": "2023-05-05T07:33:32.506Z"
   },
   {
    "duration": 97830,
    "start_time": "2023-05-05T07:33:32.527Z"
   },
   {
    "duration": 4,
    "start_time": "2023-05-05T07:35:10.359Z"
   },
   {
    "duration": 8912,
    "start_time": "2023-05-05T07:35:10.366Z"
   },
   {
    "duration": 10,
    "start_time": "2023-05-05T07:35:19.281Z"
   },
   {
    "duration": 14,
    "start_time": "2023-05-05T07:35:19.293Z"
   },
   {
    "duration": 21,
    "start_time": "2023-05-05T07:35:19.309Z"
   },
   {
    "duration": 12,
    "start_time": "2023-05-05T07:35:19.332Z"
   },
   {
    "duration": 25,
    "start_time": "2023-05-05T07:35:19.347Z"
   },
   {
    "duration": 59,
    "start_time": "2023-05-05T07:35:19.375Z"
   },
   {
    "duration": 666,
    "start_time": "2023-05-05T07:35:19.436Z"
   },
   {
    "duration": 1559,
    "start_time": "2023-05-05T07:35:52.674Z"
   },
   {
    "duration": 1457,
    "start_time": "2023-05-05T07:36:07.036Z"
   },
   {
    "duration": 14,
    "start_time": "2023-05-05T07:36:37.473Z"
   },
   {
    "duration": 1286,
    "start_time": "2023-05-05T07:37:08.441Z"
   },
   {
    "duration": 1480,
    "start_time": "2023-05-05T07:37:15.912Z"
   },
   {
    "duration": 6,
    "start_time": "2023-05-05T07:37:50.183Z"
   },
   {
    "duration": 6,
    "start_time": "2023-05-05T07:38:10.079Z"
   },
   {
    "duration": 317,
    "start_time": "2023-05-05T07:38:13.311Z"
   },
   {
    "duration": 482,
    "start_time": "2023-05-05T07:38:21.268Z"
   },
   {
    "duration": 576,
    "start_time": "2023-05-05T07:39:08.578Z"
   },
   {
    "duration": 506,
    "start_time": "2023-05-05T07:39:11.978Z"
   },
   {
    "duration": 434,
    "start_time": "2023-05-05T07:39:15.955Z"
   },
   {
    "duration": 10,
    "start_time": "2023-05-05T07:39:53.153Z"
   },
   {
    "duration": 609,
    "start_time": "2023-05-05T07:40:11.216Z"
   },
   {
    "duration": 465,
    "start_time": "2023-05-05T07:40:16.353Z"
   },
   {
    "duration": 454,
    "start_time": "2023-05-05T07:40:23.359Z"
   },
   {
    "duration": 567,
    "start_time": "2023-05-05T07:40:28.271Z"
   },
   {
    "duration": 469,
    "start_time": "2023-05-05T07:40:35.871Z"
   },
   {
    "duration": 456,
    "start_time": "2023-05-05T07:40:58.534Z"
   },
   {
    "duration": 564,
    "start_time": "2023-05-05T07:41:09.693Z"
   },
   {
    "duration": 481,
    "start_time": "2023-05-05T07:41:29.102Z"
   },
   {
    "duration": 507,
    "start_time": "2023-05-05T07:41:33.373Z"
   },
   {
    "duration": 512,
    "start_time": "2023-05-05T07:41:39.124Z"
   },
   {
    "duration": 7,
    "start_time": "2023-05-05T07:41:52.210Z"
   },
   {
    "duration": 1317,
    "start_time": "2023-05-05T07:41:53.027Z"
   },
   {
    "duration": 347,
    "start_time": "2023-05-05T07:42:00.005Z"
   },
   {
    "duration": 88,
    "start_time": "2023-05-05T07:42:27.340Z"
   },
   {
    "duration": 78,
    "start_time": "2023-05-05T07:42:53.252Z"
   },
   {
    "duration": 305,
    "start_time": "2023-05-05T07:42:57.979Z"
   },
   {
    "duration": 316,
    "start_time": "2023-05-05T07:43:29.811Z"
   },
   {
    "duration": 8,
    "start_time": "2023-05-05T07:43:49.459Z"
   },
   {
    "duration": 5,
    "start_time": "2023-05-05T07:43:50.627Z"
   },
   {
    "duration": 13,
    "start_time": "2023-05-05T07:43:52.441Z"
   },
   {
    "duration": 10,
    "start_time": "2023-05-05T07:43:53.272Z"
   },
   {
    "duration": 11,
    "start_time": "2023-05-05T07:43:53.738Z"
   },
   {
    "duration": 10,
    "start_time": "2023-05-05T07:44:02.704Z"
   },
   {
    "duration": 15,
    "start_time": "2023-05-05T07:44:05.219Z"
   },
   {
    "duration": 6097,
    "start_time": "2023-05-05T07:44:07.824Z"
   },
   {
    "duration": 12,
    "start_time": "2023-05-05T07:44:13.924Z"
   },
   {
    "duration": 23,
    "start_time": "2023-05-05T07:44:13.937Z"
   },
   {
    "duration": 11,
    "start_time": "2023-05-05T07:44:13.963Z"
   },
   {
    "duration": 102403,
    "start_time": "2023-05-05T07:44:13.995Z"
   },
   {
    "duration": 10,
    "start_time": "2023-05-05T07:45:56.400Z"
   },
   {
    "duration": 10560,
    "start_time": "2023-05-05T07:45:56.412Z"
   },
   {
    "duration": 10,
    "start_time": "2023-05-05T07:46:06.973Z"
   },
   {
    "duration": 13,
    "start_time": "2023-05-05T07:46:06.984Z"
   },
   {
    "duration": 16,
    "start_time": "2023-05-05T07:46:07.002Z"
   },
   {
    "duration": 15,
    "start_time": "2023-05-05T07:46:07.020Z"
   },
   {
    "duration": 9,
    "start_time": "2023-05-05T07:46:07.037Z"
   },
   {
    "duration": 28,
    "start_time": "2023-05-05T07:46:07.047Z"
   },
   {
    "duration": 768,
    "start_time": "2023-05-05T07:46:07.077Z"
   },
   {
    "duration": 3,
    "start_time": "2023-05-05T07:53:09.053Z"
   },
   {
    "duration": 3,
    "start_time": "2023-05-05T07:53:09.331Z"
   },
   {
    "duration": 10,
    "start_time": "2023-05-05T07:53:09.797Z"
   },
   {
    "duration": 3,
    "start_time": "2023-05-05T07:53:10.012Z"
   },
   {
    "duration": 81,
    "start_time": "2023-05-05T07:54:57.058Z"
   },
   {
    "duration": 498,
    "start_time": "2023-05-05T07:56:06.410Z"
   },
   {
    "duration": 451,
    "start_time": "2023-05-05T07:56:25.176Z"
   },
   {
    "duration": 347,
    "start_time": "2023-05-05T07:57:20.566Z"
   },
   {
    "duration": 13,
    "start_time": "2023-05-05T07:57:44.660Z"
   },
   {
    "duration": 481,
    "start_time": "2023-05-05T07:58:05.859Z"
   },
   {
    "duration": 626,
    "start_time": "2023-05-05T07:59:43.560Z"
   },
   {
    "duration": 16,
    "start_time": "2023-05-05T08:00:40.420Z"
   },
   {
    "duration": 12,
    "start_time": "2023-05-05T08:00:49.549Z"
   },
   {
    "duration": 5,
    "start_time": "2023-05-05T08:00:52.126Z"
   },
   {
    "duration": 6,
    "start_time": "2023-05-05T08:06:09.157Z"
   },
   {
    "duration": 13,
    "start_time": "2023-05-05T08:06:25.564Z"
   },
   {
    "duration": 6,
    "start_time": "2023-05-05T08:06:46.273Z"
   },
   {
    "duration": 11,
    "start_time": "2023-05-05T08:06:49.298Z"
   },
   {
    "duration": 5,
    "start_time": "2023-05-05T08:06:52.745Z"
   },
   {
    "duration": 10,
    "start_time": "2023-05-05T08:06:53.561Z"
   },
   {
    "duration": 5,
    "start_time": "2023-05-05T08:06:56.929Z"
   },
   {
    "duration": 13,
    "start_time": "2023-05-05T08:06:57.649Z"
   },
   {
    "duration": 5,
    "start_time": "2023-05-05T08:07:01.300Z"
   },
   {
    "duration": 10,
    "start_time": "2023-05-05T08:07:02.074Z"
   },
   {
    "duration": 2,
    "start_time": "2023-05-05T08:07:13.218Z"
   },
   {
    "duration": 22,
    "start_time": "2023-05-05T08:07:17.595Z"
   },
   {
    "duration": 7,
    "start_time": "2023-05-05T08:08:31.583Z"
   },
   {
    "duration": 19,
    "start_time": "2023-05-05T08:09:29.774Z"
   },
   {
    "duration": 707,
    "start_time": "2023-05-05T08:09:53.609Z"
   },
   {
    "duration": 687,
    "start_time": "2023-05-05T08:09:56.931Z"
   },
   {
    "duration": 506,
    "start_time": "2023-05-05T08:10:02.267Z"
   },
   {
    "duration": 633,
    "start_time": "2023-05-05T08:10:05.724Z"
   },
   {
    "duration": 1280,
    "start_time": "2023-05-05T08:12:31.089Z"
   },
   {
    "duration": 34,
    "start_time": "2023-05-05T08:12:32.372Z"
   },
   {
    "duration": 459,
    "start_time": "2023-05-05T08:12:32.411Z"
   },
   {
    "duration": 8,
    "start_time": "2023-05-05T08:12:32.872Z"
   },
   {
    "duration": 90,
    "start_time": "2023-05-05T08:12:32.882Z"
   },
   {
    "duration": 15,
    "start_time": "2023-05-05T08:12:32.974Z"
   },
   {
    "duration": 17,
    "start_time": "2023-05-05T08:12:32.991Z"
   },
   {
    "duration": 5,
    "start_time": "2023-05-05T08:12:33.012Z"
   },
   {
    "duration": 33,
    "start_time": "2023-05-05T08:12:33.019Z"
   },
   {
    "duration": 19,
    "start_time": "2023-05-05T08:12:33.056Z"
   },
   {
    "duration": 519,
    "start_time": "2023-05-05T08:12:33.077Z"
   },
   {
    "duration": 12,
    "start_time": "2023-05-05T08:12:33.601Z"
   },
   {
    "duration": 8,
    "start_time": "2023-05-05T08:12:33.615Z"
   },
   {
    "duration": 584,
    "start_time": "2023-05-05T08:12:33.625Z"
   },
   {
    "duration": 4,
    "start_time": "2023-05-05T08:12:34.218Z"
   },
   {
    "duration": 12,
    "start_time": "2023-05-05T08:12:34.224Z"
   },
   {
    "duration": 8,
    "start_time": "2023-05-05T08:12:34.238Z"
   },
   {
    "duration": 16,
    "start_time": "2023-05-05T08:12:34.248Z"
   },
   {
    "duration": 12,
    "start_time": "2023-05-05T08:12:34.266Z"
   },
   {
    "duration": 1249,
    "start_time": "2023-05-05T08:12:34.281Z"
   },
   {
    "duration": 385,
    "start_time": "2023-05-05T08:12:35.532Z"
   },
   {
    "duration": 340,
    "start_time": "2023-05-05T08:12:35.919Z"
   },
   {
    "duration": 526,
    "start_time": "2023-05-05T08:12:36.261Z"
   },
   {
    "duration": 317,
    "start_time": "2023-05-05T08:12:36.789Z"
   },
   {
    "duration": 209,
    "start_time": "2023-05-05T08:12:37.108Z"
   },
   {
    "duration": 15,
    "start_time": "2023-05-05T08:12:37.319Z"
   },
   {
    "duration": 5,
    "start_time": "2023-05-05T08:12:37.336Z"
   },
   {
    "duration": 20,
    "start_time": "2023-05-05T08:12:37.345Z"
   },
   {
    "duration": 17,
    "start_time": "2023-05-05T08:12:37.367Z"
   },
   {
    "duration": 9,
    "start_time": "2023-05-05T08:12:37.385Z"
   },
   {
    "duration": 19,
    "start_time": "2023-05-05T08:12:37.395Z"
   },
   {
    "duration": 20,
    "start_time": "2023-05-05T08:12:37.415Z"
   },
   {
    "duration": 16,
    "start_time": "2023-05-05T08:12:37.438Z"
   },
   {
    "duration": 15,
    "start_time": "2023-05-05T08:12:37.456Z"
   },
   {
    "duration": 5444,
    "start_time": "2023-05-05T08:12:37.472Z"
   },
   {
    "duration": 12,
    "start_time": "2023-05-05T08:12:42.918Z"
   },
   {
    "duration": 12,
    "start_time": "2023-05-05T08:12:42.932Z"
   },
   {
    "duration": 12,
    "start_time": "2023-05-05T08:12:42.946Z"
   },
   {
    "duration": 101085,
    "start_time": "2023-05-05T08:12:42.959Z"
   },
   {
    "duration": 6,
    "start_time": "2023-05-05T08:14:24.046Z"
   },
   {
    "duration": 9793,
    "start_time": "2023-05-05T08:14:24.054Z"
   },
   {
    "duration": 14,
    "start_time": "2023-05-05T08:14:33.848Z"
   },
   {
    "duration": 11,
    "start_time": "2023-05-05T08:14:33.864Z"
   },
   {
    "duration": 9,
    "start_time": "2023-05-05T08:14:33.877Z"
   },
   {
    "duration": 15,
    "start_time": "2023-05-05T08:14:33.888Z"
   },
   {
    "duration": 8,
    "start_time": "2023-05-05T08:14:33.905Z"
   },
   {
    "duration": 29,
    "start_time": "2023-05-05T08:14:33.916Z"
   },
   {
    "duration": 803,
    "start_time": "2023-05-05T08:14:33.947Z"
   },
   {
    "duration": 5,
    "start_time": "2023-05-05T08:17:11.412Z"
   },
   {
    "duration": 694,
    "start_time": "2023-05-05T08:17:22.348Z"
   },
   {
    "duration": 27,
    "start_time": "2023-05-05T08:18:00.363Z"
   },
   {
    "duration": 32,
    "start_time": "2023-05-05T08:18:43.937Z"
   },
   {
    "duration": 30,
    "start_time": "2023-05-05T08:18:52.601Z"
   },
   {
    "duration": 29,
    "start_time": "2023-05-05T08:18:56.155Z"
   },
   {
    "duration": 166,
    "start_time": "2023-05-05T08:19:23.056Z"
   },
   {
    "duration": 14,
    "start_time": "2023-05-05T08:19:59.943Z"
   },
   {
    "duration": 14,
    "start_time": "2023-05-05T08:20:16.367Z"
   },
   {
    "duration": 7,
    "start_time": "2023-05-05T08:21:09.700Z"
   },
   {
    "duration": 5,
    "start_time": "2023-05-05T08:21:22.259Z"
   },
   {
    "duration": 73,
    "start_time": "2023-05-05T08:22:11.025Z"
   },
   {
    "duration": 552,
    "start_time": "2023-05-05T08:27:53.853Z"
   },
   {
    "duration": 1178,
    "start_time": "2023-05-05T08:28:08.036Z"
   },
   {
    "duration": 29,
    "start_time": "2023-05-05T08:28:09.216Z"
   },
   {
    "duration": 448,
    "start_time": "2023-05-05T08:28:09.247Z"
   },
   {
    "duration": 7,
    "start_time": "2023-05-05T08:28:09.697Z"
   },
   {
    "duration": 65,
    "start_time": "2023-05-05T08:28:09.706Z"
   },
   {
    "duration": 15,
    "start_time": "2023-05-05T08:28:09.773Z"
   },
   {
    "duration": 16,
    "start_time": "2023-05-05T08:28:09.789Z"
   },
   {
    "duration": 24,
    "start_time": "2023-05-05T08:28:09.807Z"
   },
   {
    "duration": 21,
    "start_time": "2023-05-05T08:28:09.832Z"
   },
   {
    "duration": 4,
    "start_time": "2023-05-05T08:28:09.857Z"
   },
   {
    "duration": 429,
    "start_time": "2023-05-05T08:28:09.863Z"
   },
   {
    "duration": 11,
    "start_time": "2023-05-05T08:28:10.294Z"
   },
   {
    "duration": 7,
    "start_time": "2023-05-05T08:28:10.307Z"
   },
   {
    "duration": 592,
    "start_time": "2023-05-05T08:28:10.316Z"
   },
   {
    "duration": 3,
    "start_time": "2023-05-05T08:28:10.909Z"
   },
   {
    "duration": 16,
    "start_time": "2023-05-05T08:28:10.914Z"
   },
   {
    "duration": 6,
    "start_time": "2023-05-05T08:28:10.932Z"
   },
   {
    "duration": 4,
    "start_time": "2023-05-05T08:28:10.940Z"
   },
   {
    "duration": 10,
    "start_time": "2023-05-05T08:28:10.946Z"
   },
   {
    "duration": 1216,
    "start_time": "2023-05-05T08:28:10.957Z"
   },
   {
    "duration": 400,
    "start_time": "2023-05-05T08:28:12.175Z"
   },
   {
    "duration": 359,
    "start_time": "2023-05-05T08:28:12.577Z"
   },
   {
    "duration": 540,
    "start_time": "2023-05-05T08:28:12.938Z"
   },
   {
    "duration": 324,
    "start_time": "2023-05-05T08:28:13.480Z"
   },
   {
    "duration": 202,
    "start_time": "2023-05-05T08:28:13.806Z"
   },
   {
    "duration": 15,
    "start_time": "2023-05-05T08:28:14.010Z"
   },
   {
    "duration": 9,
    "start_time": "2023-05-05T08:28:14.026Z"
   },
   {
    "duration": 18,
    "start_time": "2023-05-05T08:28:14.039Z"
   },
   {
    "duration": 28,
    "start_time": "2023-05-05T08:28:14.059Z"
   },
   {
    "duration": 10,
    "start_time": "2023-05-05T08:28:14.089Z"
   },
   {
    "duration": 25,
    "start_time": "2023-05-05T08:28:14.101Z"
   },
   {
    "duration": 31,
    "start_time": "2023-05-05T08:28:14.128Z"
   },
   {
    "duration": 13,
    "start_time": "2023-05-05T08:28:14.163Z"
   },
   {
    "duration": 23,
    "start_time": "2023-05-05T08:28:14.178Z"
   },
   {
    "duration": 5865,
    "start_time": "2023-05-05T08:28:14.203Z"
   },
   {
    "duration": 12,
    "start_time": "2023-05-05T08:28:20.069Z"
   },
   {
    "duration": 18,
    "start_time": "2023-05-05T08:28:20.094Z"
   },
   {
    "duration": 27,
    "start_time": "2023-05-05T08:28:20.113Z"
   },
   {
    "duration": 103104,
    "start_time": "2023-05-05T08:28:20.142Z"
   },
   {
    "duration": 5,
    "start_time": "2023-05-05T08:30:03.249Z"
   },
   {
    "duration": 8634,
    "start_time": "2023-05-05T08:30:03.256Z"
   },
   {
    "duration": 16,
    "start_time": "2023-05-05T08:30:11.891Z"
   },
   {
    "duration": 19,
    "start_time": "2023-05-05T08:30:11.908Z"
   },
   {
    "duration": 10,
    "start_time": "2023-05-05T08:30:11.929Z"
   },
   {
    "duration": 19,
    "start_time": "2023-05-05T08:30:11.940Z"
   },
   {
    "duration": 11,
    "start_time": "2023-05-05T08:30:11.960Z"
   },
   {
    "duration": 25,
    "start_time": "2023-05-05T08:30:11.973Z"
   },
   {
    "duration": 105,
    "start_time": "2023-05-05T08:33:49.385Z"
   },
   {
    "duration": 78,
    "start_time": "2023-05-05T21:09:12.684Z"
   },
   {
    "duration": 1402,
    "start_time": "2023-05-05T21:09:25.897Z"
   },
   {
    "duration": 28,
    "start_time": "2023-05-05T21:09:27.301Z"
   },
   {
    "duration": 1919,
    "start_time": "2023-05-05T21:09:27.331Z"
   },
   {
    "duration": 12,
    "start_time": "2023-05-05T21:09:29.260Z"
   },
   {
    "duration": 163,
    "start_time": "2023-05-05T21:09:29.273Z"
   },
   {
    "duration": 18,
    "start_time": "2023-05-05T21:09:29.439Z"
   },
   {
    "duration": 20,
    "start_time": "2023-05-05T21:09:29.459Z"
   },
   {
    "duration": 11,
    "start_time": "2023-05-05T21:09:29.481Z"
   },
   {
    "duration": 18,
    "start_time": "2023-05-05T21:09:29.494Z"
   },
   {
    "duration": 4,
    "start_time": "2023-05-05T21:09:29.515Z"
   },
   {
    "duration": 456,
    "start_time": "2023-05-05T21:09:29.541Z"
   },
   {
    "duration": 15,
    "start_time": "2023-05-05T21:09:30.000Z"
   },
   {
    "duration": 25,
    "start_time": "2023-05-05T21:09:30.017Z"
   },
   {
    "duration": 645,
    "start_time": "2023-05-05T21:09:30.047Z"
   },
   {
    "duration": 4,
    "start_time": "2023-05-05T21:09:30.694Z"
   },
   {
    "duration": 71,
    "start_time": "2023-05-05T21:09:30.700Z"
   },
   {
    "duration": 107,
    "start_time": "2023-05-05T21:09:30.774Z"
   },
   {
    "duration": 103,
    "start_time": "2023-05-05T21:09:30.883Z"
   },
   {
    "duration": 78,
    "start_time": "2023-05-05T21:09:30.989Z"
   },
   {
    "duration": 1515,
    "start_time": "2023-05-05T21:09:31.069Z"
   },
   {
    "duration": 443,
    "start_time": "2023-05-05T21:09:32.586Z"
   },
   {
    "duration": 541,
    "start_time": "2023-05-05T21:09:33.044Z"
   },
   {
    "duration": 642,
    "start_time": "2023-05-05T21:09:33.587Z"
   },
   {
    "duration": 356,
    "start_time": "2023-05-05T21:09:34.231Z"
   },
   {
    "duration": 267,
    "start_time": "2023-05-05T21:09:34.589Z"
   },
   {
    "duration": 17,
    "start_time": "2023-05-05T21:09:34.862Z"
   },
   {
    "duration": 8,
    "start_time": "2023-05-05T21:09:34.880Z"
   },
   {
    "duration": 10,
    "start_time": "2023-05-05T21:09:34.891Z"
   },
   {
    "duration": 21,
    "start_time": "2023-05-05T21:09:34.903Z"
   },
   {
    "duration": 7,
    "start_time": "2023-05-05T21:09:34.926Z"
   },
   {
    "duration": 30,
    "start_time": "2023-05-05T21:09:34.935Z"
   },
   {
    "duration": 13,
    "start_time": "2023-05-05T21:09:34.968Z"
   },
   {
    "duration": 56,
    "start_time": "2023-05-05T21:09:34.983Z"
   },
   {
    "duration": 113,
    "start_time": "2023-05-05T21:09:35.040Z"
   },
   {
    "duration": 6941,
    "start_time": "2023-05-05T21:09:35.155Z"
   },
   {
    "duration": 12,
    "start_time": "2023-05-05T21:09:42.098Z"
   },
   {
    "duration": 43,
    "start_time": "2023-05-05T21:09:42.111Z"
   },
   {
    "duration": 16,
    "start_time": "2023-05-05T21:09:42.156Z"
   },
   {
    "duration": 130630,
    "start_time": "2023-05-05T21:09:42.174Z"
   },
   {
    "duration": 5,
    "start_time": "2023-05-05T21:11:52.806Z"
   },
   {
    "duration": 10731,
    "start_time": "2023-05-05T21:11:52.814Z"
   },
   {
    "duration": 23,
    "start_time": "2023-05-05T21:12:03.553Z"
   },
   {
    "duration": 18,
    "start_time": "2023-05-05T21:12:03.579Z"
   },
   {
    "duration": 9,
    "start_time": "2023-05-05T21:12:03.599Z"
   },
   {
    "duration": 38,
    "start_time": "2023-05-05T21:12:03.610Z"
   },
   {
    "duration": 28,
    "start_time": "2023-05-05T21:12:03.650Z"
   },
   {
    "duration": 156,
    "start_time": "2023-05-05T21:12:03.680Z"
   },
   {
    "duration": 13,
    "start_time": "2023-05-05T21:14:36.499Z"
   },
   {
    "duration": 10,
    "start_time": "2023-05-05T21:14:54.732Z"
   },
   {
    "duration": 9,
    "start_time": "2023-05-05T21:15:40.527Z"
   },
   {
    "duration": 5,
    "start_time": "2023-05-05T21:16:00.980Z"
   },
   {
    "duration": 7,
    "start_time": "2023-05-05T21:16:09.883Z"
   },
   {
    "duration": 5,
    "start_time": "2023-05-05T21:16:14.559Z"
   },
   {
    "duration": 7,
    "start_time": "2023-05-05T21:16:18.992Z"
   },
   {
    "duration": 14,
    "start_time": "2023-05-05T21:16:38.762Z"
   },
   {
    "duration": 18,
    "start_time": "2023-05-05T21:16:56.186Z"
   },
   {
    "duration": 5,
    "start_time": "2023-05-05T21:17:05.819Z"
   },
   {
    "duration": 17,
    "start_time": "2023-05-05T21:17:17.810Z"
   },
   {
    "duration": 15,
    "start_time": "2023-05-05T21:17:25.946Z"
   },
   {
    "duration": 5,
    "start_time": "2023-05-05T21:17:31.388Z"
   },
   {
    "duration": 4,
    "start_time": "2023-05-05T21:17:58.956Z"
   },
   {
    "duration": 5,
    "start_time": "2023-05-05T21:18:05.293Z"
   },
   {
    "duration": 66,
    "start_time": "2023-05-06T08:33:15.648Z"
   },
   {
    "duration": 1392,
    "start_time": "2023-05-06T08:33:20.279Z"
   },
   {
    "duration": 32,
    "start_time": "2023-05-06T08:33:21.673Z"
   },
   {
    "duration": 434,
    "start_time": "2023-05-06T08:33:21.707Z"
   },
   {
    "duration": 7,
    "start_time": "2023-05-06T08:33:22.143Z"
   },
   {
    "duration": 171,
    "start_time": "2023-05-06T08:33:22.152Z"
   },
   {
    "duration": 11,
    "start_time": "2023-05-06T08:33:22.325Z"
   },
   {
    "duration": 13,
    "start_time": "2023-05-06T08:33:22.338Z"
   },
   {
    "duration": 5,
    "start_time": "2023-05-06T08:33:22.353Z"
   },
   {
    "duration": 33,
    "start_time": "2023-05-06T08:33:22.359Z"
   },
   {
    "duration": 5,
    "start_time": "2023-05-06T08:33:22.395Z"
   },
   {
    "duration": 431,
    "start_time": "2023-05-06T08:33:22.401Z"
   },
   {
    "duration": 11,
    "start_time": "2023-05-06T08:33:22.836Z"
   },
   {
    "duration": 143,
    "start_time": "2023-05-06T08:33:22.849Z"
   },
   {
    "duration": 0,
    "start_time": "2023-05-06T08:33:23.072Z"
   },
   {
    "duration": 0,
    "start_time": "2023-05-06T08:33:23.074Z"
   },
   {
    "duration": 0,
    "start_time": "2023-05-06T08:33:23.075Z"
   },
   {
    "duration": 0,
    "start_time": "2023-05-06T08:33:23.077Z"
   },
   {
    "duration": 0,
    "start_time": "2023-05-06T08:33:23.079Z"
   },
   {
    "duration": 0,
    "start_time": "2023-05-06T08:33:23.093Z"
   },
   {
    "duration": 0,
    "start_time": "2023-05-06T08:33:23.094Z"
   },
   {
    "duration": 0,
    "start_time": "2023-05-06T08:33:23.096Z"
   },
   {
    "duration": 0,
    "start_time": "2023-05-06T08:33:23.097Z"
   },
   {
    "duration": 0,
    "start_time": "2023-05-06T08:33:23.099Z"
   },
   {
    "duration": 0,
    "start_time": "2023-05-06T08:33:23.100Z"
   },
   {
    "duration": 0,
    "start_time": "2023-05-06T08:33:23.102Z"
   },
   {
    "duration": 0,
    "start_time": "2023-05-06T08:33:23.103Z"
   },
   {
    "duration": 0,
    "start_time": "2023-05-06T08:33:23.104Z"
   },
   {
    "duration": 0,
    "start_time": "2023-05-06T08:33:23.105Z"
   },
   {
    "duration": 0,
    "start_time": "2023-05-06T08:33:23.106Z"
   },
   {
    "duration": 0,
    "start_time": "2023-05-06T08:33:23.108Z"
   },
   {
    "duration": 0,
    "start_time": "2023-05-06T08:33:23.109Z"
   },
   {
    "duration": 0,
    "start_time": "2023-05-06T08:33:23.110Z"
   },
   {
    "duration": 0,
    "start_time": "2023-05-06T08:33:23.112Z"
   },
   {
    "duration": 0,
    "start_time": "2023-05-06T08:33:23.113Z"
   },
   {
    "duration": 0,
    "start_time": "2023-05-06T08:33:23.114Z"
   },
   {
    "duration": 0,
    "start_time": "2023-05-06T08:33:23.117Z"
   },
   {
    "duration": 0,
    "start_time": "2023-05-06T08:33:23.119Z"
   },
   {
    "duration": 0,
    "start_time": "2023-05-06T08:33:23.120Z"
   },
   {
    "duration": 0,
    "start_time": "2023-05-06T08:33:23.122Z"
   },
   {
    "duration": 0,
    "start_time": "2023-05-06T08:33:23.123Z"
   },
   {
    "duration": 0,
    "start_time": "2023-05-06T08:33:23.124Z"
   },
   {
    "duration": 0,
    "start_time": "2023-05-06T08:33:23.126Z"
   },
   {
    "duration": 0,
    "start_time": "2023-05-06T08:33:23.127Z"
   },
   {
    "duration": 0,
    "start_time": "2023-05-06T08:33:23.128Z"
   },
   {
    "duration": 0,
    "start_time": "2023-05-06T08:33:23.192Z"
   },
   {
    "duration": 0,
    "start_time": "2023-05-06T08:33:23.194Z"
   },
   {
    "duration": 0,
    "start_time": "2023-05-06T08:33:23.196Z"
   },
   {
    "duration": 460,
    "start_time": "2023-05-06T08:33:40.812Z"
   },
   {
    "duration": 472,
    "start_time": "2023-05-06T08:33:46.578Z"
   },
   {
    "duration": 359,
    "start_time": "2023-05-06T08:34:12.502Z"
   },
   {
    "duration": 482,
    "start_time": "2023-05-06T08:34:24.185Z"
   },
   {
    "duration": 307,
    "start_time": "2023-05-06T08:34:38.808Z"
   },
   {
    "duration": 8,
    "start_time": "2023-05-06T08:34:45.633Z"
   },
   {
    "duration": 1174,
    "start_time": "2023-05-06T08:34:47.206Z"
   },
   {
    "duration": 346,
    "start_time": "2023-05-06T08:35:17.049Z"
   },
   {
    "duration": 441,
    "start_time": "2023-05-06T08:35:31.365Z"
   },
   {
    "duration": 337,
    "start_time": "2023-05-06T08:35:31.808Z"
   },
   {
    "duration": 200,
    "start_time": "2023-05-06T08:35:56.133Z"
   },
   {
    "duration": 16,
    "start_time": "2023-05-06T08:35:56.572Z"
   },
   {
    "duration": 16,
    "start_time": "2023-05-06T08:36:18.798Z"
   },
   {
    "duration": 13,
    "start_time": "2023-05-06T08:36:26.514Z"
   },
   {
    "duration": 15,
    "start_time": "2023-05-06T08:36:31.012Z"
   },
   {
    "duration": 6,
    "start_time": "2023-05-06T08:36:35.645Z"
   },
   {
    "duration": 6,
    "start_time": "2023-05-06T08:36:37.460Z"
   },
   {
    "duration": 10,
    "start_time": "2023-05-06T08:36:38.732Z"
   },
   {
    "duration": 3,
    "start_time": "2023-05-06T08:36:41.963Z"
   },
   {
    "duration": 8,
    "start_time": "2023-05-06T08:36:42.153Z"
   },
   {
    "duration": 5,
    "start_time": "2023-05-06T08:36:43.482Z"
   },
   {
    "duration": 111,
    "start_time": "2023-05-06T08:36:45.835Z"
   },
   {
    "duration": 13,
    "start_time": "2023-05-06T08:37:53.465Z"
   },
   {
    "duration": 5169,
    "start_time": "2023-05-06T08:37:53.752Z"
   },
   {
    "duration": 12,
    "start_time": "2023-05-06T08:37:58.924Z"
   },
   {
    "duration": 14,
    "start_time": "2023-05-06T08:37:58.938Z"
   },
   {
    "duration": 12,
    "start_time": "2023-05-06T08:37:58.955Z"
   },
   {
    "duration": 95134,
    "start_time": "2023-05-06T08:37:58.993Z"
   },
   {
    "duration": 4,
    "start_time": "2023-05-06T08:39:34.129Z"
   },
   {
    "duration": 8434,
    "start_time": "2023-05-06T08:39:34.135Z"
   },
   {
    "duration": 14,
    "start_time": "2023-05-06T08:39:42.571Z"
   },
   {
    "duration": 13,
    "start_time": "2023-05-06T08:39:42.587Z"
   },
   {
    "duration": 8,
    "start_time": "2023-05-06T08:39:42.603Z"
   },
   {
    "duration": 25,
    "start_time": "2023-05-06T08:39:42.613Z"
   },
   {
    "duration": 9,
    "start_time": "2023-05-06T08:39:42.640Z"
   },
   {
    "duration": 18,
    "start_time": "2023-05-06T08:39:42.651Z"
   },
   {
    "duration": 6,
    "start_time": "2023-05-06T08:40:18.010Z"
   },
   {
    "duration": 342,
    "start_time": "2023-05-06T08:45:04.749Z"
   },
   {
    "duration": 319,
    "start_time": "2023-05-06T08:45:14.718Z"
   },
   {
    "duration": 301,
    "start_time": "2023-05-06T08:45:25.519Z"
   },
   {
    "duration": 315,
    "start_time": "2023-05-06T08:45:30.727Z"
   },
   {
    "duration": 363,
    "start_time": "2023-05-06T08:45:37.742Z"
   },
   {
    "duration": 414,
    "start_time": "2023-05-06T08:45:42.423Z"
   },
   {
    "duration": 348,
    "start_time": "2023-05-06T08:45:45.719Z"
   },
   {
    "duration": 321,
    "start_time": "2023-05-06T08:45:49.055Z"
   },
   {
    "duration": 341,
    "start_time": "2023-05-06T08:45:52.610Z"
   },
   {
    "duration": 3,
    "start_time": "2023-05-06T08:46:56.629Z"
   },
   {
    "duration": 4,
    "start_time": "2023-05-06T08:47:18.513Z"
   },
   {
    "duration": 88,
    "start_time": "2023-05-06T08:47:35.618Z"
   },
   {
    "duration": 423,
    "start_time": "2023-05-06T08:48:07.114Z"
   },
   {
    "duration": 2,
    "start_time": "2023-05-06T08:48:13.737Z"
   },
   {
    "duration": 4,
    "start_time": "2023-05-06T08:49:56.782Z"
   },
   {
    "duration": 4,
    "start_time": "2023-05-06T08:50:25.476Z"
   },
   {
    "duration": 15,
    "start_time": "2023-05-06T08:50:40.017Z"
   },
   {
    "duration": 5,
    "start_time": "2023-05-06T08:50:43.313Z"
   },
   {
    "duration": 18,
    "start_time": "2023-05-06T08:50:44.006Z"
   },
   {
    "duration": 4,
    "start_time": "2023-05-06T08:50:49.066Z"
   },
   {
    "duration": 25,
    "start_time": "2023-05-06T08:50:49.873Z"
   },
   {
    "duration": 17,
    "start_time": "2023-05-06T08:51:14.608Z"
   },
   {
    "duration": 16,
    "start_time": "2023-05-06T08:51:17.921Z"
   },
   {
    "duration": 22,
    "start_time": "2023-05-06T08:51:22.721Z"
   },
   {
    "duration": 2,
    "start_time": "2023-05-06T08:51:23.849Z"
   },
   {
    "duration": 3,
    "start_time": "2023-05-06T08:51:24.048Z"
   },
   {
    "duration": 3,
    "start_time": "2023-05-06T08:51:24.176Z"
   },
   {
    "duration": 3,
    "start_time": "2023-05-06T08:51:24.313Z"
   },
   {
    "duration": 7,
    "start_time": "2023-05-06T08:51:25.015Z"
   },
   {
    "duration": 1149,
    "start_time": "2023-05-06T08:51:25.129Z"
   },
   {
    "duration": 341,
    "start_time": "2023-05-06T08:51:28.465Z"
   },
   {
    "duration": 353,
    "start_time": "2023-05-06T08:51:33.777Z"
   },
   {
    "duration": 166,
    "start_time": "2023-05-06T08:51:36.271Z"
   },
   {
    "duration": 163,
    "start_time": "2023-05-06T08:51:38.153Z"
   },
   {
    "duration": 328,
    "start_time": "2023-05-06T08:51:54.152Z"
   },
   {
    "duration": 219,
    "start_time": "2023-05-06T08:51:55.359Z"
   },
   {
    "duration": 16,
    "start_time": "2023-05-06T08:51:56.729Z"
   },
   {
    "duration": 39,
    "start_time": "2023-05-06T08:52:46.413Z"
   },
   {
    "duration": 37,
    "start_time": "2023-05-06T08:52:57.431Z"
   },
   {
    "duration": 76,
    "start_time": "2023-05-06T08:53:55.414Z"
   },
   {
    "duration": 19,
    "start_time": "2023-05-06T08:54:01.283Z"
   },
   {
    "duration": 7,
    "start_time": "2023-05-06T08:54:15.215Z"
   },
   {
    "duration": 5,
    "start_time": "2023-05-06T08:54:16.398Z"
   },
   {
    "duration": 25,
    "start_time": "2023-05-06T08:54:35.138Z"
   },
   {
    "duration": 4,
    "start_time": "2023-05-06T08:54:42.224Z"
   },
   {
    "duration": 14,
    "start_time": "2023-05-06T08:54:42.840Z"
   },
   {
    "duration": 3,
    "start_time": "2023-05-06T08:54:43.513Z"
   },
   {
    "duration": 13,
    "start_time": "2023-05-06T08:54:43.813Z"
   },
   {
    "duration": 5,
    "start_time": "2023-05-06T08:54:46.033Z"
   },
   {
    "duration": 5,
    "start_time": "2023-05-06T08:55:06.606Z"
   },
   {
    "duration": 12,
    "start_time": "2023-05-06T08:55:08.176Z"
   },
   {
    "duration": 14,
    "start_time": "2023-05-06T08:55:15.384Z"
   },
   {
    "duration": 7299,
    "start_time": "2023-05-06T08:55:16.818Z"
   },
   {
    "duration": 12,
    "start_time": "2023-05-06T08:55:24.119Z"
   },
   {
    "duration": 18,
    "start_time": "2023-05-06T08:55:24.132Z"
   },
   {
    "duration": 38,
    "start_time": "2023-05-06T08:55:24.153Z"
   },
   {
    "duration": 2157512,
    "start_time": "2023-05-06T08:55:24.193Z"
   },
   {
    "duration": 6,
    "start_time": "2023-05-06T09:31:21.707Z"
   },
   {
    "duration": 15578,
    "start_time": "2023-05-06T09:31:21.715Z"
   },
   {
    "duration": 11,
    "start_time": "2023-05-06T09:31:37.295Z"
   },
   {
    "duration": 14,
    "start_time": "2023-05-06T09:31:37.308Z"
   },
   {
    "duration": 27,
    "start_time": "2023-05-06T09:31:37.326Z"
   },
   {
    "duration": 17,
    "start_time": "2023-05-06T09:31:37.355Z"
   },
   {
    "duration": 28,
    "start_time": "2023-05-06T09:31:37.374Z"
   },
   {
    "duration": 11,
    "start_time": "2023-05-06T09:31:37.404Z"
   },
   {
    "duration": 0,
    "start_time": "2023-05-06T09:31:37.509Z"
   },
   {
    "duration": 1230,
    "start_time": "2023-05-06T09:32:18.222Z"
   },
   {
    "duration": 23,
    "start_time": "2023-05-06T09:32:19.454Z"
   },
   {
    "duration": 403,
    "start_time": "2023-05-06T09:32:19.479Z"
   },
   {
    "duration": 8,
    "start_time": "2023-05-06T09:32:19.884Z"
   },
   {
    "duration": 54,
    "start_time": "2023-05-06T09:32:19.893Z"
   },
   {
    "duration": 11,
    "start_time": "2023-05-06T09:32:19.949Z"
   },
   {
    "duration": 8,
    "start_time": "2023-05-06T09:32:19.962Z"
   },
   {
    "duration": 13,
    "start_time": "2023-05-06T09:32:19.972Z"
   },
   {
    "duration": 52,
    "start_time": "2023-05-06T09:32:19.986Z"
   },
   {
    "duration": 19,
    "start_time": "2023-05-06T09:32:20.041Z"
   },
   {
    "duration": 412,
    "start_time": "2023-05-06T09:32:20.061Z"
   },
   {
    "duration": 4,
    "start_time": "2023-05-06T09:32:20.474Z"
   },
   {
    "duration": 8,
    "start_time": "2023-05-06T09:32:20.480Z"
   },
   {
    "duration": 7,
    "start_time": "2023-05-06T09:32:20.490Z"
   },
   {
    "duration": 110,
    "start_time": "2023-05-06T09:32:20.499Z"
   },
   {
    "duration": 70,
    "start_time": "2023-05-06T09:32:20.611Z"
   },
   {
    "duration": 0,
    "start_time": "2023-05-06T09:32:20.683Z"
   },
   {
    "duration": 0,
    "start_time": "2023-05-06T09:32:20.684Z"
   },
   {
    "duration": 0,
    "start_time": "2023-05-06T09:32:20.685Z"
   },
   {
    "duration": 1,
    "start_time": "2023-05-06T09:32:20.686Z"
   },
   {
    "duration": 0,
    "start_time": "2023-05-06T09:32:20.688Z"
   },
   {
    "duration": 0,
    "start_time": "2023-05-06T09:32:20.689Z"
   },
   {
    "duration": 0,
    "start_time": "2023-05-06T09:32:20.690Z"
   },
   {
    "duration": 0,
    "start_time": "2023-05-06T09:32:20.692Z"
   },
   {
    "duration": 0,
    "start_time": "2023-05-06T09:32:20.694Z"
   },
   {
    "duration": 0,
    "start_time": "2023-05-06T09:32:20.695Z"
   },
   {
    "duration": 0,
    "start_time": "2023-05-06T09:32:20.696Z"
   },
   {
    "duration": 0,
    "start_time": "2023-05-06T09:32:20.697Z"
   },
   {
    "duration": 0,
    "start_time": "2023-05-06T09:32:20.698Z"
   },
   {
    "duration": 0,
    "start_time": "2023-05-06T09:32:20.699Z"
   },
   {
    "duration": 0,
    "start_time": "2023-05-06T09:32:20.700Z"
   },
   {
    "duration": 0,
    "start_time": "2023-05-06T09:32:20.701Z"
   },
   {
    "duration": 0,
    "start_time": "2023-05-06T09:32:20.702Z"
   },
   {
    "duration": 0,
    "start_time": "2023-05-06T09:32:20.703Z"
   },
   {
    "duration": 0,
    "start_time": "2023-05-06T09:32:20.704Z"
   },
   {
    "duration": 0,
    "start_time": "2023-05-06T09:32:20.705Z"
   },
   {
    "duration": 0,
    "start_time": "2023-05-06T09:32:20.706Z"
   },
   {
    "duration": 0,
    "start_time": "2023-05-06T09:32:20.707Z"
   },
   {
    "duration": 0,
    "start_time": "2023-05-06T09:32:20.708Z"
   },
   {
    "duration": 0,
    "start_time": "2023-05-06T09:32:20.709Z"
   },
   {
    "duration": 0,
    "start_time": "2023-05-06T09:32:20.710Z"
   },
   {
    "duration": 0,
    "start_time": "2023-05-06T09:32:20.711Z"
   },
   {
    "duration": 0,
    "start_time": "2023-05-06T09:32:20.712Z"
   },
   {
    "duration": 0,
    "start_time": "2023-05-06T09:32:20.713Z"
   },
   {
    "duration": 0,
    "start_time": "2023-05-06T09:32:20.714Z"
   },
   {
    "duration": 0,
    "start_time": "2023-05-06T09:32:20.715Z"
   },
   {
    "duration": 0,
    "start_time": "2023-05-06T09:32:20.716Z"
   },
   {
    "duration": 0,
    "start_time": "2023-05-06T09:32:20.717Z"
   },
   {
    "duration": 0,
    "start_time": "2023-05-06T09:32:20.718Z"
   },
   {
    "duration": 0,
    "start_time": "2023-05-06T09:32:20.719Z"
   },
   {
    "duration": 1277,
    "start_time": "2023-05-06T09:32:53.473Z"
   },
   {
    "duration": 27,
    "start_time": "2023-05-06T09:32:54.752Z"
   },
   {
    "duration": 460,
    "start_time": "2023-05-06T09:32:54.781Z"
   },
   {
    "duration": 10,
    "start_time": "2023-05-06T09:32:55.243Z"
   },
   {
    "duration": 57,
    "start_time": "2023-05-06T09:32:55.255Z"
   },
   {
    "duration": 12,
    "start_time": "2023-05-06T09:32:55.314Z"
   },
   {
    "duration": 8,
    "start_time": "2023-05-06T09:32:55.329Z"
   },
   {
    "duration": 6,
    "start_time": "2023-05-06T09:32:55.339Z"
   },
   {
    "duration": 18,
    "start_time": "2023-05-06T09:32:55.347Z"
   },
   {
    "duration": 4,
    "start_time": "2023-05-06T09:32:55.394Z"
   },
   {
    "duration": 432,
    "start_time": "2023-05-06T09:32:55.400Z"
   },
   {
    "duration": 3,
    "start_time": "2023-05-06T09:32:55.834Z"
   },
   {
    "duration": 21,
    "start_time": "2023-05-06T09:32:55.838Z"
   },
   {
    "duration": 9,
    "start_time": "2023-05-06T09:32:55.861Z"
   },
   {
    "duration": 105,
    "start_time": "2023-05-06T09:32:55.871Z"
   },
   {
    "duration": 2,
    "start_time": "2023-05-06T09:32:55.978Z"
   },
   {
    "duration": 9,
    "start_time": "2023-05-06T09:32:55.982Z"
   },
   {
    "duration": 14,
    "start_time": "2023-05-06T09:32:55.993Z"
   },
   {
    "duration": 23,
    "start_time": "2023-05-06T09:32:56.009Z"
   },
   {
    "duration": 16,
    "start_time": "2023-05-06T09:32:56.034Z"
   },
   {
    "duration": 1134,
    "start_time": "2023-05-06T09:32:56.052Z"
   },
   {
    "duration": 447,
    "start_time": "2023-05-06T09:32:57.188Z"
   },
   {
    "duration": 332,
    "start_time": "2023-05-06T09:32:57.637Z"
   },
   {
    "duration": 391,
    "start_time": "2023-05-06T09:32:57.971Z"
   },
   {
    "duration": 308,
    "start_time": "2023-05-06T09:32:58.364Z"
   },
   {
    "duration": 320,
    "start_time": "2023-05-06T09:32:58.674Z"
   },
   {
    "duration": 20,
    "start_time": "2023-05-06T09:32:58.997Z"
   },
   {
    "duration": 18,
    "start_time": "2023-05-06T09:32:59.020Z"
   },
   {
    "duration": 14,
    "start_time": "2023-05-06T09:32:59.040Z"
   },
   {
    "duration": 5,
    "start_time": "2023-05-06T09:32:59.056Z"
   },
   {
    "duration": 37,
    "start_time": "2023-05-06T09:32:59.063Z"
   },
   {
    "duration": 3,
    "start_time": "2023-05-06T09:32:59.101Z"
   },
   {
    "duration": 14,
    "start_time": "2023-05-06T09:32:59.106Z"
   },
   {
    "duration": 8,
    "start_time": "2023-05-06T09:32:59.121Z"
   },
   {
    "duration": 22,
    "start_time": "2023-05-06T09:32:59.131Z"
   },
   {
    "duration": 51,
    "start_time": "2023-05-06T09:32:59.155Z"
   },
   {
    "duration": 9533,
    "start_time": "2023-05-06T09:32:59.208Z"
   },
   {
    "duration": 12,
    "start_time": "2023-05-06T09:33:08.742Z"
   },
   {
    "duration": 16,
    "start_time": "2023-05-06T09:33:08.756Z"
   },
   {
    "duration": 29,
    "start_time": "2023-05-06T09:33:08.774Z"
   },
   {
    "duration": 1739706,
    "start_time": "2023-05-06T09:33:08.805Z"
   },
   {
    "duration": 12,
    "start_time": "2023-05-06T10:02:08.513Z"
   },
   {
    "duration": 0,
    "start_time": "2023-05-06T10:02:08.526Z"
   },
   {
    "duration": 0,
    "start_time": "2023-05-06T10:02:08.528Z"
   },
   {
    "duration": 0,
    "start_time": "2023-05-06T10:02:08.529Z"
   },
   {
    "duration": 0,
    "start_time": "2023-05-06T10:02:08.530Z"
   },
   {
    "duration": 0,
    "start_time": "2023-05-06T10:02:08.531Z"
   },
   {
    "duration": 0,
    "start_time": "2023-05-06T10:02:08.532Z"
   },
   {
    "duration": 0,
    "start_time": "2023-05-06T10:02:08.533Z"
   },
   {
    "duration": 10,
    "start_time": "2023-05-06T10:02:13.911Z"
   },
   {
    "duration": 18332,
    "start_time": "2023-05-06T10:02:23.578Z"
   },
   {
    "duration": 10,
    "start_time": "2023-05-06T10:02:41.912Z"
   },
   {
    "duration": 8,
    "start_time": "2023-05-06T10:02:42.409Z"
   },
   {
    "duration": 10,
    "start_time": "2023-05-06T10:02:43.299Z"
   },
   {
    "duration": 9,
    "start_time": "2023-05-06T10:02:44.009Z"
   },
   {
    "duration": 9238,
    "start_time": "2023-05-06T10:03:32.840Z"
   },
   {
    "duration": 6,
    "start_time": "2023-05-06T10:06:38.976Z"
   },
   {
    "duration": 6,
    "start_time": "2023-05-06T10:06:50.335Z"
   },
   {
    "duration": 7,
    "start_time": "2023-05-06T10:07:05.048Z"
   },
   {
    "duration": 15,
    "start_time": "2023-05-06T10:07:39.200Z"
   },
   {
    "duration": 6,
    "start_time": "2023-05-06T10:07:44.167Z"
   },
   {
    "duration": 1251827,
    "start_time": "2023-05-06T10:09:01.538Z"
   },
   {
    "duration": 478,
    "start_time": "2023-05-06T10:29:53.367Z"
   },
   {
    "duration": 367,
    "start_time": "2023-05-06T10:29:53.847Z"
   },
   {
    "duration": 11,
    "start_time": "2023-05-06T10:29:54.216Z"
   },
   {
    "duration": 0,
    "start_time": "2023-05-06T10:29:54.228Z"
   },
   {
    "duration": 0,
    "start_time": "2023-05-06T10:29:54.229Z"
   },
   {
    "duration": 10,
    "start_time": "2023-05-06T10:30:03.745Z"
   },
   {
    "duration": 16580,
    "start_time": "2023-05-06T10:30:05.680Z"
   },
   {
    "duration": 10,
    "start_time": "2023-05-06T10:30:22.262Z"
   },
   {
    "duration": 12,
    "start_time": "2023-05-06T10:30:29.416Z"
   },
   {
    "duration": 8,
    "start_time": "2023-05-06T10:30:46.911Z"
   },
   {
    "duration": 12,
    "start_time": "2023-05-06T10:31:33.309Z"
   },
   {
    "duration": 13,
    "start_time": "2023-05-06T10:31:37.125Z"
   },
   {
    "duration": 14,
    "start_time": "2023-05-06T10:31:43.549Z"
   },
   {
    "duration": 12,
    "start_time": "2023-05-06T10:32:22.371Z"
   },
   {
    "duration": 14,
    "start_time": "2023-05-06T10:32:43.258Z"
   },
   {
    "duration": 6,
    "start_time": "2023-05-06T10:33:23.114Z"
   },
   {
    "duration": 83,
    "start_time": "2023-05-06T10:33:38.784Z"
   },
   {
    "duration": 6,
    "start_time": "2023-05-06T10:33:41.528Z"
   },
   {
    "duration": 6,
    "start_time": "2023-05-06T10:33:46.302Z"
   },
   {
    "duration": 1179,
    "start_time": "2023-05-06T10:34:29.520Z"
   },
   {
    "duration": 34,
    "start_time": "2023-05-06T10:34:30.702Z"
   },
   {
    "duration": 456,
    "start_time": "2023-05-06T10:34:30.739Z"
   },
   {
    "duration": 9,
    "start_time": "2023-05-06T10:34:31.198Z"
   },
   {
    "duration": 116,
    "start_time": "2023-05-06T10:34:31.208Z"
   },
   {
    "duration": 10,
    "start_time": "2023-05-06T10:34:31.326Z"
   },
   {
    "duration": 22,
    "start_time": "2023-05-06T10:34:31.338Z"
   },
   {
    "duration": 60,
    "start_time": "2023-05-06T10:34:31.361Z"
   },
   {
    "duration": 94,
    "start_time": "2023-05-06T10:34:31.423Z"
   },
   {
    "duration": 22,
    "start_time": "2023-05-06T10:34:31.520Z"
   },
   {
    "duration": 458,
    "start_time": "2023-05-06T10:34:31.543Z"
   },
   {
    "duration": 3,
    "start_time": "2023-05-06T10:34:32.003Z"
   },
   {
    "duration": 19,
    "start_time": "2023-05-06T10:34:32.008Z"
   },
   {
    "duration": 9,
    "start_time": "2023-05-06T10:34:32.028Z"
   },
   {
    "duration": 127,
    "start_time": "2023-05-06T10:34:32.039Z"
   },
   {
    "duration": 2,
    "start_time": "2023-05-06T10:34:32.170Z"
   },
   {
    "duration": 8,
    "start_time": "2023-05-06T10:34:32.174Z"
   },
   {
    "duration": 6,
    "start_time": "2023-05-06T10:34:32.184Z"
   },
   {
    "duration": 5,
    "start_time": "2023-05-06T10:34:32.192Z"
   },
   {
    "duration": 8,
    "start_time": "2023-05-06T10:34:32.198Z"
   },
   {
    "duration": 1178,
    "start_time": "2023-05-06T10:34:32.208Z"
   },
   {
    "duration": 349,
    "start_time": "2023-05-06T10:34:33.387Z"
   },
   {
    "duration": 318,
    "start_time": "2023-05-06T10:34:33.738Z"
   },
   {
    "duration": 387,
    "start_time": "2023-05-06T10:34:34.057Z"
   },
   {
    "duration": 578,
    "start_time": "2023-05-06T10:34:34.446Z"
   },
   {
    "duration": 338,
    "start_time": "2023-05-06T10:34:35.026Z"
   },
   {
    "duration": 2,
    "start_time": "2023-05-06T10:34:35.366Z"
   },
   {
    "duration": 134,
    "start_time": "2023-05-06T10:34:35.371Z"
   },
   {
    "duration": 0,
    "start_time": "2023-05-06T10:34:35.506Z"
   },
   {
    "duration": 0,
    "start_time": "2023-05-06T10:34:35.507Z"
   },
   {
    "duration": 0,
    "start_time": "2023-05-06T10:34:35.509Z"
   },
   {
    "duration": 0,
    "start_time": "2023-05-06T10:34:35.510Z"
   },
   {
    "duration": 0,
    "start_time": "2023-05-06T10:34:35.511Z"
   },
   {
    "duration": 0,
    "start_time": "2023-05-06T10:34:35.512Z"
   },
   {
    "duration": 0,
    "start_time": "2023-05-06T10:34:35.514Z"
   },
   {
    "duration": 0,
    "start_time": "2023-05-06T10:34:35.515Z"
   },
   {
    "duration": 0,
    "start_time": "2023-05-06T10:34:35.516Z"
   },
   {
    "duration": 0,
    "start_time": "2023-05-06T10:34:35.517Z"
   },
   {
    "duration": 0,
    "start_time": "2023-05-06T10:34:35.518Z"
   },
   {
    "duration": 0,
    "start_time": "2023-05-06T10:34:35.519Z"
   },
   {
    "duration": 0,
    "start_time": "2023-05-06T10:34:35.520Z"
   },
   {
    "duration": 0,
    "start_time": "2023-05-06T10:34:35.521Z"
   },
   {
    "duration": 0,
    "start_time": "2023-05-06T10:34:35.523Z"
   },
   {
    "duration": 0,
    "start_time": "2023-05-06T10:34:35.524Z"
   },
   {
    "duration": 0,
    "start_time": "2023-05-06T10:34:35.525Z"
   },
   {
    "duration": 0,
    "start_time": "2023-05-06T10:34:35.526Z"
   },
   {
    "duration": 0,
    "start_time": "2023-05-06T10:34:35.527Z"
   },
   {
    "duration": 0,
    "start_time": "2023-05-06T10:34:35.528Z"
   },
   {
    "duration": 0,
    "start_time": "2023-05-06T10:34:35.529Z"
   },
   {
    "duration": 19,
    "start_time": "2023-05-06T10:35:12.311Z"
   },
   {
    "duration": 6,
    "start_time": "2023-05-06T10:35:56.276Z"
   },
   {
    "duration": 19,
    "start_time": "2023-05-06T10:35:59.555Z"
   },
   {
    "duration": 6,
    "start_time": "2023-05-06T10:36:16.410Z"
   },
   {
    "duration": 17,
    "start_time": "2023-05-06T10:36:17.153Z"
   },
   {
    "duration": 1180,
    "start_time": "2023-05-06T10:36:21.872Z"
   },
   {
    "duration": 24,
    "start_time": "2023-05-06T10:36:23.054Z"
   },
   {
    "duration": 407,
    "start_time": "2023-05-06T10:36:23.080Z"
   },
   {
    "duration": 8,
    "start_time": "2023-05-06T10:36:23.489Z"
   },
   {
    "duration": 58,
    "start_time": "2023-05-06T10:36:23.499Z"
   },
   {
    "duration": 11,
    "start_time": "2023-05-06T10:36:23.567Z"
   },
   {
    "duration": 7,
    "start_time": "2023-05-06T10:36:23.579Z"
   },
   {
    "duration": 3,
    "start_time": "2023-05-06T10:36:23.588Z"
   },
   {
    "duration": 13,
    "start_time": "2023-05-06T10:36:23.593Z"
   },
   {
    "duration": 4,
    "start_time": "2023-05-06T10:36:23.609Z"
   },
   {
    "duration": 427,
    "start_time": "2023-05-06T10:36:23.614Z"
   },
   {
    "duration": 2,
    "start_time": "2023-05-06T10:36:24.043Z"
   },
   {
    "duration": 7,
    "start_time": "2023-05-06T10:36:24.047Z"
   },
   {
    "duration": 12,
    "start_time": "2023-05-06T10:36:24.056Z"
   },
   {
    "duration": 111,
    "start_time": "2023-05-06T10:36:24.069Z"
   },
   {
    "duration": 11,
    "start_time": "2023-05-06T10:36:24.181Z"
   },
   {
    "duration": 2,
    "start_time": "2023-05-06T10:36:24.194Z"
   },
   {
    "duration": 20,
    "start_time": "2023-05-06T10:36:24.198Z"
   },
   {
    "duration": 25,
    "start_time": "2023-05-06T10:36:24.220Z"
   },
   {
    "duration": 41,
    "start_time": "2023-05-06T10:36:24.246Z"
   },
   {
    "duration": 1147,
    "start_time": "2023-05-06T10:36:24.289Z"
   },
   {
    "duration": 334,
    "start_time": "2023-05-06T10:36:25.438Z"
   },
   {
    "duration": 316,
    "start_time": "2023-05-06T10:36:25.774Z"
   },
   {
    "duration": 396,
    "start_time": "2023-05-06T10:36:26.092Z"
   },
   {
    "duration": 575,
    "start_time": "2023-05-06T10:36:26.491Z"
   },
   {
    "duration": 378,
    "start_time": "2023-05-06T10:36:27.068Z"
   },
   {
    "duration": 3,
    "start_time": "2023-05-06T10:36:27.449Z"
   },
   {
    "duration": 42,
    "start_time": "2023-05-06T10:36:27.456Z"
   },
   {
    "duration": 9,
    "start_time": "2023-05-06T10:36:27.500Z"
   },
   {
    "duration": 25,
    "start_time": "2023-05-06T10:36:27.511Z"
   },
   {
    "duration": 22,
    "start_time": "2023-05-06T10:36:27.540Z"
   },
   {
    "duration": 5,
    "start_time": "2023-05-06T10:36:27.564Z"
   },
   {
    "duration": 23,
    "start_time": "2023-05-06T10:36:27.571Z"
   },
   {
    "duration": 17,
    "start_time": "2023-05-06T10:36:27.596Z"
   },
   {
    "duration": 27,
    "start_time": "2023-05-06T10:36:27.614Z"
   },
   {
    "duration": 50,
    "start_time": "2023-05-06T10:36:27.643Z"
   },
   {
    "duration": 14915,
    "start_time": "2023-05-06T10:36:27.695Z"
   },
   {
    "duration": 13,
    "start_time": "2023-05-06T10:36:42.612Z"
   },
   {
    "duration": 20,
    "start_time": "2023-05-06T10:36:42.626Z"
   },
   {
    "duration": 13,
    "start_time": "2023-05-06T10:36:42.648Z"
   },
   {
    "duration": 29,
    "start_time": "2023-05-06T10:36:42.663Z"
   },
   {
    "duration": 13,
    "start_time": "2023-05-06T10:36:42.695Z"
   },
   {
    "duration": 16618,
    "start_time": "2023-05-06T10:36:42.710Z"
   },
   {
    "duration": 11,
    "start_time": "2023-05-06T10:36:59.330Z"
   },
   {
    "duration": 36,
    "start_time": "2023-05-06T10:36:59.342Z"
   },
   {
    "duration": 19,
    "start_time": "2023-05-06T10:36:59.380Z"
   },
   {
    "duration": 10,
    "start_time": "2023-05-06T10:36:59.400Z"
   },
   {
    "duration": 12,
    "start_time": "2023-05-06T10:36:59.411Z"
   },
   {
    "duration": 6,
    "start_time": "2023-05-06T10:36:59.424Z"
   },
   {
    "duration": 1263,
    "start_time": "2023-05-06T10:38:00.911Z"
   },
   {
    "duration": 36,
    "start_time": "2023-05-06T10:38:02.176Z"
   },
   {
    "duration": 428,
    "start_time": "2023-05-06T10:38:02.214Z"
   },
   {
    "duration": 7,
    "start_time": "2023-05-06T10:38:02.643Z"
   },
   {
    "duration": 64,
    "start_time": "2023-05-06T10:38:02.653Z"
   },
   {
    "duration": 10,
    "start_time": "2023-05-06T10:38:02.719Z"
   },
   {
    "duration": 23,
    "start_time": "2023-05-06T10:38:02.731Z"
   },
   {
    "duration": 12,
    "start_time": "2023-05-06T10:38:02.755Z"
   },
   {
    "duration": 37,
    "start_time": "2023-05-06T10:38:02.769Z"
   },
   {
    "duration": 3,
    "start_time": "2023-05-06T10:38:02.808Z"
   },
   {
    "duration": 416,
    "start_time": "2023-05-06T10:38:02.812Z"
   },
   {
    "duration": 3,
    "start_time": "2023-05-06T10:38:03.230Z"
   },
   {
    "duration": 19,
    "start_time": "2023-05-06T10:38:03.234Z"
   },
   {
    "duration": 84,
    "start_time": "2023-05-06T10:38:03.256Z"
   },
   {
    "duration": 47,
    "start_time": "2023-05-06T10:38:03.342Z"
   },
   {
    "duration": 3,
    "start_time": "2023-05-06T10:38:03.390Z"
   },
   {
    "duration": 4,
    "start_time": "2023-05-06T10:38:03.394Z"
   },
   {
    "duration": 14,
    "start_time": "2023-05-06T10:38:03.400Z"
   },
   {
    "duration": 6,
    "start_time": "2023-05-06T10:38:03.416Z"
   },
   {
    "duration": 12,
    "start_time": "2023-05-06T10:38:03.424Z"
   },
   {
    "duration": 1091,
    "start_time": "2023-05-06T10:38:03.437Z"
   },
   {
    "duration": 388,
    "start_time": "2023-05-06T10:38:04.530Z"
   },
   {
    "duration": 347,
    "start_time": "2023-05-06T10:38:04.920Z"
   },
   {
    "duration": 428,
    "start_time": "2023-05-06T10:38:05.269Z"
   },
   {
    "duration": 314,
    "start_time": "2023-05-06T10:38:05.699Z"
   },
   {
    "duration": 307,
    "start_time": "2023-05-06T10:38:06.015Z"
   },
   {
    "duration": 2,
    "start_time": "2023-05-06T10:38:06.324Z"
   },
   {
    "duration": 43,
    "start_time": "2023-05-06T10:38:06.327Z"
   },
   {
    "duration": 35,
    "start_time": "2023-05-06T10:38:06.372Z"
   },
   {
    "duration": 34,
    "start_time": "2023-05-06T10:38:06.410Z"
   },
   {
    "duration": 76,
    "start_time": "2023-05-06T10:38:06.446Z"
   },
   {
    "duration": 37,
    "start_time": "2023-05-06T10:38:06.524Z"
   },
   {
    "duration": 47,
    "start_time": "2023-05-06T10:38:06.563Z"
   },
   {
    "duration": 49,
    "start_time": "2023-05-06T10:38:06.613Z"
   },
   {
    "duration": 256,
    "start_time": "2023-05-06T10:38:06.664Z"
   },
   {
    "duration": 13,
    "start_time": "2023-05-06T10:38:06.922Z"
   },
   {
    "duration": 0,
    "start_time": "2023-05-06T10:38:06.937Z"
   },
   {
    "duration": 0,
    "start_time": "2023-05-06T10:38:06.938Z"
   },
   {
    "duration": 0,
    "start_time": "2023-05-06T10:38:06.939Z"
   },
   {
    "duration": 0,
    "start_time": "2023-05-06T10:38:06.940Z"
   },
   {
    "duration": 0,
    "start_time": "2023-05-06T10:38:06.941Z"
   },
   {
    "duration": 0,
    "start_time": "2023-05-06T10:38:06.943Z"
   },
   {
    "duration": 0,
    "start_time": "2023-05-06T10:38:06.943Z"
   },
   {
    "duration": 0,
    "start_time": "2023-05-06T10:38:06.945Z"
   },
   {
    "duration": 0,
    "start_time": "2023-05-06T10:38:06.946Z"
   },
   {
    "duration": 0,
    "start_time": "2023-05-06T10:38:06.947Z"
   },
   {
    "duration": 0,
    "start_time": "2023-05-06T10:38:06.949Z"
   },
   {
    "duration": 0,
    "start_time": "2023-05-06T10:38:06.950Z"
   },
   {
    "duration": 0,
    "start_time": "2023-05-06T10:38:06.952Z"
   },
   {
    "duration": 21,
    "start_time": "2023-05-06T10:38:45.852Z"
   },
   {
    "duration": 7,
    "start_time": "2023-05-06T10:38:48.745Z"
   },
   {
    "duration": 4,
    "start_time": "2023-05-06T10:38:50.073Z"
   },
   {
    "duration": 12,
    "start_time": "2023-05-06T10:38:50.625Z"
   },
   {
    "duration": 2,
    "start_time": "2023-05-06T10:38:52.620Z"
   },
   {
    "duration": 12,
    "start_time": "2023-05-06T10:38:53.416Z"
   },
   {
    "duration": 30,
    "start_time": "2023-05-06T10:39:14.218Z"
   },
   {
    "duration": 2,
    "start_time": "2023-05-06T10:39:23.011Z"
   },
   {
    "duration": 2,
    "start_time": "2023-05-06T10:39:23.671Z"
   },
   {
    "duration": 2,
    "start_time": "2023-05-06T10:39:23.824Z"
   },
   {
    "duration": 2,
    "start_time": "2023-05-06T10:39:23.984Z"
   },
   {
    "duration": 6,
    "start_time": "2023-05-06T10:39:24.817Z"
   },
   {
    "duration": 1031,
    "start_time": "2023-05-06T10:39:25.336Z"
   },
   {
    "duration": 343,
    "start_time": "2023-05-06T10:39:27.881Z"
   },
   {
    "duration": 299,
    "start_time": "2023-05-06T10:39:29.673Z"
   },
   {
    "duration": 470,
    "start_time": "2023-05-06T10:39:30.811Z"
   },
   {
    "duration": 388,
    "start_time": "2023-05-06T10:39:55.721Z"
   },
   {
    "duration": 187,
    "start_time": "2023-05-06T10:39:57.072Z"
   },
   {
    "duration": 3,
    "start_time": "2023-05-06T10:39:57.679Z"
   },
   {
    "duration": 30,
    "start_time": "2023-05-06T10:40:00.167Z"
   },
   {
    "duration": 7,
    "start_time": "2023-05-06T10:40:02.566Z"
   },
   {
    "duration": 4,
    "start_time": "2023-05-06T10:40:04.262Z"
   },
   {
    "duration": 11,
    "start_time": "2023-05-06T10:40:05.510Z"
   },
   {
    "duration": 2,
    "start_time": "2023-05-06T10:40:06.313Z"
   },
   {
    "duration": 14,
    "start_time": "2023-05-06T10:40:06.743Z"
   },
   {
    "duration": 5,
    "start_time": "2023-05-06T10:40:08.663Z"
   },
   {
    "duration": 12,
    "start_time": "2023-05-06T10:40:09.721Z"
   },
   {
    "duration": 13,
    "start_time": "2023-05-06T10:40:14.871Z"
   },
   {
    "duration": 24560,
    "start_time": "2023-05-06T10:40:16.924Z"
   },
   {
    "duration": 14,
    "start_time": "2023-05-06T10:40:41.486Z"
   },
   {
    "duration": 19,
    "start_time": "2023-05-06T10:41:47.971Z"
   },
   {
    "duration": 12,
    "start_time": "2023-05-06T10:41:49.346Z"
   },
   {
    "duration": 2,
    "start_time": "2023-05-06T10:41:51.755Z"
   },
   {
    "duration": 2,
    "start_time": "2023-05-06T10:41:52.113Z"
   },
   {
    "duration": 22778,
    "start_time": "2023-05-06T10:41:52.523Z"
   },
   {
    "duration": 12,
    "start_time": "2023-05-06T10:42:18.419Z"
   },
   {
    "duration": 13,
    "start_time": "2023-05-06T10:42:21.137Z"
   },
   {
    "duration": 8,
    "start_time": "2023-05-06T10:42:29.042Z"
   },
   {
    "duration": 9,
    "start_time": "2023-05-06T10:42:29.954Z"
   },
   {
    "duration": 10,
    "start_time": "2023-05-06T10:42:30.785Z"
   },
   {
    "duration": 10,
    "start_time": "2023-05-06T10:44:09.942Z"
   },
   {
    "duration": 27,
    "start_time": "2023-05-06T10:44:39.332Z"
   },
   {
    "duration": 3,
    "start_time": "2023-05-06T10:44:44.013Z"
   },
   {
    "duration": 30,
    "start_time": "2023-05-06T10:44:44.540Z"
   },
   {
    "duration": 25,
    "start_time": "2023-05-06T10:44:52.722Z"
   },
   {
    "duration": 31,
    "start_time": "2023-05-06T10:44:56.060Z"
   },
   {
    "duration": 30,
    "start_time": "2023-05-06T10:44:58.948Z"
   },
   {
    "duration": 29,
    "start_time": "2023-05-06T10:45:14.038Z"
   },
   {
    "duration": 1183,
    "start_time": "2023-05-06T10:45:17.911Z"
   },
   {
    "duration": 23,
    "start_time": "2023-05-06T10:45:19.096Z"
   },
   {
    "duration": 404,
    "start_time": "2023-05-06T10:45:19.121Z"
   },
   {
    "duration": 7,
    "start_time": "2023-05-06T10:45:19.526Z"
   },
   {
    "duration": 59,
    "start_time": "2023-05-06T10:45:19.535Z"
   },
   {
    "duration": 10,
    "start_time": "2023-05-06T10:45:19.596Z"
   },
   {
    "duration": 26,
    "start_time": "2023-05-06T10:45:19.607Z"
   },
   {
    "duration": 5,
    "start_time": "2023-05-06T10:45:19.635Z"
   },
   {
    "duration": 17,
    "start_time": "2023-05-06T10:45:19.642Z"
   },
   {
    "duration": 6,
    "start_time": "2023-05-06T10:45:19.661Z"
   },
   {
    "duration": 379,
    "start_time": "2023-05-06T10:45:19.669Z"
   },
   {
    "duration": 2,
    "start_time": "2023-05-06T10:45:20.051Z"
   },
   {
    "duration": 6,
    "start_time": "2023-05-06T10:45:20.054Z"
   },
   {
    "duration": 81,
    "start_time": "2023-05-06T10:45:20.063Z"
   },
   {
    "duration": 36,
    "start_time": "2023-05-06T10:45:20.145Z"
   },
   {
    "duration": 10,
    "start_time": "2023-05-06T10:45:20.182Z"
   },
   {
    "duration": 4,
    "start_time": "2023-05-06T10:45:20.194Z"
   },
   {
    "duration": 8,
    "start_time": "2023-05-06T10:45:20.199Z"
   },
   {
    "duration": 3,
    "start_time": "2023-05-06T10:45:20.209Z"
   },
   {
    "duration": 7,
    "start_time": "2023-05-06T10:45:20.213Z"
   },
   {
    "duration": 1148,
    "start_time": "2023-05-06T10:45:20.222Z"
   },
   {
    "duration": 385,
    "start_time": "2023-05-06T10:45:21.372Z"
   },
   {
    "duration": 336,
    "start_time": "2023-05-06T10:45:21.759Z"
   },
   {
    "duration": 431,
    "start_time": "2023-05-06T10:45:22.096Z"
   },
   {
    "duration": 306,
    "start_time": "2023-05-06T10:45:22.529Z"
   },
   {
    "duration": 291,
    "start_time": "2023-05-06T10:45:22.837Z"
   },
   {
    "duration": 3,
    "start_time": "2023-05-06T10:45:23.129Z"
   },
   {
    "duration": 25,
    "start_time": "2023-05-06T10:45:23.133Z"
   },
   {
    "duration": 6,
    "start_time": "2023-05-06T10:45:23.159Z"
   },
   {
    "duration": 26,
    "start_time": "2023-05-06T10:45:23.166Z"
   },
   {
    "duration": 16,
    "start_time": "2023-05-06T10:45:23.194Z"
   },
   {
    "duration": 2,
    "start_time": "2023-05-06T10:45:23.213Z"
   },
   {
    "duration": 14,
    "start_time": "2023-05-06T10:45:23.218Z"
   },
   {
    "duration": 5,
    "start_time": "2023-05-06T10:45:23.233Z"
   },
   {
    "duration": 11,
    "start_time": "2023-05-06T10:45:23.240Z"
   },
   {
    "duration": 21,
    "start_time": "2023-05-06T10:45:23.293Z"
   },
   {
    "duration": 20730,
    "start_time": "2023-05-06T10:45:23.317Z"
   },
   {
    "duration": 11,
    "start_time": "2023-05-06T10:45:44.049Z"
   },
   {
    "duration": 31,
    "start_time": "2023-05-06T10:45:44.062Z"
   },
   {
    "duration": 11,
    "start_time": "2023-05-06T10:45:44.095Z"
   },
   {
    "duration": 3,
    "start_time": "2023-05-06T10:45:44.110Z"
   },
   {
    "duration": 7,
    "start_time": "2023-05-06T10:45:44.114Z"
   },
   {
    "duration": 20127,
    "start_time": "2023-05-06T10:45:44.123Z"
   },
   {
    "duration": 10,
    "start_time": "2023-05-06T10:46:04.251Z"
   },
   {
    "duration": 15,
    "start_time": "2023-05-06T10:46:04.262Z"
   },
   {
    "duration": 14,
    "start_time": "2023-05-06T10:46:04.278Z"
   },
   {
    "duration": 9,
    "start_time": "2023-05-06T10:46:04.294Z"
   },
   {
    "duration": 12,
    "start_time": "2023-05-06T10:46:04.304Z"
   },
   {
    "duration": 16,
    "start_time": "2023-05-06T10:46:04.317Z"
   },
   {
    "duration": 53,
    "start_time": "2023-05-06T10:50:07.530Z"
   },
   {
    "duration": 1170,
    "start_time": "2023-05-06T10:50:18.961Z"
   },
   {
    "duration": 22,
    "start_time": "2023-05-06T10:50:20.132Z"
   },
   {
    "duration": 401,
    "start_time": "2023-05-06T10:50:20.155Z"
   },
   {
    "duration": 8,
    "start_time": "2023-05-06T10:50:20.559Z"
   },
   {
    "duration": 83,
    "start_time": "2023-05-06T10:50:20.568Z"
   },
   {
    "duration": 9,
    "start_time": "2023-05-06T10:50:20.653Z"
   },
   {
    "duration": 15,
    "start_time": "2023-05-06T10:50:20.663Z"
   },
   {
    "duration": 9,
    "start_time": "2023-05-06T10:50:20.679Z"
   },
   {
    "duration": 25,
    "start_time": "2023-05-06T10:50:20.690Z"
   },
   {
    "duration": 17,
    "start_time": "2023-05-06T10:50:20.718Z"
   },
   {
    "duration": 392,
    "start_time": "2023-05-06T10:50:20.737Z"
   },
   {
    "duration": 3,
    "start_time": "2023-05-06T10:50:21.130Z"
   },
   {
    "duration": 7,
    "start_time": "2023-05-06T10:50:21.135Z"
   },
   {
    "duration": 17,
    "start_time": "2023-05-06T10:50:21.144Z"
   },
   {
    "duration": 148,
    "start_time": "2023-05-06T10:50:21.162Z"
   },
   {
    "duration": 2,
    "start_time": "2023-05-06T10:50:21.312Z"
   },
   {
    "duration": 16,
    "start_time": "2023-05-06T10:50:21.317Z"
   },
   {
    "duration": 27,
    "start_time": "2023-05-06T10:50:21.334Z"
   },
   {
    "duration": 22,
    "start_time": "2023-05-06T10:50:21.363Z"
   },
   {
    "duration": 40,
    "start_time": "2023-05-06T10:50:21.387Z"
   },
   {
    "duration": 1115,
    "start_time": "2023-05-06T10:50:21.429Z"
   },
   {
    "duration": 362,
    "start_time": "2023-05-06T10:50:22.546Z"
   },
   {
    "duration": 332,
    "start_time": "2023-05-06T10:50:22.910Z"
   },
   {
    "duration": 414,
    "start_time": "2023-05-06T10:50:23.244Z"
   },
   {
    "duration": 335,
    "start_time": "2023-05-06T10:50:23.660Z"
   },
   {
    "duration": 301,
    "start_time": "2023-05-06T10:50:23.997Z"
   },
   {
    "duration": 3,
    "start_time": "2023-05-06T10:50:24.299Z"
   },
   {
    "duration": 36,
    "start_time": "2023-05-06T10:50:24.305Z"
   },
   {
    "duration": 7,
    "start_time": "2023-05-06T10:50:24.342Z"
   },
   {
    "duration": 6,
    "start_time": "2023-05-06T10:50:24.351Z"
   },
   {
    "duration": 36,
    "start_time": "2023-05-06T10:50:24.358Z"
   },
   {
    "duration": 2,
    "start_time": "2023-05-06T10:50:24.396Z"
   },
   {
    "duration": 23,
    "start_time": "2023-05-06T10:50:24.400Z"
   },
   {
    "duration": 8,
    "start_time": "2023-05-06T10:50:24.425Z"
   },
   {
    "duration": 57,
    "start_time": "2023-05-06T10:50:24.435Z"
   },
   {
    "duration": 101,
    "start_time": "2023-05-06T10:50:24.496Z"
   },
   {
    "duration": 30208,
    "start_time": "2023-05-06T10:50:24.599Z"
   },
   {
    "duration": 11,
    "start_time": "2023-05-06T10:50:54.808Z"
   },
   {
    "duration": 20,
    "start_time": "2023-05-06T10:50:54.820Z"
   },
   {
    "duration": 19,
    "start_time": "2023-05-06T10:50:54.842Z"
   },
   {
    "duration": 8,
    "start_time": "2023-05-06T10:50:54.862Z"
   },
   {
    "duration": 15,
    "start_time": "2023-05-06T10:50:54.871Z"
   },
   {
    "duration": 27284,
    "start_time": "2023-05-06T10:50:54.887Z"
   },
   {
    "duration": 11,
    "start_time": "2023-05-06T10:51:22.173Z"
   },
   {
    "duration": 12,
    "start_time": "2023-05-06T10:51:22.186Z"
   },
   {
    "duration": 11,
    "start_time": "2023-05-06T10:51:22.199Z"
   },
   {
    "duration": 13,
    "start_time": "2023-05-06T10:51:22.212Z"
   },
   {
    "duration": 10,
    "start_time": "2023-05-06T10:51:22.227Z"
   },
   {
    "duration": 16,
    "start_time": "2023-05-06T10:51:22.239Z"
   },
   {
    "duration": 1238,
    "start_time": "2023-05-06T10:52:25.963Z"
   },
   {
    "duration": 22,
    "start_time": "2023-05-06T10:52:27.204Z"
   },
   {
    "duration": 452,
    "start_time": "2023-05-06T10:52:27.228Z"
   },
   {
    "duration": 16,
    "start_time": "2023-05-06T10:52:27.682Z"
   },
   {
    "duration": 54,
    "start_time": "2023-05-06T10:52:27.701Z"
   },
   {
    "duration": 12,
    "start_time": "2023-05-06T10:52:27.757Z"
   },
   {
    "duration": 7,
    "start_time": "2023-05-06T10:52:27.771Z"
   },
   {
    "duration": 16,
    "start_time": "2023-05-06T10:52:27.780Z"
   },
   {
    "duration": 16,
    "start_time": "2023-05-06T10:52:27.797Z"
   },
   {
    "duration": 5,
    "start_time": "2023-05-06T10:52:27.817Z"
   },
   {
    "duration": 421,
    "start_time": "2023-05-06T10:52:27.824Z"
   },
   {
    "duration": 3,
    "start_time": "2023-05-06T10:52:28.246Z"
   },
   {
    "duration": 3,
    "start_time": "2023-05-06T10:52:28.251Z"
   },
   {
    "duration": 6,
    "start_time": "2023-05-06T10:52:28.256Z"
   },
   {
    "duration": 138,
    "start_time": "2023-05-06T10:52:28.263Z"
   },
   {
    "duration": 3,
    "start_time": "2023-05-06T10:52:28.404Z"
   },
   {
    "duration": 18,
    "start_time": "2023-05-06T10:52:28.409Z"
   },
   {
    "duration": 4,
    "start_time": "2023-05-06T10:52:28.429Z"
   },
   {
    "duration": 7,
    "start_time": "2023-05-06T10:52:28.435Z"
   },
   {
    "duration": 13,
    "start_time": "2023-05-06T10:52:28.444Z"
   },
   {
    "duration": 1159,
    "start_time": "2023-05-06T10:52:28.459Z"
   },
   {
    "duration": 335,
    "start_time": "2023-05-06T10:52:29.620Z"
   },
   {
    "duration": 323,
    "start_time": "2023-05-06T10:52:29.956Z"
   },
   {
    "duration": 426,
    "start_time": "2023-05-06T10:52:30.281Z"
   },
   {
    "duration": 312,
    "start_time": "2023-05-06T10:52:30.709Z"
   },
   {
    "duration": 287,
    "start_time": "2023-05-06T10:52:31.023Z"
   },
   {
    "duration": 2,
    "start_time": "2023-05-06T10:52:31.312Z"
   },
   {
    "duration": 73,
    "start_time": "2023-05-06T10:52:31.318Z"
   },
   {
    "duration": 6,
    "start_time": "2023-05-06T10:52:31.393Z"
   },
   {
    "duration": 31,
    "start_time": "2023-05-06T10:52:31.401Z"
   },
   {
    "duration": 28,
    "start_time": "2023-05-06T10:52:31.434Z"
   },
   {
    "duration": 31,
    "start_time": "2023-05-06T10:52:31.465Z"
   },
   {
    "duration": 47,
    "start_time": "2023-05-06T10:52:31.499Z"
   },
   {
    "duration": 34,
    "start_time": "2023-05-06T10:52:31.548Z"
   },
   {
    "duration": 49,
    "start_time": "2023-05-06T10:52:31.584Z"
   },
   {
    "duration": 17,
    "start_time": "2023-05-06T10:52:31.793Z"
   },
   {
    "duration": 23754,
    "start_time": "2023-05-06T10:52:31.812Z"
   },
   {
    "duration": 10,
    "start_time": "2023-05-06T10:52:55.568Z"
   },
   {
    "duration": 41,
    "start_time": "2023-05-06T10:52:55.580Z"
   },
   {
    "duration": 100,
    "start_time": "2023-05-06T10:52:55.693Z"
   },
   {
    "duration": 4,
    "start_time": "2023-05-06T10:52:55.795Z"
   },
   {
    "duration": 5,
    "start_time": "2023-05-06T10:52:55.801Z"
   },
   {
    "duration": 24825,
    "start_time": "2023-05-06T10:52:55.807Z"
   },
   {
    "duration": 14,
    "start_time": "2023-05-06T10:53:20.634Z"
   },
   {
    "duration": 20,
    "start_time": "2023-05-06T10:53:20.649Z"
   },
   {
    "duration": 12,
    "start_time": "2023-05-06T10:53:20.671Z"
   },
   {
    "duration": 9,
    "start_time": "2023-05-06T10:53:20.685Z"
   },
   {
    "duration": 20,
    "start_time": "2023-05-06T10:53:20.696Z"
   },
   {
    "duration": 13,
    "start_time": "2023-05-06T10:53:20.718Z"
   },
   {
    "duration": 23,
    "start_time": "2023-05-06T10:54:34.150Z"
   },
   {
    "duration": 1129,
    "start_time": "2023-05-06T10:55:16.803Z"
   },
   {
    "duration": 21,
    "start_time": "2023-05-06T10:55:17.934Z"
   },
   {
    "duration": 399,
    "start_time": "2023-05-06T10:55:17.956Z"
   },
   {
    "duration": 9,
    "start_time": "2023-05-06T10:55:18.358Z"
   },
   {
    "duration": 63,
    "start_time": "2023-05-06T10:55:18.370Z"
   },
   {
    "duration": 12,
    "start_time": "2023-05-06T10:55:18.435Z"
   },
   {
    "duration": 13,
    "start_time": "2023-05-06T10:55:18.449Z"
   },
   {
    "duration": 4,
    "start_time": "2023-05-06T10:55:18.464Z"
   },
   {
    "duration": 31,
    "start_time": "2023-05-06T10:55:18.470Z"
   },
   {
    "duration": 3,
    "start_time": "2023-05-06T10:55:18.503Z"
   },
   {
    "duration": 384,
    "start_time": "2023-05-06T10:55:18.508Z"
   },
   {
    "duration": 3,
    "start_time": "2023-05-06T10:55:18.894Z"
   },
   {
    "duration": 4,
    "start_time": "2023-05-06T10:55:18.898Z"
   },
   {
    "duration": 93,
    "start_time": "2023-05-06T10:55:18.905Z"
   },
   {
    "duration": 56,
    "start_time": "2023-05-06T10:55:18.999Z"
   },
   {
    "duration": 3,
    "start_time": "2023-05-06T10:55:19.056Z"
   },
   {
    "duration": 4,
    "start_time": "2023-05-06T10:55:19.060Z"
   },
   {
    "duration": 4,
    "start_time": "2023-05-06T10:55:19.066Z"
   },
   {
    "duration": 7,
    "start_time": "2023-05-06T10:55:19.071Z"
   },
   {
    "duration": 17,
    "start_time": "2023-05-06T10:55:19.079Z"
   },
   {
    "duration": 1037,
    "start_time": "2023-05-06T10:55:19.098Z"
   },
   {
    "duration": 335,
    "start_time": "2023-05-06T10:55:20.137Z"
   },
   {
    "duration": 319,
    "start_time": "2023-05-06T10:55:20.473Z"
   },
   {
    "duration": 407,
    "start_time": "2023-05-06T10:55:20.794Z"
   },
   {
    "duration": 292,
    "start_time": "2023-05-06T10:55:21.203Z"
   },
   {
    "duration": 283,
    "start_time": "2023-05-06T10:55:21.497Z"
   },
   {
    "duration": 2,
    "start_time": "2023-05-06T10:55:21.782Z"
   },
   {
    "duration": 31,
    "start_time": "2023-05-06T10:55:21.791Z"
   },
   {
    "duration": 6,
    "start_time": "2023-05-06T10:55:21.824Z"
   },
   {
    "duration": 7,
    "start_time": "2023-05-06T10:55:21.831Z"
   },
   {
    "duration": 11,
    "start_time": "2023-05-06T10:55:21.839Z"
   },
   {
    "duration": 2,
    "start_time": "2023-05-06T10:55:21.852Z"
   },
   {
    "duration": 52,
    "start_time": "2023-05-06T10:55:21.856Z"
   },
   {
    "duration": 5,
    "start_time": "2023-05-06T10:55:21.909Z"
   },
   {
    "duration": 14,
    "start_time": "2023-05-06T10:55:21.915Z"
   },
   {
    "duration": 73,
    "start_time": "2023-05-06T10:55:21.931Z"
   },
   {
    "duration": 28363,
    "start_time": "2023-05-06T10:55:22.006Z"
   },
   {
    "duration": 10,
    "start_time": "2023-05-06T10:55:50.371Z"
   },
   {
    "duration": 30,
    "start_time": "2023-05-06T10:55:50.383Z"
   },
   {
    "duration": 15,
    "start_time": "2023-05-06T10:55:50.415Z"
   },
   {
    "duration": 3,
    "start_time": "2023-05-06T10:55:50.434Z"
   },
   {
    "duration": 8,
    "start_time": "2023-05-06T10:55:50.438Z"
   },
   {
    "duration": 26220,
    "start_time": "2023-05-06T10:55:50.447Z"
   },
   {
    "duration": 11,
    "start_time": "2023-05-06T10:56:16.669Z"
   },
   {
    "duration": 15,
    "start_time": "2023-05-06T10:56:16.682Z"
   },
   {
    "duration": 10,
    "start_time": "2023-05-06T10:56:16.699Z"
   },
   {
    "duration": 10,
    "start_time": "2023-05-06T10:56:16.711Z"
   },
   {
    "duration": 9,
    "start_time": "2023-05-06T10:56:16.723Z"
   },
   {
    "duration": 18,
    "start_time": "2023-05-06T10:56:16.733Z"
   },
   {
    "duration": 46,
    "start_time": "2023-05-06T10:56:16.753Z"
   },
   {
    "duration": 6,
    "start_time": "2023-05-06T10:57:14.503Z"
   },
   {
    "duration": 6,
    "start_time": "2023-05-06T10:57:14.890Z"
   },
   {
    "duration": 1296,
    "start_time": "2023-05-06T10:59:06.780Z"
   },
   {
    "duration": 29,
    "start_time": "2023-05-06T10:59:08.078Z"
   },
   {
    "duration": 407,
    "start_time": "2023-05-06T10:59:08.108Z"
   },
   {
    "duration": 7,
    "start_time": "2023-05-06T10:59:08.518Z"
   },
   {
    "duration": 57,
    "start_time": "2023-05-06T10:59:08.527Z"
   },
   {
    "duration": 10,
    "start_time": "2023-05-06T10:59:08.587Z"
   },
   {
    "duration": 17,
    "start_time": "2023-05-06T10:59:08.599Z"
   },
   {
    "duration": 8,
    "start_time": "2023-05-06T10:59:08.617Z"
   },
   {
    "duration": 23,
    "start_time": "2023-05-06T10:59:08.626Z"
   },
   {
    "duration": 4,
    "start_time": "2023-05-06T10:59:08.653Z"
   },
   {
    "duration": 386,
    "start_time": "2023-05-06T10:59:08.658Z"
   },
   {
    "duration": 3,
    "start_time": "2023-05-06T10:59:09.046Z"
   },
   {
    "duration": 5,
    "start_time": "2023-05-06T10:59:09.050Z"
   },
   {
    "duration": 4,
    "start_time": "2023-05-06T10:59:09.057Z"
   },
   {
    "duration": 134,
    "start_time": "2023-05-06T10:59:09.063Z"
   },
   {
    "duration": 2,
    "start_time": "2023-05-06T10:59:09.199Z"
   },
   {
    "duration": 9,
    "start_time": "2023-05-06T10:59:09.202Z"
   },
   {
    "duration": 4,
    "start_time": "2023-05-06T10:59:09.213Z"
   },
   {
    "duration": 5,
    "start_time": "2023-05-06T10:59:09.218Z"
   },
   {
    "duration": 10,
    "start_time": "2023-05-06T10:59:09.224Z"
   },
   {
    "duration": 1114,
    "start_time": "2023-05-06T10:59:09.236Z"
   },
   {
    "duration": 352,
    "start_time": "2023-05-06T10:59:10.352Z"
   },
   {
    "duration": 322,
    "start_time": "2023-05-06T10:59:10.705Z"
   },
   {
    "duration": 372,
    "start_time": "2023-05-06T10:59:11.028Z"
   },
   {
    "duration": 294,
    "start_time": "2023-05-06T10:59:11.402Z"
   },
   {
    "duration": 281,
    "start_time": "2023-05-06T10:59:11.698Z"
   },
   {
    "duration": 2,
    "start_time": "2023-05-06T10:59:11.980Z"
   },
   {
    "duration": 31,
    "start_time": "2023-05-06T10:59:11.991Z"
   },
   {
    "duration": 6,
    "start_time": "2023-05-06T10:59:12.023Z"
   },
   {
    "duration": 8,
    "start_time": "2023-05-06T10:59:12.030Z"
   },
   {
    "duration": 10,
    "start_time": "2023-05-06T10:59:12.039Z"
   },
   {
    "duration": 2,
    "start_time": "2023-05-06T10:59:12.050Z"
   },
   {
    "duration": 47,
    "start_time": "2023-05-06T10:59:12.054Z"
   },
   {
    "duration": 4,
    "start_time": "2023-05-06T10:59:12.102Z"
   },
   {
    "duration": 184,
    "start_time": "2023-05-06T10:59:12.108Z"
   },
   {
    "duration": 13,
    "start_time": "2023-05-06T10:59:12.293Z"
   },
   {
    "duration": 28249,
    "start_time": "2023-05-06T10:59:12.308Z"
   },
   {
    "duration": 15,
    "start_time": "2023-05-06T10:59:40.559Z"
   },
   {
    "duration": 37,
    "start_time": "2023-05-06T10:59:40.576Z"
   },
   {
    "duration": 100,
    "start_time": "2023-05-06T10:59:40.693Z"
   },
   {
    "duration": 2,
    "start_time": "2023-05-06T10:59:40.795Z"
   },
   {
    "duration": 4,
    "start_time": "2023-05-06T10:59:40.799Z"
   },
   {
    "duration": 27305,
    "start_time": "2023-05-06T10:59:40.804Z"
   },
   {
    "duration": 14,
    "start_time": "2023-05-06T11:00:08.112Z"
   },
   {
    "duration": 12,
    "start_time": "2023-05-06T11:00:08.128Z"
   },
   {
    "duration": 8,
    "start_time": "2023-05-06T11:00:08.141Z"
   },
   {
    "duration": 9,
    "start_time": "2023-05-06T11:00:08.151Z"
   },
   {
    "duration": 34,
    "start_time": "2023-05-06T11:00:08.161Z"
   },
   {
    "duration": 10,
    "start_time": "2023-05-06T11:00:08.197Z"
   },
   {
    "duration": 19,
    "start_time": "2023-05-06T11:00:08.209Z"
   },
   {
    "duration": 63,
    "start_time": "2023-05-06T11:00:08.229Z"
   },
   {
    "duration": 98,
    "start_time": "2023-05-06T11:00:08.295Z"
   },
   {
    "duration": 20,
    "start_time": "2023-05-06T11:01:22.173Z"
   },
   {
    "duration": 7,
    "start_time": "2023-05-06T11:01:22.678Z"
   },
   {
    "duration": 8,
    "start_time": "2023-05-06T11:01:23.357Z"
   },
   {
    "duration": 10,
    "start_time": "2023-05-06T11:01:37.811Z"
   },
   {
    "duration": 9,
    "start_time": "2023-05-06T11:01:40.870Z"
   },
   {
    "duration": 10,
    "start_time": "2023-05-06T11:01:43.836Z"
   },
   {
    "duration": 10,
    "start_time": "2023-05-06T11:01:46.923Z"
   },
   {
    "duration": 9375,
    "start_time": "2023-05-06T11:02:09.163Z"
   },
   {
    "duration": 15,
    "start_time": "2023-05-06T11:02:24.067Z"
   },
   {
    "duration": 11,
    "start_time": "2023-05-06T11:02:29.798Z"
   },
   {
    "duration": 853,
    "start_time": "2023-05-06T11:02:35.915Z"
   },
   {
    "duration": 88,
    "start_time": "2023-05-06T11:02:36.771Z"
   },
   {
    "duration": 11089,
    "start_time": "2023-05-06T11:02:41.162Z"
   },
   {
    "duration": 10,
    "start_time": "2023-05-06T11:02:52.253Z"
   },
   {
    "duration": 113235,
    "start_time": "2023-05-06T11:03:23.129Z"
   },
   {
    "duration": 33,
    "start_time": "2023-05-06T11:05:16.366Z"
   },
   {
    "duration": 19,
    "start_time": "2023-05-06T11:05:50.610Z"
   },
   {
    "duration": 331720,
    "start_time": "2023-05-06T11:06:07.083Z"
   },
   {
    "duration": 57,
    "start_time": "2023-05-06T11:11:38.805Z"
   },
   {
    "duration": 27968,
    "start_time": "2023-05-06T11:12:20.347Z"
   },
   {
    "duration": 11,
    "start_time": "2023-05-06T11:12:48.317Z"
   },
   {
    "duration": 1141,
    "start_time": "2023-05-06T11:13:18.781Z"
   },
   {
    "duration": 21,
    "start_time": "2023-05-06T11:13:19.924Z"
   },
   {
    "duration": 400,
    "start_time": "2023-05-06T11:13:19.947Z"
   },
   {
    "duration": 7,
    "start_time": "2023-05-06T11:13:20.349Z"
   },
   {
    "duration": 56,
    "start_time": "2023-05-06T11:13:20.357Z"
   },
   {
    "duration": 10,
    "start_time": "2023-05-06T11:13:20.415Z"
   },
   {
    "duration": 16,
    "start_time": "2023-05-06T11:13:20.427Z"
   },
   {
    "duration": 18,
    "start_time": "2023-05-06T11:13:20.445Z"
   },
   {
    "duration": 18,
    "start_time": "2023-05-06T11:13:20.465Z"
   },
   {
    "duration": 12,
    "start_time": "2023-05-06T11:13:20.486Z"
   },
   {
    "duration": 374,
    "start_time": "2023-05-06T11:13:20.499Z"
   },
   {
    "duration": 3,
    "start_time": "2023-05-06T11:13:20.875Z"
   },
   {
    "duration": 9,
    "start_time": "2023-05-06T11:13:20.879Z"
   },
   {
    "duration": 17,
    "start_time": "2023-05-06T11:13:20.890Z"
   },
   {
    "duration": 109,
    "start_time": "2023-05-06T11:13:20.909Z"
   },
   {
    "duration": 2,
    "start_time": "2023-05-06T11:13:21.020Z"
   },
   {
    "duration": 6,
    "start_time": "2023-05-06T11:13:21.024Z"
   },
   {
    "duration": 13,
    "start_time": "2023-05-06T11:13:21.031Z"
   },
   {
    "duration": 4,
    "start_time": "2023-05-06T11:13:21.046Z"
   },
   {
    "duration": 19,
    "start_time": "2023-05-06T11:13:21.052Z"
   },
   {
    "duration": 1063,
    "start_time": "2023-05-06T11:13:21.073Z"
   },
   {
    "duration": 354,
    "start_time": "2023-05-06T11:13:22.138Z"
   },
   {
    "duration": 325,
    "start_time": "2023-05-06T11:13:22.494Z"
   },
   {
    "duration": 402,
    "start_time": "2023-05-06T11:13:22.821Z"
   },
   {
    "duration": 317,
    "start_time": "2023-05-06T11:13:23.225Z"
   },
   {
    "duration": 313,
    "start_time": "2023-05-06T11:13:23.544Z"
   },
   {
    "duration": 2,
    "start_time": "2023-05-06T11:13:23.859Z"
   },
   {
    "duration": 37,
    "start_time": "2023-05-06T11:13:23.865Z"
   },
   {
    "duration": 6,
    "start_time": "2023-05-06T11:13:23.904Z"
   },
   {
    "duration": 5,
    "start_time": "2023-05-06T11:13:23.912Z"
   },
   {
    "duration": 11,
    "start_time": "2023-05-06T11:13:23.919Z"
   },
   {
    "duration": 3,
    "start_time": "2023-05-06T11:13:23.932Z"
   },
   {
    "duration": 15,
    "start_time": "2023-05-06T11:13:23.936Z"
   },
   {
    "duration": 8,
    "start_time": "2023-05-06T11:13:23.952Z"
   },
   {
    "duration": 39,
    "start_time": "2023-05-06T11:13:23.962Z"
   },
   {
    "duration": 20,
    "start_time": "2023-05-06T11:13:24.003Z"
   },
   {
    "duration": 17653,
    "start_time": "2023-05-06T11:13:24.093Z"
   },
   {
    "duration": 10,
    "start_time": "2023-05-06T11:13:41.748Z"
   },
   {
    "duration": 13,
    "start_time": "2023-05-06T11:13:41.760Z"
   },
   {
    "duration": 25,
    "start_time": "2023-05-06T11:13:41.775Z"
   },
   {
    "duration": 3,
    "start_time": "2023-05-06T11:13:41.802Z"
   },
   {
    "duration": 10,
    "start_time": "2023-05-06T11:13:41.806Z"
   },
   {
    "duration": 17266,
    "start_time": "2023-05-06T11:13:41.817Z"
   },
   {
    "duration": 10,
    "start_time": "2023-05-06T11:13:59.084Z"
   },
   {
    "duration": 12,
    "start_time": "2023-05-06T11:13:59.096Z"
   },
   {
    "duration": 8,
    "start_time": "2023-05-06T11:13:59.110Z"
   },
   {
    "duration": 9,
    "start_time": "2023-05-06T11:13:59.119Z"
   },
   {
    "duration": 9,
    "start_time": "2023-05-06T11:13:59.130Z"
   },
   {
    "duration": 10,
    "start_time": "2023-05-06T11:13:59.140Z"
   },
   {
    "duration": 48,
    "start_time": "2023-05-06T11:13:59.151Z"
   },
   {
    "duration": 5,
    "start_time": "2023-05-06T11:13:59.201Z"
   },
   {
    "duration": 10,
    "start_time": "2023-05-06T11:13:59.208Z"
   },
   {
    "duration": 1147,
    "start_time": "2023-05-06T11:23:21.976Z"
   },
   {
    "duration": 22,
    "start_time": "2023-05-06T11:23:23.125Z"
   },
   {
    "duration": 418,
    "start_time": "2023-05-06T11:23:23.149Z"
   },
   {
    "duration": 7,
    "start_time": "2023-05-06T11:23:23.569Z"
   },
   {
    "duration": 97,
    "start_time": "2023-05-06T11:23:23.578Z"
   },
   {
    "duration": 11,
    "start_time": "2023-05-06T11:23:23.677Z"
   },
   {
    "duration": 52,
    "start_time": "2023-05-06T11:23:23.690Z"
   },
   {
    "duration": 13,
    "start_time": "2023-05-06T11:23:23.744Z"
   },
   {
    "duration": 19,
    "start_time": "2023-05-06T11:23:23.759Z"
   },
   {
    "duration": 14,
    "start_time": "2023-05-06T11:23:23.782Z"
   },
   {
    "duration": 393,
    "start_time": "2023-05-06T11:23:23.798Z"
   },
   {
    "duration": 3,
    "start_time": "2023-05-06T11:23:24.193Z"
   },
   {
    "duration": 15,
    "start_time": "2023-05-06T11:23:24.197Z"
   },
   {
    "duration": 8,
    "start_time": "2023-05-06T11:23:24.214Z"
   },
   {
    "duration": 114,
    "start_time": "2023-05-06T11:23:24.224Z"
   },
   {
    "duration": 2,
    "start_time": "2023-05-06T11:23:24.341Z"
   },
   {
    "duration": 12,
    "start_time": "2023-05-06T11:23:24.344Z"
   },
   {
    "duration": 13,
    "start_time": "2023-05-06T11:23:24.357Z"
   },
   {
    "duration": 19,
    "start_time": "2023-05-06T11:23:24.372Z"
   },
   {
    "duration": 19,
    "start_time": "2023-05-06T11:23:24.393Z"
   },
   {
    "duration": 1104,
    "start_time": "2023-05-06T11:23:24.414Z"
   },
   {
    "duration": 355,
    "start_time": "2023-05-06T11:23:25.520Z"
   },
   {
    "duration": 337,
    "start_time": "2023-05-06T11:23:25.877Z"
   },
   {
    "duration": 414,
    "start_time": "2023-05-06T11:23:26.216Z"
   },
   {
    "duration": 311,
    "start_time": "2023-05-06T11:23:26.632Z"
   },
   {
    "duration": 298,
    "start_time": "2023-05-06T11:23:26.944Z"
   },
   {
    "duration": 2,
    "start_time": "2023-05-06T11:23:27.244Z"
   },
   {
    "duration": 22,
    "start_time": "2023-05-06T11:23:27.250Z"
   },
   {
    "duration": 18,
    "start_time": "2023-05-06T11:23:27.274Z"
   },
   {
    "duration": 16,
    "start_time": "2023-05-06T11:23:27.294Z"
   },
   {
    "duration": 34,
    "start_time": "2023-05-06T11:23:27.312Z"
   },
   {
    "duration": 22,
    "start_time": "2023-05-06T11:23:27.349Z"
   },
   {
    "duration": 28,
    "start_time": "2023-05-06T11:23:27.373Z"
   },
   {
    "duration": 15,
    "start_time": "2023-05-06T11:23:27.404Z"
   },
   {
    "duration": 18,
    "start_time": "2023-05-06T11:23:27.421Z"
   },
   {
    "duration": 53,
    "start_time": "2023-05-06T11:23:27.441Z"
   },
   {
    "duration": 14502,
    "start_time": "2023-05-06T11:23:27.497Z"
   },
   {
    "duration": 11,
    "start_time": "2023-05-06T11:23:42.001Z"
   },
   {
    "duration": 13,
    "start_time": "2023-05-06T11:23:42.014Z"
   },
   {
    "duration": 12,
    "start_time": "2023-05-06T11:23:42.028Z"
   },
   {
    "duration": 5,
    "start_time": "2023-05-06T11:23:42.042Z"
   },
   {
    "duration": 7,
    "start_time": "2023-05-06T11:23:42.048Z"
   },
   {
    "duration": 15198,
    "start_time": "2023-05-06T11:23:42.056Z"
   },
   {
    "duration": 10,
    "start_time": "2023-05-06T11:23:57.256Z"
   },
   {
    "duration": 13,
    "start_time": "2023-05-06T11:23:57.268Z"
   },
   {
    "duration": 10,
    "start_time": "2023-05-06T11:23:57.284Z"
   },
   {
    "duration": 26,
    "start_time": "2023-05-06T11:23:57.296Z"
   },
   {
    "duration": 15,
    "start_time": "2023-05-06T11:23:57.324Z"
   },
   {
    "duration": 15,
    "start_time": "2023-05-06T11:23:57.341Z"
   },
   {
    "duration": 43,
    "start_time": "2023-05-06T11:23:57.358Z"
   },
   {
    "duration": 6,
    "start_time": "2023-05-06T11:23:57.404Z"
   },
   {
    "duration": 11,
    "start_time": "2023-05-06T11:23:57.412Z"
   },
   {
    "duration": 4,
    "start_time": "2023-05-06T11:27:02.154Z"
   },
   {
    "duration": 21,
    "start_time": "2023-05-06T11:27:03.514Z"
   },
   {
    "duration": 1199,
    "start_time": "2023-05-06T11:27:22.810Z"
   },
   {
    "duration": 26,
    "start_time": "2023-05-06T11:27:24.011Z"
   },
   {
    "duration": 438,
    "start_time": "2023-05-06T11:27:24.040Z"
   },
   {
    "duration": 10,
    "start_time": "2023-05-06T11:27:24.481Z"
   },
   {
    "duration": 58,
    "start_time": "2023-05-06T11:27:24.493Z"
   },
   {
    "duration": 15,
    "start_time": "2023-05-06T11:27:24.554Z"
   },
   {
    "duration": 8,
    "start_time": "2023-05-06T11:27:24.571Z"
   },
   {
    "duration": 11,
    "start_time": "2023-05-06T11:27:24.581Z"
   },
   {
    "duration": 17,
    "start_time": "2023-05-06T11:27:24.594Z"
   },
   {
    "duration": 3,
    "start_time": "2023-05-06T11:27:24.614Z"
   },
   {
    "duration": 413,
    "start_time": "2023-05-06T11:27:24.619Z"
   },
   {
    "duration": 3,
    "start_time": "2023-05-06T11:27:25.034Z"
   },
   {
    "duration": 30,
    "start_time": "2023-05-06T11:27:25.038Z"
   },
   {
    "duration": 7,
    "start_time": "2023-05-06T11:27:25.070Z"
   },
   {
    "duration": 125,
    "start_time": "2023-05-06T11:27:25.078Z"
   },
   {
    "duration": 2,
    "start_time": "2023-05-06T11:27:25.205Z"
   },
   {
    "duration": 7,
    "start_time": "2023-05-06T11:27:25.208Z"
   },
   {
    "duration": 4,
    "start_time": "2023-05-06T11:27:25.216Z"
   },
   {
    "duration": 6,
    "start_time": "2023-05-06T11:27:25.222Z"
   },
   {
    "duration": 19,
    "start_time": "2023-05-06T11:27:25.229Z"
   },
   {
    "duration": 1093,
    "start_time": "2023-05-06T11:27:25.250Z"
   },
   {
    "duration": 367,
    "start_time": "2023-05-06T11:27:26.344Z"
   },
   {
    "duration": 332,
    "start_time": "2023-05-06T11:27:26.713Z"
   },
   {
    "duration": 430,
    "start_time": "2023-05-06T11:27:27.048Z"
   },
   {
    "duration": 369,
    "start_time": "2023-05-06T11:27:27.479Z"
   },
   {
    "duration": 293,
    "start_time": "2023-05-06T11:27:27.850Z"
   },
   {
    "duration": 2,
    "start_time": "2023-05-06T11:27:28.145Z"
   },
   {
    "duration": 41,
    "start_time": "2023-05-06T11:27:28.151Z"
   },
   {
    "duration": 7,
    "start_time": "2023-05-06T11:27:28.194Z"
   },
   {
    "duration": 16,
    "start_time": "2023-05-06T11:27:28.203Z"
   },
   {
    "duration": 22,
    "start_time": "2023-05-06T11:27:28.221Z"
   },
   {
    "duration": 3,
    "start_time": "2023-05-06T11:27:28.244Z"
   },
   {
    "duration": 20,
    "start_time": "2023-05-06T11:27:28.248Z"
   },
   {
    "duration": 8,
    "start_time": "2023-05-06T11:27:28.269Z"
   },
   {
    "duration": 19,
    "start_time": "2023-05-06T11:27:28.278Z"
   },
   {
    "duration": 97,
    "start_time": "2023-05-06T11:27:28.299Z"
   },
   {
    "duration": 24495,
    "start_time": "2023-05-06T11:27:28.398Z"
   },
   {
    "duration": 11,
    "start_time": "2023-05-06T11:27:52.894Z"
   },
   {
    "duration": 13,
    "start_time": "2023-05-06T11:27:52.906Z"
   },
   {
    "duration": 9,
    "start_time": "2023-05-06T11:27:52.921Z"
   },
   {
    "duration": 4,
    "start_time": "2023-05-06T11:27:52.932Z"
   },
   {
    "duration": 3,
    "start_time": "2023-05-06T11:27:52.938Z"
   },
   {
    "duration": 22738,
    "start_time": "2023-05-06T11:27:52.943Z"
   },
   {
    "duration": 11,
    "start_time": "2023-05-06T11:28:15.683Z"
   },
   {
    "duration": 16,
    "start_time": "2023-05-06T11:28:15.696Z"
   },
   {
    "duration": 15,
    "start_time": "2023-05-06T11:28:15.714Z"
   },
   {
    "duration": 11,
    "start_time": "2023-05-06T11:28:15.732Z"
   },
   {
    "duration": 9,
    "start_time": "2023-05-06T11:28:15.745Z"
   },
   {
    "duration": 39,
    "start_time": "2023-05-06T11:28:15.756Z"
   },
   {
    "duration": 28,
    "start_time": "2023-05-06T11:28:15.797Z"
   },
   {
    "duration": 8,
    "start_time": "2023-05-06T11:28:15.827Z"
   },
   {
    "duration": 8,
    "start_time": "2023-05-06T11:28:15.836Z"
   },
   {
    "duration": 1147,
    "start_time": "2023-05-06T11:28:50.685Z"
   },
   {
    "duration": 22,
    "start_time": "2023-05-06T11:28:51.834Z"
   },
   {
    "duration": 391,
    "start_time": "2023-05-06T11:28:51.858Z"
   },
   {
    "duration": 7,
    "start_time": "2023-05-06T11:28:52.251Z"
   },
   {
    "duration": 52,
    "start_time": "2023-05-06T11:28:52.259Z"
   },
   {
    "duration": 10,
    "start_time": "2023-05-06T11:28:52.313Z"
   },
   {
    "duration": 7,
    "start_time": "2023-05-06T11:28:52.324Z"
   },
   {
    "duration": 5,
    "start_time": "2023-05-06T11:28:52.332Z"
   },
   {
    "duration": 19,
    "start_time": "2023-05-06T11:28:52.339Z"
   },
   {
    "duration": 32,
    "start_time": "2023-05-06T11:28:52.361Z"
   },
   {
    "duration": 382,
    "start_time": "2023-05-06T11:28:52.395Z"
   },
   {
    "duration": 2,
    "start_time": "2023-05-06T11:28:52.779Z"
   },
   {
    "duration": 4,
    "start_time": "2023-05-06T11:28:52.783Z"
   },
   {
    "duration": 4,
    "start_time": "2023-05-06T11:28:52.789Z"
   },
   {
    "duration": 115,
    "start_time": "2023-05-06T11:28:52.795Z"
   },
   {
    "duration": 2,
    "start_time": "2023-05-06T11:28:52.912Z"
   },
   {
    "duration": 5,
    "start_time": "2023-05-06T11:28:52.916Z"
   },
   {
    "duration": 4,
    "start_time": "2023-05-06T11:28:52.923Z"
   },
   {
    "duration": 5,
    "start_time": "2023-05-06T11:28:52.929Z"
   },
   {
    "duration": 7,
    "start_time": "2023-05-06T11:28:52.936Z"
   },
   {
    "duration": 1144,
    "start_time": "2023-05-06T11:28:52.945Z"
   },
   {
    "duration": 373,
    "start_time": "2023-05-06T11:28:54.090Z"
   },
   {
    "duration": 330,
    "start_time": "2023-05-06T11:28:54.465Z"
   },
   {
    "duration": 366,
    "start_time": "2023-05-06T11:28:54.796Z"
   },
   {
    "duration": 293,
    "start_time": "2023-05-06T11:28:55.164Z"
   },
   {
    "duration": 282,
    "start_time": "2023-05-06T11:28:55.459Z"
   },
   {
    "duration": 2,
    "start_time": "2023-05-06T11:28:55.743Z"
   },
   {
    "duration": 26,
    "start_time": "2023-05-06T11:28:55.748Z"
   },
   {
    "duration": 7,
    "start_time": "2023-05-06T11:28:55.792Z"
   },
   {
    "duration": 7,
    "start_time": "2023-05-06T11:28:55.801Z"
   },
   {
    "duration": 17,
    "start_time": "2023-05-06T11:28:55.810Z"
   },
   {
    "duration": 1,
    "start_time": "2023-05-06T11:28:55.829Z"
   },
   {
    "duration": 15,
    "start_time": "2023-05-06T11:28:55.832Z"
   },
   {
    "duration": 7,
    "start_time": "2023-05-06T11:28:55.848Z"
   },
   {
    "duration": 42,
    "start_time": "2023-05-06T11:28:55.856Z"
   },
   {
    "duration": 94,
    "start_time": "2023-05-06T11:28:55.900Z"
   },
   {
    "duration": 23808,
    "start_time": "2023-05-06T11:28:55.996Z"
   },
   {
    "duration": 11,
    "start_time": "2023-05-06T11:29:19.805Z"
   },
   {
    "duration": 16,
    "start_time": "2023-05-06T11:29:19.818Z"
   },
   {
    "duration": 12,
    "start_time": "2023-05-06T11:29:19.836Z"
   },
   {
    "duration": 5,
    "start_time": "2023-05-06T11:29:19.850Z"
   },
   {
    "duration": 7,
    "start_time": "2023-05-06T11:29:19.856Z"
   },
   {
    "duration": 23138,
    "start_time": "2023-05-06T11:29:19.865Z"
   },
   {
    "duration": 11,
    "start_time": "2023-05-06T11:29:43.004Z"
   },
   {
    "duration": 38,
    "start_time": "2023-05-06T11:29:43.017Z"
   },
   {
    "duration": 35,
    "start_time": "2023-05-06T11:29:43.057Z"
   },
   {
    "duration": 23,
    "start_time": "2023-05-06T11:29:43.094Z"
   },
   {
    "duration": 43,
    "start_time": "2023-05-06T11:29:43.119Z"
   },
   {
    "duration": 28,
    "start_time": "2023-05-06T11:29:43.164Z"
   },
   {
    "duration": 38,
    "start_time": "2023-05-06T11:29:43.194Z"
   },
   {
    "duration": 15,
    "start_time": "2023-05-06T11:29:43.234Z"
   },
   {
    "duration": 26,
    "start_time": "2023-05-06T11:29:43.251Z"
   },
   {
    "duration": 3,
    "start_time": "2023-05-06T11:30:28.162Z"
   },
   {
    "duration": 16,
    "start_time": "2023-05-06T11:30:28.615Z"
   },
   {
    "duration": 3,
    "start_time": "2023-05-06T11:30:29.056Z"
   },
   {
    "duration": 3,
    "start_time": "2023-05-06T11:30:29.415Z"
   },
   {
    "duration": 385,
    "start_time": "2023-05-06T11:34:18.161Z"
   },
   {
    "duration": 1151,
    "start_time": "2023-05-06T11:34:53.279Z"
   },
   {
    "duration": 1157,
    "start_time": "2023-05-06T11:35:13.062Z"
   },
   {
    "duration": 1220,
    "start_time": "2023-05-06T11:35:32.660Z"
   },
   {
    "duration": 1005,
    "start_time": "2023-05-06T11:36:13.563Z"
   },
   {
    "duration": 582,
    "start_time": "2023-05-06T11:36:52.852Z"
   },
   {
    "duration": 1177,
    "start_time": "2023-05-06T11:38:47.518Z"
   },
   {
    "duration": 1242,
    "start_time": "2023-05-06T11:39:53.013Z"
   },
   {
    "duration": 24,
    "start_time": "2023-05-06T11:39:54.257Z"
   },
   {
    "duration": 403,
    "start_time": "2023-05-06T11:39:54.282Z"
   },
   {
    "duration": 7,
    "start_time": "2023-05-06T11:39:54.687Z"
   },
   {
    "duration": 57,
    "start_time": "2023-05-06T11:39:54.696Z"
   },
   {
    "duration": 10,
    "start_time": "2023-05-06T11:39:54.755Z"
   },
   {
    "duration": 8,
    "start_time": "2023-05-06T11:39:54.767Z"
   },
   {
    "duration": 12,
    "start_time": "2023-05-06T11:39:54.776Z"
   },
   {
    "duration": 13,
    "start_time": "2023-05-06T11:39:54.790Z"
   },
   {
    "duration": 3,
    "start_time": "2023-05-06T11:39:54.805Z"
   },
   {
    "duration": 378,
    "start_time": "2023-05-06T11:39:54.810Z"
   },
   {
    "duration": 2,
    "start_time": "2023-05-06T11:39:55.190Z"
   },
   {
    "duration": 17,
    "start_time": "2023-05-06T11:39:55.194Z"
   },
   {
    "duration": 10,
    "start_time": "2023-05-06T11:39:55.212Z"
   },
   {
    "duration": 122,
    "start_time": "2023-05-06T11:39:55.224Z"
   },
   {
    "duration": 2,
    "start_time": "2023-05-06T11:39:55.348Z"
   },
   {
    "duration": 8,
    "start_time": "2023-05-06T11:39:55.351Z"
   },
   {
    "duration": 12,
    "start_time": "2023-05-06T11:39:55.360Z"
   },
   {
    "duration": 11,
    "start_time": "2023-05-06T11:39:55.373Z"
   },
   {
    "duration": 9,
    "start_time": "2023-05-06T11:39:55.386Z"
   },
   {
    "duration": 1070,
    "start_time": "2023-05-06T11:39:55.396Z"
   },
   {
    "duration": 359,
    "start_time": "2023-05-06T11:39:56.467Z"
   },
   {
    "duration": 343,
    "start_time": "2023-05-06T11:39:56.828Z"
   },
   {
    "duration": 423,
    "start_time": "2023-05-06T11:39:57.173Z"
   },
   {
    "duration": 382,
    "start_time": "2023-05-06T11:39:57.598Z"
   },
   {
    "duration": 300,
    "start_time": "2023-05-06T11:39:57.982Z"
   },
   {
    "duration": 2,
    "start_time": "2023-05-06T11:39:58.292Z"
   },
   {
    "duration": 36,
    "start_time": "2023-05-06T11:39:58.297Z"
   },
   {
    "duration": 7,
    "start_time": "2023-05-06T11:39:58.335Z"
   },
   {
    "duration": 14,
    "start_time": "2023-05-06T11:39:58.344Z"
   },
   {
    "duration": 18,
    "start_time": "2023-05-06T11:39:58.360Z"
   },
   {
    "duration": 26,
    "start_time": "2023-05-06T11:39:58.380Z"
   },
   {
    "duration": 28,
    "start_time": "2023-05-06T11:39:58.407Z"
   },
   {
    "duration": 16,
    "start_time": "2023-05-06T11:39:58.437Z"
   },
   {
    "duration": 28,
    "start_time": "2023-05-06T11:39:58.455Z"
   },
   {
    "duration": 20,
    "start_time": "2023-05-06T11:39:58.485Z"
   },
   {
    "duration": 24063,
    "start_time": "2023-05-06T11:39:58.507Z"
   },
   {
    "duration": 11,
    "start_time": "2023-05-06T11:40:22.571Z"
   },
   {
    "duration": 11,
    "start_time": "2023-05-06T11:40:22.592Z"
   },
   {
    "duration": 10,
    "start_time": "2023-05-06T11:40:22.605Z"
   },
   {
    "duration": 4,
    "start_time": "2023-05-06T11:40:22.616Z"
   },
   {
    "duration": 8,
    "start_time": "2023-05-06T11:40:22.621Z"
   },
   {
    "duration": 22481,
    "start_time": "2023-05-06T11:40:22.631Z"
   },
   {
    "duration": 10,
    "start_time": "2023-05-06T11:40:45.113Z"
   },
   {
    "duration": 12,
    "start_time": "2023-05-06T11:40:45.124Z"
   },
   {
    "duration": 8,
    "start_time": "2023-05-06T11:40:45.138Z"
   },
   {
    "duration": 14,
    "start_time": "2023-05-06T11:40:45.147Z"
   },
   {
    "duration": 35,
    "start_time": "2023-05-06T11:40:45.162Z"
   },
   {
    "duration": 17,
    "start_time": "2023-05-06T11:40:45.198Z"
   },
   {
    "duration": 2,
    "start_time": "2023-05-06T11:40:45.216Z"
   },
   {
    "duration": 6,
    "start_time": "2023-05-06T11:40:45.219Z"
   },
   {
    "duration": 4,
    "start_time": "2023-05-06T11:40:45.226Z"
   },
   {
    "duration": 615,
    "start_time": "2023-05-06T11:41:57.542Z"
   },
   {
    "duration": 1210,
    "start_time": "2023-05-06T11:42:15.768Z"
   },
   {
    "duration": 28,
    "start_time": "2023-05-06T11:42:16.981Z"
   },
   {
    "duration": 398,
    "start_time": "2023-05-06T11:42:17.011Z"
   },
   {
    "duration": 8,
    "start_time": "2023-05-06T11:42:17.412Z"
   },
   {
    "duration": 64,
    "start_time": "2023-05-06T11:42:17.422Z"
   },
   {
    "duration": 13,
    "start_time": "2023-05-06T11:42:17.488Z"
   },
   {
    "duration": 13,
    "start_time": "2023-05-06T11:42:17.503Z"
   },
   {
    "duration": 6,
    "start_time": "2023-05-06T11:42:17.518Z"
   },
   {
    "duration": 17,
    "start_time": "2023-05-06T11:42:17.526Z"
   },
   {
    "duration": 5,
    "start_time": "2023-05-06T11:42:17.546Z"
   },
   {
    "duration": 395,
    "start_time": "2023-05-06T11:42:17.553Z"
   },
   {
    "duration": 2,
    "start_time": "2023-05-06T11:42:17.950Z"
   },
   {
    "duration": 6,
    "start_time": "2023-05-06T11:42:17.954Z"
   },
   {
    "duration": 5,
    "start_time": "2023-05-06T11:42:17.961Z"
   },
   {
    "duration": 110,
    "start_time": "2023-05-06T11:42:17.967Z"
   },
   {
    "duration": 2,
    "start_time": "2023-05-06T11:42:18.079Z"
   },
   {
    "duration": 10,
    "start_time": "2023-05-06T11:42:18.082Z"
   },
   {
    "duration": 4,
    "start_time": "2023-05-06T11:42:18.094Z"
   },
   {
    "duration": 5,
    "start_time": "2023-05-06T11:42:18.099Z"
   },
   {
    "duration": 9,
    "start_time": "2023-05-06T11:42:18.105Z"
   },
   {
    "duration": 1061,
    "start_time": "2023-05-06T11:42:18.116Z"
   },
   {
    "duration": 350,
    "start_time": "2023-05-06T11:42:19.179Z"
   },
   {
    "duration": 331,
    "start_time": "2023-05-06T11:42:19.531Z"
   },
   {
    "duration": 398,
    "start_time": "2023-05-06T11:42:19.864Z"
   },
   {
    "duration": 337,
    "start_time": "2023-05-06T11:42:20.264Z"
   },
   {
    "duration": 311,
    "start_time": "2023-05-06T11:42:20.602Z"
   },
   {
    "duration": 3,
    "start_time": "2023-05-06T11:42:20.915Z"
   },
   {
    "duration": 59,
    "start_time": "2023-05-06T11:42:20.924Z"
   },
   {
    "duration": 6,
    "start_time": "2023-05-06T11:42:20.985Z"
   },
   {
    "duration": 34,
    "start_time": "2023-05-06T11:42:20.992Z"
   },
   {
    "duration": 61,
    "start_time": "2023-05-06T11:42:21.028Z"
   },
   {
    "duration": 9,
    "start_time": "2023-05-06T11:42:21.091Z"
   },
   {
    "duration": 42,
    "start_time": "2023-05-06T11:42:21.102Z"
   },
   {
    "duration": 15,
    "start_time": "2023-05-06T11:42:21.146Z"
   },
   {
    "duration": 18,
    "start_time": "2023-05-06T11:42:21.162Z"
   },
   {
    "duration": 26,
    "start_time": "2023-05-06T11:42:21.182Z"
   },
   {
    "duration": 24346,
    "start_time": "2023-05-06T11:42:21.209Z"
   },
   {
    "duration": 12,
    "start_time": "2023-05-06T11:42:45.557Z"
   },
   {
    "duration": 34,
    "start_time": "2023-05-06T11:42:45.570Z"
   },
   {
    "duration": 12,
    "start_time": "2023-05-06T11:42:45.606Z"
   },
   {
    "duration": 2,
    "start_time": "2023-05-06T11:42:45.620Z"
   },
   {
    "duration": 5,
    "start_time": "2023-05-06T11:42:45.624Z"
   },
   {
    "duration": 22587,
    "start_time": "2023-05-06T11:42:45.631Z"
   },
   {
    "duration": 13,
    "start_time": "2023-05-06T11:43:08.220Z"
   },
   {
    "duration": 12,
    "start_time": "2023-05-06T11:43:08.235Z"
   },
   {
    "duration": 11,
    "start_time": "2023-05-06T11:43:08.249Z"
   },
   {
    "duration": 34,
    "start_time": "2023-05-06T11:43:08.262Z"
   },
   {
    "duration": 9,
    "start_time": "2023-05-06T11:43:08.298Z"
   },
   {
    "duration": 23,
    "start_time": "2023-05-06T11:43:08.309Z"
   },
   {
    "duration": 2,
    "start_time": "2023-05-06T11:43:08.334Z"
   },
   {
    "duration": 8,
    "start_time": "2023-05-06T11:43:08.338Z"
   },
   {
    "duration": 6,
    "start_time": "2023-05-06T11:43:08.348Z"
   },
   {
    "duration": 1250,
    "start_time": "2023-05-06T11:44:06.767Z"
   },
   {
    "duration": 22,
    "start_time": "2023-05-06T11:44:08.019Z"
   },
   {
    "duration": 425,
    "start_time": "2023-05-06T11:44:08.043Z"
   },
   {
    "duration": 8,
    "start_time": "2023-05-06T11:44:08.471Z"
   },
   {
    "duration": 53,
    "start_time": "2023-05-06T11:44:08.481Z"
   },
   {
    "duration": 12,
    "start_time": "2023-05-06T11:44:08.536Z"
   },
   {
    "duration": 7,
    "start_time": "2023-05-06T11:44:08.549Z"
   },
   {
    "duration": 4,
    "start_time": "2023-05-06T11:44:08.558Z"
   },
   {
    "duration": 29,
    "start_time": "2023-05-06T11:44:08.564Z"
   },
   {
    "duration": 4,
    "start_time": "2023-05-06T11:44:08.597Z"
   },
   {
    "duration": 478,
    "start_time": "2023-05-06T11:44:08.603Z"
   },
   {
    "duration": 3,
    "start_time": "2023-05-06T11:44:09.083Z"
   },
   {
    "duration": 4,
    "start_time": "2023-05-06T11:44:09.088Z"
   },
   {
    "duration": 5,
    "start_time": "2023-05-06T11:44:09.094Z"
   },
   {
    "duration": 126,
    "start_time": "2023-05-06T11:44:09.100Z"
   },
   {
    "duration": 2,
    "start_time": "2023-05-06T11:44:09.228Z"
   },
   {
    "duration": 7,
    "start_time": "2023-05-06T11:44:09.231Z"
   },
   {
    "duration": 9,
    "start_time": "2023-05-06T11:44:09.240Z"
   },
   {
    "duration": 6,
    "start_time": "2023-05-06T11:44:09.250Z"
   },
   {
    "duration": 8,
    "start_time": "2023-05-06T11:44:09.258Z"
   },
   {
    "duration": 1094,
    "start_time": "2023-05-06T11:44:09.268Z"
   },
   {
    "duration": 347,
    "start_time": "2023-05-06T11:44:10.364Z"
   },
   {
    "duration": 327,
    "start_time": "2023-05-06T11:44:10.712Z"
   },
   {
    "duration": 395,
    "start_time": "2023-05-06T11:44:11.040Z"
   },
   {
    "duration": 300,
    "start_time": "2023-05-06T11:44:11.436Z"
   },
   {
    "duration": 291,
    "start_time": "2023-05-06T11:44:11.738Z"
   },
   {
    "duration": 3,
    "start_time": "2023-05-06T11:44:12.030Z"
   },
   {
    "duration": 28,
    "start_time": "2023-05-06T11:44:12.036Z"
   },
   {
    "duration": 6,
    "start_time": "2023-05-06T11:44:12.066Z"
   },
   {
    "duration": 20,
    "start_time": "2023-05-06T11:44:12.073Z"
   },
   {
    "duration": 11,
    "start_time": "2023-05-06T11:44:12.094Z"
   },
   {
    "duration": 4,
    "start_time": "2023-05-06T11:44:12.106Z"
   },
   {
    "duration": 16,
    "start_time": "2023-05-06T11:44:12.112Z"
   },
   {
    "duration": 5,
    "start_time": "2023-05-06T11:44:12.130Z"
   },
   {
    "duration": 14,
    "start_time": "2023-05-06T11:44:12.137Z"
   },
   {
    "duration": 54,
    "start_time": "2023-05-06T11:44:12.152Z"
   },
   {
    "duration": 23973,
    "start_time": "2023-05-06T11:44:12.208Z"
   },
   {
    "duration": 18,
    "start_time": "2023-05-06T11:44:36.182Z"
   },
   {
    "duration": 20,
    "start_time": "2023-05-06T11:44:36.201Z"
   },
   {
    "duration": 11,
    "start_time": "2023-05-06T11:44:36.223Z"
   },
   {
    "duration": 7,
    "start_time": "2023-05-06T11:44:36.235Z"
   },
   {
    "duration": 3,
    "start_time": "2023-05-06T11:44:36.244Z"
   },
   {
    "duration": 22574,
    "start_time": "2023-05-06T11:44:36.249Z"
   },
   {
    "duration": 11,
    "start_time": "2023-05-06T11:44:58.825Z"
   },
   {
    "duration": 13,
    "start_time": "2023-05-06T11:44:58.838Z"
   },
   {
    "duration": 22,
    "start_time": "2023-05-06T11:44:58.853Z"
   },
   {
    "duration": 19,
    "start_time": "2023-05-06T11:44:58.876Z"
   },
   {
    "duration": 13,
    "start_time": "2023-05-06T11:44:58.896Z"
   },
   {
    "duration": 22,
    "start_time": "2023-05-06T11:44:58.912Z"
   },
   {
    "duration": 11,
    "start_time": "2023-05-06T11:44:58.936Z"
   },
   {
    "duration": 8,
    "start_time": "2023-05-06T11:44:58.948Z"
   },
   {
    "duration": 9,
    "start_time": "2023-05-06T11:44:58.957Z"
   },
   {
    "duration": 138,
    "start_time": "2023-05-06T19:26:26.564Z"
   },
   {
    "duration": 1353,
    "start_time": "2023-05-06T19:26:31.884Z"
   },
   {
    "duration": 24,
    "start_time": "2023-05-06T19:26:33.239Z"
   },
   {
    "duration": 419,
    "start_time": "2023-05-06T19:26:33.266Z"
   },
   {
    "duration": 7,
    "start_time": "2023-05-06T19:26:33.687Z"
   },
   {
    "duration": 307,
    "start_time": "2023-05-06T19:26:33.695Z"
   },
   {
    "duration": 14,
    "start_time": "2023-05-06T19:26:34.003Z"
   },
   {
    "duration": 8,
    "start_time": "2023-05-06T19:26:34.019Z"
   },
   {
    "duration": 5,
    "start_time": "2023-05-06T19:26:34.029Z"
   },
   {
    "duration": 18,
    "start_time": "2023-05-06T19:26:34.036Z"
   },
   {
    "duration": 4,
    "start_time": "2023-05-06T19:26:34.058Z"
   },
   {
    "duration": 439,
    "start_time": "2023-05-06T19:26:34.094Z"
   },
   {
    "duration": 2,
    "start_time": "2023-05-06T19:26:34.535Z"
   },
   {
    "duration": 7,
    "start_time": "2023-05-06T19:26:34.539Z"
   },
   {
    "duration": 4,
    "start_time": "2023-05-06T19:26:34.548Z"
   },
   {
    "duration": 108,
    "start_time": "2023-05-06T19:26:34.554Z"
   },
   {
    "duration": 3,
    "start_time": "2023-05-06T19:26:34.663Z"
   },
   {
    "duration": 12,
    "start_time": "2023-05-06T19:26:34.667Z"
   },
   {
    "duration": 13,
    "start_time": "2023-05-06T19:26:34.681Z"
   },
   {
    "duration": 7,
    "start_time": "2023-05-06T19:26:34.696Z"
   },
   {
    "duration": 8,
    "start_time": "2023-05-06T19:26:34.704Z"
   },
   {
    "duration": 1141,
    "start_time": "2023-05-06T19:26:34.713Z"
   },
   {
    "duration": 351,
    "start_time": "2023-05-06T19:26:35.856Z"
   },
   {
    "duration": 308,
    "start_time": "2023-05-06T19:26:36.209Z"
   },
   {
    "duration": 389,
    "start_time": "2023-05-06T19:26:36.519Z"
   },
   {
    "duration": 300,
    "start_time": "2023-05-06T19:26:36.910Z"
   },
   {
    "duration": 297,
    "start_time": "2023-05-06T19:26:37.211Z"
   },
   {
    "duration": 3,
    "start_time": "2023-05-06T19:26:37.510Z"
   },
   {
    "duration": 27,
    "start_time": "2023-05-06T19:26:37.516Z"
   },
   {
    "duration": 5,
    "start_time": "2023-05-06T19:26:37.545Z"
   },
   {
    "duration": 6,
    "start_time": "2023-05-06T19:26:37.551Z"
   },
   {
    "duration": 40,
    "start_time": "2023-05-06T19:26:37.558Z"
   },
   {
    "duration": 2,
    "start_time": "2023-05-06T19:26:37.600Z"
   },
   {
    "duration": 14,
    "start_time": "2023-05-06T19:26:37.604Z"
   },
   {
    "duration": 5,
    "start_time": "2023-05-06T19:26:37.619Z"
   },
   {
    "duration": 22,
    "start_time": "2023-05-06T19:26:37.626Z"
   },
   {
    "duration": 104,
    "start_time": "2023-05-06T19:26:37.695Z"
   },
   {
    "duration": 190,
    "start_time": "2023-05-06T19:26:37.801Z"
   },
   {
    "duration": 11,
    "start_time": "2023-05-06T19:26:37.993Z"
   },
   {
    "duration": 0,
    "start_time": "2023-05-06T19:26:38.005Z"
   },
   {
    "duration": 0,
    "start_time": "2023-05-06T19:26:38.007Z"
   },
   {
    "duration": 0,
    "start_time": "2023-05-06T19:26:38.008Z"
   },
   {
    "duration": 0,
    "start_time": "2023-05-06T19:26:38.009Z"
   },
   {
    "duration": 0,
    "start_time": "2023-05-06T19:26:38.011Z"
   },
   {
    "duration": 0,
    "start_time": "2023-05-06T19:26:38.012Z"
   },
   {
    "duration": 0,
    "start_time": "2023-05-06T19:26:38.013Z"
   },
   {
    "duration": 0,
    "start_time": "2023-05-06T19:26:38.014Z"
   },
   {
    "duration": 0,
    "start_time": "2023-05-06T19:26:38.016Z"
   },
   {
    "duration": 0,
    "start_time": "2023-05-06T19:26:38.017Z"
   },
   {
    "duration": 0,
    "start_time": "2023-05-06T19:26:38.019Z"
   },
   {
    "duration": 0,
    "start_time": "2023-05-06T19:26:38.020Z"
   },
   {
    "duration": 0,
    "start_time": "2023-05-06T19:26:38.021Z"
   },
   {
    "duration": 0,
    "start_time": "2023-05-06T19:26:38.022Z"
   },
   {
    "duration": 1115,
    "start_time": "2023-05-06T19:27:12.187Z"
   },
   {
    "duration": 20,
    "start_time": "2023-05-06T19:27:13.304Z"
   },
   {
    "duration": 350,
    "start_time": "2023-05-06T19:27:13.325Z"
   },
   {
    "duration": 6,
    "start_time": "2023-05-06T19:27:13.677Z"
   },
   {
    "duration": 49,
    "start_time": "2023-05-06T19:27:13.685Z"
   },
   {
    "duration": 8,
    "start_time": "2023-05-06T19:27:13.736Z"
   },
   {
    "duration": 6,
    "start_time": "2023-05-06T19:27:13.745Z"
   },
   {
    "duration": 12,
    "start_time": "2023-05-06T19:27:13.752Z"
   },
   {
    "duration": 15,
    "start_time": "2023-05-06T19:27:13.765Z"
   },
   {
    "duration": 3,
    "start_time": "2023-05-06T19:27:13.783Z"
   },
   {
    "duration": 372,
    "start_time": "2023-05-06T19:27:13.788Z"
   },
   {
    "duration": 3,
    "start_time": "2023-05-06T19:27:14.162Z"
   },
   {
    "duration": 6,
    "start_time": "2023-05-06T19:27:14.167Z"
   },
   {
    "duration": 9,
    "start_time": "2023-05-06T19:27:14.175Z"
   },
   {
    "duration": 128,
    "start_time": "2023-05-06T19:27:14.186Z"
   },
   {
    "duration": 1,
    "start_time": "2023-05-06T19:27:14.316Z"
   },
   {
    "duration": 4,
    "start_time": "2023-05-06T19:27:14.319Z"
   },
   {
    "duration": 4,
    "start_time": "2023-05-06T19:27:14.325Z"
   },
   {
    "duration": 6,
    "start_time": "2023-05-06T19:27:14.330Z"
   },
   {
    "duration": 9,
    "start_time": "2023-05-06T19:27:14.337Z"
   },
   {
    "duration": 1034,
    "start_time": "2023-05-06T19:27:14.347Z"
   },
   {
    "duration": 324,
    "start_time": "2023-05-06T19:27:15.382Z"
   },
   {
    "duration": 292,
    "start_time": "2023-05-06T19:27:15.708Z"
   },
   {
    "duration": 365,
    "start_time": "2023-05-06T19:27:16.002Z"
   },
   {
    "duration": 285,
    "start_time": "2023-05-06T19:27:16.368Z"
   },
   {
    "duration": 297,
    "start_time": "2023-05-06T19:27:16.654Z"
   },
   {
    "duration": 3,
    "start_time": "2023-05-06T19:27:16.952Z"
   },
   {
    "duration": 26,
    "start_time": "2023-05-06T19:27:16.958Z"
   },
   {
    "duration": 7,
    "start_time": "2023-05-06T19:27:16.995Z"
   },
   {
    "duration": 6,
    "start_time": "2023-05-06T19:27:17.003Z"
   },
   {
    "duration": 12,
    "start_time": "2023-05-06T19:27:17.010Z"
   },
   {
    "duration": 2,
    "start_time": "2023-05-06T19:27:17.024Z"
   },
   {
    "duration": 14,
    "start_time": "2023-05-06T19:27:17.027Z"
   },
   {
    "duration": 6,
    "start_time": "2023-05-06T19:27:17.043Z"
   },
   {
    "duration": 46,
    "start_time": "2023-05-06T19:27:17.050Z"
   },
   {
    "duration": 14,
    "start_time": "2023-05-06T19:27:17.098Z"
   },
   {
    "duration": 178,
    "start_time": "2023-05-06T19:27:17.193Z"
   },
   {
    "duration": 11,
    "start_time": "2023-05-06T19:27:17.372Z"
   },
   {
    "duration": 0,
    "start_time": "2023-05-06T19:27:17.384Z"
   },
   {
    "duration": 0,
    "start_time": "2023-05-06T19:27:17.385Z"
   },
   {
    "duration": 0,
    "start_time": "2023-05-06T19:27:17.386Z"
   },
   {
    "duration": 0,
    "start_time": "2023-05-06T19:27:17.387Z"
   },
   {
    "duration": 0,
    "start_time": "2023-05-06T19:27:17.388Z"
   },
   {
    "duration": 0,
    "start_time": "2023-05-06T19:27:17.389Z"
   },
   {
    "duration": 0,
    "start_time": "2023-05-06T19:27:17.390Z"
   },
   {
    "duration": 0,
    "start_time": "2023-05-06T19:27:17.391Z"
   },
   {
    "duration": 0,
    "start_time": "2023-05-06T19:27:17.392Z"
   },
   {
    "duration": 0,
    "start_time": "2023-05-06T19:27:17.393Z"
   },
   {
    "duration": 0,
    "start_time": "2023-05-06T19:27:17.394Z"
   },
   {
    "duration": 0,
    "start_time": "2023-05-06T19:27:17.395Z"
   },
   {
    "duration": 0,
    "start_time": "2023-05-06T19:27:17.396Z"
   },
   {
    "duration": 0,
    "start_time": "2023-05-06T19:27:17.397Z"
   },
   {
    "duration": 78,
    "start_time": "2023-05-06T19:27:43.813Z"
   },
   {
    "duration": 101,
    "start_time": "2023-05-06T19:27:59.957Z"
   },
   {
    "duration": 94,
    "start_time": "2023-05-06T19:28:25.220Z"
   },
   {
    "duration": 85,
    "start_time": "2023-05-06T19:28:31.019Z"
   },
   {
    "duration": 79,
    "start_time": "2023-05-06T19:28:36.787Z"
   },
   {
    "duration": 93,
    "start_time": "2023-05-06T19:29:03.362Z"
   },
   {
    "duration": 16400,
    "start_time": "2023-05-06T19:29:42.657Z"
   },
   {
    "duration": 16563,
    "start_time": "2023-05-06T19:31:39.308Z"
   },
   {
    "duration": 1164,
    "start_time": "2023-05-06T19:32:08.632Z"
   },
   {
    "duration": 22,
    "start_time": "2023-05-06T19:32:09.798Z"
   },
   {
    "duration": 386,
    "start_time": "2023-05-06T19:32:09.821Z"
   },
   {
    "duration": 7,
    "start_time": "2023-05-06T19:32:10.209Z"
   },
   {
    "duration": 56,
    "start_time": "2023-05-06T19:32:10.217Z"
   },
   {
    "duration": 13,
    "start_time": "2023-05-06T19:32:10.275Z"
   },
   {
    "duration": 16,
    "start_time": "2023-05-06T19:32:10.290Z"
   },
   {
    "duration": 6,
    "start_time": "2023-05-06T19:32:10.307Z"
   },
   {
    "duration": 37,
    "start_time": "2023-05-06T19:32:10.315Z"
   },
   {
    "duration": 4,
    "start_time": "2023-05-06T19:32:10.355Z"
   },
   {
    "duration": 396,
    "start_time": "2023-05-06T19:32:10.360Z"
   },
   {
    "duration": 2,
    "start_time": "2023-05-06T19:32:10.758Z"
   },
   {
    "duration": 4,
    "start_time": "2023-05-06T19:32:10.762Z"
   },
   {
    "duration": 8,
    "start_time": "2023-05-06T19:32:10.767Z"
   },
   {
    "duration": 113,
    "start_time": "2023-05-06T19:32:10.776Z"
   },
   {
    "duration": 5,
    "start_time": "2023-05-06T19:32:10.890Z"
   },
   {
    "duration": 4,
    "start_time": "2023-05-06T19:32:10.896Z"
   },
   {
    "duration": 7,
    "start_time": "2023-05-06T19:32:10.902Z"
   },
   {
    "duration": 5,
    "start_time": "2023-05-06T19:32:10.911Z"
   },
   {
    "duration": 7,
    "start_time": "2023-05-06T19:32:10.917Z"
   },
   {
    "duration": 1103,
    "start_time": "2023-05-06T19:32:10.926Z"
   },
   {
    "duration": 363,
    "start_time": "2023-05-06T19:32:12.031Z"
   },
   {
    "duration": 344,
    "start_time": "2023-05-06T19:32:12.396Z"
   },
   {
    "duration": 419,
    "start_time": "2023-05-06T19:32:12.741Z"
   },
   {
    "duration": 327,
    "start_time": "2023-05-06T19:32:13.162Z"
   },
   {
    "duration": 307,
    "start_time": "2023-05-06T19:32:13.494Z"
   },
   {
    "duration": 3,
    "start_time": "2023-05-06T19:32:13.803Z"
   },
   {
    "duration": 29,
    "start_time": "2023-05-06T19:32:13.809Z"
   },
   {
    "duration": 6,
    "start_time": "2023-05-06T19:32:13.839Z"
   },
   {
    "duration": 4,
    "start_time": "2023-05-06T19:32:13.847Z"
   },
   {
    "duration": 41,
    "start_time": "2023-05-06T19:32:13.853Z"
   },
   {
    "duration": 2,
    "start_time": "2023-05-06T19:32:13.896Z"
   },
   {
    "duration": 23,
    "start_time": "2023-05-06T19:32:13.899Z"
   },
   {
    "duration": 5,
    "start_time": "2023-05-06T19:32:13.924Z"
   },
   {
    "duration": 11,
    "start_time": "2023-05-06T19:32:13.931Z"
   },
   {
    "duration": 64,
    "start_time": "2023-05-06T19:32:13.945Z"
   },
   {
    "duration": 17151,
    "start_time": "2023-05-06T19:32:14.011Z"
   },
   {
    "duration": 18,
    "start_time": "2023-05-06T19:32:31.165Z"
   },
   {
    "duration": 32,
    "start_time": "2023-05-06T19:32:31.195Z"
   },
   {
    "duration": 29,
    "start_time": "2023-05-06T19:32:31.228Z"
   },
   {
    "duration": 21,
    "start_time": "2023-05-06T19:32:31.259Z"
   },
   {
    "duration": 30,
    "start_time": "2023-05-06T19:32:31.282Z"
   },
   {
    "duration": 20630,
    "start_time": "2023-05-06T19:32:31.313Z"
   },
   {
    "duration": 10,
    "start_time": "2023-05-06T19:32:51.944Z"
   },
   {
    "duration": 27,
    "start_time": "2023-05-06T19:32:51.955Z"
   },
   {
    "duration": 15,
    "start_time": "2023-05-06T19:32:51.983Z"
   },
   {
    "duration": 28,
    "start_time": "2023-05-06T19:32:52.000Z"
   },
   {
    "duration": 13,
    "start_time": "2023-05-06T19:32:52.029Z"
   },
   {
    "duration": 15,
    "start_time": "2023-05-06T19:32:52.043Z"
   },
   {
    "duration": 2,
    "start_time": "2023-05-06T19:32:52.060Z"
   },
   {
    "duration": 10,
    "start_time": "2023-05-06T19:32:52.063Z"
   },
   {
    "duration": 14,
    "start_time": "2023-05-06T19:32:52.074Z"
   },
   {
    "duration": 69,
    "start_time": "2023-05-06T19:35:34.078Z"
   },
   {
    "duration": 1398,
    "start_time": "2023-05-06T20:24:51.766Z"
   },
   {
    "duration": 34,
    "start_time": "2023-05-06T20:24:53.166Z"
   },
   {
    "duration": 2257,
    "start_time": "2023-05-06T20:24:53.202Z"
   },
   {
    "duration": 6,
    "start_time": "2023-05-06T20:24:55.461Z"
   },
   {
    "duration": 294,
    "start_time": "2023-05-06T20:24:55.468Z"
   },
   {
    "duration": 9,
    "start_time": "2023-05-06T20:24:55.764Z"
   },
   {
    "duration": 9,
    "start_time": "2023-05-06T20:24:55.775Z"
   },
   {
    "duration": 11,
    "start_time": "2023-05-06T20:24:55.786Z"
   },
   {
    "duration": 17,
    "start_time": "2023-05-06T20:24:55.798Z"
   },
   {
    "duration": 4,
    "start_time": "2023-05-06T20:24:55.818Z"
   },
   {
    "duration": 480,
    "start_time": "2023-05-06T20:24:55.824Z"
   },
   {
    "duration": 5,
    "start_time": "2023-05-06T20:24:56.306Z"
   },
   {
    "duration": 10,
    "start_time": "2023-05-06T20:24:56.312Z"
   },
   {
    "duration": 10,
    "start_time": "2023-05-06T20:24:56.323Z"
   },
   {
    "duration": 148,
    "start_time": "2023-05-06T20:24:56.335Z"
   },
   {
    "duration": 2,
    "start_time": "2023-05-06T20:24:56.485Z"
   },
   {
    "duration": 11,
    "start_time": "2023-05-06T20:24:56.489Z"
   },
   {
    "duration": 3,
    "start_time": "2023-05-06T20:24:56.501Z"
   },
   {
    "duration": 5,
    "start_time": "2023-05-06T20:24:56.505Z"
   },
   {
    "duration": 9,
    "start_time": "2023-05-06T20:24:56.512Z"
   },
   {
    "duration": 1881,
    "start_time": "2023-05-06T20:24:56.523Z"
   },
   {
    "duration": 1073,
    "start_time": "2023-05-06T20:24:58.407Z"
   },
   {
    "duration": 886,
    "start_time": "2023-05-06T20:24:59.482Z"
   },
   {
    "duration": 1297,
    "start_time": "2023-05-06T20:25:00.399Z"
   },
   {
    "duration": 1496,
    "start_time": "2023-05-06T20:25:01.702Z"
   },
   {
    "duration": 1353,
    "start_time": "2023-05-06T20:25:03.200Z"
   },
   {
    "duration": 4,
    "start_time": "2023-05-06T20:25:04.562Z"
   },
   {
    "duration": 102,
    "start_time": "2023-05-06T20:25:04.599Z"
   },
   {
    "duration": 13,
    "start_time": "2023-05-06T20:25:04.709Z"
   },
   {
    "duration": 71,
    "start_time": "2023-05-06T20:25:04.730Z"
   },
   {
    "duration": 42,
    "start_time": "2023-05-06T20:25:04.818Z"
   },
   {
    "duration": 31,
    "start_time": "2023-05-06T20:25:04.865Z"
   },
   {
    "duration": 120,
    "start_time": "2023-05-06T20:25:04.900Z"
   },
   {
    "duration": 11,
    "start_time": "2023-05-06T20:25:05.022Z"
   },
   {
    "duration": 147,
    "start_time": "2023-05-06T20:25:05.051Z"
   },
   {
    "duration": 109,
    "start_time": "2023-05-06T20:25:05.208Z"
   },
   {
    "duration": 28090,
    "start_time": "2023-05-06T20:25:05.319Z"
   },
   {
    "duration": 45,
    "start_time": "2023-05-06T20:25:33.412Z"
   },
   {
    "duration": 45,
    "start_time": "2023-05-06T20:25:33.461Z"
   },
   {
    "duration": 26,
    "start_time": "2023-05-06T20:25:33.508Z"
   },
   {
    "duration": 6,
    "start_time": "2023-05-06T20:25:33.536Z"
   },
   {
    "duration": 10,
    "start_time": "2023-05-06T20:25:33.544Z"
   },
   {
    "duration": 39410,
    "start_time": "2023-05-06T20:25:33.557Z"
   },
   {
    "duration": 12,
    "start_time": "2023-05-06T20:26:12.969Z"
   },
   {
    "duration": 30,
    "start_time": "2023-05-06T20:26:12.983Z"
   },
   {
    "duration": 17,
    "start_time": "2023-05-06T20:26:13.015Z"
   },
   {
    "duration": 24,
    "start_time": "2023-05-06T20:26:13.035Z"
   },
   {
    "duration": 14,
    "start_time": "2023-05-06T20:26:13.064Z"
   },
   {
    "duration": 24,
    "start_time": "2023-05-06T20:26:13.079Z"
   },
   {
    "duration": 6,
    "start_time": "2023-05-06T20:26:13.108Z"
   },
   {
    "duration": 13,
    "start_time": "2023-05-06T20:26:13.116Z"
   },
   {
    "duration": 11,
    "start_time": "2023-05-06T20:26:13.134Z"
   }
  ],
  "kernelspec": {
   "display_name": "Python 3 (ipykernel)",
   "language": "python",
   "name": "python3"
  },
  "language_info": {
   "codemirror_mode": {
    "name": "ipython",
    "version": 3
   },
   "file_extension": ".py",
   "mimetype": "text/x-python",
   "name": "python",
   "nbconvert_exporter": "python",
   "pygments_lexer": "ipython3",
   "version": "3.9.5"
  },
  "toc": {
   "base_numbering": 1,
   "nav_menu": {},
   "number_sections": true,
   "sideBar": true,
   "skip_h1_title": true,
   "title_cell": "Содержание",
   "title_sidebar": "Contents",
   "toc_cell": true,
   "toc_position": {
    "height": "calc(100% - 180px)",
    "left": "10px",
    "top": "150px",
    "width": "280.797px"
   },
   "toc_section_display": true,
   "toc_window_display": true
  }
 },
 "nbformat": 4,
 "nbformat_minor": 2
}
